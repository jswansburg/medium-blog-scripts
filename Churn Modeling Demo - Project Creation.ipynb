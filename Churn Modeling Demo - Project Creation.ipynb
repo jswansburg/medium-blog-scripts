{
 "cells": [
  {
   "cell_type": "code",
   "execution_count": 386,
   "id": "72941d97",
   "metadata": {},
   "outputs": [],
   "source": [
    "import datarobot as dr\n",
    "import pandas as pd\n",
    "import numpy as np\n",
    "from datetime import datetime"
   ]
  },
  {
   "cell_type": "code",
   "execution_count": 387,
   "id": "4298a091",
   "metadata": {},
   "outputs": [
    {
     "data": {
      "text/plain": [
       "<datarobot.rest.RESTClientObject at 0x11f5fea90>"
      ]
     },
     "execution_count": 387,
     "metadata": {},
     "output_type": "execute_result"
    }
   ],
   "source": [
    "dr.Client()"
   ]
  },
  {
   "cell_type": "code",
   "execution_count": 411,
   "id": "327a237d",
   "metadata": {},
   "outputs": [],
   "source": [
    "training = pd.read_csv('Customer Churn - Primary Table.csv')\n",
    "training_copy = pd.read_csv('Secondary Churn.csv')\n",
    "reviews = pd.read_csv('Customer Reviews - Churn Demo.csv') \n",
    "usage = pd.read_csv('Product Usage - Churn Demo.csv')"
   ]
  },
  {
   "cell_type": "markdown",
   "id": "5915be3c",
   "metadata": {},
   "source": [
    "## Load datasets to DataRobot's AI Catalog"
   ]
  },
  {
   "cell_type": "code",
   "execution_count": 412,
   "id": "7dfb581a",
   "metadata": {},
   "outputs": [],
   "source": [
    "today = datetime.now().date()\n",
    "\n",
    "#primary\n",
    "primary = dr.Dataset.create_from_in_memory_data(training)\n",
    "primary.modify(name=f'Customers - Primary Churn Dataset - {today}')\n",
    "\n",
    "#copy of primary for a self join\n",
    "primary_copy = dr.Dataset.create_from_in_memory_data(training_copy)\n",
    "primary_copy.modify(name=f'Customers - Self Join Dataset - {today}')\n",
    "\n",
    "#secondary\n",
    "secondary = dr.Dataset.create_from_in_memory_data(usage)\n",
    "secondary.modify(name=f'Product Usage - {today}')\n",
    "\n",
    "#tertiary\n",
    "tertiary = dr.Dataset.create_from_in_memory_data(reviews)\n",
    "tertiary.modify(name=f'Customer Reviews - {today}')"
   ]
  },
  {
   "cell_type": "markdown",
   "id": "8f393551",
   "metadata": {},
   "source": [
    "## Set up environment vars"
   ]
  },
  {
   "cell_type": "code",
   "execution_count": 413,
   "id": "28fd2d12",
   "metadata": {},
   "outputs": [],
   "source": [
    "target = 'Churn'\n",
    "series_id = 'Customer_Name'\n",
    "date_col = 'Prediction_Point'"
   ]
  },
  {
   "cell_type": "markdown",
   "id": "e4dab90a",
   "metadata": {},
   "source": [
    "## Create our project"
   ]
  },
  {
   "cell_type": "code",
   "execution_count": 414,
   "id": "1f5f9cc5",
   "metadata": {},
   "outputs": [],
   "source": [
    "project_name = f'Customer Churn with AFE - {today}'\n",
    "project = dr.Project.create_from_dataset(\n",
    "    primary.id, \n",
    "    project_name=project_name,\n",
    ")\n",
    "project.get_uri()"
   ]
  },
  {
   "cell_type": "markdown",
   "id": "879f74e9",
   "metadata": {},
   "source": [
    "## Create featurelists for each of our datasets"
   ]
  },
  {
   "cell_type": "code",
   "execution_count": 415,
   "id": "a2ceef7e",
   "metadata": {},
   "outputs": [],
   "source": [
    "primary_features = [\n",
    "    f.name for f in primary_copy.get_all_features() if f.name not in [series_id, date_col]\n",
    "]\n",
    "primary_featurelist = primary_copy.create_featurelist(\n",
    "    name='v1',\n",
    "    features=primary_features,\n",
    ")\n",
    "\n",
    "secondary_features = [\n",
    "    f.name for f in secondary.get_all_features() if f.name not in [series_id]\n",
    "]\n",
    "secondary_featurelist = secondary.create_featurelist(\n",
    "    name='v1',\n",
    "    features=secondary_features,\n",
    ")\n",
    "\n",
    "tertiary_features = [\n",
    "    f.name for f in tertiary.get_all_features() if f.name not in [series_id,'Renewal_Date']\n",
    "]\n",
    "tertiary_featurelist = tertiary.create_featurelist(\n",
    "    name='v1',\n",
    "    features=tertiary_features,\n",
    ")"
   ]
  },
  {
   "cell_type": "code",
   "execution_count": 416,
   "id": "e28e87b1",
   "metadata": {},
   "outputs": [],
   "source": [
    "primary_dataset_definition = dr.DatasetDefinition(\n",
    "    identifier='Customers',\n",
    "    catalog_id=primary_copy.id,\n",
    "    catalog_version_id=primary_copy.version_id,\n",
    "    primary_temporal_key=date_col,\n",
    "    feature_list_id=primary_featurelist.id,\n",
    ")\n",
    "\n",
    "secondary_dataset_definition = dr.DatasetDefinition(\n",
    "    identifier='Product_Usage',\n",
    "    catalog_id=secondary.id,\n",
    "    catalog_version_id=secondary.version_id,\n",
    "    primary_temporal_key='Activity_Timestamp',\n",
    "    feature_list_id=secondary_featurelist.id,\n",
    ")\n",
    "\n",
    "tertiary_dataset_definition = dr.DatasetDefinition(\n",
    "    identifier='CSAT',\n",
    "    catalog_id=tertiary.id,\n",
    "    catalog_version_id=tertiary.version_id,\n",
    "    primary_temporal_key='Renewal_Date',\n",
    "    feature_list_id=tertiary_featurelist.id,\n",
    ")"
   ]
  },
  {
   "cell_type": "markdown",
   "id": "334cc2f0",
   "metadata": {},
   "source": [
    "## Define the secondary and tertiary relationships to our primary dataset"
   ]
  },
  {
   "cell_type": "code",
   "execution_count": 417,
   "id": "251653e0",
   "metadata": {},
   "outputs": [],
   "source": [
    "primary_relationship = dr.Relationship(\n",
    "    dataset2_identifier='Customers',\n",
    "    dataset1_keys=[series_id],\n",
    "    dataset2_keys=[series_id],\n",
    "    feature_derivation_window_start=-5,\n",
    "    feature_derivation_window_end=0,\n",
    "    feature_derivation_window_time_unit='YEAR',\n",
    "    prediction_point_rounding=1,\n",
    "    prediction_point_rounding_time_unit='DAY',\n",
    ")\n",
    "\n",
    "secondary_relationship = dr.Relationship(\n",
    "    dataset2_identifier='CSAT',\n",
    "    dataset1_keys=[series_id],\n",
    "    dataset2_keys=[series_id],\n",
    "    feature_derivation_window_start=-270,\n",
    "    feature_derivation_window_end=0,\n",
    "    feature_derivation_window_time_unit='DAY',\n",
    "    prediction_point_rounding=1,\n",
    "    prediction_point_rounding_time_unit='DAY',\n",
    ")\n",
    "\n",
    "tertiary_relationship = dr.Relationship(\n",
    "    dataset2_identifier='Product_Usage',\n",
    "    dataset1_keys=[series_id],\n",
    "    dataset2_keys=[series_id],\n",
    "    feature_derivation_window_start=-180,\n",
    "    feature_derivation_window_end=0,\n",
    "    feature_derivation_window_time_unit='DAY',\n",
    "    prediction_point_rounding=1,\n",
    "    prediction_point_rounding_time_unit='DAY',\n",
    ")"
   ]
  },
  {
   "cell_type": "markdown",
   "id": "1168e6ec",
   "metadata": {},
   "source": [
    "## Set dataset definitions and relationships"
   ]
  },
  {
   "cell_type": "code",
   "execution_count": 418,
   "id": "07c213f7",
   "metadata": {},
   "outputs": [],
   "source": [
    "dataset_definitions = [\n",
    "    primary_dataset_definition, \n",
    "    secondary_dataset_definition,\n",
    "    tertiary_dataset_definition,\n",
    "]\n",
    "\n",
    "relationships = [\n",
    "    primary_relationship,\n",
    "    secondary_relationship,\n",
    "    tertiary_relationship,\n",
    "]"
   ]
  },
  {
   "cell_type": "markdown",
   "id": "261fa086",
   "metadata": {},
   "source": [
    "## Configure optional settings to control which types of features are explored and created"
   ]
  },
  {
   "cell_type": "code",
   "execution_count": 419,
   "id": "809955d4",
   "metadata": {},
   "outputs": [],
   "source": [
    "feature_discovery_settings = [\n",
    "    {'name': 'enable_token_counts', 'value': True},\n",
    "    {'name': 'enable_day', 'value': False},\n",
    "    {'name': 'enable_numeric_minimum', 'value': False},\n",
    "    {'name': 'enable_numeric_standard_deviation', 'value': False},\n",
    "    {'name': 'enable_numeric_maximum', 'value': False},\n",
    "    {'name': 'enable_word_count', 'value': False},\n",
    "    {'name': 'enable_latest_value', 'value': False},\n",
    "    {'name': 'enable_categorical_num_unique', 'value': True},\n",
    "    {'name': 'enable_hour', 'value': False},\n",
    "    {'name': 'enable_numeric_kurtosis', 'value': False},\n",
    "    {'name': 'enable_day_of_week', 'value': False},\n",
    "    {'name': 'enable_numeric_skewness', 'value': False},\n",
    "    {'name': 'enable_numeric_median', 'value': False},\n",
    "    {'name': 'enable_categorical_statistics', 'value': True},\n",
    "    {'name': 'enable_entropy', 'value': False},\n",
    "    {'name': 'enable_numeric_sum', 'value': False},\n",
    "    {'name': 'enable_latest_without_window', 'value': True}\n",
    "]"
   ]
  },
  {
   "cell_type": "markdown",
   "id": "c3c5525c",
   "metadata": {},
   "source": [
    "## Create a relationship configuration object to pass to our DataRobot project"
   ]
  },
  {
   "cell_type": "code",
   "execution_count": 420,
   "id": "a5835fc0",
   "metadata": {},
   "outputs": [],
   "source": [
    "relationship_config = dr.RelationshipsConfiguration.create(\n",
    "    dataset_definitions=dataset_definitions, \n",
    "    relationships=relationships,\n",
    "    feature_discovery_settings=feature_discovery_settings\n",
    ")"
   ]
  },
  {
   "cell_type": "markdown",
   "id": "47c524fb",
   "metadata": {},
   "source": [
    "## Create a partitioning specification object to pass to our DataRobot project"
   ]
  },
  {
   "cell_type": "code",
   "execution_count": 421,
   "id": "40f8b59d",
   "metadata": {},
   "outputs": [
    {
     "data": {
      "text/plain": [
       "<datarobot.helpers.partitioning_methods.DatetimePartitioning at 0x119d6c150>"
      ]
     },
     "execution_count": 421,
     "metadata": {},
     "output_type": "execute_result"
    }
   ],
   "source": [
    "partitioning_spec = dr.DatetimePartitioningSpecification(\n",
    "    datetime_partition_column='Prediction_Point',\n",
    "    disable_holdout=True,\n",
    "    number_of_backtests=3,\n",
    "    use_time_series=False,\n",
    ")\n",
    "\n",
    "project.set_datetime_partitioning(datetime_partition_spec=partitioning_spec)"
   ]
  },
  {
   "cell_type": "markdown",
   "id": "a3f3e4e0",
   "metadata": {},
   "source": [
    "## Create advanced options and kickoff a project"
   ]
  },
  {
   "cell_type": "code",
   "execution_count": 422,
   "id": "e81ad8a2",
   "metadata": {},
   "outputs": [],
   "source": [
    "advanced_options = dr.AdvancedOptions(\n",
    "    shap_only_mode=True,\n",
    "    primary_location_column='geometry',\n",
    ")"
   ]
  },
  {
   "cell_type": "code",
   "execution_count": 423,
   "id": "3442e1b6",
   "metadata": {},
   "outputs": [
    {
     "data": {
      "text/plain": [
       "Project(Customer Churn with AFE - 2023-04-01)"
      ]
     },
     "execution_count": 423,
     "metadata": {},
     "output_type": "execute_result"
    }
   ],
   "source": [
    "project.analyze_and_model(\n",
    "    target='Churn', \n",
    "    relationships_configuration_id=relationship_config.id, \n",
    "    mode='manual', \n",
    "    advanced_options=advanced_options,\n",
    ")"
   ]
  },
  {
   "cell_type": "markdown",
   "id": "d9d290e5",
   "metadata": {},
   "source": [
    "## Create a new featurelist and start Autopilot in quick mode"
   ]
  },
  {
   "cell_type": "code",
   "execution_count": 425,
   "id": "7b2b1033",
   "metadata": {},
   "outputs": [],
   "source": [
    "informative_features = [f for f in project.get_featurelists() if f.name=='Informative Features'][0]"
   ]
  },
  {
   "cell_type": "code",
   "execution_count": 426,
   "id": "0a5a3d51",
   "metadata": {},
   "outputs": [],
   "source": [
    "#drop some highly correlated features\n",
    "features_to_drop = [\n",
    "    series_id,\n",
    "    'Renewal_Date (Year)',\n",
    "    'Customer_Since_Date (Year)',\n",
    "    'Customer_Since_Date (Day of Week)',\n",
    "    'Customer_Since_Date (Month)',\n",
    "    'Prediction_Point (Day of Week)',\n",
    "    'Prediction_Point (Month)',\n",
    "    'Renewal_Date (Day of Week)',\n",
    "    'Prediction_Point',\n",
    "    'Product_Usage (days since previous event by Customer_Name) (1 month avg)',\n",
    "    'Product_Usage (days since previous event by Customer_Name) (1 month missing count)',\n",
    "    'Product_Usage (days since previous event by Customer_Name) (180 days avg)',\n",
    "    'Product_Usage (days since previous event by Customer_Name) (180 days missing count)',\n",
    "    'Prediction_Point (days from Product_Usage[Activity_Timestamp]) (180 days missing count)',\n",
    "    'Prediction_Point (days from Product_Usage[Activity_Timestamp]) (1 month missing count)',\n",
    "    'Prediction_Point (days from Product_Usage[Activity_Timestamp]) (1 month avg)',\n",
    "    'CSAT (270 days count)',\n",
    "    'CSAT[Net_Promoter_Score] (270 days missing count)',\n",
    "    'CSAT[Net_Promoter_Score] (270 days avg)',\n",
    "    'Customers[ARR] (5 years missing count)',\n",
    "    'Customers (5 years count)',\n",
    "    'Customers[Contract_Duration] (5 years avg)',\n",
    "]"
   ]
  },
  {
   "cell_type": "code",
   "execution_count": 427,
   "id": "14724967",
   "metadata": {},
   "outputs": [],
   "source": [
    "new_features = [f for f in informative_features.features if f not in features_to_drop]"
   ]
  },
  {
   "cell_type": "code",
   "execution_count": 428,
   "id": "e2231d93",
   "metadata": {},
   "outputs": [],
   "source": [
    "v1 = project.create_featurelist(\n",
    "    name='v1',\n",
    "    features=new_features,\n",
    ")"
   ]
  },
  {
   "cell_type": "code",
   "execution_count": 429,
   "id": "db3df1e4",
   "metadata": {},
   "outputs": [],
   "source": [
    "project.start_autopilot(\n",
    "    featurelist_id = v1.id,\n",
    "    mode='quick',\n",
    "    blend_best_models=False,\n",
    ")"
   ]
  },
  {
   "cell_type": "code",
   "execution_count": 435,
   "id": "b946fb7b",
   "metadata": {},
   "outputs": [],
   "source": [
    "project.wait_for_autopilot(verbosity=dr.VERBOSITY_LEVEL.SILENT)"
   ]
  },
  {
   "cell_type": "code",
   "execution_count": 431,
   "id": "be73cfd0",
   "metadata": {},
   "outputs": [],
   "source": [
    "top_model = project.get_datetime_models()[0]"
   ]
  },
  {
   "cell_type": "markdown",
   "id": "8546b6e5",
   "metadata": {},
   "source": [
    "## Trigger the feature impact and feature effects calculations"
   ]
  },
  {
   "cell_type": "code",
   "execution_count": 432,
   "id": "0eeded28",
   "metadata": {},
   "outputs": [],
   "source": [
    "shap_impact_job = dr.ShapImpact.create(project_id=project.id, model_id=top_model.id)\n",
    "shap_impact = shap_impact_job.get_result_when_complete()"
   ]
  },
  {
   "cell_type": "code",
   "execution_count": 433,
   "id": "3b072bb1",
   "metadata": {},
   "outputs": [
    {
     "data": {
      "text/plain": [
       "Job(featureEffects, status=inprogress)"
      ]
     },
     "execution_count": 433,
     "metadata": {},
     "output_type": "execute_result"
    }
   ],
   "source": [
    "top_model.request_feature_effect(backtest_index=\"startstop\")"
   ]
  }
 ],
 "metadata": {
  "kernelspec": {
   "display_name": "churn",
   "language": "python",
   "name": "churn"
  },
  "language_info": {
   "codemirror_mode": {
    "name": "ipython",
    "version": 3
   },
   "file_extension": ".py",
   "mimetype": "text/x-python",
   "name": "python",
   "nbconvert_exporter": "python",
   "pygments_lexer": "ipython3",
   "version": "3.11.2"
  }
 },
 "nbformat": 4,
 "nbformat_minor": 5
}
