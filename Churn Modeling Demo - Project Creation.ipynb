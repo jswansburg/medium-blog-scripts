{
 "cells": [
  {
   "cell_type": "code",
   "execution_count": 6,
   "id": "9ceedc9d",
   "metadata": {},
   "outputs": [],
   "source": [
    "import datarobot as dr\n",
    "import pandas as pd\n",
    "import numpy as np\n",
    "from datetime import datetime"
   ]
  },
  {
   "cell_type": "code",
   "execution_count": 2,
   "id": "90dfce32",
   "metadata": {},
   "outputs": [
    {
     "data": {
      "text/plain": [
       "<datarobot.rest.RESTClientObject at 0x113ff7ed0>"
      ]
     },
     "execution_count": 2,
     "metadata": {},
     "output_type": "execute_result"
    }
   ],
   "source": [
    "dr.Client()"
   ]
  },
  {
   "cell_type": "code",
   "execution_count": 52,
   "id": "b927dc79",
   "metadata": {},
   "outputs": [],
   "source": [
    "training = pd.read_csv('Customer Churn - Primary Table.csv')\n",
    "training_copy = pd.read_csv('Secondary Churn.csv')\n",
    "reviews = pd.read_csv('Customer Reviews - Churn Demo.csv') \n",
    "usage = pd.read_csv('Product Usage - Churn Demo.csv')"
   ]
  },
  {
   "cell_type": "markdown",
   "id": "e6409857",
   "metadata": {},
   "source": [
    "## Load datasets to DataRobot's AI Catalog"
   ]
  },
  {
   "cell_type": "code",
   "execution_count": 53,
   "id": "7e7bd366",
   "metadata": {},
   "outputs": [],
   "source": [
    "today = datetime.now().date()\n",
    "\n",
    "#primary\n",
    "primary = dr.Dataset.create_from_in_memory_data(training)\n",
    "primary.modify(name=f'Customers - Primary Churn Dataset - {today}')\n",
    "\n",
    "#copy of primary for a self join\n",
    "primary_copy = dr.Dataset.create_from_in_memory_data(training_copy)\n",
    "primary_copy.modify(name=f'Customers - Self Join Dataset - {today}')\n",
    "\n",
    "#secondary\n",
    "secondary = dr.Dataset.create_from_in_memory_data(usage)\n",
    "secondary.modify(name=f'Product Usage - {today}')\n",
    "\n",
    "#tertiary\n",
    "tertiary = dr.Dataset.create_from_in_memory_data(reviews)\n",
    "tertiary.modify(name=f'Customer Reviews - {today}')"
   ]
  },
  {
   "cell_type": "markdown",
   "id": "2cdfc5b2",
   "metadata": {},
   "source": [
    "## Set up environment vars"
   ]
  },
  {
   "cell_type": "code",
   "execution_count": 54,
   "id": "b3270299",
   "metadata": {},
   "outputs": [],
   "source": [
    "target = 'Churn'\n",
    "series_id = 'Customer_Name'\n",
    "date_col = 'Prediction_Point'"
   ]
  },
  {
   "cell_type": "markdown",
   "id": "272fb272",
   "metadata": {},
   "source": [
    "## Create our project"
   ]
  },
  {
   "cell_type": "code",
   "execution_count": 55,
   "id": "278224f3",
   "metadata": {},
   "outputs": [],
   "source": [
    "project_name = f'Customer Churn with AFE - {today}'\n",
    "project = dr.Project.create_from_dataset(\n",
    "    primary.id, \n",
    "    project_name=project_name,\n",
    ")"
   ]
  },
  {
   "cell_type": "code",
   "execution_count": 56,
   "id": "926524dd",
   "metadata": {},
   "outputs": [],
   "source": [
    "# primary_copy_catalog_id = primary_copy.id\n",
    "# primary_copy_catalog_version_id = primary_copy.version_id\n",
    "\n",
    "# secondary_id = secondary.id\n",
    "# secondary_version_id = secondary.version_id\n",
    "\n",
    "# tertiary_id = tertiary.id\n",
    "# tertiary_version_id = tertiary.version_id"
   ]
  },
  {
   "cell_type": "markdown",
   "id": "82bb017a",
   "metadata": {},
   "source": [
    "## Create featurelists for each of our datasets"
   ]
  },
  {
   "cell_type": "code",
   "execution_count": 57,
   "id": "c1cba378",
   "metadata": {},
   "outputs": [],
   "source": [
    "primary_features = [\n",
    "    f.name for f in primary_copy.get_all_features() if f.name not in [series_id, date_col]\n",
    "]\n",
    "primary_featurelist = primary_copy.create_featurelist(\n",
    "    name='v1',\n",
    "    features=primary_features,\n",
    ")\n",
    "\n",
    "secondary_features = [\n",
    "    f.name for f in secondary.get_all_features() if f.name not in [series_id]\n",
    "]\n",
    "secondary_featurelist = secondary.create_featurelist(\n",
    "    name='v1',\n",
    "    features=secondary_features,\n",
    ")\n",
    "\n",
    "tertiary_features = [\n",
    "    f.name for f in tertiary.get_all_features() if f.name not in [series_id,'Renewal_Date']\n",
    "]\n",
    "tertiary_featurelist = tertiary.create_featurelist(\n",
    "    name='v1',\n",
    "    features=tertiary_features,\n",
    ")"
   ]
  },
  {
   "cell_type": "code",
   "execution_count": 58,
   "id": "7f079e0c",
   "metadata": {},
   "outputs": [],
   "source": [
    "primary_dataset_definition = dr.DatasetDefinition(\n",
    "    identifier='Customers',\n",
    "    catalog_id=primary_copy.id,\n",
    "    catalog_version_id=primary_copy.version_id,\n",
    "    primary_temporal_key=date_col,\n",
    "    feature_list_id=primary_featurelist.id,\n",
    ")\n",
    "\n",
    "secondary_dataset_definition = dr.DatasetDefinition(\n",
    "    identifier='Product_Usage',\n",
    "    catalog_id=secondary.id,\n",
    "    catalog_version_id=secondary.version_id,\n",
    "    primary_temporal_key='Activity_Timestamp',\n",
    "    feature_list_id=secondary_featurelist.id,\n",
    ")\n",
    "\n",
    "tertiary_dataset_definition = dr.DatasetDefinition(\n",
    "    identifier='CSAT',\n",
    "    catalog_id=tertiary.id,\n",
    "    catalog_version_id=tertiary.version_id,\n",
    "    primary_temporal_key='Renewal_Date',\n",
    "    feature_list_id=tertiary_featurelist.id,\n",
    ")"
   ]
  },
  {
   "cell_type": "markdown",
   "id": "9689ff44",
   "metadata": {},
   "source": [
    "## Define the secondary and tertiary relationships to our primary dataset"
   ]
  },
  {
   "cell_type": "code",
   "execution_count": 59,
   "id": "2b11f25e",
   "metadata": {},
   "outputs": [],
   "source": [
    "primary_relationship = dr.Relationship(\n",
    "    dataset2_identifier='Customers',\n",
    "    dataset1_keys=[series_id],\n",
    "    dataset2_keys=[series_id],\n",
    "    feature_derivation_window_start=-5,\n",
    "    feature_derivation_window_end=0,\n",
    "    feature_derivation_window_time_unit='YEAR',\n",
    "    prediction_point_rounding=1,\n",
    "    prediction_point_rounding_time_unit='DAY',\n",
    ")\n",
    "\n",
    "secondary_relationship = dr.Relationship(\n",
    "    dataset2_identifier='CSAT',\n",
    "    dataset1_keys=[series_id],\n",
    "    dataset2_keys=[series_id],\n",
    "    feature_derivation_window_start=-270,\n",
    "    feature_derivation_window_end=0,\n",
    "    feature_derivation_window_time_unit='DAY',\n",
    "    prediction_point_rounding=1,\n",
    "    prediction_point_rounding_time_unit='DAY',\n",
    ")\n",
    "\n",
    "tertiary_relationship = dr.Relationship(\n",
    "    dataset2_identifier='Product_Usage',\n",
    "    dataset1_keys=[series_id],\n",
    "    dataset2_keys=[series_id],\n",
    "    feature_derivation_window_start=-180,\n",
    "    feature_derivation_window_end=0,\n",
    "    feature_derivation_window_time_unit='DAY',\n",
    "    prediction_point_rounding=1,\n",
    "    prediction_point_rounding_time_unit='DAY',\n",
    ")"
   ]
  },
  {
   "cell_type": "markdown",
   "id": "5ba54ee6",
   "metadata": {},
   "source": [
    "## Set dataset definitions and relationships"
   ]
  },
  {
   "cell_type": "code",
   "execution_count": 60,
   "id": "989f1577",
   "metadata": {},
   "outputs": [],
   "source": [
    "dataset_definitions = [\n",
    "    primary_dataset_definition, \n",
    "    secondary_dataset_definition,\n",
    "    tertiary_dataset_definition,\n",
    "]\n",
    "\n",
    "relationships = [\n",
    "    primary_relationship,\n",
    "    secondary_relationship,\n",
    "    tertiary_relationship,\n",
    "]"
   ]
  },
  {
   "cell_type": "markdown",
   "id": "9e2881e9",
   "metadata": {},
   "source": [
    "## Configure optional settings to control which types of features are explored and created"
   ]
  },
  {
   "cell_type": "code",
   "execution_count": 61,
   "id": "4f4029ba",
   "metadata": {},
   "outputs": [],
   "source": [
    "feature_discovery_settings = [\n",
    "    {'name': 'enable_token_counts', 'value': True},\n",
    "    {'name': 'enable_day', 'value': False},\n",
    "    {'name': 'enable_numeric_minimum', 'value': False},\n",
    "    {'name': 'enable_numeric_standard_deviation', 'value': False},\n",
    "    {'name': 'enable_numeric_maximum', 'value': False},\n",
    "    {'name': 'enable_word_count', 'value': False},\n",
    "    {'name': 'enable_latest_value', 'value': False},\n",
    "    {'name': 'enable_categorical_num_unique', 'value': True},\n",
    "    {'name': 'enable_hour', 'value': False},\n",
    "    {'name': 'enable_numeric_kurtosis', 'value': False},\n",
    "    {'name': 'enable_day_of_week', 'value': False},\n",
    "    {'name': 'enable_numeric_skewness', 'value': False},\n",
    "    {'name': 'enable_numeric_median', 'value': False},\n",
    "    {'name': 'enable_categorical_statistics', 'value': True},\n",
    "    {'name': 'enable_entropy', 'value': False},\n",
    "    {'name': 'enable_numeric_sum', 'value': False},\n",
    "    {'name': 'enable_latest_without_window', 'value': True}\n",
    "]"
   ]
  },
  {
   "cell_type": "markdown",
   "id": "d9cd9b08",
   "metadata": {},
   "source": [
    "## Create a relationship configuration object to pass to our DataRobot project"
   ]
  },
  {
   "cell_type": "code",
   "execution_count": 62,
   "id": "8cc3efa1",
   "metadata": {},
   "outputs": [],
   "source": [
    "relationship_config = dr.RelationshipsConfiguration.create(\n",
    "    dataset_definitions=dataset_definitions, \n",
    "    relationships=relationships,\n",
    "    feature_discovery_settings=feature_discovery_settings\n",
    ")"
   ]
  },
  {
   "cell_type": "markdown",
   "id": "e60b24fd",
   "metadata": {},
   "source": [
    "## Create a partitioning specification object to pass to our DataRobot project"
   ]
  },
  {
   "cell_type": "code",
   "execution_count": 63,
   "id": "2f97018f",
   "metadata": {},
   "outputs": [
    {
     "data": {
      "text/plain": [
       "<datarobot.helpers.partitioning_methods.DatetimePartitioning at 0x11e457e90>"
      ]
     },
     "execution_count": 63,
     "metadata": {},
     "output_type": "execute_result"
    }
   ],
   "source": [
    "partitioning_spec = dr.DatetimePartitioningSpecification(\n",
    "    datetime_partition_column='Prediction_Point',\n",
    "    disable_holdout=True,\n",
    "    number_of_backtests=3,\n",
    "    use_time_series=False,\n",
    ")\n",
    "\n",
    "project.set_datetime_partitioning(datetime_partition_spec=partitioning_spec)"
   ]
  },
  {
   "cell_type": "markdown",
   "id": "76364270",
   "metadata": {},
   "source": [
    "## Create advanced options and kickoff a project"
   ]
  },
  {
   "cell_type": "code",
   "execution_count": 64,
   "id": "cede2daf",
   "metadata": {},
   "outputs": [],
   "source": [
    "advanced_options = dr.AdvancedOptions(\n",
    "    shap_only_mode=True,\n",
    "    primary_location_column='geometry',\n",
    ")"
   ]
  },
  {
   "cell_type": "code",
   "execution_count": 65,
   "id": "75293b67",
   "metadata": {},
   "outputs": [
    {
     "data": {
      "text/plain": [
       "Project(Customer Churn with AFE - 2023-03-27)"
      ]
     },
     "execution_count": 65,
     "metadata": {},
     "output_type": "execute_result"
    }
   ],
   "source": [
    "project.analyze_and_model(\n",
    "    target='Churn', \n",
    "    relationships_configuration_id=relationship_config.id, \n",
    "    mode='manual', \n",
    "    advanced_options=advanced_options,\n",
    ")"
   ]
  },
  {
   "cell_type": "code",
   "execution_count": 66,
   "id": "3120c1d6",
   "metadata": {},
   "outputs": [
    {
     "data": {
      "text/plain": [
       "'https://app.datarobot.com/projects/6421c64304a2ba9346d56208/models'"
      ]
     },
     "execution_count": 66,
     "metadata": {},
     "output_type": "execute_result"
    }
   ],
   "source": [
    "project.get_uri()"
   ]
  },
  {
   "cell_type": "markdown",
   "id": "e53fa76b",
   "metadata": {},
   "source": [
    "## Create a new featurelist and start Autopilot in quick mode"
   ]
  },
  {
   "cell_type": "code",
   "execution_count": 67,
   "id": "a3522a3a",
   "metadata": {},
   "outputs": [],
   "source": [
    "informative_features = [f for f in project.get_featurelists() if f.name=='Informative Features'][0]"
   ]
  },
  {
   "cell_type": "code",
   "execution_count": 68,
   "id": "a6af73bd",
   "metadata": {},
   "outputs": [],
   "source": [
    "features_to_drop = [\n",
    "    series_id,\n",
    "    'Renewal_Date (Year)',\n",
    "    'Customer_Since_Date (Year)',\n",
    "    'Customer_Since_Date (Day of Week)',\n",
    "    'Customer_Since_Date (Month)',\n",
    "    'Prediction_Point (Day of Week)',\n",
    "    'Prediction_Point (Month)',\n",
    "    'Renewal_Date (Day of Week)',\n",
    "    'Prediction_Point',\n",
    "    'Product_Usage (days since previous event by Customer_Name) (1 month avg)',\n",
    "    'Product_Usage (days since previous event by Customer_Name) (1 month missing count)',\n",
    "    'Product_Usage (days since previous event by Customer_Name) (180 days avg)',\n",
    "    'Product_Usage (days since previous event by Customer_Name) (180 days missing count)',\n",
    "    'CSAT (270 days count)',\n",
    "    'Customers[ARR] (5 years missing count)',\n",
    "    \n",
    "]"
   ]
  },
  {
   "cell_type": "code",
   "execution_count": 69,
   "id": "c3f49212",
   "metadata": {},
   "outputs": [],
   "source": [
    "new_features = [f for f in informative_features.features if f not in features_to_drop]"
   ]
  },
  {
   "cell_type": "code",
   "execution_count": 70,
   "id": "44a6009e",
   "metadata": {},
   "outputs": [],
   "source": [
    "v1 = project.create_featurelist(\n",
    "    name='v1',\n",
    "    features=new_features,\n",
    ")"
   ]
  },
  {
   "cell_type": "code",
   "execution_count": 71,
   "id": "e1203c67",
   "metadata": {},
   "outputs": [],
   "source": [
    "project.start_autopilot(\n",
    "    featurelist_id = v1.id,\n",
    "    mode='quick',\n",
    "    blend_best_models=False,\n",
    ")"
   ]
  },
  {
   "cell_type": "code",
   "execution_count": 72,
   "id": "123e0e79",
   "metadata": {},
   "outputs": [
    {
     "data": {
      "text/plain": [
       "Model('Light Gradient Boosting on ElasticNet Predictions ')"
      ]
     },
     "execution_count": 72,
     "metadata": {},
     "output_type": "execute_result"
    }
   ],
   "source": [
    "top_model = project.get_top_model()\n",
    "top_model"
   ]
  },
  {
   "cell_type": "markdown",
   "id": "749fc075",
   "metadata": {},
   "source": [
    "## Trigger the feature impact calculation"
   ]
  },
  {
   "cell_type": "code",
   "execution_count": 75,
   "id": "c9f26648",
   "metadata": {},
   "outputs": [],
   "source": [
    "shap_impact_job = dr.ShapImpact.create(project_id=project.id, model_id=top_model.id)\n",
    "shap_impact = shap_impact_job.get_result_when_complete()"
   ]
  }
 ],
 "metadata": {
  "kernelspec": {
   "display_name": "churn",
   "language": "python",
   "name": "churn"
  },
  "language_info": {
   "codemirror_mode": {
    "name": "ipython",
    "version": 3
   },
   "file_extension": ".py",
   "mimetype": "text/x-python",
   "name": "python",
   "nbconvert_exporter": "python",
   "pygments_lexer": "ipython3",
   "version": "3.11.2"
  }
 },
 "nbformat": 4,
 "nbformat_minor": 5
}
