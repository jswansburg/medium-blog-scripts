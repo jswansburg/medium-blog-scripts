{
 "cells": [
  {
   "cell_type": "markdown",
   "id": "2f2cbdfc",
   "metadata": {},
   "source": [
    "## Walkthrough of how to output helpful insights for ML models"
   ]
  },
  {
   "cell_type": "code",
   "execution_count": 1113,
   "id": "c34c72c1",
   "metadata": {},
   "outputs": [],
   "source": [
    "import datarobotx as drx\n",
    "import datarobot as dr\n",
    "import pandas as pd\n",
    "import numpy as np\n",
    "import datetime\n",
    "from dateutil.relativedelta import relativedelta\n",
    "\n",
    "from feature_impact_helpers import *\n",
    "from lift_chart_helpers import *\n",
    "from insights_over_time_helpers import *\n",
    "from data_table_helpers import *\n",
    "from error_metric_helpers import *\n",
    "\n",
    "from importlib import reload\n",
    "%reload_ext autoreload\n",
    "%autoreload 2\n",
    "\n",
    "import warnings\n",
    "warnings.filterwarnings('ignore')"
   ]
  },
  {
   "cell_type": "markdown",
   "id": "d35e3ac9",
   "metadata": {},
   "source": [
    "### Authenticate credentials"
   ]
  },
  {
   "cell_type": "code",
   "execution_count": 173,
   "id": "fc9f489c",
   "metadata": {},
   "outputs": [
    {
     "data": {
      "text/plain": [
       "<datarobot.rest.RESTClientObject at 0x134915750>"
      ]
     },
     "execution_count": 173,
     "metadata": {},
     "output_type": "execute_result"
    }
   ],
   "source": [
    "dr.Client()"
   ]
  },
  {
   "cell_type": "markdown",
   "id": "06ff4ede",
   "metadata": {},
   "source": [
    "## 1. Retrieve and prep data"
   ]
  },
  {
   "cell_type": "code",
   "execution_count": 1107,
   "id": "327e0e39",
   "metadata": {},
   "outputs": [],
   "source": [
    "project_id = '64306ff55e9a61743b67f2cf' #'64289f6808f30af7340d660c'\n",
    "model_id = '643188a7cc3f5dc763b27dcc' #'6428a0d8763f72552338e7d6' \n",
    "deployment_id = '6431e17c9ef7e6fca717bb92'\n",
    "\n",
    "# grab DataRobot project\n",
    "project = dr.Project.get(project_id)"
   ]
  },
  {
   "cell_type": "code",
   "execution_count": 1108,
   "id": "51ca0040",
   "metadata": {},
   "outputs": [],
   "source": [
    "# read in dataset\n",
    "filename = 'feature_discovery_data.csv'\n",
    "project.download_feature_discovery_dataset(file_name=filename)\n",
    "df = pd.read_csv(filename)"
   ]
  },
  {
   "cell_type": "code",
   "execution_count": 1109,
   "id": "53e7ede9",
   "metadata": {},
   "outputs": [],
   "source": [
    "# subset data to after June 2021\n",
    "df2 = df.loc[pd.to_datetime(df['Prediction_Point'])>=pd.to_datetime('2020-01-01'), :]"
   ]
  },
  {
   "cell_type": "code",
   "execution_count": 1111,
   "id": "8cd6ed54",
   "metadata": {},
   "outputs": [],
   "source": [
    "df2.to_csv('rows_to_score.csv',index=False)"
   ]
  },
  {
   "cell_type": "markdown",
   "id": "3dd1026b",
   "metadata": {},
   "source": [
    "### Retrive DRX model object and deploy model"
   ]
  },
  {
   "cell_type": "code",
   "execution_count": 902,
   "id": "46a1dab2",
   "metadata": {},
   "outputs": [
    {
     "data": {
      "application/vnd.jupyter.widget-view+json": {
       "model_id": "7a65618d1acf4dc599b12d07b03918fb",
       "version_major": 2,
       "version_minor": 0
      },
      "text/plain": [
       "VBox()"
      ]
     },
     "metadata": {},
     "output_type": "display_data"
    }
   ],
   "source": [
    "drx_model = drx.AutoMLModel.from_project_id(project_id)"
   ]
  },
  {
   "cell_type": "code",
   "execution_count": 903,
   "id": "3ff6dec1",
   "metadata": {},
   "outputs": [],
   "source": [
    "if deployment_id:\n",
    "    drx_deployment = drx.Deployment.from_url(f'https://app.datarobot.com/deployments/{deployment_id}/')\n",
    "else:\n",
    "    today = datetime.datetime.now()\n",
    "    drx_deployment = drx_model.deploy(name=f'Customer Churn - {today}')"
   ]
  },
  {
   "cell_type": "markdown",
   "id": "abceebaa",
   "metadata": {},
   "source": [
    "### Get batch predictions and prediction explanations"
   ]
  },
  {
   "cell_type": "code",
   "execution_count": 904,
   "id": "08facb67",
   "metadata": {},
   "outputs": [
    {
     "data": {
      "application/vnd.jupyter.widget-view+json": {
       "model_id": "6879f171670446bbbfa34882280d9dd7",
       "version_major": 2,
       "version_minor": 0
      },
      "text/plain": [
       "VBox()"
      ]
     },
     "metadata": {},
     "output_type": "display_data"
    }
   ],
   "source": [
    "drx.Context()._deployments_use_rt_endpoint=False\n",
    "preds = drx_deployment.predict_proba(\n",
    "    X=df2, \n",
    "    max_explanations=20\n",
    ")"
   ]
  },
  {
   "cell_type": "code",
   "execution_count": 905,
   "id": "b7aa6e8b",
   "metadata": {},
   "outputs": [],
   "source": [
    "# merge preds with original data\n",
    "preds2 = preds.merge(\n",
    "    df2.reset_index(drop=True),\n",
    "    how='left',\n",
    "    left_index=True,\n",
    "    right_index=True,\n",
    ")"
   ]
  },
  {
   "cell_type": "markdown",
   "id": "500b7322",
   "metadata": {},
   "source": [
    "### Use DRX helper functions to melt and reshape our predictions"
   ]
  },
  {
   "cell_type": "code",
   "execution_count": 906,
   "id": "a06d9e31",
   "metadata": {},
   "outputs": [],
   "source": [
    "melted = drx.melt_explanations(preds2, id_vars=list(df2.columns)+['class_1'])\n",
    "reshaped = drx.featurize_explanations(preds2)"
   ]
  },
  {
   "cell_type": "markdown",
   "id": "190d3a73",
   "metadata": {},
   "source": [
    "## 2. Now it's time to create our insights"
   ]
  },
  {
   "cell_type": "markdown",
   "id": "86fc33e7",
   "metadata": {},
   "source": [
    "### Plot feature impact"
   ]
  },
  {
   "cell_type": "code",
   "execution_count": 907,
   "id": "18c9ac1f",
   "metadata": {},
   "outputs": [
    {
     "data": {
      "application/vnd.plotly.v1+json": {
       "config": {
        "plotlyServerURL": "https://plot.ly"
       },
       "data": [
        {
         "alignmentgroup": "True",
         "hovertemplate": "<b>Feature Name:</b> %{y} <br><b>Feature Strength:</b> %{x}<extra></extra>",
         "legendgroup": "",
         "marker": {
          "color": "#636efa",
          "pattern": {
           "shape": ""
          }
         },
         "name": "",
         "offsetgroup": "",
         "orientation": "h",
         "showlegend": false,
         "textposition": "auto",
         "type": "bar",
         "x": [
          67.0639526577,
          78.376943388,
          84.3700655447,
          95.76374869669999,
          96.654853833,
          98.1398728426,
          120.8145995447,
          135.7532096959,
          152.0048960101,
          158.939371991,
          159.0614583672,
          159.2948760999,
          170.16392010919998,
          185.61616410259995,
          208.1306334953,
          222.053264618,
          226.4599156719,
          271.5543512927,
          310.6543703796,
          437.6355707843,
          490.3612166349,
          580.3719908392001,
          618.1106456527,
          657.8767343758,
          750.6995131487
         ],
         "xaxis": "x",
         "y": [
          "Latitude",
          "Products_Purchased",
          "Product_Usage[Activity_Type] (180 days unique count)",
          "Longitude",
          "Product_Usage[Activity_Type] (1 month unique count)",
          "Annual_Revenue",
          "CSAT[Customer_Review] (latest)",
          "Prediction_Point (days from Product_Usage[Activity_Timestamp]) (180 days avg)",
          "ARR",
          "Product_Usage[Activity_Type] (180 days most frequent)",
          "Industry",
          "Customers[Customer_Succes_Manager] (5 years most frequent)",
          "Customers[Products_Purchased] (5 years most frequent)",
          "Product_Usage[UserID] (1 month unique count)",
          "CSAT[Net_Promoter_Score] (latest)",
          "Product_Usage (1 month count)",
          "Customers[Products_Purchased] (5 years count of business_essentials)",
          "Product_Usage[Activity_Type] (1 month most frequent)",
          "Employee_Count",
          "State",
          "Product_Usage (180 days count)",
          "Contract_Duration",
          "duration(Renewal_Date, Customer_Since_Date)",
          "Customers[Products_Purchased] (5 years unique count)",
          "Customer_Succes_Manager"
         ],
         "yaxis": "y"
        }
       ],
       "layout": {
        "barmode": "relative",
        "height": 500,
        "hoverlabel": {
         "bgcolor": "white",
         "font": {
          "family": "Rockwell",
          "size": 16
         },
         "namelength": -1
        },
        "legend": {
         "tracegroupgap": 0
        },
        "margin": {
         "t": 60
        },
        "plot_bgcolor": "rgba(0,0,0,0)",
        "template": {
         "data": {
          "bar": [
           {
            "error_x": {
             "color": "#2a3f5f"
            },
            "error_y": {
             "color": "#2a3f5f"
            },
            "marker": {
             "line": {
              "color": "#E5ECF6",
              "width": 0.5
             },
             "pattern": {
              "fillmode": "overlay",
              "size": 10,
              "solidity": 0.2
             }
            },
            "type": "bar"
           }
          ],
          "barpolar": [
           {
            "marker": {
             "line": {
              "color": "#E5ECF6",
              "width": 0.5
             },
             "pattern": {
              "fillmode": "overlay",
              "size": 10,
              "solidity": 0.2
             }
            },
            "type": "barpolar"
           }
          ],
          "carpet": [
           {
            "aaxis": {
             "endlinecolor": "#2a3f5f",
             "gridcolor": "white",
             "linecolor": "white",
             "minorgridcolor": "white",
             "startlinecolor": "#2a3f5f"
            },
            "baxis": {
             "endlinecolor": "#2a3f5f",
             "gridcolor": "white",
             "linecolor": "white",
             "minorgridcolor": "white",
             "startlinecolor": "#2a3f5f"
            },
            "type": "carpet"
           }
          ],
          "choropleth": [
           {
            "colorbar": {
             "outlinewidth": 0,
             "ticks": ""
            },
            "type": "choropleth"
           }
          ],
          "contour": [
           {
            "colorbar": {
             "outlinewidth": 0,
             "ticks": ""
            },
            "colorscale": [
             [
              0,
              "#0d0887"
             ],
             [
              0.1111111111111111,
              "#46039f"
             ],
             [
              0.2222222222222222,
              "#7201a8"
             ],
             [
              0.3333333333333333,
              "#9c179e"
             ],
             [
              0.4444444444444444,
              "#bd3786"
             ],
             [
              0.5555555555555556,
              "#d8576b"
             ],
             [
              0.6666666666666666,
              "#ed7953"
             ],
             [
              0.7777777777777778,
              "#fb9f3a"
             ],
             [
              0.8888888888888888,
              "#fdca26"
             ],
             [
              1,
              "#f0f921"
             ]
            ],
            "type": "contour"
           }
          ],
          "contourcarpet": [
           {
            "colorbar": {
             "outlinewidth": 0,
             "ticks": ""
            },
            "type": "contourcarpet"
           }
          ],
          "heatmap": [
           {
            "colorbar": {
             "outlinewidth": 0,
             "ticks": ""
            },
            "colorscale": [
             [
              0,
              "#0d0887"
             ],
             [
              0.1111111111111111,
              "#46039f"
             ],
             [
              0.2222222222222222,
              "#7201a8"
             ],
             [
              0.3333333333333333,
              "#9c179e"
             ],
             [
              0.4444444444444444,
              "#bd3786"
             ],
             [
              0.5555555555555556,
              "#d8576b"
             ],
             [
              0.6666666666666666,
              "#ed7953"
             ],
             [
              0.7777777777777778,
              "#fb9f3a"
             ],
             [
              0.8888888888888888,
              "#fdca26"
             ],
             [
              1,
              "#f0f921"
             ]
            ],
            "type": "heatmap"
           }
          ],
          "heatmapgl": [
           {
            "colorbar": {
             "outlinewidth": 0,
             "ticks": ""
            },
            "colorscale": [
             [
              0,
              "#0d0887"
             ],
             [
              0.1111111111111111,
              "#46039f"
             ],
             [
              0.2222222222222222,
              "#7201a8"
             ],
             [
              0.3333333333333333,
              "#9c179e"
             ],
             [
              0.4444444444444444,
              "#bd3786"
             ],
             [
              0.5555555555555556,
              "#d8576b"
             ],
             [
              0.6666666666666666,
              "#ed7953"
             ],
             [
              0.7777777777777778,
              "#fb9f3a"
             ],
             [
              0.8888888888888888,
              "#fdca26"
             ],
             [
              1,
              "#f0f921"
             ]
            ],
            "type": "heatmapgl"
           }
          ],
          "histogram": [
           {
            "marker": {
             "pattern": {
              "fillmode": "overlay",
              "size": 10,
              "solidity": 0.2
             }
            },
            "type": "histogram"
           }
          ],
          "histogram2d": [
           {
            "colorbar": {
             "outlinewidth": 0,
             "ticks": ""
            },
            "colorscale": [
             [
              0,
              "#0d0887"
             ],
             [
              0.1111111111111111,
              "#46039f"
             ],
             [
              0.2222222222222222,
              "#7201a8"
             ],
             [
              0.3333333333333333,
              "#9c179e"
             ],
             [
              0.4444444444444444,
              "#bd3786"
             ],
             [
              0.5555555555555556,
              "#d8576b"
             ],
             [
              0.6666666666666666,
              "#ed7953"
             ],
             [
              0.7777777777777778,
              "#fb9f3a"
             ],
             [
              0.8888888888888888,
              "#fdca26"
             ],
             [
              1,
              "#f0f921"
             ]
            ],
            "type": "histogram2d"
           }
          ],
          "histogram2dcontour": [
           {
            "colorbar": {
             "outlinewidth": 0,
             "ticks": ""
            },
            "colorscale": [
             [
              0,
              "#0d0887"
             ],
             [
              0.1111111111111111,
              "#46039f"
             ],
             [
              0.2222222222222222,
              "#7201a8"
             ],
             [
              0.3333333333333333,
              "#9c179e"
             ],
             [
              0.4444444444444444,
              "#bd3786"
             ],
             [
              0.5555555555555556,
              "#d8576b"
             ],
             [
              0.6666666666666666,
              "#ed7953"
             ],
             [
              0.7777777777777778,
              "#fb9f3a"
             ],
             [
              0.8888888888888888,
              "#fdca26"
             ],
             [
              1,
              "#f0f921"
             ]
            ],
            "type": "histogram2dcontour"
           }
          ],
          "mesh3d": [
           {
            "colorbar": {
             "outlinewidth": 0,
             "ticks": ""
            },
            "type": "mesh3d"
           }
          ],
          "parcoords": [
           {
            "line": {
             "colorbar": {
              "outlinewidth": 0,
              "ticks": ""
             }
            },
            "type": "parcoords"
           }
          ],
          "pie": [
           {
            "automargin": true,
            "type": "pie"
           }
          ],
          "scatter": [
           {
            "fillpattern": {
             "fillmode": "overlay",
             "size": 10,
             "solidity": 0.2
            },
            "type": "scatter"
           }
          ],
          "scatter3d": [
           {
            "line": {
             "colorbar": {
              "outlinewidth": 0,
              "ticks": ""
             }
            },
            "marker": {
             "colorbar": {
              "outlinewidth": 0,
              "ticks": ""
             }
            },
            "type": "scatter3d"
           }
          ],
          "scattercarpet": [
           {
            "marker": {
             "colorbar": {
              "outlinewidth": 0,
              "ticks": ""
             }
            },
            "type": "scattercarpet"
           }
          ],
          "scattergeo": [
           {
            "marker": {
             "colorbar": {
              "outlinewidth": 0,
              "ticks": ""
             }
            },
            "type": "scattergeo"
           }
          ],
          "scattergl": [
           {
            "marker": {
             "colorbar": {
              "outlinewidth": 0,
              "ticks": ""
             }
            },
            "type": "scattergl"
           }
          ],
          "scattermapbox": [
           {
            "marker": {
             "colorbar": {
              "outlinewidth": 0,
              "ticks": ""
             }
            },
            "type": "scattermapbox"
           }
          ],
          "scatterpolar": [
           {
            "marker": {
             "colorbar": {
              "outlinewidth": 0,
              "ticks": ""
             }
            },
            "type": "scatterpolar"
           }
          ],
          "scatterpolargl": [
           {
            "marker": {
             "colorbar": {
              "outlinewidth": 0,
              "ticks": ""
             }
            },
            "type": "scatterpolargl"
           }
          ],
          "scatterternary": [
           {
            "marker": {
             "colorbar": {
              "outlinewidth": 0,
              "ticks": ""
             }
            },
            "type": "scatterternary"
           }
          ],
          "surface": [
           {
            "colorbar": {
             "outlinewidth": 0,
             "ticks": ""
            },
            "colorscale": [
             [
              0,
              "#0d0887"
             ],
             [
              0.1111111111111111,
              "#46039f"
             ],
             [
              0.2222222222222222,
              "#7201a8"
             ],
             [
              0.3333333333333333,
              "#9c179e"
             ],
             [
              0.4444444444444444,
              "#bd3786"
             ],
             [
              0.5555555555555556,
              "#d8576b"
             ],
             [
              0.6666666666666666,
              "#ed7953"
             ],
             [
              0.7777777777777778,
              "#fb9f3a"
             ],
             [
              0.8888888888888888,
              "#fdca26"
             ],
             [
              1,
              "#f0f921"
             ]
            ],
            "type": "surface"
           }
          ],
          "table": [
           {
            "cells": {
             "fill": {
              "color": "#EBF0F8"
             },
             "line": {
              "color": "white"
             }
            },
            "header": {
             "fill": {
              "color": "#C8D4E3"
             },
             "line": {
              "color": "white"
             }
            },
            "type": "table"
           }
          ]
         },
         "layout": {
          "annotationdefaults": {
           "arrowcolor": "#2a3f5f",
           "arrowhead": 0,
           "arrowwidth": 1
          },
          "autotypenumbers": "strict",
          "coloraxis": {
           "colorbar": {
            "outlinewidth": 0,
            "ticks": ""
           }
          },
          "colorscale": {
           "diverging": [
            [
             0,
             "#8e0152"
            ],
            [
             0.1,
             "#c51b7d"
            ],
            [
             0.2,
             "#de77ae"
            ],
            [
             0.3,
             "#f1b6da"
            ],
            [
             0.4,
             "#fde0ef"
            ],
            [
             0.5,
             "#f7f7f7"
            ],
            [
             0.6,
             "#e6f5d0"
            ],
            [
             0.7,
             "#b8e186"
            ],
            [
             0.8,
             "#7fbc41"
            ],
            [
             0.9,
             "#4d9221"
            ],
            [
             1,
             "#276419"
            ]
           ],
           "sequential": [
            [
             0,
             "#0d0887"
            ],
            [
             0.1111111111111111,
             "#46039f"
            ],
            [
             0.2222222222222222,
             "#7201a8"
            ],
            [
             0.3333333333333333,
             "#9c179e"
            ],
            [
             0.4444444444444444,
             "#bd3786"
            ],
            [
             0.5555555555555556,
             "#d8576b"
            ],
            [
             0.6666666666666666,
             "#ed7953"
            ],
            [
             0.7777777777777778,
             "#fb9f3a"
            ],
            [
             0.8888888888888888,
             "#fdca26"
            ],
            [
             1,
             "#f0f921"
            ]
           ],
           "sequentialminus": [
            [
             0,
             "#0d0887"
            ],
            [
             0.1111111111111111,
             "#46039f"
            ],
            [
             0.2222222222222222,
             "#7201a8"
            ],
            [
             0.3333333333333333,
             "#9c179e"
            ],
            [
             0.4444444444444444,
             "#bd3786"
            ],
            [
             0.5555555555555556,
             "#d8576b"
            ],
            [
             0.6666666666666666,
             "#ed7953"
            ],
            [
             0.7777777777777778,
             "#fb9f3a"
            ],
            [
             0.8888888888888888,
             "#fdca26"
            ],
            [
             1,
             "#f0f921"
            ]
           ]
          },
          "colorway": [
           "#636efa",
           "#EF553B",
           "#00cc96",
           "#ab63fa",
           "#FFA15A",
           "#19d3f3",
           "#FF6692",
           "#B6E880",
           "#FF97FF",
           "#FECB52"
          ],
          "font": {
           "color": "#2a3f5f"
          },
          "geo": {
           "bgcolor": "white",
           "lakecolor": "white",
           "landcolor": "#E5ECF6",
           "showlakes": true,
           "showland": true,
           "subunitcolor": "white"
          },
          "hoverlabel": {
           "align": "left"
          },
          "hovermode": "closest",
          "mapbox": {
           "style": "light"
          },
          "paper_bgcolor": "white",
          "plot_bgcolor": "#E5ECF6",
          "polar": {
           "angularaxis": {
            "gridcolor": "white",
            "linecolor": "white",
            "ticks": ""
           },
           "bgcolor": "#E5ECF6",
           "radialaxis": {
            "gridcolor": "white",
            "linecolor": "white",
            "ticks": ""
           }
          },
          "scene": {
           "xaxis": {
            "backgroundcolor": "#E5ECF6",
            "gridcolor": "white",
            "gridwidth": 2,
            "linecolor": "white",
            "showbackground": true,
            "ticks": "",
            "zerolinecolor": "white"
           },
           "yaxis": {
            "backgroundcolor": "#E5ECF6",
            "gridcolor": "white",
            "gridwidth": 2,
            "linecolor": "white",
            "showbackground": true,
            "ticks": "",
            "zerolinecolor": "white"
           },
           "zaxis": {
            "backgroundcolor": "#E5ECF6",
            "gridcolor": "white",
            "gridwidth": 2,
            "linecolor": "white",
            "showbackground": true,
            "ticks": "",
            "zerolinecolor": "white"
           }
          },
          "shapedefaults": {
           "line": {
            "color": "#2a3f5f"
           }
          },
          "ternary": {
           "aaxis": {
            "gridcolor": "white",
            "linecolor": "white",
            "ticks": ""
           },
           "baxis": {
            "gridcolor": "white",
            "linecolor": "white",
            "ticks": ""
           },
           "bgcolor": "#E5ECF6",
           "caxis": {
            "gridcolor": "white",
            "linecolor": "white",
            "ticks": ""
           }
          },
          "title": {
           "x": 0.05
          },
          "xaxis": {
           "automargin": true,
           "gridcolor": "white",
           "linecolor": "white",
           "ticks": "",
           "title": {
            "standoff": 15
           },
           "zerolinecolor": "white",
           "zerolinewidth": 2
          },
          "yaxis": {
           "automargin": true,
           "gridcolor": "white",
           "linecolor": "white",
           "ticks": "",
           "title": {
            "standoff": 15
           },
           "zerolinecolor": "white",
           "zerolinewidth": 2
          }
         }
        },
        "xaxis": {
         "anchor": "y",
         "domain": [
          0,
          1
         ],
         "linecolor": "black",
         "linewidth": 2,
         "showline": true,
         "title": {
          "text": "Impact"
         }
        },
        "yaxis": {
         "anchor": "x",
         "domain": [
          0,
          1
         ],
         "linecolor": "black",
         "linewidth": 2,
         "showline": true,
         "ticktext": [
          "Latitude",
          "Products_Purchased",
          "Product_Usage[Activity_Type] (180 days unique",
          "Longitude",
          "Product_Usage[Activity_Type] (1 month unique ",
          "Annual_Revenue",
          "CSAT[Customer_Review] (latest)",
          "Prediction_Point (days from Product_Usage[Act",
          "ARR",
          "Product_Usage[Activity_Type] (180 days most f",
          "Industry",
          "Customers[Customer_Succes_Manager] (5 years m",
          "Customers[Products_Purchased] (5 years most f",
          "Product_Usage[UserID] (1 month unique count)",
          "CSAT[Net_Promoter_Score] (latest)",
          "Product_Usage (1 month count)",
          "Customers[Products_Purchased] (5 years count ",
          "Product_Usage[Activity_Type] (1 month most fr",
          "Employee_Count",
          "State",
          "Product_Usage (180 days count)",
          "Contract_Duration",
          "duration(Renewal_Date, Customer_Since_Date)",
          "Customers[Products_Purchased] (5 years unique",
          "Customer_Succes_Manager"
         ],
         "tickvals": [
          0,
          1,
          2,
          3,
          4,
          5,
          6,
          7,
          8,
          9,
          10,
          11,
          12,
          13,
          14,
          15,
          16,
          17,
          18,
          19,
          20,
          21,
          22,
          23,
          24
         ],
         "title": {
          "text": "Feature Name"
         }
        }
       }
      },
      "text/html": [
       "<div>                            <div id=\"cb420d88-b048-4335-ad45-d9bfe7f6c379\" class=\"plotly-graph-div\" style=\"height:500px; width:100%;\"></div>            <script type=\"text/javascript\">                require([\"plotly\"], function(Plotly) {                    window.PLOTLYENV=window.PLOTLYENV || {};                                    if (document.getElementById(\"cb420d88-b048-4335-ad45-d9bfe7f6c379\")) {                    Plotly.newPlot(                        \"cb420d88-b048-4335-ad45-d9bfe7f6c379\",                        [{\"alignmentgroup\":\"True\",\"hovertemplate\":\"<b>Feature Name:</b> %{y} <br><b>Feature Strength:</b> %{x}<extra></extra>\",\"legendgroup\":\"\",\"marker\":{\"color\":\"#636efa\",\"pattern\":{\"shape\":\"\"}},\"name\":\"\",\"offsetgroup\":\"\",\"orientation\":\"h\",\"showlegend\":false,\"textposition\":\"auto\",\"x\":[67.0639526577,78.376943388,84.3700655447,95.76374869669999,96.654853833,98.1398728426,120.8145995447,135.7532096959,152.0048960101,158.939371991,159.0614583672,159.2948760999,170.16392010919998,185.61616410259995,208.1306334953,222.053264618,226.4599156719,271.5543512927,310.6543703796,437.6355707843,490.3612166349,580.3719908392001,618.1106456527,657.8767343758,750.6995131487],\"xaxis\":\"x\",\"y\":[\"Latitude\",\"Products_Purchased\",\"Product_Usage[Activity_Type] (180 days unique count)\",\"Longitude\",\"Product_Usage[Activity_Type] (1 month unique count)\",\"Annual_Revenue\",\"CSAT[Customer_Review] (latest)\",\"Prediction_Point (days from Product_Usage[Activity_Timestamp]) (180 days avg)\",\"ARR\",\"Product_Usage[Activity_Type] (180 days most frequent)\",\"Industry\",\"Customers[Customer_Succes_Manager] (5 years most frequent)\",\"Customers[Products_Purchased] (5 years most frequent)\",\"Product_Usage[UserID] (1 month unique count)\",\"CSAT[Net_Promoter_Score] (latest)\",\"Product_Usage (1 month count)\",\"Customers[Products_Purchased] (5 years count of business_essentials)\",\"Product_Usage[Activity_Type] (1 month most frequent)\",\"Employee_Count\",\"State\",\"Product_Usage (180 days count)\",\"Contract_Duration\",\"duration(Renewal_Date, Customer_Since_Date)\",\"Customers[Products_Purchased] (5 years unique count)\",\"Customer_Succes_Manager\"],\"yaxis\":\"y\",\"type\":\"bar\"}],                        {\"template\":{\"data\":{\"histogram2dcontour\":[{\"type\":\"histogram2dcontour\",\"colorbar\":{\"outlinewidth\":0,\"ticks\":\"\"},\"colorscale\":[[0.0,\"#0d0887\"],[0.1111111111111111,\"#46039f\"],[0.2222222222222222,\"#7201a8\"],[0.3333333333333333,\"#9c179e\"],[0.4444444444444444,\"#bd3786\"],[0.5555555555555556,\"#d8576b\"],[0.6666666666666666,\"#ed7953\"],[0.7777777777777778,\"#fb9f3a\"],[0.8888888888888888,\"#fdca26\"],[1.0,\"#f0f921\"]]}],\"choropleth\":[{\"type\":\"choropleth\",\"colorbar\":{\"outlinewidth\":0,\"ticks\":\"\"}}],\"histogram2d\":[{\"type\":\"histogram2d\",\"colorbar\":{\"outlinewidth\":0,\"ticks\":\"\"},\"colorscale\":[[0.0,\"#0d0887\"],[0.1111111111111111,\"#46039f\"],[0.2222222222222222,\"#7201a8\"],[0.3333333333333333,\"#9c179e\"],[0.4444444444444444,\"#bd3786\"],[0.5555555555555556,\"#d8576b\"],[0.6666666666666666,\"#ed7953\"],[0.7777777777777778,\"#fb9f3a\"],[0.8888888888888888,\"#fdca26\"],[1.0,\"#f0f921\"]]}],\"heatmap\":[{\"type\":\"heatmap\",\"colorbar\":{\"outlinewidth\":0,\"ticks\":\"\"},\"colorscale\":[[0.0,\"#0d0887\"],[0.1111111111111111,\"#46039f\"],[0.2222222222222222,\"#7201a8\"],[0.3333333333333333,\"#9c179e\"],[0.4444444444444444,\"#bd3786\"],[0.5555555555555556,\"#d8576b\"],[0.6666666666666666,\"#ed7953\"],[0.7777777777777778,\"#fb9f3a\"],[0.8888888888888888,\"#fdca26\"],[1.0,\"#f0f921\"]]}],\"heatmapgl\":[{\"type\":\"heatmapgl\",\"colorbar\":{\"outlinewidth\":0,\"ticks\":\"\"},\"colorscale\":[[0.0,\"#0d0887\"],[0.1111111111111111,\"#46039f\"],[0.2222222222222222,\"#7201a8\"],[0.3333333333333333,\"#9c179e\"],[0.4444444444444444,\"#bd3786\"],[0.5555555555555556,\"#d8576b\"],[0.6666666666666666,\"#ed7953\"],[0.7777777777777778,\"#fb9f3a\"],[0.8888888888888888,\"#fdca26\"],[1.0,\"#f0f921\"]]}],\"contourcarpet\":[{\"type\":\"contourcarpet\",\"colorbar\":{\"outlinewidth\":0,\"ticks\":\"\"}}],\"contour\":[{\"type\":\"contour\",\"colorbar\":{\"outlinewidth\":0,\"ticks\":\"\"},\"colorscale\":[[0.0,\"#0d0887\"],[0.1111111111111111,\"#46039f\"],[0.2222222222222222,\"#7201a8\"],[0.3333333333333333,\"#9c179e\"],[0.4444444444444444,\"#bd3786\"],[0.5555555555555556,\"#d8576b\"],[0.6666666666666666,\"#ed7953\"],[0.7777777777777778,\"#fb9f3a\"],[0.8888888888888888,\"#fdca26\"],[1.0,\"#f0f921\"]]}],\"surface\":[{\"type\":\"surface\",\"colorbar\":{\"outlinewidth\":0,\"ticks\":\"\"},\"colorscale\":[[0.0,\"#0d0887\"],[0.1111111111111111,\"#46039f\"],[0.2222222222222222,\"#7201a8\"],[0.3333333333333333,\"#9c179e\"],[0.4444444444444444,\"#bd3786\"],[0.5555555555555556,\"#d8576b\"],[0.6666666666666666,\"#ed7953\"],[0.7777777777777778,\"#fb9f3a\"],[0.8888888888888888,\"#fdca26\"],[1.0,\"#f0f921\"]]}],\"mesh3d\":[{\"type\":\"mesh3d\",\"colorbar\":{\"outlinewidth\":0,\"ticks\":\"\"}}],\"scatter\":[{\"fillpattern\":{\"fillmode\":\"overlay\",\"size\":10,\"solidity\":0.2},\"type\":\"scatter\"}],\"parcoords\":[{\"type\":\"parcoords\",\"line\":{\"colorbar\":{\"outlinewidth\":0,\"ticks\":\"\"}}}],\"scatterpolargl\":[{\"type\":\"scatterpolargl\",\"marker\":{\"colorbar\":{\"outlinewidth\":0,\"ticks\":\"\"}}}],\"bar\":[{\"error_x\":{\"color\":\"#2a3f5f\"},\"error_y\":{\"color\":\"#2a3f5f\"},\"marker\":{\"line\":{\"color\":\"#E5ECF6\",\"width\":0.5},\"pattern\":{\"fillmode\":\"overlay\",\"size\":10,\"solidity\":0.2}},\"type\":\"bar\"}],\"scattergeo\":[{\"type\":\"scattergeo\",\"marker\":{\"colorbar\":{\"outlinewidth\":0,\"ticks\":\"\"}}}],\"scatterpolar\":[{\"type\":\"scatterpolar\",\"marker\":{\"colorbar\":{\"outlinewidth\":0,\"ticks\":\"\"}}}],\"histogram\":[{\"marker\":{\"pattern\":{\"fillmode\":\"overlay\",\"size\":10,\"solidity\":0.2}},\"type\":\"histogram\"}],\"scattergl\":[{\"type\":\"scattergl\",\"marker\":{\"colorbar\":{\"outlinewidth\":0,\"ticks\":\"\"}}}],\"scatter3d\":[{\"type\":\"scatter3d\",\"line\":{\"colorbar\":{\"outlinewidth\":0,\"ticks\":\"\"}},\"marker\":{\"colorbar\":{\"outlinewidth\":0,\"ticks\":\"\"}}}],\"scattermapbox\":[{\"type\":\"scattermapbox\",\"marker\":{\"colorbar\":{\"outlinewidth\":0,\"ticks\":\"\"}}}],\"scatterternary\":[{\"type\":\"scatterternary\",\"marker\":{\"colorbar\":{\"outlinewidth\":0,\"ticks\":\"\"}}}],\"scattercarpet\":[{\"type\":\"scattercarpet\",\"marker\":{\"colorbar\":{\"outlinewidth\":0,\"ticks\":\"\"}}}],\"carpet\":[{\"aaxis\":{\"endlinecolor\":\"#2a3f5f\",\"gridcolor\":\"white\",\"linecolor\":\"white\",\"minorgridcolor\":\"white\",\"startlinecolor\":\"#2a3f5f\"},\"baxis\":{\"endlinecolor\":\"#2a3f5f\",\"gridcolor\":\"white\",\"linecolor\":\"white\",\"minorgridcolor\":\"white\",\"startlinecolor\":\"#2a3f5f\"},\"type\":\"carpet\"}],\"table\":[{\"cells\":{\"fill\":{\"color\":\"#EBF0F8\"},\"line\":{\"color\":\"white\"}},\"header\":{\"fill\":{\"color\":\"#C8D4E3\"},\"line\":{\"color\":\"white\"}},\"type\":\"table\"}],\"barpolar\":[{\"marker\":{\"line\":{\"color\":\"#E5ECF6\",\"width\":0.5},\"pattern\":{\"fillmode\":\"overlay\",\"size\":10,\"solidity\":0.2}},\"type\":\"barpolar\"}],\"pie\":[{\"automargin\":true,\"type\":\"pie\"}]},\"layout\":{\"autotypenumbers\":\"strict\",\"colorway\":[\"#636efa\",\"#EF553B\",\"#00cc96\",\"#ab63fa\",\"#FFA15A\",\"#19d3f3\",\"#FF6692\",\"#B6E880\",\"#FF97FF\",\"#FECB52\"],\"font\":{\"color\":\"#2a3f5f\"},\"hovermode\":\"closest\",\"hoverlabel\":{\"align\":\"left\"},\"paper_bgcolor\":\"white\",\"plot_bgcolor\":\"#E5ECF6\",\"polar\":{\"bgcolor\":\"#E5ECF6\",\"angularaxis\":{\"gridcolor\":\"white\",\"linecolor\":\"white\",\"ticks\":\"\"},\"radialaxis\":{\"gridcolor\":\"white\",\"linecolor\":\"white\",\"ticks\":\"\"}},\"ternary\":{\"bgcolor\":\"#E5ECF6\",\"aaxis\":{\"gridcolor\":\"white\",\"linecolor\":\"white\",\"ticks\":\"\"},\"baxis\":{\"gridcolor\":\"white\",\"linecolor\":\"white\",\"ticks\":\"\"},\"caxis\":{\"gridcolor\":\"white\",\"linecolor\":\"white\",\"ticks\":\"\"}},\"coloraxis\":{\"colorbar\":{\"outlinewidth\":0,\"ticks\":\"\"}},\"colorscale\":{\"sequential\":[[0.0,\"#0d0887\"],[0.1111111111111111,\"#46039f\"],[0.2222222222222222,\"#7201a8\"],[0.3333333333333333,\"#9c179e\"],[0.4444444444444444,\"#bd3786\"],[0.5555555555555556,\"#d8576b\"],[0.6666666666666666,\"#ed7953\"],[0.7777777777777778,\"#fb9f3a\"],[0.8888888888888888,\"#fdca26\"],[1.0,\"#f0f921\"]],\"sequentialminus\":[[0.0,\"#0d0887\"],[0.1111111111111111,\"#46039f\"],[0.2222222222222222,\"#7201a8\"],[0.3333333333333333,\"#9c179e\"],[0.4444444444444444,\"#bd3786\"],[0.5555555555555556,\"#d8576b\"],[0.6666666666666666,\"#ed7953\"],[0.7777777777777778,\"#fb9f3a\"],[0.8888888888888888,\"#fdca26\"],[1.0,\"#f0f921\"]],\"diverging\":[[0,\"#8e0152\"],[0.1,\"#c51b7d\"],[0.2,\"#de77ae\"],[0.3,\"#f1b6da\"],[0.4,\"#fde0ef\"],[0.5,\"#f7f7f7\"],[0.6,\"#e6f5d0\"],[0.7,\"#b8e186\"],[0.8,\"#7fbc41\"],[0.9,\"#4d9221\"],[1,\"#276419\"]]},\"xaxis\":{\"gridcolor\":\"white\",\"linecolor\":\"white\",\"ticks\":\"\",\"title\":{\"standoff\":15},\"zerolinecolor\":\"white\",\"automargin\":true,\"zerolinewidth\":2},\"yaxis\":{\"gridcolor\":\"white\",\"linecolor\":\"white\",\"ticks\":\"\",\"title\":{\"standoff\":15},\"zerolinecolor\":\"white\",\"automargin\":true,\"zerolinewidth\":2},\"scene\":{\"xaxis\":{\"backgroundcolor\":\"#E5ECF6\",\"gridcolor\":\"white\",\"linecolor\":\"white\",\"showbackground\":true,\"ticks\":\"\",\"zerolinecolor\":\"white\",\"gridwidth\":2},\"yaxis\":{\"backgroundcolor\":\"#E5ECF6\",\"gridcolor\":\"white\",\"linecolor\":\"white\",\"showbackground\":true,\"ticks\":\"\",\"zerolinecolor\":\"white\",\"gridwidth\":2},\"zaxis\":{\"backgroundcolor\":\"#E5ECF6\",\"gridcolor\":\"white\",\"linecolor\":\"white\",\"showbackground\":true,\"ticks\":\"\",\"zerolinecolor\":\"white\",\"gridwidth\":2}},\"shapedefaults\":{\"line\":{\"color\":\"#2a3f5f\"}},\"annotationdefaults\":{\"arrowcolor\":\"#2a3f5f\",\"arrowhead\":0,\"arrowwidth\":1},\"geo\":{\"bgcolor\":\"white\",\"landcolor\":\"#E5ECF6\",\"subunitcolor\":\"white\",\"showland\":true,\"showlakes\":true,\"lakecolor\":\"white\"},\"title\":{\"x\":0.05},\"mapbox\":{\"style\":\"light\"}}},\"xaxis\":{\"anchor\":\"y\",\"domain\":[0.0,1.0],\"title\":{\"text\":\"Impact\"},\"showline\":true,\"linewidth\":2,\"linecolor\":\"black\"},\"yaxis\":{\"anchor\":\"x\",\"domain\":[0.0,1.0],\"title\":{\"text\":\"Feature Name\"},\"tickvals\":[0,1,2,3,4,5,6,7,8,9,10,11,12,13,14,15,16,17,18,19,20,21,22,23,24],\"ticktext\":[\"Latitude\",\"Products_Purchased\",\"Product_Usage[Activity_Type] (180 days unique\",\"Longitude\",\"Product_Usage[Activity_Type] (1 month unique \",\"Annual_Revenue\",\"CSAT[Customer_Review] (latest)\",\"Prediction_Point (days from Product_Usage[Act\",\"ARR\",\"Product_Usage[Activity_Type] (180 days most f\",\"Industry\",\"Customers[Customer_Succes_Manager] (5 years m\",\"Customers[Products_Purchased] (5 years most f\",\"Product_Usage[UserID] (1 month unique count)\",\"CSAT[Net_Promoter_Score] (latest)\",\"Product_Usage (1 month count)\",\"Customers[Products_Purchased] (5 years count \",\"Product_Usage[Activity_Type] (1 month most fr\",\"Employee_Count\",\"State\",\"Product_Usage (180 days count)\",\"Contract_Duration\",\"duration(Renewal_Date, Customer_Since_Date)\",\"Customers[Products_Purchased] (5 years unique\",\"Customer_Succes_Manager\"],\"showline\":true,\"linewidth\":2,\"linecolor\":\"black\"},\"legend\":{\"tracegroupgap\":0},\"margin\":{\"t\":60},\"barmode\":\"relative\",\"height\":500,\"hoverlabel\":{\"font\":{\"size\":16,\"family\":\"Rockwell\"},\"bgcolor\":\"white\",\"namelength\":-1},\"plot_bgcolor\":\"rgba(0,0,0,0)\"},                        {\"responsive\": true}                    ).then(function(){\n",
       "                            \n",
       "var gd = document.getElementById('cb420d88-b048-4335-ad45-d9bfe7f6c379');\n",
       "var x = new MutationObserver(function (mutations, observer) {{\n",
       "        var display = window.getComputedStyle(gd).display;\n",
       "        if (!display || display === 'none') {{\n",
       "            console.log([gd, 'removed!']);\n",
       "            Plotly.purge(gd);\n",
       "            observer.disconnect();\n",
       "        }}\n",
       "}});\n",
       "\n",
       "// Listen for the removal of the full notebook cells\n",
       "var notebookContainer = gd.closest('#notebook-container');\n",
       "if (notebookContainer) {{\n",
       "    x.observe(notebookContainer, {childList: true});\n",
       "}}\n",
       "\n",
       "// Listen for the clearing of the current output cell\n",
       "var outputEl = gd.closest('.output');\n",
       "if (outputEl) {{\n",
       "    x.observe(outputEl, {childList: true});\n",
       "}}\n",
       "\n",
       "                        })                };                });            </script>        </div>"
      ]
     },
     "metadata": {},
     "output_type": "display_data"
    }
   ],
   "source": [
    "# aggregate feature impact\n",
    "plot_feature_impact(melted, height=500)"
   ]
  },
  {
   "cell_type": "code",
   "execution_count": 908,
   "id": "8c60c900",
   "metadata": {},
   "outputs": [
    {
     "data": {
      "application/vnd.plotly.v1+json": {
       "config": {
        "plotlyServerURL": "https://plot.ly"
       },
       "data": [
        {
         "hovertemplate": "<b>Feature Name:</b> %{y} <br><b>Feature Strength:</b> %{x}<extra></extra>",
         "name": "Positive Impact",
         "orientation": "h",
         "type": "bar",
         "x": [
          67.0639526577,
          78.376943388,
          84.37006554469998,
          95.7637486967,
          96.654853833,
          98.1398728426,
          120.8145995447,
          135.7532096959,
          152.0048960101,
          158.939371991,
          159.0614583672,
          159.29487609989997,
          170.16392010919998,
          185.61616410259995,
          208.13063349529997,
          222.053264618,
          226.45991567190003,
          271.5543512927,
          310.6543703796,
          437.6355707843,
          490.36121663489996,
          580.3719908392001,
          618.1106456527,
          657.8767343758,
          750.6995131487
         ],
         "y": [
          "Latitude",
          "Products_Purchased",
          "Product_Usage[Activity_Type] (180 days unique count)",
          "Longitude",
          "Product_Usage[Activity_Type] (1 month unique count)",
          "Annual_Revenue",
          "CSAT[Customer_Review] (latest)",
          "Prediction_Point (days from Product_Usage[Activity_Timestamp]) (180 days avg)",
          "ARR",
          "Product_Usage[Activity_Type] (180 days most frequent)",
          "Industry",
          "Customers[Customer_Succes_Manager] (5 years most frequent)",
          "Customers[Products_Purchased] (5 years most frequent)",
          "Product_Usage[UserID] (1 month unique count)",
          "CSAT[Net_Promoter_Score] (latest)",
          "Product_Usage (1 month count)",
          "Customers[Products_Purchased] (5 years count of business_essentials)",
          "Product_Usage[Activity_Type] (1 month most frequent)",
          "Employee_Count",
          "State",
          "Product_Usage (180 days count)",
          "Contract_Duration",
          "duration(Renewal_Date, Customer_Since_Date)",
          "Customers[Products_Purchased] (5 years unique count)",
          "Customer_Succes_Manager"
         ]
        },
        {
         "hovertemplate": "<b>Feature Name:</b> %{y} <br><b>Feature Strength:</b> %{x}<extra></extra>",
         "name": "Negative Impact",
         "orientation": "h",
         "type": "bar",
         "x": [
          67.0639526577,
          78.376943388,
          84.37006554469998,
          95.7637486967,
          96.654853833,
          98.1398728426,
          120.8145995447,
          135.7532096959,
          152.0048960101,
          158.939371991,
          159.0614583672,
          159.29487609989997,
          170.16392010919998,
          185.61616410259995,
          208.13063349529997,
          222.053264618,
          226.45991567190003,
          271.5543512927,
          310.6543703796,
          437.6355707843,
          490.36121663489996,
          580.3719908392001,
          618.1106456527,
          657.8767343758,
          750.6995131487
         ],
         "y": [
          "Latitude",
          "Products_Purchased",
          "Product_Usage[Activity_Type] (180 days unique count)",
          "Longitude",
          "Product_Usage[Activity_Type] (1 month unique count)",
          "Annual_Revenue",
          "CSAT[Customer_Review] (latest)",
          "Prediction_Point (days from Product_Usage[Activity_Timestamp]) (180 days avg)",
          "ARR",
          "Product_Usage[Activity_Type] (180 days most frequent)",
          "Industry",
          "Customers[Customer_Succes_Manager] (5 years most frequent)",
          "Customers[Products_Purchased] (5 years most frequent)",
          "Product_Usage[UserID] (1 month unique count)",
          "CSAT[Net_Promoter_Score] (latest)",
          "Product_Usage (1 month count)",
          "Customers[Products_Purchased] (5 years count of business_essentials)",
          "Product_Usage[Activity_Type] (1 month most frequent)",
          "Employee_Count",
          "State",
          "Product_Usage (180 days count)",
          "Contract_Duration",
          "duration(Renewal_Date, Customer_Since_Date)",
          "Customers[Products_Purchased] (5 years unique count)",
          "Customer_Succes_Manager"
         ]
        }
       ],
       "layout": {
        "barmode": "stack",
        "height": 500,
        "hoverlabel": {
         "bgcolor": "white",
         "font": {
          "family": "Rockwell",
          "size": 16
         },
         "namelength": -1
        },
        "legend": {
         "orientation": "h",
         "x": 1,
         "xanchor": "right",
         "y": 1.02,
         "yanchor": "bottom"
        },
        "margin": {
         "b": 20,
         "l": 20,
         "r": 0,
         "t": 20
        },
        "plot_bgcolor": "rgba(0,0,0,0)",
        "template": {
         "data": {
          "bar": [
           {
            "error_x": {
             "color": "#2a3f5f"
            },
            "error_y": {
             "color": "#2a3f5f"
            },
            "marker": {
             "line": {
              "color": "#E5ECF6",
              "width": 0.5
             },
             "pattern": {
              "fillmode": "overlay",
              "size": 10,
              "solidity": 0.2
             }
            },
            "type": "bar"
           }
          ],
          "barpolar": [
           {
            "marker": {
             "line": {
              "color": "#E5ECF6",
              "width": 0.5
             },
             "pattern": {
              "fillmode": "overlay",
              "size": 10,
              "solidity": 0.2
             }
            },
            "type": "barpolar"
           }
          ],
          "carpet": [
           {
            "aaxis": {
             "endlinecolor": "#2a3f5f",
             "gridcolor": "white",
             "linecolor": "white",
             "minorgridcolor": "white",
             "startlinecolor": "#2a3f5f"
            },
            "baxis": {
             "endlinecolor": "#2a3f5f",
             "gridcolor": "white",
             "linecolor": "white",
             "minorgridcolor": "white",
             "startlinecolor": "#2a3f5f"
            },
            "type": "carpet"
           }
          ],
          "choropleth": [
           {
            "colorbar": {
             "outlinewidth": 0,
             "ticks": ""
            },
            "type": "choropleth"
           }
          ],
          "contour": [
           {
            "colorbar": {
             "outlinewidth": 0,
             "ticks": ""
            },
            "colorscale": [
             [
              0,
              "#0d0887"
             ],
             [
              0.1111111111111111,
              "#46039f"
             ],
             [
              0.2222222222222222,
              "#7201a8"
             ],
             [
              0.3333333333333333,
              "#9c179e"
             ],
             [
              0.4444444444444444,
              "#bd3786"
             ],
             [
              0.5555555555555556,
              "#d8576b"
             ],
             [
              0.6666666666666666,
              "#ed7953"
             ],
             [
              0.7777777777777778,
              "#fb9f3a"
             ],
             [
              0.8888888888888888,
              "#fdca26"
             ],
             [
              1,
              "#f0f921"
             ]
            ],
            "type": "contour"
           }
          ],
          "contourcarpet": [
           {
            "colorbar": {
             "outlinewidth": 0,
             "ticks": ""
            },
            "type": "contourcarpet"
           }
          ],
          "heatmap": [
           {
            "colorbar": {
             "outlinewidth": 0,
             "ticks": ""
            },
            "colorscale": [
             [
              0,
              "#0d0887"
             ],
             [
              0.1111111111111111,
              "#46039f"
             ],
             [
              0.2222222222222222,
              "#7201a8"
             ],
             [
              0.3333333333333333,
              "#9c179e"
             ],
             [
              0.4444444444444444,
              "#bd3786"
             ],
             [
              0.5555555555555556,
              "#d8576b"
             ],
             [
              0.6666666666666666,
              "#ed7953"
             ],
             [
              0.7777777777777778,
              "#fb9f3a"
             ],
             [
              0.8888888888888888,
              "#fdca26"
             ],
             [
              1,
              "#f0f921"
             ]
            ],
            "type": "heatmap"
           }
          ],
          "heatmapgl": [
           {
            "colorbar": {
             "outlinewidth": 0,
             "ticks": ""
            },
            "colorscale": [
             [
              0,
              "#0d0887"
             ],
             [
              0.1111111111111111,
              "#46039f"
             ],
             [
              0.2222222222222222,
              "#7201a8"
             ],
             [
              0.3333333333333333,
              "#9c179e"
             ],
             [
              0.4444444444444444,
              "#bd3786"
             ],
             [
              0.5555555555555556,
              "#d8576b"
             ],
             [
              0.6666666666666666,
              "#ed7953"
             ],
             [
              0.7777777777777778,
              "#fb9f3a"
             ],
             [
              0.8888888888888888,
              "#fdca26"
             ],
             [
              1,
              "#f0f921"
             ]
            ],
            "type": "heatmapgl"
           }
          ],
          "histogram": [
           {
            "marker": {
             "pattern": {
              "fillmode": "overlay",
              "size": 10,
              "solidity": 0.2
             }
            },
            "type": "histogram"
           }
          ],
          "histogram2d": [
           {
            "colorbar": {
             "outlinewidth": 0,
             "ticks": ""
            },
            "colorscale": [
             [
              0,
              "#0d0887"
             ],
             [
              0.1111111111111111,
              "#46039f"
             ],
             [
              0.2222222222222222,
              "#7201a8"
             ],
             [
              0.3333333333333333,
              "#9c179e"
             ],
             [
              0.4444444444444444,
              "#bd3786"
             ],
             [
              0.5555555555555556,
              "#d8576b"
             ],
             [
              0.6666666666666666,
              "#ed7953"
             ],
             [
              0.7777777777777778,
              "#fb9f3a"
             ],
             [
              0.8888888888888888,
              "#fdca26"
             ],
             [
              1,
              "#f0f921"
             ]
            ],
            "type": "histogram2d"
           }
          ],
          "histogram2dcontour": [
           {
            "colorbar": {
             "outlinewidth": 0,
             "ticks": ""
            },
            "colorscale": [
             [
              0,
              "#0d0887"
             ],
             [
              0.1111111111111111,
              "#46039f"
             ],
             [
              0.2222222222222222,
              "#7201a8"
             ],
             [
              0.3333333333333333,
              "#9c179e"
             ],
             [
              0.4444444444444444,
              "#bd3786"
             ],
             [
              0.5555555555555556,
              "#d8576b"
             ],
             [
              0.6666666666666666,
              "#ed7953"
             ],
             [
              0.7777777777777778,
              "#fb9f3a"
             ],
             [
              0.8888888888888888,
              "#fdca26"
             ],
             [
              1,
              "#f0f921"
             ]
            ],
            "type": "histogram2dcontour"
           }
          ],
          "mesh3d": [
           {
            "colorbar": {
             "outlinewidth": 0,
             "ticks": ""
            },
            "type": "mesh3d"
           }
          ],
          "parcoords": [
           {
            "line": {
             "colorbar": {
              "outlinewidth": 0,
              "ticks": ""
             }
            },
            "type": "parcoords"
           }
          ],
          "pie": [
           {
            "automargin": true,
            "type": "pie"
           }
          ],
          "scatter": [
           {
            "fillpattern": {
             "fillmode": "overlay",
             "size": 10,
             "solidity": 0.2
            },
            "type": "scatter"
           }
          ],
          "scatter3d": [
           {
            "line": {
             "colorbar": {
              "outlinewidth": 0,
              "ticks": ""
             }
            },
            "marker": {
             "colorbar": {
              "outlinewidth": 0,
              "ticks": ""
             }
            },
            "type": "scatter3d"
           }
          ],
          "scattercarpet": [
           {
            "marker": {
             "colorbar": {
              "outlinewidth": 0,
              "ticks": ""
             }
            },
            "type": "scattercarpet"
           }
          ],
          "scattergeo": [
           {
            "marker": {
             "colorbar": {
              "outlinewidth": 0,
              "ticks": ""
             }
            },
            "type": "scattergeo"
           }
          ],
          "scattergl": [
           {
            "marker": {
             "colorbar": {
              "outlinewidth": 0,
              "ticks": ""
             }
            },
            "type": "scattergl"
           }
          ],
          "scattermapbox": [
           {
            "marker": {
             "colorbar": {
              "outlinewidth": 0,
              "ticks": ""
             }
            },
            "type": "scattermapbox"
           }
          ],
          "scatterpolar": [
           {
            "marker": {
             "colorbar": {
              "outlinewidth": 0,
              "ticks": ""
             }
            },
            "type": "scatterpolar"
           }
          ],
          "scatterpolargl": [
           {
            "marker": {
             "colorbar": {
              "outlinewidth": 0,
              "ticks": ""
             }
            },
            "type": "scatterpolargl"
           }
          ],
          "scatterternary": [
           {
            "marker": {
             "colorbar": {
              "outlinewidth": 0,
              "ticks": ""
             }
            },
            "type": "scatterternary"
           }
          ],
          "surface": [
           {
            "colorbar": {
             "outlinewidth": 0,
             "ticks": ""
            },
            "colorscale": [
             [
              0,
              "#0d0887"
             ],
             [
              0.1111111111111111,
              "#46039f"
             ],
             [
              0.2222222222222222,
              "#7201a8"
             ],
             [
              0.3333333333333333,
              "#9c179e"
             ],
             [
              0.4444444444444444,
              "#bd3786"
             ],
             [
              0.5555555555555556,
              "#d8576b"
             ],
             [
              0.6666666666666666,
              "#ed7953"
             ],
             [
              0.7777777777777778,
              "#fb9f3a"
             ],
             [
              0.8888888888888888,
              "#fdca26"
             ],
             [
              1,
              "#f0f921"
             ]
            ],
            "type": "surface"
           }
          ],
          "table": [
           {
            "cells": {
             "fill": {
              "color": "#EBF0F8"
             },
             "line": {
              "color": "white"
             }
            },
            "header": {
             "fill": {
              "color": "#C8D4E3"
             },
             "line": {
              "color": "white"
             }
            },
            "type": "table"
           }
          ]
         },
         "layout": {
          "annotationdefaults": {
           "arrowcolor": "#2a3f5f",
           "arrowhead": 0,
           "arrowwidth": 1
          },
          "autotypenumbers": "strict",
          "coloraxis": {
           "colorbar": {
            "outlinewidth": 0,
            "ticks": ""
           }
          },
          "colorscale": {
           "diverging": [
            [
             0,
             "#8e0152"
            ],
            [
             0.1,
             "#c51b7d"
            ],
            [
             0.2,
             "#de77ae"
            ],
            [
             0.3,
             "#f1b6da"
            ],
            [
             0.4,
             "#fde0ef"
            ],
            [
             0.5,
             "#f7f7f7"
            ],
            [
             0.6,
             "#e6f5d0"
            ],
            [
             0.7,
             "#b8e186"
            ],
            [
             0.8,
             "#7fbc41"
            ],
            [
             0.9,
             "#4d9221"
            ],
            [
             1,
             "#276419"
            ]
           ],
           "sequential": [
            [
             0,
             "#0d0887"
            ],
            [
             0.1111111111111111,
             "#46039f"
            ],
            [
             0.2222222222222222,
             "#7201a8"
            ],
            [
             0.3333333333333333,
             "#9c179e"
            ],
            [
             0.4444444444444444,
             "#bd3786"
            ],
            [
             0.5555555555555556,
             "#d8576b"
            ],
            [
             0.6666666666666666,
             "#ed7953"
            ],
            [
             0.7777777777777778,
             "#fb9f3a"
            ],
            [
             0.8888888888888888,
             "#fdca26"
            ],
            [
             1,
             "#f0f921"
            ]
           ],
           "sequentialminus": [
            [
             0,
             "#0d0887"
            ],
            [
             0.1111111111111111,
             "#46039f"
            ],
            [
             0.2222222222222222,
             "#7201a8"
            ],
            [
             0.3333333333333333,
             "#9c179e"
            ],
            [
             0.4444444444444444,
             "#bd3786"
            ],
            [
             0.5555555555555556,
             "#d8576b"
            ],
            [
             0.6666666666666666,
             "#ed7953"
            ],
            [
             0.7777777777777778,
             "#fb9f3a"
            ],
            [
             0.8888888888888888,
             "#fdca26"
            ],
            [
             1,
             "#f0f921"
            ]
           ]
          },
          "colorway": [
           "#636efa",
           "#EF553B",
           "#00cc96",
           "#ab63fa",
           "#FFA15A",
           "#19d3f3",
           "#FF6692",
           "#B6E880",
           "#FF97FF",
           "#FECB52"
          ],
          "font": {
           "color": "#2a3f5f"
          },
          "geo": {
           "bgcolor": "white",
           "lakecolor": "white",
           "landcolor": "#E5ECF6",
           "showlakes": true,
           "showland": true,
           "subunitcolor": "white"
          },
          "hoverlabel": {
           "align": "left"
          },
          "hovermode": "closest",
          "mapbox": {
           "style": "light"
          },
          "paper_bgcolor": "white",
          "plot_bgcolor": "#E5ECF6",
          "polar": {
           "angularaxis": {
            "gridcolor": "white",
            "linecolor": "white",
            "ticks": ""
           },
           "bgcolor": "#E5ECF6",
           "radialaxis": {
            "gridcolor": "white",
            "linecolor": "white",
            "ticks": ""
           }
          },
          "scene": {
           "xaxis": {
            "backgroundcolor": "#E5ECF6",
            "gridcolor": "white",
            "gridwidth": 2,
            "linecolor": "white",
            "showbackground": true,
            "ticks": "",
            "zerolinecolor": "white"
           },
           "yaxis": {
            "backgroundcolor": "#E5ECF6",
            "gridcolor": "white",
            "gridwidth": 2,
            "linecolor": "white",
            "showbackground": true,
            "ticks": "",
            "zerolinecolor": "white"
           },
           "zaxis": {
            "backgroundcolor": "#E5ECF6",
            "gridcolor": "white",
            "gridwidth": 2,
            "linecolor": "white",
            "showbackground": true,
            "ticks": "",
            "zerolinecolor": "white"
           }
          },
          "shapedefaults": {
           "line": {
            "color": "#2a3f5f"
           }
          },
          "ternary": {
           "aaxis": {
            "gridcolor": "white",
            "linecolor": "white",
            "ticks": ""
           },
           "baxis": {
            "gridcolor": "white",
            "linecolor": "white",
            "ticks": ""
           },
           "bgcolor": "#E5ECF6",
           "caxis": {
            "gridcolor": "white",
            "linecolor": "white",
            "ticks": ""
           }
          },
          "title": {
           "x": 0.05
          },
          "xaxis": {
           "automargin": true,
           "gridcolor": "white",
           "linecolor": "white",
           "ticks": "",
           "title": {
            "standoff": 15
           },
           "zerolinecolor": "white",
           "zerolinewidth": 2
          },
          "yaxis": {
           "automargin": true,
           "gridcolor": "white",
           "linecolor": "white",
           "ticks": "",
           "title": {
            "standoff": 15
           },
           "zerolinecolor": "white",
           "zerolinewidth": 2
          }
         }
        },
        "xaxis": {
         "linecolor": "black",
         "linewidth": 2,
         "showline": true,
         "title": {
          "text": "Impact"
         }
        },
        "yaxis": {
         "linecolor": "black",
         "linewidth": 2,
         "showline": true,
         "ticktext": [
          "Latitude",
          "Products_Purchased",
          "Product_Usage[Activity_Type] (180 days unique",
          "Longitude",
          "Product_Usage[Activity_Type] (1 month unique ",
          "Annual_Revenue",
          "CSAT[Customer_Review] (latest)",
          "Prediction_Point (days from Product_Usage[Act",
          "ARR",
          "Product_Usage[Activity_Type] (180 days most f",
          "Industry",
          "Customers[Customer_Succes_Manager] (5 years m",
          "Customers[Products_Purchased] (5 years most f",
          "Product_Usage[UserID] (1 month unique count)",
          "CSAT[Net_Promoter_Score] (latest)",
          "Product_Usage (1 month count)",
          "Customers[Products_Purchased] (5 years count ",
          "Product_Usage[Activity_Type] (1 month most fr",
          "Employee_Count",
          "State",
          "Product_Usage (180 days count)",
          "Contract_Duration",
          "duration(Renewal_Date, Customer_Since_Date)",
          "Customers[Products_Purchased] (5 years unique",
          "Customer_Succes_Manager"
         ],
         "tickvals": [
          0,
          1,
          2,
          3,
          4,
          5,
          6,
          7,
          8,
          9,
          10,
          11,
          12,
          13,
          14,
          15,
          16,
          17,
          18,
          19,
          20,
          21,
          22,
          23,
          24
         ],
         "title": {
          "text": "Feature Name"
         }
        }
       }
      },
      "text/html": [
       "<div>                            <div id=\"43f9ea55-4a47-4434-abf4-cb11983483fc\" class=\"plotly-graph-div\" style=\"height:500px; width:100%;\"></div>            <script type=\"text/javascript\">                require([\"plotly\"], function(Plotly) {                    window.PLOTLYENV=window.PLOTLYENV || {};                                    if (document.getElementById(\"43f9ea55-4a47-4434-abf4-cb11983483fc\")) {                    Plotly.newPlot(                        \"43f9ea55-4a47-4434-abf4-cb11983483fc\",                        [{\"name\":\"Positive Impact\",\"orientation\":\"h\",\"x\":[67.0639526577,78.376943388,84.37006554469998,95.7637486967,96.654853833,98.1398728426,120.8145995447,135.7532096959,152.0048960101,158.939371991,159.0614583672,159.29487609989997,170.16392010919998,185.61616410259995,208.13063349529997,222.053264618,226.45991567190003,271.5543512927,310.6543703796,437.6355707843,490.36121663489996,580.3719908392001,618.1106456527,657.8767343758,750.6995131487],\"y\":[\"Latitude\",\"Products_Purchased\",\"Product_Usage[Activity_Type] (180 days unique count)\",\"Longitude\",\"Product_Usage[Activity_Type] (1 month unique count)\",\"Annual_Revenue\",\"CSAT[Customer_Review] (latest)\",\"Prediction_Point (days from Product_Usage[Activity_Timestamp]) (180 days avg)\",\"ARR\",\"Product_Usage[Activity_Type] (180 days most frequent)\",\"Industry\",\"Customers[Customer_Succes_Manager] (5 years most frequent)\",\"Customers[Products_Purchased] (5 years most frequent)\",\"Product_Usage[UserID] (1 month unique count)\",\"CSAT[Net_Promoter_Score] (latest)\",\"Product_Usage (1 month count)\",\"Customers[Products_Purchased] (5 years count of business_essentials)\",\"Product_Usage[Activity_Type] (1 month most frequent)\",\"Employee_Count\",\"State\",\"Product_Usage (180 days count)\",\"Contract_Duration\",\"duration(Renewal_Date, Customer_Since_Date)\",\"Customers[Products_Purchased] (5 years unique count)\",\"Customer_Succes_Manager\"],\"type\":\"bar\",\"hovertemplate\":\"<b>Feature Name:</b> %{y} <br><b>Feature Strength:</b> %{x}<extra></extra>\"},{\"name\":\"Negative Impact\",\"orientation\":\"h\",\"x\":[67.0639526577,78.376943388,84.37006554469998,95.7637486967,96.654853833,98.1398728426,120.8145995447,135.7532096959,152.0048960101,158.939371991,159.0614583672,159.29487609989997,170.16392010919998,185.61616410259995,208.13063349529997,222.053264618,226.45991567190003,271.5543512927,310.6543703796,437.6355707843,490.36121663489996,580.3719908392001,618.1106456527,657.8767343758,750.6995131487],\"y\":[\"Latitude\",\"Products_Purchased\",\"Product_Usage[Activity_Type] (180 days unique count)\",\"Longitude\",\"Product_Usage[Activity_Type] (1 month unique count)\",\"Annual_Revenue\",\"CSAT[Customer_Review] (latest)\",\"Prediction_Point (days from Product_Usage[Activity_Timestamp]) (180 days avg)\",\"ARR\",\"Product_Usage[Activity_Type] (180 days most frequent)\",\"Industry\",\"Customers[Customer_Succes_Manager] (5 years most frequent)\",\"Customers[Products_Purchased] (5 years most frequent)\",\"Product_Usage[UserID] (1 month unique count)\",\"CSAT[Net_Promoter_Score] (latest)\",\"Product_Usage (1 month count)\",\"Customers[Products_Purchased] (5 years count of business_essentials)\",\"Product_Usage[Activity_Type] (1 month most frequent)\",\"Employee_Count\",\"State\",\"Product_Usage (180 days count)\",\"Contract_Duration\",\"duration(Renewal_Date, Customer_Since_Date)\",\"Customers[Products_Purchased] (5 years unique count)\",\"Customer_Succes_Manager\"],\"type\":\"bar\",\"hovertemplate\":\"<b>Feature Name:</b> %{y} <br><b>Feature Strength:</b> %{x}<extra></extra>\"}],                        {\"template\":{\"data\":{\"histogram2dcontour\":[{\"type\":\"histogram2dcontour\",\"colorbar\":{\"outlinewidth\":0,\"ticks\":\"\"},\"colorscale\":[[0.0,\"#0d0887\"],[0.1111111111111111,\"#46039f\"],[0.2222222222222222,\"#7201a8\"],[0.3333333333333333,\"#9c179e\"],[0.4444444444444444,\"#bd3786\"],[0.5555555555555556,\"#d8576b\"],[0.6666666666666666,\"#ed7953\"],[0.7777777777777778,\"#fb9f3a\"],[0.8888888888888888,\"#fdca26\"],[1.0,\"#f0f921\"]]}],\"choropleth\":[{\"type\":\"choropleth\",\"colorbar\":{\"outlinewidth\":0,\"ticks\":\"\"}}],\"histogram2d\":[{\"type\":\"histogram2d\",\"colorbar\":{\"outlinewidth\":0,\"ticks\":\"\"},\"colorscale\":[[0.0,\"#0d0887\"],[0.1111111111111111,\"#46039f\"],[0.2222222222222222,\"#7201a8\"],[0.3333333333333333,\"#9c179e\"],[0.4444444444444444,\"#bd3786\"],[0.5555555555555556,\"#d8576b\"],[0.6666666666666666,\"#ed7953\"],[0.7777777777777778,\"#fb9f3a\"],[0.8888888888888888,\"#fdca26\"],[1.0,\"#f0f921\"]]}],\"heatmap\":[{\"type\":\"heatmap\",\"colorbar\":{\"outlinewidth\":0,\"ticks\":\"\"},\"colorscale\":[[0.0,\"#0d0887\"],[0.1111111111111111,\"#46039f\"],[0.2222222222222222,\"#7201a8\"],[0.3333333333333333,\"#9c179e\"],[0.4444444444444444,\"#bd3786\"],[0.5555555555555556,\"#d8576b\"],[0.6666666666666666,\"#ed7953\"],[0.7777777777777778,\"#fb9f3a\"],[0.8888888888888888,\"#fdca26\"],[1.0,\"#f0f921\"]]}],\"heatmapgl\":[{\"type\":\"heatmapgl\",\"colorbar\":{\"outlinewidth\":0,\"ticks\":\"\"},\"colorscale\":[[0.0,\"#0d0887\"],[0.1111111111111111,\"#46039f\"],[0.2222222222222222,\"#7201a8\"],[0.3333333333333333,\"#9c179e\"],[0.4444444444444444,\"#bd3786\"],[0.5555555555555556,\"#d8576b\"],[0.6666666666666666,\"#ed7953\"],[0.7777777777777778,\"#fb9f3a\"],[0.8888888888888888,\"#fdca26\"],[1.0,\"#f0f921\"]]}],\"contourcarpet\":[{\"type\":\"contourcarpet\",\"colorbar\":{\"outlinewidth\":0,\"ticks\":\"\"}}],\"contour\":[{\"type\":\"contour\",\"colorbar\":{\"outlinewidth\":0,\"ticks\":\"\"},\"colorscale\":[[0.0,\"#0d0887\"],[0.1111111111111111,\"#46039f\"],[0.2222222222222222,\"#7201a8\"],[0.3333333333333333,\"#9c179e\"],[0.4444444444444444,\"#bd3786\"],[0.5555555555555556,\"#d8576b\"],[0.6666666666666666,\"#ed7953\"],[0.7777777777777778,\"#fb9f3a\"],[0.8888888888888888,\"#fdca26\"],[1.0,\"#f0f921\"]]}],\"surface\":[{\"type\":\"surface\",\"colorbar\":{\"outlinewidth\":0,\"ticks\":\"\"},\"colorscale\":[[0.0,\"#0d0887\"],[0.1111111111111111,\"#46039f\"],[0.2222222222222222,\"#7201a8\"],[0.3333333333333333,\"#9c179e\"],[0.4444444444444444,\"#bd3786\"],[0.5555555555555556,\"#d8576b\"],[0.6666666666666666,\"#ed7953\"],[0.7777777777777778,\"#fb9f3a\"],[0.8888888888888888,\"#fdca26\"],[1.0,\"#f0f921\"]]}],\"mesh3d\":[{\"type\":\"mesh3d\",\"colorbar\":{\"outlinewidth\":0,\"ticks\":\"\"}}],\"scatter\":[{\"fillpattern\":{\"fillmode\":\"overlay\",\"size\":10,\"solidity\":0.2},\"type\":\"scatter\"}],\"parcoords\":[{\"type\":\"parcoords\",\"line\":{\"colorbar\":{\"outlinewidth\":0,\"ticks\":\"\"}}}],\"scatterpolargl\":[{\"type\":\"scatterpolargl\",\"marker\":{\"colorbar\":{\"outlinewidth\":0,\"ticks\":\"\"}}}],\"bar\":[{\"error_x\":{\"color\":\"#2a3f5f\"},\"error_y\":{\"color\":\"#2a3f5f\"},\"marker\":{\"line\":{\"color\":\"#E5ECF6\",\"width\":0.5},\"pattern\":{\"fillmode\":\"overlay\",\"size\":10,\"solidity\":0.2}},\"type\":\"bar\"}],\"scattergeo\":[{\"type\":\"scattergeo\",\"marker\":{\"colorbar\":{\"outlinewidth\":0,\"ticks\":\"\"}}}],\"scatterpolar\":[{\"type\":\"scatterpolar\",\"marker\":{\"colorbar\":{\"outlinewidth\":0,\"ticks\":\"\"}}}],\"histogram\":[{\"marker\":{\"pattern\":{\"fillmode\":\"overlay\",\"size\":10,\"solidity\":0.2}},\"type\":\"histogram\"}],\"scattergl\":[{\"type\":\"scattergl\",\"marker\":{\"colorbar\":{\"outlinewidth\":0,\"ticks\":\"\"}}}],\"scatter3d\":[{\"type\":\"scatter3d\",\"line\":{\"colorbar\":{\"outlinewidth\":0,\"ticks\":\"\"}},\"marker\":{\"colorbar\":{\"outlinewidth\":0,\"ticks\":\"\"}}}],\"scattermapbox\":[{\"type\":\"scattermapbox\",\"marker\":{\"colorbar\":{\"outlinewidth\":0,\"ticks\":\"\"}}}],\"scatterternary\":[{\"type\":\"scatterternary\",\"marker\":{\"colorbar\":{\"outlinewidth\":0,\"ticks\":\"\"}}}],\"scattercarpet\":[{\"type\":\"scattercarpet\",\"marker\":{\"colorbar\":{\"outlinewidth\":0,\"ticks\":\"\"}}}],\"carpet\":[{\"aaxis\":{\"endlinecolor\":\"#2a3f5f\",\"gridcolor\":\"white\",\"linecolor\":\"white\",\"minorgridcolor\":\"white\",\"startlinecolor\":\"#2a3f5f\"},\"baxis\":{\"endlinecolor\":\"#2a3f5f\",\"gridcolor\":\"white\",\"linecolor\":\"white\",\"minorgridcolor\":\"white\",\"startlinecolor\":\"#2a3f5f\"},\"type\":\"carpet\"}],\"table\":[{\"cells\":{\"fill\":{\"color\":\"#EBF0F8\"},\"line\":{\"color\":\"white\"}},\"header\":{\"fill\":{\"color\":\"#C8D4E3\"},\"line\":{\"color\":\"white\"}},\"type\":\"table\"}],\"barpolar\":[{\"marker\":{\"line\":{\"color\":\"#E5ECF6\",\"width\":0.5},\"pattern\":{\"fillmode\":\"overlay\",\"size\":10,\"solidity\":0.2}},\"type\":\"barpolar\"}],\"pie\":[{\"automargin\":true,\"type\":\"pie\"}]},\"layout\":{\"autotypenumbers\":\"strict\",\"colorway\":[\"#636efa\",\"#EF553B\",\"#00cc96\",\"#ab63fa\",\"#FFA15A\",\"#19d3f3\",\"#FF6692\",\"#B6E880\",\"#FF97FF\",\"#FECB52\"],\"font\":{\"color\":\"#2a3f5f\"},\"hovermode\":\"closest\",\"hoverlabel\":{\"align\":\"left\"},\"paper_bgcolor\":\"white\",\"plot_bgcolor\":\"#E5ECF6\",\"polar\":{\"bgcolor\":\"#E5ECF6\",\"angularaxis\":{\"gridcolor\":\"white\",\"linecolor\":\"white\",\"ticks\":\"\"},\"radialaxis\":{\"gridcolor\":\"white\",\"linecolor\":\"white\",\"ticks\":\"\"}},\"ternary\":{\"bgcolor\":\"#E5ECF6\",\"aaxis\":{\"gridcolor\":\"white\",\"linecolor\":\"white\",\"ticks\":\"\"},\"baxis\":{\"gridcolor\":\"white\",\"linecolor\":\"white\",\"ticks\":\"\"},\"caxis\":{\"gridcolor\":\"white\",\"linecolor\":\"white\",\"ticks\":\"\"}},\"coloraxis\":{\"colorbar\":{\"outlinewidth\":0,\"ticks\":\"\"}},\"colorscale\":{\"sequential\":[[0.0,\"#0d0887\"],[0.1111111111111111,\"#46039f\"],[0.2222222222222222,\"#7201a8\"],[0.3333333333333333,\"#9c179e\"],[0.4444444444444444,\"#bd3786\"],[0.5555555555555556,\"#d8576b\"],[0.6666666666666666,\"#ed7953\"],[0.7777777777777778,\"#fb9f3a\"],[0.8888888888888888,\"#fdca26\"],[1.0,\"#f0f921\"]],\"sequentialminus\":[[0.0,\"#0d0887\"],[0.1111111111111111,\"#46039f\"],[0.2222222222222222,\"#7201a8\"],[0.3333333333333333,\"#9c179e\"],[0.4444444444444444,\"#bd3786\"],[0.5555555555555556,\"#d8576b\"],[0.6666666666666666,\"#ed7953\"],[0.7777777777777778,\"#fb9f3a\"],[0.8888888888888888,\"#fdca26\"],[1.0,\"#f0f921\"]],\"diverging\":[[0,\"#8e0152\"],[0.1,\"#c51b7d\"],[0.2,\"#de77ae\"],[0.3,\"#f1b6da\"],[0.4,\"#fde0ef\"],[0.5,\"#f7f7f7\"],[0.6,\"#e6f5d0\"],[0.7,\"#b8e186\"],[0.8,\"#7fbc41\"],[0.9,\"#4d9221\"],[1,\"#276419\"]]},\"xaxis\":{\"gridcolor\":\"white\",\"linecolor\":\"white\",\"ticks\":\"\",\"title\":{\"standoff\":15},\"zerolinecolor\":\"white\",\"automargin\":true,\"zerolinewidth\":2},\"yaxis\":{\"gridcolor\":\"white\",\"linecolor\":\"white\",\"ticks\":\"\",\"title\":{\"standoff\":15},\"zerolinecolor\":\"white\",\"automargin\":true,\"zerolinewidth\":2},\"scene\":{\"xaxis\":{\"backgroundcolor\":\"#E5ECF6\",\"gridcolor\":\"white\",\"linecolor\":\"white\",\"showbackground\":true,\"ticks\":\"\",\"zerolinecolor\":\"white\",\"gridwidth\":2},\"yaxis\":{\"backgroundcolor\":\"#E5ECF6\",\"gridcolor\":\"white\",\"linecolor\":\"white\",\"showbackground\":true,\"ticks\":\"\",\"zerolinecolor\":\"white\",\"gridwidth\":2},\"zaxis\":{\"backgroundcolor\":\"#E5ECF6\",\"gridcolor\":\"white\",\"linecolor\":\"white\",\"showbackground\":true,\"ticks\":\"\",\"zerolinecolor\":\"white\",\"gridwidth\":2}},\"shapedefaults\":{\"line\":{\"color\":\"#2a3f5f\"}},\"annotationdefaults\":{\"arrowcolor\":\"#2a3f5f\",\"arrowhead\":0,\"arrowwidth\":1},\"geo\":{\"bgcolor\":\"white\",\"landcolor\":\"#E5ECF6\",\"subunitcolor\":\"white\",\"showland\":true,\"showlakes\":true,\"lakecolor\":\"white\"},\"title\":{\"x\":0.05},\"mapbox\":{\"style\":\"light\"}}},\"margin\":{\"l\":20,\"r\":0,\"t\":20,\"b\":20},\"legend\":{\"orientation\":\"h\",\"yanchor\":\"bottom\",\"y\":1.02,\"xanchor\":\"right\",\"x\":1},\"barmode\":\"stack\",\"height\":500,\"hoverlabel\":{\"font\":{\"size\":16,\"family\":\"Rockwell\"},\"bgcolor\":\"white\",\"namelength\":-1},\"plot_bgcolor\":\"rgba(0,0,0,0)\",\"yaxis\":{\"title\":{\"text\":\"Feature Name\"},\"tickvals\":[0,1,2,3,4,5,6,7,8,9,10,11,12,13,14,15,16,17,18,19,20,21,22,23,24],\"ticktext\":[\"Latitude\",\"Products_Purchased\",\"Product_Usage[Activity_Type] (180 days unique\",\"Longitude\",\"Product_Usage[Activity_Type] (1 month unique \",\"Annual_Revenue\",\"CSAT[Customer_Review] (latest)\",\"Prediction_Point (days from Product_Usage[Act\",\"ARR\",\"Product_Usage[Activity_Type] (180 days most f\",\"Industry\",\"Customers[Customer_Succes_Manager] (5 years m\",\"Customers[Products_Purchased] (5 years most f\",\"Product_Usage[UserID] (1 month unique count)\",\"CSAT[Net_Promoter_Score] (latest)\",\"Product_Usage (1 month count)\",\"Customers[Products_Purchased] (5 years count \",\"Product_Usage[Activity_Type] (1 month most fr\",\"Employee_Count\",\"State\",\"Product_Usage (180 days count)\",\"Contract_Duration\",\"duration(Renewal_Date, Customer_Since_Date)\",\"Customers[Products_Purchased] (5 years unique\",\"Customer_Succes_Manager\"],\"showline\":true,\"linewidth\":2,\"linecolor\":\"black\"},\"xaxis\":{\"title\":{\"text\":\"Impact\"},\"showline\":true,\"linewidth\":2,\"linecolor\":\"black\"}},                        {\"responsive\": true}                    ).then(function(){\n",
       "                            \n",
       "var gd = document.getElementById('43f9ea55-4a47-4434-abf4-cb11983483fc');\n",
       "var x = new MutationObserver(function (mutations, observer) {{\n",
       "        var display = window.getComputedStyle(gd).display;\n",
       "        if (!display || display === 'none') {{\n",
       "            console.log([gd, 'removed!']);\n",
       "            Plotly.purge(gd);\n",
       "            observer.disconnect();\n",
       "        }}\n",
       "}});\n",
       "\n",
       "// Listen for the removal of the full notebook cells\n",
       "var notebookContainer = gd.closest('#notebook-container');\n",
       "if (notebookContainer) {{\n",
       "    x.observe(notebookContainer, {childList: true});\n",
       "}}\n",
       "\n",
       "// Listen for the clearing of the current output cell\n",
       "var outputEl = gd.closest('.output');\n",
       "if (outputEl) {{\n",
       "    x.observe(outputEl, {childList: true});\n",
       "}}\n",
       "\n",
       "                        })                };                });            </script>        </div>"
      ]
     },
     "metadata": {},
     "output_type": "display_data"
    }
   ],
   "source": [
    "# feature impact split by strength\n",
    "plot_signed_feature_impact(melted, height=500, n=25)"
   ]
  },
  {
   "cell_type": "code",
   "execution_count": 915,
   "id": "19862260",
   "metadata": {},
   "outputs": [
    {
     "data": {
      "application/vnd.plotly.v1+json": {
       "config": {
        "plotlyServerURL": "https://plot.ly"
       },
       "data": [
        {
         "hovertemplate": "<b>Feature Name:</b> %{y} <br><b>Feature Strength:</b> %{x}<extra></extra>",
         "name": "Positive Impact",
         "orientation": "h",
         "type": "bar",
         "x": [
          7.314073648700002,
          8.1880487605,
          8.522554659099999,
          9.9311726159,
          10.196597172899999,
          10.4411433575,
          22.3406681752,
          12.127486820300001,
          14.6587286981,
          15.462343267899998,
          17.8813862624,
          18.0838888268,
          20.001862214699997,
          20.009706061699998,
          22.559802768700003,
          23.8415631437,
          24.458669990500006,
          31.6737335938,
          36.127299021599995,
          54.745114404999995,
          55.69843756360001,
          62.9191002252,
          67.64229127680001,
          77.97202256060002,
          79.35632497610001
         ],
         "y": [
          "Customers[Contract_Duration] (5 years most frequent)",
          "Product_Usage[Activity_Type] (180 days unique count)",
          "Products_Purchased",
          "Longitude",
          "Product_Usage[Activity_Type] (1 month unique count)",
          "Annual_Revenue",
          "Industry",
          "CSAT[Customer_Review] (latest)",
          "Prediction_Point (days from Product_Usage[Activity_Timestamp]) (180 days avg)",
          "ARR",
          "Customers[Customer_Succes_Manager] (5 years most frequent)",
          "Product_Usage[Activity_Type] (180 days most frequent)",
          "Product_Usage[UserID] (1 month unique count)",
          "Customers[Products_Purchased] (5 years most frequent)",
          "Customers[Products_Purchased] (5 years count of business_essentials)",
          "CSAT[Net_Promoter_Score] (latest)",
          "Product_Usage (1 month count)",
          "Product_Usage[Activity_Type] (1 month most frequent)",
          "Employee_Count",
          "Product_Usage (180 days count)",
          "State",
          "Contract_Duration",
          "duration(Renewal_Date, Customer_Since_Date)",
          "Customers[Products_Purchased] (5 years unique count)",
          "Customer_Succes_Manager"
         ]
        },
        {
         "hovertemplate": "<b>Feature Name:</b> %{y} <br><b>Feature Strength:</b> %{x}<extra></extra>",
         "name": "Negative Impact",
         "orientation": "h",
         "type": "bar",
         "x": [
          7.314073648700002,
          8.1880487605,
          8.522554659099999,
          9.9311726159,
          10.196597172899999,
          10.4411433575,
          0,
          12.127486820300001,
          14.6587286981,
          15.462343267899998,
          17.8813862624,
          18.0838888268,
          20.001862214699997,
          20.009706061699998,
          22.559802768700003,
          23.8415631437,
          24.458669990500006,
          31.6737335938,
          36.127299021599995,
          54.745114404999995,
          55.69843756360001,
          62.9191002252,
          67.64229127680001,
          77.97202256060002,
          79.35632497610001
         ],
         "y": [
          "Customers[Contract_Duration] (5 years most frequent)",
          "Product_Usage[Activity_Type] (180 days unique count)",
          "Products_Purchased",
          "Longitude",
          "Product_Usage[Activity_Type] (1 month unique count)",
          "Annual_Revenue",
          "Industry",
          "CSAT[Customer_Review] (latest)",
          "Prediction_Point (days from Product_Usage[Activity_Timestamp]) (180 days avg)",
          "ARR",
          "Customers[Customer_Succes_Manager] (5 years most frequent)",
          "Product_Usage[Activity_Type] (180 days most frequent)",
          "Product_Usage[UserID] (1 month unique count)",
          "Customers[Products_Purchased] (5 years most frequent)",
          "Customers[Products_Purchased] (5 years count of business_essentials)",
          "CSAT[Net_Promoter_Score] (latest)",
          "Product_Usage (1 month count)",
          "Product_Usage[Activity_Type] (1 month most frequent)",
          "Employee_Count",
          "Product_Usage (180 days count)",
          "State",
          "Contract_Duration",
          "duration(Renewal_Date, Customer_Since_Date)",
          "Customers[Products_Purchased] (5 years unique count)",
          "Customer_Succes_Manager"
         ]
        }
       ],
       "layout": {
        "barmode": "stack",
        "height": 500,
        "hoverlabel": {
         "bgcolor": "white",
         "font": {
          "family": "Rockwell",
          "size": 16
         },
         "namelength": -1
        },
        "legend": {
         "orientation": "h",
         "x": 1,
         "xanchor": "right",
         "y": 1.02,
         "yanchor": "bottom"
        },
        "margin": {
         "b": 20,
         "l": 20,
         "r": 0,
         "t": 20
        },
        "plot_bgcolor": "rgba(0,0,0,0)",
        "template": {
         "data": {
          "bar": [
           {
            "error_x": {
             "color": "#2a3f5f"
            },
            "error_y": {
             "color": "#2a3f5f"
            },
            "marker": {
             "line": {
              "color": "#E5ECF6",
              "width": 0.5
             },
             "pattern": {
              "fillmode": "overlay",
              "size": 10,
              "solidity": 0.2
             }
            },
            "type": "bar"
           }
          ],
          "barpolar": [
           {
            "marker": {
             "line": {
              "color": "#E5ECF6",
              "width": 0.5
             },
             "pattern": {
              "fillmode": "overlay",
              "size": 10,
              "solidity": 0.2
             }
            },
            "type": "barpolar"
           }
          ],
          "carpet": [
           {
            "aaxis": {
             "endlinecolor": "#2a3f5f",
             "gridcolor": "white",
             "linecolor": "white",
             "minorgridcolor": "white",
             "startlinecolor": "#2a3f5f"
            },
            "baxis": {
             "endlinecolor": "#2a3f5f",
             "gridcolor": "white",
             "linecolor": "white",
             "minorgridcolor": "white",
             "startlinecolor": "#2a3f5f"
            },
            "type": "carpet"
           }
          ],
          "choropleth": [
           {
            "colorbar": {
             "outlinewidth": 0,
             "ticks": ""
            },
            "type": "choropleth"
           }
          ],
          "contour": [
           {
            "colorbar": {
             "outlinewidth": 0,
             "ticks": ""
            },
            "colorscale": [
             [
              0,
              "#0d0887"
             ],
             [
              0.1111111111111111,
              "#46039f"
             ],
             [
              0.2222222222222222,
              "#7201a8"
             ],
             [
              0.3333333333333333,
              "#9c179e"
             ],
             [
              0.4444444444444444,
              "#bd3786"
             ],
             [
              0.5555555555555556,
              "#d8576b"
             ],
             [
              0.6666666666666666,
              "#ed7953"
             ],
             [
              0.7777777777777778,
              "#fb9f3a"
             ],
             [
              0.8888888888888888,
              "#fdca26"
             ],
             [
              1,
              "#f0f921"
             ]
            ],
            "type": "contour"
           }
          ],
          "contourcarpet": [
           {
            "colorbar": {
             "outlinewidth": 0,
             "ticks": ""
            },
            "type": "contourcarpet"
           }
          ],
          "heatmap": [
           {
            "colorbar": {
             "outlinewidth": 0,
             "ticks": ""
            },
            "colorscale": [
             [
              0,
              "#0d0887"
             ],
             [
              0.1111111111111111,
              "#46039f"
             ],
             [
              0.2222222222222222,
              "#7201a8"
             ],
             [
              0.3333333333333333,
              "#9c179e"
             ],
             [
              0.4444444444444444,
              "#bd3786"
             ],
             [
              0.5555555555555556,
              "#d8576b"
             ],
             [
              0.6666666666666666,
              "#ed7953"
             ],
             [
              0.7777777777777778,
              "#fb9f3a"
             ],
             [
              0.8888888888888888,
              "#fdca26"
             ],
             [
              1,
              "#f0f921"
             ]
            ],
            "type": "heatmap"
           }
          ],
          "heatmapgl": [
           {
            "colorbar": {
             "outlinewidth": 0,
             "ticks": ""
            },
            "colorscale": [
             [
              0,
              "#0d0887"
             ],
             [
              0.1111111111111111,
              "#46039f"
             ],
             [
              0.2222222222222222,
              "#7201a8"
             ],
             [
              0.3333333333333333,
              "#9c179e"
             ],
             [
              0.4444444444444444,
              "#bd3786"
             ],
             [
              0.5555555555555556,
              "#d8576b"
             ],
             [
              0.6666666666666666,
              "#ed7953"
             ],
             [
              0.7777777777777778,
              "#fb9f3a"
             ],
             [
              0.8888888888888888,
              "#fdca26"
             ],
             [
              1,
              "#f0f921"
             ]
            ],
            "type": "heatmapgl"
           }
          ],
          "histogram": [
           {
            "marker": {
             "pattern": {
              "fillmode": "overlay",
              "size": 10,
              "solidity": 0.2
             }
            },
            "type": "histogram"
           }
          ],
          "histogram2d": [
           {
            "colorbar": {
             "outlinewidth": 0,
             "ticks": ""
            },
            "colorscale": [
             [
              0,
              "#0d0887"
             ],
             [
              0.1111111111111111,
              "#46039f"
             ],
             [
              0.2222222222222222,
              "#7201a8"
             ],
             [
              0.3333333333333333,
              "#9c179e"
             ],
             [
              0.4444444444444444,
              "#bd3786"
             ],
             [
              0.5555555555555556,
              "#d8576b"
             ],
             [
              0.6666666666666666,
              "#ed7953"
             ],
             [
              0.7777777777777778,
              "#fb9f3a"
             ],
             [
              0.8888888888888888,
              "#fdca26"
             ],
             [
              1,
              "#f0f921"
             ]
            ],
            "type": "histogram2d"
           }
          ],
          "histogram2dcontour": [
           {
            "colorbar": {
             "outlinewidth": 0,
             "ticks": ""
            },
            "colorscale": [
             [
              0,
              "#0d0887"
             ],
             [
              0.1111111111111111,
              "#46039f"
             ],
             [
              0.2222222222222222,
              "#7201a8"
             ],
             [
              0.3333333333333333,
              "#9c179e"
             ],
             [
              0.4444444444444444,
              "#bd3786"
             ],
             [
              0.5555555555555556,
              "#d8576b"
             ],
             [
              0.6666666666666666,
              "#ed7953"
             ],
             [
              0.7777777777777778,
              "#fb9f3a"
             ],
             [
              0.8888888888888888,
              "#fdca26"
             ],
             [
              1,
              "#f0f921"
             ]
            ],
            "type": "histogram2dcontour"
           }
          ],
          "mesh3d": [
           {
            "colorbar": {
             "outlinewidth": 0,
             "ticks": ""
            },
            "type": "mesh3d"
           }
          ],
          "parcoords": [
           {
            "line": {
             "colorbar": {
              "outlinewidth": 0,
              "ticks": ""
             }
            },
            "type": "parcoords"
           }
          ],
          "pie": [
           {
            "automargin": true,
            "type": "pie"
           }
          ],
          "scatter": [
           {
            "fillpattern": {
             "fillmode": "overlay",
             "size": 10,
             "solidity": 0.2
            },
            "type": "scatter"
           }
          ],
          "scatter3d": [
           {
            "line": {
             "colorbar": {
              "outlinewidth": 0,
              "ticks": ""
             }
            },
            "marker": {
             "colorbar": {
              "outlinewidth": 0,
              "ticks": ""
             }
            },
            "type": "scatter3d"
           }
          ],
          "scattercarpet": [
           {
            "marker": {
             "colorbar": {
              "outlinewidth": 0,
              "ticks": ""
             }
            },
            "type": "scattercarpet"
           }
          ],
          "scattergeo": [
           {
            "marker": {
             "colorbar": {
              "outlinewidth": 0,
              "ticks": ""
             }
            },
            "type": "scattergeo"
           }
          ],
          "scattergl": [
           {
            "marker": {
             "colorbar": {
              "outlinewidth": 0,
              "ticks": ""
             }
            },
            "type": "scattergl"
           }
          ],
          "scattermapbox": [
           {
            "marker": {
             "colorbar": {
              "outlinewidth": 0,
              "ticks": ""
             }
            },
            "type": "scattermapbox"
           }
          ],
          "scatterpolar": [
           {
            "marker": {
             "colorbar": {
              "outlinewidth": 0,
              "ticks": ""
             }
            },
            "type": "scatterpolar"
           }
          ],
          "scatterpolargl": [
           {
            "marker": {
             "colorbar": {
              "outlinewidth": 0,
              "ticks": ""
             }
            },
            "type": "scatterpolargl"
           }
          ],
          "scatterternary": [
           {
            "marker": {
             "colorbar": {
              "outlinewidth": 0,
              "ticks": ""
             }
            },
            "type": "scatterternary"
           }
          ],
          "surface": [
           {
            "colorbar": {
             "outlinewidth": 0,
             "ticks": ""
            },
            "colorscale": [
             [
              0,
              "#0d0887"
             ],
             [
              0.1111111111111111,
              "#46039f"
             ],
             [
              0.2222222222222222,
              "#7201a8"
             ],
             [
              0.3333333333333333,
              "#9c179e"
             ],
             [
              0.4444444444444444,
              "#bd3786"
             ],
             [
              0.5555555555555556,
              "#d8576b"
             ],
             [
              0.6666666666666666,
              "#ed7953"
             ],
             [
              0.7777777777777778,
              "#fb9f3a"
             ],
             [
              0.8888888888888888,
              "#fdca26"
             ],
             [
              1,
              "#f0f921"
             ]
            ],
            "type": "surface"
           }
          ],
          "table": [
           {
            "cells": {
             "fill": {
              "color": "#EBF0F8"
             },
             "line": {
              "color": "white"
             }
            },
            "header": {
             "fill": {
              "color": "#C8D4E3"
             },
             "line": {
              "color": "white"
             }
            },
            "type": "table"
           }
          ]
         },
         "layout": {
          "annotationdefaults": {
           "arrowcolor": "#2a3f5f",
           "arrowhead": 0,
           "arrowwidth": 1
          },
          "autotypenumbers": "strict",
          "coloraxis": {
           "colorbar": {
            "outlinewidth": 0,
            "ticks": ""
           }
          },
          "colorscale": {
           "diverging": [
            [
             0,
             "#8e0152"
            ],
            [
             0.1,
             "#c51b7d"
            ],
            [
             0.2,
             "#de77ae"
            ],
            [
             0.3,
             "#f1b6da"
            ],
            [
             0.4,
             "#fde0ef"
            ],
            [
             0.5,
             "#f7f7f7"
            ],
            [
             0.6,
             "#e6f5d0"
            ],
            [
             0.7,
             "#b8e186"
            ],
            [
             0.8,
             "#7fbc41"
            ],
            [
             0.9,
             "#4d9221"
            ],
            [
             1,
             "#276419"
            ]
           ],
           "sequential": [
            [
             0,
             "#0d0887"
            ],
            [
             0.1111111111111111,
             "#46039f"
            ],
            [
             0.2222222222222222,
             "#7201a8"
            ],
            [
             0.3333333333333333,
             "#9c179e"
            ],
            [
             0.4444444444444444,
             "#bd3786"
            ],
            [
             0.5555555555555556,
             "#d8576b"
            ],
            [
             0.6666666666666666,
             "#ed7953"
            ],
            [
             0.7777777777777778,
             "#fb9f3a"
            ],
            [
             0.8888888888888888,
             "#fdca26"
            ],
            [
             1,
             "#f0f921"
            ]
           ],
           "sequentialminus": [
            [
             0,
             "#0d0887"
            ],
            [
             0.1111111111111111,
             "#46039f"
            ],
            [
             0.2222222222222222,
             "#7201a8"
            ],
            [
             0.3333333333333333,
             "#9c179e"
            ],
            [
             0.4444444444444444,
             "#bd3786"
            ],
            [
             0.5555555555555556,
             "#d8576b"
            ],
            [
             0.6666666666666666,
             "#ed7953"
            ],
            [
             0.7777777777777778,
             "#fb9f3a"
            ],
            [
             0.8888888888888888,
             "#fdca26"
            ],
            [
             1,
             "#f0f921"
            ]
           ]
          },
          "colorway": [
           "#636efa",
           "#EF553B",
           "#00cc96",
           "#ab63fa",
           "#FFA15A",
           "#19d3f3",
           "#FF6692",
           "#B6E880",
           "#FF97FF",
           "#FECB52"
          ],
          "font": {
           "color": "#2a3f5f"
          },
          "geo": {
           "bgcolor": "white",
           "lakecolor": "white",
           "landcolor": "#E5ECF6",
           "showlakes": true,
           "showland": true,
           "subunitcolor": "white"
          },
          "hoverlabel": {
           "align": "left"
          },
          "hovermode": "closest",
          "mapbox": {
           "style": "light"
          },
          "paper_bgcolor": "white",
          "plot_bgcolor": "#E5ECF6",
          "polar": {
           "angularaxis": {
            "gridcolor": "white",
            "linecolor": "white",
            "ticks": ""
           },
           "bgcolor": "#E5ECF6",
           "radialaxis": {
            "gridcolor": "white",
            "linecolor": "white",
            "ticks": ""
           }
          },
          "scene": {
           "xaxis": {
            "backgroundcolor": "#E5ECF6",
            "gridcolor": "white",
            "gridwidth": 2,
            "linecolor": "white",
            "showbackground": true,
            "ticks": "",
            "zerolinecolor": "white"
           },
           "yaxis": {
            "backgroundcolor": "#E5ECF6",
            "gridcolor": "white",
            "gridwidth": 2,
            "linecolor": "white",
            "showbackground": true,
            "ticks": "",
            "zerolinecolor": "white"
           },
           "zaxis": {
            "backgroundcolor": "#E5ECF6",
            "gridcolor": "white",
            "gridwidth": 2,
            "linecolor": "white",
            "showbackground": true,
            "ticks": "",
            "zerolinecolor": "white"
           }
          },
          "shapedefaults": {
           "line": {
            "color": "#2a3f5f"
           }
          },
          "ternary": {
           "aaxis": {
            "gridcolor": "white",
            "linecolor": "white",
            "ticks": ""
           },
           "baxis": {
            "gridcolor": "white",
            "linecolor": "white",
            "ticks": ""
           },
           "bgcolor": "#E5ECF6",
           "caxis": {
            "gridcolor": "white",
            "linecolor": "white",
            "ticks": ""
           }
          },
          "title": {
           "x": 0.05
          },
          "xaxis": {
           "automargin": true,
           "gridcolor": "white",
           "linecolor": "white",
           "ticks": "",
           "title": {
            "standoff": 15
           },
           "zerolinecolor": "white",
           "zerolinewidth": 2
          },
          "yaxis": {
           "automargin": true,
           "gridcolor": "white",
           "linecolor": "white",
           "ticks": "",
           "title": {
            "standoff": 15
           },
           "zerolinecolor": "white",
           "zerolinewidth": 2
          }
         }
        },
        "xaxis": {
         "linecolor": "black",
         "linewidth": 2,
         "showline": true,
         "title": {
          "text": "Impact"
         }
        },
        "yaxis": {
         "linecolor": "black",
         "linewidth": 2,
         "showline": true,
         "ticktext": [
          "Customers[Contract_Duration] (5 years most fr",
          "Product_Usage[Activity_Type] (180 days unique",
          "Products_Purchased",
          "Longitude",
          "Product_Usage[Activity_Type] (1 month unique ",
          "Annual_Revenue",
          "Industry",
          "CSAT[Customer_Review] (latest)",
          "Prediction_Point (days from Product_Usage[Act",
          "ARR",
          "Customers[Customer_Succes_Manager] (5 years m",
          "Product_Usage[Activity_Type] (180 days most f",
          "Product_Usage[UserID] (1 month unique count)",
          "Customers[Products_Purchased] (5 years most f",
          "Customers[Products_Purchased] (5 years count ",
          "CSAT[Net_Promoter_Score] (latest)",
          "Product_Usage (1 month count)",
          "Product_Usage[Activity_Type] (1 month most fr",
          "Employee_Count",
          "Product_Usage (180 days count)",
          "State",
          "Contract_Duration",
          "duration(Renewal_Date, Customer_Since_Date)",
          "Customers[Products_Purchased] (5 years unique",
          "Customer_Succes_Manager"
         ],
         "tickvals": [
          0,
          1,
          2,
          3,
          4,
          5,
          6,
          7,
          8,
          9,
          10,
          11,
          12,
          13,
          14,
          15,
          16,
          17,
          18,
          19,
          20,
          21,
          22,
          23,
          24
         ],
         "title": {
          "text": "Feature Name"
         }
        }
       }
      },
      "text/html": [
       "<div>                            <div id=\"1714515b-370c-406c-9147-2bce89436841\" class=\"plotly-graph-div\" style=\"height:500px; width:100%;\"></div>            <script type=\"text/javascript\">                require([\"plotly\"], function(Plotly) {                    window.PLOTLYENV=window.PLOTLYENV || {};                                    if (document.getElementById(\"1714515b-370c-406c-9147-2bce89436841\")) {                    Plotly.newPlot(                        \"1714515b-370c-406c-9147-2bce89436841\",                        [{\"name\":\"Positive Impact\",\"orientation\":\"h\",\"x\":[7.314073648700002,8.1880487605,8.522554659099999,9.9311726159,10.196597172899999,10.4411433575,22.3406681752,12.127486820300001,14.6587286981,15.462343267899998,17.8813862624,18.0838888268,20.001862214699997,20.009706061699998,22.559802768700003,23.8415631437,24.458669990500006,31.6737335938,36.127299021599995,54.745114404999995,55.69843756360001,62.9191002252,67.64229127680001,77.97202256060002,79.35632497610001],\"y\":[\"Customers[Contract_Duration] (5 years most frequent)\",\"Product_Usage[Activity_Type] (180 days unique count)\",\"Products_Purchased\",\"Longitude\",\"Product_Usage[Activity_Type] (1 month unique count)\",\"Annual_Revenue\",\"Industry\",\"CSAT[Customer_Review] (latest)\",\"Prediction_Point (days from Product_Usage[Activity_Timestamp]) (180 days avg)\",\"ARR\",\"Customers[Customer_Succes_Manager] (5 years most frequent)\",\"Product_Usage[Activity_Type] (180 days most frequent)\",\"Product_Usage[UserID] (1 month unique count)\",\"Customers[Products_Purchased] (5 years most frequent)\",\"Customers[Products_Purchased] (5 years count of business_essentials)\",\"CSAT[Net_Promoter_Score] (latest)\",\"Product_Usage (1 month count)\",\"Product_Usage[Activity_Type] (1 month most frequent)\",\"Employee_Count\",\"Product_Usage (180 days count)\",\"State\",\"Contract_Duration\",\"duration(Renewal_Date, Customer_Since_Date)\",\"Customers[Products_Purchased] (5 years unique count)\",\"Customer_Succes_Manager\"],\"type\":\"bar\",\"hovertemplate\":\"<b>Feature Name:</b> %{y} <br><b>Feature Strength:</b> %{x}<extra></extra>\"},{\"name\":\"Negative Impact\",\"orientation\":\"h\",\"x\":[7.314073648700002,8.1880487605,8.522554659099999,9.9311726159,10.196597172899999,10.4411433575,0.0,12.127486820300001,14.6587286981,15.462343267899998,17.8813862624,18.0838888268,20.001862214699997,20.009706061699998,22.559802768700003,23.8415631437,24.458669990500006,31.6737335938,36.127299021599995,54.745114404999995,55.69843756360001,62.9191002252,67.64229127680001,77.97202256060002,79.35632497610001],\"y\":[\"Customers[Contract_Duration] (5 years most frequent)\",\"Product_Usage[Activity_Type] (180 days unique count)\",\"Products_Purchased\",\"Longitude\",\"Product_Usage[Activity_Type] (1 month unique count)\",\"Annual_Revenue\",\"Industry\",\"CSAT[Customer_Review] (latest)\",\"Prediction_Point (days from Product_Usage[Activity_Timestamp]) (180 days avg)\",\"ARR\",\"Customers[Customer_Succes_Manager] (5 years most frequent)\",\"Product_Usage[Activity_Type] (180 days most frequent)\",\"Product_Usage[UserID] (1 month unique count)\",\"Customers[Products_Purchased] (5 years most frequent)\",\"Customers[Products_Purchased] (5 years count of business_essentials)\",\"CSAT[Net_Promoter_Score] (latest)\",\"Product_Usage (1 month count)\",\"Product_Usage[Activity_Type] (1 month most frequent)\",\"Employee_Count\",\"Product_Usage (180 days count)\",\"State\",\"Contract_Duration\",\"duration(Renewal_Date, Customer_Since_Date)\",\"Customers[Products_Purchased] (5 years unique count)\",\"Customer_Succes_Manager\"],\"type\":\"bar\",\"hovertemplate\":\"<b>Feature Name:</b> %{y} <br><b>Feature Strength:</b> %{x}<extra></extra>\"}],                        {\"template\":{\"data\":{\"histogram2dcontour\":[{\"type\":\"histogram2dcontour\",\"colorbar\":{\"outlinewidth\":0,\"ticks\":\"\"},\"colorscale\":[[0.0,\"#0d0887\"],[0.1111111111111111,\"#46039f\"],[0.2222222222222222,\"#7201a8\"],[0.3333333333333333,\"#9c179e\"],[0.4444444444444444,\"#bd3786\"],[0.5555555555555556,\"#d8576b\"],[0.6666666666666666,\"#ed7953\"],[0.7777777777777778,\"#fb9f3a\"],[0.8888888888888888,\"#fdca26\"],[1.0,\"#f0f921\"]]}],\"choropleth\":[{\"type\":\"choropleth\",\"colorbar\":{\"outlinewidth\":0,\"ticks\":\"\"}}],\"histogram2d\":[{\"type\":\"histogram2d\",\"colorbar\":{\"outlinewidth\":0,\"ticks\":\"\"},\"colorscale\":[[0.0,\"#0d0887\"],[0.1111111111111111,\"#46039f\"],[0.2222222222222222,\"#7201a8\"],[0.3333333333333333,\"#9c179e\"],[0.4444444444444444,\"#bd3786\"],[0.5555555555555556,\"#d8576b\"],[0.6666666666666666,\"#ed7953\"],[0.7777777777777778,\"#fb9f3a\"],[0.8888888888888888,\"#fdca26\"],[1.0,\"#f0f921\"]]}],\"heatmap\":[{\"type\":\"heatmap\",\"colorbar\":{\"outlinewidth\":0,\"ticks\":\"\"},\"colorscale\":[[0.0,\"#0d0887\"],[0.1111111111111111,\"#46039f\"],[0.2222222222222222,\"#7201a8\"],[0.3333333333333333,\"#9c179e\"],[0.4444444444444444,\"#bd3786\"],[0.5555555555555556,\"#d8576b\"],[0.6666666666666666,\"#ed7953\"],[0.7777777777777778,\"#fb9f3a\"],[0.8888888888888888,\"#fdca26\"],[1.0,\"#f0f921\"]]}],\"heatmapgl\":[{\"type\":\"heatmapgl\",\"colorbar\":{\"outlinewidth\":0,\"ticks\":\"\"},\"colorscale\":[[0.0,\"#0d0887\"],[0.1111111111111111,\"#46039f\"],[0.2222222222222222,\"#7201a8\"],[0.3333333333333333,\"#9c179e\"],[0.4444444444444444,\"#bd3786\"],[0.5555555555555556,\"#d8576b\"],[0.6666666666666666,\"#ed7953\"],[0.7777777777777778,\"#fb9f3a\"],[0.8888888888888888,\"#fdca26\"],[1.0,\"#f0f921\"]]}],\"contourcarpet\":[{\"type\":\"contourcarpet\",\"colorbar\":{\"outlinewidth\":0,\"ticks\":\"\"}}],\"contour\":[{\"type\":\"contour\",\"colorbar\":{\"outlinewidth\":0,\"ticks\":\"\"},\"colorscale\":[[0.0,\"#0d0887\"],[0.1111111111111111,\"#46039f\"],[0.2222222222222222,\"#7201a8\"],[0.3333333333333333,\"#9c179e\"],[0.4444444444444444,\"#bd3786\"],[0.5555555555555556,\"#d8576b\"],[0.6666666666666666,\"#ed7953\"],[0.7777777777777778,\"#fb9f3a\"],[0.8888888888888888,\"#fdca26\"],[1.0,\"#f0f921\"]]}],\"surface\":[{\"type\":\"surface\",\"colorbar\":{\"outlinewidth\":0,\"ticks\":\"\"},\"colorscale\":[[0.0,\"#0d0887\"],[0.1111111111111111,\"#46039f\"],[0.2222222222222222,\"#7201a8\"],[0.3333333333333333,\"#9c179e\"],[0.4444444444444444,\"#bd3786\"],[0.5555555555555556,\"#d8576b\"],[0.6666666666666666,\"#ed7953\"],[0.7777777777777778,\"#fb9f3a\"],[0.8888888888888888,\"#fdca26\"],[1.0,\"#f0f921\"]]}],\"mesh3d\":[{\"type\":\"mesh3d\",\"colorbar\":{\"outlinewidth\":0,\"ticks\":\"\"}}],\"scatter\":[{\"fillpattern\":{\"fillmode\":\"overlay\",\"size\":10,\"solidity\":0.2},\"type\":\"scatter\"}],\"parcoords\":[{\"type\":\"parcoords\",\"line\":{\"colorbar\":{\"outlinewidth\":0,\"ticks\":\"\"}}}],\"scatterpolargl\":[{\"type\":\"scatterpolargl\",\"marker\":{\"colorbar\":{\"outlinewidth\":0,\"ticks\":\"\"}}}],\"bar\":[{\"error_x\":{\"color\":\"#2a3f5f\"},\"error_y\":{\"color\":\"#2a3f5f\"},\"marker\":{\"line\":{\"color\":\"#E5ECF6\",\"width\":0.5},\"pattern\":{\"fillmode\":\"overlay\",\"size\":10,\"solidity\":0.2}},\"type\":\"bar\"}],\"scattergeo\":[{\"type\":\"scattergeo\",\"marker\":{\"colorbar\":{\"outlinewidth\":0,\"ticks\":\"\"}}}],\"scatterpolar\":[{\"type\":\"scatterpolar\",\"marker\":{\"colorbar\":{\"outlinewidth\":0,\"ticks\":\"\"}}}],\"histogram\":[{\"marker\":{\"pattern\":{\"fillmode\":\"overlay\",\"size\":10,\"solidity\":0.2}},\"type\":\"histogram\"}],\"scattergl\":[{\"type\":\"scattergl\",\"marker\":{\"colorbar\":{\"outlinewidth\":0,\"ticks\":\"\"}}}],\"scatter3d\":[{\"type\":\"scatter3d\",\"line\":{\"colorbar\":{\"outlinewidth\":0,\"ticks\":\"\"}},\"marker\":{\"colorbar\":{\"outlinewidth\":0,\"ticks\":\"\"}}}],\"scattermapbox\":[{\"type\":\"scattermapbox\",\"marker\":{\"colorbar\":{\"outlinewidth\":0,\"ticks\":\"\"}}}],\"scatterternary\":[{\"type\":\"scatterternary\",\"marker\":{\"colorbar\":{\"outlinewidth\":0,\"ticks\":\"\"}}}],\"scattercarpet\":[{\"type\":\"scattercarpet\",\"marker\":{\"colorbar\":{\"outlinewidth\":0,\"ticks\":\"\"}}}],\"carpet\":[{\"aaxis\":{\"endlinecolor\":\"#2a3f5f\",\"gridcolor\":\"white\",\"linecolor\":\"white\",\"minorgridcolor\":\"white\",\"startlinecolor\":\"#2a3f5f\"},\"baxis\":{\"endlinecolor\":\"#2a3f5f\",\"gridcolor\":\"white\",\"linecolor\":\"white\",\"minorgridcolor\":\"white\",\"startlinecolor\":\"#2a3f5f\"},\"type\":\"carpet\"}],\"table\":[{\"cells\":{\"fill\":{\"color\":\"#EBF0F8\"},\"line\":{\"color\":\"white\"}},\"header\":{\"fill\":{\"color\":\"#C8D4E3\"},\"line\":{\"color\":\"white\"}},\"type\":\"table\"}],\"barpolar\":[{\"marker\":{\"line\":{\"color\":\"#E5ECF6\",\"width\":0.5},\"pattern\":{\"fillmode\":\"overlay\",\"size\":10,\"solidity\":0.2}},\"type\":\"barpolar\"}],\"pie\":[{\"automargin\":true,\"type\":\"pie\"}]},\"layout\":{\"autotypenumbers\":\"strict\",\"colorway\":[\"#636efa\",\"#EF553B\",\"#00cc96\",\"#ab63fa\",\"#FFA15A\",\"#19d3f3\",\"#FF6692\",\"#B6E880\",\"#FF97FF\",\"#FECB52\"],\"font\":{\"color\":\"#2a3f5f\"},\"hovermode\":\"closest\",\"hoverlabel\":{\"align\":\"left\"},\"paper_bgcolor\":\"white\",\"plot_bgcolor\":\"#E5ECF6\",\"polar\":{\"bgcolor\":\"#E5ECF6\",\"angularaxis\":{\"gridcolor\":\"white\",\"linecolor\":\"white\",\"ticks\":\"\"},\"radialaxis\":{\"gridcolor\":\"white\",\"linecolor\":\"white\",\"ticks\":\"\"}},\"ternary\":{\"bgcolor\":\"#E5ECF6\",\"aaxis\":{\"gridcolor\":\"white\",\"linecolor\":\"white\",\"ticks\":\"\"},\"baxis\":{\"gridcolor\":\"white\",\"linecolor\":\"white\",\"ticks\":\"\"},\"caxis\":{\"gridcolor\":\"white\",\"linecolor\":\"white\",\"ticks\":\"\"}},\"coloraxis\":{\"colorbar\":{\"outlinewidth\":0,\"ticks\":\"\"}},\"colorscale\":{\"sequential\":[[0.0,\"#0d0887\"],[0.1111111111111111,\"#46039f\"],[0.2222222222222222,\"#7201a8\"],[0.3333333333333333,\"#9c179e\"],[0.4444444444444444,\"#bd3786\"],[0.5555555555555556,\"#d8576b\"],[0.6666666666666666,\"#ed7953\"],[0.7777777777777778,\"#fb9f3a\"],[0.8888888888888888,\"#fdca26\"],[1.0,\"#f0f921\"]],\"sequentialminus\":[[0.0,\"#0d0887\"],[0.1111111111111111,\"#46039f\"],[0.2222222222222222,\"#7201a8\"],[0.3333333333333333,\"#9c179e\"],[0.4444444444444444,\"#bd3786\"],[0.5555555555555556,\"#d8576b\"],[0.6666666666666666,\"#ed7953\"],[0.7777777777777778,\"#fb9f3a\"],[0.8888888888888888,\"#fdca26\"],[1.0,\"#f0f921\"]],\"diverging\":[[0,\"#8e0152\"],[0.1,\"#c51b7d\"],[0.2,\"#de77ae\"],[0.3,\"#f1b6da\"],[0.4,\"#fde0ef\"],[0.5,\"#f7f7f7\"],[0.6,\"#e6f5d0\"],[0.7,\"#b8e186\"],[0.8,\"#7fbc41\"],[0.9,\"#4d9221\"],[1,\"#276419\"]]},\"xaxis\":{\"gridcolor\":\"white\",\"linecolor\":\"white\",\"ticks\":\"\",\"title\":{\"standoff\":15},\"zerolinecolor\":\"white\",\"automargin\":true,\"zerolinewidth\":2},\"yaxis\":{\"gridcolor\":\"white\",\"linecolor\":\"white\",\"ticks\":\"\",\"title\":{\"standoff\":15},\"zerolinecolor\":\"white\",\"automargin\":true,\"zerolinewidth\":2},\"scene\":{\"xaxis\":{\"backgroundcolor\":\"#E5ECF6\",\"gridcolor\":\"white\",\"linecolor\":\"white\",\"showbackground\":true,\"ticks\":\"\",\"zerolinecolor\":\"white\",\"gridwidth\":2},\"yaxis\":{\"backgroundcolor\":\"#E5ECF6\",\"gridcolor\":\"white\",\"linecolor\":\"white\",\"showbackground\":true,\"ticks\":\"\",\"zerolinecolor\":\"white\",\"gridwidth\":2},\"zaxis\":{\"backgroundcolor\":\"#E5ECF6\",\"gridcolor\":\"white\",\"linecolor\":\"white\",\"showbackground\":true,\"ticks\":\"\",\"zerolinecolor\":\"white\",\"gridwidth\":2}},\"shapedefaults\":{\"line\":{\"color\":\"#2a3f5f\"}},\"annotationdefaults\":{\"arrowcolor\":\"#2a3f5f\",\"arrowhead\":0,\"arrowwidth\":1},\"geo\":{\"bgcolor\":\"white\",\"landcolor\":\"#E5ECF6\",\"subunitcolor\":\"white\",\"showland\":true,\"showlakes\":true,\"lakecolor\":\"white\"},\"title\":{\"x\":0.05},\"mapbox\":{\"style\":\"light\"}}},\"margin\":{\"l\":20,\"r\":0,\"t\":20,\"b\":20},\"legend\":{\"orientation\":\"h\",\"yanchor\":\"bottom\",\"y\":1.02,\"xanchor\":\"right\",\"x\":1},\"barmode\":\"stack\",\"height\":500,\"hoverlabel\":{\"font\":{\"size\":16,\"family\":\"Rockwell\"},\"bgcolor\":\"white\",\"namelength\":-1},\"plot_bgcolor\":\"rgba(0,0,0,0)\",\"yaxis\":{\"title\":{\"text\":\"Feature Name\"},\"tickvals\":[0,1,2,3,4,5,6,7,8,9,10,11,12,13,14,15,16,17,18,19,20,21,22,23,24],\"ticktext\":[\"Customers[Contract_Duration] (5 years most fr\",\"Product_Usage[Activity_Type] (180 days unique\",\"Products_Purchased\",\"Longitude\",\"Product_Usage[Activity_Type] (1 month unique \",\"Annual_Revenue\",\"Industry\",\"CSAT[Customer_Review] (latest)\",\"Prediction_Point (days from Product_Usage[Act\",\"ARR\",\"Customers[Customer_Succes_Manager] (5 years m\",\"Product_Usage[Activity_Type] (180 days most f\",\"Product_Usage[UserID] (1 month unique count)\",\"Customers[Products_Purchased] (5 years most f\",\"Customers[Products_Purchased] (5 years count \",\"CSAT[Net_Promoter_Score] (latest)\",\"Product_Usage (1 month count)\",\"Product_Usage[Activity_Type] (1 month most fr\",\"Employee_Count\",\"Product_Usage (180 days count)\",\"State\",\"Contract_Duration\",\"duration(Renewal_Date, Customer_Since_Date)\",\"Customers[Products_Purchased] (5 years unique\",\"Customer_Succes_Manager\"],\"showline\":true,\"linewidth\":2,\"linecolor\":\"black\"},\"xaxis\":{\"title\":{\"text\":\"Impact\"},\"showline\":true,\"linewidth\":2,\"linecolor\":\"black\"}},                        {\"responsive\": true}                    ).then(function(){\n",
       "                            \n",
       "var gd = document.getElementById('1714515b-370c-406c-9147-2bce89436841');\n",
       "var x = new MutationObserver(function (mutations, observer) {{\n",
       "        var display = window.getComputedStyle(gd).display;\n",
       "        if (!display || display === 'none') {{\n",
       "            console.log([gd, 'removed!']);\n",
       "            Plotly.purge(gd);\n",
       "            observer.disconnect();\n",
       "        }}\n",
       "}});\n",
       "\n",
       "// Listen for the removal of the full notebook cells\n",
       "var notebookContainer = gd.closest('#notebook-container');\n",
       "if (notebookContainer) {{\n",
       "    x.observe(notebookContainer, {childList: true});\n",
       "}}\n",
       "\n",
       "// Listen for the clearing of the current output cell\n",
       "var outputEl = gd.closest('.output');\n",
       "if (outputEl) {{\n",
       "    x.observe(outputEl, {childList: true});\n",
       "}}\n",
       "\n",
       "                        })                };                });            </script>        </div>"
      ]
     },
     "metadata": {},
     "output_type": "display_data"
    }
   ],
   "source": [
    "# feature impact split by positive class predictions\n",
    "# threshold = 0.15\n",
    "# positive_preds = melted.loc[melted['class_1']>=threshold, :].copy()\n",
    "industry='banking'\n",
    "industry_preds = melted.loc[melted['Industry']==industry, :].copy()\n",
    "plot_signed_feature_impact(industry_preds, height=500, n=25)"
   ]
  },
  {
   "cell_type": "markdown",
   "id": "e8d5140b",
   "metadata": {},
   "source": [
    "### Plot lift chart and prediction explanations"
   ]
  },
  {
   "cell_type": "code",
   "execution_count": 1065,
   "id": "7e6ce583",
   "metadata": {},
   "outputs": [
    {
     "data": {
      "application/vnd.plotly.v1+json": {
       "config": {
        "plotlyServerURL": "https://plot.ly"
       },
       "data": [
        {
         "line": {
          "color": "blue",
          "width": 2
         },
         "marker": {
          "color": "blue",
          "line": {
           "color": "blue",
           "width": 2
          },
          "size": 5,
          "symbol": "cross-open"
         },
         "mode": "lines+markers",
         "name": "Predictions",
         "type": "scatter",
         "x": [
          1,
          2,
          3,
          4,
          5,
          6,
          7,
          8,
          9,
          10
         ],
         "y": [
          0.011666651058646617,
          0.029605425179699243,
          0.04994552884736843,
          0.08233512489924813,
          0.14276475682406015,
          0.24190179372406015,
          0.41465876884285713,
          0.6260645776729324,
          0.8048679920729324,
          0.9346376273969925
         ]
        },
        {
         "line": {
          "color": "#ff7f0e",
          "width": 2
         },
         "marker": {
          "color": "#ff7f0e",
          "line": {
           "color": "#ff7f0e",
           "width": 1
          },
          "size": 5,
          "symbol": "circle-open"
         },
         "mode": "lines+markers",
         "name": "Actuals",
         "type": "scatter",
         "x": [
          1,
          2,
          3,
          4,
          5,
          6,
          7,
          8,
          9,
          10
         ],
         "y": [
          0.007518796992481203,
          0.022556390977443608,
          0.03007518796992481,
          0.06015037593984962,
          0.16541353383458646,
          0.2857142857142857,
          0.46616541353383456,
          0.6842105263157895,
          0.8721804511278195,
          0.9849624060150376
         ]
        }
       ],
       "layout": {
        "height": 600,
        "hoverlabel": {
         "bgcolor": "white",
         "font": {
          "family": "Rockwell",
          "size": 16
         },
         "namelength": -1
        },
        "legend": {
         "bgcolor": "rgba(255, 255, 255, 0)",
         "bordercolor": "rgba(255, 255, 255, 0)",
         "x": 1.1,
         "xanchor": "left",
         "y": 1,
         "yanchor": "top"
        },
        "plot_bgcolor": "rgba(0,0,0,0)",
        "template": {
         "data": {
          "bar": [
           {
            "error_x": {
             "color": "#2a3f5f"
            },
            "error_y": {
             "color": "#2a3f5f"
            },
            "marker": {
             "line": {
              "color": "#E5ECF6",
              "width": 0.5
             },
             "pattern": {
              "fillmode": "overlay",
              "size": 10,
              "solidity": 0.2
             }
            },
            "type": "bar"
           }
          ],
          "barpolar": [
           {
            "marker": {
             "line": {
              "color": "#E5ECF6",
              "width": 0.5
             },
             "pattern": {
              "fillmode": "overlay",
              "size": 10,
              "solidity": 0.2
             }
            },
            "type": "barpolar"
           }
          ],
          "carpet": [
           {
            "aaxis": {
             "endlinecolor": "#2a3f5f",
             "gridcolor": "white",
             "linecolor": "white",
             "minorgridcolor": "white",
             "startlinecolor": "#2a3f5f"
            },
            "baxis": {
             "endlinecolor": "#2a3f5f",
             "gridcolor": "white",
             "linecolor": "white",
             "minorgridcolor": "white",
             "startlinecolor": "#2a3f5f"
            },
            "type": "carpet"
           }
          ],
          "choropleth": [
           {
            "colorbar": {
             "outlinewidth": 0,
             "ticks": ""
            },
            "type": "choropleth"
           }
          ],
          "contour": [
           {
            "colorbar": {
             "outlinewidth": 0,
             "ticks": ""
            },
            "colorscale": [
             [
              0,
              "#0d0887"
             ],
             [
              0.1111111111111111,
              "#46039f"
             ],
             [
              0.2222222222222222,
              "#7201a8"
             ],
             [
              0.3333333333333333,
              "#9c179e"
             ],
             [
              0.4444444444444444,
              "#bd3786"
             ],
             [
              0.5555555555555556,
              "#d8576b"
             ],
             [
              0.6666666666666666,
              "#ed7953"
             ],
             [
              0.7777777777777778,
              "#fb9f3a"
             ],
             [
              0.8888888888888888,
              "#fdca26"
             ],
             [
              1,
              "#f0f921"
             ]
            ],
            "type": "contour"
           }
          ],
          "contourcarpet": [
           {
            "colorbar": {
             "outlinewidth": 0,
             "ticks": ""
            },
            "type": "contourcarpet"
           }
          ],
          "heatmap": [
           {
            "colorbar": {
             "outlinewidth": 0,
             "ticks": ""
            },
            "colorscale": [
             [
              0,
              "#0d0887"
             ],
             [
              0.1111111111111111,
              "#46039f"
             ],
             [
              0.2222222222222222,
              "#7201a8"
             ],
             [
              0.3333333333333333,
              "#9c179e"
             ],
             [
              0.4444444444444444,
              "#bd3786"
             ],
             [
              0.5555555555555556,
              "#d8576b"
             ],
             [
              0.6666666666666666,
              "#ed7953"
             ],
             [
              0.7777777777777778,
              "#fb9f3a"
             ],
             [
              0.8888888888888888,
              "#fdca26"
             ],
             [
              1,
              "#f0f921"
             ]
            ],
            "type": "heatmap"
           }
          ],
          "heatmapgl": [
           {
            "colorbar": {
             "outlinewidth": 0,
             "ticks": ""
            },
            "colorscale": [
             [
              0,
              "#0d0887"
             ],
             [
              0.1111111111111111,
              "#46039f"
             ],
             [
              0.2222222222222222,
              "#7201a8"
             ],
             [
              0.3333333333333333,
              "#9c179e"
             ],
             [
              0.4444444444444444,
              "#bd3786"
             ],
             [
              0.5555555555555556,
              "#d8576b"
             ],
             [
              0.6666666666666666,
              "#ed7953"
             ],
             [
              0.7777777777777778,
              "#fb9f3a"
             ],
             [
              0.8888888888888888,
              "#fdca26"
             ],
             [
              1,
              "#f0f921"
             ]
            ],
            "type": "heatmapgl"
           }
          ],
          "histogram": [
           {
            "marker": {
             "pattern": {
              "fillmode": "overlay",
              "size": 10,
              "solidity": 0.2
             }
            },
            "type": "histogram"
           }
          ],
          "histogram2d": [
           {
            "colorbar": {
             "outlinewidth": 0,
             "ticks": ""
            },
            "colorscale": [
             [
              0,
              "#0d0887"
             ],
             [
              0.1111111111111111,
              "#46039f"
             ],
             [
              0.2222222222222222,
              "#7201a8"
             ],
             [
              0.3333333333333333,
              "#9c179e"
             ],
             [
              0.4444444444444444,
              "#bd3786"
             ],
             [
              0.5555555555555556,
              "#d8576b"
             ],
             [
              0.6666666666666666,
              "#ed7953"
             ],
             [
              0.7777777777777778,
              "#fb9f3a"
             ],
             [
              0.8888888888888888,
              "#fdca26"
             ],
             [
              1,
              "#f0f921"
             ]
            ],
            "type": "histogram2d"
           }
          ],
          "histogram2dcontour": [
           {
            "colorbar": {
             "outlinewidth": 0,
             "ticks": ""
            },
            "colorscale": [
             [
              0,
              "#0d0887"
             ],
             [
              0.1111111111111111,
              "#46039f"
             ],
             [
              0.2222222222222222,
              "#7201a8"
             ],
             [
              0.3333333333333333,
              "#9c179e"
             ],
             [
              0.4444444444444444,
              "#bd3786"
             ],
             [
              0.5555555555555556,
              "#d8576b"
             ],
             [
              0.6666666666666666,
              "#ed7953"
             ],
             [
              0.7777777777777778,
              "#fb9f3a"
             ],
             [
              0.8888888888888888,
              "#fdca26"
             ],
             [
              1,
              "#f0f921"
             ]
            ],
            "type": "histogram2dcontour"
           }
          ],
          "mesh3d": [
           {
            "colorbar": {
             "outlinewidth": 0,
             "ticks": ""
            },
            "type": "mesh3d"
           }
          ],
          "parcoords": [
           {
            "line": {
             "colorbar": {
              "outlinewidth": 0,
              "ticks": ""
             }
            },
            "type": "parcoords"
           }
          ],
          "pie": [
           {
            "automargin": true,
            "type": "pie"
           }
          ],
          "scatter": [
           {
            "fillpattern": {
             "fillmode": "overlay",
             "size": 10,
             "solidity": 0.2
            },
            "type": "scatter"
           }
          ],
          "scatter3d": [
           {
            "line": {
             "colorbar": {
              "outlinewidth": 0,
              "ticks": ""
             }
            },
            "marker": {
             "colorbar": {
              "outlinewidth": 0,
              "ticks": ""
             }
            },
            "type": "scatter3d"
           }
          ],
          "scattercarpet": [
           {
            "marker": {
             "colorbar": {
              "outlinewidth": 0,
              "ticks": ""
             }
            },
            "type": "scattercarpet"
           }
          ],
          "scattergeo": [
           {
            "marker": {
             "colorbar": {
              "outlinewidth": 0,
              "ticks": ""
             }
            },
            "type": "scattergeo"
           }
          ],
          "scattergl": [
           {
            "marker": {
             "colorbar": {
              "outlinewidth": 0,
              "ticks": ""
             }
            },
            "type": "scattergl"
           }
          ],
          "scattermapbox": [
           {
            "marker": {
             "colorbar": {
              "outlinewidth": 0,
              "ticks": ""
             }
            },
            "type": "scattermapbox"
           }
          ],
          "scatterpolar": [
           {
            "marker": {
             "colorbar": {
              "outlinewidth": 0,
              "ticks": ""
             }
            },
            "type": "scatterpolar"
           }
          ],
          "scatterpolargl": [
           {
            "marker": {
             "colorbar": {
              "outlinewidth": 0,
              "ticks": ""
             }
            },
            "type": "scatterpolargl"
           }
          ],
          "scatterternary": [
           {
            "marker": {
             "colorbar": {
              "outlinewidth": 0,
              "ticks": ""
             }
            },
            "type": "scatterternary"
           }
          ],
          "surface": [
           {
            "colorbar": {
             "outlinewidth": 0,
             "ticks": ""
            },
            "colorscale": [
             [
              0,
              "#0d0887"
             ],
             [
              0.1111111111111111,
              "#46039f"
             ],
             [
              0.2222222222222222,
              "#7201a8"
             ],
             [
              0.3333333333333333,
              "#9c179e"
             ],
             [
              0.4444444444444444,
              "#bd3786"
             ],
             [
              0.5555555555555556,
              "#d8576b"
             ],
             [
              0.6666666666666666,
              "#ed7953"
             ],
             [
              0.7777777777777778,
              "#fb9f3a"
             ],
             [
              0.8888888888888888,
              "#fdca26"
             ],
             [
              1,
              "#f0f921"
             ]
            ],
            "type": "surface"
           }
          ],
          "table": [
           {
            "cells": {
             "fill": {
              "color": "#EBF0F8"
             },
             "line": {
              "color": "white"
             }
            },
            "header": {
             "fill": {
              "color": "#C8D4E3"
             },
             "line": {
              "color": "white"
             }
            },
            "type": "table"
           }
          ]
         },
         "layout": {
          "annotationdefaults": {
           "arrowcolor": "#2a3f5f",
           "arrowhead": 0,
           "arrowwidth": 1
          },
          "autotypenumbers": "strict",
          "coloraxis": {
           "colorbar": {
            "outlinewidth": 0,
            "ticks": ""
           }
          },
          "colorscale": {
           "diverging": [
            [
             0,
             "#8e0152"
            ],
            [
             0.1,
             "#c51b7d"
            ],
            [
             0.2,
             "#de77ae"
            ],
            [
             0.3,
             "#f1b6da"
            ],
            [
             0.4,
             "#fde0ef"
            ],
            [
             0.5,
             "#f7f7f7"
            ],
            [
             0.6,
             "#e6f5d0"
            ],
            [
             0.7,
             "#b8e186"
            ],
            [
             0.8,
             "#7fbc41"
            ],
            [
             0.9,
             "#4d9221"
            ],
            [
             1,
             "#276419"
            ]
           ],
           "sequential": [
            [
             0,
             "#0d0887"
            ],
            [
             0.1111111111111111,
             "#46039f"
            ],
            [
             0.2222222222222222,
             "#7201a8"
            ],
            [
             0.3333333333333333,
             "#9c179e"
            ],
            [
             0.4444444444444444,
             "#bd3786"
            ],
            [
             0.5555555555555556,
             "#d8576b"
            ],
            [
             0.6666666666666666,
             "#ed7953"
            ],
            [
             0.7777777777777778,
             "#fb9f3a"
            ],
            [
             0.8888888888888888,
             "#fdca26"
            ],
            [
             1,
             "#f0f921"
            ]
           ],
           "sequentialminus": [
            [
             0,
             "#0d0887"
            ],
            [
             0.1111111111111111,
             "#46039f"
            ],
            [
             0.2222222222222222,
             "#7201a8"
            ],
            [
             0.3333333333333333,
             "#9c179e"
            ],
            [
             0.4444444444444444,
             "#bd3786"
            ],
            [
             0.5555555555555556,
             "#d8576b"
            ],
            [
             0.6666666666666666,
             "#ed7953"
            ],
            [
             0.7777777777777778,
             "#fb9f3a"
            ],
            [
             0.8888888888888888,
             "#fdca26"
            ],
            [
             1,
             "#f0f921"
            ]
           ]
          },
          "colorway": [
           "#636efa",
           "#EF553B",
           "#00cc96",
           "#ab63fa",
           "#FFA15A",
           "#19d3f3",
           "#FF6692",
           "#B6E880",
           "#FF97FF",
           "#FECB52"
          ],
          "font": {
           "color": "#2a3f5f"
          },
          "geo": {
           "bgcolor": "white",
           "lakecolor": "white",
           "landcolor": "#E5ECF6",
           "showlakes": true,
           "showland": true,
           "subunitcolor": "white"
          },
          "hoverlabel": {
           "align": "left"
          },
          "hovermode": "closest",
          "mapbox": {
           "style": "light"
          },
          "paper_bgcolor": "white",
          "plot_bgcolor": "#E5ECF6",
          "polar": {
           "angularaxis": {
            "gridcolor": "white",
            "linecolor": "white",
            "ticks": ""
           },
           "bgcolor": "#E5ECF6",
           "radialaxis": {
            "gridcolor": "white",
            "linecolor": "white",
            "ticks": ""
           }
          },
          "scene": {
           "xaxis": {
            "backgroundcolor": "#E5ECF6",
            "gridcolor": "white",
            "gridwidth": 2,
            "linecolor": "white",
            "showbackground": true,
            "ticks": "",
            "zerolinecolor": "white"
           },
           "yaxis": {
            "backgroundcolor": "#E5ECF6",
            "gridcolor": "white",
            "gridwidth": 2,
            "linecolor": "white",
            "showbackground": true,
            "ticks": "",
            "zerolinecolor": "white"
           },
           "zaxis": {
            "backgroundcolor": "#E5ECF6",
            "gridcolor": "white",
            "gridwidth": 2,
            "linecolor": "white",
            "showbackground": true,
            "ticks": "",
            "zerolinecolor": "white"
           }
          },
          "shapedefaults": {
           "line": {
            "color": "#2a3f5f"
           }
          },
          "ternary": {
           "aaxis": {
            "gridcolor": "white",
            "linecolor": "white",
            "ticks": ""
           },
           "baxis": {
            "gridcolor": "white",
            "linecolor": "white",
            "ticks": ""
           },
           "bgcolor": "#E5ECF6",
           "caxis": {
            "gridcolor": "white",
            "linecolor": "white",
            "ticks": ""
           }
          },
          "title": {
           "x": 0.05
          },
          "xaxis": {
           "automargin": true,
           "gridcolor": "white",
           "linecolor": "white",
           "ticks": "",
           "title": {
            "standoff": 15
           },
           "zerolinecolor": "white",
           "zerolinewidth": 2
          },
          "yaxis": {
           "automargin": true,
           "gridcolor": "white",
           "linecolor": "white",
           "ticks": "",
           "title": {
            "standoff": 15
           },
           "zerolinecolor": "white",
           "zerolinewidth": 2
          }
         }
        },
        "xaxis": {
         "linecolor": "black",
         "linewidth": 1,
         "showline": true,
         "title": {
          "text": "Bins"
         }
        },
        "yaxis": {
         "gridcolor": "lightgray",
         "gridwidth": 1,
         "linecolor": "black",
         "linewidth": 1,
         "showgrid": true,
         "showline": true,
         "tickformat": ",.0%",
         "title": {
          "text": "Average Target"
         },
         "zeroline": false,
         "zerolinecolor": "black",
         "zerolinewidth": 2
        }
       }
      },
      "text/html": [
       "<div>                            <div id=\"9a11ce9d-ee22-4835-91d8-a41653bab520\" class=\"plotly-graph-div\" style=\"height:600px; width:100%;\"></div>            <script type=\"text/javascript\">                require([\"plotly\"], function(Plotly) {                    window.PLOTLYENV=window.PLOTLYENV || {};                                    if (document.getElementById(\"9a11ce9d-ee22-4835-91d8-a41653bab520\")) {                    Plotly.newPlot(                        \"9a11ce9d-ee22-4835-91d8-a41653bab520\",                        [{\"line\":{\"color\":\"blue\",\"width\":2},\"marker\":{\"color\":\"blue\",\"line\":{\"color\":\"blue\",\"width\":2},\"size\":5,\"symbol\":\"cross-open\"},\"mode\":\"lines+markers\",\"name\":\"Predictions\",\"x\":[1,2,3,4,5,6,7,8,9,10],\"y\":[0.011666651058646617,0.029605425179699243,0.04994552884736843,0.08233512489924813,0.14276475682406015,0.24190179372406015,0.41465876884285713,0.6260645776729324,0.8048679920729324,0.9346376273969925],\"type\":\"scatter\"},{\"line\":{\"color\":\"#ff7f0e\",\"width\":2},\"marker\":{\"color\":\"#ff7f0e\",\"line\":{\"color\":\"#ff7f0e\",\"width\":1},\"size\":5,\"symbol\":\"circle-open\"},\"mode\":\"lines+markers\",\"name\":\"Actuals\",\"x\":[1,2,3,4,5,6,7,8,9,10],\"y\":[0.007518796992481203,0.022556390977443608,0.03007518796992481,0.06015037593984962,0.16541353383458646,0.2857142857142857,0.46616541353383456,0.6842105263157895,0.8721804511278195,0.9849624060150376],\"type\":\"scatter\"}],                        {\"template\":{\"data\":{\"histogram2dcontour\":[{\"type\":\"histogram2dcontour\",\"colorbar\":{\"outlinewidth\":0,\"ticks\":\"\"},\"colorscale\":[[0.0,\"#0d0887\"],[0.1111111111111111,\"#46039f\"],[0.2222222222222222,\"#7201a8\"],[0.3333333333333333,\"#9c179e\"],[0.4444444444444444,\"#bd3786\"],[0.5555555555555556,\"#d8576b\"],[0.6666666666666666,\"#ed7953\"],[0.7777777777777778,\"#fb9f3a\"],[0.8888888888888888,\"#fdca26\"],[1.0,\"#f0f921\"]]}],\"choropleth\":[{\"type\":\"choropleth\",\"colorbar\":{\"outlinewidth\":0,\"ticks\":\"\"}}],\"histogram2d\":[{\"type\":\"histogram2d\",\"colorbar\":{\"outlinewidth\":0,\"ticks\":\"\"},\"colorscale\":[[0.0,\"#0d0887\"],[0.1111111111111111,\"#46039f\"],[0.2222222222222222,\"#7201a8\"],[0.3333333333333333,\"#9c179e\"],[0.4444444444444444,\"#bd3786\"],[0.5555555555555556,\"#d8576b\"],[0.6666666666666666,\"#ed7953\"],[0.7777777777777778,\"#fb9f3a\"],[0.8888888888888888,\"#fdca26\"],[1.0,\"#f0f921\"]]}],\"heatmap\":[{\"type\":\"heatmap\",\"colorbar\":{\"outlinewidth\":0,\"ticks\":\"\"},\"colorscale\":[[0.0,\"#0d0887\"],[0.1111111111111111,\"#46039f\"],[0.2222222222222222,\"#7201a8\"],[0.3333333333333333,\"#9c179e\"],[0.4444444444444444,\"#bd3786\"],[0.5555555555555556,\"#d8576b\"],[0.6666666666666666,\"#ed7953\"],[0.7777777777777778,\"#fb9f3a\"],[0.8888888888888888,\"#fdca26\"],[1.0,\"#f0f921\"]]}],\"heatmapgl\":[{\"type\":\"heatmapgl\",\"colorbar\":{\"outlinewidth\":0,\"ticks\":\"\"},\"colorscale\":[[0.0,\"#0d0887\"],[0.1111111111111111,\"#46039f\"],[0.2222222222222222,\"#7201a8\"],[0.3333333333333333,\"#9c179e\"],[0.4444444444444444,\"#bd3786\"],[0.5555555555555556,\"#d8576b\"],[0.6666666666666666,\"#ed7953\"],[0.7777777777777778,\"#fb9f3a\"],[0.8888888888888888,\"#fdca26\"],[1.0,\"#f0f921\"]]}],\"contourcarpet\":[{\"type\":\"contourcarpet\",\"colorbar\":{\"outlinewidth\":0,\"ticks\":\"\"}}],\"contour\":[{\"type\":\"contour\",\"colorbar\":{\"outlinewidth\":0,\"ticks\":\"\"},\"colorscale\":[[0.0,\"#0d0887\"],[0.1111111111111111,\"#46039f\"],[0.2222222222222222,\"#7201a8\"],[0.3333333333333333,\"#9c179e\"],[0.4444444444444444,\"#bd3786\"],[0.5555555555555556,\"#d8576b\"],[0.6666666666666666,\"#ed7953\"],[0.7777777777777778,\"#fb9f3a\"],[0.8888888888888888,\"#fdca26\"],[1.0,\"#f0f921\"]]}],\"surface\":[{\"type\":\"surface\",\"colorbar\":{\"outlinewidth\":0,\"ticks\":\"\"},\"colorscale\":[[0.0,\"#0d0887\"],[0.1111111111111111,\"#46039f\"],[0.2222222222222222,\"#7201a8\"],[0.3333333333333333,\"#9c179e\"],[0.4444444444444444,\"#bd3786\"],[0.5555555555555556,\"#d8576b\"],[0.6666666666666666,\"#ed7953\"],[0.7777777777777778,\"#fb9f3a\"],[0.8888888888888888,\"#fdca26\"],[1.0,\"#f0f921\"]]}],\"mesh3d\":[{\"type\":\"mesh3d\",\"colorbar\":{\"outlinewidth\":0,\"ticks\":\"\"}}],\"scatter\":[{\"fillpattern\":{\"fillmode\":\"overlay\",\"size\":10,\"solidity\":0.2},\"type\":\"scatter\"}],\"parcoords\":[{\"type\":\"parcoords\",\"line\":{\"colorbar\":{\"outlinewidth\":0,\"ticks\":\"\"}}}],\"scatterpolargl\":[{\"type\":\"scatterpolargl\",\"marker\":{\"colorbar\":{\"outlinewidth\":0,\"ticks\":\"\"}}}],\"bar\":[{\"error_x\":{\"color\":\"#2a3f5f\"},\"error_y\":{\"color\":\"#2a3f5f\"},\"marker\":{\"line\":{\"color\":\"#E5ECF6\",\"width\":0.5},\"pattern\":{\"fillmode\":\"overlay\",\"size\":10,\"solidity\":0.2}},\"type\":\"bar\"}],\"scattergeo\":[{\"type\":\"scattergeo\",\"marker\":{\"colorbar\":{\"outlinewidth\":0,\"ticks\":\"\"}}}],\"scatterpolar\":[{\"type\":\"scatterpolar\",\"marker\":{\"colorbar\":{\"outlinewidth\":0,\"ticks\":\"\"}}}],\"histogram\":[{\"marker\":{\"pattern\":{\"fillmode\":\"overlay\",\"size\":10,\"solidity\":0.2}},\"type\":\"histogram\"}],\"scattergl\":[{\"type\":\"scattergl\",\"marker\":{\"colorbar\":{\"outlinewidth\":0,\"ticks\":\"\"}}}],\"scatter3d\":[{\"type\":\"scatter3d\",\"line\":{\"colorbar\":{\"outlinewidth\":0,\"ticks\":\"\"}},\"marker\":{\"colorbar\":{\"outlinewidth\":0,\"ticks\":\"\"}}}],\"scattermapbox\":[{\"type\":\"scattermapbox\",\"marker\":{\"colorbar\":{\"outlinewidth\":0,\"ticks\":\"\"}}}],\"scatterternary\":[{\"type\":\"scatterternary\",\"marker\":{\"colorbar\":{\"outlinewidth\":0,\"ticks\":\"\"}}}],\"scattercarpet\":[{\"type\":\"scattercarpet\",\"marker\":{\"colorbar\":{\"outlinewidth\":0,\"ticks\":\"\"}}}],\"carpet\":[{\"aaxis\":{\"endlinecolor\":\"#2a3f5f\",\"gridcolor\":\"white\",\"linecolor\":\"white\",\"minorgridcolor\":\"white\",\"startlinecolor\":\"#2a3f5f\"},\"baxis\":{\"endlinecolor\":\"#2a3f5f\",\"gridcolor\":\"white\",\"linecolor\":\"white\",\"minorgridcolor\":\"white\",\"startlinecolor\":\"#2a3f5f\"},\"type\":\"carpet\"}],\"table\":[{\"cells\":{\"fill\":{\"color\":\"#EBF0F8\"},\"line\":{\"color\":\"white\"}},\"header\":{\"fill\":{\"color\":\"#C8D4E3\"},\"line\":{\"color\":\"white\"}},\"type\":\"table\"}],\"barpolar\":[{\"marker\":{\"line\":{\"color\":\"#E5ECF6\",\"width\":0.5},\"pattern\":{\"fillmode\":\"overlay\",\"size\":10,\"solidity\":0.2}},\"type\":\"barpolar\"}],\"pie\":[{\"automargin\":true,\"type\":\"pie\"}]},\"layout\":{\"autotypenumbers\":\"strict\",\"colorway\":[\"#636efa\",\"#EF553B\",\"#00cc96\",\"#ab63fa\",\"#FFA15A\",\"#19d3f3\",\"#FF6692\",\"#B6E880\",\"#FF97FF\",\"#FECB52\"],\"font\":{\"color\":\"#2a3f5f\"},\"hovermode\":\"closest\",\"hoverlabel\":{\"align\":\"left\"},\"paper_bgcolor\":\"white\",\"plot_bgcolor\":\"#E5ECF6\",\"polar\":{\"bgcolor\":\"#E5ECF6\",\"angularaxis\":{\"gridcolor\":\"white\",\"linecolor\":\"white\",\"ticks\":\"\"},\"radialaxis\":{\"gridcolor\":\"white\",\"linecolor\":\"white\",\"ticks\":\"\"}},\"ternary\":{\"bgcolor\":\"#E5ECF6\",\"aaxis\":{\"gridcolor\":\"white\",\"linecolor\":\"white\",\"ticks\":\"\"},\"baxis\":{\"gridcolor\":\"white\",\"linecolor\":\"white\",\"ticks\":\"\"},\"caxis\":{\"gridcolor\":\"white\",\"linecolor\":\"white\",\"ticks\":\"\"}},\"coloraxis\":{\"colorbar\":{\"outlinewidth\":0,\"ticks\":\"\"}},\"colorscale\":{\"sequential\":[[0.0,\"#0d0887\"],[0.1111111111111111,\"#46039f\"],[0.2222222222222222,\"#7201a8\"],[0.3333333333333333,\"#9c179e\"],[0.4444444444444444,\"#bd3786\"],[0.5555555555555556,\"#d8576b\"],[0.6666666666666666,\"#ed7953\"],[0.7777777777777778,\"#fb9f3a\"],[0.8888888888888888,\"#fdca26\"],[1.0,\"#f0f921\"]],\"sequentialminus\":[[0.0,\"#0d0887\"],[0.1111111111111111,\"#46039f\"],[0.2222222222222222,\"#7201a8\"],[0.3333333333333333,\"#9c179e\"],[0.4444444444444444,\"#bd3786\"],[0.5555555555555556,\"#d8576b\"],[0.6666666666666666,\"#ed7953\"],[0.7777777777777778,\"#fb9f3a\"],[0.8888888888888888,\"#fdca26\"],[1.0,\"#f0f921\"]],\"diverging\":[[0,\"#8e0152\"],[0.1,\"#c51b7d\"],[0.2,\"#de77ae\"],[0.3,\"#f1b6da\"],[0.4,\"#fde0ef\"],[0.5,\"#f7f7f7\"],[0.6,\"#e6f5d0\"],[0.7,\"#b8e186\"],[0.8,\"#7fbc41\"],[0.9,\"#4d9221\"],[1,\"#276419\"]]},\"xaxis\":{\"gridcolor\":\"white\",\"linecolor\":\"white\",\"ticks\":\"\",\"title\":{\"standoff\":15},\"zerolinecolor\":\"white\",\"automargin\":true,\"zerolinewidth\":2},\"yaxis\":{\"gridcolor\":\"white\",\"linecolor\":\"white\",\"ticks\":\"\",\"title\":{\"standoff\":15},\"zerolinecolor\":\"white\",\"automargin\":true,\"zerolinewidth\":2},\"scene\":{\"xaxis\":{\"backgroundcolor\":\"#E5ECF6\",\"gridcolor\":\"white\",\"linecolor\":\"white\",\"showbackground\":true,\"ticks\":\"\",\"zerolinecolor\":\"white\",\"gridwidth\":2},\"yaxis\":{\"backgroundcolor\":\"#E5ECF6\",\"gridcolor\":\"white\",\"linecolor\":\"white\",\"showbackground\":true,\"ticks\":\"\",\"zerolinecolor\":\"white\",\"gridwidth\":2},\"zaxis\":{\"backgroundcolor\":\"#E5ECF6\",\"gridcolor\":\"white\",\"linecolor\":\"white\",\"showbackground\":true,\"ticks\":\"\",\"zerolinecolor\":\"white\",\"gridwidth\":2}},\"shapedefaults\":{\"line\":{\"color\":\"#2a3f5f\"}},\"annotationdefaults\":{\"arrowcolor\":\"#2a3f5f\",\"arrowhead\":0,\"arrowwidth\":1},\"geo\":{\"bgcolor\":\"white\",\"landcolor\":\"#E5ECF6\",\"subunitcolor\":\"white\",\"showland\":true,\"showlakes\":true,\"lakecolor\":\"white\"},\"title\":{\"x\":0.05},\"mapbox\":{\"style\":\"light\"}}},\"legend\":{\"bgcolor\":\"rgba(255, 255, 255, 0)\",\"bordercolor\":\"rgba(255, 255, 255, 0)\",\"x\":1.1,\"y\":1,\"xanchor\":\"left\",\"yanchor\":\"top\"},\"hoverlabel\":{\"font\":{\"size\":16,\"family\":\"Rockwell\"},\"bgcolor\":\"white\",\"namelength\":-1},\"plot_bgcolor\":\"rgba(0,0,0,0)\",\"height\":600,\"yaxis\":{\"title\":{\"text\":\"Average Target\"},\"showline\":true,\"linewidth\":1,\"linecolor\":\"black\",\"showgrid\":true,\"gridwidth\":1,\"gridcolor\":\"lightgray\",\"zeroline\":false,\"zerolinewidth\":2,\"zerolinecolor\":\"black\",\"tickformat\":\",.0%\"},\"xaxis\":{\"title\":{\"text\":\"Bins\"},\"showline\":true,\"linewidth\":1,\"linecolor\":\"black\"}},                        {\"responsive\": true}                    ).then(function(){\n",
       "                            \n",
       "var gd = document.getElementById('9a11ce9d-ee22-4835-91d8-a41653bab520');\n",
       "var x = new MutationObserver(function (mutations, observer) {{\n",
       "        var display = window.getComputedStyle(gd).display;\n",
       "        if (!display || display === 'none') {{\n",
       "            console.log([gd, 'removed!']);\n",
       "            Plotly.purge(gd);\n",
       "            observer.disconnect();\n",
       "        }}\n",
       "}});\n",
       "\n",
       "// Listen for the removal of the full notebook cells\n",
       "var notebookContainer = gd.closest('#notebook-container');\n",
       "if (notebookContainer) {{\n",
       "    x.observe(notebookContainer, {childList: true});\n",
       "}}\n",
       "\n",
       "// Listen for the clearing of the current output cell\n",
       "var outputEl = gd.closest('.output');\n",
       "if (outputEl) {{\n",
       "    x.observe(outputEl, {childList: true});\n",
       "}}\n",
       "\n",
       "                        })                };                });            </script>        </div>"
      ]
     },
     "metadata": {},
     "output_type": "display_data"
    }
   ],
   "source": [
    "# plot lift chart\n",
    "plot_lift_chart(preds2, project_id, bins=10)"
   ]
  },
  {
   "cell_type": "code",
   "execution_count": 917,
   "id": "24b963eb",
   "metadata": {},
   "outputs": [
    {
     "data": {
      "application/vnd.plotly.v1+json": {
       "config": {
        "plotlyServerURL": "https://plot.ly"
       },
       "data": [
        {
         "line": {
          "color": "blue",
          "width": 2
         },
         "marker": {
          "color": "blue",
          "line": {
           "color": "blue",
           "width": 2
          },
          "size": 5,
          "symbol": "cross-open"
         },
         "mode": "lines+markers",
         "name": "Predictions",
         "type": "scatter",
         "x": [
          1,
          2,
          3,
          4,
          5,
          6,
          7,
          8,
          9,
          10,
          11,
          12
         ],
         "xaxis": "x",
         "y": [
          0.010096610268468469,
          0.02526995757837838,
          0.04018816068378378,
          0.06138179000900901,
          0.09459728835405407,
          0.14881793800363638,
          0.2314729185009009,
          0.36369197505495493,
          0.5414435913972973,
          0.7070305333639639,
          0.8413680774846847,
          0.9446145764309092
         ],
         "yaxis": "y2"
        },
        {
         "line": {
          "color": "#ff7f0e",
          "width": 2
         },
         "marker": {
          "color": "#ff7f0e",
          "line": {
           "color": "#ff7f0e",
           "width": 2
          },
          "size": 5,
          "symbol": "circle-open"
         },
         "mode": "lines+markers",
         "name": "Actuals",
         "type": "scatter",
         "x": [
          1,
          2,
          3,
          4,
          5,
          6,
          7,
          8,
          9,
          10,
          11,
          12
         ],
         "xaxis": "x",
         "y": [
          0.009009009009009009,
          0.009009009009009009,
          0.04504504504504504,
          0.02702702702702703,
          0.0990990990990991,
          0.15454545454545454,
          0.2882882882882883,
          0.38738738738738737,
          0.5765765765765766,
          0.7837837837837838,
          0.918918918918919,
          1
         ],
         "yaxis": "y2"
        },
        {
         "customdata": [
          [
           24,
           -16.7996076352,
           "Contract_Duration"
          ],
          [
           24,
           -16.1611345976,
           "Contract_Duration"
          ],
          [
           24,
           -16.1611345976,
           "Contract_Duration"
          ],
          [
           24,
           -5.307092964299999,
           "Contract_Duration"
          ],
          [
           24,
           -2.114727778099999,
           "Contract_Duration"
          ],
          [
           24,
           -0.8377817038999986,
           "Contract_Duration"
          ],
          [
           12,
           0.0038072338000009753,
           "Contract_Duration"
          ],
          [
           24,
           1.0776374080000013,
           "Contract_Duration"
          ],
          [
           12,
           4.270002593800001,
           "Contract_Duration"
          ],
          [
           12,
           6.185421705700001,
           "Contract_Duration"
          ],
          [
           12,
           16.4009903018,
           "Contract_Duration"
          ],
          [
           12,
           28.096620872400003,
           "Contract_Duration"
          ]
         ],
         "hoverlabel": {
          "bgcolor": "white",
          "font": {
           "family": "Rockwell",
           "size": 16
          },
          "namelength": -1
         },
         "hovertemplate": "<br>Bin</b>: %{x}<br>Feature</b>: %{customdata[2]}<br>Strength</b>: %{y: .2}<br>Median Value</b>: %{customdata[0]: .3}<extra></extra>",
         "marker": {
          "color": "#636EFA"
         },
         "name": "Contract_Duration",
         "opacity": 0.5,
         "type": "bar",
         "x": [
          1,
          3,
          2,
          8,
          4,
          5,
          6,
          9,
          7,
          10,
          11,
          12
         ],
         "y": [
          -16.7996076352,
          -16.1611345976,
          -16.1611345976,
          -5.307092964299999,
          -2.114727778099999,
          -0.8377817038999986,
          0.0038072338000009753,
          1.0776374080000013,
          4.270002593800001,
          6.185421705700001,
          16.4009903018,
          28.096620872400003
         ]
        },
        {
         "customdata": [
          [
           "Rosa Groves",
           -53.2512972002,
           "Customer_Succes_Manager"
          ],
          [
           "Rosa Groves",
           -43.1154751626,
           "Customer_Succes_Manager"
          ],
          [
           "Nicolas Buxton",
           -22.106725839,
           "Customer_Succes_Manager"
          ],
          [
           "Eusebio Lutz",
           -8.134829929099999,
           "Customer_Succes_Manager"
          ],
          [
           "Brandie Tam",
           -7.4870356526999995,
           "Customer_Succes_Manager"
          ],
          [
           "Tammi Manns",
           -5.272008026299999,
           "Customer_Succes_Manager"
          ],
          [
           "Junior Large",
           0.19452153950000056,
           "Customer_Succes_Manager"
          ],
          [
           "Kayla Dobbins",
           9.277761920900002,
           "Customer_Succes_Manager"
          ],
          [
           "Isaac Sonnier",
           13.2186587772,
           "Customer_Succes_Manager"
          ],
          [
           "Hillary Cuellar",
           16.2097949333,
           "Customer_Succes_Manager"
          ],
          [
           "Hillary Cuellar",
           30.1659411539,
           "Customer_Succes_Manager"
          ],
          [
           "Kira Sharpe",
           44.601033672599996,
           "Customer_Succes_Manager"
          ]
         ],
         "hoverlabel": {
          "bgcolor": "white",
          "font": {
           "family": "Rockwell",
           "size": 16
          },
          "namelength": -1
         },
         "hovertemplate": "<br>Bin</b>: %{x}<br>Feature</b>: %{customdata[2]}<br>Strength</b>: %{y: .2}<br>Most Frequent Value</b>: %{customdata[0]}<extra></extra>",
         "marker": {
          "color": "#EF553B"
         },
         "name": "Customer_Succes_Manager",
         "opacity": 0.5,
         "type": "bar",
         "x": [
          1,
          2,
          3,
          5,
          4,
          9,
          10,
          6,
          11,
          8,
          7,
          12
         ],
         "y": [
          -53.2512972002,
          -43.1154751626,
          -22.106725839,
          -8.134829929099999,
          -7.4870356526999995,
          -5.272008026299999,
          0.19452153950000056,
          9.277761920900002,
          13.2186587772,
          16.2097949333,
          30.1659411539,
          44.601033672599996
         ]
        },
        {
         "customdata": [
          [
           2,
           -77.738193195,
           "Customers[Products_Purchased] (5 years unique count)"
          ],
          [
           2,
           -59.6415517282,
           "Customers[Products_Purchased] (5 years unique count)"
          ],
          [
           2,
           -52.844386004099995,
           "Customers[Products_Purchased] (5 years unique count)"
          ],
          [
           2,
           -51.6694591179,
           "Customers[Products_Purchased] (5 years unique count)"
          ],
          [
           2,
           -47.626050177699994,
           "Customers[Products_Purchased] (5 years unique count)"
          ],
          [
           2,
           -36.175067016199996,
           "Customers[Products_Purchased] (5 years unique count)"
          ],
          [
           2,
           -26.165243428799997,
           "Customers[Products_Purchased] (5 years unique count)"
          ],
          [
           0,
           9.1513983217,
           "Customers[Products_Purchased] (5 years unique count)"
          ],
          [
           0,
           41.8290085581,
           "Customers[Products_Purchased] (5 years unique count)"
          ],
          [
           0,
           59.3014044345,
           "Customers[Products_Purchased] (5 years unique count)"
          ],
          [
           0,
           64.0928921955,
           "Customers[Products_Purchased] (5 years unique count)"
          ],
          [
           0,
           66.5345261839,
           "Customers[Products_Purchased] (5 years unique count)"
          ]
         ],
         "hoverlabel": {
          "bgcolor": "white",
          "font": {
           "family": "Rockwell",
           "size": 16
          },
          "namelength": -1
         },
         "hovertemplate": "<br>Bin</b>: %{x}<br>Feature</b>: %{customdata[2]}<br>Strength</b>: %{y: .2}<br>Median Value</b>: %{customdata[0]: .3}<extra></extra>",
         "marker": {
          "color": "#00CC96"
         },
         "name": "Customers[Products_Purchased] (5 years unique count)",
         "opacity": 0.5,
         "type": "bar",
         "x": [
          1,
          3,
          4,
          2,
          5,
          6,
          7,
          8,
          9,
          10,
          11,
          12
         ],
         "y": [
          -77.738193195,
          -59.6415517282,
          -52.844386004099995,
          -51.6694591179,
          -47.626050177699994,
          -36.175067016199996,
          -26.165243428799997,
          9.1513983217,
          41.8290085581,
          59.3014044345,
          64.0928921955,
          66.5345261839
         ]
        },
        {
         "customdata": [
          [
           13,
           5.2860498755,
           "Product_Usage (180 days count)"
          ],
          [
           12,
           14.9604766572,
           "Product_Usage (180 days count)"
          ],
          [
           12.5,
           16.3626915834,
           "Product_Usage (180 days count)"
          ],
          [
           11,
           27.2887191092,
           "Product_Usage (180 days count)"
          ],
          [
           11,
           30.3481875956,
           "Product_Usage (180 days count)"
          ],
          [
           10,
           32.364655460099996,
           "Product_Usage (180 days count)"
          ],
          [
           10,
           34.6592568251,
           "Product_Usage (180 days count)"
          ],
          [
           10,
           34.9675131596,
           "Product_Usage (180 days count)"
          ],
          [
           10,
           36.1310051258,
           "Product_Usage (180 days count)"
          ],
          [
           10,
           39.3109649574,
           "Product_Usage (180 days count)"
          ],
          [
           9,
           41.8141664451,
           "Product_Usage (180 days count)"
          ],
          [
           7,
           64.39167808090001,
           "Product_Usage (180 days count)"
          ]
         ],
         "hoverlabel": {
          "bgcolor": "white",
          "font": {
           "family": "Rockwell",
           "size": 16
          },
          "namelength": -1
         },
         "hovertemplate": "<br>Bin</b>: %{x}<br>Feature</b>: %{customdata[2]}<br>Strength</b>: %{y: .2}<br>Median Value</b>: %{customdata[0]: .3}<extra></extra>",
         "marker": {
          "color": "#AB63FA"
         },
         "name": "Product_Usage (180 days count)",
         "opacity": 0.5,
         "type": "bar",
         "x": [
          1,
          2,
          3,
          4,
          9,
          7,
          6,
          8,
          10,
          5,
          11,
          12
         ],
         "y": [
          5.2860498755,
          14.9604766572,
          16.3626915834,
          27.2887191092,
          30.3481875956,
          32.364655460099996,
          34.6592568251,
          34.9675131596,
          36.1310051258,
          39.3109649574,
          41.8141664451,
          64.39167808090001
         ]
        },
        {
         "customdata": [
          [
           "OH",
           -23.9124196285,
           "State"
          ],
          [
           "TX",
           -19.638616064,
           "State"
          ],
          [
           "TX",
           -11.609184523,
           "State"
          ],
          [
           "TX",
           -8.573867178899999,
           "State"
          ],
          [
           "WI",
           -6.199670472,
           "State"
          ],
          [
           "OH",
           -5.5265216158,
           "State"
          ],
          [
           "WV",
           0.07440657670000003,
           "State"
          ],
          [
           "NY",
           0.5089696869000002,
           "State"
          ],
          [
           "OH",
           2.1015890534999997,
           "State"
          ],
          [
           "OH",
           5.3634261831,
           "State"
          ],
          [
           "NY",
           13.1630868779,
           "State"
          ],
          [
           "NY",
           25.5039040268,
           "State"
          ]
         ],
         "hoverlabel": {
          "bgcolor": "white",
          "font": {
           "family": "Rockwell",
           "size": 16
          },
          "namelength": -1
         },
         "hovertemplate": "<br>Bin</b>: %{x}<br>Feature</b>: %{customdata[2]}<br>Strength</b>: %{y: .2}<br>Most Frequent Value</b>: %{customdata[0]}<extra></extra>",
         "marker": {
          "color": "#FFA15A"
         },
         "name": "State",
         "opacity": 0.5,
         "type": "bar",
         "x": [
          1,
          2,
          3,
          5,
          4,
          8,
          9,
          6,
          7,
          10,
          11,
          12
         ],
         "y": [
          -23.9124196285,
          -19.638616064,
          -11.609184523,
          -8.573867178899999,
          -6.199670472,
          -5.5265216158,
          0.07440657670000003,
          0.5089696869000002,
          2.1015890534999997,
          5.3634261831,
          13.1630868779,
          25.5039040268
         ]
        },
        {
         "customdata": [
          [
           3287,
           -69.0952269832,
           "duration(Renewal_Date, Customer_Since_Date)"
          ],
          [
           3287,
           -61.5989014454,
           "duration(Renewal_Date, Customer_Since_Date)"
          ],
          [
           2922,
           -57.7273753087,
           "duration(Renewal_Date, Customer_Since_Date)"
          ],
          [
           2922,
           -54.3149479104,
           "duration(Renewal_Date, Customer_Since_Date)"
          ],
          [
           2922,
           -51.7552052067,
           "duration(Renewal_Date, Customer_Since_Date)"
          ],
          [
           2557,
           -36.3761862644,
           "duration(Renewal_Date, Customer_Since_Date)"
          ],
          [
           2557,
           -30.293308745,
           "duration(Renewal_Date, Customer_Since_Date)"
          ],
          [
           1096,
           2.3220679805999995,
           "duration(Renewal_Date, Customer_Since_Date)"
          ],
          [
           731,
           32.1525933392,
           "duration(Renewal_Date, Customer_Since_Date)"
          ],
          [
           730,
           40.6096928172,
           "duration(Renewal_Date, Customer_Since_Date)"
          ],
          [
           366,
           48.961522656700005,
           "duration(Renewal_Date, Customer_Since_Date)"
          ],
          [
           365,
           53.3945416524,
           "duration(Renewal_Date, Customer_Since_Date)"
          ]
         ],
         "hoverlabel": {
          "bgcolor": "white",
          "font": {
           "family": "Rockwell",
           "size": 16
          },
          "namelength": -1
         },
         "hovertemplate": "<br>Bin</b>: %{x}<br>Feature</b>: %{customdata[2]}<br>Strength</b>: %{y: .2}<br>Median Value</b>: %{customdata[0]: .3}<extra></extra>",
         "marker": {
          "color": "#19D3F3"
         },
         "name": "duration(Renewal_Date, Customer_Since_Date)",
         "opacity": 0.5,
         "type": "bar",
         "x": [
          1,
          2,
          3,
          4,
          5,
          6,
          7,
          8,
          9,
          10,
          11,
          12
         ],
         "y": [
          -69.0952269832,
          -61.5989014454,
          -57.7273753087,
          -54.3149479104,
          -51.7552052067,
          -36.3761862644,
          -30.293308745,
          2.3220679805999995,
          32.1525933392,
          40.6096928172,
          48.961522656700005,
          53.3945416524
         ]
        }
       ],
       "layout": {
        "barmode": "relative",
        "height": 600,
        "hoverlabel": {
         "bgcolor": "white",
         "font": {
          "family": "Rockwell",
          "size": 16
         },
         "namelength": -1
        },
        "legend": {
         "bgcolor": "rgba(255, 255, 255, 0)",
         "bordercolor": "rgba(255, 255, 255, 0)",
         "title": {
          "text": "Features: "
         },
         "x": 1.1,
         "xanchor": "left",
         "y": 1,
         "yanchor": "top"
        },
        "plot_bgcolor": "rgba(0,0,0,0)",
        "showlegend": false,
        "template": {
         "data": {
          "bar": [
           {
            "error_x": {
             "color": "#2a3f5f"
            },
            "error_y": {
             "color": "#2a3f5f"
            },
            "marker": {
             "line": {
              "color": "#E5ECF6",
              "width": 0.5
             },
             "pattern": {
              "fillmode": "overlay",
              "size": 10,
              "solidity": 0.2
             }
            },
            "type": "bar"
           }
          ],
          "barpolar": [
           {
            "marker": {
             "line": {
              "color": "#E5ECF6",
              "width": 0.5
             },
             "pattern": {
              "fillmode": "overlay",
              "size": 10,
              "solidity": 0.2
             }
            },
            "type": "barpolar"
           }
          ],
          "carpet": [
           {
            "aaxis": {
             "endlinecolor": "#2a3f5f",
             "gridcolor": "white",
             "linecolor": "white",
             "minorgridcolor": "white",
             "startlinecolor": "#2a3f5f"
            },
            "baxis": {
             "endlinecolor": "#2a3f5f",
             "gridcolor": "white",
             "linecolor": "white",
             "minorgridcolor": "white",
             "startlinecolor": "#2a3f5f"
            },
            "type": "carpet"
           }
          ],
          "choropleth": [
           {
            "colorbar": {
             "outlinewidth": 0,
             "ticks": ""
            },
            "type": "choropleth"
           }
          ],
          "contour": [
           {
            "colorbar": {
             "outlinewidth": 0,
             "ticks": ""
            },
            "colorscale": [
             [
              0,
              "#0d0887"
             ],
             [
              0.1111111111111111,
              "#46039f"
             ],
             [
              0.2222222222222222,
              "#7201a8"
             ],
             [
              0.3333333333333333,
              "#9c179e"
             ],
             [
              0.4444444444444444,
              "#bd3786"
             ],
             [
              0.5555555555555556,
              "#d8576b"
             ],
             [
              0.6666666666666666,
              "#ed7953"
             ],
             [
              0.7777777777777778,
              "#fb9f3a"
             ],
             [
              0.8888888888888888,
              "#fdca26"
             ],
             [
              1,
              "#f0f921"
             ]
            ],
            "type": "contour"
           }
          ],
          "contourcarpet": [
           {
            "colorbar": {
             "outlinewidth": 0,
             "ticks": ""
            },
            "type": "contourcarpet"
           }
          ],
          "heatmap": [
           {
            "colorbar": {
             "outlinewidth": 0,
             "ticks": ""
            },
            "colorscale": [
             [
              0,
              "#0d0887"
             ],
             [
              0.1111111111111111,
              "#46039f"
             ],
             [
              0.2222222222222222,
              "#7201a8"
             ],
             [
              0.3333333333333333,
              "#9c179e"
             ],
             [
              0.4444444444444444,
              "#bd3786"
             ],
             [
              0.5555555555555556,
              "#d8576b"
             ],
             [
              0.6666666666666666,
              "#ed7953"
             ],
             [
              0.7777777777777778,
              "#fb9f3a"
             ],
             [
              0.8888888888888888,
              "#fdca26"
             ],
             [
              1,
              "#f0f921"
             ]
            ],
            "type": "heatmap"
           }
          ],
          "heatmapgl": [
           {
            "colorbar": {
             "outlinewidth": 0,
             "ticks": ""
            },
            "colorscale": [
             [
              0,
              "#0d0887"
             ],
             [
              0.1111111111111111,
              "#46039f"
             ],
             [
              0.2222222222222222,
              "#7201a8"
             ],
             [
              0.3333333333333333,
              "#9c179e"
             ],
             [
              0.4444444444444444,
              "#bd3786"
             ],
             [
              0.5555555555555556,
              "#d8576b"
             ],
             [
              0.6666666666666666,
              "#ed7953"
             ],
             [
              0.7777777777777778,
              "#fb9f3a"
             ],
             [
              0.8888888888888888,
              "#fdca26"
             ],
             [
              1,
              "#f0f921"
             ]
            ],
            "type": "heatmapgl"
           }
          ],
          "histogram": [
           {
            "marker": {
             "pattern": {
              "fillmode": "overlay",
              "size": 10,
              "solidity": 0.2
             }
            },
            "type": "histogram"
           }
          ],
          "histogram2d": [
           {
            "colorbar": {
             "outlinewidth": 0,
             "ticks": ""
            },
            "colorscale": [
             [
              0,
              "#0d0887"
             ],
             [
              0.1111111111111111,
              "#46039f"
             ],
             [
              0.2222222222222222,
              "#7201a8"
             ],
             [
              0.3333333333333333,
              "#9c179e"
             ],
             [
              0.4444444444444444,
              "#bd3786"
             ],
             [
              0.5555555555555556,
              "#d8576b"
             ],
             [
              0.6666666666666666,
              "#ed7953"
             ],
             [
              0.7777777777777778,
              "#fb9f3a"
             ],
             [
              0.8888888888888888,
              "#fdca26"
             ],
             [
              1,
              "#f0f921"
             ]
            ],
            "type": "histogram2d"
           }
          ],
          "histogram2dcontour": [
           {
            "colorbar": {
             "outlinewidth": 0,
             "ticks": ""
            },
            "colorscale": [
             [
              0,
              "#0d0887"
             ],
             [
              0.1111111111111111,
              "#46039f"
             ],
             [
              0.2222222222222222,
              "#7201a8"
             ],
             [
              0.3333333333333333,
              "#9c179e"
             ],
             [
              0.4444444444444444,
              "#bd3786"
             ],
             [
              0.5555555555555556,
              "#d8576b"
             ],
             [
              0.6666666666666666,
              "#ed7953"
             ],
             [
              0.7777777777777778,
              "#fb9f3a"
             ],
             [
              0.8888888888888888,
              "#fdca26"
             ],
             [
              1,
              "#f0f921"
             ]
            ],
            "type": "histogram2dcontour"
           }
          ],
          "mesh3d": [
           {
            "colorbar": {
             "outlinewidth": 0,
             "ticks": ""
            },
            "type": "mesh3d"
           }
          ],
          "parcoords": [
           {
            "line": {
             "colorbar": {
              "outlinewidth": 0,
              "ticks": ""
             }
            },
            "type": "parcoords"
           }
          ],
          "pie": [
           {
            "automargin": true,
            "type": "pie"
           }
          ],
          "scatter": [
           {
            "fillpattern": {
             "fillmode": "overlay",
             "size": 10,
             "solidity": 0.2
            },
            "type": "scatter"
           }
          ],
          "scatter3d": [
           {
            "line": {
             "colorbar": {
              "outlinewidth": 0,
              "ticks": ""
             }
            },
            "marker": {
             "colorbar": {
              "outlinewidth": 0,
              "ticks": ""
             }
            },
            "type": "scatter3d"
           }
          ],
          "scattercarpet": [
           {
            "marker": {
             "colorbar": {
              "outlinewidth": 0,
              "ticks": ""
             }
            },
            "type": "scattercarpet"
           }
          ],
          "scattergeo": [
           {
            "marker": {
             "colorbar": {
              "outlinewidth": 0,
              "ticks": ""
             }
            },
            "type": "scattergeo"
           }
          ],
          "scattergl": [
           {
            "marker": {
             "colorbar": {
              "outlinewidth": 0,
              "ticks": ""
             }
            },
            "type": "scattergl"
           }
          ],
          "scattermapbox": [
           {
            "marker": {
             "colorbar": {
              "outlinewidth": 0,
              "ticks": ""
             }
            },
            "type": "scattermapbox"
           }
          ],
          "scatterpolar": [
           {
            "marker": {
             "colorbar": {
              "outlinewidth": 0,
              "ticks": ""
             }
            },
            "type": "scatterpolar"
           }
          ],
          "scatterpolargl": [
           {
            "marker": {
             "colorbar": {
              "outlinewidth": 0,
              "ticks": ""
             }
            },
            "type": "scatterpolargl"
           }
          ],
          "scatterternary": [
           {
            "marker": {
             "colorbar": {
              "outlinewidth": 0,
              "ticks": ""
             }
            },
            "type": "scatterternary"
           }
          ],
          "surface": [
           {
            "colorbar": {
             "outlinewidth": 0,
             "ticks": ""
            },
            "colorscale": [
             [
              0,
              "#0d0887"
             ],
             [
              0.1111111111111111,
              "#46039f"
             ],
             [
              0.2222222222222222,
              "#7201a8"
             ],
             [
              0.3333333333333333,
              "#9c179e"
             ],
             [
              0.4444444444444444,
              "#bd3786"
             ],
             [
              0.5555555555555556,
              "#d8576b"
             ],
             [
              0.6666666666666666,
              "#ed7953"
             ],
             [
              0.7777777777777778,
              "#fb9f3a"
             ],
             [
              0.8888888888888888,
              "#fdca26"
             ],
             [
              1,
              "#f0f921"
             ]
            ],
            "type": "surface"
           }
          ],
          "table": [
           {
            "cells": {
             "fill": {
              "color": "#EBF0F8"
             },
             "line": {
              "color": "white"
             }
            },
            "header": {
             "fill": {
              "color": "#C8D4E3"
             },
             "line": {
              "color": "white"
             }
            },
            "type": "table"
           }
          ]
         },
         "layout": {
          "annotationdefaults": {
           "arrowcolor": "#2a3f5f",
           "arrowhead": 0,
           "arrowwidth": 1
          },
          "autotypenumbers": "strict",
          "coloraxis": {
           "colorbar": {
            "outlinewidth": 0,
            "ticks": ""
           }
          },
          "colorscale": {
           "diverging": [
            [
             0,
             "#8e0152"
            ],
            [
             0.1,
             "#c51b7d"
            ],
            [
             0.2,
             "#de77ae"
            ],
            [
             0.3,
             "#f1b6da"
            ],
            [
             0.4,
             "#fde0ef"
            ],
            [
             0.5,
             "#f7f7f7"
            ],
            [
             0.6,
             "#e6f5d0"
            ],
            [
             0.7,
             "#b8e186"
            ],
            [
             0.8,
             "#7fbc41"
            ],
            [
             0.9,
             "#4d9221"
            ],
            [
             1,
             "#276419"
            ]
           ],
           "sequential": [
            [
             0,
             "#0d0887"
            ],
            [
             0.1111111111111111,
             "#46039f"
            ],
            [
             0.2222222222222222,
             "#7201a8"
            ],
            [
             0.3333333333333333,
             "#9c179e"
            ],
            [
             0.4444444444444444,
             "#bd3786"
            ],
            [
             0.5555555555555556,
             "#d8576b"
            ],
            [
             0.6666666666666666,
             "#ed7953"
            ],
            [
             0.7777777777777778,
             "#fb9f3a"
            ],
            [
             0.8888888888888888,
             "#fdca26"
            ],
            [
             1,
             "#f0f921"
            ]
           ],
           "sequentialminus": [
            [
             0,
             "#0d0887"
            ],
            [
             0.1111111111111111,
             "#46039f"
            ],
            [
             0.2222222222222222,
             "#7201a8"
            ],
            [
             0.3333333333333333,
             "#9c179e"
            ],
            [
             0.4444444444444444,
             "#bd3786"
            ],
            [
             0.5555555555555556,
             "#d8576b"
            ],
            [
             0.6666666666666666,
             "#ed7953"
            ],
            [
             0.7777777777777778,
             "#fb9f3a"
            ],
            [
             0.8888888888888888,
             "#fdca26"
            ],
            [
             1,
             "#f0f921"
            ]
           ]
          },
          "colorway": [
           "#636efa",
           "#EF553B",
           "#00cc96",
           "#ab63fa",
           "#FFA15A",
           "#19d3f3",
           "#FF6692",
           "#B6E880",
           "#FF97FF",
           "#FECB52"
          ],
          "font": {
           "color": "#2a3f5f"
          },
          "geo": {
           "bgcolor": "white",
           "lakecolor": "white",
           "landcolor": "#E5ECF6",
           "showlakes": true,
           "showland": true,
           "subunitcolor": "white"
          },
          "hoverlabel": {
           "align": "left"
          },
          "hovermode": "closest",
          "mapbox": {
           "style": "light"
          },
          "paper_bgcolor": "white",
          "plot_bgcolor": "#E5ECF6",
          "polar": {
           "angularaxis": {
            "gridcolor": "white",
            "linecolor": "white",
            "ticks": ""
           },
           "bgcolor": "#E5ECF6",
           "radialaxis": {
            "gridcolor": "white",
            "linecolor": "white",
            "ticks": ""
           }
          },
          "scene": {
           "xaxis": {
            "backgroundcolor": "#E5ECF6",
            "gridcolor": "white",
            "gridwidth": 2,
            "linecolor": "white",
            "showbackground": true,
            "ticks": "",
            "zerolinecolor": "white"
           },
           "yaxis": {
            "backgroundcolor": "#E5ECF6",
            "gridcolor": "white",
            "gridwidth": 2,
            "linecolor": "white",
            "showbackground": true,
            "ticks": "",
            "zerolinecolor": "white"
           },
           "zaxis": {
            "backgroundcolor": "#E5ECF6",
            "gridcolor": "white",
            "gridwidth": 2,
            "linecolor": "white",
            "showbackground": true,
            "ticks": "",
            "zerolinecolor": "white"
           }
          },
          "shapedefaults": {
           "line": {
            "color": "#2a3f5f"
           }
          },
          "ternary": {
           "aaxis": {
            "gridcolor": "white",
            "linecolor": "white",
            "ticks": ""
           },
           "baxis": {
            "gridcolor": "white",
            "linecolor": "white",
            "ticks": ""
           },
           "bgcolor": "#E5ECF6",
           "caxis": {
            "gridcolor": "white",
            "linecolor": "white",
            "ticks": ""
           }
          },
          "title": {
           "x": 0.05
          },
          "xaxis": {
           "automargin": true,
           "gridcolor": "white",
           "linecolor": "white",
           "ticks": "",
           "title": {
            "standoff": 15
           },
           "zerolinecolor": "white",
           "zerolinewidth": 2
          },
          "yaxis": {
           "automargin": true,
           "gridcolor": "white",
           "linecolor": "white",
           "ticks": "",
           "title": {
            "standoff": 15
           },
           "zerolinecolor": "white",
           "zerolinewidth": 2
          }
         }
        },
        "title": {
         "x": 0.5,
         "xanchor": "center",
         "y": 0.9,
         "yanchor": "top"
        },
        "xaxis": {
         "anchor": "y",
         "domain": [
          0,
          0.94
         ],
         "linecolor": "black",
         "linewidth": 1,
         "showline": true,
         "title": {
          "text": "Bins"
         }
        },
        "yaxis": {
         "anchor": "x",
         "domain": [
          0,
          1
         ],
         "gridcolor": "lightgray",
         "gridwidth": 1,
         "linecolor": "black",
         "linewidth": 1,
         "showgrid": true,
         "showline": true,
         "title": {
          "text": "Feature Strength"
         },
         "zeroline": true,
         "zerolinecolor": "black",
         "zerolinewidth": 2
        },
        "yaxis2": {
         "anchor": "x",
         "gridcolor": "lightgray",
         "gridwidth": 1,
         "linecolor": "black",
         "linewidth": 1,
         "overlaying": "y",
         "showgrid": true,
         "showline": true,
         "side": "right",
         "tickformat": ",.0%",
         "title": {
          "text": "Average Prediction"
         },
         "zeroline": true,
         "zerolinecolor": "black",
         "zerolinewidth": 2
        }
       }
      },
      "text/html": [
       "<div>                            <div id=\"f6068d64-3579-4679-a56d-d359f4a3f887\" class=\"plotly-graph-div\" style=\"height:600px; width:100%;\"></div>            <script type=\"text/javascript\">                require([\"plotly\"], function(Plotly) {                    window.PLOTLYENV=window.PLOTLYENV || {};                                    if (document.getElementById(\"f6068d64-3579-4679-a56d-d359f4a3f887\")) {                    Plotly.newPlot(                        \"f6068d64-3579-4679-a56d-d359f4a3f887\",                        [{\"line\":{\"color\":\"blue\",\"width\":2},\"marker\":{\"color\":\"blue\",\"line\":{\"color\":\"blue\",\"width\":2},\"size\":5,\"symbol\":\"cross-open\"},\"mode\":\"lines+markers\",\"name\":\"Predictions\",\"x\":[1,2,3,4,5,6,7,8,9,10,11,12],\"y\":[0.010096610268468469,0.02526995757837838,0.04018816068378378,0.06138179000900901,0.09459728835405407,0.14881793800363638,0.2314729185009009,0.36369197505495493,0.5414435913972973,0.7070305333639639,0.8413680774846847,0.9446145764309092],\"type\":\"scatter\",\"xaxis\":\"x\",\"yaxis\":\"y2\"},{\"line\":{\"color\":\"#ff7f0e\",\"width\":2},\"marker\":{\"color\":\"#ff7f0e\",\"line\":{\"color\":\"#ff7f0e\",\"width\":2},\"size\":5,\"symbol\":\"circle-open\"},\"mode\":\"lines+markers\",\"name\":\"Actuals\",\"x\":[1,2,3,4,5,6,7,8,9,10,11,12],\"y\":[0.009009009009009009,0.009009009009009009,0.04504504504504504,0.02702702702702703,0.0990990990990991,0.15454545454545454,0.2882882882882883,0.38738738738738737,0.5765765765765766,0.7837837837837838,0.918918918918919,1.0],\"type\":\"scatter\",\"xaxis\":\"x\",\"yaxis\":\"y2\"},{\"customdata\":[[24.0,-16.7996076352,\"Contract_Duration\"],[24.0,-16.1611345976,\"Contract_Duration\"],[24.0,-16.1611345976,\"Contract_Duration\"],[24.0,-5.307092964299999,\"Contract_Duration\"],[24.0,-2.114727778099999,\"Contract_Duration\"],[24.0,-0.8377817038999986,\"Contract_Duration\"],[12.0,0.0038072338000009753,\"Contract_Duration\"],[24.0,1.0776374080000013,\"Contract_Duration\"],[12.0,4.270002593800001,\"Contract_Duration\"],[12.0,6.185421705700001,\"Contract_Duration\"],[12.0,16.4009903018,\"Contract_Duration\"],[12.0,28.096620872400003,\"Contract_Duration\"]],\"hoverlabel\":{\"bgcolor\":\"white\",\"font\":{\"family\":\"Rockwell\",\"size\":16},\"namelength\":-1},\"hovertemplate\":\"<br>Bin</b>: %{x}<br>Feature</b>: %{customdata[2]}<br>Strength</b>: %{y: .2}<br>Median Value</b>: %{customdata[0]: .3}<extra></extra>\",\"marker\":{\"color\":\"#636EFA\"},\"name\":\"Contract_Duration\",\"opacity\":0.5,\"x\":[1,3,2,8,4,5,6,9,7,10,11,12],\"y\":[-16.7996076352,-16.1611345976,-16.1611345976,-5.307092964299999,-2.114727778099999,-0.8377817038999986,0.0038072338000009753,1.0776374080000013,4.270002593800001,6.185421705700001,16.4009903018,28.096620872400003],\"type\":\"bar\"},{\"customdata\":[[\"Rosa Groves\",-53.2512972002,\"Customer_Succes_Manager\"],[\"Rosa Groves\",-43.1154751626,\"Customer_Succes_Manager\"],[\"Nicolas Buxton\",-22.106725839,\"Customer_Succes_Manager\"],[\"Eusebio Lutz\",-8.134829929099999,\"Customer_Succes_Manager\"],[\"Brandie Tam\",-7.4870356526999995,\"Customer_Succes_Manager\"],[\"Tammi Manns\",-5.272008026299999,\"Customer_Succes_Manager\"],[\"Junior Large\",0.19452153950000056,\"Customer_Succes_Manager\"],[\"Kayla Dobbins\",9.277761920900002,\"Customer_Succes_Manager\"],[\"Isaac Sonnier\",13.2186587772,\"Customer_Succes_Manager\"],[\"Hillary Cuellar\",16.2097949333,\"Customer_Succes_Manager\"],[\"Hillary Cuellar\",30.1659411539,\"Customer_Succes_Manager\"],[\"Kira Sharpe\",44.601033672599996,\"Customer_Succes_Manager\"]],\"hoverlabel\":{\"bgcolor\":\"white\",\"font\":{\"family\":\"Rockwell\",\"size\":16},\"namelength\":-1},\"hovertemplate\":\"<br>Bin</b>: %{x}<br>Feature</b>: %{customdata[2]}<br>Strength</b>: %{y: .2}<br>Most Frequent Value</b>: %{customdata[0]}<extra></extra>\",\"marker\":{\"color\":\"#EF553B\"},\"name\":\"Customer_Succes_Manager\",\"opacity\":0.5,\"x\":[1,2,3,5,4,9,10,6,11,8,7,12],\"y\":[-53.2512972002,-43.1154751626,-22.106725839,-8.134829929099999,-7.4870356526999995,-5.272008026299999,0.19452153950000056,9.277761920900002,13.2186587772,16.2097949333,30.1659411539,44.601033672599996],\"type\":\"bar\"},{\"customdata\":[[2.0,-77.738193195,\"Customers[Products_Purchased] (5 years unique count)\"],[2.0,-59.6415517282,\"Customers[Products_Purchased] (5 years unique count)\"],[2.0,-52.844386004099995,\"Customers[Products_Purchased] (5 years unique count)\"],[2.0,-51.6694591179,\"Customers[Products_Purchased] (5 years unique count)\"],[2.0,-47.626050177699994,\"Customers[Products_Purchased] (5 years unique count)\"],[2.0,-36.175067016199996,\"Customers[Products_Purchased] (5 years unique count)\"],[2.0,-26.165243428799997,\"Customers[Products_Purchased] (5 years unique count)\"],[0.0,9.1513983217,\"Customers[Products_Purchased] (5 years unique count)\"],[0.0,41.8290085581,\"Customers[Products_Purchased] (5 years unique count)\"],[0.0,59.3014044345,\"Customers[Products_Purchased] (5 years unique count)\"],[0.0,64.0928921955,\"Customers[Products_Purchased] (5 years unique count)\"],[0.0,66.5345261839,\"Customers[Products_Purchased] (5 years unique count)\"]],\"hoverlabel\":{\"bgcolor\":\"white\",\"font\":{\"family\":\"Rockwell\",\"size\":16},\"namelength\":-1},\"hovertemplate\":\"<br>Bin</b>: %{x}<br>Feature</b>: %{customdata[2]}<br>Strength</b>: %{y: .2}<br>Median Value</b>: %{customdata[0]: .3}<extra></extra>\",\"marker\":{\"color\":\"#00CC96\"},\"name\":\"Customers[Products_Purchased] (5 years unique count)\",\"opacity\":0.5,\"x\":[1,3,4,2,5,6,7,8,9,10,11,12],\"y\":[-77.738193195,-59.6415517282,-52.844386004099995,-51.6694591179,-47.626050177699994,-36.175067016199996,-26.165243428799997,9.1513983217,41.8290085581,59.3014044345,64.0928921955,66.5345261839],\"type\":\"bar\"},{\"customdata\":[[13.0,5.2860498755,\"Product_Usage (180 days count)\"],[12.0,14.9604766572,\"Product_Usage (180 days count)\"],[12.5,16.3626915834,\"Product_Usage (180 days count)\"],[11.0,27.2887191092,\"Product_Usage (180 days count)\"],[11.0,30.3481875956,\"Product_Usage (180 days count)\"],[10.0,32.364655460099996,\"Product_Usage (180 days count)\"],[10.0,34.6592568251,\"Product_Usage (180 days count)\"],[10.0,34.9675131596,\"Product_Usage (180 days count)\"],[10.0,36.1310051258,\"Product_Usage (180 days count)\"],[10.0,39.3109649574,\"Product_Usage (180 days count)\"],[9.0,41.8141664451,\"Product_Usage (180 days count)\"],[7.0,64.39167808090001,\"Product_Usage (180 days count)\"]],\"hoverlabel\":{\"bgcolor\":\"white\",\"font\":{\"family\":\"Rockwell\",\"size\":16},\"namelength\":-1},\"hovertemplate\":\"<br>Bin</b>: %{x}<br>Feature</b>: %{customdata[2]}<br>Strength</b>: %{y: .2}<br>Median Value</b>: %{customdata[0]: .3}<extra></extra>\",\"marker\":{\"color\":\"#AB63FA\"},\"name\":\"Product_Usage (180 days count)\",\"opacity\":0.5,\"x\":[1,2,3,4,9,7,6,8,10,5,11,12],\"y\":[5.2860498755,14.9604766572,16.3626915834,27.2887191092,30.3481875956,32.364655460099996,34.6592568251,34.9675131596,36.1310051258,39.3109649574,41.8141664451,64.39167808090001],\"type\":\"bar\"},{\"customdata\":[[\"OH\",-23.9124196285,\"State\"],[\"TX\",-19.638616064,\"State\"],[\"TX\",-11.609184523,\"State\"],[\"TX\",-8.573867178899999,\"State\"],[\"WI\",-6.199670472,\"State\"],[\"OH\",-5.5265216158,\"State\"],[\"WV\",0.07440657670000003,\"State\"],[\"NY\",0.5089696869000002,\"State\"],[\"OH\",2.1015890534999997,\"State\"],[\"OH\",5.3634261831,\"State\"],[\"NY\",13.1630868779,\"State\"],[\"NY\",25.5039040268,\"State\"]],\"hoverlabel\":{\"bgcolor\":\"white\",\"font\":{\"family\":\"Rockwell\",\"size\":16},\"namelength\":-1},\"hovertemplate\":\"<br>Bin</b>: %{x}<br>Feature</b>: %{customdata[2]}<br>Strength</b>: %{y: .2}<br>Most Frequent Value</b>: %{customdata[0]}<extra></extra>\",\"marker\":{\"color\":\"#FFA15A\"},\"name\":\"State\",\"opacity\":0.5,\"x\":[1,2,3,5,4,8,9,6,7,10,11,12],\"y\":[-23.9124196285,-19.638616064,-11.609184523,-8.573867178899999,-6.199670472,-5.5265216158,0.07440657670000003,0.5089696869000002,2.1015890534999997,5.3634261831,13.1630868779,25.5039040268],\"type\":\"bar\"},{\"customdata\":[[3287.0,-69.0952269832,\"duration(Renewal_Date, Customer_Since_Date)\"],[3287.0,-61.5989014454,\"duration(Renewal_Date, Customer_Since_Date)\"],[2922.0,-57.7273753087,\"duration(Renewal_Date, Customer_Since_Date)\"],[2922.0,-54.3149479104,\"duration(Renewal_Date, Customer_Since_Date)\"],[2922.0,-51.7552052067,\"duration(Renewal_Date, Customer_Since_Date)\"],[2557.0,-36.3761862644,\"duration(Renewal_Date, Customer_Since_Date)\"],[2557.0,-30.293308745,\"duration(Renewal_Date, Customer_Since_Date)\"],[1096.0,2.3220679805999995,\"duration(Renewal_Date, Customer_Since_Date)\"],[731.0,32.1525933392,\"duration(Renewal_Date, Customer_Since_Date)\"],[730.0,40.6096928172,\"duration(Renewal_Date, Customer_Since_Date)\"],[366.0,48.961522656700005,\"duration(Renewal_Date, Customer_Since_Date)\"],[365.0,53.3945416524,\"duration(Renewal_Date, Customer_Since_Date)\"]],\"hoverlabel\":{\"bgcolor\":\"white\",\"font\":{\"family\":\"Rockwell\",\"size\":16},\"namelength\":-1},\"hovertemplate\":\"<br>Bin</b>: %{x}<br>Feature</b>: %{customdata[2]}<br>Strength</b>: %{y: .2}<br>Median Value</b>: %{customdata[0]: .3}<extra></extra>\",\"marker\":{\"color\":\"#19D3F3\"},\"name\":\"duration(Renewal_Date, Customer_Since_Date)\",\"opacity\":0.5,\"x\":[1,2,3,4,5,6,7,8,9,10,11,12],\"y\":[-69.0952269832,-61.5989014454,-57.7273753087,-54.3149479104,-51.7552052067,-36.3761862644,-30.293308745,2.3220679805999995,32.1525933392,40.6096928172,48.961522656700005,53.3945416524],\"type\":\"bar\"}],                        {\"template\":{\"data\":{\"histogram2dcontour\":[{\"type\":\"histogram2dcontour\",\"colorbar\":{\"outlinewidth\":0,\"ticks\":\"\"},\"colorscale\":[[0.0,\"#0d0887\"],[0.1111111111111111,\"#46039f\"],[0.2222222222222222,\"#7201a8\"],[0.3333333333333333,\"#9c179e\"],[0.4444444444444444,\"#bd3786\"],[0.5555555555555556,\"#d8576b\"],[0.6666666666666666,\"#ed7953\"],[0.7777777777777778,\"#fb9f3a\"],[0.8888888888888888,\"#fdca26\"],[1.0,\"#f0f921\"]]}],\"choropleth\":[{\"type\":\"choropleth\",\"colorbar\":{\"outlinewidth\":0,\"ticks\":\"\"}}],\"histogram2d\":[{\"type\":\"histogram2d\",\"colorbar\":{\"outlinewidth\":0,\"ticks\":\"\"},\"colorscale\":[[0.0,\"#0d0887\"],[0.1111111111111111,\"#46039f\"],[0.2222222222222222,\"#7201a8\"],[0.3333333333333333,\"#9c179e\"],[0.4444444444444444,\"#bd3786\"],[0.5555555555555556,\"#d8576b\"],[0.6666666666666666,\"#ed7953\"],[0.7777777777777778,\"#fb9f3a\"],[0.8888888888888888,\"#fdca26\"],[1.0,\"#f0f921\"]]}],\"heatmap\":[{\"type\":\"heatmap\",\"colorbar\":{\"outlinewidth\":0,\"ticks\":\"\"},\"colorscale\":[[0.0,\"#0d0887\"],[0.1111111111111111,\"#46039f\"],[0.2222222222222222,\"#7201a8\"],[0.3333333333333333,\"#9c179e\"],[0.4444444444444444,\"#bd3786\"],[0.5555555555555556,\"#d8576b\"],[0.6666666666666666,\"#ed7953\"],[0.7777777777777778,\"#fb9f3a\"],[0.8888888888888888,\"#fdca26\"],[1.0,\"#f0f921\"]]}],\"heatmapgl\":[{\"type\":\"heatmapgl\",\"colorbar\":{\"outlinewidth\":0,\"ticks\":\"\"},\"colorscale\":[[0.0,\"#0d0887\"],[0.1111111111111111,\"#46039f\"],[0.2222222222222222,\"#7201a8\"],[0.3333333333333333,\"#9c179e\"],[0.4444444444444444,\"#bd3786\"],[0.5555555555555556,\"#d8576b\"],[0.6666666666666666,\"#ed7953\"],[0.7777777777777778,\"#fb9f3a\"],[0.8888888888888888,\"#fdca26\"],[1.0,\"#f0f921\"]]}],\"contourcarpet\":[{\"type\":\"contourcarpet\",\"colorbar\":{\"outlinewidth\":0,\"ticks\":\"\"}}],\"contour\":[{\"type\":\"contour\",\"colorbar\":{\"outlinewidth\":0,\"ticks\":\"\"},\"colorscale\":[[0.0,\"#0d0887\"],[0.1111111111111111,\"#46039f\"],[0.2222222222222222,\"#7201a8\"],[0.3333333333333333,\"#9c179e\"],[0.4444444444444444,\"#bd3786\"],[0.5555555555555556,\"#d8576b\"],[0.6666666666666666,\"#ed7953\"],[0.7777777777777778,\"#fb9f3a\"],[0.8888888888888888,\"#fdca26\"],[1.0,\"#f0f921\"]]}],\"surface\":[{\"type\":\"surface\",\"colorbar\":{\"outlinewidth\":0,\"ticks\":\"\"},\"colorscale\":[[0.0,\"#0d0887\"],[0.1111111111111111,\"#46039f\"],[0.2222222222222222,\"#7201a8\"],[0.3333333333333333,\"#9c179e\"],[0.4444444444444444,\"#bd3786\"],[0.5555555555555556,\"#d8576b\"],[0.6666666666666666,\"#ed7953\"],[0.7777777777777778,\"#fb9f3a\"],[0.8888888888888888,\"#fdca26\"],[1.0,\"#f0f921\"]]}],\"mesh3d\":[{\"type\":\"mesh3d\",\"colorbar\":{\"outlinewidth\":0,\"ticks\":\"\"}}],\"scatter\":[{\"fillpattern\":{\"fillmode\":\"overlay\",\"size\":10,\"solidity\":0.2},\"type\":\"scatter\"}],\"parcoords\":[{\"type\":\"parcoords\",\"line\":{\"colorbar\":{\"outlinewidth\":0,\"ticks\":\"\"}}}],\"scatterpolargl\":[{\"type\":\"scatterpolargl\",\"marker\":{\"colorbar\":{\"outlinewidth\":0,\"ticks\":\"\"}}}],\"bar\":[{\"error_x\":{\"color\":\"#2a3f5f\"},\"error_y\":{\"color\":\"#2a3f5f\"},\"marker\":{\"line\":{\"color\":\"#E5ECF6\",\"width\":0.5},\"pattern\":{\"fillmode\":\"overlay\",\"size\":10,\"solidity\":0.2}},\"type\":\"bar\"}],\"scattergeo\":[{\"type\":\"scattergeo\",\"marker\":{\"colorbar\":{\"outlinewidth\":0,\"ticks\":\"\"}}}],\"scatterpolar\":[{\"type\":\"scatterpolar\",\"marker\":{\"colorbar\":{\"outlinewidth\":0,\"ticks\":\"\"}}}],\"histogram\":[{\"marker\":{\"pattern\":{\"fillmode\":\"overlay\",\"size\":10,\"solidity\":0.2}},\"type\":\"histogram\"}],\"scattergl\":[{\"type\":\"scattergl\",\"marker\":{\"colorbar\":{\"outlinewidth\":0,\"ticks\":\"\"}}}],\"scatter3d\":[{\"type\":\"scatter3d\",\"line\":{\"colorbar\":{\"outlinewidth\":0,\"ticks\":\"\"}},\"marker\":{\"colorbar\":{\"outlinewidth\":0,\"ticks\":\"\"}}}],\"scattermapbox\":[{\"type\":\"scattermapbox\",\"marker\":{\"colorbar\":{\"outlinewidth\":0,\"ticks\":\"\"}}}],\"scatterternary\":[{\"type\":\"scatterternary\",\"marker\":{\"colorbar\":{\"outlinewidth\":0,\"ticks\":\"\"}}}],\"scattercarpet\":[{\"type\":\"scattercarpet\",\"marker\":{\"colorbar\":{\"outlinewidth\":0,\"ticks\":\"\"}}}],\"carpet\":[{\"aaxis\":{\"endlinecolor\":\"#2a3f5f\",\"gridcolor\":\"white\",\"linecolor\":\"white\",\"minorgridcolor\":\"white\",\"startlinecolor\":\"#2a3f5f\"},\"baxis\":{\"endlinecolor\":\"#2a3f5f\",\"gridcolor\":\"white\",\"linecolor\":\"white\",\"minorgridcolor\":\"white\",\"startlinecolor\":\"#2a3f5f\"},\"type\":\"carpet\"}],\"table\":[{\"cells\":{\"fill\":{\"color\":\"#EBF0F8\"},\"line\":{\"color\":\"white\"}},\"header\":{\"fill\":{\"color\":\"#C8D4E3\"},\"line\":{\"color\":\"white\"}},\"type\":\"table\"}],\"barpolar\":[{\"marker\":{\"line\":{\"color\":\"#E5ECF6\",\"width\":0.5},\"pattern\":{\"fillmode\":\"overlay\",\"size\":10,\"solidity\":0.2}},\"type\":\"barpolar\"}],\"pie\":[{\"automargin\":true,\"type\":\"pie\"}]},\"layout\":{\"autotypenumbers\":\"strict\",\"colorway\":[\"#636efa\",\"#EF553B\",\"#00cc96\",\"#ab63fa\",\"#FFA15A\",\"#19d3f3\",\"#FF6692\",\"#B6E880\",\"#FF97FF\",\"#FECB52\"],\"font\":{\"color\":\"#2a3f5f\"},\"hovermode\":\"closest\",\"hoverlabel\":{\"align\":\"left\"},\"paper_bgcolor\":\"white\",\"plot_bgcolor\":\"#E5ECF6\",\"polar\":{\"bgcolor\":\"#E5ECF6\",\"angularaxis\":{\"gridcolor\":\"white\",\"linecolor\":\"white\",\"ticks\":\"\"},\"radialaxis\":{\"gridcolor\":\"white\",\"linecolor\":\"white\",\"ticks\":\"\"}},\"ternary\":{\"bgcolor\":\"#E5ECF6\",\"aaxis\":{\"gridcolor\":\"white\",\"linecolor\":\"white\",\"ticks\":\"\"},\"baxis\":{\"gridcolor\":\"white\",\"linecolor\":\"white\",\"ticks\":\"\"},\"caxis\":{\"gridcolor\":\"white\",\"linecolor\":\"white\",\"ticks\":\"\"}},\"coloraxis\":{\"colorbar\":{\"outlinewidth\":0,\"ticks\":\"\"}},\"colorscale\":{\"sequential\":[[0.0,\"#0d0887\"],[0.1111111111111111,\"#46039f\"],[0.2222222222222222,\"#7201a8\"],[0.3333333333333333,\"#9c179e\"],[0.4444444444444444,\"#bd3786\"],[0.5555555555555556,\"#d8576b\"],[0.6666666666666666,\"#ed7953\"],[0.7777777777777778,\"#fb9f3a\"],[0.8888888888888888,\"#fdca26\"],[1.0,\"#f0f921\"]],\"sequentialminus\":[[0.0,\"#0d0887\"],[0.1111111111111111,\"#46039f\"],[0.2222222222222222,\"#7201a8\"],[0.3333333333333333,\"#9c179e\"],[0.4444444444444444,\"#bd3786\"],[0.5555555555555556,\"#d8576b\"],[0.6666666666666666,\"#ed7953\"],[0.7777777777777778,\"#fb9f3a\"],[0.8888888888888888,\"#fdca26\"],[1.0,\"#f0f921\"]],\"diverging\":[[0,\"#8e0152\"],[0.1,\"#c51b7d\"],[0.2,\"#de77ae\"],[0.3,\"#f1b6da\"],[0.4,\"#fde0ef\"],[0.5,\"#f7f7f7\"],[0.6,\"#e6f5d0\"],[0.7,\"#b8e186\"],[0.8,\"#7fbc41\"],[0.9,\"#4d9221\"],[1,\"#276419\"]]},\"xaxis\":{\"gridcolor\":\"white\",\"linecolor\":\"white\",\"ticks\":\"\",\"title\":{\"standoff\":15},\"zerolinecolor\":\"white\",\"automargin\":true,\"zerolinewidth\":2},\"yaxis\":{\"gridcolor\":\"white\",\"linecolor\":\"white\",\"ticks\":\"\",\"title\":{\"standoff\":15},\"zerolinecolor\":\"white\",\"automargin\":true,\"zerolinewidth\":2},\"scene\":{\"xaxis\":{\"backgroundcolor\":\"#E5ECF6\",\"gridcolor\":\"white\",\"linecolor\":\"white\",\"showbackground\":true,\"ticks\":\"\",\"zerolinecolor\":\"white\",\"gridwidth\":2},\"yaxis\":{\"backgroundcolor\":\"#E5ECF6\",\"gridcolor\":\"white\",\"linecolor\":\"white\",\"showbackground\":true,\"ticks\":\"\",\"zerolinecolor\":\"white\",\"gridwidth\":2},\"zaxis\":{\"backgroundcolor\":\"#E5ECF6\",\"gridcolor\":\"white\",\"linecolor\":\"white\",\"showbackground\":true,\"ticks\":\"\",\"zerolinecolor\":\"white\",\"gridwidth\":2}},\"shapedefaults\":{\"line\":{\"color\":\"#2a3f5f\"}},\"annotationdefaults\":{\"arrowcolor\":\"#2a3f5f\",\"arrowhead\":0,\"arrowwidth\":1},\"geo\":{\"bgcolor\":\"white\",\"landcolor\":\"#E5ECF6\",\"subunitcolor\":\"white\",\"showland\":true,\"showlakes\":true,\"lakecolor\":\"white\"},\"title\":{\"x\":0.05},\"mapbox\":{\"style\":\"light\"}}},\"xaxis\":{\"anchor\":\"y\",\"domain\":[0.0,0.94],\"title\":{\"text\":\"Bins\"},\"showline\":true,\"linewidth\":1,\"linecolor\":\"black\"},\"yaxis\":{\"anchor\":\"x\",\"domain\":[0.0,1.0],\"title\":{\"text\":\"Feature Strength\"},\"showline\":true,\"linewidth\":1,\"linecolor\":\"black\",\"showgrid\":true,\"gridwidth\":1,\"gridcolor\":\"lightgray\",\"zeroline\":true,\"zerolinewidth\":2,\"zerolinecolor\":\"black\"},\"yaxis2\":{\"anchor\":\"x\",\"overlaying\":\"y\",\"side\":\"right\",\"title\":{\"text\":\"Average Prediction\"},\"tickformat\":\",.0%\",\"showline\":true,\"linewidth\":1,\"linecolor\":\"black\",\"showgrid\":true,\"gridwidth\":1,\"gridcolor\":\"lightgray\",\"zeroline\":true,\"zerolinewidth\":2,\"zerolinecolor\":\"black\"},\"title\":{\"y\":0.9,\"x\":0.5,\"xanchor\":\"center\",\"yanchor\":\"top\"},\"legend\":{\"bgcolor\":\"rgba(255, 255, 255, 0)\",\"bordercolor\":\"rgba(255, 255, 255, 0)\",\"x\":1.1,\"y\":1,\"xanchor\":\"left\",\"yanchor\":\"top\",\"title\":{\"text\":\"Features: \"}},\"hoverlabel\":{\"font\":{\"size\":16,\"family\":\"Rockwell\"},\"bgcolor\":\"white\",\"namelength\":-1},\"barmode\":\"relative\",\"height\":600,\"plot_bgcolor\":\"rgba(0,0,0,0)\",\"showlegend\":false},                        {\"responsive\": true}                    ).then(function(){\n",
       "                            \n",
       "var gd = document.getElementById('f6068d64-3579-4679-a56d-d359f4a3f887');\n",
       "var x = new MutationObserver(function (mutations, observer) {{\n",
       "        var display = window.getComputedStyle(gd).display;\n",
       "        if (!display || display === 'none') {{\n",
       "            console.log([gd, 'removed!']);\n",
       "            Plotly.purge(gd);\n",
       "            observer.disconnect();\n",
       "        }}\n",
       "}});\n",
       "\n",
       "// Listen for the removal of the full notebook cells\n",
       "var notebookContainer = gd.closest('#notebook-container');\n",
       "if (notebookContainer) {{\n",
       "    x.observe(notebookContainer, {childList: true});\n",
       "}}\n",
       "\n",
       "// Listen for the clearing of the current output cell\n",
       "var outputEl = gd.closest('.output');\n",
       "if (outputEl) {{\n",
       "    x.observe(outputEl, {childList: true});\n",
       "}}\n",
       "\n",
       "                        })                };                });            </script>        </div>"
      ]
     },
     "metadata": {},
     "output_type": "display_data"
    }
   ],
   "source": [
    "# plot lift chart with overlaid prediction explanations\n",
    "plot_prediction_explanations_and_lift_chart(melted, project_id, showlegend=False, max_features=6, bins=12)"
   ]
  },
  {
   "cell_type": "code",
   "execution_count": 1165,
   "id": "bc13cdf4",
   "metadata": {},
   "outputs": [
    {
     "data": {
      "application/vnd.plotly.v1+json": {
       "config": {
        "plotlyServerURL": "https://plot.ly"
       },
       "data": [
        {
         "marker": {
          "color": "lightblue"
         },
         "name": "0",
         "opacity": 0.7,
         "type": "bar",
         "x": [
          "Alonso Houle",
          "Brandie Tam",
          "Chastity Sorenson",
          "Eusebio Lutz",
          "Florine Hamer",
          "Gale Newton",
          "Gilda Stevens",
          "Gregory Hammer",
          "Hillary Cuellar",
          "Isaac Sonnier",
          "Jonnie Prado",
          "Junior Large",
          "Kayla Dobbins",
          "Maura Jeter",
          "Nicolas Buxton",
          "OTHER",
          "Patrica Wolfe",
          "Rosa Groves",
          "Stevie Prieto",
          "Tammi Manns"
         ],
         "y": [
          28,
          30,
          46,
          38,
          39,
          38,
          33,
          39,
          26,
          38,
          34,
          32,
          37,
          22,
          39,
          127,
          26,
          44,
          42,
          32
         ]
        },
        {
         "marker": {
          "color": "blue"
         },
         "name": "1",
         "opacity": 0.7,
         "type": "bar",
         "x": [
          "Alonso Houle",
          "Brandie Tam",
          "Chastity Sorenson",
          "Eusebio Lutz",
          "Florine Hamer",
          "Gale Newton",
          "Gilda Stevens",
          "Gregory Hammer",
          "Hillary Cuellar",
          "Isaac Sonnier",
          "Jonnie Prado",
          "Junior Large",
          "Kayla Dobbins",
          "Maura Jeter",
          "Nicolas Buxton",
          "OTHER",
          "Patrica Wolfe",
          "Rosa Groves",
          "Stevie Prieto",
          "Tammi Manns"
         ],
         "y": [
          17,
          20,
          13,
          19,
          24,
          27,
          20,
          16,
          39,
          21,
          22,
          20,
          21,
          28,
          20,
          128,
          21,
          10,
          17,
          37
         ]
        }
       ],
       "layout": {
        "height": 600,
        "hoverlabel": {
         "bgcolor": "white",
         "font": {
          "family": "Rockwell",
          "size": 16
         },
         "namelength": -1
        },
        "legend": {
         "title": {
          "text": "Predictions"
         }
        },
        "plot_bgcolor": "rgba(0,0,0,0)",
        "showlegend": true,
        "template": {
         "data": {
          "bar": [
           {
            "error_x": {
             "color": "#2a3f5f"
            },
            "error_y": {
             "color": "#2a3f5f"
            },
            "marker": {
             "line": {
              "color": "#E5ECF6",
              "width": 0.5
             },
             "pattern": {
              "fillmode": "overlay",
              "size": 10,
              "solidity": 0.2
             }
            },
            "type": "bar"
           }
          ],
          "barpolar": [
           {
            "marker": {
             "line": {
              "color": "#E5ECF6",
              "width": 0.5
             },
             "pattern": {
              "fillmode": "overlay",
              "size": 10,
              "solidity": 0.2
             }
            },
            "type": "barpolar"
           }
          ],
          "carpet": [
           {
            "aaxis": {
             "endlinecolor": "#2a3f5f",
             "gridcolor": "white",
             "linecolor": "white",
             "minorgridcolor": "white",
             "startlinecolor": "#2a3f5f"
            },
            "baxis": {
             "endlinecolor": "#2a3f5f",
             "gridcolor": "white",
             "linecolor": "white",
             "minorgridcolor": "white",
             "startlinecolor": "#2a3f5f"
            },
            "type": "carpet"
           }
          ],
          "choropleth": [
           {
            "colorbar": {
             "outlinewidth": 0,
             "ticks": ""
            },
            "type": "choropleth"
           }
          ],
          "contour": [
           {
            "colorbar": {
             "outlinewidth": 0,
             "ticks": ""
            },
            "colorscale": [
             [
              0,
              "#0d0887"
             ],
             [
              0.1111111111111111,
              "#46039f"
             ],
             [
              0.2222222222222222,
              "#7201a8"
             ],
             [
              0.3333333333333333,
              "#9c179e"
             ],
             [
              0.4444444444444444,
              "#bd3786"
             ],
             [
              0.5555555555555556,
              "#d8576b"
             ],
             [
              0.6666666666666666,
              "#ed7953"
             ],
             [
              0.7777777777777778,
              "#fb9f3a"
             ],
             [
              0.8888888888888888,
              "#fdca26"
             ],
             [
              1,
              "#f0f921"
             ]
            ],
            "type": "contour"
           }
          ],
          "contourcarpet": [
           {
            "colorbar": {
             "outlinewidth": 0,
             "ticks": ""
            },
            "type": "contourcarpet"
           }
          ],
          "heatmap": [
           {
            "colorbar": {
             "outlinewidth": 0,
             "ticks": ""
            },
            "colorscale": [
             [
              0,
              "#0d0887"
             ],
             [
              0.1111111111111111,
              "#46039f"
             ],
             [
              0.2222222222222222,
              "#7201a8"
             ],
             [
              0.3333333333333333,
              "#9c179e"
             ],
             [
              0.4444444444444444,
              "#bd3786"
             ],
             [
              0.5555555555555556,
              "#d8576b"
             ],
             [
              0.6666666666666666,
              "#ed7953"
             ],
             [
              0.7777777777777778,
              "#fb9f3a"
             ],
             [
              0.8888888888888888,
              "#fdca26"
             ],
             [
              1,
              "#f0f921"
             ]
            ],
            "type": "heatmap"
           }
          ],
          "heatmapgl": [
           {
            "colorbar": {
             "outlinewidth": 0,
             "ticks": ""
            },
            "colorscale": [
             [
              0,
              "#0d0887"
             ],
             [
              0.1111111111111111,
              "#46039f"
             ],
             [
              0.2222222222222222,
              "#7201a8"
             ],
             [
              0.3333333333333333,
              "#9c179e"
             ],
             [
              0.4444444444444444,
              "#bd3786"
             ],
             [
              0.5555555555555556,
              "#d8576b"
             ],
             [
              0.6666666666666666,
              "#ed7953"
             ],
             [
              0.7777777777777778,
              "#fb9f3a"
             ],
             [
              0.8888888888888888,
              "#fdca26"
             ],
             [
              1,
              "#f0f921"
             ]
            ],
            "type": "heatmapgl"
           }
          ],
          "histogram": [
           {
            "marker": {
             "pattern": {
              "fillmode": "overlay",
              "size": 10,
              "solidity": 0.2
             }
            },
            "type": "histogram"
           }
          ],
          "histogram2d": [
           {
            "colorbar": {
             "outlinewidth": 0,
             "ticks": ""
            },
            "colorscale": [
             [
              0,
              "#0d0887"
             ],
             [
              0.1111111111111111,
              "#46039f"
             ],
             [
              0.2222222222222222,
              "#7201a8"
             ],
             [
              0.3333333333333333,
              "#9c179e"
             ],
             [
              0.4444444444444444,
              "#bd3786"
             ],
             [
              0.5555555555555556,
              "#d8576b"
             ],
             [
              0.6666666666666666,
              "#ed7953"
             ],
             [
              0.7777777777777778,
              "#fb9f3a"
             ],
             [
              0.8888888888888888,
              "#fdca26"
             ],
             [
              1,
              "#f0f921"
             ]
            ],
            "type": "histogram2d"
           }
          ],
          "histogram2dcontour": [
           {
            "colorbar": {
             "outlinewidth": 0,
             "ticks": ""
            },
            "colorscale": [
             [
              0,
              "#0d0887"
             ],
             [
              0.1111111111111111,
              "#46039f"
             ],
             [
              0.2222222222222222,
              "#7201a8"
             ],
             [
              0.3333333333333333,
              "#9c179e"
             ],
             [
              0.4444444444444444,
              "#bd3786"
             ],
             [
              0.5555555555555556,
              "#d8576b"
             ],
             [
              0.6666666666666666,
              "#ed7953"
             ],
             [
              0.7777777777777778,
              "#fb9f3a"
             ],
             [
              0.8888888888888888,
              "#fdca26"
             ],
             [
              1,
              "#f0f921"
             ]
            ],
            "type": "histogram2dcontour"
           }
          ],
          "mesh3d": [
           {
            "colorbar": {
             "outlinewidth": 0,
             "ticks": ""
            },
            "type": "mesh3d"
           }
          ],
          "parcoords": [
           {
            "line": {
             "colorbar": {
              "outlinewidth": 0,
              "ticks": ""
             }
            },
            "type": "parcoords"
           }
          ],
          "pie": [
           {
            "automargin": true,
            "type": "pie"
           }
          ],
          "scatter": [
           {
            "fillpattern": {
             "fillmode": "overlay",
             "size": 10,
             "solidity": 0.2
            },
            "type": "scatter"
           }
          ],
          "scatter3d": [
           {
            "line": {
             "colorbar": {
              "outlinewidth": 0,
              "ticks": ""
             }
            },
            "marker": {
             "colorbar": {
              "outlinewidth": 0,
              "ticks": ""
             }
            },
            "type": "scatter3d"
           }
          ],
          "scattercarpet": [
           {
            "marker": {
             "colorbar": {
              "outlinewidth": 0,
              "ticks": ""
             }
            },
            "type": "scattercarpet"
           }
          ],
          "scattergeo": [
           {
            "marker": {
             "colorbar": {
              "outlinewidth": 0,
              "ticks": ""
             }
            },
            "type": "scattergeo"
           }
          ],
          "scattergl": [
           {
            "marker": {
             "colorbar": {
              "outlinewidth": 0,
              "ticks": ""
             }
            },
            "type": "scattergl"
           }
          ],
          "scattermapbox": [
           {
            "marker": {
             "colorbar": {
              "outlinewidth": 0,
              "ticks": ""
             }
            },
            "type": "scattermapbox"
           }
          ],
          "scatterpolar": [
           {
            "marker": {
             "colorbar": {
              "outlinewidth": 0,
              "ticks": ""
             }
            },
            "type": "scatterpolar"
           }
          ],
          "scatterpolargl": [
           {
            "marker": {
             "colorbar": {
              "outlinewidth": 0,
              "ticks": ""
             }
            },
            "type": "scatterpolargl"
           }
          ],
          "scatterternary": [
           {
            "marker": {
             "colorbar": {
              "outlinewidth": 0,
              "ticks": ""
             }
            },
            "type": "scatterternary"
           }
          ],
          "surface": [
           {
            "colorbar": {
             "outlinewidth": 0,
             "ticks": ""
            },
            "colorscale": [
             [
              0,
              "#0d0887"
             ],
             [
              0.1111111111111111,
              "#46039f"
             ],
             [
              0.2222222222222222,
              "#7201a8"
             ],
             [
              0.3333333333333333,
              "#9c179e"
             ],
             [
              0.4444444444444444,
              "#bd3786"
             ],
             [
              0.5555555555555556,
              "#d8576b"
             ],
             [
              0.6666666666666666,
              "#ed7953"
             ],
             [
              0.7777777777777778,
              "#fb9f3a"
             ],
             [
              0.8888888888888888,
              "#fdca26"
             ],
             [
              1,
              "#f0f921"
             ]
            ],
            "type": "surface"
           }
          ],
          "table": [
           {
            "cells": {
             "fill": {
              "color": "#EBF0F8"
             },
             "line": {
              "color": "white"
             }
            },
            "header": {
             "fill": {
              "color": "#C8D4E3"
             },
             "line": {
              "color": "white"
             }
            },
            "type": "table"
           }
          ]
         },
         "layout": {
          "annotationdefaults": {
           "arrowcolor": "#2a3f5f",
           "arrowhead": 0,
           "arrowwidth": 1
          },
          "autotypenumbers": "strict",
          "coloraxis": {
           "colorbar": {
            "outlinewidth": 0,
            "ticks": ""
           }
          },
          "colorscale": {
           "diverging": [
            [
             0,
             "#8e0152"
            ],
            [
             0.1,
             "#c51b7d"
            ],
            [
             0.2,
             "#de77ae"
            ],
            [
             0.3,
             "#f1b6da"
            ],
            [
             0.4,
             "#fde0ef"
            ],
            [
             0.5,
             "#f7f7f7"
            ],
            [
             0.6,
             "#e6f5d0"
            ],
            [
             0.7,
             "#b8e186"
            ],
            [
             0.8,
             "#7fbc41"
            ],
            [
             0.9,
             "#4d9221"
            ],
            [
             1,
             "#276419"
            ]
           ],
           "sequential": [
            [
             0,
             "#0d0887"
            ],
            [
             0.1111111111111111,
             "#46039f"
            ],
            [
             0.2222222222222222,
             "#7201a8"
            ],
            [
             0.3333333333333333,
             "#9c179e"
            ],
            [
             0.4444444444444444,
             "#bd3786"
            ],
            [
             0.5555555555555556,
             "#d8576b"
            ],
            [
             0.6666666666666666,
             "#ed7953"
            ],
            [
             0.7777777777777778,
             "#fb9f3a"
            ],
            [
             0.8888888888888888,
             "#fdca26"
            ],
            [
             1,
             "#f0f921"
            ]
           ],
           "sequentialminus": [
            [
             0,
             "#0d0887"
            ],
            [
             0.1111111111111111,
             "#46039f"
            ],
            [
             0.2222222222222222,
             "#7201a8"
            ],
            [
             0.3333333333333333,
             "#9c179e"
            ],
            [
             0.4444444444444444,
             "#bd3786"
            ],
            [
             0.5555555555555556,
             "#d8576b"
            ],
            [
             0.6666666666666666,
             "#ed7953"
            ],
            [
             0.7777777777777778,
             "#fb9f3a"
            ],
            [
             0.8888888888888888,
             "#fdca26"
            ],
            [
             1,
             "#f0f921"
            ]
           ]
          },
          "colorway": [
           "#636efa",
           "#EF553B",
           "#00cc96",
           "#ab63fa",
           "#FFA15A",
           "#19d3f3",
           "#FF6692",
           "#B6E880",
           "#FF97FF",
           "#FECB52"
          ],
          "font": {
           "color": "#2a3f5f"
          },
          "geo": {
           "bgcolor": "white",
           "lakecolor": "white",
           "landcolor": "#E5ECF6",
           "showlakes": true,
           "showland": true,
           "subunitcolor": "white"
          },
          "hoverlabel": {
           "align": "left"
          },
          "hovermode": "closest",
          "mapbox": {
           "style": "light"
          },
          "paper_bgcolor": "white",
          "plot_bgcolor": "#E5ECF6",
          "polar": {
           "angularaxis": {
            "gridcolor": "white",
            "linecolor": "white",
            "ticks": ""
           },
           "bgcolor": "#E5ECF6",
           "radialaxis": {
            "gridcolor": "white",
            "linecolor": "white",
            "ticks": ""
           }
          },
          "scene": {
           "xaxis": {
            "backgroundcolor": "#E5ECF6",
            "gridcolor": "white",
            "gridwidth": 2,
            "linecolor": "white",
            "showbackground": true,
            "ticks": "",
            "zerolinecolor": "white"
           },
           "yaxis": {
            "backgroundcolor": "#E5ECF6",
            "gridcolor": "white",
            "gridwidth": 2,
            "linecolor": "white",
            "showbackground": true,
            "ticks": "",
            "zerolinecolor": "white"
           },
           "zaxis": {
            "backgroundcolor": "#E5ECF6",
            "gridcolor": "white",
            "gridwidth": 2,
            "linecolor": "white",
            "showbackground": true,
            "ticks": "",
            "zerolinecolor": "white"
           }
          },
          "shapedefaults": {
           "line": {
            "color": "#2a3f5f"
           }
          },
          "ternary": {
           "aaxis": {
            "gridcolor": "white",
            "linecolor": "white",
            "ticks": ""
           },
           "baxis": {
            "gridcolor": "white",
            "linecolor": "white",
            "ticks": ""
           },
           "bgcolor": "#E5ECF6",
           "caxis": {
            "gridcolor": "white",
            "linecolor": "white",
            "ticks": ""
           }
          },
          "title": {
           "x": 0.05
          },
          "xaxis": {
           "automargin": true,
           "gridcolor": "white",
           "linecolor": "white",
           "ticks": "",
           "title": {
            "standoff": 15
           },
           "zerolinecolor": "white",
           "zerolinewidth": 2
          },
          "yaxis": {
           "automargin": true,
           "gridcolor": "white",
           "linecolor": "white",
           "ticks": "",
           "title": {
            "standoff": 15
           },
           "zerolinecolor": "white",
           "zerolinewidth": 2
          }
         }
        },
        "xaxis": {
         "anchor": "y",
         "domain": [
          0,
          0.94
         ],
         "linecolor": "black",
         "linewidth": 1,
         "showline": true,
         "title": {
          "text": "Customer_Succes_Manager"
         }
        },
        "yaxis": {
         "anchor": "x",
         "domain": [
          0,
          1
         ],
         "gridcolor": "lightgray",
         "gridwidth": 1,
         "linecolor": "black",
         "linewidth": 1,
         "showgrid": true,
         "showline": true,
         "title": {
          "text": "Frequency"
         }
        },
        "yaxis2": {
         "anchor": "x",
         "gridcolor": "lightgray",
         "gridwidth": 1,
         "linecolor": "black",
         "linewidth": 1,
         "overlaying": "y",
         "showgrid": true,
         "showline": true,
         "side": "right",
         "tickformat": ",.0%",
         "title": {
          "text": "Average Prediction"
         }
        }
       }
      },
      "text/html": [
       "<div>                            <div id=\"f336a7b9-de06-43e1-903d-bae6401a108c\" class=\"plotly-graph-div\" style=\"height:600px; width:100%;\"></div>            <script type=\"text/javascript\">                require([\"plotly\"], function(Plotly) {                    window.PLOTLYENV=window.PLOTLYENV || {};                                    if (document.getElementById(\"f336a7b9-de06-43e1-903d-bae6401a108c\")) {                    Plotly.newPlot(                        \"f336a7b9-de06-43e1-903d-bae6401a108c\",                        [{\"marker\":{\"color\":\"lightblue\"},\"name\":\"0\",\"opacity\":0.7,\"x\":[\"Alonso Houle\",\"Brandie Tam\",\"Chastity Sorenson\",\"Eusebio Lutz\",\"Florine Hamer\",\"Gale Newton\",\"Gilda Stevens\",\"Gregory Hammer\",\"Hillary Cuellar\",\"Isaac Sonnier\",\"Jonnie Prado\",\"Junior Large\",\"Kayla Dobbins\",\"Maura Jeter\",\"Nicolas Buxton\",\"OTHER\",\"Patrica Wolfe\",\"Rosa Groves\",\"Stevie Prieto\",\"Tammi Manns\"],\"y\":[28,30,46,38,39,38,33,39,26,38,34,32,37,22,39,127,26,44,42,32],\"type\":\"bar\"},{\"marker\":{\"color\":\"blue\"},\"name\":\"1\",\"opacity\":0.7,\"x\":[\"Alonso Houle\",\"Brandie Tam\",\"Chastity Sorenson\",\"Eusebio Lutz\",\"Florine Hamer\",\"Gale Newton\",\"Gilda Stevens\",\"Gregory Hammer\",\"Hillary Cuellar\",\"Isaac Sonnier\",\"Jonnie Prado\",\"Junior Large\",\"Kayla Dobbins\",\"Maura Jeter\",\"Nicolas Buxton\",\"OTHER\",\"Patrica Wolfe\",\"Rosa Groves\",\"Stevie Prieto\",\"Tammi Manns\"],\"y\":[17,20,13,19,24,27,20,16,39,21,22,20,21,28,20,128,21,10,17,37],\"type\":\"bar\"}],                        {\"template\":{\"data\":{\"histogram2dcontour\":[{\"type\":\"histogram2dcontour\",\"colorbar\":{\"outlinewidth\":0,\"ticks\":\"\"},\"colorscale\":[[0.0,\"#0d0887\"],[0.1111111111111111,\"#46039f\"],[0.2222222222222222,\"#7201a8\"],[0.3333333333333333,\"#9c179e\"],[0.4444444444444444,\"#bd3786\"],[0.5555555555555556,\"#d8576b\"],[0.6666666666666666,\"#ed7953\"],[0.7777777777777778,\"#fb9f3a\"],[0.8888888888888888,\"#fdca26\"],[1.0,\"#f0f921\"]]}],\"choropleth\":[{\"type\":\"choropleth\",\"colorbar\":{\"outlinewidth\":0,\"ticks\":\"\"}}],\"histogram2d\":[{\"type\":\"histogram2d\",\"colorbar\":{\"outlinewidth\":0,\"ticks\":\"\"},\"colorscale\":[[0.0,\"#0d0887\"],[0.1111111111111111,\"#46039f\"],[0.2222222222222222,\"#7201a8\"],[0.3333333333333333,\"#9c179e\"],[0.4444444444444444,\"#bd3786\"],[0.5555555555555556,\"#d8576b\"],[0.6666666666666666,\"#ed7953\"],[0.7777777777777778,\"#fb9f3a\"],[0.8888888888888888,\"#fdca26\"],[1.0,\"#f0f921\"]]}],\"heatmap\":[{\"type\":\"heatmap\",\"colorbar\":{\"outlinewidth\":0,\"ticks\":\"\"},\"colorscale\":[[0.0,\"#0d0887\"],[0.1111111111111111,\"#46039f\"],[0.2222222222222222,\"#7201a8\"],[0.3333333333333333,\"#9c179e\"],[0.4444444444444444,\"#bd3786\"],[0.5555555555555556,\"#d8576b\"],[0.6666666666666666,\"#ed7953\"],[0.7777777777777778,\"#fb9f3a\"],[0.8888888888888888,\"#fdca26\"],[1.0,\"#f0f921\"]]}],\"heatmapgl\":[{\"type\":\"heatmapgl\",\"colorbar\":{\"outlinewidth\":0,\"ticks\":\"\"},\"colorscale\":[[0.0,\"#0d0887\"],[0.1111111111111111,\"#46039f\"],[0.2222222222222222,\"#7201a8\"],[0.3333333333333333,\"#9c179e\"],[0.4444444444444444,\"#bd3786\"],[0.5555555555555556,\"#d8576b\"],[0.6666666666666666,\"#ed7953\"],[0.7777777777777778,\"#fb9f3a\"],[0.8888888888888888,\"#fdca26\"],[1.0,\"#f0f921\"]]}],\"contourcarpet\":[{\"type\":\"contourcarpet\",\"colorbar\":{\"outlinewidth\":0,\"ticks\":\"\"}}],\"contour\":[{\"type\":\"contour\",\"colorbar\":{\"outlinewidth\":0,\"ticks\":\"\"},\"colorscale\":[[0.0,\"#0d0887\"],[0.1111111111111111,\"#46039f\"],[0.2222222222222222,\"#7201a8\"],[0.3333333333333333,\"#9c179e\"],[0.4444444444444444,\"#bd3786\"],[0.5555555555555556,\"#d8576b\"],[0.6666666666666666,\"#ed7953\"],[0.7777777777777778,\"#fb9f3a\"],[0.8888888888888888,\"#fdca26\"],[1.0,\"#f0f921\"]]}],\"surface\":[{\"type\":\"surface\",\"colorbar\":{\"outlinewidth\":0,\"ticks\":\"\"},\"colorscale\":[[0.0,\"#0d0887\"],[0.1111111111111111,\"#46039f\"],[0.2222222222222222,\"#7201a8\"],[0.3333333333333333,\"#9c179e\"],[0.4444444444444444,\"#bd3786\"],[0.5555555555555556,\"#d8576b\"],[0.6666666666666666,\"#ed7953\"],[0.7777777777777778,\"#fb9f3a\"],[0.8888888888888888,\"#fdca26\"],[1.0,\"#f0f921\"]]}],\"mesh3d\":[{\"type\":\"mesh3d\",\"colorbar\":{\"outlinewidth\":0,\"ticks\":\"\"}}],\"scatter\":[{\"fillpattern\":{\"fillmode\":\"overlay\",\"size\":10,\"solidity\":0.2},\"type\":\"scatter\"}],\"parcoords\":[{\"type\":\"parcoords\",\"line\":{\"colorbar\":{\"outlinewidth\":0,\"ticks\":\"\"}}}],\"scatterpolargl\":[{\"type\":\"scatterpolargl\",\"marker\":{\"colorbar\":{\"outlinewidth\":0,\"ticks\":\"\"}}}],\"bar\":[{\"error_x\":{\"color\":\"#2a3f5f\"},\"error_y\":{\"color\":\"#2a3f5f\"},\"marker\":{\"line\":{\"color\":\"#E5ECF6\",\"width\":0.5},\"pattern\":{\"fillmode\":\"overlay\",\"size\":10,\"solidity\":0.2}},\"type\":\"bar\"}],\"scattergeo\":[{\"type\":\"scattergeo\",\"marker\":{\"colorbar\":{\"outlinewidth\":0,\"ticks\":\"\"}}}],\"scatterpolar\":[{\"type\":\"scatterpolar\",\"marker\":{\"colorbar\":{\"outlinewidth\":0,\"ticks\":\"\"}}}],\"histogram\":[{\"marker\":{\"pattern\":{\"fillmode\":\"overlay\",\"size\":10,\"solidity\":0.2}},\"type\":\"histogram\"}],\"scattergl\":[{\"type\":\"scattergl\",\"marker\":{\"colorbar\":{\"outlinewidth\":0,\"ticks\":\"\"}}}],\"scatter3d\":[{\"type\":\"scatter3d\",\"line\":{\"colorbar\":{\"outlinewidth\":0,\"ticks\":\"\"}},\"marker\":{\"colorbar\":{\"outlinewidth\":0,\"ticks\":\"\"}}}],\"scattermapbox\":[{\"type\":\"scattermapbox\",\"marker\":{\"colorbar\":{\"outlinewidth\":0,\"ticks\":\"\"}}}],\"scatterternary\":[{\"type\":\"scatterternary\",\"marker\":{\"colorbar\":{\"outlinewidth\":0,\"ticks\":\"\"}}}],\"scattercarpet\":[{\"type\":\"scattercarpet\",\"marker\":{\"colorbar\":{\"outlinewidth\":0,\"ticks\":\"\"}}}],\"carpet\":[{\"aaxis\":{\"endlinecolor\":\"#2a3f5f\",\"gridcolor\":\"white\",\"linecolor\":\"white\",\"minorgridcolor\":\"white\",\"startlinecolor\":\"#2a3f5f\"},\"baxis\":{\"endlinecolor\":\"#2a3f5f\",\"gridcolor\":\"white\",\"linecolor\":\"white\",\"minorgridcolor\":\"white\",\"startlinecolor\":\"#2a3f5f\"},\"type\":\"carpet\"}],\"table\":[{\"cells\":{\"fill\":{\"color\":\"#EBF0F8\"},\"line\":{\"color\":\"white\"}},\"header\":{\"fill\":{\"color\":\"#C8D4E3\"},\"line\":{\"color\":\"white\"}},\"type\":\"table\"}],\"barpolar\":[{\"marker\":{\"line\":{\"color\":\"#E5ECF6\",\"width\":0.5},\"pattern\":{\"fillmode\":\"overlay\",\"size\":10,\"solidity\":0.2}},\"type\":\"barpolar\"}],\"pie\":[{\"automargin\":true,\"type\":\"pie\"}]},\"layout\":{\"autotypenumbers\":\"strict\",\"colorway\":[\"#636efa\",\"#EF553B\",\"#00cc96\",\"#ab63fa\",\"#FFA15A\",\"#19d3f3\",\"#FF6692\",\"#B6E880\",\"#FF97FF\",\"#FECB52\"],\"font\":{\"color\":\"#2a3f5f\"},\"hovermode\":\"closest\",\"hoverlabel\":{\"align\":\"left\"},\"paper_bgcolor\":\"white\",\"plot_bgcolor\":\"#E5ECF6\",\"polar\":{\"bgcolor\":\"#E5ECF6\",\"angularaxis\":{\"gridcolor\":\"white\",\"linecolor\":\"white\",\"ticks\":\"\"},\"radialaxis\":{\"gridcolor\":\"white\",\"linecolor\":\"white\",\"ticks\":\"\"}},\"ternary\":{\"bgcolor\":\"#E5ECF6\",\"aaxis\":{\"gridcolor\":\"white\",\"linecolor\":\"white\",\"ticks\":\"\"},\"baxis\":{\"gridcolor\":\"white\",\"linecolor\":\"white\",\"ticks\":\"\"},\"caxis\":{\"gridcolor\":\"white\",\"linecolor\":\"white\",\"ticks\":\"\"}},\"coloraxis\":{\"colorbar\":{\"outlinewidth\":0,\"ticks\":\"\"}},\"colorscale\":{\"sequential\":[[0.0,\"#0d0887\"],[0.1111111111111111,\"#46039f\"],[0.2222222222222222,\"#7201a8\"],[0.3333333333333333,\"#9c179e\"],[0.4444444444444444,\"#bd3786\"],[0.5555555555555556,\"#d8576b\"],[0.6666666666666666,\"#ed7953\"],[0.7777777777777778,\"#fb9f3a\"],[0.8888888888888888,\"#fdca26\"],[1.0,\"#f0f921\"]],\"sequentialminus\":[[0.0,\"#0d0887\"],[0.1111111111111111,\"#46039f\"],[0.2222222222222222,\"#7201a8\"],[0.3333333333333333,\"#9c179e\"],[0.4444444444444444,\"#bd3786\"],[0.5555555555555556,\"#d8576b\"],[0.6666666666666666,\"#ed7953\"],[0.7777777777777778,\"#fb9f3a\"],[0.8888888888888888,\"#fdca26\"],[1.0,\"#f0f921\"]],\"diverging\":[[0,\"#8e0152\"],[0.1,\"#c51b7d\"],[0.2,\"#de77ae\"],[0.3,\"#f1b6da\"],[0.4,\"#fde0ef\"],[0.5,\"#f7f7f7\"],[0.6,\"#e6f5d0\"],[0.7,\"#b8e186\"],[0.8,\"#7fbc41\"],[0.9,\"#4d9221\"],[1,\"#276419\"]]},\"xaxis\":{\"gridcolor\":\"white\",\"linecolor\":\"white\",\"ticks\":\"\",\"title\":{\"standoff\":15},\"zerolinecolor\":\"white\",\"automargin\":true,\"zerolinewidth\":2},\"yaxis\":{\"gridcolor\":\"white\",\"linecolor\":\"white\",\"ticks\":\"\",\"title\":{\"standoff\":15},\"zerolinecolor\":\"white\",\"automargin\":true,\"zerolinewidth\":2},\"scene\":{\"xaxis\":{\"backgroundcolor\":\"#E5ECF6\",\"gridcolor\":\"white\",\"linecolor\":\"white\",\"showbackground\":true,\"ticks\":\"\",\"zerolinecolor\":\"white\",\"gridwidth\":2},\"yaxis\":{\"backgroundcolor\":\"#E5ECF6\",\"gridcolor\":\"white\",\"linecolor\":\"white\",\"showbackground\":true,\"ticks\":\"\",\"zerolinecolor\":\"white\",\"gridwidth\":2},\"zaxis\":{\"backgroundcolor\":\"#E5ECF6\",\"gridcolor\":\"white\",\"linecolor\":\"white\",\"showbackground\":true,\"ticks\":\"\",\"zerolinecolor\":\"white\",\"gridwidth\":2}},\"shapedefaults\":{\"line\":{\"color\":\"#2a3f5f\"}},\"annotationdefaults\":{\"arrowcolor\":\"#2a3f5f\",\"arrowhead\":0,\"arrowwidth\":1},\"geo\":{\"bgcolor\":\"white\",\"landcolor\":\"#E5ECF6\",\"subunitcolor\":\"white\",\"showland\":true,\"showlakes\":true,\"lakecolor\":\"white\"},\"title\":{\"x\":0.05},\"mapbox\":{\"style\":\"light\"}}},\"xaxis\":{\"anchor\":\"y\",\"domain\":[0.0,0.94],\"title\":{\"text\":\"Customer_Succes_Manager\"},\"showline\":true,\"linewidth\":1,\"linecolor\":\"black\"},\"yaxis\":{\"anchor\":\"x\",\"domain\":[0.0,1.0],\"title\":{\"text\":\"Frequency\"},\"showline\":true,\"linewidth\":1,\"linecolor\":\"black\",\"showgrid\":true,\"gridwidth\":1,\"gridcolor\":\"lightgray\"},\"yaxis2\":{\"anchor\":\"x\",\"overlaying\":\"y\",\"side\":\"right\",\"title\":{\"text\":\"Average Prediction\"},\"showline\":true,\"linewidth\":1,\"linecolor\":\"black\",\"showgrid\":true,\"gridwidth\":1,\"gridcolor\":\"lightgray\",\"tickformat\":\",.0%\"},\"hoverlabel\":{\"font\":{\"size\":16,\"family\":\"Rockwell\"},\"bgcolor\":\"white\",\"namelength\":-1},\"height\":600,\"plot_bgcolor\":\"rgba(0,0,0,0)\",\"showlegend\":true,\"legend\":{\"title\":{\"text\":\"Predictions\"}}},                        {\"responsive\": true}                    ).then(function(){\n",
       "                            \n",
       "var gd = document.getElementById('f336a7b9-de06-43e1-903d-bae6401a108c');\n",
       "var x = new MutationObserver(function (mutations, observer) {{\n",
       "        var display = window.getComputedStyle(gd).display;\n",
       "        if (!display || display === 'none') {{\n",
       "            console.log([gd, 'removed!']);\n",
       "            Plotly.purge(gd);\n",
       "            observer.disconnect();\n",
       "        }}\n",
       "}});\n",
       "\n",
       "// Listen for the removal of the full notebook cells\n",
       "var notebookContainer = gd.closest('#notebook-container');\n",
       "if (notebookContainer) {{\n",
       "    x.observe(notebookContainer, {childList: true});\n",
       "}}\n",
       "\n",
       "// Listen for the clearing of the current output cell\n",
       "var outputEl = gd.closest('.output');\n",
       "if (outputEl) {{\n",
       "    x.observe(outputEl, {childList: true});\n",
       "}}\n",
       "\n",
       "                        })                };                });            </script>        </div>"
      ]
     },
     "metadata": {},
     "output_type": "display_data"
    }
   ],
   "source": [
    "plot_histogram(\n",
    "    preds2,\n",
    "    project.id,\n",
    "    feature='Customer_Succes_Manager',\n",
    "    bins=20,\n",
    "    cutoff=0.3,\n",
    "    split_by_class=True,\n",
    "    class_type='predictions',\n",
    "    showlegend=True,\n",
    "    height=600,\n",
    ")"
   ]
  },
  {
   "cell_type": "code",
   "execution_count": 943,
   "id": "ce1cbe18",
   "metadata": {},
   "outputs": [
    {
     "data": {
      "application/vnd.plotly.v1+json": {
       "config": {
        "plotlyServerURL": "https://plot.ly"
       },
       "data": [
        {
         "marker": {
          "color": "Black",
          "size": 6
         },
         "mode": "lines+markers",
         "name": "Average Prediction",
         "type": "scatter",
         "x": [
          "2020-01-01T00:00:00",
          "2020-04-01T00:00:00",
          "2020-07-01T00:00:00",
          "2020-10-01T00:00:00",
          "2021-01-01T00:00:00",
          "2021-04-01T00:00:00",
          "2021-07-01T00:00:00",
          "2021-10-01T00:00:00",
          "2022-01-01T00:00:00",
          "2022-04-01T00:00:00",
          "2022-07-01T00:00:00",
          "2022-10-01T00:00:00"
         ],
         "xaxis": "x",
         "y": [
          0.34435073175135134,
          0.2961471846625578,
          0.295754168573945,
          0.33246788053322035,
          0.33497436881037596,
          0.323601860141823,
          0.2920184995926523,
          0.36464562025372427,
          0.3942482263324367,
          0.396673525575974,
          0.32400056205589517,
          0.46228423642178984
         ],
         "yaxis": "y2"
        },
        {
         "customdata": [
          [
           12,
           2.732451395100002,
           "Contract_Duration"
          ],
          [
           18,
           0.9327721780000015,
           "Contract_Duration"
          ],
          [
           24,
           0.35178836480000103,
           "Contract_Duration"
          ],
          [
           12,
           0.20692313440000137,
           "Contract_Duration"
          ],
          [
           12,
           3.5157896623000013,
           "Contract_Duration"
          ],
          [
           12,
           0.6721670532000018,
           "Contract_Duration"
          ],
          [
           24,
           -5.162227734799999,
           "Contract_Duration"
          ],
          [
           24,
           -2.288718343499999,
           "Contract_Duration"
          ],
          [
           24,
           -0.37329923179999897,
           "Contract_Duration"
          ],
          [
           12,
           3.6315295569000012,
           "Contract_Duration"
          ],
          [
           24,
           -8.992304511499999,
           "Contract_Duration"
          ],
          [
           12,
           3.426129315700001,
           "Contract_Duration"
          ]
         ],
         "hoverlabel": {
          "align": "left",
          "bgcolor": "white",
          "font": {
           "family": "Rockwell",
           "size": 16
          }
         },
         "hovertemplate": "<br>Period</b>: %{x}<br>Feature</b>: %{customdata[2]}<br>Strength</b>: %{y: .2}<br>Median Value</b>: %{customdata[0]: .3}<extra></extra>",
         "marker": {
          "color": "#636EFA"
         },
         "name": "Contract_Duration",
         "opacity": 0.5,
         "type": "bar",
         "x": [
          "2020-01-01T00:00:00",
          "2020-04-01T00:00:00",
          "2020-07-01T00:00:00",
          "2020-10-01T00:00:00",
          "2021-01-01T00:00:00",
          "2021-04-01T00:00:00",
          "2021-07-01T00:00:00",
          "2021-10-01T00:00:00",
          "2022-01-01T00:00:00",
          "2022-04-01T00:00:00",
          "2022-07-01T00:00:00",
          "2022-10-01T00:00:00"
         ],
         "y": [
          0.021347276524218764,
          0.007904848966101706,
          0.003448905537254912,
          0.0018983773798165265,
          0.02905611291157026,
          0.0049790152088889025,
          -0.049636805142307686,
          -0.019901898639130427,
          -0.00324608027652173,
          0.032716482494594606,
          -0.07136749612301586,
          0.0744810720804348
         ]
        },
        {
         "customdata": [
          [
           "Tammi Manns",
           -9.486027321999998,
           "Customer_Succes_Manager"
          ],
          [
           "Chastity Sorenson",
           -0.10928126399999949,
           "Customer_Succes_Manager"
          ],
          [
           "Florine Hamer",
           7.813243469800001,
           "Customer_Succes_Manager"
          ],
          [
           "Kira Sharpe",
           5.1722203172,
           "Customer_Succes_Manager"
          ],
          [
           "Junior Large",
           1.535748255100001,
           "Customer_Succes_Manager"
          ],
          [
           "Brandie Tam",
           -2.3689415703999996,
           "Customer_Succes_Manager"
          ],
          [
           "Tammi Manns",
           -1.1138022204999989,
           "Customer_Succes_Manager"
          ],
          [
           "Stevie Prieto",
           -11.268674963999999,
           "Customer_Succes_Manager"
          ],
          [
           "Maura Jeter",
           -5.715189575399999,
           "Customer_Succes_Manager"
          ],
          [
           "Stevie Prieto",
           3.733447548100001,
           "Customer_Succes_Manager"
          ],
          [
           "Tammi Manns",
           -11.0718952367,
           "Customer_Succes_Manager"
          ],
          [
           "Gale Newton",
           -2.8205072497,
           "Customer_Succes_Manager"
          ]
         ],
         "hoverlabel": {
          "align": "left",
          "bgcolor": "white",
          "font": {
           "family": "Rockwell",
           "size": 16
          }
         },
         "hovertemplate": "<br>Period</b>: %{x}<br>Feature</b>: %{customdata[2]}<br>Strength</b>: %{y: .2}<br>Most Frequent Value</b>: %{customdata[0]}<extra></extra>",
         "marker": {
          "color": "#EF553B"
         },
         "name": "Customer_Succes_Manager",
         "opacity": 0.5,
         "type": "bar",
         "x": [
          "2020-01-01T00:00:00",
          "2020-04-01T00:00:00",
          "2020-07-01T00:00:00",
          "2020-10-01T00:00:00",
          "2021-01-01T00:00:00",
          "2021-04-01T00:00:00",
          "2021-07-01T00:00:00",
          "2021-10-01T00:00:00",
          "2022-01-01T00:00:00",
          "2022-04-01T00:00:00",
          "2022-07-01T00:00:00",
          "2022-10-01T00:00:00"
         ],
         "y": [
          -0.07410958845312499,
          -0.0009261124067796567,
          0.07660042617450981,
          0.04745156254311927,
          0.01269213433966943,
          -0.017547715336296295,
          -0.010709636735576912,
          -0.09798847794782607,
          -0.049697300655652164,
          0.0336346625954955,
          -0.08787218441825397,
          -0.06131537499347826
         ]
        },
        {
         "customdata": [
          [
           1,
           -7.059019586699998,
           "Customers[Products_Purchased] (5 years unique count)"
          ],
          [
           2,
           -11.965232617999998,
           "Customers[Products_Purchased] (5 years unique count)"
          ],
          [
           2,
           -10.524073043799998,
           "Customers[Products_Purchased] (5 years unique count)"
          ],
          [
           2,
           -10.005444762099998,
           "Customers[Products_Purchased] (5 years unique count)"
          ],
          [
           2,
           -10.317567557899999,
           "Customers[Products_Purchased] (5 years unique count)"
          ],
          [
           2,
           -13.025434234099997,
           "Customers[Products_Purchased] (5 years unique count)"
          ],
          [
           2,
           -15.948914355799998,
           "Customers[Products_Purchased] (5 years unique count)"
          ],
          [
           1,
           -5.571969904799998,
           "Customers[Products_Purchased] (5 years unique count)"
          ],
          [
           2,
           -6.792786899099999,
           "Customers[Products_Purchased] (5 years unique count)"
          ],
          [
           2,
           -6.8386770069999985,
           "Customers[Products_Purchased] (5 years unique count)"
          ],
          [
           2,
           -13.140159504099998,
           "Customers[Products_Purchased] (5 years unique count)"
          ],
          [
           0,
           0.23855849920000072,
           "Customers[Products_Purchased] (5 years unique count)"
          ]
         ],
         "hoverlabel": {
          "align": "left",
          "bgcolor": "white",
          "font": {
           "family": "Rockwell",
           "size": 16
          }
         },
         "hovertemplate": "<br>Period</b>: %{x}<br>Feature</b>: %{customdata[2]}<br>Strength</b>: %{y: .2}<br>Median Value</b>: %{customdata[0]: .3}<extra></extra>",
         "marker": {
          "color": "#00CC96"
         },
         "name": "Customers[Products_Purchased] (5 years unique count)",
         "opacity": 0.5,
         "type": "bar",
         "x": [
          "2020-01-01T00:00:00",
          "2020-04-01T00:00:00",
          "2020-07-01T00:00:00",
          "2020-10-01T00:00:00",
          "2021-01-01T00:00:00",
          "2021-04-01T00:00:00",
          "2021-07-01T00:00:00",
          "2021-10-01T00:00:00",
          "2022-01-01T00:00:00",
          "2022-04-01T00:00:00",
          "2022-07-01T00:00:00",
          "2022-10-01T00:00:00"
         ],
         "y": [
          -0.055148590521093735,
          -0.1014002764237288,
          -0.10317718670392155,
          -0.09179307121192659,
          -0.08526915337107437,
          -0.09648469803037035,
          -0.15335494572884614,
          -0.048451912215652156,
          -0.05906771216608695,
          -0.06160970276576575,
          -0.10428698019126982,
          0.005186054330434798
         ]
        },
        {
         "customdata": [
          [
           13,
           17.3800888292,
           "Product_Usage (180 days count)"
          ],
          [
           12,
           18.1218610853,
           "Product_Usage (180 days count)"
          ],
          [
           12,
           17.2111480204,
           "Product_Usage (180 days count)"
          ],
          [
           12,
           20.2056025941,
           "Product_Usage (180 days count)"
          ],
          [
           11,
           32.339052086,
           "Product_Usage (180 days count)"
          ],
          [
           10,
           36.745009288,
           "Product_Usage (180 days count)"
          ],
          [
           11,
           29.9402750488,
           "Product_Usage (180 days count)"
          ],
          [
           10.5,
           37.0141038618,
           "Product_Usage (180 days count)"
          ],
          [
           9,
           46.7510360479,
           "Product_Usage (180 days count)"
          ],
          [
           9,
           44.5144206255,
           "Product_Usage (180 days count)"
          ],
          [
           9,
           57.2550950864,
           "Product_Usage (180 days count)"
          ],
          [
           9,
           20.4076723015,
           "Product_Usage (180 days count)"
          ]
         ],
         "hoverlabel": {
          "align": "left",
          "bgcolor": "white",
          "font": {
           "family": "Rockwell",
           "size": 16
          }
         },
         "hovertemplate": "<br>Period</b>: %{x}<br>Feature</b>: %{customdata[2]}<br>Strength</b>: %{y: .2}<br>Median Value</b>: %{customdata[0]: .3}<extra></extra>",
         "marker": {
          "color": "#AB63FA"
         },
         "name": "Product_Usage (180 days count)",
         "opacity": 0.5,
         "type": "bar",
         "x": [
          "2020-01-01T00:00:00",
          "2020-04-01T00:00:00",
          "2020-07-01T00:00:00",
          "2020-10-01T00:00:00",
          "2021-01-01T00:00:00",
          "2021-04-01T00:00:00",
          "2021-07-01T00:00:00",
          "2021-10-01T00:00:00",
          "2022-01-01T00:00:00",
          "2022-04-01T00:00:00",
          "2022-07-01T00:00:00",
          "2022-10-01T00:00:00"
         ],
         "y": [
          0.135781943978125,
          0.15357509394322036,
          0.1687367452980392,
          0.18537250086330276,
          0.2672648932727273,
          0.27218525398518517,
          0.2878872600846154,
          0.3218617727113044,
          0.4065307482426087,
          0.40103081644594596,
          0.4544055165587301,
          0.4436450500326087
         ]
        },
        {
         "customdata": [
          [
           "OH",
           -4.0284903399,
           "State"
          ],
          [
           "NY",
           0.7851941527000001,
           "State"
          ],
          [
           "IL",
           -10.464031007400001,
           "State"
          ],
          [
           "CA",
           -0.023147924000000153,
           "State"
          ],
          [
           "OH",
           -8.6553697371,
           "State"
          ],
          [
           "WI",
           -2.6378347088000003,
           "State"
          ],
          [
           "CA",
           -3.8769615927000003,
           "State"
          ],
          [
           "CA",
           -0.9160436083000002,
           "State"
          ],
          [
           "OH",
           3.8177210932,
           "State"
          ],
          [
           "TX",
           -0.02277403950000001,
           "State"
          ],
          [
           "MO",
           -6.3375804594,
           "State"
          ],
          [
           "NY",
           3.6144210939,
           "State"
          ]
         ],
         "hoverlabel": {
          "align": "left",
          "bgcolor": "white",
          "font": {
           "family": "Rockwell",
           "size": 16
          }
         },
         "hovertemplate": "<br>Period</b>: %{x}<br>Feature</b>: %{customdata[2]}<br>Strength</b>: %{y: .2}<br>Most Frequent Value</b>: %{customdata[0]}<extra></extra>",
         "marker": {
          "color": "#FFA15A"
         },
         "name": "State",
         "opacity": 0.5,
         "type": "bar",
         "x": [
          "2020-01-01T00:00:00",
          "2020-04-01T00:00:00",
          "2020-07-01T00:00:00",
          "2020-10-01T00:00:00",
          "2021-01-01T00:00:00",
          "2021-04-01T00:00:00",
          "2021-07-01T00:00:00",
          "2021-10-01T00:00:00",
          "2022-01-01T00:00:00",
          "2022-04-01T00:00:00",
          "2022-07-01T00:00:00",
          "2022-10-01T00:00:00"
         ],
         "y": [
          -0.03147258078046875,
          0.006654187734745764,
          -0.1025885392882353,
          -0.0002123662752293592,
          -0.0715319812983471,
          -0.019539516361481483,
          -0.037278476852884615,
          -0.007965596593913046,
          0.03319757472347826,
          -0.0002051715270270271,
          -0.05029825761428571,
          0.07857437160652174
         ]
        },
        {
         "customdata": [
          [
           1827,
           -4.776908886799999,
           "duration(Renewal_Date, Customer_Since_Date)"
          ],
          [
           2192,
           -13.7531687461,
           "duration(Renewal_Date, Customer_Since_Date)"
          ],
          [
           2192,
           -16.9727825398,
           "duration(Renewal_Date, Customer_Since_Date)"
          ],
          [
           1826,
           -9.995406806,
           "duration(Renewal_Date, Customer_Since_Date)"
          ],
          [
           2192,
           -14.648885709,
           "duration(Renewal_Date, Customer_Since_Date)"
          ],
          [
           1826,
           -16.6296408244,
           "duration(Renewal_Date, Customer_Since_Date)"
          ],
          [
           2192,
           -20.9026631726,
           "duration(Renewal_Date, Customer_Since_Date)"
          ],
          [
           1826,
           -13.773024422999999,
           "duration(Renewal_Date, Customer_Since_Date)"
          ],
          [
           1461,
           -16.6662438881,
           "duration(Renewal_Date, Customer_Since_Date)"
          ],
          [
           2191,
           -16.5900265763,
           "duration(Renewal_Date, Customer_Since_Date)"
          ],
          [
           2191,
           -34.71829319,
           "duration(Renewal_Date, Customer_Since_Date)"
          ],
          [
           1095,
           -4.2936886556,
           "duration(Renewal_Date, Customer_Since_Date)"
          ]
         ],
         "hoverlabel": {
          "align": "left",
          "bgcolor": "white",
          "font": {
           "family": "Rockwell",
           "size": 16
          }
         },
         "hovertemplate": "<br>Period</b>: %{x}<br>Feature</b>: %{customdata[2]}<br>Strength</b>: %{y: .2}<br>Median Value</b>: %{customdata[0]: .3}<extra></extra>",
         "marker": {
          "color": "#19D3F3"
         },
         "name": "duration(Renewal_Date, Customer_Since_Date)",
         "opacity": 0.5,
         "type": "bar",
         "x": [
          "2020-01-01T00:00:00",
          "2020-04-01T00:00:00",
          "2020-07-01T00:00:00",
          "2020-10-01T00:00:00",
          "2021-01-01T00:00:00",
          "2021-04-01T00:00:00",
          "2021-07-01T00:00:00",
          "2021-10-01T00:00:00",
          "2022-01-01T00:00:00",
          "2022-04-01T00:00:00",
          "2022-07-01T00:00:00",
          "2022-10-01T00:00:00"
         ],
         "y": [
          -0.037319600678124995,
          -0.11655227750932204,
          -0.16639982882156865,
          -0.09170097987155963,
          -0.12106517114876034,
          -0.12318252462518518,
          -0.20098714589038463,
          -0.11976542976521738,
          -0.14492385989652173,
          -0.1494596988855856,
          -0.2755420094444444,
          -0.09334105773043477
         ]
        }
       ],
       "layout": {
        "barmode": "relative",
        "height": 600,
        "hoverlabel": {
         "bgcolor": "white",
         "font": {
          "family": "Rockwell",
          "size": 16
         },
         "namelength": -1
        },
        "legend": {
         "x": 1.1,
         "xanchor": "left",
         "y": 1,
         "yanchor": "top"
        },
        "plot_bgcolor": "rgba(0,0,0,0)",
        "showlegend": false,
        "template": {
         "data": {
          "bar": [
           {
            "error_x": {
             "color": "#2a3f5f"
            },
            "error_y": {
             "color": "#2a3f5f"
            },
            "marker": {
             "line": {
              "color": "#E5ECF6",
              "width": 0.5
             },
             "pattern": {
              "fillmode": "overlay",
              "size": 10,
              "solidity": 0.2
             }
            },
            "type": "bar"
           }
          ],
          "barpolar": [
           {
            "marker": {
             "line": {
              "color": "#E5ECF6",
              "width": 0.5
             },
             "pattern": {
              "fillmode": "overlay",
              "size": 10,
              "solidity": 0.2
             }
            },
            "type": "barpolar"
           }
          ],
          "carpet": [
           {
            "aaxis": {
             "endlinecolor": "#2a3f5f",
             "gridcolor": "white",
             "linecolor": "white",
             "minorgridcolor": "white",
             "startlinecolor": "#2a3f5f"
            },
            "baxis": {
             "endlinecolor": "#2a3f5f",
             "gridcolor": "white",
             "linecolor": "white",
             "minorgridcolor": "white",
             "startlinecolor": "#2a3f5f"
            },
            "type": "carpet"
           }
          ],
          "choropleth": [
           {
            "colorbar": {
             "outlinewidth": 0,
             "ticks": ""
            },
            "type": "choropleth"
           }
          ],
          "contour": [
           {
            "colorbar": {
             "outlinewidth": 0,
             "ticks": ""
            },
            "colorscale": [
             [
              0,
              "#0d0887"
             ],
             [
              0.1111111111111111,
              "#46039f"
             ],
             [
              0.2222222222222222,
              "#7201a8"
             ],
             [
              0.3333333333333333,
              "#9c179e"
             ],
             [
              0.4444444444444444,
              "#bd3786"
             ],
             [
              0.5555555555555556,
              "#d8576b"
             ],
             [
              0.6666666666666666,
              "#ed7953"
             ],
             [
              0.7777777777777778,
              "#fb9f3a"
             ],
             [
              0.8888888888888888,
              "#fdca26"
             ],
             [
              1,
              "#f0f921"
             ]
            ],
            "type": "contour"
           }
          ],
          "contourcarpet": [
           {
            "colorbar": {
             "outlinewidth": 0,
             "ticks": ""
            },
            "type": "contourcarpet"
           }
          ],
          "heatmap": [
           {
            "colorbar": {
             "outlinewidth": 0,
             "ticks": ""
            },
            "colorscale": [
             [
              0,
              "#0d0887"
             ],
             [
              0.1111111111111111,
              "#46039f"
             ],
             [
              0.2222222222222222,
              "#7201a8"
             ],
             [
              0.3333333333333333,
              "#9c179e"
             ],
             [
              0.4444444444444444,
              "#bd3786"
             ],
             [
              0.5555555555555556,
              "#d8576b"
             ],
             [
              0.6666666666666666,
              "#ed7953"
             ],
             [
              0.7777777777777778,
              "#fb9f3a"
             ],
             [
              0.8888888888888888,
              "#fdca26"
             ],
             [
              1,
              "#f0f921"
             ]
            ],
            "type": "heatmap"
           }
          ],
          "heatmapgl": [
           {
            "colorbar": {
             "outlinewidth": 0,
             "ticks": ""
            },
            "colorscale": [
             [
              0,
              "#0d0887"
             ],
             [
              0.1111111111111111,
              "#46039f"
             ],
             [
              0.2222222222222222,
              "#7201a8"
             ],
             [
              0.3333333333333333,
              "#9c179e"
             ],
             [
              0.4444444444444444,
              "#bd3786"
             ],
             [
              0.5555555555555556,
              "#d8576b"
             ],
             [
              0.6666666666666666,
              "#ed7953"
             ],
             [
              0.7777777777777778,
              "#fb9f3a"
             ],
             [
              0.8888888888888888,
              "#fdca26"
             ],
             [
              1,
              "#f0f921"
             ]
            ],
            "type": "heatmapgl"
           }
          ],
          "histogram": [
           {
            "marker": {
             "pattern": {
              "fillmode": "overlay",
              "size": 10,
              "solidity": 0.2
             }
            },
            "type": "histogram"
           }
          ],
          "histogram2d": [
           {
            "colorbar": {
             "outlinewidth": 0,
             "ticks": ""
            },
            "colorscale": [
             [
              0,
              "#0d0887"
             ],
             [
              0.1111111111111111,
              "#46039f"
             ],
             [
              0.2222222222222222,
              "#7201a8"
             ],
             [
              0.3333333333333333,
              "#9c179e"
             ],
             [
              0.4444444444444444,
              "#bd3786"
             ],
             [
              0.5555555555555556,
              "#d8576b"
             ],
             [
              0.6666666666666666,
              "#ed7953"
             ],
             [
              0.7777777777777778,
              "#fb9f3a"
             ],
             [
              0.8888888888888888,
              "#fdca26"
             ],
             [
              1,
              "#f0f921"
             ]
            ],
            "type": "histogram2d"
           }
          ],
          "histogram2dcontour": [
           {
            "colorbar": {
             "outlinewidth": 0,
             "ticks": ""
            },
            "colorscale": [
             [
              0,
              "#0d0887"
             ],
             [
              0.1111111111111111,
              "#46039f"
             ],
             [
              0.2222222222222222,
              "#7201a8"
             ],
             [
              0.3333333333333333,
              "#9c179e"
             ],
             [
              0.4444444444444444,
              "#bd3786"
             ],
             [
              0.5555555555555556,
              "#d8576b"
             ],
             [
              0.6666666666666666,
              "#ed7953"
             ],
             [
              0.7777777777777778,
              "#fb9f3a"
             ],
             [
              0.8888888888888888,
              "#fdca26"
             ],
             [
              1,
              "#f0f921"
             ]
            ],
            "type": "histogram2dcontour"
           }
          ],
          "mesh3d": [
           {
            "colorbar": {
             "outlinewidth": 0,
             "ticks": ""
            },
            "type": "mesh3d"
           }
          ],
          "parcoords": [
           {
            "line": {
             "colorbar": {
              "outlinewidth": 0,
              "ticks": ""
             }
            },
            "type": "parcoords"
           }
          ],
          "pie": [
           {
            "automargin": true,
            "type": "pie"
           }
          ],
          "scatter": [
           {
            "fillpattern": {
             "fillmode": "overlay",
             "size": 10,
             "solidity": 0.2
            },
            "type": "scatter"
           }
          ],
          "scatter3d": [
           {
            "line": {
             "colorbar": {
              "outlinewidth": 0,
              "ticks": ""
             }
            },
            "marker": {
             "colorbar": {
              "outlinewidth": 0,
              "ticks": ""
             }
            },
            "type": "scatter3d"
           }
          ],
          "scattercarpet": [
           {
            "marker": {
             "colorbar": {
              "outlinewidth": 0,
              "ticks": ""
             }
            },
            "type": "scattercarpet"
           }
          ],
          "scattergeo": [
           {
            "marker": {
             "colorbar": {
              "outlinewidth": 0,
              "ticks": ""
             }
            },
            "type": "scattergeo"
           }
          ],
          "scattergl": [
           {
            "marker": {
             "colorbar": {
              "outlinewidth": 0,
              "ticks": ""
             }
            },
            "type": "scattergl"
           }
          ],
          "scattermapbox": [
           {
            "marker": {
             "colorbar": {
              "outlinewidth": 0,
              "ticks": ""
             }
            },
            "type": "scattermapbox"
           }
          ],
          "scatterpolar": [
           {
            "marker": {
             "colorbar": {
              "outlinewidth": 0,
              "ticks": ""
             }
            },
            "type": "scatterpolar"
           }
          ],
          "scatterpolargl": [
           {
            "marker": {
             "colorbar": {
              "outlinewidth": 0,
              "ticks": ""
             }
            },
            "type": "scatterpolargl"
           }
          ],
          "scatterternary": [
           {
            "marker": {
             "colorbar": {
              "outlinewidth": 0,
              "ticks": ""
             }
            },
            "type": "scatterternary"
           }
          ],
          "surface": [
           {
            "colorbar": {
             "outlinewidth": 0,
             "ticks": ""
            },
            "colorscale": [
             [
              0,
              "#0d0887"
             ],
             [
              0.1111111111111111,
              "#46039f"
             ],
             [
              0.2222222222222222,
              "#7201a8"
             ],
             [
              0.3333333333333333,
              "#9c179e"
             ],
             [
              0.4444444444444444,
              "#bd3786"
             ],
             [
              0.5555555555555556,
              "#d8576b"
             ],
             [
              0.6666666666666666,
              "#ed7953"
             ],
             [
              0.7777777777777778,
              "#fb9f3a"
             ],
             [
              0.8888888888888888,
              "#fdca26"
             ],
             [
              1,
              "#f0f921"
             ]
            ],
            "type": "surface"
           }
          ],
          "table": [
           {
            "cells": {
             "fill": {
              "color": "#EBF0F8"
             },
             "line": {
              "color": "white"
             }
            },
            "header": {
             "fill": {
              "color": "#C8D4E3"
             },
             "line": {
              "color": "white"
             }
            },
            "type": "table"
           }
          ]
         },
         "layout": {
          "annotationdefaults": {
           "arrowcolor": "#2a3f5f",
           "arrowhead": 0,
           "arrowwidth": 1
          },
          "autotypenumbers": "strict",
          "coloraxis": {
           "colorbar": {
            "outlinewidth": 0,
            "ticks": ""
           }
          },
          "colorscale": {
           "diverging": [
            [
             0,
             "#8e0152"
            ],
            [
             0.1,
             "#c51b7d"
            ],
            [
             0.2,
             "#de77ae"
            ],
            [
             0.3,
             "#f1b6da"
            ],
            [
             0.4,
             "#fde0ef"
            ],
            [
             0.5,
             "#f7f7f7"
            ],
            [
             0.6,
             "#e6f5d0"
            ],
            [
             0.7,
             "#b8e186"
            ],
            [
             0.8,
             "#7fbc41"
            ],
            [
             0.9,
             "#4d9221"
            ],
            [
             1,
             "#276419"
            ]
           ],
           "sequential": [
            [
             0,
             "#0d0887"
            ],
            [
             0.1111111111111111,
             "#46039f"
            ],
            [
             0.2222222222222222,
             "#7201a8"
            ],
            [
             0.3333333333333333,
             "#9c179e"
            ],
            [
             0.4444444444444444,
             "#bd3786"
            ],
            [
             0.5555555555555556,
             "#d8576b"
            ],
            [
             0.6666666666666666,
             "#ed7953"
            ],
            [
             0.7777777777777778,
             "#fb9f3a"
            ],
            [
             0.8888888888888888,
             "#fdca26"
            ],
            [
             1,
             "#f0f921"
            ]
           ],
           "sequentialminus": [
            [
             0,
             "#0d0887"
            ],
            [
             0.1111111111111111,
             "#46039f"
            ],
            [
             0.2222222222222222,
             "#7201a8"
            ],
            [
             0.3333333333333333,
             "#9c179e"
            ],
            [
             0.4444444444444444,
             "#bd3786"
            ],
            [
             0.5555555555555556,
             "#d8576b"
            ],
            [
             0.6666666666666666,
             "#ed7953"
            ],
            [
             0.7777777777777778,
             "#fb9f3a"
            ],
            [
             0.8888888888888888,
             "#fdca26"
            ],
            [
             1,
             "#f0f921"
            ]
           ]
          },
          "colorway": [
           "#636efa",
           "#EF553B",
           "#00cc96",
           "#ab63fa",
           "#FFA15A",
           "#19d3f3",
           "#FF6692",
           "#B6E880",
           "#FF97FF",
           "#FECB52"
          ],
          "font": {
           "color": "#2a3f5f"
          },
          "geo": {
           "bgcolor": "white",
           "lakecolor": "white",
           "landcolor": "#E5ECF6",
           "showlakes": true,
           "showland": true,
           "subunitcolor": "white"
          },
          "hoverlabel": {
           "align": "left"
          },
          "hovermode": "closest",
          "mapbox": {
           "style": "light"
          },
          "paper_bgcolor": "white",
          "plot_bgcolor": "#E5ECF6",
          "polar": {
           "angularaxis": {
            "gridcolor": "white",
            "linecolor": "white",
            "ticks": ""
           },
           "bgcolor": "#E5ECF6",
           "radialaxis": {
            "gridcolor": "white",
            "linecolor": "white",
            "ticks": ""
           }
          },
          "scene": {
           "xaxis": {
            "backgroundcolor": "#E5ECF6",
            "gridcolor": "white",
            "gridwidth": 2,
            "linecolor": "white",
            "showbackground": true,
            "ticks": "",
            "zerolinecolor": "white"
           },
           "yaxis": {
            "backgroundcolor": "#E5ECF6",
            "gridcolor": "white",
            "gridwidth": 2,
            "linecolor": "white",
            "showbackground": true,
            "ticks": "",
            "zerolinecolor": "white"
           },
           "zaxis": {
            "backgroundcolor": "#E5ECF6",
            "gridcolor": "white",
            "gridwidth": 2,
            "linecolor": "white",
            "showbackground": true,
            "ticks": "",
            "zerolinecolor": "white"
           }
          },
          "shapedefaults": {
           "line": {
            "color": "#2a3f5f"
           }
          },
          "ternary": {
           "aaxis": {
            "gridcolor": "white",
            "linecolor": "white",
            "ticks": ""
           },
           "baxis": {
            "gridcolor": "white",
            "linecolor": "white",
            "ticks": ""
           },
           "bgcolor": "#E5ECF6",
           "caxis": {
            "gridcolor": "white",
            "linecolor": "white",
            "ticks": ""
           }
          },
          "title": {
           "x": 0.05
          },
          "xaxis": {
           "automargin": true,
           "gridcolor": "white",
           "linecolor": "white",
           "ticks": "",
           "title": {
            "standoff": 15
           },
           "zerolinecolor": "white",
           "zerolinewidth": 2
          },
          "yaxis": {
           "automargin": true,
           "gridcolor": "white",
           "linecolor": "white",
           "ticks": "",
           "title": {
            "standoff": 15
           },
           "zerolinecolor": "white",
           "zerolinewidth": 2
          }
         }
        },
        "xaxis": {
         "anchor": "y",
         "domain": [
          0,
          0.94
         ],
         "gridcolor": "#7f7f7f",
         "gridwidth": 1,
         "linecolor": "black",
         "linewidth": 1,
         "showgrid": false,
         "showline": true,
         "title": {
          "text": "Date"
         }
        },
        "yaxis": {
         "anchor": "x",
         "domain": [
          0,
          1
         ],
         "gridcolor": "lightgray",
         "gridwidth": 0.1,
         "linecolor": "black",
         "linewidth": 1,
         "showgrid": true,
         "showline": true,
         "title": {
          "text": "Normalized Feature Strength"
         },
         "zeroline": true,
         "zerolinecolor": "black",
         "zerolinewidth": 2
        },
        "yaxis2": {
         "anchor": "x",
         "gridcolor": "lightgray",
         "gridwidth": 0.1,
         "linecolor": "black",
         "linewidth": 1,
         "overlaying": "y",
         "showgrid": true,
         "showline": true,
         "side": "right",
         "tickformat": ",.0%",
         "title": {
          "text": "Average Prediction"
         },
         "zeroline": true,
         "zerolinecolor": "black",
         "zerolinewidth": 2
        }
       }
      },
      "text/html": [
       "<div>                            <div id=\"e40ac889-cf3e-4017-a9e5-fa97571d72e5\" class=\"plotly-graph-div\" style=\"height:600px; width:100%;\"></div>            <script type=\"text/javascript\">                require([\"plotly\"], function(Plotly) {                    window.PLOTLYENV=window.PLOTLYENV || {};                                    if (document.getElementById(\"e40ac889-cf3e-4017-a9e5-fa97571d72e5\")) {                    Plotly.newPlot(                        \"e40ac889-cf3e-4017-a9e5-fa97571d72e5\",                        [{\"marker\":{\"color\":\"Black\",\"size\":6},\"mode\":\"lines+markers\",\"name\":\"Average Prediction\",\"x\":[\"2020-01-01T00:00:00\",\"2020-04-01T00:00:00\",\"2020-07-01T00:00:00\",\"2020-10-01T00:00:00\",\"2021-01-01T00:00:00\",\"2021-04-01T00:00:00\",\"2021-07-01T00:00:00\",\"2021-10-01T00:00:00\",\"2022-01-01T00:00:00\",\"2022-04-01T00:00:00\",\"2022-07-01T00:00:00\",\"2022-10-01T00:00:00\"],\"y\":[0.34435073175135134,0.2961471846625578,0.295754168573945,0.33246788053322035,0.33497436881037596,0.323601860141823,0.2920184995926523,0.36464562025372427,0.3942482263324367,0.396673525575974,0.32400056205589517,0.46228423642178984],\"type\":\"scatter\",\"xaxis\":\"x\",\"yaxis\":\"y2\"},{\"customdata\":[[12.0,2.732451395100002,\"Contract_Duration\"],[18.0,0.9327721780000015,\"Contract_Duration\"],[24.0,0.35178836480000103,\"Contract_Duration\"],[12.0,0.20692313440000137,\"Contract_Duration\"],[12.0,3.5157896623000013,\"Contract_Duration\"],[12.0,0.6721670532000018,\"Contract_Duration\"],[24.0,-5.162227734799999,\"Contract_Duration\"],[24.0,-2.288718343499999,\"Contract_Duration\"],[24.0,-0.37329923179999897,\"Contract_Duration\"],[12.0,3.6315295569000012,\"Contract_Duration\"],[24.0,-8.992304511499999,\"Contract_Duration\"],[12.0,3.426129315700001,\"Contract_Duration\"]],\"hoverlabel\":{\"align\":\"left\",\"bgcolor\":\"white\",\"font\":{\"family\":\"Rockwell\",\"size\":16}},\"hovertemplate\":\"<br>Period</b>: %{x}<br>Feature</b>: %{customdata[2]}<br>Strength</b>: %{y: .2}<br>Median Value</b>: %{customdata[0]: .3}<extra></extra>\",\"marker\":{\"color\":\"#636EFA\"},\"name\":\"Contract_Duration\",\"opacity\":0.5,\"x\":[\"2020-01-01T00:00:00\",\"2020-04-01T00:00:00\",\"2020-07-01T00:00:00\",\"2020-10-01T00:00:00\",\"2021-01-01T00:00:00\",\"2021-04-01T00:00:00\",\"2021-07-01T00:00:00\",\"2021-10-01T00:00:00\",\"2022-01-01T00:00:00\",\"2022-04-01T00:00:00\",\"2022-07-01T00:00:00\",\"2022-10-01T00:00:00\"],\"y\":[0.021347276524218764,0.007904848966101706,0.003448905537254912,0.0018983773798165265,0.02905611291157026,0.0049790152088889025,-0.049636805142307686,-0.019901898639130427,-0.00324608027652173,0.032716482494594606,-0.07136749612301586,0.0744810720804348],\"type\":\"bar\"},{\"customdata\":[[\"Tammi Manns\",-9.486027321999998,\"Customer_Succes_Manager\"],[\"Chastity Sorenson\",-0.10928126399999949,\"Customer_Succes_Manager\"],[\"Florine Hamer\",7.813243469800001,\"Customer_Succes_Manager\"],[\"Kira Sharpe\",5.1722203172,\"Customer_Succes_Manager\"],[\"Junior Large\",1.535748255100001,\"Customer_Succes_Manager\"],[\"Brandie Tam\",-2.3689415703999996,\"Customer_Succes_Manager\"],[\"Tammi Manns\",-1.1138022204999989,\"Customer_Succes_Manager\"],[\"Stevie Prieto\",-11.268674963999999,\"Customer_Succes_Manager\"],[\"Maura Jeter\",-5.715189575399999,\"Customer_Succes_Manager\"],[\"Stevie Prieto\",3.733447548100001,\"Customer_Succes_Manager\"],[\"Tammi Manns\",-11.0718952367,\"Customer_Succes_Manager\"],[\"Gale Newton\",-2.8205072497,\"Customer_Succes_Manager\"]],\"hoverlabel\":{\"align\":\"left\",\"bgcolor\":\"white\",\"font\":{\"family\":\"Rockwell\",\"size\":16}},\"hovertemplate\":\"<br>Period</b>: %{x}<br>Feature</b>: %{customdata[2]}<br>Strength</b>: %{y: .2}<br>Most Frequent Value</b>: %{customdata[0]}<extra></extra>\",\"marker\":{\"color\":\"#EF553B\"},\"name\":\"Customer_Succes_Manager\",\"opacity\":0.5,\"x\":[\"2020-01-01T00:00:00\",\"2020-04-01T00:00:00\",\"2020-07-01T00:00:00\",\"2020-10-01T00:00:00\",\"2021-01-01T00:00:00\",\"2021-04-01T00:00:00\",\"2021-07-01T00:00:00\",\"2021-10-01T00:00:00\",\"2022-01-01T00:00:00\",\"2022-04-01T00:00:00\",\"2022-07-01T00:00:00\",\"2022-10-01T00:00:00\"],\"y\":[-0.07410958845312499,-0.0009261124067796567,0.07660042617450981,0.04745156254311927,0.01269213433966943,-0.017547715336296295,-0.010709636735576912,-0.09798847794782607,-0.049697300655652164,0.0336346625954955,-0.08787218441825397,-0.06131537499347826],\"type\":\"bar\"},{\"customdata\":[[1.0,-7.059019586699998,\"Customers[Products_Purchased] (5 years unique count)\"],[2.0,-11.965232617999998,\"Customers[Products_Purchased] (5 years unique count)\"],[2.0,-10.524073043799998,\"Customers[Products_Purchased] (5 years unique count)\"],[2.0,-10.005444762099998,\"Customers[Products_Purchased] (5 years unique count)\"],[2.0,-10.317567557899999,\"Customers[Products_Purchased] (5 years unique count)\"],[2.0,-13.025434234099997,\"Customers[Products_Purchased] (5 years unique count)\"],[2.0,-15.948914355799998,\"Customers[Products_Purchased] (5 years unique count)\"],[1.0,-5.571969904799998,\"Customers[Products_Purchased] (5 years unique count)\"],[2.0,-6.792786899099999,\"Customers[Products_Purchased] (5 years unique count)\"],[2.0,-6.8386770069999985,\"Customers[Products_Purchased] (5 years unique count)\"],[2.0,-13.140159504099998,\"Customers[Products_Purchased] (5 years unique count)\"],[0.0,0.23855849920000072,\"Customers[Products_Purchased] (5 years unique count)\"]],\"hoverlabel\":{\"align\":\"left\",\"bgcolor\":\"white\",\"font\":{\"family\":\"Rockwell\",\"size\":16}},\"hovertemplate\":\"<br>Period</b>: %{x}<br>Feature</b>: %{customdata[2]}<br>Strength</b>: %{y: .2}<br>Median Value</b>: %{customdata[0]: .3}<extra></extra>\",\"marker\":{\"color\":\"#00CC96\"},\"name\":\"Customers[Products_Purchased] (5 years unique count)\",\"opacity\":0.5,\"x\":[\"2020-01-01T00:00:00\",\"2020-04-01T00:00:00\",\"2020-07-01T00:00:00\",\"2020-10-01T00:00:00\",\"2021-01-01T00:00:00\",\"2021-04-01T00:00:00\",\"2021-07-01T00:00:00\",\"2021-10-01T00:00:00\",\"2022-01-01T00:00:00\",\"2022-04-01T00:00:00\",\"2022-07-01T00:00:00\",\"2022-10-01T00:00:00\"],\"y\":[-0.055148590521093735,-0.1014002764237288,-0.10317718670392155,-0.09179307121192659,-0.08526915337107437,-0.09648469803037035,-0.15335494572884614,-0.048451912215652156,-0.05906771216608695,-0.06160970276576575,-0.10428698019126982,0.005186054330434798],\"type\":\"bar\"},{\"customdata\":[[13.0,17.3800888292,\"Product_Usage (180 days count)\"],[12.0,18.1218610853,\"Product_Usage (180 days count)\"],[12.0,17.2111480204,\"Product_Usage (180 days count)\"],[12.0,20.2056025941,\"Product_Usage (180 days count)\"],[11.0,32.339052086,\"Product_Usage (180 days count)\"],[10.0,36.745009288,\"Product_Usage (180 days count)\"],[11.0,29.9402750488,\"Product_Usage (180 days count)\"],[10.5,37.0141038618,\"Product_Usage (180 days count)\"],[9.0,46.7510360479,\"Product_Usage (180 days count)\"],[9.0,44.5144206255,\"Product_Usage (180 days count)\"],[9.0,57.2550950864,\"Product_Usage (180 days count)\"],[9.0,20.4076723015,\"Product_Usage (180 days count)\"]],\"hoverlabel\":{\"align\":\"left\",\"bgcolor\":\"white\",\"font\":{\"family\":\"Rockwell\",\"size\":16}},\"hovertemplate\":\"<br>Period</b>: %{x}<br>Feature</b>: %{customdata[2]}<br>Strength</b>: %{y: .2}<br>Median Value</b>: %{customdata[0]: .3}<extra></extra>\",\"marker\":{\"color\":\"#AB63FA\"},\"name\":\"Product_Usage (180 days count)\",\"opacity\":0.5,\"x\":[\"2020-01-01T00:00:00\",\"2020-04-01T00:00:00\",\"2020-07-01T00:00:00\",\"2020-10-01T00:00:00\",\"2021-01-01T00:00:00\",\"2021-04-01T00:00:00\",\"2021-07-01T00:00:00\",\"2021-10-01T00:00:00\",\"2022-01-01T00:00:00\",\"2022-04-01T00:00:00\",\"2022-07-01T00:00:00\",\"2022-10-01T00:00:00\"],\"y\":[0.135781943978125,0.15357509394322036,0.1687367452980392,0.18537250086330276,0.2672648932727273,0.27218525398518517,0.2878872600846154,0.3218617727113044,0.4065307482426087,0.40103081644594596,0.4544055165587301,0.4436450500326087],\"type\":\"bar\"},{\"customdata\":[[\"OH\",-4.0284903399,\"State\"],[\"NY\",0.7851941527000001,\"State\"],[\"IL\",-10.464031007400001,\"State\"],[\"CA\",-0.023147924000000153,\"State\"],[\"OH\",-8.6553697371,\"State\"],[\"WI\",-2.6378347088000003,\"State\"],[\"CA\",-3.8769615927000003,\"State\"],[\"CA\",-0.9160436083000002,\"State\"],[\"OH\",3.8177210932,\"State\"],[\"TX\",-0.02277403950000001,\"State\"],[\"MO\",-6.3375804594,\"State\"],[\"NY\",3.6144210939,\"State\"]],\"hoverlabel\":{\"align\":\"left\",\"bgcolor\":\"white\",\"font\":{\"family\":\"Rockwell\",\"size\":16}},\"hovertemplate\":\"<br>Period</b>: %{x}<br>Feature</b>: %{customdata[2]}<br>Strength</b>: %{y: .2}<br>Most Frequent Value</b>: %{customdata[0]}<extra></extra>\",\"marker\":{\"color\":\"#FFA15A\"},\"name\":\"State\",\"opacity\":0.5,\"x\":[\"2020-01-01T00:00:00\",\"2020-04-01T00:00:00\",\"2020-07-01T00:00:00\",\"2020-10-01T00:00:00\",\"2021-01-01T00:00:00\",\"2021-04-01T00:00:00\",\"2021-07-01T00:00:00\",\"2021-10-01T00:00:00\",\"2022-01-01T00:00:00\",\"2022-04-01T00:00:00\",\"2022-07-01T00:00:00\",\"2022-10-01T00:00:00\"],\"y\":[-0.03147258078046875,0.006654187734745764,-0.1025885392882353,-0.0002123662752293592,-0.0715319812983471,-0.019539516361481483,-0.037278476852884615,-0.007965596593913046,0.03319757472347826,-0.0002051715270270271,-0.05029825761428571,0.07857437160652174],\"type\":\"bar\"},{\"customdata\":[[1827.0,-4.776908886799999,\"duration(Renewal_Date, Customer_Since_Date)\"],[2192.0,-13.7531687461,\"duration(Renewal_Date, Customer_Since_Date)\"],[2192.0,-16.9727825398,\"duration(Renewal_Date, Customer_Since_Date)\"],[1826.0,-9.995406806,\"duration(Renewal_Date, Customer_Since_Date)\"],[2192.0,-14.648885709,\"duration(Renewal_Date, Customer_Since_Date)\"],[1826.0,-16.6296408244,\"duration(Renewal_Date, Customer_Since_Date)\"],[2192.0,-20.9026631726,\"duration(Renewal_Date, Customer_Since_Date)\"],[1826.0,-13.773024422999999,\"duration(Renewal_Date, Customer_Since_Date)\"],[1461.0,-16.6662438881,\"duration(Renewal_Date, Customer_Since_Date)\"],[2191.0,-16.5900265763,\"duration(Renewal_Date, Customer_Since_Date)\"],[2191.0,-34.71829319,\"duration(Renewal_Date, Customer_Since_Date)\"],[1095.0,-4.2936886556,\"duration(Renewal_Date, Customer_Since_Date)\"]],\"hoverlabel\":{\"align\":\"left\",\"bgcolor\":\"white\",\"font\":{\"family\":\"Rockwell\",\"size\":16}},\"hovertemplate\":\"<br>Period</b>: %{x}<br>Feature</b>: %{customdata[2]}<br>Strength</b>: %{y: .2}<br>Median Value</b>: %{customdata[0]: .3}<extra></extra>\",\"marker\":{\"color\":\"#19D3F3\"},\"name\":\"duration(Renewal_Date, Customer_Since_Date)\",\"opacity\":0.5,\"x\":[\"2020-01-01T00:00:00\",\"2020-04-01T00:00:00\",\"2020-07-01T00:00:00\",\"2020-10-01T00:00:00\",\"2021-01-01T00:00:00\",\"2021-04-01T00:00:00\",\"2021-07-01T00:00:00\",\"2021-10-01T00:00:00\",\"2022-01-01T00:00:00\",\"2022-04-01T00:00:00\",\"2022-07-01T00:00:00\",\"2022-10-01T00:00:00\"],\"y\":[-0.037319600678124995,-0.11655227750932204,-0.16639982882156865,-0.09170097987155963,-0.12106517114876034,-0.12318252462518518,-0.20098714589038463,-0.11976542976521738,-0.14492385989652173,-0.1494596988855856,-0.2755420094444444,-0.09334105773043477],\"type\":\"bar\"}],                        {\"template\":{\"data\":{\"histogram2dcontour\":[{\"type\":\"histogram2dcontour\",\"colorbar\":{\"outlinewidth\":0,\"ticks\":\"\"},\"colorscale\":[[0.0,\"#0d0887\"],[0.1111111111111111,\"#46039f\"],[0.2222222222222222,\"#7201a8\"],[0.3333333333333333,\"#9c179e\"],[0.4444444444444444,\"#bd3786\"],[0.5555555555555556,\"#d8576b\"],[0.6666666666666666,\"#ed7953\"],[0.7777777777777778,\"#fb9f3a\"],[0.8888888888888888,\"#fdca26\"],[1.0,\"#f0f921\"]]}],\"choropleth\":[{\"type\":\"choropleth\",\"colorbar\":{\"outlinewidth\":0,\"ticks\":\"\"}}],\"histogram2d\":[{\"type\":\"histogram2d\",\"colorbar\":{\"outlinewidth\":0,\"ticks\":\"\"},\"colorscale\":[[0.0,\"#0d0887\"],[0.1111111111111111,\"#46039f\"],[0.2222222222222222,\"#7201a8\"],[0.3333333333333333,\"#9c179e\"],[0.4444444444444444,\"#bd3786\"],[0.5555555555555556,\"#d8576b\"],[0.6666666666666666,\"#ed7953\"],[0.7777777777777778,\"#fb9f3a\"],[0.8888888888888888,\"#fdca26\"],[1.0,\"#f0f921\"]]}],\"heatmap\":[{\"type\":\"heatmap\",\"colorbar\":{\"outlinewidth\":0,\"ticks\":\"\"},\"colorscale\":[[0.0,\"#0d0887\"],[0.1111111111111111,\"#46039f\"],[0.2222222222222222,\"#7201a8\"],[0.3333333333333333,\"#9c179e\"],[0.4444444444444444,\"#bd3786\"],[0.5555555555555556,\"#d8576b\"],[0.6666666666666666,\"#ed7953\"],[0.7777777777777778,\"#fb9f3a\"],[0.8888888888888888,\"#fdca26\"],[1.0,\"#f0f921\"]]}],\"heatmapgl\":[{\"type\":\"heatmapgl\",\"colorbar\":{\"outlinewidth\":0,\"ticks\":\"\"},\"colorscale\":[[0.0,\"#0d0887\"],[0.1111111111111111,\"#46039f\"],[0.2222222222222222,\"#7201a8\"],[0.3333333333333333,\"#9c179e\"],[0.4444444444444444,\"#bd3786\"],[0.5555555555555556,\"#d8576b\"],[0.6666666666666666,\"#ed7953\"],[0.7777777777777778,\"#fb9f3a\"],[0.8888888888888888,\"#fdca26\"],[1.0,\"#f0f921\"]]}],\"contourcarpet\":[{\"type\":\"contourcarpet\",\"colorbar\":{\"outlinewidth\":0,\"ticks\":\"\"}}],\"contour\":[{\"type\":\"contour\",\"colorbar\":{\"outlinewidth\":0,\"ticks\":\"\"},\"colorscale\":[[0.0,\"#0d0887\"],[0.1111111111111111,\"#46039f\"],[0.2222222222222222,\"#7201a8\"],[0.3333333333333333,\"#9c179e\"],[0.4444444444444444,\"#bd3786\"],[0.5555555555555556,\"#d8576b\"],[0.6666666666666666,\"#ed7953\"],[0.7777777777777778,\"#fb9f3a\"],[0.8888888888888888,\"#fdca26\"],[1.0,\"#f0f921\"]]}],\"surface\":[{\"type\":\"surface\",\"colorbar\":{\"outlinewidth\":0,\"ticks\":\"\"},\"colorscale\":[[0.0,\"#0d0887\"],[0.1111111111111111,\"#46039f\"],[0.2222222222222222,\"#7201a8\"],[0.3333333333333333,\"#9c179e\"],[0.4444444444444444,\"#bd3786\"],[0.5555555555555556,\"#d8576b\"],[0.6666666666666666,\"#ed7953\"],[0.7777777777777778,\"#fb9f3a\"],[0.8888888888888888,\"#fdca26\"],[1.0,\"#f0f921\"]]}],\"mesh3d\":[{\"type\":\"mesh3d\",\"colorbar\":{\"outlinewidth\":0,\"ticks\":\"\"}}],\"scatter\":[{\"fillpattern\":{\"fillmode\":\"overlay\",\"size\":10,\"solidity\":0.2},\"type\":\"scatter\"}],\"parcoords\":[{\"type\":\"parcoords\",\"line\":{\"colorbar\":{\"outlinewidth\":0,\"ticks\":\"\"}}}],\"scatterpolargl\":[{\"type\":\"scatterpolargl\",\"marker\":{\"colorbar\":{\"outlinewidth\":0,\"ticks\":\"\"}}}],\"bar\":[{\"error_x\":{\"color\":\"#2a3f5f\"},\"error_y\":{\"color\":\"#2a3f5f\"},\"marker\":{\"line\":{\"color\":\"#E5ECF6\",\"width\":0.5},\"pattern\":{\"fillmode\":\"overlay\",\"size\":10,\"solidity\":0.2}},\"type\":\"bar\"}],\"scattergeo\":[{\"type\":\"scattergeo\",\"marker\":{\"colorbar\":{\"outlinewidth\":0,\"ticks\":\"\"}}}],\"scatterpolar\":[{\"type\":\"scatterpolar\",\"marker\":{\"colorbar\":{\"outlinewidth\":0,\"ticks\":\"\"}}}],\"histogram\":[{\"marker\":{\"pattern\":{\"fillmode\":\"overlay\",\"size\":10,\"solidity\":0.2}},\"type\":\"histogram\"}],\"scattergl\":[{\"type\":\"scattergl\",\"marker\":{\"colorbar\":{\"outlinewidth\":0,\"ticks\":\"\"}}}],\"scatter3d\":[{\"type\":\"scatter3d\",\"line\":{\"colorbar\":{\"outlinewidth\":0,\"ticks\":\"\"}},\"marker\":{\"colorbar\":{\"outlinewidth\":0,\"ticks\":\"\"}}}],\"scattermapbox\":[{\"type\":\"scattermapbox\",\"marker\":{\"colorbar\":{\"outlinewidth\":0,\"ticks\":\"\"}}}],\"scatterternary\":[{\"type\":\"scatterternary\",\"marker\":{\"colorbar\":{\"outlinewidth\":0,\"ticks\":\"\"}}}],\"scattercarpet\":[{\"type\":\"scattercarpet\",\"marker\":{\"colorbar\":{\"outlinewidth\":0,\"ticks\":\"\"}}}],\"carpet\":[{\"aaxis\":{\"endlinecolor\":\"#2a3f5f\",\"gridcolor\":\"white\",\"linecolor\":\"white\",\"minorgridcolor\":\"white\",\"startlinecolor\":\"#2a3f5f\"},\"baxis\":{\"endlinecolor\":\"#2a3f5f\",\"gridcolor\":\"white\",\"linecolor\":\"white\",\"minorgridcolor\":\"white\",\"startlinecolor\":\"#2a3f5f\"},\"type\":\"carpet\"}],\"table\":[{\"cells\":{\"fill\":{\"color\":\"#EBF0F8\"},\"line\":{\"color\":\"white\"}},\"header\":{\"fill\":{\"color\":\"#C8D4E3\"},\"line\":{\"color\":\"white\"}},\"type\":\"table\"}],\"barpolar\":[{\"marker\":{\"line\":{\"color\":\"#E5ECF6\",\"width\":0.5},\"pattern\":{\"fillmode\":\"overlay\",\"size\":10,\"solidity\":0.2}},\"type\":\"barpolar\"}],\"pie\":[{\"automargin\":true,\"type\":\"pie\"}]},\"layout\":{\"autotypenumbers\":\"strict\",\"colorway\":[\"#636efa\",\"#EF553B\",\"#00cc96\",\"#ab63fa\",\"#FFA15A\",\"#19d3f3\",\"#FF6692\",\"#B6E880\",\"#FF97FF\",\"#FECB52\"],\"font\":{\"color\":\"#2a3f5f\"},\"hovermode\":\"closest\",\"hoverlabel\":{\"align\":\"left\"},\"paper_bgcolor\":\"white\",\"plot_bgcolor\":\"#E5ECF6\",\"polar\":{\"bgcolor\":\"#E5ECF6\",\"angularaxis\":{\"gridcolor\":\"white\",\"linecolor\":\"white\",\"ticks\":\"\"},\"radialaxis\":{\"gridcolor\":\"white\",\"linecolor\":\"white\",\"ticks\":\"\"}},\"ternary\":{\"bgcolor\":\"#E5ECF6\",\"aaxis\":{\"gridcolor\":\"white\",\"linecolor\":\"white\",\"ticks\":\"\"},\"baxis\":{\"gridcolor\":\"white\",\"linecolor\":\"white\",\"ticks\":\"\"},\"caxis\":{\"gridcolor\":\"white\",\"linecolor\":\"white\",\"ticks\":\"\"}},\"coloraxis\":{\"colorbar\":{\"outlinewidth\":0,\"ticks\":\"\"}},\"colorscale\":{\"sequential\":[[0.0,\"#0d0887\"],[0.1111111111111111,\"#46039f\"],[0.2222222222222222,\"#7201a8\"],[0.3333333333333333,\"#9c179e\"],[0.4444444444444444,\"#bd3786\"],[0.5555555555555556,\"#d8576b\"],[0.6666666666666666,\"#ed7953\"],[0.7777777777777778,\"#fb9f3a\"],[0.8888888888888888,\"#fdca26\"],[1.0,\"#f0f921\"]],\"sequentialminus\":[[0.0,\"#0d0887\"],[0.1111111111111111,\"#46039f\"],[0.2222222222222222,\"#7201a8\"],[0.3333333333333333,\"#9c179e\"],[0.4444444444444444,\"#bd3786\"],[0.5555555555555556,\"#d8576b\"],[0.6666666666666666,\"#ed7953\"],[0.7777777777777778,\"#fb9f3a\"],[0.8888888888888888,\"#fdca26\"],[1.0,\"#f0f921\"]],\"diverging\":[[0,\"#8e0152\"],[0.1,\"#c51b7d\"],[0.2,\"#de77ae\"],[0.3,\"#f1b6da\"],[0.4,\"#fde0ef\"],[0.5,\"#f7f7f7\"],[0.6,\"#e6f5d0\"],[0.7,\"#b8e186\"],[0.8,\"#7fbc41\"],[0.9,\"#4d9221\"],[1,\"#276419\"]]},\"xaxis\":{\"gridcolor\":\"white\",\"linecolor\":\"white\",\"ticks\":\"\",\"title\":{\"standoff\":15},\"zerolinecolor\":\"white\",\"automargin\":true,\"zerolinewidth\":2},\"yaxis\":{\"gridcolor\":\"white\",\"linecolor\":\"white\",\"ticks\":\"\",\"title\":{\"standoff\":15},\"zerolinecolor\":\"white\",\"automargin\":true,\"zerolinewidth\":2},\"scene\":{\"xaxis\":{\"backgroundcolor\":\"#E5ECF6\",\"gridcolor\":\"white\",\"linecolor\":\"white\",\"showbackground\":true,\"ticks\":\"\",\"zerolinecolor\":\"white\",\"gridwidth\":2},\"yaxis\":{\"backgroundcolor\":\"#E5ECF6\",\"gridcolor\":\"white\",\"linecolor\":\"white\",\"showbackground\":true,\"ticks\":\"\",\"zerolinecolor\":\"white\",\"gridwidth\":2},\"zaxis\":{\"backgroundcolor\":\"#E5ECF6\",\"gridcolor\":\"white\",\"linecolor\":\"white\",\"showbackground\":true,\"ticks\":\"\",\"zerolinecolor\":\"white\",\"gridwidth\":2}},\"shapedefaults\":{\"line\":{\"color\":\"#2a3f5f\"}},\"annotationdefaults\":{\"arrowcolor\":\"#2a3f5f\",\"arrowhead\":0,\"arrowwidth\":1},\"geo\":{\"bgcolor\":\"white\",\"landcolor\":\"#E5ECF6\",\"subunitcolor\":\"white\",\"showland\":true,\"showlakes\":true,\"lakecolor\":\"white\"},\"title\":{\"x\":0.05},\"mapbox\":{\"style\":\"light\"}}},\"xaxis\":{\"anchor\":\"y\",\"domain\":[0.0,0.94],\"title\":{\"text\":\"Date\"},\"showline\":true,\"linewidth\":1,\"linecolor\":\"black\",\"showgrid\":false,\"gridwidth\":1,\"gridcolor\":\"#7f7f7f\"},\"yaxis\":{\"anchor\":\"x\",\"domain\":[0.0,1.0],\"title\":{\"text\":\"Normalized Feature Strength\"},\"showline\":true,\"linewidth\":1,\"linecolor\":\"black\",\"showgrid\":true,\"gridwidth\":0.1,\"gridcolor\":\"lightgray\",\"zeroline\":true,\"zerolinewidth\":2,\"zerolinecolor\":\"black\"},\"yaxis2\":{\"anchor\":\"x\",\"overlaying\":\"y\",\"side\":\"right\",\"title\":{\"text\":\"Average Prediction\"},\"showline\":true,\"linewidth\":1,\"linecolor\":\"black\",\"showgrid\":true,\"gridwidth\":0.1,\"gridcolor\":\"lightgray\",\"zeroline\":true,\"zerolinewidth\":2,\"zerolinecolor\":\"black\",\"tickformat\":\",.0%\"},\"barmode\":\"relative\",\"hoverlabel\":{\"font\":{\"size\":16,\"family\":\"Rockwell\"},\"bgcolor\":\"white\",\"namelength\":-1},\"legend\":{\"x\":1.1,\"y\":1,\"xanchor\":\"left\",\"yanchor\":\"top\"},\"showlegend\":false,\"height\":600,\"plot_bgcolor\":\"rgba(0,0,0,0)\"},                        {\"responsive\": true}                    ).then(function(){\n",
       "                            \n",
       "var gd = document.getElementById('e40ac889-cf3e-4017-a9e5-fa97571d72e5');\n",
       "var x = new MutationObserver(function (mutations, observer) {{\n",
       "        var display = window.getComputedStyle(gd).display;\n",
       "        if (!display || display === 'none') {{\n",
       "            console.log([gd, 'removed!']);\n",
       "            Plotly.purge(gd);\n",
       "            observer.disconnect();\n",
       "        }}\n",
       "}});\n",
       "\n",
       "// Listen for the removal of the full notebook cells\n",
       "var notebookContainer = gd.closest('#notebook-container');\n",
       "if (notebookContainer) {{\n",
       "    x.observe(notebookContainer, {childList: true});\n",
       "}}\n",
       "\n",
       "// Listen for the clearing of the current output cell\n",
       "var outputEl = gd.closest('.output');\n",
       "if (outputEl) {{\n",
       "    x.observe(outputEl, {childList: true});\n",
       "}}\n",
       "\n",
       "                        })                };                });            </script>        </div>"
      ]
     },
     "metadata": {},
     "output_type": "display_data"
    }
   ],
   "source": [
    "# plot predictions and prediction explanations over time\n",
    "date_col = 'Prediction_Point'\n",
    "prep_and_plot_pe_over_time(melted, project_id, date_col, freq='QS', showlegend=False, max_features=6, height=600)"
   ]
  },
  {
   "cell_type": "markdown",
   "id": "50a1081f",
   "metadata": {},
   "source": [
    "### Output pandas df with highlighted prediction explanations"
   ]
  },
  {
   "cell_type": "code",
   "execution_count": 1096,
   "id": "e746617d",
   "metadata": {},
   "outputs": [],
   "source": [
    "cols_to_keep = [\n",
    "    'row_id',\n",
    "    'Customer_Name', \n",
    "    #'Customer_Since_Date',\n",
    "    #'Renewal_Date',\n",
    "    'ARR', \n",
    "    #'Contract_Duration',\n",
    "    'Product_Usage[UserID] (1 month unique count)',\n",
    "    #'Customers[Customer_Succes_Manager] (5 years unique count)',\n",
    "    'Industry',\n",
    "    'Employee_Count', \n",
    "    'Annual_Revenue', \n",
    "    'Products_Purchased', \n",
    "    #'Zip_Code', \n",
    "    'City', \n",
    "    'State',\n",
    "    f'{target}',\n",
    "    'Latitude', \n",
    "    'Longitude',\n",
    "    #'Customers[Products_Purchased] (latest)',\n",
    "    'feature_name',\n",
    "    'strength',\n",
    "]"
   ]
  },
  {
   "cell_type": "code",
   "execution_count": 1097,
   "id": "4ff810a7",
   "metadata": {},
   "outputs": [],
   "source": [
    "#melted.columns"
   ]
  },
  {
   "cell_type": "code",
   "execution_count": 1098,
   "id": "33a21925",
   "metadata": {
    "scrolled": false
   },
   "outputs": [
    {
     "data": {
      "text/html": [
       "<style type=\"text/css\">\n",
       "#T_e1f13_row0_col0, #T_e1f13_row0_col7, #T_e1f13_row0_col9, #T_e1f13_row0_col10, #T_e1f13_row0_col11, #T_e1f13_row1_col0, #T_e1f13_row1_col2, #T_e1f13_row1_col3, #T_e1f13_row1_col7, #T_e1f13_row1_col9, #T_e1f13_row2_col0, #T_e1f13_row2_col6, #T_e1f13_row2_col7, #T_e1f13_row2_col9, #T_e1f13_row2_col11, #T_e1f13_row3_col0, #T_e1f13_row3_col6, #T_e1f13_row3_col7, #T_e1f13_row3_col8, #T_e1f13_row3_col9, #T_e1f13_row3_col10, #T_e1f13_row3_col11, #T_e1f13_row4_col0, #T_e1f13_row4_col1, #T_e1f13_row4_col2, #T_e1f13_row4_col7, #T_e1f13_row4_col9, #T_e1f13_row4_col10, #T_e1f13_row4_col11, #T_e1f13_row5_col0, #T_e1f13_row5_col2, #T_e1f13_row5_col3, #T_e1f13_row5_col6, #T_e1f13_row5_col7, #T_e1f13_row5_col9, #T_e1f13_row5_col10, #T_e1f13_row5_col11, #T_e1f13_row6_col0, #T_e1f13_row6_col1, #T_e1f13_row6_col3, #T_e1f13_row6_col6, #T_e1f13_row6_col7, #T_e1f13_row6_col9, #T_e1f13_row6_col10, #T_e1f13_row6_col11, #T_e1f13_row7_col0, #T_e1f13_row7_col1, #T_e1f13_row7_col2, #T_e1f13_row7_col9, #T_e1f13_row7_col10, #T_e1f13_row7_col11, #T_e1f13_row8_col0, #T_e1f13_row8_col2, #T_e1f13_row8_col7, #T_e1f13_row8_col9, #T_e1f13_row8_col10, #T_e1f13_row8_col11, #T_e1f13_row9_col0, #T_e1f13_row9_col6, #T_e1f13_row9_col9, #T_e1f13_row9_col10, #T_e1f13_row10_col0, #T_e1f13_row10_col6, #T_e1f13_row10_col9, #T_e1f13_row10_col10, #T_e1f13_row11_col0, #T_e1f13_row11_col1, #T_e1f13_row11_col3, #T_e1f13_row11_col5, #T_e1f13_row11_col7, #T_e1f13_row11_col8, #T_e1f13_row11_col9, #T_e1f13_row12_col0, #T_e1f13_row12_col8, #T_e1f13_row12_col9, #T_e1f13_row12_col10, #T_e1f13_row13_col0, #T_e1f13_row13_col1, #T_e1f13_row13_col2, #T_e1f13_row13_col3, #T_e1f13_row13_col5, #T_e1f13_row13_col9, #T_e1f13_row13_col10, #T_e1f13_row14_col0, #T_e1f13_row14_col1, #T_e1f13_row14_col3, #T_e1f13_row14_col5, #T_e1f13_row14_col9, #T_e1f13_row14_col10, #T_e1f13_row14_col11, #T_e1f13_row15_col0, #T_e1f13_row15_col1, #T_e1f13_row15_col2, #T_e1f13_row15_col6, #T_e1f13_row15_col7, #T_e1f13_row15_col9, #T_e1f13_row15_col11, #T_e1f13_row16_col0, #T_e1f13_row16_col2, #T_e1f13_row16_col7, #T_e1f13_row16_col9, #T_e1f13_row16_col10, #T_e1f13_row16_col11, #T_e1f13_row17_col0, #T_e1f13_row17_col4, #T_e1f13_row17_col5, #T_e1f13_row17_col6, #T_e1f13_row17_col7, #T_e1f13_row17_col9, #T_e1f13_row17_col10, #T_e1f13_row18_col0, #T_e1f13_row18_col2, #T_e1f13_row18_col4, #T_e1f13_row18_col5, #T_e1f13_row18_col7, #T_e1f13_row18_col9, #T_e1f13_row18_col10, #T_e1f13_row19_col0, #T_e1f13_row19_col1, #T_e1f13_row19_col4, #T_e1f13_row19_col5, #T_e1f13_row19_col7, #T_e1f13_row19_col9, #T_e1f13_row19_col10, #T_e1f13_row20_col0, #T_e1f13_row20_col2, #T_e1f13_row20_col5, #T_e1f13_row20_col7, #T_e1f13_row20_col9, #T_e1f13_row20_col10 {\n",
       "  background-color: #fffdfd;\n",
       "  color: #000000;\n",
       "}\n",
       "#T_e1f13_row0_col1, #T_e1f13_row2_col2, #T_e1f13_row3_col2, #T_e1f13_row11_col4, #T_e1f13_row12_col2, #T_e1f13_row15_col10 {\n",
       "  background-color: #ffa9a9;\n",
       "  color: #000000;\n",
       "}\n",
       "#T_e1f13_row0_col2, #T_e1f13_row4_col3, #T_e1f13_row9_col2, #T_e1f13_row17_col2, #T_e1f13_row19_col2 {\n",
       "  background-color: #d5d5ff;\n",
       "  color: #000000;\n",
       "}\n",
       "#T_e1f13_row0_col3, #T_e1f13_row8_col5 {\n",
       "  background-color: #d1d1ff;\n",
       "  color: #000000;\n",
       "}\n",
       "#T_e1f13_row0_col4 {\n",
       "  background-color: #ff5555;\n",
       "  color: #f1f1f1;\n",
       "}\n",
       "#T_e1f13_row0_col5, #T_e1f13_row0_col6, #T_e1f13_row4_col6, #T_e1f13_row10_col1, #T_e1f13_row11_col6, #T_e1f13_row11_col10, #T_e1f13_row12_col5, #T_e1f13_row13_col6, #T_e1f13_row14_col6, #T_e1f13_row19_col6, #T_e1f13_row20_col6 {\n",
       "  background-color: #c1c1ff;\n",
       "  color: #000000;\n",
       "}\n",
       "#T_e1f13_row0_col8, #T_e1f13_row7_col8 {\n",
       "  background-color: #0000bf;\n",
       "  color: #f1f1f1;\n",
       "}\n",
       "#T_e1f13_row1_col1 {\n",
       "  background-color: #ffcdcd;\n",
       "  color: #000000;\n",
       "}\n",
       "#T_e1f13_row1_col4 {\n",
       "  background-color: #ff6161;\n",
       "  color: #f1f1f1;\n",
       "}\n",
       "#T_e1f13_row1_col5, #T_e1f13_row13_col8, #T_e1f13_row14_col8 {\n",
       "  background-color: #bdbdff;\n",
       "  color: #000000;\n",
       "}\n",
       "#T_e1f13_row1_col6, #T_e1f13_row1_col11, #T_e1f13_row7_col6, #T_e1f13_row8_col6, #T_e1f13_row9_col1, #T_e1f13_row12_col6, #T_e1f13_row13_col11, #T_e1f13_row16_col6, #T_e1f13_row17_col11, #T_e1f13_row18_col6, #T_e1f13_row18_col11, #T_e1f13_row19_col11 {\n",
       "  background-color: #ffd5d5;\n",
       "  color: #000000;\n",
       "}\n",
       "#T_e1f13_row1_col8 {\n",
       "  background-color: #2929ff;\n",
       "  color: #f1f1f1;\n",
       "}\n",
       "#T_e1f13_row1_col10 {\n",
       "  background-color: #ff3131;\n",
       "  color: #f1f1f1;\n",
       "}\n",
       "#T_e1f13_row2_col1 {\n",
       "  background-color: #8d8dff;\n",
       "  color: #f1f1f1;\n",
       "}\n",
       "#T_e1f13_row2_col3, #T_e1f13_row7_col3, #T_e1f13_row9_col8, #T_e1f13_row10_col8, #T_e1f13_row16_col3 {\n",
       "  background-color: #9d9dff;\n",
       "  color: #f1f1f1;\n",
       "}\n",
       "#T_e1f13_row2_col4 {\n",
       "  background-color: #ff1111;\n",
       "  color: #f1f1f1;\n",
       "}\n",
       "#T_e1f13_row2_col5 {\n",
       "  background-color: #adadff;\n",
       "  color: #000000;\n",
       "}\n",
       "#T_e1f13_row2_col8, #T_e1f13_row12_col1 {\n",
       "  background-color: #9191ff;\n",
       "  color: #f1f1f1;\n",
       "}\n",
       "#T_e1f13_row2_col10 {\n",
       "  background-color: #ffa5a5;\n",
       "  color: #000000;\n",
       "}\n",
       "#T_e1f13_row3_col1, #T_e1f13_row7_col5 {\n",
       "  background-color: #ff9595;\n",
       "  color: #000000;\n",
       "}\n",
       "#T_e1f13_row3_col3, #T_e1f13_row8_col3, #T_e1f13_row12_col3 {\n",
       "  background-color: #ff8d8d;\n",
       "  color: #000000;\n",
       "}\n",
       "#T_e1f13_row3_col4 {\n",
       "  background-color: #4949ff;\n",
       "  color: #f1f1f1;\n",
       "}\n",
       "#T_e1f13_row3_col5, #T_e1f13_row12_col11, #T_e1f13_row17_col1 {\n",
       "  background-color: #ffc9c9;\n",
       "  color: #000000;\n",
       "}\n",
       "#T_e1f13_row4_col4, #T_e1f13_row5_col4, #T_e1f13_row6_col4 {\n",
       "  background-color: #ff9d9d;\n",
       "  color: #000000;\n",
       "}\n",
       "#T_e1f13_row4_col5, #T_e1f13_row5_col5, #T_e1f13_row6_col5, #T_e1f13_row16_col5 {\n",
       "  background-color: #c9c9ff;\n",
       "  color: #000000;\n",
       "}\n",
       "#T_e1f13_row4_col8, #T_e1f13_row5_col8, #T_e1f13_row6_col8 {\n",
       "  background-color: #ff6d6d;\n",
       "  color: #f1f1f1;\n",
       "}\n",
       "#T_e1f13_row5_col1 {\n",
       "  background-color: #1d1dff;\n",
       "  color: #f1f1f1;\n",
       "}\n",
       "#T_e1f13_row6_col2, #T_e1f13_row11_col2, #T_e1f13_row14_col2 {\n",
       "  background-color: #ff6969;\n",
       "  color: #f1f1f1;\n",
       "}\n",
       "#T_e1f13_row7_col4 {\n",
       "  background-color: #4d4dff;\n",
       "  color: #f1f1f1;\n",
       "}\n",
       "#T_e1f13_row7_col7 {\n",
       "  background-color: #9999ff;\n",
       "  color: #f1f1f1;\n",
       "}\n",
       "#T_e1f13_row8_col1, #T_e1f13_row17_col8, #T_e1f13_row18_col8, #T_e1f13_row19_col8 {\n",
       "  background-color: #ffb1b1;\n",
       "  color: #000000;\n",
       "}\n",
       "#T_e1f13_row8_col4 {\n",
       "  background-color: #ff7575;\n",
       "  color: #f1f1f1;\n",
       "}\n",
       "#T_e1f13_row8_col8, #T_e1f13_row20_col8 {\n",
       "  background-color: #5959ff;\n",
       "  color: #f1f1f1;\n",
       "}\n",
       "#T_e1f13_row9_col3, #T_e1f13_row10_col3 {\n",
       "  background-color: #e5e5ff;\n",
       "  color: #000000;\n",
       "}\n",
       "#T_e1f13_row9_col4, #T_e1f13_row10_col4, #T_e1f13_row15_col4 {\n",
       "  background-color: #c5c5ff;\n",
       "  color: #000000;\n",
       "}\n",
       "#T_e1f13_row9_col5, #T_e1f13_row10_col5 {\n",
       "  background-color: #ffb9b9;\n",
       "  color: #000000;\n",
       "}\n",
       "#T_e1f13_row9_col7, #T_e1f13_row10_col7, #T_e1f13_row12_col7 {\n",
       "  background-color: #ffe5e5;\n",
       "  color: #000000;\n",
       "}\n",
       "#T_e1f13_row9_col11, #T_e1f13_row10_col11 {\n",
       "  background-color: #e1e1ff;\n",
       "  color: #000000;\n",
       "}\n",
       "#T_e1f13_row10_col2 {\n",
       "  background-color: #ffe9e9;\n",
       "  color: #000000;\n",
       "}\n",
       "#T_e1f13_row11_col11 {\n",
       "  background-color: #7171ff;\n",
       "  color: #f1f1f1;\n",
       "}\n",
       "#T_e1f13_row12_col4 {\n",
       "  background-color: #ff6565;\n",
       "  color: #f1f1f1;\n",
       "}\n",
       "#T_e1f13_row13_col4, #T_e1f13_row14_col4 {\n",
       "  background-color: #6565ff;\n",
       "  color: #f1f1f1;\n",
       "}\n",
       "#T_e1f13_row13_col7, #T_e1f13_row14_col7 {\n",
       "  background-color: #0000f2;\n",
       "  color: #f1f1f1;\n",
       "}\n",
       "#T_e1f13_row15_col3, #T_e1f13_row17_col3, #T_e1f13_row18_col3, #T_e1f13_row19_col3, #T_e1f13_row20_col3 {\n",
       "  background-color: #ff7d7d;\n",
       "  color: #f1f1f1;\n",
       "}\n",
       "#T_e1f13_row15_col5 {\n",
       "  background-color: #ffd1d1;\n",
       "  color: #000000;\n",
       "}\n",
       "#T_e1f13_row15_col8 {\n",
       "  background-color: #ff1d1d;\n",
       "  color: #f1f1f1;\n",
       "}\n",
       "#T_e1f13_row16_col1, #T_e1f13_row18_col1 {\n",
       "  background-color: #ffdddd;\n",
       "  color: #000000;\n",
       "}\n",
       "#T_e1f13_row16_col4 {\n",
       "  background-color: #ff8181;\n",
       "  color: #f1f1f1;\n",
       "}\n",
       "#T_e1f13_row16_col8 {\n",
       "  background-color: #5151ff;\n",
       "  color: #f1f1f1;\n",
       "}\n",
       "#T_e1f13_row20_col1 {\n",
       "  background-color: #a9a9ff;\n",
       "  color: #000000;\n",
       "}\n",
       "#T_e1f13_row20_col4 {\n",
       "  background-color: #b5b5ff;\n",
       "  color: #000000;\n",
       "}\n",
       "#T_e1f13_row20_col11 {\n",
       "  background-color: #ffb5b5;\n",
       "  color: #000000;\n",
       "}\n",
       "</style>\n",
       "<table id=\"T_e1f13\">\n",
       "  <thead>\n",
       "    <tr>\n",
       "      <th class=\"blank level0\" >&nbsp;</th>\n",
       "      <th id=\"T_e1f13_level0_col0\" class=\"col_heading level0 col0\" >Customer_Name</th>\n",
       "      <th id=\"T_e1f13_level0_col1\" class=\"col_heading level0 col1\" >ARR</th>\n",
       "      <th id=\"T_e1f13_level0_col2\" class=\"col_heading level0 col2\" >Product_Usage[UserID] (1 month unique count)</th>\n",
       "      <th id=\"T_e1f13_level0_col3\" class=\"col_heading level0 col3\" >Industry</th>\n",
       "      <th id=\"T_e1f13_level0_col4\" class=\"col_heading level0 col4\" >Employee_Count</th>\n",
       "      <th id=\"T_e1f13_level0_col5\" class=\"col_heading level0 col5\" >Annual_Revenue</th>\n",
       "      <th id=\"T_e1f13_level0_col6\" class=\"col_heading level0 col6\" >Products_Purchased</th>\n",
       "      <th id=\"T_e1f13_level0_col7\" class=\"col_heading level0 col7\" >City</th>\n",
       "      <th id=\"T_e1f13_level0_col8\" class=\"col_heading level0 col8\" >State</th>\n",
       "      <th id=\"T_e1f13_level0_col9\" class=\"col_heading level0 col9\" >Churn</th>\n",
       "      <th id=\"T_e1f13_level0_col10\" class=\"col_heading level0 col10\" >Latitude</th>\n",
       "      <th id=\"T_e1f13_level0_col11\" class=\"col_heading level0 col11\" >Longitude</th>\n",
       "    </tr>\n",
       "    <tr>\n",
       "      <th class=\"index_name level0\" >row_id</th>\n",
       "      <th class=\"blank col0\" >&nbsp;</th>\n",
       "      <th class=\"blank col1\" >&nbsp;</th>\n",
       "      <th class=\"blank col2\" >&nbsp;</th>\n",
       "      <th class=\"blank col3\" >&nbsp;</th>\n",
       "      <th class=\"blank col4\" >&nbsp;</th>\n",
       "      <th class=\"blank col5\" >&nbsp;</th>\n",
       "      <th class=\"blank col6\" >&nbsp;</th>\n",
       "      <th class=\"blank col7\" >&nbsp;</th>\n",
       "      <th class=\"blank col8\" >&nbsp;</th>\n",
       "      <th class=\"blank col9\" >&nbsp;</th>\n",
       "      <th class=\"blank col10\" >&nbsp;</th>\n",
       "      <th class=\"blank col11\" >&nbsp;</th>\n",
       "    </tr>\n",
       "  </thead>\n",
       "  <tbody>\n",
       "    <tr>\n",
       "      <th id=\"T_e1f13_level0_row0\" class=\"row_heading level0 row0\" >0</th>\n",
       "      <td id=\"T_e1f13_row0_col0\" class=\"data row0 col0\" >Advanced Analysis Data</td>\n",
       "      <td id=\"T_e1f13_row0_col1\" class=\"data row0 col1\" >44916</td>\n",
       "      <td id=\"T_e1f13_row0_col2\" class=\"data row0 col2\" >3.000000</td>\n",
       "      <td id=\"T_e1f13_row0_col3\" class=\"data row0 col3\" >healthcare</td>\n",
       "      <td id=\"T_e1f13_row0_col4\" class=\"data row0 col4\" >41368</td>\n",
       "      <td id=\"T_e1f13_row0_col5\" class=\"data row0 col5\" >3814084822</td>\n",
       "      <td id=\"T_e1f13_row0_col6\" class=\"data row0 col6\" >enterprise</td>\n",
       "      <td id=\"T_e1f13_row0_col7\" class=\"data row0 col7\" >Toledo</td>\n",
       "      <td id=\"T_e1f13_row0_col8\" class=\"data row0 col8\" >OH</td>\n",
       "      <td id=\"T_e1f13_row0_col9\" class=\"data row0 col9\" >0</td>\n",
       "      <td id=\"T_e1f13_row0_col10\" class=\"data row0 col10\" >41.652914</td>\n",
       "      <td id=\"T_e1f13_row0_col11\" class=\"data row0 col11\" >-83.537817</td>\n",
       "    </tr>\n",
       "    <tr>\n",
       "      <th id=\"T_e1f13_level0_row1\" class=\"row_heading level0 row1\" >1</th>\n",
       "      <td id=\"T_e1f13_row1_col0\" class=\"data row1 col0\" >Advanced Application Consulting</td>\n",
       "      <td id=\"T_e1f13_row1_col1\" class=\"data row1 col1\" >89315</td>\n",
       "      <td id=\"T_e1f13_row1_col2\" class=\"data row1 col2\" >2.000000</td>\n",
       "      <td id=\"T_e1f13_row1_col3\" class=\"data row1 col3\" >retail</td>\n",
       "      <td id=\"T_e1f13_row1_col4\" class=\"data row1 col4\" >46506</td>\n",
       "      <td id=\"T_e1f13_row1_col5\" class=\"data row1 col5\" >3246251142</td>\n",
       "      <td id=\"T_e1f13_row1_col6\" class=\"data row1 col6\" >starter_pack</td>\n",
       "      <td id=\"T_e1f13_row1_col7\" class=\"data row1 col7\" >Golden</td>\n",
       "      <td id=\"T_e1f13_row1_col8\" class=\"data row1 col8\" >CO</td>\n",
       "      <td id=\"T_e1f13_row1_col9\" class=\"data row1 col9\" >1</td>\n",
       "      <td id=\"T_e1f13_row1_col10\" class=\"data row1 col10\" >12.665620</td>\n",
       "      <td id=\"T_e1f13_row1_col11\" class=\"data row1 col11\" >nan</td>\n",
       "    </tr>\n",
       "    <tr>\n",
       "      <th id=\"T_e1f13_level0_row2\" class=\"row_heading level0 row2\" >2</th>\n",
       "      <td id=\"T_e1f13_row2_col0\" class=\"data row2 col0\" >Advanced Construction Net</td>\n",
       "      <td id=\"T_e1f13_row2_col1\" class=\"data row2 col1\" >290890</td>\n",
       "      <td id=\"T_e1f13_row2_col2\" class=\"data row2 col2\" >1.000000</td>\n",
       "      <td id=\"T_e1f13_row2_col3\" class=\"data row2 col3\" >telecom</td>\n",
       "      <td id=\"T_e1f13_row2_col4\" class=\"data row2 col4\" >5371</td>\n",
       "      <td id=\"T_e1f13_row2_col5\" class=\"data row2 col5\" >580268357</td>\n",
       "      <td id=\"T_e1f13_row2_col6\" class=\"data row2 col6\" >business_essentials</td>\n",
       "      <td id=\"T_e1f13_row2_col7\" class=\"data row2 col7\" >Portland</td>\n",
       "      <td id=\"T_e1f13_row2_col8\" class=\"data row2 col8\" >TX</td>\n",
       "      <td id=\"T_e1f13_row2_col9\" class=\"data row2 col9\" >0</td>\n",
       "      <td id=\"T_e1f13_row2_col10\" class=\"data row2 col10\" >27.881883</td>\n",
       "      <td id=\"T_e1f13_row2_col11\" class=\"data row2 col11\" >nan</td>\n",
       "    </tr>\n",
       "    <tr>\n",
       "      <th id=\"T_e1f13_level0_row3\" class=\"row_heading level0 row3\" >3</th>\n",
       "      <td id=\"T_e1f13_row3_col0\" class=\"data row3 col0\" >Advanced Consulting Net</td>\n",
       "      <td id=\"T_e1f13_row3_col1\" class=\"data row3 col1\" >22369</td>\n",
       "      <td id=\"T_e1f13_row3_col2\" class=\"data row3 col2\" >1.000000</td>\n",
       "      <td id=\"T_e1f13_row3_col3\" class=\"data row3 col3\" >manufacturing</td>\n",
       "      <td id=\"T_e1f13_row3_col4\" class=\"data row3 col4\" >224389</td>\n",
       "      <td id=\"T_e1f13_row3_col5\" class=\"data row3 col5\" >20591295545</td>\n",
       "      <td id=\"T_e1f13_row3_col6\" class=\"data row3 col6\" >starter_pack</td>\n",
       "      <td id=\"T_e1f13_row3_col7\" class=\"data row3 col7\" >Springtown</td>\n",
       "      <td id=\"T_e1f13_row3_col8\" class=\"data row3 col8\" >PA</td>\n",
       "      <td id=\"T_e1f13_row3_col9\" class=\"data row3 col9\" >1</td>\n",
       "      <td id=\"T_e1f13_row3_col10\" class=\"data row3 col10\" >40.556489</td>\n",
       "      <td id=\"T_e1f13_row3_col11\" class=\"data row3 col11\" >nan</td>\n",
       "    </tr>\n",
       "    <tr>\n",
       "      <th id=\"T_e1f13_level0_row4\" class=\"row_heading level0 row4\" >4</th>\n",
       "      <td id=\"T_e1f13_row4_col0\" class=\"data row4 col0\" >Advanced Future Pacific</td>\n",
       "      <td id=\"T_e1f13_row4_col1\" class=\"data row4 col1\" >104154</td>\n",
       "      <td id=\"T_e1f13_row4_col2\" class=\"data row4 col2\" >2.000000</td>\n",
       "      <td id=\"T_e1f13_row4_col3\" class=\"data row4 col3\" >other</td>\n",
       "      <td id=\"T_e1f13_row4_col4\" class=\"data row4 col4\" >79230</td>\n",
       "      <td id=\"T_e1f13_row4_col5\" class=\"data row4 col5\" >4786179478</td>\n",
       "      <td id=\"T_e1f13_row4_col6\" class=\"data row4 col6\" >enterprise</td>\n",
       "      <td id=\"T_e1f13_row4_col7\" class=\"data row4 col7\" >Brunswick</td>\n",
       "      <td id=\"T_e1f13_row4_col8\" class=\"data row4 col8\" >NE</td>\n",
       "      <td id=\"T_e1f13_row4_col9\" class=\"data row4 col9\" >0</td>\n",
       "      <td id=\"T_e1f13_row4_col10\" class=\"data row4 col10\" >42.337469</td>\n",
       "      <td id=\"T_e1f13_row4_col11\" class=\"data row4 col11\" >-97.970608</td>\n",
       "    </tr>\n",
       "    <tr>\n",
       "      <th id=\"T_e1f13_level0_row5\" class=\"row_heading level0 row5\" >5</th>\n",
       "      <td id=\"T_e1f13_row5_col0\" class=\"data row5 col0\" >Advanced Future Pacific</td>\n",
       "      <td id=\"T_e1f13_row5_col1\" class=\"data row5 col1\" >424657</td>\n",
       "      <td id=\"T_e1f13_row5_col2\" class=\"data row5 col2\" >2.000000</td>\n",
       "      <td id=\"T_e1f13_row5_col3\" class=\"data row5 col3\" >other</td>\n",
       "      <td id=\"T_e1f13_row5_col4\" class=\"data row5 col4\" >79230</td>\n",
       "      <td id=\"T_e1f13_row5_col5\" class=\"data row5 col5\" >4786179478</td>\n",
       "      <td id=\"T_e1f13_row5_col6\" class=\"data row5 col6\" >starter_pack</td>\n",
       "      <td id=\"T_e1f13_row5_col7\" class=\"data row5 col7\" >Brunswick</td>\n",
       "      <td id=\"T_e1f13_row5_col8\" class=\"data row5 col8\" >NE</td>\n",
       "      <td id=\"T_e1f13_row5_col9\" class=\"data row5 col9\" >0</td>\n",
       "      <td id=\"T_e1f13_row5_col10\" class=\"data row5 col10\" >42.337469</td>\n",
       "      <td id=\"T_e1f13_row5_col11\" class=\"data row5 col11\" >-97.970608</td>\n",
       "    </tr>\n",
       "    <tr>\n",
       "      <th id=\"T_e1f13_level0_row6\" class=\"row_heading level0 row6\" >6</th>\n",
       "      <td id=\"T_e1f13_row6_col0\" class=\"data row6 col0\" >Advanced Future Pacific</td>\n",
       "      <td id=\"T_e1f13_row6_col1\" class=\"data row6 col1\" >181765</td>\n",
       "      <td id=\"T_e1f13_row6_col2\" class=\"data row6 col2\" >0.000000</td>\n",
       "      <td id=\"T_e1f13_row6_col3\" class=\"data row6 col3\" >other</td>\n",
       "      <td id=\"T_e1f13_row6_col4\" class=\"data row6 col4\" >79230</td>\n",
       "      <td id=\"T_e1f13_row6_col5\" class=\"data row6 col5\" >4786179478</td>\n",
       "      <td id=\"T_e1f13_row6_col6\" class=\"data row6 col6\" >starter_pack</td>\n",
       "      <td id=\"T_e1f13_row6_col7\" class=\"data row6 col7\" >Brunswick</td>\n",
       "      <td id=\"T_e1f13_row6_col8\" class=\"data row6 col8\" >NE</td>\n",
       "      <td id=\"T_e1f13_row6_col9\" class=\"data row6 col9\" >0</td>\n",
       "      <td id=\"T_e1f13_row6_col10\" class=\"data row6 col10\" >42.337469</td>\n",
       "      <td id=\"T_e1f13_row6_col11\" class=\"data row6 col11\" >-97.970608</td>\n",
       "    </tr>\n",
       "    <tr>\n",
       "      <th id=\"T_e1f13_level0_row7\" class=\"row_heading level0 row7\" >7</th>\n",
       "      <td id=\"T_e1f13_row7_col0\" class=\"data row7 col0\" >Advanced Innovation Federated</td>\n",
       "      <td id=\"T_e1f13_row7_col1\" class=\"data row7 col1\" >194413</td>\n",
       "      <td id=\"T_e1f13_row7_col2\" class=\"data row7 col2\" >2.000000</td>\n",
       "      <td id=\"T_e1f13_row7_col3\" class=\"data row7 col3\" >telecom</td>\n",
       "      <td id=\"T_e1f13_row7_col4\" class=\"data row7 col4\" >222709</td>\n",
       "      <td id=\"T_e1f13_row7_col5\" class=\"data row7 col5\" >28549495408</td>\n",
       "      <td id=\"T_e1f13_row7_col6\" class=\"data row7 col6\" >starter_pack</td>\n",
       "      <td id=\"T_e1f13_row7_col7\" class=\"data row7 col7\" >Akron</td>\n",
       "      <td id=\"T_e1f13_row7_col8\" class=\"data row7 col8\" >OH</td>\n",
       "      <td id=\"T_e1f13_row7_col9\" class=\"data row7 col9\" >1</td>\n",
       "      <td id=\"T_e1f13_row7_col10\" class=\"data row7 col10\" >41.083064</td>\n",
       "      <td id=\"T_e1f13_row7_col11\" class=\"data row7 col11\" >-81.518485</td>\n",
       "    </tr>\n",
       "    <tr>\n",
       "      <th id=\"T_e1f13_level0_row8\" class=\"row_heading level0 row8\" >8</th>\n",
       "      <td id=\"T_e1f13_row8_col0\" class=\"data row8 col0\" >Advanced Network Medicine</td>\n",
       "      <td id=\"T_e1f13_row8_col1\" class=\"data row8 col1\" >57022</td>\n",
       "      <td id=\"T_e1f13_row8_col2\" class=\"data row8 col2\" >2.000000</td>\n",
       "      <td id=\"T_e1f13_row8_col3\" class=\"data row8 col3\" >manufacturing</td>\n",
       "      <td id=\"T_e1f13_row8_col4\" class=\"data row8 col4\" >58299</td>\n",
       "      <td id=\"T_e1f13_row8_col5\" class=\"data row8 col5\" >6041523250</td>\n",
       "      <td id=\"T_e1f13_row8_col6\" class=\"data row8 col6\" >starter_pack</td>\n",
       "      <td id=\"T_e1f13_row8_col7\" class=\"data row8 col7\" >West Mineral</td>\n",
       "      <td id=\"T_e1f13_row8_col8\" class=\"data row8 col8\" >KS</td>\n",
       "      <td id=\"T_e1f13_row8_col9\" class=\"data row8 col9\" >1</td>\n",
       "      <td id=\"T_e1f13_row8_col10\" class=\"data row8 col10\" >37.284225</td>\n",
       "      <td id=\"T_e1f13_row8_col11\" class=\"data row8 col11\" >-94.923018</td>\n",
       "    </tr>\n",
       "    <tr>\n",
       "      <th id=\"T_e1f13_level0_row9\" class=\"row_heading level0 row9\" >9</th>\n",
       "      <td id=\"T_e1f13_row9_col0\" class=\"data row9 col0\" >Advanced Omega</td>\n",
       "      <td id=\"T_e1f13_row9_col1\" class=\"data row9 col1\" >99865</td>\n",
       "      <td id=\"T_e1f13_row9_col2\" class=\"data row9 col2\" >3.000000</td>\n",
       "      <td id=\"T_e1f13_row9_col3\" class=\"data row9 col3\" >financial services</td>\n",
       "      <td id=\"T_e1f13_row9_col4\" class=\"data row9 col4\" >159844</td>\n",
       "      <td id=\"T_e1f13_row9_col5\" class=\"data row9 col5\" >23454823203</td>\n",
       "      <td id=\"T_e1f13_row9_col6\" class=\"data row9 col6\" >business_essentials</td>\n",
       "      <td id=\"T_e1f13_row9_col7\" class=\"data row9 col7\" >Maitland</td>\n",
       "      <td id=\"T_e1f13_row9_col8\" class=\"data row9 col8\" >MO</td>\n",
       "      <td id=\"T_e1f13_row9_col9\" class=\"data row9 col9\" >0</td>\n",
       "      <td id=\"T_e1f13_row9_col10\" class=\"data row9 col10\" >40.200826</td>\n",
       "      <td id=\"T_e1f13_row9_col11\" class=\"data row9 col11\" >-95.074419</td>\n",
       "    </tr>\n",
       "    <tr>\n",
       "      <th id=\"T_e1f13_level0_row10\" class=\"row_heading level0 row10\" >10</th>\n",
       "      <td id=\"T_e1f13_row10_col0\" class=\"data row10 col0\" >Advanced Omega</td>\n",
       "      <td id=\"T_e1f13_row10_col1\" class=\"data row10 col1\" >227381</td>\n",
       "      <td id=\"T_e1f13_row10_col2\" class=\"data row10 col2\" >2.000000</td>\n",
       "      <td id=\"T_e1f13_row10_col3\" class=\"data row10 col3\" >financial services</td>\n",
       "      <td id=\"T_e1f13_row10_col4\" class=\"data row10 col4\" >159844</td>\n",
       "      <td id=\"T_e1f13_row10_col5\" class=\"data row10 col5\" >23454823203</td>\n",
       "      <td id=\"T_e1f13_row10_col6\" class=\"data row10 col6\" >business_essentials</td>\n",
       "      <td id=\"T_e1f13_row10_col7\" class=\"data row10 col7\" >Maitland</td>\n",
       "      <td id=\"T_e1f13_row10_col8\" class=\"data row10 col8\" >MO</td>\n",
       "      <td id=\"T_e1f13_row10_col9\" class=\"data row10 col9\" >0</td>\n",
       "      <td id=\"T_e1f13_row10_col10\" class=\"data row10 col10\" >40.200826</td>\n",
       "      <td id=\"T_e1f13_row10_col11\" class=\"data row10 col11\" >-95.074419</td>\n",
       "    </tr>\n",
       "    <tr>\n",
       "      <th id=\"T_e1f13_level0_row11\" class=\"row_heading level0 row11\" >11</th>\n",
       "      <td id=\"T_e1f13_row11_col0\" class=\"data row11 col0\" >Advanced Signal Electronic</td>\n",
       "      <td id=\"T_e1f13_row11_col1\" class=\"data row11 col1\" >193454</td>\n",
       "      <td id=\"T_e1f13_row11_col2\" class=\"data row11 col2\" >0.000000</td>\n",
       "      <td id=\"T_e1f13_row11_col3\" class=\"data row11 col3\" >healthcare</td>\n",
       "      <td id=\"T_e1f13_row11_col4\" class=\"data row11 col4\" >83570</td>\n",
       "      <td id=\"T_e1f13_row11_col5\" class=\"data row11 col5\" >8523755629</td>\n",
       "      <td id=\"T_e1f13_row11_col6\" class=\"data row11 col6\" >enterprise</td>\n",
       "      <td id=\"T_e1f13_row11_col7\" class=\"data row11 col7\" >Seattle</td>\n",
       "      <td id=\"T_e1f13_row11_col8\" class=\"data row11 col8\" >WA</td>\n",
       "      <td id=\"T_e1f13_row11_col9\" class=\"data row11 col9\" >1</td>\n",
       "      <td id=\"T_e1f13_row11_col10\" class=\"data row11 col10\" >47.603832</td>\n",
       "      <td id=\"T_e1f13_row11_col11\" class=\"data row11 col11\" >-122.330062</td>\n",
       "    </tr>\n",
       "    <tr>\n",
       "      <th id=\"T_e1f13_level0_row12\" class=\"row_heading level0 row12\" >12</th>\n",
       "      <td id=\"T_e1f13_row12_col0\" class=\"data row12 col0\" >Advanced Software Net</td>\n",
       "      <td id=\"T_e1f13_row12_col1\" class=\"data row12 col1\" >282127</td>\n",
       "      <td id=\"T_e1f13_row12_col2\" class=\"data row12 col2\" >1.000000</td>\n",
       "      <td id=\"T_e1f13_row12_col3\" class=\"data row12 col3\" >manufacturing</td>\n",
       "      <td id=\"T_e1f13_row12_col4\" class=\"data row12 col4\" >48665</td>\n",
       "      <td id=\"T_e1f13_row12_col5\" class=\"data row12 col5\" >3764544958</td>\n",
       "      <td id=\"T_e1f13_row12_col6\" class=\"data row12 col6\" >starter_pack</td>\n",
       "      <td id=\"T_e1f13_row12_col7\" class=\"data row12 col7\" >Elkins Park</td>\n",
       "      <td id=\"T_e1f13_row12_col8\" class=\"data row12 col8\" >PA</td>\n",
       "      <td id=\"T_e1f13_row12_col9\" class=\"data row12 col9\" >1</td>\n",
       "      <td id=\"T_e1f13_row12_col10\" class=\"data row12 col10\" >40.077055</td>\n",
       "      <td id=\"T_e1f13_row12_col11\" class=\"data row12 col11\" >-75.126841</td>\n",
       "    </tr>\n",
       "    <tr>\n",
       "      <th id=\"T_e1f13_level0_row13\" class=\"row_heading level0 row13\" >13</th>\n",
       "      <td id=\"T_e1f13_row13_col0\" class=\"data row13 col0\" >Advanced Speed West</td>\n",
       "      <td id=\"T_e1f13_row13_col1\" class=\"data row13 col1\" >145546</td>\n",
       "      <td id=\"T_e1f13_row13_col2\" class=\"data row13 col2\" >3.000000</td>\n",
       "      <td id=\"T_e1f13_row13_col3\" class=\"data row13 col3\" >other</td>\n",
       "      <td id=\"T_e1f13_row13_col4\" class=\"data row13 col4\" >210252</td>\n",
       "      <td id=\"T_e1f13_row13_col5\" class=\"data row13 col5\" >9336351167</td>\n",
       "      <td id=\"T_e1f13_row13_col6\" class=\"data row13 col6\" >enterprise</td>\n",
       "      <td id=\"T_e1f13_row13_col7\" class=\"data row13 col7\" >Murfreesboro</td>\n",
       "      <td id=\"T_e1f13_row13_col8\" class=\"data row13 col8\" >TN</td>\n",
       "      <td id=\"T_e1f13_row13_col9\" class=\"data row13 col9\" >0</td>\n",
       "      <td id=\"T_e1f13_row13_col10\" class=\"data row13 col10\" >35.846040</td>\n",
       "      <td id=\"T_e1f13_row13_col11\" class=\"data row13 col11\" >nan</td>\n",
       "    </tr>\n",
       "    <tr>\n",
       "      <th id=\"T_e1f13_level0_row14\" class=\"row_heading level0 row14\" >14</th>\n",
       "      <td id=\"T_e1f13_row14_col0\" class=\"data row14 col0\" >Advanced Speed West</td>\n",
       "      <td id=\"T_e1f13_row14_col1\" class=\"data row14 col1\" >204048</td>\n",
       "      <td id=\"T_e1f13_row14_col2\" class=\"data row14 col2\" >0.000000</td>\n",
       "      <td id=\"T_e1f13_row14_col3\" class=\"data row14 col3\" >other</td>\n",
       "      <td id=\"T_e1f13_row14_col4\" class=\"data row14 col4\" >210252</td>\n",
       "      <td id=\"T_e1f13_row14_col5\" class=\"data row14 col5\" >9336351167</td>\n",
       "      <td id=\"T_e1f13_row14_col6\" class=\"data row14 col6\" >enterprise</td>\n",
       "      <td id=\"T_e1f13_row14_col7\" class=\"data row14 col7\" >Murfreesboro</td>\n",
       "      <td id=\"T_e1f13_row14_col8\" class=\"data row14 col8\" >TN</td>\n",
       "      <td id=\"T_e1f13_row14_col9\" class=\"data row14 col9\" >0</td>\n",
       "      <td id=\"T_e1f13_row14_col10\" class=\"data row14 col10\" >35.846040</td>\n",
       "      <td id=\"T_e1f13_row14_col11\" class=\"data row14 col11\" >nan</td>\n",
       "    </tr>\n",
       "    <tr>\n",
       "      <th id=\"T_e1f13_level0_row15\" class=\"row_heading level0 row15\" >15</th>\n",
       "      <td id=\"T_e1f13_row15_col0\" class=\"data row15 col0\" >Advanced Star Studio</td>\n",
       "      <td id=\"T_e1f13_row15_col1\" class=\"data row15 col1\" >156081</td>\n",
       "      <td id=\"T_e1f13_row15_col2\" class=\"data row15 col2\" >2.000000</td>\n",
       "      <td id=\"T_e1f13_row15_col3\" class=\"data row15 col3\" >insurance</td>\n",
       "      <td id=\"T_e1f13_row15_col4\" class=\"data row15 col4\" >160356</td>\n",
       "      <td id=\"T_e1f13_row15_col5\" class=\"data row15 col5\" >19869633445</td>\n",
       "      <td id=\"T_e1f13_row15_col6\" class=\"data row15 col6\" >business_essentials</td>\n",
       "      <td id=\"T_e1f13_row15_col7\" class=\"data row15 col7\" >Tampa</td>\n",
       "      <td id=\"T_e1f13_row15_col8\" class=\"data row15 col8\" >FL</td>\n",
       "      <td id=\"T_e1f13_row15_col9\" class=\"data row15 col9\" >1</td>\n",
       "      <td id=\"T_e1f13_row15_col10\" class=\"data row15 col10\" >27.947760</td>\n",
       "      <td id=\"T_e1f13_row15_col11\" class=\"data row15 col11\" >-82.458444</td>\n",
       "    </tr>\n",
       "    <tr>\n",
       "      <th id=\"T_e1f13_level0_row16\" class=\"row_heading level0 row16\" >16</th>\n",
       "      <td id=\"T_e1f13_row16_col0\" class=\"data row16 col0\" >Advanced Studio Solutions</td>\n",
       "      <td id=\"T_e1f13_row16_col1\" class=\"data row16 col1\" >106677</td>\n",
       "      <td id=\"T_e1f13_row16_col2\" class=\"data row16 col2\" >2.000000</td>\n",
       "      <td id=\"T_e1f13_row16_col3\" class=\"data row16 col3\" >telecom</td>\n",
       "      <td id=\"T_e1f13_row16_col4\" class=\"data row16 col4\" >64077</td>\n",
       "      <td id=\"T_e1f13_row16_col5\" class=\"data row16 col5\" >4607600682</td>\n",
       "      <td id=\"T_e1f13_row16_col6\" class=\"data row16 col6\" >starter_pack</td>\n",
       "      <td id=\"T_e1f13_row16_col7\" class=\"data row16 col7\" >Paxton</td>\n",
       "      <td id=\"T_e1f13_row16_col8\" class=\"data row16 col8\" >IL</td>\n",
       "      <td id=\"T_e1f13_row16_col9\" class=\"data row16 col9\" >0</td>\n",
       "      <td id=\"T_e1f13_row16_col10\" class=\"data row16 col10\" >40.460313</td>\n",
       "      <td id=\"T_e1f13_row16_col11\" class=\"data row16 col11\" >-88.095320</td>\n",
       "    </tr>\n",
       "    <tr>\n",
       "      <th id=\"T_e1f13_level0_row17\" class=\"row_heading level0 row17\" >17</th>\n",
       "      <td id=\"T_e1f13_row17_col0\" class=\"data row17 col0\" >Advanced Venture Vision</td>\n",
       "      <td id=\"T_e1f13_row17_col1\" class=\"data row17 col1\" >84603</td>\n",
       "      <td id=\"T_e1f13_row17_col2\" class=\"data row17 col2\" >3.000000</td>\n",
       "      <td id=\"T_e1f13_row17_col3\" class=\"data row17 col3\" >insurance</td>\n",
       "      <td id=\"T_e1f13_row17_col4\" class=\"data row17 col4\" >117994</td>\n",
       "      <td id=\"T_e1f13_row17_col5\" class=\"data row17 col5\" >11164532803</td>\n",
       "      <td id=\"T_e1f13_row17_col6\" class=\"data row17 col6\" >business_essentials</td>\n",
       "      <td id=\"T_e1f13_row17_col7\" class=\"data row17 col7\" >Lynnville</td>\n",
       "      <td id=\"T_e1f13_row17_col8\" class=\"data row17 col8\" >KY</td>\n",
       "      <td id=\"T_e1f13_row17_col9\" class=\"data row17 col9\" >0</td>\n",
       "      <td id=\"T_e1f13_row17_col10\" class=\"data row17 col10\" >36.560336</td>\n",
       "      <td id=\"T_e1f13_row17_col11\" class=\"data row17 col11\" >nan</td>\n",
       "    </tr>\n",
       "    <tr>\n",
       "      <th id=\"T_e1f13_level0_row18\" class=\"row_heading level0 row18\" >18</th>\n",
       "      <td id=\"T_e1f13_row18_col0\" class=\"data row18 col0\" >Advanced Venture Vision</td>\n",
       "      <td id=\"T_e1f13_row18_col1\" class=\"data row18 col1\" >109640</td>\n",
       "      <td id=\"T_e1f13_row18_col2\" class=\"data row18 col2\" >2.000000</td>\n",
       "      <td id=\"T_e1f13_row18_col3\" class=\"data row18 col3\" >insurance</td>\n",
       "      <td id=\"T_e1f13_row18_col4\" class=\"data row18 col4\" >117994</td>\n",
       "      <td id=\"T_e1f13_row18_col5\" class=\"data row18 col5\" >11164532803</td>\n",
       "      <td id=\"T_e1f13_row18_col6\" class=\"data row18 col6\" >starter_pack</td>\n",
       "      <td id=\"T_e1f13_row18_col7\" class=\"data row18 col7\" >Lynnville</td>\n",
       "      <td id=\"T_e1f13_row18_col8\" class=\"data row18 col8\" >KY</td>\n",
       "      <td id=\"T_e1f13_row18_col9\" class=\"data row18 col9\" >0</td>\n",
       "      <td id=\"T_e1f13_row18_col10\" class=\"data row18 col10\" >36.560336</td>\n",
       "      <td id=\"T_e1f13_row18_col11\" class=\"data row18 col11\" >nan</td>\n",
       "    </tr>\n",
       "    <tr>\n",
       "      <th id=\"T_e1f13_level0_row19\" class=\"row_heading level0 row19\" >19</th>\n",
       "      <td id=\"T_e1f13_row19_col0\" class=\"data row19 col0\" >Advanced Venture Vision</td>\n",
       "      <td id=\"T_e1f13_row19_col1\" class=\"data row19 col1\" >127412</td>\n",
       "      <td id=\"T_e1f13_row19_col2\" class=\"data row19 col2\" >3.000000</td>\n",
       "      <td id=\"T_e1f13_row19_col3\" class=\"data row19 col3\" >insurance</td>\n",
       "      <td id=\"T_e1f13_row19_col4\" class=\"data row19 col4\" >117994</td>\n",
       "      <td id=\"T_e1f13_row19_col5\" class=\"data row19 col5\" >11164532803</td>\n",
       "      <td id=\"T_e1f13_row19_col6\" class=\"data row19 col6\" >enterprise</td>\n",
       "      <td id=\"T_e1f13_row19_col7\" class=\"data row19 col7\" >Lynnville</td>\n",
       "      <td id=\"T_e1f13_row19_col8\" class=\"data row19 col8\" >KY</td>\n",
       "      <td id=\"T_e1f13_row19_col9\" class=\"data row19 col9\" >0</td>\n",
       "      <td id=\"T_e1f13_row19_col10\" class=\"data row19 col10\" >36.560336</td>\n",
       "      <td id=\"T_e1f13_row19_col11\" class=\"data row19 col11\" >nan</td>\n",
       "    </tr>\n",
       "    <tr>\n",
       "      <th id=\"T_e1f13_level0_row20\" class=\"row_heading level0 row20\" >20</th>\n",
       "      <td id=\"T_e1f13_row20_col0\" class=\"data row20 col0\" >Advanced Virtual Electronic</td>\n",
       "      <td id=\"T_e1f13_row20_col1\" class=\"data row20 col1\" >254559</td>\n",
       "      <td id=\"T_e1f13_row20_col2\" class=\"data row20 col2\" >2.000000</td>\n",
       "      <td id=\"T_e1f13_row20_col3\" class=\"data row20 col3\" >insurance</td>\n",
       "      <td id=\"T_e1f13_row20_col4\" class=\"data row20 col4\" >168192</td>\n",
       "      <td id=\"T_e1f13_row20_col5\" class=\"data row20 col5\" >15208385777</td>\n",
       "      <td id=\"T_e1f13_row20_col6\" class=\"data row20 col6\" >enterprise</td>\n",
       "      <td id=\"T_e1f13_row20_col7\" class=\"data row20 col7\" >Stoneham</td>\n",
       "      <td id=\"T_e1f13_row20_col8\" class=\"data row20 col8\" >ME</td>\n",
       "      <td id=\"T_e1f13_row20_col9\" class=\"data row20 col9\" >0</td>\n",
       "      <td id=\"T_e1f13_row20_col10\" class=\"data row20 col10\" >44.280113</td>\n",
       "      <td id=\"T_e1f13_row20_col11\" class=\"data row20 col11\" >-70.895119</td>\n",
       "    </tr>\n",
       "  </tbody>\n",
       "</table>\n"
      ],
      "text/plain": [
       "<pandas.io.formats.style.Styler at 0x13e47b280>"
      ]
     },
     "execution_count": 1098,
     "metadata": {},
     "output_type": "execute_result"
    }
   ],
   "source": [
    "melted_sample = melted.loc[:, melted.columns.isin(cols_to_keep)][cols_to_keep]\n",
    "plot_overlaid_prediction_explanations(melted_sample, sample=21)"
   ]
  },
  {
   "cell_type": "markdown",
   "id": "6d552f54",
   "metadata": {},
   "source": [
    "## Let's look at how our features may have drifted over time"
   ]
  },
  {
   "cell_type": "code",
   "execution_count": 1042,
   "id": "4030ec95",
   "metadata": {},
   "outputs": [
    {
     "data": {
      "application/vnd.plotly.v1+json": {
       "config": {
        "plotlyServerURL": "https://plot.ly"
       },
       "data": [
        {
         "marker": {
          "color": "Black",
          "size": 6
         },
         "mode": "lines+markers",
         "name": "Average Actuals",
         "type": "scatter",
         "x": [
          "2020-01-01T00:00:00",
          "2020-02-01T00:00:00",
          "2020-03-01T00:00:00",
          "2020-04-01T00:00:00",
          "2020-05-01T00:00:00",
          "2020-06-01T00:00:00",
          "2020-07-01T00:00:00",
          "2020-08-01T00:00:00",
          "2020-09-01T00:00:00",
          "2020-10-01T00:00:00",
          "2020-11-01T00:00:00",
          "2020-12-01T00:00:00",
          "2021-01-01T00:00:00",
          "2021-02-01T00:00:00",
          "2021-03-01T00:00:00",
          "2021-04-01T00:00:00",
          "2021-05-01T00:00:00",
          "2021-06-01T00:00:00",
          "2021-07-01T00:00:00",
          "2021-08-01T00:00:00",
          "2021-09-01T00:00:00",
          "2021-10-01T00:00:00",
          "2021-11-01T00:00:00",
          "2021-12-01T00:00:00",
          "2022-01-01T00:00:00",
          "2022-02-01T00:00:00",
          "2022-03-01T00:00:00",
          "2022-04-01T00:00:00",
          "2022-05-01T00:00:00",
          "2022-06-01T00:00:00",
          "2022-07-01T00:00:00",
          "2022-08-01T00:00:00",
          "2022-09-01T00:00:00",
          "2022-10-01T00:00:00"
         ],
         "xaxis": "x",
         "y": [
          0.2826086956521739,
          0.4,
          0.3076923076923077,
          0.2571428571428571,
          0.2926829268292683,
          0.40476190476190477,
          0.15625,
          0.4166666666666667,
          0.4117647058823529,
          0.21621621621621623,
          0.3076923076923077,
          0.3939393939393939,
          0.32608695652173914,
          0.3125,
          0.4418604651162791,
          0.4418604651162791,
          0.2926829268292683,
          0.3333333333333333,
          0.32432432432432434,
          0.22580645161290322,
          0.3333333333333333,
          0.36363636363636365,
          0.5,
          0.3103448275862069,
          0.32432432432432434,
          0.46511627906976744,
          0.5142857142857142,
          0.5,
          0.3170731707317073,
          0.3611111111111111,
          0.40384615384615385,
          0.3076923076923077,
          0.4,
          0.45652173913043476
         ],
         "yaxis": "y2"
        },
        {
         "line": {
          "color": "lightblue",
          "width": 3
         },
         "mode": "lines+markers",
         "name": "25th Percentile",
         "type": "scatter",
         "x": [
          "2020-01-01T00:00:00",
          "2020-02-01T00:00:00",
          "2020-03-01T00:00:00",
          "2020-04-01T00:00:00",
          "2020-05-01T00:00:00",
          "2020-06-01T00:00:00",
          "2020-07-01T00:00:00",
          "2020-08-01T00:00:00",
          "2020-09-01T00:00:00",
          "2020-10-01T00:00:00",
          "2020-11-01T00:00:00",
          "2020-12-01T00:00:00",
          "2021-01-01T00:00:00",
          "2021-02-01T00:00:00",
          "2021-03-01T00:00:00",
          "2021-04-01T00:00:00",
          "2021-05-01T00:00:00",
          "2021-06-01T00:00:00",
          "2021-07-01T00:00:00",
          "2021-08-01T00:00:00",
          "2021-09-01T00:00:00",
          "2021-10-01T00:00:00",
          "2021-11-01T00:00:00",
          "2021-12-01T00:00:00",
          "2022-01-01T00:00:00",
          "2022-02-01T00:00:00",
          "2022-03-01T00:00:00",
          "2022-04-01T00:00:00",
          "2022-05-01T00:00:00",
          "2022-06-01T00:00:00",
          "2022-07-01T00:00:00",
          "2022-08-01T00:00:00",
          "2022-09-01T00:00:00",
          "2022-10-01T00:00:00"
         ],
         "y": [
          1,
          2,
          1,
          1,
          1,
          1,
          1,
          1,
          2,
          1,
          1,
          2,
          1,
          0.75,
          1,
          1,
          1,
          0,
          1,
          1,
          1,
          1,
          1,
          1,
          1,
          0,
          0,
          1,
          1,
          1,
          1,
          0,
          0,
          0
         ]
        },
        {
         "line": {
          "color": "blue",
          "width": 3
         },
         "mode": "lines+markers",
         "name": "50th Percentile",
         "type": "scatter",
         "x": [
          "2020-01-01T00:00:00",
          "2020-02-01T00:00:00",
          "2020-03-01T00:00:00",
          "2020-04-01T00:00:00",
          "2020-05-01T00:00:00",
          "2020-06-01T00:00:00",
          "2020-07-01T00:00:00",
          "2020-08-01T00:00:00",
          "2020-09-01T00:00:00",
          "2020-10-01T00:00:00",
          "2020-11-01T00:00:00",
          "2020-12-01T00:00:00",
          "2021-01-01T00:00:00",
          "2021-02-01T00:00:00",
          "2021-03-01T00:00:00",
          "2021-04-01T00:00:00",
          "2021-05-01T00:00:00",
          "2021-06-01T00:00:00",
          "2021-07-01T00:00:00",
          "2021-08-01T00:00:00",
          "2021-09-01T00:00:00",
          "2021-10-01T00:00:00",
          "2021-11-01T00:00:00",
          "2021-12-01T00:00:00",
          "2022-01-01T00:00:00",
          "2022-02-01T00:00:00",
          "2022-03-01T00:00:00",
          "2022-04-01T00:00:00",
          "2022-05-01T00:00:00",
          "2022-06-01T00:00:00",
          "2022-07-01T00:00:00",
          "2022-08-01T00:00:00",
          "2022-09-01T00:00:00",
          "2022-10-01T00:00:00"
         ],
         "y": [
          2,
          3,
          2,
          2,
          2,
          2,
          2,
          2,
          2,
          2,
          3,
          2,
          2,
          1.5,
          2,
          2,
          2,
          1,
          1,
          1,
          2,
          1,
          2,
          2,
          2,
          1,
          1,
          1,
          2,
          1,
          2,
          1,
          1,
          1
         ]
        },
        {
         "line": {
          "color": "blue",
          "dash": "dash",
          "width": 3
         },
         "mode": "lines+markers",
         "name": "Average",
         "type": "scatter",
         "x": [
          "2020-01-01T00:00:00",
          "2020-02-01T00:00:00",
          "2020-03-01T00:00:00",
          "2020-04-01T00:00:00",
          "2020-05-01T00:00:00",
          "2020-06-01T00:00:00",
          "2020-07-01T00:00:00",
          "2020-08-01T00:00:00",
          "2020-09-01T00:00:00",
          "2020-10-01T00:00:00",
          "2020-11-01T00:00:00",
          "2020-12-01T00:00:00",
          "2021-01-01T00:00:00",
          "2021-02-01T00:00:00",
          "2021-03-01T00:00:00",
          "2021-04-01T00:00:00",
          "2021-05-01T00:00:00",
          "2021-06-01T00:00:00",
          "2021-07-01T00:00:00",
          "2021-08-01T00:00:00",
          "2021-09-01T00:00:00",
          "2021-10-01T00:00:00",
          "2021-11-01T00:00:00",
          "2021-12-01T00:00:00",
          "2022-01-01T00:00:00",
          "2022-02-01T00:00:00",
          "2022-03-01T00:00:00",
          "2022-04-01T00:00:00",
          "2022-05-01T00:00:00",
          "2022-06-01T00:00:00",
          "2022-07-01T00:00:00",
          "2022-08-01T00:00:00",
          "2022-09-01T00:00:00",
          "2022-10-01T00:00:00"
         ],
         "y": [
          1.9130434782608696,
          2.6,
          2.019230769230769,
          2.2,
          1.9268292682926829,
          2.261904761904762,
          2,
          2.611111111111111,
          2.3823529411764706,
          1.7027027027027026,
          2.5128205128205128,
          2.606060606060606,
          2.1956521739130435,
          1.9375,
          1.8837209302325582,
          2.0697674418604652,
          2.048780487804878,
          1.3137254901960784,
          1.7297297297297298,
          1.5806451612903225,
          2.1666666666666665,
          1.8181818181818181,
          1.7619047619047619,
          1.5862068965517242,
          1.9189189189189189,
          1.302325581395349,
          1.542857142857143,
          1.5588235294117647,
          2.048780487804878,
          1.5555555555555556,
          1.6923076923076923,
          1.3846153846153846,
          1.457142857142857,
          1.3478260869565217
         ]
        },
        {
         "line": {
          "color": "lightblue",
          "width": 3
         },
         "mode": "lines+markers",
         "name": "75th Percentile",
         "type": "scatter",
         "x": [
          "2020-01-01T00:00:00",
          "2020-02-01T00:00:00",
          "2020-03-01T00:00:00",
          "2020-04-01T00:00:00",
          "2020-05-01T00:00:00",
          "2020-06-01T00:00:00",
          "2020-07-01T00:00:00",
          "2020-08-01T00:00:00",
          "2020-09-01T00:00:00",
          "2020-10-01T00:00:00",
          "2020-11-01T00:00:00",
          "2020-12-01T00:00:00",
          "2021-01-01T00:00:00",
          "2021-02-01T00:00:00",
          "2021-03-01T00:00:00",
          "2021-04-01T00:00:00",
          "2021-05-01T00:00:00",
          "2021-06-01T00:00:00",
          "2021-07-01T00:00:00",
          "2021-08-01T00:00:00",
          "2021-09-01T00:00:00",
          "2021-10-01T00:00:00",
          "2021-11-01T00:00:00",
          "2021-12-01T00:00:00",
          "2022-01-01T00:00:00",
          "2022-02-01T00:00:00",
          "2022-03-01T00:00:00",
          "2022-04-01T00:00:00",
          "2022-05-01T00:00:00",
          "2022-06-01T00:00:00",
          "2022-07-01T00:00:00",
          "2022-08-01T00:00:00",
          "2022-09-01T00:00:00",
          "2022-10-01T00:00:00"
         ],
         "y": [
          3,
          3,
          3,
          3,
          3,
          3,
          3,
          4,
          3,
          3,
          4,
          4,
          3,
          3,
          3,
          3,
          3,
          2,
          3,
          2,
          3,
          2.25,
          3,
          2,
          3,
          2,
          3,
          2,
          3,
          2,
          2,
          2,
          2,
          2
         ]
        }
       ],
       "layout": {
        "height": 500,
        "hoverlabel": {
         "bgcolor": "white",
         "font": {
          "family": "Rockwell",
          "size": 16
         },
         "namelength": -1
        },
        "legend": {
         "bgcolor": "rgba(255, 255, 255, 0)",
         "bordercolor": "rgba(255, 255, 255, 0)",
         "x": 1.1,
         "xanchor": "left",
         "y": 1,
         "yanchor": "top"
        },
        "plot_bgcolor": "rgba(0,0,0,0)",
        "showlegend": true,
        "template": {
         "data": {
          "bar": [
           {
            "error_x": {
             "color": "#2a3f5f"
            },
            "error_y": {
             "color": "#2a3f5f"
            },
            "marker": {
             "line": {
              "color": "#E5ECF6",
              "width": 0.5
             },
             "pattern": {
              "fillmode": "overlay",
              "size": 10,
              "solidity": 0.2
             }
            },
            "type": "bar"
           }
          ],
          "barpolar": [
           {
            "marker": {
             "line": {
              "color": "#E5ECF6",
              "width": 0.5
             },
             "pattern": {
              "fillmode": "overlay",
              "size": 10,
              "solidity": 0.2
             }
            },
            "type": "barpolar"
           }
          ],
          "carpet": [
           {
            "aaxis": {
             "endlinecolor": "#2a3f5f",
             "gridcolor": "white",
             "linecolor": "white",
             "minorgridcolor": "white",
             "startlinecolor": "#2a3f5f"
            },
            "baxis": {
             "endlinecolor": "#2a3f5f",
             "gridcolor": "white",
             "linecolor": "white",
             "minorgridcolor": "white",
             "startlinecolor": "#2a3f5f"
            },
            "type": "carpet"
           }
          ],
          "choropleth": [
           {
            "colorbar": {
             "outlinewidth": 0,
             "ticks": ""
            },
            "type": "choropleth"
           }
          ],
          "contour": [
           {
            "colorbar": {
             "outlinewidth": 0,
             "ticks": ""
            },
            "colorscale": [
             [
              0,
              "#0d0887"
             ],
             [
              0.1111111111111111,
              "#46039f"
             ],
             [
              0.2222222222222222,
              "#7201a8"
             ],
             [
              0.3333333333333333,
              "#9c179e"
             ],
             [
              0.4444444444444444,
              "#bd3786"
             ],
             [
              0.5555555555555556,
              "#d8576b"
             ],
             [
              0.6666666666666666,
              "#ed7953"
             ],
             [
              0.7777777777777778,
              "#fb9f3a"
             ],
             [
              0.8888888888888888,
              "#fdca26"
             ],
             [
              1,
              "#f0f921"
             ]
            ],
            "type": "contour"
           }
          ],
          "contourcarpet": [
           {
            "colorbar": {
             "outlinewidth": 0,
             "ticks": ""
            },
            "type": "contourcarpet"
           }
          ],
          "heatmap": [
           {
            "colorbar": {
             "outlinewidth": 0,
             "ticks": ""
            },
            "colorscale": [
             [
              0,
              "#0d0887"
             ],
             [
              0.1111111111111111,
              "#46039f"
             ],
             [
              0.2222222222222222,
              "#7201a8"
             ],
             [
              0.3333333333333333,
              "#9c179e"
             ],
             [
              0.4444444444444444,
              "#bd3786"
             ],
             [
              0.5555555555555556,
              "#d8576b"
             ],
             [
              0.6666666666666666,
              "#ed7953"
             ],
             [
              0.7777777777777778,
              "#fb9f3a"
             ],
             [
              0.8888888888888888,
              "#fdca26"
             ],
             [
              1,
              "#f0f921"
             ]
            ],
            "type": "heatmap"
           }
          ],
          "heatmapgl": [
           {
            "colorbar": {
             "outlinewidth": 0,
             "ticks": ""
            },
            "colorscale": [
             [
              0,
              "#0d0887"
             ],
             [
              0.1111111111111111,
              "#46039f"
             ],
             [
              0.2222222222222222,
              "#7201a8"
             ],
             [
              0.3333333333333333,
              "#9c179e"
             ],
             [
              0.4444444444444444,
              "#bd3786"
             ],
             [
              0.5555555555555556,
              "#d8576b"
             ],
             [
              0.6666666666666666,
              "#ed7953"
             ],
             [
              0.7777777777777778,
              "#fb9f3a"
             ],
             [
              0.8888888888888888,
              "#fdca26"
             ],
             [
              1,
              "#f0f921"
             ]
            ],
            "type": "heatmapgl"
           }
          ],
          "histogram": [
           {
            "marker": {
             "pattern": {
              "fillmode": "overlay",
              "size": 10,
              "solidity": 0.2
             }
            },
            "type": "histogram"
           }
          ],
          "histogram2d": [
           {
            "colorbar": {
             "outlinewidth": 0,
             "ticks": ""
            },
            "colorscale": [
             [
              0,
              "#0d0887"
             ],
             [
              0.1111111111111111,
              "#46039f"
             ],
             [
              0.2222222222222222,
              "#7201a8"
             ],
             [
              0.3333333333333333,
              "#9c179e"
             ],
             [
              0.4444444444444444,
              "#bd3786"
             ],
             [
              0.5555555555555556,
              "#d8576b"
             ],
             [
              0.6666666666666666,
              "#ed7953"
             ],
             [
              0.7777777777777778,
              "#fb9f3a"
             ],
             [
              0.8888888888888888,
              "#fdca26"
             ],
             [
              1,
              "#f0f921"
             ]
            ],
            "type": "histogram2d"
           }
          ],
          "histogram2dcontour": [
           {
            "colorbar": {
             "outlinewidth": 0,
             "ticks": ""
            },
            "colorscale": [
             [
              0,
              "#0d0887"
             ],
             [
              0.1111111111111111,
              "#46039f"
             ],
             [
              0.2222222222222222,
              "#7201a8"
             ],
             [
              0.3333333333333333,
              "#9c179e"
             ],
             [
              0.4444444444444444,
              "#bd3786"
             ],
             [
              0.5555555555555556,
              "#d8576b"
             ],
             [
              0.6666666666666666,
              "#ed7953"
             ],
             [
              0.7777777777777778,
              "#fb9f3a"
             ],
             [
              0.8888888888888888,
              "#fdca26"
             ],
             [
              1,
              "#f0f921"
             ]
            ],
            "type": "histogram2dcontour"
           }
          ],
          "mesh3d": [
           {
            "colorbar": {
             "outlinewidth": 0,
             "ticks": ""
            },
            "type": "mesh3d"
           }
          ],
          "parcoords": [
           {
            "line": {
             "colorbar": {
              "outlinewidth": 0,
              "ticks": ""
             }
            },
            "type": "parcoords"
           }
          ],
          "pie": [
           {
            "automargin": true,
            "type": "pie"
           }
          ],
          "scatter": [
           {
            "fillpattern": {
             "fillmode": "overlay",
             "size": 10,
             "solidity": 0.2
            },
            "type": "scatter"
           }
          ],
          "scatter3d": [
           {
            "line": {
             "colorbar": {
              "outlinewidth": 0,
              "ticks": ""
             }
            },
            "marker": {
             "colorbar": {
              "outlinewidth": 0,
              "ticks": ""
             }
            },
            "type": "scatter3d"
           }
          ],
          "scattercarpet": [
           {
            "marker": {
             "colorbar": {
              "outlinewidth": 0,
              "ticks": ""
             }
            },
            "type": "scattercarpet"
           }
          ],
          "scattergeo": [
           {
            "marker": {
             "colorbar": {
              "outlinewidth": 0,
              "ticks": ""
             }
            },
            "type": "scattergeo"
           }
          ],
          "scattergl": [
           {
            "marker": {
             "colorbar": {
              "outlinewidth": 0,
              "ticks": ""
             }
            },
            "type": "scattergl"
           }
          ],
          "scattermapbox": [
           {
            "marker": {
             "colorbar": {
              "outlinewidth": 0,
              "ticks": ""
             }
            },
            "type": "scattermapbox"
           }
          ],
          "scatterpolar": [
           {
            "marker": {
             "colorbar": {
              "outlinewidth": 0,
              "ticks": ""
             }
            },
            "type": "scatterpolar"
           }
          ],
          "scatterpolargl": [
           {
            "marker": {
             "colorbar": {
              "outlinewidth": 0,
              "ticks": ""
             }
            },
            "type": "scatterpolargl"
           }
          ],
          "scatterternary": [
           {
            "marker": {
             "colorbar": {
              "outlinewidth": 0,
              "ticks": ""
             }
            },
            "type": "scatterternary"
           }
          ],
          "surface": [
           {
            "colorbar": {
             "outlinewidth": 0,
             "ticks": ""
            },
            "colorscale": [
             [
              0,
              "#0d0887"
             ],
             [
              0.1111111111111111,
              "#46039f"
             ],
             [
              0.2222222222222222,
              "#7201a8"
             ],
             [
              0.3333333333333333,
              "#9c179e"
             ],
             [
              0.4444444444444444,
              "#bd3786"
             ],
             [
              0.5555555555555556,
              "#d8576b"
             ],
             [
              0.6666666666666666,
              "#ed7953"
             ],
             [
              0.7777777777777778,
              "#fb9f3a"
             ],
             [
              0.8888888888888888,
              "#fdca26"
             ],
             [
              1,
              "#f0f921"
             ]
            ],
            "type": "surface"
           }
          ],
          "table": [
           {
            "cells": {
             "fill": {
              "color": "#EBF0F8"
             },
             "line": {
              "color": "white"
             }
            },
            "header": {
             "fill": {
              "color": "#C8D4E3"
             },
             "line": {
              "color": "white"
             }
            },
            "type": "table"
           }
          ]
         },
         "layout": {
          "annotationdefaults": {
           "arrowcolor": "#2a3f5f",
           "arrowhead": 0,
           "arrowwidth": 1
          },
          "autotypenumbers": "strict",
          "coloraxis": {
           "colorbar": {
            "outlinewidth": 0,
            "ticks": ""
           }
          },
          "colorscale": {
           "diverging": [
            [
             0,
             "#8e0152"
            ],
            [
             0.1,
             "#c51b7d"
            ],
            [
             0.2,
             "#de77ae"
            ],
            [
             0.3,
             "#f1b6da"
            ],
            [
             0.4,
             "#fde0ef"
            ],
            [
             0.5,
             "#f7f7f7"
            ],
            [
             0.6,
             "#e6f5d0"
            ],
            [
             0.7,
             "#b8e186"
            ],
            [
             0.8,
             "#7fbc41"
            ],
            [
             0.9,
             "#4d9221"
            ],
            [
             1,
             "#276419"
            ]
           ],
           "sequential": [
            [
             0,
             "#0d0887"
            ],
            [
             0.1111111111111111,
             "#46039f"
            ],
            [
             0.2222222222222222,
             "#7201a8"
            ],
            [
             0.3333333333333333,
             "#9c179e"
            ],
            [
             0.4444444444444444,
             "#bd3786"
            ],
            [
             0.5555555555555556,
             "#d8576b"
            ],
            [
             0.6666666666666666,
             "#ed7953"
            ],
            [
             0.7777777777777778,
             "#fb9f3a"
            ],
            [
             0.8888888888888888,
             "#fdca26"
            ],
            [
             1,
             "#f0f921"
            ]
           ],
           "sequentialminus": [
            [
             0,
             "#0d0887"
            ],
            [
             0.1111111111111111,
             "#46039f"
            ],
            [
             0.2222222222222222,
             "#7201a8"
            ],
            [
             0.3333333333333333,
             "#9c179e"
            ],
            [
             0.4444444444444444,
             "#bd3786"
            ],
            [
             0.5555555555555556,
             "#d8576b"
            ],
            [
             0.6666666666666666,
             "#ed7953"
            ],
            [
             0.7777777777777778,
             "#fb9f3a"
            ],
            [
             0.8888888888888888,
             "#fdca26"
            ],
            [
             1,
             "#f0f921"
            ]
           ]
          },
          "colorway": [
           "#636efa",
           "#EF553B",
           "#00cc96",
           "#ab63fa",
           "#FFA15A",
           "#19d3f3",
           "#FF6692",
           "#B6E880",
           "#FF97FF",
           "#FECB52"
          ],
          "font": {
           "color": "#2a3f5f"
          },
          "geo": {
           "bgcolor": "white",
           "lakecolor": "white",
           "landcolor": "#E5ECF6",
           "showlakes": true,
           "showland": true,
           "subunitcolor": "white"
          },
          "hoverlabel": {
           "align": "left"
          },
          "hovermode": "closest",
          "mapbox": {
           "style": "light"
          },
          "paper_bgcolor": "white",
          "plot_bgcolor": "#E5ECF6",
          "polar": {
           "angularaxis": {
            "gridcolor": "white",
            "linecolor": "white",
            "ticks": ""
           },
           "bgcolor": "#E5ECF6",
           "radialaxis": {
            "gridcolor": "white",
            "linecolor": "white",
            "ticks": ""
           }
          },
          "scene": {
           "xaxis": {
            "backgroundcolor": "#E5ECF6",
            "gridcolor": "white",
            "gridwidth": 2,
            "linecolor": "white",
            "showbackground": true,
            "ticks": "",
            "zerolinecolor": "white"
           },
           "yaxis": {
            "backgroundcolor": "#E5ECF6",
            "gridcolor": "white",
            "gridwidth": 2,
            "linecolor": "white",
            "showbackground": true,
            "ticks": "",
            "zerolinecolor": "white"
           },
           "zaxis": {
            "backgroundcolor": "#E5ECF6",
            "gridcolor": "white",
            "gridwidth": 2,
            "linecolor": "white",
            "showbackground": true,
            "ticks": "",
            "zerolinecolor": "white"
           }
          },
          "shapedefaults": {
           "line": {
            "color": "#2a3f5f"
           }
          },
          "ternary": {
           "aaxis": {
            "gridcolor": "white",
            "linecolor": "white",
            "ticks": ""
           },
           "baxis": {
            "gridcolor": "white",
            "linecolor": "white",
            "ticks": ""
           },
           "bgcolor": "#E5ECF6",
           "caxis": {
            "gridcolor": "white",
            "linecolor": "white",
            "ticks": ""
           }
          },
          "title": {
           "x": 0.05
          },
          "xaxis": {
           "automargin": true,
           "gridcolor": "white",
           "linecolor": "white",
           "ticks": "",
           "title": {
            "standoff": 15
           },
           "zerolinecolor": "white",
           "zerolinewidth": 2
          },
          "yaxis": {
           "automargin": true,
           "gridcolor": "white",
           "linecolor": "white",
           "ticks": "",
           "title": {
            "standoff": 15
           },
           "zerolinecolor": "white",
           "zerolinewidth": 2
          }
         }
        },
        "xaxis": {
         "anchor": "y",
         "domain": [
          0,
          0.94
         ],
         "linecolor": "black",
         "linewidth": 1,
         "showline": true,
         "title": {
          "text": "Date"
         }
        },
        "yaxis": {
         "anchor": "x",
         "domain": [
          0,
          1
         ],
         "gridcolor": "lightgray",
         "gridwidth": 1,
         "linecolor": "black",
         "linewidth": 1,
         "showgrid": true,
         "showline": true,
         "title": {
          "text": "Product_Usage (1 month count)"
         }
        },
        "yaxis2": {
         "anchor": "x",
         "gridcolor": "lightgray",
         "gridwidth": 1,
         "linecolor": "black",
         "linewidth": 1,
         "overlaying": "y",
         "showgrid": true,
         "showline": true,
         "side": "right",
         "tickformat": ",.0%",
         "title": {
          "text": "Average Actuals"
         }
        }
       }
      },
      "text/html": [
       "<div>                            <div id=\"7ec55df1-c518-40c9-8847-bd67899b3908\" class=\"plotly-graph-div\" style=\"height:500px; width:100%;\"></div>            <script type=\"text/javascript\">                require([\"plotly\"], function(Plotly) {                    window.PLOTLYENV=window.PLOTLYENV || {};                                    if (document.getElementById(\"7ec55df1-c518-40c9-8847-bd67899b3908\")) {                    Plotly.newPlot(                        \"7ec55df1-c518-40c9-8847-bd67899b3908\",                        [{\"marker\":{\"color\":\"Black\",\"size\":6},\"mode\":\"lines+markers\",\"name\":\"Average Actuals\",\"x\":[\"2020-01-01T00:00:00\",\"2020-02-01T00:00:00\",\"2020-03-01T00:00:00\",\"2020-04-01T00:00:00\",\"2020-05-01T00:00:00\",\"2020-06-01T00:00:00\",\"2020-07-01T00:00:00\",\"2020-08-01T00:00:00\",\"2020-09-01T00:00:00\",\"2020-10-01T00:00:00\",\"2020-11-01T00:00:00\",\"2020-12-01T00:00:00\",\"2021-01-01T00:00:00\",\"2021-02-01T00:00:00\",\"2021-03-01T00:00:00\",\"2021-04-01T00:00:00\",\"2021-05-01T00:00:00\",\"2021-06-01T00:00:00\",\"2021-07-01T00:00:00\",\"2021-08-01T00:00:00\",\"2021-09-01T00:00:00\",\"2021-10-01T00:00:00\",\"2021-11-01T00:00:00\",\"2021-12-01T00:00:00\",\"2022-01-01T00:00:00\",\"2022-02-01T00:00:00\",\"2022-03-01T00:00:00\",\"2022-04-01T00:00:00\",\"2022-05-01T00:00:00\",\"2022-06-01T00:00:00\",\"2022-07-01T00:00:00\",\"2022-08-01T00:00:00\",\"2022-09-01T00:00:00\",\"2022-10-01T00:00:00\"],\"y\":[0.2826086956521739,0.4,0.3076923076923077,0.2571428571428571,0.2926829268292683,0.40476190476190477,0.15625,0.4166666666666667,0.4117647058823529,0.21621621621621623,0.3076923076923077,0.3939393939393939,0.32608695652173914,0.3125,0.4418604651162791,0.4418604651162791,0.2926829268292683,0.3333333333333333,0.32432432432432434,0.22580645161290322,0.3333333333333333,0.36363636363636365,0.5,0.3103448275862069,0.32432432432432434,0.46511627906976744,0.5142857142857142,0.5,0.3170731707317073,0.3611111111111111,0.40384615384615385,0.3076923076923077,0.4,0.45652173913043476],\"type\":\"scatter\",\"xaxis\":\"x\",\"yaxis\":\"y2\"},{\"line\":{\"color\":\"lightblue\",\"width\":3},\"mode\":\"lines+markers\",\"name\":\"25th Percentile\",\"x\":[\"2020-01-01T00:00:00\",\"2020-02-01T00:00:00\",\"2020-03-01T00:00:00\",\"2020-04-01T00:00:00\",\"2020-05-01T00:00:00\",\"2020-06-01T00:00:00\",\"2020-07-01T00:00:00\",\"2020-08-01T00:00:00\",\"2020-09-01T00:00:00\",\"2020-10-01T00:00:00\",\"2020-11-01T00:00:00\",\"2020-12-01T00:00:00\",\"2021-01-01T00:00:00\",\"2021-02-01T00:00:00\",\"2021-03-01T00:00:00\",\"2021-04-01T00:00:00\",\"2021-05-01T00:00:00\",\"2021-06-01T00:00:00\",\"2021-07-01T00:00:00\",\"2021-08-01T00:00:00\",\"2021-09-01T00:00:00\",\"2021-10-01T00:00:00\",\"2021-11-01T00:00:00\",\"2021-12-01T00:00:00\",\"2022-01-01T00:00:00\",\"2022-02-01T00:00:00\",\"2022-03-01T00:00:00\",\"2022-04-01T00:00:00\",\"2022-05-01T00:00:00\",\"2022-06-01T00:00:00\",\"2022-07-01T00:00:00\",\"2022-08-01T00:00:00\",\"2022-09-01T00:00:00\",\"2022-10-01T00:00:00\"],\"y\":[1.0,2.0,1.0,1.0,1.0,1.0,1.0,1.0,2.0,1.0,1.0,2.0,1.0,0.75,1.0,1.0,1.0,0.0,1.0,1.0,1.0,1.0,1.0,1.0,1.0,0.0,0.0,1.0,1.0,1.0,1.0,0.0,0.0,0.0],\"type\":\"scatter\"},{\"line\":{\"color\":\"blue\",\"width\":3},\"mode\":\"lines+markers\",\"name\":\"50th Percentile\",\"x\":[\"2020-01-01T00:00:00\",\"2020-02-01T00:00:00\",\"2020-03-01T00:00:00\",\"2020-04-01T00:00:00\",\"2020-05-01T00:00:00\",\"2020-06-01T00:00:00\",\"2020-07-01T00:00:00\",\"2020-08-01T00:00:00\",\"2020-09-01T00:00:00\",\"2020-10-01T00:00:00\",\"2020-11-01T00:00:00\",\"2020-12-01T00:00:00\",\"2021-01-01T00:00:00\",\"2021-02-01T00:00:00\",\"2021-03-01T00:00:00\",\"2021-04-01T00:00:00\",\"2021-05-01T00:00:00\",\"2021-06-01T00:00:00\",\"2021-07-01T00:00:00\",\"2021-08-01T00:00:00\",\"2021-09-01T00:00:00\",\"2021-10-01T00:00:00\",\"2021-11-01T00:00:00\",\"2021-12-01T00:00:00\",\"2022-01-01T00:00:00\",\"2022-02-01T00:00:00\",\"2022-03-01T00:00:00\",\"2022-04-01T00:00:00\",\"2022-05-01T00:00:00\",\"2022-06-01T00:00:00\",\"2022-07-01T00:00:00\",\"2022-08-01T00:00:00\",\"2022-09-01T00:00:00\",\"2022-10-01T00:00:00\"],\"y\":[2.0,3.0,2.0,2.0,2.0,2.0,2.0,2.0,2.0,2.0,3.0,2.0,2.0,1.5,2.0,2.0,2.0,1.0,1.0,1.0,2.0,1.0,2.0,2.0,2.0,1.0,1.0,1.0,2.0,1.0,2.0,1.0,1.0,1.0],\"type\":\"scatter\"},{\"line\":{\"color\":\"blue\",\"dash\":\"dash\",\"width\":3},\"mode\":\"lines+markers\",\"name\":\"Average\",\"x\":[\"2020-01-01T00:00:00\",\"2020-02-01T00:00:00\",\"2020-03-01T00:00:00\",\"2020-04-01T00:00:00\",\"2020-05-01T00:00:00\",\"2020-06-01T00:00:00\",\"2020-07-01T00:00:00\",\"2020-08-01T00:00:00\",\"2020-09-01T00:00:00\",\"2020-10-01T00:00:00\",\"2020-11-01T00:00:00\",\"2020-12-01T00:00:00\",\"2021-01-01T00:00:00\",\"2021-02-01T00:00:00\",\"2021-03-01T00:00:00\",\"2021-04-01T00:00:00\",\"2021-05-01T00:00:00\",\"2021-06-01T00:00:00\",\"2021-07-01T00:00:00\",\"2021-08-01T00:00:00\",\"2021-09-01T00:00:00\",\"2021-10-01T00:00:00\",\"2021-11-01T00:00:00\",\"2021-12-01T00:00:00\",\"2022-01-01T00:00:00\",\"2022-02-01T00:00:00\",\"2022-03-01T00:00:00\",\"2022-04-01T00:00:00\",\"2022-05-01T00:00:00\",\"2022-06-01T00:00:00\",\"2022-07-01T00:00:00\",\"2022-08-01T00:00:00\",\"2022-09-01T00:00:00\",\"2022-10-01T00:00:00\"],\"y\":[1.9130434782608696,2.6,2.019230769230769,2.2,1.9268292682926829,2.261904761904762,2.0,2.611111111111111,2.3823529411764706,1.7027027027027026,2.5128205128205128,2.606060606060606,2.1956521739130435,1.9375,1.8837209302325582,2.0697674418604652,2.048780487804878,1.3137254901960784,1.7297297297297298,1.5806451612903225,2.1666666666666665,1.8181818181818181,1.7619047619047619,1.5862068965517242,1.9189189189189189,1.302325581395349,1.542857142857143,1.5588235294117647,2.048780487804878,1.5555555555555556,1.6923076923076923,1.3846153846153846,1.457142857142857,1.3478260869565217],\"type\":\"scatter\"},{\"line\":{\"color\":\"lightblue\",\"width\":3},\"mode\":\"lines+markers\",\"name\":\"75th Percentile\",\"x\":[\"2020-01-01T00:00:00\",\"2020-02-01T00:00:00\",\"2020-03-01T00:00:00\",\"2020-04-01T00:00:00\",\"2020-05-01T00:00:00\",\"2020-06-01T00:00:00\",\"2020-07-01T00:00:00\",\"2020-08-01T00:00:00\",\"2020-09-01T00:00:00\",\"2020-10-01T00:00:00\",\"2020-11-01T00:00:00\",\"2020-12-01T00:00:00\",\"2021-01-01T00:00:00\",\"2021-02-01T00:00:00\",\"2021-03-01T00:00:00\",\"2021-04-01T00:00:00\",\"2021-05-01T00:00:00\",\"2021-06-01T00:00:00\",\"2021-07-01T00:00:00\",\"2021-08-01T00:00:00\",\"2021-09-01T00:00:00\",\"2021-10-01T00:00:00\",\"2021-11-01T00:00:00\",\"2021-12-01T00:00:00\",\"2022-01-01T00:00:00\",\"2022-02-01T00:00:00\",\"2022-03-01T00:00:00\",\"2022-04-01T00:00:00\",\"2022-05-01T00:00:00\",\"2022-06-01T00:00:00\",\"2022-07-01T00:00:00\",\"2022-08-01T00:00:00\",\"2022-09-01T00:00:00\",\"2022-10-01T00:00:00\"],\"y\":[3.0,3.0,3.0,3.0,3.0,3.0,3.0,4.0,3.0,3.0,4.0,4.0,3.0,3.0,3.0,3.0,3.0,2.0,3.0,2.0,3.0,2.25,3.0,2.0,3.0,2.0,3.0,2.0,3.0,2.0,2.0,2.0,2.0,2.0],\"type\":\"scatter\"}],                        {\"template\":{\"data\":{\"histogram2dcontour\":[{\"type\":\"histogram2dcontour\",\"colorbar\":{\"outlinewidth\":0,\"ticks\":\"\"},\"colorscale\":[[0.0,\"#0d0887\"],[0.1111111111111111,\"#46039f\"],[0.2222222222222222,\"#7201a8\"],[0.3333333333333333,\"#9c179e\"],[0.4444444444444444,\"#bd3786\"],[0.5555555555555556,\"#d8576b\"],[0.6666666666666666,\"#ed7953\"],[0.7777777777777778,\"#fb9f3a\"],[0.8888888888888888,\"#fdca26\"],[1.0,\"#f0f921\"]]}],\"choropleth\":[{\"type\":\"choropleth\",\"colorbar\":{\"outlinewidth\":0,\"ticks\":\"\"}}],\"histogram2d\":[{\"type\":\"histogram2d\",\"colorbar\":{\"outlinewidth\":0,\"ticks\":\"\"},\"colorscale\":[[0.0,\"#0d0887\"],[0.1111111111111111,\"#46039f\"],[0.2222222222222222,\"#7201a8\"],[0.3333333333333333,\"#9c179e\"],[0.4444444444444444,\"#bd3786\"],[0.5555555555555556,\"#d8576b\"],[0.6666666666666666,\"#ed7953\"],[0.7777777777777778,\"#fb9f3a\"],[0.8888888888888888,\"#fdca26\"],[1.0,\"#f0f921\"]]}],\"heatmap\":[{\"type\":\"heatmap\",\"colorbar\":{\"outlinewidth\":0,\"ticks\":\"\"},\"colorscale\":[[0.0,\"#0d0887\"],[0.1111111111111111,\"#46039f\"],[0.2222222222222222,\"#7201a8\"],[0.3333333333333333,\"#9c179e\"],[0.4444444444444444,\"#bd3786\"],[0.5555555555555556,\"#d8576b\"],[0.6666666666666666,\"#ed7953\"],[0.7777777777777778,\"#fb9f3a\"],[0.8888888888888888,\"#fdca26\"],[1.0,\"#f0f921\"]]}],\"heatmapgl\":[{\"type\":\"heatmapgl\",\"colorbar\":{\"outlinewidth\":0,\"ticks\":\"\"},\"colorscale\":[[0.0,\"#0d0887\"],[0.1111111111111111,\"#46039f\"],[0.2222222222222222,\"#7201a8\"],[0.3333333333333333,\"#9c179e\"],[0.4444444444444444,\"#bd3786\"],[0.5555555555555556,\"#d8576b\"],[0.6666666666666666,\"#ed7953\"],[0.7777777777777778,\"#fb9f3a\"],[0.8888888888888888,\"#fdca26\"],[1.0,\"#f0f921\"]]}],\"contourcarpet\":[{\"type\":\"contourcarpet\",\"colorbar\":{\"outlinewidth\":0,\"ticks\":\"\"}}],\"contour\":[{\"type\":\"contour\",\"colorbar\":{\"outlinewidth\":0,\"ticks\":\"\"},\"colorscale\":[[0.0,\"#0d0887\"],[0.1111111111111111,\"#46039f\"],[0.2222222222222222,\"#7201a8\"],[0.3333333333333333,\"#9c179e\"],[0.4444444444444444,\"#bd3786\"],[0.5555555555555556,\"#d8576b\"],[0.6666666666666666,\"#ed7953\"],[0.7777777777777778,\"#fb9f3a\"],[0.8888888888888888,\"#fdca26\"],[1.0,\"#f0f921\"]]}],\"surface\":[{\"type\":\"surface\",\"colorbar\":{\"outlinewidth\":0,\"ticks\":\"\"},\"colorscale\":[[0.0,\"#0d0887\"],[0.1111111111111111,\"#46039f\"],[0.2222222222222222,\"#7201a8\"],[0.3333333333333333,\"#9c179e\"],[0.4444444444444444,\"#bd3786\"],[0.5555555555555556,\"#d8576b\"],[0.6666666666666666,\"#ed7953\"],[0.7777777777777778,\"#fb9f3a\"],[0.8888888888888888,\"#fdca26\"],[1.0,\"#f0f921\"]]}],\"mesh3d\":[{\"type\":\"mesh3d\",\"colorbar\":{\"outlinewidth\":0,\"ticks\":\"\"}}],\"scatter\":[{\"fillpattern\":{\"fillmode\":\"overlay\",\"size\":10,\"solidity\":0.2},\"type\":\"scatter\"}],\"parcoords\":[{\"type\":\"parcoords\",\"line\":{\"colorbar\":{\"outlinewidth\":0,\"ticks\":\"\"}}}],\"scatterpolargl\":[{\"type\":\"scatterpolargl\",\"marker\":{\"colorbar\":{\"outlinewidth\":0,\"ticks\":\"\"}}}],\"bar\":[{\"error_x\":{\"color\":\"#2a3f5f\"},\"error_y\":{\"color\":\"#2a3f5f\"},\"marker\":{\"line\":{\"color\":\"#E5ECF6\",\"width\":0.5},\"pattern\":{\"fillmode\":\"overlay\",\"size\":10,\"solidity\":0.2}},\"type\":\"bar\"}],\"scattergeo\":[{\"type\":\"scattergeo\",\"marker\":{\"colorbar\":{\"outlinewidth\":0,\"ticks\":\"\"}}}],\"scatterpolar\":[{\"type\":\"scatterpolar\",\"marker\":{\"colorbar\":{\"outlinewidth\":0,\"ticks\":\"\"}}}],\"histogram\":[{\"marker\":{\"pattern\":{\"fillmode\":\"overlay\",\"size\":10,\"solidity\":0.2}},\"type\":\"histogram\"}],\"scattergl\":[{\"type\":\"scattergl\",\"marker\":{\"colorbar\":{\"outlinewidth\":0,\"ticks\":\"\"}}}],\"scatter3d\":[{\"type\":\"scatter3d\",\"line\":{\"colorbar\":{\"outlinewidth\":0,\"ticks\":\"\"}},\"marker\":{\"colorbar\":{\"outlinewidth\":0,\"ticks\":\"\"}}}],\"scattermapbox\":[{\"type\":\"scattermapbox\",\"marker\":{\"colorbar\":{\"outlinewidth\":0,\"ticks\":\"\"}}}],\"scatterternary\":[{\"type\":\"scatterternary\",\"marker\":{\"colorbar\":{\"outlinewidth\":0,\"ticks\":\"\"}}}],\"scattercarpet\":[{\"type\":\"scattercarpet\",\"marker\":{\"colorbar\":{\"outlinewidth\":0,\"ticks\":\"\"}}}],\"carpet\":[{\"aaxis\":{\"endlinecolor\":\"#2a3f5f\",\"gridcolor\":\"white\",\"linecolor\":\"white\",\"minorgridcolor\":\"white\",\"startlinecolor\":\"#2a3f5f\"},\"baxis\":{\"endlinecolor\":\"#2a3f5f\",\"gridcolor\":\"white\",\"linecolor\":\"white\",\"minorgridcolor\":\"white\",\"startlinecolor\":\"#2a3f5f\"},\"type\":\"carpet\"}],\"table\":[{\"cells\":{\"fill\":{\"color\":\"#EBF0F8\"},\"line\":{\"color\":\"white\"}},\"header\":{\"fill\":{\"color\":\"#C8D4E3\"},\"line\":{\"color\":\"white\"}},\"type\":\"table\"}],\"barpolar\":[{\"marker\":{\"line\":{\"color\":\"#E5ECF6\",\"width\":0.5},\"pattern\":{\"fillmode\":\"overlay\",\"size\":10,\"solidity\":0.2}},\"type\":\"barpolar\"}],\"pie\":[{\"automargin\":true,\"type\":\"pie\"}]},\"layout\":{\"autotypenumbers\":\"strict\",\"colorway\":[\"#636efa\",\"#EF553B\",\"#00cc96\",\"#ab63fa\",\"#FFA15A\",\"#19d3f3\",\"#FF6692\",\"#B6E880\",\"#FF97FF\",\"#FECB52\"],\"font\":{\"color\":\"#2a3f5f\"},\"hovermode\":\"closest\",\"hoverlabel\":{\"align\":\"left\"},\"paper_bgcolor\":\"white\",\"plot_bgcolor\":\"#E5ECF6\",\"polar\":{\"bgcolor\":\"#E5ECF6\",\"angularaxis\":{\"gridcolor\":\"white\",\"linecolor\":\"white\",\"ticks\":\"\"},\"radialaxis\":{\"gridcolor\":\"white\",\"linecolor\":\"white\",\"ticks\":\"\"}},\"ternary\":{\"bgcolor\":\"#E5ECF6\",\"aaxis\":{\"gridcolor\":\"white\",\"linecolor\":\"white\",\"ticks\":\"\"},\"baxis\":{\"gridcolor\":\"white\",\"linecolor\":\"white\",\"ticks\":\"\"},\"caxis\":{\"gridcolor\":\"white\",\"linecolor\":\"white\",\"ticks\":\"\"}},\"coloraxis\":{\"colorbar\":{\"outlinewidth\":0,\"ticks\":\"\"}},\"colorscale\":{\"sequential\":[[0.0,\"#0d0887\"],[0.1111111111111111,\"#46039f\"],[0.2222222222222222,\"#7201a8\"],[0.3333333333333333,\"#9c179e\"],[0.4444444444444444,\"#bd3786\"],[0.5555555555555556,\"#d8576b\"],[0.6666666666666666,\"#ed7953\"],[0.7777777777777778,\"#fb9f3a\"],[0.8888888888888888,\"#fdca26\"],[1.0,\"#f0f921\"]],\"sequentialminus\":[[0.0,\"#0d0887\"],[0.1111111111111111,\"#46039f\"],[0.2222222222222222,\"#7201a8\"],[0.3333333333333333,\"#9c179e\"],[0.4444444444444444,\"#bd3786\"],[0.5555555555555556,\"#d8576b\"],[0.6666666666666666,\"#ed7953\"],[0.7777777777777778,\"#fb9f3a\"],[0.8888888888888888,\"#fdca26\"],[1.0,\"#f0f921\"]],\"diverging\":[[0,\"#8e0152\"],[0.1,\"#c51b7d\"],[0.2,\"#de77ae\"],[0.3,\"#f1b6da\"],[0.4,\"#fde0ef\"],[0.5,\"#f7f7f7\"],[0.6,\"#e6f5d0\"],[0.7,\"#b8e186\"],[0.8,\"#7fbc41\"],[0.9,\"#4d9221\"],[1,\"#276419\"]]},\"xaxis\":{\"gridcolor\":\"white\",\"linecolor\":\"white\",\"ticks\":\"\",\"title\":{\"standoff\":15},\"zerolinecolor\":\"white\",\"automargin\":true,\"zerolinewidth\":2},\"yaxis\":{\"gridcolor\":\"white\",\"linecolor\":\"white\",\"ticks\":\"\",\"title\":{\"standoff\":15},\"zerolinecolor\":\"white\",\"automargin\":true,\"zerolinewidth\":2},\"scene\":{\"xaxis\":{\"backgroundcolor\":\"#E5ECF6\",\"gridcolor\":\"white\",\"linecolor\":\"white\",\"showbackground\":true,\"ticks\":\"\",\"zerolinecolor\":\"white\",\"gridwidth\":2},\"yaxis\":{\"backgroundcolor\":\"#E5ECF6\",\"gridcolor\":\"white\",\"linecolor\":\"white\",\"showbackground\":true,\"ticks\":\"\",\"zerolinecolor\":\"white\",\"gridwidth\":2},\"zaxis\":{\"backgroundcolor\":\"#E5ECF6\",\"gridcolor\":\"white\",\"linecolor\":\"white\",\"showbackground\":true,\"ticks\":\"\",\"zerolinecolor\":\"white\",\"gridwidth\":2}},\"shapedefaults\":{\"line\":{\"color\":\"#2a3f5f\"}},\"annotationdefaults\":{\"arrowcolor\":\"#2a3f5f\",\"arrowhead\":0,\"arrowwidth\":1},\"geo\":{\"bgcolor\":\"white\",\"landcolor\":\"#E5ECF6\",\"subunitcolor\":\"white\",\"showland\":true,\"showlakes\":true,\"lakecolor\":\"white\"},\"title\":{\"x\":0.05},\"mapbox\":{\"style\":\"light\"}}},\"xaxis\":{\"anchor\":\"y\",\"domain\":[0.0,0.94],\"title\":{\"text\":\"Date\"},\"showline\":true,\"linewidth\":1,\"linecolor\":\"black\"},\"yaxis\":{\"anchor\":\"x\",\"domain\":[0.0,1.0],\"title\":{\"text\":\"Product_Usage (1 month count)\"},\"showline\":true,\"linewidth\":1,\"linecolor\":\"black\",\"showgrid\":true,\"gridwidth\":1,\"gridcolor\":\"lightgray\"},\"yaxis2\":{\"anchor\":\"x\",\"overlaying\":\"y\",\"side\":\"right\",\"title\":{\"text\":\"Average Actuals\"},\"showline\":true,\"linewidth\":1,\"linecolor\":\"black\",\"showgrid\":true,\"gridwidth\":1,\"gridcolor\":\"lightgray\",\"tickformat\":\",.0%\"},\"legend\":{\"bgcolor\":\"rgba(255, 255, 255, 0)\",\"bordercolor\":\"rgba(255, 255, 255, 0)\",\"x\":1.1,\"y\":1,\"xanchor\":\"left\",\"yanchor\":\"top\"},\"hoverlabel\":{\"font\":{\"size\":16,\"family\":\"Rockwell\"},\"bgcolor\":\"white\",\"namelength\":-1},\"height\":500,\"plot_bgcolor\":\"rgba(0,0,0,0)\",\"showlegend\":true},                        {\"responsive\": true}                    ).then(function(){\n",
       "                            \n",
       "var gd = document.getElementById('7ec55df1-c518-40c9-8847-bd67899b3908');\n",
       "var x = new MutationObserver(function (mutations, observer) {{\n",
       "        var display = window.getComputedStyle(gd).display;\n",
       "        if (!display || display === 'none') {{\n",
       "            console.log([gd, 'removed!']);\n",
       "            Plotly.purge(gd);\n",
       "            observer.disconnect();\n",
       "        }}\n",
       "}});\n",
       "\n",
       "// Listen for the removal of the full notebook cells\n",
       "var notebookContainer = gd.closest('#notebook-container');\n",
       "if (notebookContainer) {{\n",
       "    x.observe(notebookContainer, {childList: true});\n",
       "}}\n",
       "\n",
       "// Listen for the clearing of the current output cell\n",
       "var outputEl = gd.closest('.output');\n",
       "if (outputEl) {{\n",
       "    x.observe(outputEl, {childList: true});\n",
       "}}\n",
       "\n",
       "                        })                };                });            </script>        </div>"
      ]
     },
     "metadata": {},
     "output_type": "display_data"
    }
   ],
   "source": [
    "plot_values_over_time(\n",
    "    melted, \n",
    "    project_id=project_id,\n",
    "    freq='MS',\n",
    "    date_col=date_col, \n",
    "    feature='Product_Usage (1 month count)',\n",
    "    class_type='actuals',\n",
    "    showlegend=True,\n",
    ")"
   ]
  },
  {
   "cell_type": "code",
   "execution_count": 1100,
   "id": "3c84d76f",
   "metadata": {},
   "outputs": [
    {
     "data": {
      "application/vnd.plotly.v1+json": {
       "config": {
        "plotlyServerURL": "https://plot.ly"
       },
       "data": [
        {
         "marker": {
          "color": "Black",
          "size": 6
         },
         "mode": "lines+markers",
         "name": "Average Actuals",
         "type": "scatter",
         "x": [
          "2020-01-01T00:00:00",
          "2020-04-01T00:00:00",
          "2020-07-01T00:00:00",
          "2020-10-01T00:00:00",
          "2021-01-01T00:00:00",
          "2021-04-01T00:00:00",
          "2021-07-01T00:00:00",
          "2021-10-01T00:00:00",
          "2022-01-01T00:00:00",
          "2022-04-01T00:00:00",
          "2022-07-01T00:00:00",
          "2022-10-01T00:00:00"
         ],
         "xaxis": "x",
         "y": [
          0.3203125,
          0.3220338983050847,
          0.3333333333333333,
          0.30275229357798167,
          0.36363636363636365,
          0.35555555555555557,
          0.2980769230769231,
          0.4,
          0.43478260869565216,
          0.38738738738738737,
          0.373015873015873,
          0.45652173913043476
         ],
         "yaxis": "y2"
        },
        {
         "name": "starter_pack",
         "opacity": 0.5,
         "type": "bar",
         "x": [
          "2020-01-01T00:00:00",
          "2020-04-01T00:00:00",
          "2020-07-01T00:00:00",
          "2020-10-01T00:00:00",
          "2021-01-01T00:00:00",
          "2021-04-01T00:00:00",
          "2021-07-01T00:00:00",
          "2021-10-01T00:00:00",
          "2022-01-01T00:00:00",
          "2022-04-01T00:00:00",
          "2022-07-01T00:00:00",
          "2022-10-01T00:00:00"
         ],
         "y": [
          0.390625,
          0.3474576271186441,
          0.37254901960784315,
          0.29357798165137616,
          0.2975206611570248,
          0.35555555555555557,
          0.4326923076923077,
          0.3739130434782609,
          0.3565217391304348,
          0.44144144144144143,
          0.3968253968253968,
          0.41304347826086957
         ]
        },
        {
         "name": "business_essentials",
         "opacity": 0.5,
         "type": "bar",
         "x": [
          "2020-01-01T00:00:00",
          "2020-04-01T00:00:00",
          "2020-07-01T00:00:00",
          "2020-10-01T00:00:00",
          "2021-01-01T00:00:00",
          "2021-04-01T00:00:00",
          "2021-07-01T00:00:00",
          "2021-10-01T00:00:00",
          "2022-01-01T00:00:00",
          "2022-04-01T00:00:00",
          "2022-07-01T00:00:00",
          "2022-10-01T00:00:00"
         ],
         "y": [
          0.328125,
          0.288135593220339,
          0.37254901960784315,
          0.4036697247706422,
          0.32231404958677684,
          0.31851851851851853,
          0.27884615384615385,
          0.33043478260869563,
          0.391304347826087,
          0.27927927927927926,
          0.31746031746031744,
          0.21739130434782608
         ]
        },
        {
         "name": "enterprise",
         "opacity": 0.5,
         "type": "bar",
         "x": [
          "2020-01-01T00:00:00",
          "2020-04-01T00:00:00",
          "2020-07-01T00:00:00",
          "2020-10-01T00:00:00",
          "2021-01-01T00:00:00",
          "2021-04-01T00:00:00",
          "2021-07-01T00:00:00",
          "2021-10-01T00:00:00",
          "2022-01-01T00:00:00",
          "2022-04-01T00:00:00",
          "2022-07-01T00:00:00",
          "2022-10-01T00:00:00"
         ],
         "y": [
          0.28125,
          0.3644067796610169,
          0.2549019607843137,
          0.30275229357798167,
          0.38016528925619836,
          0.32592592592592595,
          0.28846153846153844,
          0.2956521739130435,
          0.25217391304347825,
          0.27927927927927926,
          0.2857142857142857,
          0.3695652173913043
         ]
        }
       ],
       "layout": {
        "barmode": "relative",
        "height": 500,
        "hoverlabel": {
         "bgcolor": "white",
         "font": {
          "family": "Rockwell",
          "size": 16
         },
         "namelength": -1
        },
        "legend": {
         "bgcolor": "rgba(255, 255, 255, 0)",
         "bordercolor": "rgba(255, 255, 255, 0)",
         "x": 1.1,
         "xanchor": "left",
         "y": 1,
         "yanchor": "top"
        },
        "plot_bgcolor": "rgba(0,0,0,0)",
        "showlegend": true,
        "template": {
         "data": {
          "bar": [
           {
            "error_x": {
             "color": "#2a3f5f"
            },
            "error_y": {
             "color": "#2a3f5f"
            },
            "marker": {
             "line": {
              "color": "#E5ECF6",
              "width": 0.5
             },
             "pattern": {
              "fillmode": "overlay",
              "size": 10,
              "solidity": 0.2
             }
            },
            "type": "bar"
           }
          ],
          "barpolar": [
           {
            "marker": {
             "line": {
              "color": "#E5ECF6",
              "width": 0.5
             },
             "pattern": {
              "fillmode": "overlay",
              "size": 10,
              "solidity": 0.2
             }
            },
            "type": "barpolar"
           }
          ],
          "carpet": [
           {
            "aaxis": {
             "endlinecolor": "#2a3f5f",
             "gridcolor": "white",
             "linecolor": "white",
             "minorgridcolor": "white",
             "startlinecolor": "#2a3f5f"
            },
            "baxis": {
             "endlinecolor": "#2a3f5f",
             "gridcolor": "white",
             "linecolor": "white",
             "minorgridcolor": "white",
             "startlinecolor": "#2a3f5f"
            },
            "type": "carpet"
           }
          ],
          "choropleth": [
           {
            "colorbar": {
             "outlinewidth": 0,
             "ticks": ""
            },
            "type": "choropleth"
           }
          ],
          "contour": [
           {
            "colorbar": {
             "outlinewidth": 0,
             "ticks": ""
            },
            "colorscale": [
             [
              0,
              "#0d0887"
             ],
             [
              0.1111111111111111,
              "#46039f"
             ],
             [
              0.2222222222222222,
              "#7201a8"
             ],
             [
              0.3333333333333333,
              "#9c179e"
             ],
             [
              0.4444444444444444,
              "#bd3786"
             ],
             [
              0.5555555555555556,
              "#d8576b"
             ],
             [
              0.6666666666666666,
              "#ed7953"
             ],
             [
              0.7777777777777778,
              "#fb9f3a"
             ],
             [
              0.8888888888888888,
              "#fdca26"
             ],
             [
              1,
              "#f0f921"
             ]
            ],
            "type": "contour"
           }
          ],
          "contourcarpet": [
           {
            "colorbar": {
             "outlinewidth": 0,
             "ticks": ""
            },
            "type": "contourcarpet"
           }
          ],
          "heatmap": [
           {
            "colorbar": {
             "outlinewidth": 0,
             "ticks": ""
            },
            "colorscale": [
             [
              0,
              "#0d0887"
             ],
             [
              0.1111111111111111,
              "#46039f"
             ],
             [
              0.2222222222222222,
              "#7201a8"
             ],
             [
              0.3333333333333333,
              "#9c179e"
             ],
             [
              0.4444444444444444,
              "#bd3786"
             ],
             [
              0.5555555555555556,
              "#d8576b"
             ],
             [
              0.6666666666666666,
              "#ed7953"
             ],
             [
              0.7777777777777778,
              "#fb9f3a"
             ],
             [
              0.8888888888888888,
              "#fdca26"
             ],
             [
              1,
              "#f0f921"
             ]
            ],
            "type": "heatmap"
           }
          ],
          "heatmapgl": [
           {
            "colorbar": {
             "outlinewidth": 0,
             "ticks": ""
            },
            "colorscale": [
             [
              0,
              "#0d0887"
             ],
             [
              0.1111111111111111,
              "#46039f"
             ],
             [
              0.2222222222222222,
              "#7201a8"
             ],
             [
              0.3333333333333333,
              "#9c179e"
             ],
             [
              0.4444444444444444,
              "#bd3786"
             ],
             [
              0.5555555555555556,
              "#d8576b"
             ],
             [
              0.6666666666666666,
              "#ed7953"
             ],
             [
              0.7777777777777778,
              "#fb9f3a"
             ],
             [
              0.8888888888888888,
              "#fdca26"
             ],
             [
              1,
              "#f0f921"
             ]
            ],
            "type": "heatmapgl"
           }
          ],
          "histogram": [
           {
            "marker": {
             "pattern": {
              "fillmode": "overlay",
              "size": 10,
              "solidity": 0.2
             }
            },
            "type": "histogram"
           }
          ],
          "histogram2d": [
           {
            "colorbar": {
             "outlinewidth": 0,
             "ticks": ""
            },
            "colorscale": [
             [
              0,
              "#0d0887"
             ],
             [
              0.1111111111111111,
              "#46039f"
             ],
             [
              0.2222222222222222,
              "#7201a8"
             ],
             [
              0.3333333333333333,
              "#9c179e"
             ],
             [
              0.4444444444444444,
              "#bd3786"
             ],
             [
              0.5555555555555556,
              "#d8576b"
             ],
             [
              0.6666666666666666,
              "#ed7953"
             ],
             [
              0.7777777777777778,
              "#fb9f3a"
             ],
             [
              0.8888888888888888,
              "#fdca26"
             ],
             [
              1,
              "#f0f921"
             ]
            ],
            "type": "histogram2d"
           }
          ],
          "histogram2dcontour": [
           {
            "colorbar": {
             "outlinewidth": 0,
             "ticks": ""
            },
            "colorscale": [
             [
              0,
              "#0d0887"
             ],
             [
              0.1111111111111111,
              "#46039f"
             ],
             [
              0.2222222222222222,
              "#7201a8"
             ],
             [
              0.3333333333333333,
              "#9c179e"
             ],
             [
              0.4444444444444444,
              "#bd3786"
             ],
             [
              0.5555555555555556,
              "#d8576b"
             ],
             [
              0.6666666666666666,
              "#ed7953"
             ],
             [
              0.7777777777777778,
              "#fb9f3a"
             ],
             [
              0.8888888888888888,
              "#fdca26"
             ],
             [
              1,
              "#f0f921"
             ]
            ],
            "type": "histogram2dcontour"
           }
          ],
          "mesh3d": [
           {
            "colorbar": {
             "outlinewidth": 0,
             "ticks": ""
            },
            "type": "mesh3d"
           }
          ],
          "parcoords": [
           {
            "line": {
             "colorbar": {
              "outlinewidth": 0,
              "ticks": ""
             }
            },
            "type": "parcoords"
           }
          ],
          "pie": [
           {
            "automargin": true,
            "type": "pie"
           }
          ],
          "scatter": [
           {
            "fillpattern": {
             "fillmode": "overlay",
             "size": 10,
             "solidity": 0.2
            },
            "type": "scatter"
           }
          ],
          "scatter3d": [
           {
            "line": {
             "colorbar": {
              "outlinewidth": 0,
              "ticks": ""
             }
            },
            "marker": {
             "colorbar": {
              "outlinewidth": 0,
              "ticks": ""
             }
            },
            "type": "scatter3d"
           }
          ],
          "scattercarpet": [
           {
            "marker": {
             "colorbar": {
              "outlinewidth": 0,
              "ticks": ""
             }
            },
            "type": "scattercarpet"
           }
          ],
          "scattergeo": [
           {
            "marker": {
             "colorbar": {
              "outlinewidth": 0,
              "ticks": ""
             }
            },
            "type": "scattergeo"
           }
          ],
          "scattergl": [
           {
            "marker": {
             "colorbar": {
              "outlinewidth": 0,
              "ticks": ""
             }
            },
            "type": "scattergl"
           }
          ],
          "scattermapbox": [
           {
            "marker": {
             "colorbar": {
              "outlinewidth": 0,
              "ticks": ""
             }
            },
            "type": "scattermapbox"
           }
          ],
          "scatterpolar": [
           {
            "marker": {
             "colorbar": {
              "outlinewidth": 0,
              "ticks": ""
             }
            },
            "type": "scatterpolar"
           }
          ],
          "scatterpolargl": [
           {
            "marker": {
             "colorbar": {
              "outlinewidth": 0,
              "ticks": ""
             }
            },
            "type": "scatterpolargl"
           }
          ],
          "scatterternary": [
           {
            "marker": {
             "colorbar": {
              "outlinewidth": 0,
              "ticks": ""
             }
            },
            "type": "scatterternary"
           }
          ],
          "surface": [
           {
            "colorbar": {
             "outlinewidth": 0,
             "ticks": ""
            },
            "colorscale": [
             [
              0,
              "#0d0887"
             ],
             [
              0.1111111111111111,
              "#46039f"
             ],
             [
              0.2222222222222222,
              "#7201a8"
             ],
             [
              0.3333333333333333,
              "#9c179e"
             ],
             [
              0.4444444444444444,
              "#bd3786"
             ],
             [
              0.5555555555555556,
              "#d8576b"
             ],
             [
              0.6666666666666666,
              "#ed7953"
             ],
             [
              0.7777777777777778,
              "#fb9f3a"
             ],
             [
              0.8888888888888888,
              "#fdca26"
             ],
             [
              1,
              "#f0f921"
             ]
            ],
            "type": "surface"
           }
          ],
          "table": [
           {
            "cells": {
             "fill": {
              "color": "#EBF0F8"
             },
             "line": {
              "color": "white"
             }
            },
            "header": {
             "fill": {
              "color": "#C8D4E3"
             },
             "line": {
              "color": "white"
             }
            },
            "type": "table"
           }
          ]
         },
         "layout": {
          "annotationdefaults": {
           "arrowcolor": "#2a3f5f",
           "arrowhead": 0,
           "arrowwidth": 1
          },
          "autotypenumbers": "strict",
          "coloraxis": {
           "colorbar": {
            "outlinewidth": 0,
            "ticks": ""
           }
          },
          "colorscale": {
           "diverging": [
            [
             0,
             "#8e0152"
            ],
            [
             0.1,
             "#c51b7d"
            ],
            [
             0.2,
             "#de77ae"
            ],
            [
             0.3,
             "#f1b6da"
            ],
            [
             0.4,
             "#fde0ef"
            ],
            [
             0.5,
             "#f7f7f7"
            ],
            [
             0.6,
             "#e6f5d0"
            ],
            [
             0.7,
             "#b8e186"
            ],
            [
             0.8,
             "#7fbc41"
            ],
            [
             0.9,
             "#4d9221"
            ],
            [
             1,
             "#276419"
            ]
           ],
           "sequential": [
            [
             0,
             "#0d0887"
            ],
            [
             0.1111111111111111,
             "#46039f"
            ],
            [
             0.2222222222222222,
             "#7201a8"
            ],
            [
             0.3333333333333333,
             "#9c179e"
            ],
            [
             0.4444444444444444,
             "#bd3786"
            ],
            [
             0.5555555555555556,
             "#d8576b"
            ],
            [
             0.6666666666666666,
             "#ed7953"
            ],
            [
             0.7777777777777778,
             "#fb9f3a"
            ],
            [
             0.8888888888888888,
             "#fdca26"
            ],
            [
             1,
             "#f0f921"
            ]
           ],
           "sequentialminus": [
            [
             0,
             "#0d0887"
            ],
            [
             0.1111111111111111,
             "#46039f"
            ],
            [
             0.2222222222222222,
             "#7201a8"
            ],
            [
             0.3333333333333333,
             "#9c179e"
            ],
            [
             0.4444444444444444,
             "#bd3786"
            ],
            [
             0.5555555555555556,
             "#d8576b"
            ],
            [
             0.6666666666666666,
             "#ed7953"
            ],
            [
             0.7777777777777778,
             "#fb9f3a"
            ],
            [
             0.8888888888888888,
             "#fdca26"
            ],
            [
             1,
             "#f0f921"
            ]
           ]
          },
          "colorway": [
           "#636efa",
           "#EF553B",
           "#00cc96",
           "#ab63fa",
           "#FFA15A",
           "#19d3f3",
           "#FF6692",
           "#B6E880",
           "#FF97FF",
           "#FECB52"
          ],
          "font": {
           "color": "#2a3f5f"
          },
          "geo": {
           "bgcolor": "white",
           "lakecolor": "white",
           "landcolor": "#E5ECF6",
           "showlakes": true,
           "showland": true,
           "subunitcolor": "white"
          },
          "hoverlabel": {
           "align": "left"
          },
          "hovermode": "closest",
          "mapbox": {
           "style": "light"
          },
          "paper_bgcolor": "white",
          "plot_bgcolor": "#E5ECF6",
          "polar": {
           "angularaxis": {
            "gridcolor": "white",
            "linecolor": "white",
            "ticks": ""
           },
           "bgcolor": "#E5ECF6",
           "radialaxis": {
            "gridcolor": "white",
            "linecolor": "white",
            "ticks": ""
           }
          },
          "scene": {
           "xaxis": {
            "backgroundcolor": "#E5ECF6",
            "gridcolor": "white",
            "gridwidth": 2,
            "linecolor": "white",
            "showbackground": true,
            "ticks": "",
            "zerolinecolor": "white"
           },
           "yaxis": {
            "backgroundcolor": "#E5ECF6",
            "gridcolor": "white",
            "gridwidth": 2,
            "linecolor": "white",
            "showbackground": true,
            "ticks": "",
            "zerolinecolor": "white"
           },
           "zaxis": {
            "backgroundcolor": "#E5ECF6",
            "gridcolor": "white",
            "gridwidth": 2,
            "linecolor": "white",
            "showbackground": true,
            "ticks": "",
            "zerolinecolor": "white"
           }
          },
          "shapedefaults": {
           "line": {
            "color": "#2a3f5f"
           }
          },
          "ternary": {
           "aaxis": {
            "gridcolor": "white",
            "linecolor": "white",
            "ticks": ""
           },
           "baxis": {
            "gridcolor": "white",
            "linecolor": "white",
            "ticks": ""
           },
           "bgcolor": "#E5ECF6",
           "caxis": {
            "gridcolor": "white",
            "linecolor": "white",
            "ticks": ""
           }
          },
          "title": {
           "x": 0.05
          },
          "xaxis": {
           "automargin": true,
           "gridcolor": "white",
           "linecolor": "white",
           "ticks": "",
           "title": {
            "standoff": 15
           },
           "zerolinecolor": "white",
           "zerolinewidth": 2
          },
          "yaxis": {
           "automargin": true,
           "gridcolor": "white",
           "linecolor": "white",
           "ticks": "",
           "title": {
            "standoff": 15
           },
           "zerolinecolor": "white",
           "zerolinewidth": 2
          }
         }
        },
        "xaxis": {
         "anchor": "y",
         "domain": [
          0,
          0.94
         ],
         "linecolor": "black",
         "linewidth": 1,
         "showline": true,
         "title": {
          "text": "Date"
         }
        },
        "yaxis": {
         "anchor": "x",
         "domain": [
          0,
          1
         ],
         "gridcolor": "lightgray",
         "gridwidth": 1,
         "linecolor": "black",
         "linewidth": 1,
         "showgrid": true,
         "showline": true,
         "tickformat": ",.0%",
         "title": {
          "text": "Products_Purchased (Percentage)"
         }
        },
        "yaxis2": {
         "anchor": "x",
         "gridcolor": "lightgray",
         "gridwidth": 1,
         "linecolor": "black",
         "linewidth": 1,
         "overlaying": "y",
         "showgrid": true,
         "showline": true,
         "side": "right",
         "tickformat": ",.0%",
         "title": {
          "text": "Average Actuals"
         }
        }
       }
      },
      "text/html": [
       "<div>                            <div id=\"2d643e2b-2d21-4ebc-94c3-31991033ef78\" class=\"plotly-graph-div\" style=\"height:500px; width:100%;\"></div>            <script type=\"text/javascript\">                require([\"plotly\"], function(Plotly) {                    window.PLOTLYENV=window.PLOTLYENV || {};                                    if (document.getElementById(\"2d643e2b-2d21-4ebc-94c3-31991033ef78\")) {                    Plotly.newPlot(                        \"2d643e2b-2d21-4ebc-94c3-31991033ef78\",                        [{\"marker\":{\"color\":\"Black\",\"size\":6},\"mode\":\"lines+markers\",\"name\":\"Average Actuals\",\"x\":[\"2020-01-01T00:00:00\",\"2020-04-01T00:00:00\",\"2020-07-01T00:00:00\",\"2020-10-01T00:00:00\",\"2021-01-01T00:00:00\",\"2021-04-01T00:00:00\",\"2021-07-01T00:00:00\",\"2021-10-01T00:00:00\",\"2022-01-01T00:00:00\",\"2022-04-01T00:00:00\",\"2022-07-01T00:00:00\",\"2022-10-01T00:00:00\"],\"y\":[0.3203125,0.3220338983050847,0.3333333333333333,0.30275229357798167,0.36363636363636365,0.35555555555555557,0.2980769230769231,0.4,0.43478260869565216,0.38738738738738737,0.373015873015873,0.45652173913043476],\"type\":\"scatter\",\"xaxis\":\"x\",\"yaxis\":\"y2\"},{\"name\":\"starter_pack\",\"opacity\":0.5,\"x\":[\"2020-01-01T00:00:00\",\"2020-04-01T00:00:00\",\"2020-07-01T00:00:00\",\"2020-10-01T00:00:00\",\"2021-01-01T00:00:00\",\"2021-04-01T00:00:00\",\"2021-07-01T00:00:00\",\"2021-10-01T00:00:00\",\"2022-01-01T00:00:00\",\"2022-04-01T00:00:00\",\"2022-07-01T00:00:00\",\"2022-10-01T00:00:00\"],\"y\":[0.390625,0.3474576271186441,0.37254901960784315,0.29357798165137616,0.2975206611570248,0.35555555555555557,0.4326923076923077,0.3739130434782609,0.3565217391304348,0.44144144144144143,0.3968253968253968,0.41304347826086957],\"type\":\"bar\"},{\"name\":\"business_essentials\",\"opacity\":0.5,\"x\":[\"2020-01-01T00:00:00\",\"2020-04-01T00:00:00\",\"2020-07-01T00:00:00\",\"2020-10-01T00:00:00\",\"2021-01-01T00:00:00\",\"2021-04-01T00:00:00\",\"2021-07-01T00:00:00\",\"2021-10-01T00:00:00\",\"2022-01-01T00:00:00\",\"2022-04-01T00:00:00\",\"2022-07-01T00:00:00\",\"2022-10-01T00:00:00\"],\"y\":[0.328125,0.288135593220339,0.37254901960784315,0.4036697247706422,0.32231404958677684,0.31851851851851853,0.27884615384615385,0.33043478260869563,0.391304347826087,0.27927927927927926,0.31746031746031744,0.21739130434782608],\"type\":\"bar\"},{\"name\":\"enterprise\",\"opacity\":0.5,\"x\":[\"2020-01-01T00:00:00\",\"2020-04-01T00:00:00\",\"2020-07-01T00:00:00\",\"2020-10-01T00:00:00\",\"2021-01-01T00:00:00\",\"2021-04-01T00:00:00\",\"2021-07-01T00:00:00\",\"2021-10-01T00:00:00\",\"2022-01-01T00:00:00\",\"2022-04-01T00:00:00\",\"2022-07-01T00:00:00\",\"2022-10-01T00:00:00\"],\"y\":[0.28125,0.3644067796610169,0.2549019607843137,0.30275229357798167,0.38016528925619836,0.32592592592592595,0.28846153846153844,0.2956521739130435,0.25217391304347825,0.27927927927927926,0.2857142857142857,0.3695652173913043],\"type\":\"bar\"}],                        {\"template\":{\"data\":{\"histogram2dcontour\":[{\"type\":\"histogram2dcontour\",\"colorbar\":{\"outlinewidth\":0,\"ticks\":\"\"},\"colorscale\":[[0.0,\"#0d0887\"],[0.1111111111111111,\"#46039f\"],[0.2222222222222222,\"#7201a8\"],[0.3333333333333333,\"#9c179e\"],[0.4444444444444444,\"#bd3786\"],[0.5555555555555556,\"#d8576b\"],[0.6666666666666666,\"#ed7953\"],[0.7777777777777778,\"#fb9f3a\"],[0.8888888888888888,\"#fdca26\"],[1.0,\"#f0f921\"]]}],\"choropleth\":[{\"type\":\"choropleth\",\"colorbar\":{\"outlinewidth\":0,\"ticks\":\"\"}}],\"histogram2d\":[{\"type\":\"histogram2d\",\"colorbar\":{\"outlinewidth\":0,\"ticks\":\"\"},\"colorscale\":[[0.0,\"#0d0887\"],[0.1111111111111111,\"#46039f\"],[0.2222222222222222,\"#7201a8\"],[0.3333333333333333,\"#9c179e\"],[0.4444444444444444,\"#bd3786\"],[0.5555555555555556,\"#d8576b\"],[0.6666666666666666,\"#ed7953\"],[0.7777777777777778,\"#fb9f3a\"],[0.8888888888888888,\"#fdca26\"],[1.0,\"#f0f921\"]]}],\"heatmap\":[{\"type\":\"heatmap\",\"colorbar\":{\"outlinewidth\":0,\"ticks\":\"\"},\"colorscale\":[[0.0,\"#0d0887\"],[0.1111111111111111,\"#46039f\"],[0.2222222222222222,\"#7201a8\"],[0.3333333333333333,\"#9c179e\"],[0.4444444444444444,\"#bd3786\"],[0.5555555555555556,\"#d8576b\"],[0.6666666666666666,\"#ed7953\"],[0.7777777777777778,\"#fb9f3a\"],[0.8888888888888888,\"#fdca26\"],[1.0,\"#f0f921\"]]}],\"heatmapgl\":[{\"type\":\"heatmapgl\",\"colorbar\":{\"outlinewidth\":0,\"ticks\":\"\"},\"colorscale\":[[0.0,\"#0d0887\"],[0.1111111111111111,\"#46039f\"],[0.2222222222222222,\"#7201a8\"],[0.3333333333333333,\"#9c179e\"],[0.4444444444444444,\"#bd3786\"],[0.5555555555555556,\"#d8576b\"],[0.6666666666666666,\"#ed7953\"],[0.7777777777777778,\"#fb9f3a\"],[0.8888888888888888,\"#fdca26\"],[1.0,\"#f0f921\"]]}],\"contourcarpet\":[{\"type\":\"contourcarpet\",\"colorbar\":{\"outlinewidth\":0,\"ticks\":\"\"}}],\"contour\":[{\"type\":\"contour\",\"colorbar\":{\"outlinewidth\":0,\"ticks\":\"\"},\"colorscale\":[[0.0,\"#0d0887\"],[0.1111111111111111,\"#46039f\"],[0.2222222222222222,\"#7201a8\"],[0.3333333333333333,\"#9c179e\"],[0.4444444444444444,\"#bd3786\"],[0.5555555555555556,\"#d8576b\"],[0.6666666666666666,\"#ed7953\"],[0.7777777777777778,\"#fb9f3a\"],[0.8888888888888888,\"#fdca26\"],[1.0,\"#f0f921\"]]}],\"surface\":[{\"type\":\"surface\",\"colorbar\":{\"outlinewidth\":0,\"ticks\":\"\"},\"colorscale\":[[0.0,\"#0d0887\"],[0.1111111111111111,\"#46039f\"],[0.2222222222222222,\"#7201a8\"],[0.3333333333333333,\"#9c179e\"],[0.4444444444444444,\"#bd3786\"],[0.5555555555555556,\"#d8576b\"],[0.6666666666666666,\"#ed7953\"],[0.7777777777777778,\"#fb9f3a\"],[0.8888888888888888,\"#fdca26\"],[1.0,\"#f0f921\"]]}],\"mesh3d\":[{\"type\":\"mesh3d\",\"colorbar\":{\"outlinewidth\":0,\"ticks\":\"\"}}],\"scatter\":[{\"fillpattern\":{\"fillmode\":\"overlay\",\"size\":10,\"solidity\":0.2},\"type\":\"scatter\"}],\"parcoords\":[{\"type\":\"parcoords\",\"line\":{\"colorbar\":{\"outlinewidth\":0,\"ticks\":\"\"}}}],\"scatterpolargl\":[{\"type\":\"scatterpolargl\",\"marker\":{\"colorbar\":{\"outlinewidth\":0,\"ticks\":\"\"}}}],\"bar\":[{\"error_x\":{\"color\":\"#2a3f5f\"},\"error_y\":{\"color\":\"#2a3f5f\"},\"marker\":{\"line\":{\"color\":\"#E5ECF6\",\"width\":0.5},\"pattern\":{\"fillmode\":\"overlay\",\"size\":10,\"solidity\":0.2}},\"type\":\"bar\"}],\"scattergeo\":[{\"type\":\"scattergeo\",\"marker\":{\"colorbar\":{\"outlinewidth\":0,\"ticks\":\"\"}}}],\"scatterpolar\":[{\"type\":\"scatterpolar\",\"marker\":{\"colorbar\":{\"outlinewidth\":0,\"ticks\":\"\"}}}],\"histogram\":[{\"marker\":{\"pattern\":{\"fillmode\":\"overlay\",\"size\":10,\"solidity\":0.2}},\"type\":\"histogram\"}],\"scattergl\":[{\"type\":\"scattergl\",\"marker\":{\"colorbar\":{\"outlinewidth\":0,\"ticks\":\"\"}}}],\"scatter3d\":[{\"type\":\"scatter3d\",\"line\":{\"colorbar\":{\"outlinewidth\":0,\"ticks\":\"\"}},\"marker\":{\"colorbar\":{\"outlinewidth\":0,\"ticks\":\"\"}}}],\"scattermapbox\":[{\"type\":\"scattermapbox\",\"marker\":{\"colorbar\":{\"outlinewidth\":0,\"ticks\":\"\"}}}],\"scatterternary\":[{\"type\":\"scatterternary\",\"marker\":{\"colorbar\":{\"outlinewidth\":0,\"ticks\":\"\"}}}],\"scattercarpet\":[{\"type\":\"scattercarpet\",\"marker\":{\"colorbar\":{\"outlinewidth\":0,\"ticks\":\"\"}}}],\"carpet\":[{\"aaxis\":{\"endlinecolor\":\"#2a3f5f\",\"gridcolor\":\"white\",\"linecolor\":\"white\",\"minorgridcolor\":\"white\",\"startlinecolor\":\"#2a3f5f\"},\"baxis\":{\"endlinecolor\":\"#2a3f5f\",\"gridcolor\":\"white\",\"linecolor\":\"white\",\"minorgridcolor\":\"white\",\"startlinecolor\":\"#2a3f5f\"},\"type\":\"carpet\"}],\"table\":[{\"cells\":{\"fill\":{\"color\":\"#EBF0F8\"},\"line\":{\"color\":\"white\"}},\"header\":{\"fill\":{\"color\":\"#C8D4E3\"},\"line\":{\"color\":\"white\"}},\"type\":\"table\"}],\"barpolar\":[{\"marker\":{\"line\":{\"color\":\"#E5ECF6\",\"width\":0.5},\"pattern\":{\"fillmode\":\"overlay\",\"size\":10,\"solidity\":0.2}},\"type\":\"barpolar\"}],\"pie\":[{\"automargin\":true,\"type\":\"pie\"}]},\"layout\":{\"autotypenumbers\":\"strict\",\"colorway\":[\"#636efa\",\"#EF553B\",\"#00cc96\",\"#ab63fa\",\"#FFA15A\",\"#19d3f3\",\"#FF6692\",\"#B6E880\",\"#FF97FF\",\"#FECB52\"],\"font\":{\"color\":\"#2a3f5f\"},\"hovermode\":\"closest\",\"hoverlabel\":{\"align\":\"left\"},\"paper_bgcolor\":\"white\",\"plot_bgcolor\":\"#E5ECF6\",\"polar\":{\"bgcolor\":\"#E5ECF6\",\"angularaxis\":{\"gridcolor\":\"white\",\"linecolor\":\"white\",\"ticks\":\"\"},\"radialaxis\":{\"gridcolor\":\"white\",\"linecolor\":\"white\",\"ticks\":\"\"}},\"ternary\":{\"bgcolor\":\"#E5ECF6\",\"aaxis\":{\"gridcolor\":\"white\",\"linecolor\":\"white\",\"ticks\":\"\"},\"baxis\":{\"gridcolor\":\"white\",\"linecolor\":\"white\",\"ticks\":\"\"},\"caxis\":{\"gridcolor\":\"white\",\"linecolor\":\"white\",\"ticks\":\"\"}},\"coloraxis\":{\"colorbar\":{\"outlinewidth\":0,\"ticks\":\"\"}},\"colorscale\":{\"sequential\":[[0.0,\"#0d0887\"],[0.1111111111111111,\"#46039f\"],[0.2222222222222222,\"#7201a8\"],[0.3333333333333333,\"#9c179e\"],[0.4444444444444444,\"#bd3786\"],[0.5555555555555556,\"#d8576b\"],[0.6666666666666666,\"#ed7953\"],[0.7777777777777778,\"#fb9f3a\"],[0.8888888888888888,\"#fdca26\"],[1.0,\"#f0f921\"]],\"sequentialminus\":[[0.0,\"#0d0887\"],[0.1111111111111111,\"#46039f\"],[0.2222222222222222,\"#7201a8\"],[0.3333333333333333,\"#9c179e\"],[0.4444444444444444,\"#bd3786\"],[0.5555555555555556,\"#d8576b\"],[0.6666666666666666,\"#ed7953\"],[0.7777777777777778,\"#fb9f3a\"],[0.8888888888888888,\"#fdca26\"],[1.0,\"#f0f921\"]],\"diverging\":[[0,\"#8e0152\"],[0.1,\"#c51b7d\"],[0.2,\"#de77ae\"],[0.3,\"#f1b6da\"],[0.4,\"#fde0ef\"],[0.5,\"#f7f7f7\"],[0.6,\"#e6f5d0\"],[0.7,\"#b8e186\"],[0.8,\"#7fbc41\"],[0.9,\"#4d9221\"],[1,\"#276419\"]]},\"xaxis\":{\"gridcolor\":\"white\",\"linecolor\":\"white\",\"ticks\":\"\",\"title\":{\"standoff\":15},\"zerolinecolor\":\"white\",\"automargin\":true,\"zerolinewidth\":2},\"yaxis\":{\"gridcolor\":\"white\",\"linecolor\":\"white\",\"ticks\":\"\",\"title\":{\"standoff\":15},\"zerolinecolor\":\"white\",\"automargin\":true,\"zerolinewidth\":2},\"scene\":{\"xaxis\":{\"backgroundcolor\":\"#E5ECF6\",\"gridcolor\":\"white\",\"linecolor\":\"white\",\"showbackground\":true,\"ticks\":\"\",\"zerolinecolor\":\"white\",\"gridwidth\":2},\"yaxis\":{\"backgroundcolor\":\"#E5ECF6\",\"gridcolor\":\"white\",\"linecolor\":\"white\",\"showbackground\":true,\"ticks\":\"\",\"zerolinecolor\":\"white\",\"gridwidth\":2},\"zaxis\":{\"backgroundcolor\":\"#E5ECF6\",\"gridcolor\":\"white\",\"linecolor\":\"white\",\"showbackground\":true,\"ticks\":\"\",\"zerolinecolor\":\"white\",\"gridwidth\":2}},\"shapedefaults\":{\"line\":{\"color\":\"#2a3f5f\"}},\"annotationdefaults\":{\"arrowcolor\":\"#2a3f5f\",\"arrowhead\":0,\"arrowwidth\":1},\"geo\":{\"bgcolor\":\"white\",\"landcolor\":\"#E5ECF6\",\"subunitcolor\":\"white\",\"showland\":true,\"showlakes\":true,\"lakecolor\":\"white\"},\"title\":{\"x\":0.05},\"mapbox\":{\"style\":\"light\"}}},\"xaxis\":{\"anchor\":\"y\",\"domain\":[0.0,0.94],\"title\":{\"text\":\"Date\"},\"showline\":true,\"linewidth\":1,\"linecolor\":\"black\"},\"yaxis\":{\"anchor\":\"x\",\"domain\":[0.0,1.0],\"title\":{\"text\":\"Products_Purchased (Percentage)\"},\"showline\":true,\"linewidth\":1,\"linecolor\":\"black\",\"showgrid\":true,\"gridwidth\":1,\"gridcolor\":\"lightgray\",\"tickformat\":\",.0%\"},\"yaxis2\":{\"anchor\":\"x\",\"overlaying\":\"y\",\"side\":\"right\",\"title\":{\"text\":\"Average Actuals\"},\"showline\":true,\"linewidth\":1,\"linecolor\":\"black\",\"showgrid\":true,\"gridwidth\":1,\"gridcolor\":\"lightgray\",\"tickformat\":\",.0%\"},\"barmode\":\"relative\",\"legend\":{\"bgcolor\":\"rgba(255, 255, 255, 0)\",\"bordercolor\":\"rgba(255, 255, 255, 0)\",\"x\":1.1,\"y\":1,\"xanchor\":\"left\",\"yanchor\":\"top\"},\"hoverlabel\":{\"font\":{\"size\":16,\"family\":\"Rockwell\"},\"bgcolor\":\"white\",\"namelength\":-1},\"height\":500,\"plot_bgcolor\":\"rgba(0,0,0,0)\",\"showlegend\":true},                        {\"responsive\": true}                    ).then(function(){\n",
       "                            \n",
       "var gd = document.getElementById('2d643e2b-2d21-4ebc-94c3-31991033ef78');\n",
       "var x = new MutationObserver(function (mutations, observer) {{\n",
       "        var display = window.getComputedStyle(gd).display;\n",
       "        if (!display || display === 'none') {{\n",
       "            console.log([gd, 'removed!']);\n",
       "            Plotly.purge(gd);\n",
       "            observer.disconnect();\n",
       "        }}\n",
       "}});\n",
       "\n",
       "// Listen for the removal of the full notebook cells\n",
       "var notebookContainer = gd.closest('#notebook-container');\n",
       "if (notebookContainer) {{\n",
       "    x.observe(notebookContainer, {childList: true});\n",
       "}}\n",
       "\n",
       "// Listen for the clearing of the current output cell\n",
       "var outputEl = gd.closest('.output');\n",
       "if (outputEl) {{\n",
       "    x.observe(outputEl, {childList: true});\n",
       "}}\n",
       "\n",
       "                        })                };                });            </script>        </div>"
      ]
     },
     "metadata": {},
     "output_type": "display_data"
    }
   ],
   "source": [
    "plot_values_over_time(\n",
    "    melted, \n",
    "    project_id=project_id,\n",
    "    freq='QS',\n",
    "    date_col=date_col, \n",
    "    feature='Products_Purchased',\n",
    "    showlegend=True,\n",
    ")"
   ]
  },
  {
   "cell_type": "code",
   "execution_count": 1159,
   "id": "b0636d6d",
   "metadata": {},
   "outputs": [
    {
     "data": {
      "application/vnd.plotly.v1+json": {
       "config": {
        "plotlyServerURL": "https://plot.ly"
       },
       "data": [
        {
         "marker": {
          "color": "lightblue"
         },
         "name": "Count",
         "opacity": 0.5,
         "type": "bar",
         "x": [
          "OTHER",
          "banking",
          "energy",
          "financial services",
          "healthcare",
          "insurance",
          "other",
          "retail",
          "telecom"
         ],
         "y": [
          121,
          152,
          172,
          143,
          124,
          134,
          167,
          160,
          157
         ]
        },
        {
         "line": {
          "color": "black",
          "width": 2
         },
         "marker": {
          "color": "black",
          "line": {
           "color": "black",
           "width": 2
          },
          "size": 5,
          "symbol": "cross-open"
         },
         "mode": "lines+markers",
         "name": "log_loss",
         "type": "scatter",
         "x": [
          "OTHER",
          "banking",
          "energy",
          "financial services",
          "healthcare",
          "insurance",
          "other",
          "retail",
          "telecom"
         ],
         "xaxis": "x",
         "y": [
          0.34600810583701486,
          0.3588058272936873,
          0.23112438287644646,
          0.3793513447410023,
          0.34242978110632966,
          0.36780795291992474,
          0.3438714864416838,
          0.31702600506984246,
          0.34495124031789554
         ],
         "yaxis": "y2"
        }
       ],
       "layout": {
        "height": 500,
        "hoverlabel": {
         "bgcolor": "white",
         "font": {
          "family": "Rockwell",
          "size": 16
         },
         "namelength": -1
        },
        "plot_bgcolor": "rgba(0,0,0,0)",
        "showlegend": true,
        "template": {
         "data": {
          "bar": [
           {
            "error_x": {
             "color": "#2a3f5f"
            },
            "error_y": {
             "color": "#2a3f5f"
            },
            "marker": {
             "line": {
              "color": "#E5ECF6",
              "width": 0.5
             },
             "pattern": {
              "fillmode": "overlay",
              "size": 10,
              "solidity": 0.2
             }
            },
            "type": "bar"
           }
          ],
          "barpolar": [
           {
            "marker": {
             "line": {
              "color": "#E5ECF6",
              "width": 0.5
             },
             "pattern": {
              "fillmode": "overlay",
              "size": 10,
              "solidity": 0.2
             }
            },
            "type": "barpolar"
           }
          ],
          "carpet": [
           {
            "aaxis": {
             "endlinecolor": "#2a3f5f",
             "gridcolor": "white",
             "linecolor": "white",
             "minorgridcolor": "white",
             "startlinecolor": "#2a3f5f"
            },
            "baxis": {
             "endlinecolor": "#2a3f5f",
             "gridcolor": "white",
             "linecolor": "white",
             "minorgridcolor": "white",
             "startlinecolor": "#2a3f5f"
            },
            "type": "carpet"
           }
          ],
          "choropleth": [
           {
            "colorbar": {
             "outlinewidth": 0,
             "ticks": ""
            },
            "type": "choropleth"
           }
          ],
          "contour": [
           {
            "colorbar": {
             "outlinewidth": 0,
             "ticks": ""
            },
            "colorscale": [
             [
              0,
              "#0d0887"
             ],
             [
              0.1111111111111111,
              "#46039f"
             ],
             [
              0.2222222222222222,
              "#7201a8"
             ],
             [
              0.3333333333333333,
              "#9c179e"
             ],
             [
              0.4444444444444444,
              "#bd3786"
             ],
             [
              0.5555555555555556,
              "#d8576b"
             ],
             [
              0.6666666666666666,
              "#ed7953"
             ],
             [
              0.7777777777777778,
              "#fb9f3a"
             ],
             [
              0.8888888888888888,
              "#fdca26"
             ],
             [
              1,
              "#f0f921"
             ]
            ],
            "type": "contour"
           }
          ],
          "contourcarpet": [
           {
            "colorbar": {
             "outlinewidth": 0,
             "ticks": ""
            },
            "type": "contourcarpet"
           }
          ],
          "heatmap": [
           {
            "colorbar": {
             "outlinewidth": 0,
             "ticks": ""
            },
            "colorscale": [
             [
              0,
              "#0d0887"
             ],
             [
              0.1111111111111111,
              "#46039f"
             ],
             [
              0.2222222222222222,
              "#7201a8"
             ],
             [
              0.3333333333333333,
              "#9c179e"
             ],
             [
              0.4444444444444444,
              "#bd3786"
             ],
             [
              0.5555555555555556,
              "#d8576b"
             ],
             [
              0.6666666666666666,
              "#ed7953"
             ],
             [
              0.7777777777777778,
              "#fb9f3a"
             ],
             [
              0.8888888888888888,
              "#fdca26"
             ],
             [
              1,
              "#f0f921"
             ]
            ],
            "type": "heatmap"
           }
          ],
          "heatmapgl": [
           {
            "colorbar": {
             "outlinewidth": 0,
             "ticks": ""
            },
            "colorscale": [
             [
              0,
              "#0d0887"
             ],
             [
              0.1111111111111111,
              "#46039f"
             ],
             [
              0.2222222222222222,
              "#7201a8"
             ],
             [
              0.3333333333333333,
              "#9c179e"
             ],
             [
              0.4444444444444444,
              "#bd3786"
             ],
             [
              0.5555555555555556,
              "#d8576b"
             ],
             [
              0.6666666666666666,
              "#ed7953"
             ],
             [
              0.7777777777777778,
              "#fb9f3a"
             ],
             [
              0.8888888888888888,
              "#fdca26"
             ],
             [
              1,
              "#f0f921"
             ]
            ],
            "type": "heatmapgl"
           }
          ],
          "histogram": [
           {
            "marker": {
             "pattern": {
              "fillmode": "overlay",
              "size": 10,
              "solidity": 0.2
             }
            },
            "type": "histogram"
           }
          ],
          "histogram2d": [
           {
            "colorbar": {
             "outlinewidth": 0,
             "ticks": ""
            },
            "colorscale": [
             [
              0,
              "#0d0887"
             ],
             [
              0.1111111111111111,
              "#46039f"
             ],
             [
              0.2222222222222222,
              "#7201a8"
             ],
             [
              0.3333333333333333,
              "#9c179e"
             ],
             [
              0.4444444444444444,
              "#bd3786"
             ],
             [
              0.5555555555555556,
              "#d8576b"
             ],
             [
              0.6666666666666666,
              "#ed7953"
             ],
             [
              0.7777777777777778,
              "#fb9f3a"
             ],
             [
              0.8888888888888888,
              "#fdca26"
             ],
             [
              1,
              "#f0f921"
             ]
            ],
            "type": "histogram2d"
           }
          ],
          "histogram2dcontour": [
           {
            "colorbar": {
             "outlinewidth": 0,
             "ticks": ""
            },
            "colorscale": [
             [
              0,
              "#0d0887"
             ],
             [
              0.1111111111111111,
              "#46039f"
             ],
             [
              0.2222222222222222,
              "#7201a8"
             ],
             [
              0.3333333333333333,
              "#9c179e"
             ],
             [
              0.4444444444444444,
              "#bd3786"
             ],
             [
              0.5555555555555556,
              "#d8576b"
             ],
             [
              0.6666666666666666,
              "#ed7953"
             ],
             [
              0.7777777777777778,
              "#fb9f3a"
             ],
             [
              0.8888888888888888,
              "#fdca26"
             ],
             [
              1,
              "#f0f921"
             ]
            ],
            "type": "histogram2dcontour"
           }
          ],
          "mesh3d": [
           {
            "colorbar": {
             "outlinewidth": 0,
             "ticks": ""
            },
            "type": "mesh3d"
           }
          ],
          "parcoords": [
           {
            "line": {
             "colorbar": {
              "outlinewidth": 0,
              "ticks": ""
             }
            },
            "type": "parcoords"
           }
          ],
          "pie": [
           {
            "automargin": true,
            "type": "pie"
           }
          ],
          "scatter": [
           {
            "fillpattern": {
             "fillmode": "overlay",
             "size": 10,
             "solidity": 0.2
            },
            "type": "scatter"
           }
          ],
          "scatter3d": [
           {
            "line": {
             "colorbar": {
              "outlinewidth": 0,
              "ticks": ""
             }
            },
            "marker": {
             "colorbar": {
              "outlinewidth": 0,
              "ticks": ""
             }
            },
            "type": "scatter3d"
           }
          ],
          "scattercarpet": [
           {
            "marker": {
             "colorbar": {
              "outlinewidth": 0,
              "ticks": ""
             }
            },
            "type": "scattercarpet"
           }
          ],
          "scattergeo": [
           {
            "marker": {
             "colorbar": {
              "outlinewidth": 0,
              "ticks": ""
             }
            },
            "type": "scattergeo"
           }
          ],
          "scattergl": [
           {
            "marker": {
             "colorbar": {
              "outlinewidth": 0,
              "ticks": ""
             }
            },
            "type": "scattergl"
           }
          ],
          "scattermapbox": [
           {
            "marker": {
             "colorbar": {
              "outlinewidth": 0,
              "ticks": ""
             }
            },
            "type": "scattermapbox"
           }
          ],
          "scatterpolar": [
           {
            "marker": {
             "colorbar": {
              "outlinewidth": 0,
              "ticks": ""
             }
            },
            "type": "scatterpolar"
           }
          ],
          "scatterpolargl": [
           {
            "marker": {
             "colorbar": {
              "outlinewidth": 0,
              "ticks": ""
             }
            },
            "type": "scatterpolargl"
           }
          ],
          "scatterternary": [
           {
            "marker": {
             "colorbar": {
              "outlinewidth": 0,
              "ticks": ""
             }
            },
            "type": "scatterternary"
           }
          ],
          "surface": [
           {
            "colorbar": {
             "outlinewidth": 0,
             "ticks": ""
            },
            "colorscale": [
             [
              0,
              "#0d0887"
             ],
             [
              0.1111111111111111,
              "#46039f"
             ],
             [
              0.2222222222222222,
              "#7201a8"
             ],
             [
              0.3333333333333333,
              "#9c179e"
             ],
             [
              0.4444444444444444,
              "#bd3786"
             ],
             [
              0.5555555555555556,
              "#d8576b"
             ],
             [
              0.6666666666666666,
              "#ed7953"
             ],
             [
              0.7777777777777778,
              "#fb9f3a"
             ],
             [
              0.8888888888888888,
              "#fdca26"
             ],
             [
              1,
              "#f0f921"
             ]
            ],
            "type": "surface"
           }
          ],
          "table": [
           {
            "cells": {
             "fill": {
              "color": "#EBF0F8"
             },
             "line": {
              "color": "white"
             }
            },
            "header": {
             "fill": {
              "color": "#C8D4E3"
             },
             "line": {
              "color": "white"
             }
            },
            "type": "table"
           }
          ]
         },
         "layout": {
          "annotationdefaults": {
           "arrowcolor": "#2a3f5f",
           "arrowhead": 0,
           "arrowwidth": 1
          },
          "autotypenumbers": "strict",
          "coloraxis": {
           "colorbar": {
            "outlinewidth": 0,
            "ticks": ""
           }
          },
          "colorscale": {
           "diverging": [
            [
             0,
             "#8e0152"
            ],
            [
             0.1,
             "#c51b7d"
            ],
            [
             0.2,
             "#de77ae"
            ],
            [
             0.3,
             "#f1b6da"
            ],
            [
             0.4,
             "#fde0ef"
            ],
            [
             0.5,
             "#f7f7f7"
            ],
            [
             0.6,
             "#e6f5d0"
            ],
            [
             0.7,
             "#b8e186"
            ],
            [
             0.8,
             "#7fbc41"
            ],
            [
             0.9,
             "#4d9221"
            ],
            [
             1,
             "#276419"
            ]
           ],
           "sequential": [
            [
             0,
             "#0d0887"
            ],
            [
             0.1111111111111111,
             "#46039f"
            ],
            [
             0.2222222222222222,
             "#7201a8"
            ],
            [
             0.3333333333333333,
             "#9c179e"
            ],
            [
             0.4444444444444444,
             "#bd3786"
            ],
            [
             0.5555555555555556,
             "#d8576b"
            ],
            [
             0.6666666666666666,
             "#ed7953"
            ],
            [
             0.7777777777777778,
             "#fb9f3a"
            ],
            [
             0.8888888888888888,
             "#fdca26"
            ],
            [
             1,
             "#f0f921"
            ]
           ],
           "sequentialminus": [
            [
             0,
             "#0d0887"
            ],
            [
             0.1111111111111111,
             "#46039f"
            ],
            [
             0.2222222222222222,
             "#7201a8"
            ],
            [
             0.3333333333333333,
             "#9c179e"
            ],
            [
             0.4444444444444444,
             "#bd3786"
            ],
            [
             0.5555555555555556,
             "#d8576b"
            ],
            [
             0.6666666666666666,
             "#ed7953"
            ],
            [
             0.7777777777777778,
             "#fb9f3a"
            ],
            [
             0.8888888888888888,
             "#fdca26"
            ],
            [
             1,
             "#f0f921"
            ]
           ]
          },
          "colorway": [
           "#636efa",
           "#EF553B",
           "#00cc96",
           "#ab63fa",
           "#FFA15A",
           "#19d3f3",
           "#FF6692",
           "#B6E880",
           "#FF97FF",
           "#FECB52"
          ],
          "font": {
           "color": "#2a3f5f"
          },
          "geo": {
           "bgcolor": "white",
           "lakecolor": "white",
           "landcolor": "#E5ECF6",
           "showlakes": true,
           "showland": true,
           "subunitcolor": "white"
          },
          "hoverlabel": {
           "align": "left"
          },
          "hovermode": "closest",
          "mapbox": {
           "style": "light"
          },
          "paper_bgcolor": "white",
          "plot_bgcolor": "#E5ECF6",
          "polar": {
           "angularaxis": {
            "gridcolor": "white",
            "linecolor": "white",
            "ticks": ""
           },
           "bgcolor": "#E5ECF6",
           "radialaxis": {
            "gridcolor": "white",
            "linecolor": "white",
            "ticks": ""
           }
          },
          "scene": {
           "xaxis": {
            "backgroundcolor": "#E5ECF6",
            "gridcolor": "white",
            "gridwidth": 2,
            "linecolor": "white",
            "showbackground": true,
            "ticks": "",
            "zerolinecolor": "white"
           },
           "yaxis": {
            "backgroundcolor": "#E5ECF6",
            "gridcolor": "white",
            "gridwidth": 2,
            "linecolor": "white",
            "showbackground": true,
            "ticks": "",
            "zerolinecolor": "white"
           },
           "zaxis": {
            "backgroundcolor": "#E5ECF6",
            "gridcolor": "white",
            "gridwidth": 2,
            "linecolor": "white",
            "showbackground": true,
            "ticks": "",
            "zerolinecolor": "white"
           }
          },
          "shapedefaults": {
           "line": {
            "color": "#2a3f5f"
           }
          },
          "ternary": {
           "aaxis": {
            "gridcolor": "white",
            "linecolor": "white",
            "ticks": ""
           },
           "baxis": {
            "gridcolor": "white",
            "linecolor": "white",
            "ticks": ""
           },
           "bgcolor": "#E5ECF6",
           "caxis": {
            "gridcolor": "white",
            "linecolor": "white",
            "ticks": ""
           }
          },
          "title": {
           "x": 0.05
          },
          "xaxis": {
           "automargin": true,
           "gridcolor": "white",
           "linecolor": "white",
           "ticks": "",
           "title": {
            "standoff": 15
           },
           "zerolinecolor": "white",
           "zerolinewidth": 2
          },
          "yaxis": {
           "automargin": true,
           "gridcolor": "white",
           "linecolor": "white",
           "ticks": "",
           "title": {
            "standoff": 15
           },
           "zerolinecolor": "white",
           "zerolinewidth": 2
          }
         }
        },
        "xaxis": {
         "anchor": "y",
         "domain": [
          0,
          0.94
         ],
         "linecolor": "black",
         "linewidth": 1,
         "showline": true,
         "title": {
          "text": "Industry"
         }
        },
        "yaxis": {
         "anchor": "x",
         "domain": [
          0,
          1
         ],
         "gridcolor": "lightgray",
         "gridwidth": 1,
         "linecolor": "black",
         "linewidth": 1,
         "showgrid": true,
         "showline": true,
         "title": {
          "text": "Frequency"
         }
        },
        "yaxis2": {
         "anchor": "x",
         "gridcolor": "lightgray",
         "gridwidth": 1,
         "linecolor": "black",
         "linewidth": 1,
         "overlaying": "y",
         "showgrid": true,
         "showline": true,
         "side": "right",
         "title": {
          "text": "log_loss"
         }
        }
       }
      },
      "text/html": [
       "<div>                            <div id=\"5f88e954-d112-4947-b6cf-4b96cd8e13bf\" class=\"plotly-graph-div\" style=\"height:500px; width:100%;\"></div>            <script type=\"text/javascript\">                require([\"plotly\"], function(Plotly) {                    window.PLOTLYENV=window.PLOTLYENV || {};                                    if (document.getElementById(\"5f88e954-d112-4947-b6cf-4b96cd8e13bf\")) {                    Plotly.newPlot(                        \"5f88e954-d112-4947-b6cf-4b96cd8e13bf\",                        [{\"marker\":{\"color\":\"lightblue\"},\"name\":\"Count\",\"opacity\":0.5,\"x\":[\"OTHER\",\"banking\",\"energy\",\"financial services\",\"healthcare\",\"insurance\",\"other\",\"retail\",\"telecom\"],\"y\":[121,152,172,143,124,134,167,160,157],\"type\":\"bar\"},{\"line\":{\"color\":\"black\",\"width\":2},\"marker\":{\"color\":\"black\",\"line\":{\"color\":\"black\",\"width\":2},\"size\":5,\"symbol\":\"cross-open\"},\"mode\":\"lines+markers\",\"name\":\"log_loss\",\"x\":[\"OTHER\",\"banking\",\"energy\",\"financial services\",\"healthcare\",\"insurance\",\"other\",\"retail\",\"telecom\"],\"y\":[0.34600810583701486,0.3588058272936873,0.23112438287644646,0.3793513447410023,0.34242978110632966,0.36780795291992474,0.3438714864416838,0.31702600506984246,0.34495124031789554],\"type\":\"scatter\",\"xaxis\":\"x\",\"yaxis\":\"y2\"}],                        {\"template\":{\"data\":{\"histogram2dcontour\":[{\"type\":\"histogram2dcontour\",\"colorbar\":{\"outlinewidth\":0,\"ticks\":\"\"},\"colorscale\":[[0.0,\"#0d0887\"],[0.1111111111111111,\"#46039f\"],[0.2222222222222222,\"#7201a8\"],[0.3333333333333333,\"#9c179e\"],[0.4444444444444444,\"#bd3786\"],[0.5555555555555556,\"#d8576b\"],[0.6666666666666666,\"#ed7953\"],[0.7777777777777778,\"#fb9f3a\"],[0.8888888888888888,\"#fdca26\"],[1.0,\"#f0f921\"]]}],\"choropleth\":[{\"type\":\"choropleth\",\"colorbar\":{\"outlinewidth\":0,\"ticks\":\"\"}}],\"histogram2d\":[{\"type\":\"histogram2d\",\"colorbar\":{\"outlinewidth\":0,\"ticks\":\"\"},\"colorscale\":[[0.0,\"#0d0887\"],[0.1111111111111111,\"#46039f\"],[0.2222222222222222,\"#7201a8\"],[0.3333333333333333,\"#9c179e\"],[0.4444444444444444,\"#bd3786\"],[0.5555555555555556,\"#d8576b\"],[0.6666666666666666,\"#ed7953\"],[0.7777777777777778,\"#fb9f3a\"],[0.8888888888888888,\"#fdca26\"],[1.0,\"#f0f921\"]]}],\"heatmap\":[{\"type\":\"heatmap\",\"colorbar\":{\"outlinewidth\":0,\"ticks\":\"\"},\"colorscale\":[[0.0,\"#0d0887\"],[0.1111111111111111,\"#46039f\"],[0.2222222222222222,\"#7201a8\"],[0.3333333333333333,\"#9c179e\"],[0.4444444444444444,\"#bd3786\"],[0.5555555555555556,\"#d8576b\"],[0.6666666666666666,\"#ed7953\"],[0.7777777777777778,\"#fb9f3a\"],[0.8888888888888888,\"#fdca26\"],[1.0,\"#f0f921\"]]}],\"heatmapgl\":[{\"type\":\"heatmapgl\",\"colorbar\":{\"outlinewidth\":0,\"ticks\":\"\"},\"colorscale\":[[0.0,\"#0d0887\"],[0.1111111111111111,\"#46039f\"],[0.2222222222222222,\"#7201a8\"],[0.3333333333333333,\"#9c179e\"],[0.4444444444444444,\"#bd3786\"],[0.5555555555555556,\"#d8576b\"],[0.6666666666666666,\"#ed7953\"],[0.7777777777777778,\"#fb9f3a\"],[0.8888888888888888,\"#fdca26\"],[1.0,\"#f0f921\"]]}],\"contourcarpet\":[{\"type\":\"contourcarpet\",\"colorbar\":{\"outlinewidth\":0,\"ticks\":\"\"}}],\"contour\":[{\"type\":\"contour\",\"colorbar\":{\"outlinewidth\":0,\"ticks\":\"\"},\"colorscale\":[[0.0,\"#0d0887\"],[0.1111111111111111,\"#46039f\"],[0.2222222222222222,\"#7201a8\"],[0.3333333333333333,\"#9c179e\"],[0.4444444444444444,\"#bd3786\"],[0.5555555555555556,\"#d8576b\"],[0.6666666666666666,\"#ed7953\"],[0.7777777777777778,\"#fb9f3a\"],[0.8888888888888888,\"#fdca26\"],[1.0,\"#f0f921\"]]}],\"surface\":[{\"type\":\"surface\",\"colorbar\":{\"outlinewidth\":0,\"ticks\":\"\"},\"colorscale\":[[0.0,\"#0d0887\"],[0.1111111111111111,\"#46039f\"],[0.2222222222222222,\"#7201a8\"],[0.3333333333333333,\"#9c179e\"],[0.4444444444444444,\"#bd3786\"],[0.5555555555555556,\"#d8576b\"],[0.6666666666666666,\"#ed7953\"],[0.7777777777777778,\"#fb9f3a\"],[0.8888888888888888,\"#fdca26\"],[1.0,\"#f0f921\"]]}],\"mesh3d\":[{\"type\":\"mesh3d\",\"colorbar\":{\"outlinewidth\":0,\"ticks\":\"\"}}],\"scatter\":[{\"fillpattern\":{\"fillmode\":\"overlay\",\"size\":10,\"solidity\":0.2},\"type\":\"scatter\"}],\"parcoords\":[{\"type\":\"parcoords\",\"line\":{\"colorbar\":{\"outlinewidth\":0,\"ticks\":\"\"}}}],\"scatterpolargl\":[{\"type\":\"scatterpolargl\",\"marker\":{\"colorbar\":{\"outlinewidth\":0,\"ticks\":\"\"}}}],\"bar\":[{\"error_x\":{\"color\":\"#2a3f5f\"},\"error_y\":{\"color\":\"#2a3f5f\"},\"marker\":{\"line\":{\"color\":\"#E5ECF6\",\"width\":0.5},\"pattern\":{\"fillmode\":\"overlay\",\"size\":10,\"solidity\":0.2}},\"type\":\"bar\"}],\"scattergeo\":[{\"type\":\"scattergeo\",\"marker\":{\"colorbar\":{\"outlinewidth\":0,\"ticks\":\"\"}}}],\"scatterpolar\":[{\"type\":\"scatterpolar\",\"marker\":{\"colorbar\":{\"outlinewidth\":0,\"ticks\":\"\"}}}],\"histogram\":[{\"marker\":{\"pattern\":{\"fillmode\":\"overlay\",\"size\":10,\"solidity\":0.2}},\"type\":\"histogram\"}],\"scattergl\":[{\"type\":\"scattergl\",\"marker\":{\"colorbar\":{\"outlinewidth\":0,\"ticks\":\"\"}}}],\"scatter3d\":[{\"type\":\"scatter3d\",\"line\":{\"colorbar\":{\"outlinewidth\":0,\"ticks\":\"\"}},\"marker\":{\"colorbar\":{\"outlinewidth\":0,\"ticks\":\"\"}}}],\"scattermapbox\":[{\"type\":\"scattermapbox\",\"marker\":{\"colorbar\":{\"outlinewidth\":0,\"ticks\":\"\"}}}],\"scatterternary\":[{\"type\":\"scatterternary\",\"marker\":{\"colorbar\":{\"outlinewidth\":0,\"ticks\":\"\"}}}],\"scattercarpet\":[{\"type\":\"scattercarpet\",\"marker\":{\"colorbar\":{\"outlinewidth\":0,\"ticks\":\"\"}}}],\"carpet\":[{\"aaxis\":{\"endlinecolor\":\"#2a3f5f\",\"gridcolor\":\"white\",\"linecolor\":\"white\",\"minorgridcolor\":\"white\",\"startlinecolor\":\"#2a3f5f\"},\"baxis\":{\"endlinecolor\":\"#2a3f5f\",\"gridcolor\":\"white\",\"linecolor\":\"white\",\"minorgridcolor\":\"white\",\"startlinecolor\":\"#2a3f5f\"},\"type\":\"carpet\"}],\"table\":[{\"cells\":{\"fill\":{\"color\":\"#EBF0F8\"},\"line\":{\"color\":\"white\"}},\"header\":{\"fill\":{\"color\":\"#C8D4E3\"},\"line\":{\"color\":\"white\"}},\"type\":\"table\"}],\"barpolar\":[{\"marker\":{\"line\":{\"color\":\"#E5ECF6\",\"width\":0.5},\"pattern\":{\"fillmode\":\"overlay\",\"size\":10,\"solidity\":0.2}},\"type\":\"barpolar\"}],\"pie\":[{\"automargin\":true,\"type\":\"pie\"}]},\"layout\":{\"autotypenumbers\":\"strict\",\"colorway\":[\"#636efa\",\"#EF553B\",\"#00cc96\",\"#ab63fa\",\"#FFA15A\",\"#19d3f3\",\"#FF6692\",\"#B6E880\",\"#FF97FF\",\"#FECB52\"],\"font\":{\"color\":\"#2a3f5f\"},\"hovermode\":\"closest\",\"hoverlabel\":{\"align\":\"left\"},\"paper_bgcolor\":\"white\",\"plot_bgcolor\":\"#E5ECF6\",\"polar\":{\"bgcolor\":\"#E5ECF6\",\"angularaxis\":{\"gridcolor\":\"white\",\"linecolor\":\"white\",\"ticks\":\"\"},\"radialaxis\":{\"gridcolor\":\"white\",\"linecolor\":\"white\",\"ticks\":\"\"}},\"ternary\":{\"bgcolor\":\"#E5ECF6\",\"aaxis\":{\"gridcolor\":\"white\",\"linecolor\":\"white\",\"ticks\":\"\"},\"baxis\":{\"gridcolor\":\"white\",\"linecolor\":\"white\",\"ticks\":\"\"},\"caxis\":{\"gridcolor\":\"white\",\"linecolor\":\"white\",\"ticks\":\"\"}},\"coloraxis\":{\"colorbar\":{\"outlinewidth\":0,\"ticks\":\"\"}},\"colorscale\":{\"sequential\":[[0.0,\"#0d0887\"],[0.1111111111111111,\"#46039f\"],[0.2222222222222222,\"#7201a8\"],[0.3333333333333333,\"#9c179e\"],[0.4444444444444444,\"#bd3786\"],[0.5555555555555556,\"#d8576b\"],[0.6666666666666666,\"#ed7953\"],[0.7777777777777778,\"#fb9f3a\"],[0.8888888888888888,\"#fdca26\"],[1.0,\"#f0f921\"]],\"sequentialminus\":[[0.0,\"#0d0887\"],[0.1111111111111111,\"#46039f\"],[0.2222222222222222,\"#7201a8\"],[0.3333333333333333,\"#9c179e\"],[0.4444444444444444,\"#bd3786\"],[0.5555555555555556,\"#d8576b\"],[0.6666666666666666,\"#ed7953\"],[0.7777777777777778,\"#fb9f3a\"],[0.8888888888888888,\"#fdca26\"],[1.0,\"#f0f921\"]],\"diverging\":[[0,\"#8e0152\"],[0.1,\"#c51b7d\"],[0.2,\"#de77ae\"],[0.3,\"#f1b6da\"],[0.4,\"#fde0ef\"],[0.5,\"#f7f7f7\"],[0.6,\"#e6f5d0\"],[0.7,\"#b8e186\"],[0.8,\"#7fbc41\"],[0.9,\"#4d9221\"],[1,\"#276419\"]]},\"xaxis\":{\"gridcolor\":\"white\",\"linecolor\":\"white\",\"ticks\":\"\",\"title\":{\"standoff\":15},\"zerolinecolor\":\"white\",\"automargin\":true,\"zerolinewidth\":2},\"yaxis\":{\"gridcolor\":\"white\",\"linecolor\":\"white\",\"ticks\":\"\",\"title\":{\"standoff\":15},\"zerolinecolor\":\"white\",\"automargin\":true,\"zerolinewidth\":2},\"scene\":{\"xaxis\":{\"backgroundcolor\":\"#E5ECF6\",\"gridcolor\":\"white\",\"linecolor\":\"white\",\"showbackground\":true,\"ticks\":\"\",\"zerolinecolor\":\"white\",\"gridwidth\":2},\"yaxis\":{\"backgroundcolor\":\"#E5ECF6\",\"gridcolor\":\"white\",\"linecolor\":\"white\",\"showbackground\":true,\"ticks\":\"\",\"zerolinecolor\":\"white\",\"gridwidth\":2},\"zaxis\":{\"backgroundcolor\":\"#E5ECF6\",\"gridcolor\":\"white\",\"linecolor\":\"white\",\"showbackground\":true,\"ticks\":\"\",\"zerolinecolor\":\"white\",\"gridwidth\":2}},\"shapedefaults\":{\"line\":{\"color\":\"#2a3f5f\"}},\"annotationdefaults\":{\"arrowcolor\":\"#2a3f5f\",\"arrowhead\":0,\"arrowwidth\":1},\"geo\":{\"bgcolor\":\"white\",\"landcolor\":\"#E5ECF6\",\"subunitcolor\":\"white\",\"showland\":true,\"showlakes\":true,\"lakecolor\":\"white\"},\"title\":{\"x\":0.05},\"mapbox\":{\"style\":\"light\"}}},\"xaxis\":{\"anchor\":\"y\",\"domain\":[0.0,0.94],\"title\":{\"text\":\"Industry\"},\"showline\":true,\"linewidth\":1,\"linecolor\":\"black\"},\"yaxis\":{\"anchor\":\"x\",\"domain\":[0.0,1.0],\"title\":{\"text\":\"Frequency\"},\"showline\":true,\"linewidth\":1,\"linecolor\":\"black\",\"showgrid\":true,\"gridwidth\":1,\"gridcolor\":\"lightgray\"},\"yaxis2\":{\"anchor\":\"x\",\"overlaying\":\"y\",\"side\":\"right\",\"title\":{\"text\":\"log_loss\"},\"showline\":true,\"linewidth\":1,\"linecolor\":\"black\",\"showgrid\":true,\"gridwidth\":1,\"gridcolor\":\"lightgray\"},\"hoverlabel\":{\"font\":{\"size\":16,\"family\":\"Rockwell\"},\"bgcolor\":\"white\",\"namelength\":-1},\"height\":500,\"plot_bgcolor\":\"rgba(0,0,0,0)\",\"showlegend\":true},                        {\"responsive\": true}                    ).then(function(){\n",
       "                            \n",
       "var gd = document.getElementById('5f88e954-d112-4947-b6cf-4b96cd8e13bf');\n",
       "var x = new MutationObserver(function (mutations, observer) {{\n",
       "        var display = window.getComputedStyle(gd).display;\n",
       "        if (!display || display === 'none') {{\n",
       "            console.log([gd, 'removed!']);\n",
       "            Plotly.purge(gd);\n",
       "            observer.disconnect();\n",
       "        }}\n",
       "}});\n",
       "\n",
       "// Listen for the removal of the full notebook cells\n",
       "var notebookContainer = gd.closest('#notebook-container');\n",
       "if (notebookContainer) {{\n",
       "    x.observe(notebookContainer, {childList: true});\n",
       "}}\n",
       "\n",
       "// Listen for the clearing of the current output cell\n",
       "var outputEl = gd.closest('.output');\n",
       "if (outputEl) {{\n",
       "    x.observe(outputEl, {childList: true});\n",
       "}}\n",
       "\n",
       "                        })                };                });            </script>        </div>"
      ]
     },
     "metadata": {},
     "output_type": "display_data"
    }
   ],
   "source": [
    "plot_error(\n",
    "    preds2,\n",
    "    project.id,\n",
    "    feature='Industry',\n",
    "    metric=log_loss,\n",
    "    bins=10,\n",
    "    showlegend=True,\n",
    ")"
   ]
  }
 ],
 "metadata": {
  "kernelspec": {
   "display_name": "medium_env",
   "language": "python",
   "name": "medium_env"
  },
  "language_info": {
   "codemirror_mode": {
    "name": "ipython",
    "version": 3
   },
   "file_extension": ".py",
   "mimetype": "text/x-python",
   "name": "python",
   "nbconvert_exporter": "python",
   "pygments_lexer": "ipython3",
   "version": "3.10.10"
  }
 },
 "nbformat": 4,
 "nbformat_minor": 5
}
