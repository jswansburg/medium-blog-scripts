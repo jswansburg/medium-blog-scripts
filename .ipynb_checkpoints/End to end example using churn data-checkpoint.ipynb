{
 "cells": [
  {
   "cell_type": "markdown",
   "id": "51461f32",
   "metadata": {},
   "source": [
    "## Walkthrough of how to output helpful insights for ML models"
   ]
  },
  {
   "cell_type": "code",
   "execution_count": 752,
   "id": "dfdbab62",
   "metadata": {},
   "outputs": [],
   "source": [
    "import datarobotx as drx\n",
    "import datarobot as dr\n",
    "import pandas as pd\n",
    "import numpy as np\n",
    "import datetime\n",
    "\n",
    "from feature_impact_helpers import *\n",
    "from lift_chart_helpers import *\n",
    "from insights_over_time_helpers import *\n",
    "from data_table_helpers import *\n",
    "\n",
    "from importlib import reload\n",
    "%reload_ext autoreload\n",
    "%autoreload 2\n",
    "\n",
    "import warnings\n",
    "warnings.filterwarnings('ignore')"
   ]
  },
  {
   "cell_type": "markdown",
   "id": "e505bad8",
   "metadata": {},
   "source": [
    "### Authenticate credentials"
   ]
  },
  {
   "cell_type": "code",
   "execution_count": 173,
   "id": "5d586424",
   "metadata": {},
   "outputs": [
    {
     "data": {
      "text/plain": [
       "<datarobot.rest.RESTClientObject at 0x134915750>"
      ]
     },
     "execution_count": 173,
     "metadata": {},
     "output_type": "execute_result"
    }
   ],
   "source": [
    "dr.Client()"
   ]
  },
  {
   "cell_type": "markdown",
   "id": "2032f36a",
   "metadata": {},
   "source": [
    "## 1. Retrieve and prep data"
   ]
  },
  {
   "cell_type": "code",
   "execution_count": 877,
   "id": "e282b0cf",
   "metadata": {},
   "outputs": [],
   "source": [
    "project_id = '642dbc74ac83191fc267ef3d' #'64289f6808f30af7340d660c'\n",
    "model_id = '642dbe6dd3b89b35a56d3ba8' #'6428a0d8763f72552338e7d6' \n",
    "deployment_id = None\n",
    "\n",
    "# grab DataRobot project\n",
    "project = dr.Project.get(project_id)"
   ]
  },
  {
   "cell_type": "code",
   "execution_count": 871,
   "id": "ed318c7b",
   "metadata": {},
   "outputs": [],
   "source": [
    "# read in dataset\n",
    "filename = 'feature_discover_data.csv'\n",
    "project.download_feature_discovery_dataset(file_name=filename)\n",
    "df = pd.read_csv(filename)"
   ]
  },
  {
   "cell_type": "code",
   "execution_count": 872,
   "id": "6dc93f69",
   "metadata": {},
   "outputs": [],
   "source": [
    "# subset data to after June 2021\n",
    "df2 = df.loc[pd.to_datetime(df['Prediction_Point'])>=pd.to_datetime('2021-01-01'), :]"
   ]
  },
  {
   "cell_type": "markdown",
   "id": "abdc5599",
   "metadata": {},
   "source": [
    "### Retrive DRX model object and deploy model"
   ]
  },
  {
   "cell_type": "code",
   "execution_count": 875,
   "id": "69af9e4b",
   "metadata": {},
   "outputs": [
    {
     "data": {
      "application/vnd.jupyter.widget-view+json": {
       "model_id": "9197d8d3a4a44ac1ba05351979a0af22",
       "version_major": 2,
       "version_minor": 0
      },
      "text/plain": [
       "VBox()"
      ]
     },
     "metadata": {},
     "output_type": "display_data"
    }
   ],
   "source": [
    "drx_model = drx.AutoMLModel.from_project_id(project_id)"
   ]
  },
  {
   "cell_type": "code",
   "execution_count": 878,
   "id": "ea8ce315",
   "metadata": {},
   "outputs": [
    {
     "data": {
      "application/vnd.jupyter.widget-view+json": {
       "model_id": "18830cd070e14408803c9076b19ca5c2",
       "version_major": 2,
       "version_minor": 0
      },
      "text/plain": [
       "VBox()"
      ]
     },
     "metadata": {},
     "output_type": "display_data"
    }
   ],
   "source": [
    "if deployment_id:\n",
    "    drx_deployment = drx.Deployment.from_url(f'https://app.datarobot.com/deployments/{deployment_id}/')\n",
    "else:\n",
    "    today = datetime.datetime.now()\n",
    "    drx_deployment = drx_model.deploy(name=f'Customer Churn - {today}')"
   ]
  },
  {
   "cell_type": "markdown",
   "id": "9e120beb",
   "metadata": {},
   "source": [
    "### Get batch predictions and prediction explanations"
   ]
  },
  {
   "cell_type": "code",
   "execution_count": 865,
   "id": "0a1b1262",
   "metadata": {},
   "outputs": [
    {
     "data": {
      "application/vnd.jupyter.widget-view+json": {
       "model_id": "358b301be1ee49629d4983f5b0ffaa5e",
       "version_major": 2,
       "version_minor": 0
      },
      "text/plain": [
       "VBox()"
      ]
     },
     "metadata": {},
     "output_type": "display_data"
    }
   ],
   "source": [
    "drx.Context()._deployments_use_rt_endpoint=False\n",
    "preds = drx_deployment.predict_proba(\n",
    "    X=df2, \n",
    "    max_explanations=20\n",
    ")"
   ]
  },
  {
   "cell_type": "code",
   "execution_count": 881,
   "id": "17911cb9",
   "metadata": {},
   "outputs": [],
   "source": [
    "# merge preds with original data\n",
    "preds2 = preds.merge(\n",
    "    df2.reset_index(drop=True),\n",
    "    how='left',\n",
    "    left_index=True,\n",
    "    right_index=True,\n",
    ")"
   ]
  },
  {
   "cell_type": "markdown",
   "id": "642a055a",
   "metadata": {},
   "source": [
    "### Use DRX helper functions to melt and reshape our predictions"
   ]
  },
  {
   "cell_type": "code",
   "execution_count": 882,
   "id": "b7b23fb7",
   "metadata": {},
   "outputs": [],
   "source": [
    "melted = drx.melt_explanations(preds2, id_vars=list(df2.columns)+['class_1'])\n",
    "reshaped = drx.featurize_explanations(preds2)"
   ]
  },
  {
   "cell_type": "markdown",
   "id": "9345c6d4",
   "metadata": {},
   "source": [
    "## 2. Now it's time to create our insights"
   ]
  },
  {
   "cell_type": "markdown",
   "id": "b0e34527",
   "metadata": {},
   "source": [
    "### Plot feature impact"
   ]
  },
  {
   "cell_type": "code",
   "execution_count": 883,
   "id": "85136c70",
   "metadata": {},
   "outputs": [
    {
     "data": {
      "application/vnd.plotly.v1+json": {
       "config": {
        "plotlyServerURL": "https://plot.ly"
       },
       "data": [
        {
         "alignmentgroup": "True",
         "hovertemplate": "<b>Feature Name:</b> %{y} <br><b>Feature Strength:</b> %{x}<extra></extra>",
         "legendgroup": "",
         "marker": {
          "color": "#636efa",
          "pattern": {
           "shape": ""
          }
         },
         "name": "",
         "offsetgroup": "",
         "orientation": "h",
         "showlegend": false,
         "textposition": "auto",
         "type": "bar",
         "x": [
          42.384021958699996,
          51.51452930240001,
          62.307808060999996,
          62.4571415009,
          62.6520697585,
          66.8010716117,
          78.0472724027,
          96.0404338506,
          100.1665579104,
          102.7991204697,
          103.049109306,
          103.85296537010001,
          109.5594896863,
          126.60024135649999,
          136.9721058466,
          148.33149936340004,
          152.0843788976,
          184.3161372921,
          199.7354660598,
          285.4356345325,
          352.2880025961,
          383.46092880230003,
          424.91733362339994,
          429.0963302642,
          501.4999994315
         ],
         "xaxis": "x",
         "y": [
          "Latitude",
          "Products_Purchased",
          "Longitude",
          "Product_Usage[Activity_Type] (180 days unique count)",
          "Annual_Revenue",
          "Product_Usage[Activity_Type] (1 month unique count)",
          "CSAT[Customer_Review] (latest)",
          "Prediction_Point (days from Product_Usage[Activity_Timestamp]) (180 days avg)",
          "ARR",
          "Industry",
          "Customers[Customer_Succes_Manager] (5 years most frequent)",
          "Product_Usage[Activity_Type] (180 days most frequent)",
          "Customers[Products_Purchased] (5 years most frequent)",
          "Product_Usage[UserID] (1 month unique count)",
          "CSAT[Net_Promoter_Score] (latest)",
          "Customers[Products_Purchased] (5 years count of business_essentials)",
          "Product_Usage (1 month count)",
          "Product_Usage[Activity_Type] (1 month most frequent)",
          "Employee_Count",
          "State",
          "Product_Usage (180 days count)",
          "Contract_Duration",
          "duration(Renewal_Date, Customer_Since_Date)",
          "Customers[Products_Purchased] (5 years unique count)",
          "Customer_Succes_Manager"
         ],
         "yaxis": "y"
        }
       ],
       "layout": {
        "barmode": "relative",
        "height": 500,
        "hoverlabel": {
         "bgcolor": "white",
         "font": {
          "family": "Rockwell",
          "size": 16
         },
         "namelength": -1
        },
        "legend": {
         "tracegroupgap": 0
        },
        "margin": {
         "t": 60
        },
        "plot_bgcolor": "rgba(0,0,0,0)",
        "template": {
         "data": {
          "bar": [
           {
            "error_x": {
             "color": "#2a3f5f"
            },
            "error_y": {
             "color": "#2a3f5f"
            },
            "marker": {
             "line": {
              "color": "#E5ECF6",
              "width": 0.5
             },
             "pattern": {
              "fillmode": "overlay",
              "size": 10,
              "solidity": 0.2
             }
            },
            "type": "bar"
           }
          ],
          "barpolar": [
           {
            "marker": {
             "line": {
              "color": "#E5ECF6",
              "width": 0.5
             },
             "pattern": {
              "fillmode": "overlay",
              "size": 10,
              "solidity": 0.2
             }
            },
            "type": "barpolar"
           }
          ],
          "carpet": [
           {
            "aaxis": {
             "endlinecolor": "#2a3f5f",
             "gridcolor": "white",
             "linecolor": "white",
             "minorgridcolor": "white",
             "startlinecolor": "#2a3f5f"
            },
            "baxis": {
             "endlinecolor": "#2a3f5f",
             "gridcolor": "white",
             "linecolor": "white",
             "minorgridcolor": "white",
             "startlinecolor": "#2a3f5f"
            },
            "type": "carpet"
           }
          ],
          "choropleth": [
           {
            "colorbar": {
             "outlinewidth": 0,
             "ticks": ""
            },
            "type": "choropleth"
           }
          ],
          "contour": [
           {
            "colorbar": {
             "outlinewidth": 0,
             "ticks": ""
            },
            "colorscale": [
             [
              0,
              "#0d0887"
             ],
             [
              0.1111111111111111,
              "#46039f"
             ],
             [
              0.2222222222222222,
              "#7201a8"
             ],
             [
              0.3333333333333333,
              "#9c179e"
             ],
             [
              0.4444444444444444,
              "#bd3786"
             ],
             [
              0.5555555555555556,
              "#d8576b"
             ],
             [
              0.6666666666666666,
              "#ed7953"
             ],
             [
              0.7777777777777778,
              "#fb9f3a"
             ],
             [
              0.8888888888888888,
              "#fdca26"
             ],
             [
              1,
              "#f0f921"
             ]
            ],
            "type": "contour"
           }
          ],
          "contourcarpet": [
           {
            "colorbar": {
             "outlinewidth": 0,
             "ticks": ""
            },
            "type": "contourcarpet"
           }
          ],
          "heatmap": [
           {
            "colorbar": {
             "outlinewidth": 0,
             "ticks": ""
            },
            "colorscale": [
             [
              0,
              "#0d0887"
             ],
             [
              0.1111111111111111,
              "#46039f"
             ],
             [
              0.2222222222222222,
              "#7201a8"
             ],
             [
              0.3333333333333333,
              "#9c179e"
             ],
             [
              0.4444444444444444,
              "#bd3786"
             ],
             [
              0.5555555555555556,
              "#d8576b"
             ],
             [
              0.6666666666666666,
              "#ed7953"
             ],
             [
              0.7777777777777778,
              "#fb9f3a"
             ],
             [
              0.8888888888888888,
              "#fdca26"
             ],
             [
              1,
              "#f0f921"
             ]
            ],
            "type": "heatmap"
           }
          ],
          "heatmapgl": [
           {
            "colorbar": {
             "outlinewidth": 0,
             "ticks": ""
            },
            "colorscale": [
             [
              0,
              "#0d0887"
             ],
             [
              0.1111111111111111,
              "#46039f"
             ],
             [
              0.2222222222222222,
              "#7201a8"
             ],
             [
              0.3333333333333333,
              "#9c179e"
             ],
             [
              0.4444444444444444,
              "#bd3786"
             ],
             [
              0.5555555555555556,
              "#d8576b"
             ],
             [
              0.6666666666666666,
              "#ed7953"
             ],
             [
              0.7777777777777778,
              "#fb9f3a"
             ],
             [
              0.8888888888888888,
              "#fdca26"
             ],
             [
              1,
              "#f0f921"
             ]
            ],
            "type": "heatmapgl"
           }
          ],
          "histogram": [
           {
            "marker": {
             "pattern": {
              "fillmode": "overlay",
              "size": 10,
              "solidity": 0.2
             }
            },
            "type": "histogram"
           }
          ],
          "histogram2d": [
           {
            "colorbar": {
             "outlinewidth": 0,
             "ticks": ""
            },
            "colorscale": [
             [
              0,
              "#0d0887"
             ],
             [
              0.1111111111111111,
              "#46039f"
             ],
             [
              0.2222222222222222,
              "#7201a8"
             ],
             [
              0.3333333333333333,
              "#9c179e"
             ],
             [
              0.4444444444444444,
              "#bd3786"
             ],
             [
              0.5555555555555556,
              "#d8576b"
             ],
             [
              0.6666666666666666,
              "#ed7953"
             ],
             [
              0.7777777777777778,
              "#fb9f3a"
             ],
             [
              0.8888888888888888,
              "#fdca26"
             ],
             [
              1,
              "#f0f921"
             ]
            ],
            "type": "histogram2d"
           }
          ],
          "histogram2dcontour": [
           {
            "colorbar": {
             "outlinewidth": 0,
             "ticks": ""
            },
            "colorscale": [
             [
              0,
              "#0d0887"
             ],
             [
              0.1111111111111111,
              "#46039f"
             ],
             [
              0.2222222222222222,
              "#7201a8"
             ],
             [
              0.3333333333333333,
              "#9c179e"
             ],
             [
              0.4444444444444444,
              "#bd3786"
             ],
             [
              0.5555555555555556,
              "#d8576b"
             ],
             [
              0.6666666666666666,
              "#ed7953"
             ],
             [
              0.7777777777777778,
              "#fb9f3a"
             ],
             [
              0.8888888888888888,
              "#fdca26"
             ],
             [
              1,
              "#f0f921"
             ]
            ],
            "type": "histogram2dcontour"
           }
          ],
          "mesh3d": [
           {
            "colorbar": {
             "outlinewidth": 0,
             "ticks": ""
            },
            "type": "mesh3d"
           }
          ],
          "parcoords": [
           {
            "line": {
             "colorbar": {
              "outlinewidth": 0,
              "ticks": ""
             }
            },
            "type": "parcoords"
           }
          ],
          "pie": [
           {
            "automargin": true,
            "type": "pie"
           }
          ],
          "scatter": [
           {
            "fillpattern": {
             "fillmode": "overlay",
             "size": 10,
             "solidity": 0.2
            },
            "type": "scatter"
           }
          ],
          "scatter3d": [
           {
            "line": {
             "colorbar": {
              "outlinewidth": 0,
              "ticks": ""
             }
            },
            "marker": {
             "colorbar": {
              "outlinewidth": 0,
              "ticks": ""
             }
            },
            "type": "scatter3d"
           }
          ],
          "scattercarpet": [
           {
            "marker": {
             "colorbar": {
              "outlinewidth": 0,
              "ticks": ""
             }
            },
            "type": "scattercarpet"
           }
          ],
          "scattergeo": [
           {
            "marker": {
             "colorbar": {
              "outlinewidth": 0,
              "ticks": ""
             }
            },
            "type": "scattergeo"
           }
          ],
          "scattergl": [
           {
            "marker": {
             "colorbar": {
              "outlinewidth": 0,
              "ticks": ""
             }
            },
            "type": "scattergl"
           }
          ],
          "scattermapbox": [
           {
            "marker": {
             "colorbar": {
              "outlinewidth": 0,
              "ticks": ""
             }
            },
            "type": "scattermapbox"
           }
          ],
          "scatterpolar": [
           {
            "marker": {
             "colorbar": {
              "outlinewidth": 0,
              "ticks": ""
             }
            },
            "type": "scatterpolar"
           }
          ],
          "scatterpolargl": [
           {
            "marker": {
             "colorbar": {
              "outlinewidth": 0,
              "ticks": ""
             }
            },
            "type": "scatterpolargl"
           }
          ],
          "scatterternary": [
           {
            "marker": {
             "colorbar": {
              "outlinewidth": 0,
              "ticks": ""
             }
            },
            "type": "scatterternary"
           }
          ],
          "surface": [
           {
            "colorbar": {
             "outlinewidth": 0,
             "ticks": ""
            },
            "colorscale": [
             [
              0,
              "#0d0887"
             ],
             [
              0.1111111111111111,
              "#46039f"
             ],
             [
              0.2222222222222222,
              "#7201a8"
             ],
             [
              0.3333333333333333,
              "#9c179e"
             ],
             [
              0.4444444444444444,
              "#bd3786"
             ],
             [
              0.5555555555555556,
              "#d8576b"
             ],
             [
              0.6666666666666666,
              "#ed7953"
             ],
             [
              0.7777777777777778,
              "#fb9f3a"
             ],
             [
              0.8888888888888888,
              "#fdca26"
             ],
             [
              1,
              "#f0f921"
             ]
            ],
            "type": "surface"
           }
          ],
          "table": [
           {
            "cells": {
             "fill": {
              "color": "#EBF0F8"
             },
             "line": {
              "color": "white"
             }
            },
            "header": {
             "fill": {
              "color": "#C8D4E3"
             },
             "line": {
              "color": "white"
             }
            },
            "type": "table"
           }
          ]
         },
         "layout": {
          "annotationdefaults": {
           "arrowcolor": "#2a3f5f",
           "arrowhead": 0,
           "arrowwidth": 1
          },
          "autotypenumbers": "strict",
          "coloraxis": {
           "colorbar": {
            "outlinewidth": 0,
            "ticks": ""
           }
          },
          "colorscale": {
           "diverging": [
            [
             0,
             "#8e0152"
            ],
            [
             0.1,
             "#c51b7d"
            ],
            [
             0.2,
             "#de77ae"
            ],
            [
             0.3,
             "#f1b6da"
            ],
            [
             0.4,
             "#fde0ef"
            ],
            [
             0.5,
             "#f7f7f7"
            ],
            [
             0.6,
             "#e6f5d0"
            ],
            [
             0.7,
             "#b8e186"
            ],
            [
             0.8,
             "#7fbc41"
            ],
            [
             0.9,
             "#4d9221"
            ],
            [
             1,
             "#276419"
            ]
           ],
           "sequential": [
            [
             0,
             "#0d0887"
            ],
            [
             0.1111111111111111,
             "#46039f"
            ],
            [
             0.2222222222222222,
             "#7201a8"
            ],
            [
             0.3333333333333333,
             "#9c179e"
            ],
            [
             0.4444444444444444,
             "#bd3786"
            ],
            [
             0.5555555555555556,
             "#d8576b"
            ],
            [
             0.6666666666666666,
             "#ed7953"
            ],
            [
             0.7777777777777778,
             "#fb9f3a"
            ],
            [
             0.8888888888888888,
             "#fdca26"
            ],
            [
             1,
             "#f0f921"
            ]
           ],
           "sequentialminus": [
            [
             0,
             "#0d0887"
            ],
            [
             0.1111111111111111,
             "#46039f"
            ],
            [
             0.2222222222222222,
             "#7201a8"
            ],
            [
             0.3333333333333333,
             "#9c179e"
            ],
            [
             0.4444444444444444,
             "#bd3786"
            ],
            [
             0.5555555555555556,
             "#d8576b"
            ],
            [
             0.6666666666666666,
             "#ed7953"
            ],
            [
             0.7777777777777778,
             "#fb9f3a"
            ],
            [
             0.8888888888888888,
             "#fdca26"
            ],
            [
             1,
             "#f0f921"
            ]
           ]
          },
          "colorway": [
           "#636efa",
           "#EF553B",
           "#00cc96",
           "#ab63fa",
           "#FFA15A",
           "#19d3f3",
           "#FF6692",
           "#B6E880",
           "#FF97FF",
           "#FECB52"
          ],
          "font": {
           "color": "#2a3f5f"
          },
          "geo": {
           "bgcolor": "white",
           "lakecolor": "white",
           "landcolor": "#E5ECF6",
           "showlakes": true,
           "showland": true,
           "subunitcolor": "white"
          },
          "hoverlabel": {
           "align": "left"
          },
          "hovermode": "closest",
          "mapbox": {
           "style": "light"
          },
          "paper_bgcolor": "white",
          "plot_bgcolor": "#E5ECF6",
          "polar": {
           "angularaxis": {
            "gridcolor": "white",
            "linecolor": "white",
            "ticks": ""
           },
           "bgcolor": "#E5ECF6",
           "radialaxis": {
            "gridcolor": "white",
            "linecolor": "white",
            "ticks": ""
           }
          },
          "scene": {
           "xaxis": {
            "backgroundcolor": "#E5ECF6",
            "gridcolor": "white",
            "gridwidth": 2,
            "linecolor": "white",
            "showbackground": true,
            "ticks": "",
            "zerolinecolor": "white"
           },
           "yaxis": {
            "backgroundcolor": "#E5ECF6",
            "gridcolor": "white",
            "gridwidth": 2,
            "linecolor": "white",
            "showbackground": true,
            "ticks": "",
            "zerolinecolor": "white"
           },
           "zaxis": {
            "backgroundcolor": "#E5ECF6",
            "gridcolor": "white",
            "gridwidth": 2,
            "linecolor": "white",
            "showbackground": true,
            "ticks": "",
            "zerolinecolor": "white"
           }
          },
          "shapedefaults": {
           "line": {
            "color": "#2a3f5f"
           }
          },
          "ternary": {
           "aaxis": {
            "gridcolor": "white",
            "linecolor": "white",
            "ticks": ""
           },
           "baxis": {
            "gridcolor": "white",
            "linecolor": "white",
            "ticks": ""
           },
           "bgcolor": "#E5ECF6",
           "caxis": {
            "gridcolor": "white",
            "linecolor": "white",
            "ticks": ""
           }
          },
          "title": {
           "x": 0.05
          },
          "xaxis": {
           "automargin": true,
           "gridcolor": "white",
           "linecolor": "white",
           "ticks": "",
           "title": {
            "standoff": 15
           },
           "zerolinecolor": "white",
           "zerolinewidth": 2
          },
          "yaxis": {
           "automargin": true,
           "gridcolor": "white",
           "linecolor": "white",
           "ticks": "",
           "title": {
            "standoff": 15
           },
           "zerolinecolor": "white",
           "zerolinewidth": 2
          }
         }
        },
        "xaxis": {
         "anchor": "y",
         "domain": [
          0,
          1
         ],
         "linecolor": "black",
         "linewidth": 2,
         "showline": true,
         "title": {
          "text": "Impact"
         }
        },
        "yaxis": {
         "anchor": "x",
         "domain": [
          0,
          1
         ],
         "linecolor": "black",
         "linewidth": 2,
         "showline": true,
         "ticktext": [
          "Latitude",
          "Products_Purchased",
          "Longitude",
          "Product_Usage[Activity_Type] (180 days unique",
          "Annual_Revenue",
          "Product_Usage[Activity_Type] (1 month unique ",
          "CSAT[Customer_Review] (latest)",
          "Prediction_Point (days from Product_Usage[Act",
          "ARR",
          "Industry",
          "Customers[Customer_Succes_Manager] (5 years m",
          "Product_Usage[Activity_Type] (180 days most f",
          "Customers[Products_Purchased] (5 years most f",
          "Product_Usage[UserID] (1 month unique count)",
          "CSAT[Net_Promoter_Score] (latest)",
          "Customers[Products_Purchased] (5 years count ",
          "Product_Usage (1 month count)",
          "Product_Usage[Activity_Type] (1 month most fr",
          "Employee_Count",
          "State",
          "Product_Usage (180 days count)",
          "Contract_Duration",
          "duration(Renewal_Date, Customer_Since_Date)",
          "Customers[Products_Purchased] (5 years unique",
          "Customer_Succes_Manager"
         ],
         "tickvals": [
          0,
          1,
          2,
          3,
          4,
          5,
          6,
          7,
          8,
          9,
          10,
          11,
          12,
          13,
          14,
          15,
          16,
          17,
          18,
          19,
          20,
          21,
          22,
          23,
          24
         ],
         "title": {
          "text": "Feature Name"
         }
        }
       }
      },
      "text/html": [
       "<div>                            <div id=\"36807530-18e5-457c-8209-ed8f2ad68272\" class=\"plotly-graph-div\" style=\"height:500px; width:100%;\"></div>            <script type=\"text/javascript\">                require([\"plotly\"], function(Plotly) {                    window.PLOTLYENV=window.PLOTLYENV || {};                                    if (document.getElementById(\"36807530-18e5-457c-8209-ed8f2ad68272\")) {                    Plotly.newPlot(                        \"36807530-18e5-457c-8209-ed8f2ad68272\",                        [{\"alignmentgroup\":\"True\",\"hovertemplate\":\"<b>Feature Name:</b> %{y} <br><b>Feature Strength:</b> %{x}<extra></extra>\",\"legendgroup\":\"\",\"marker\":{\"color\":\"#636efa\",\"pattern\":{\"shape\":\"\"}},\"name\":\"\",\"offsetgroup\":\"\",\"orientation\":\"h\",\"showlegend\":false,\"textposition\":\"auto\",\"x\":[42.384021958699996,51.51452930240001,62.307808060999996,62.4571415009,62.6520697585,66.8010716117,78.0472724027,96.0404338506,100.1665579104,102.7991204697,103.049109306,103.85296537010001,109.5594896863,126.60024135649999,136.9721058466,148.33149936340004,152.0843788976,184.3161372921,199.7354660598,285.4356345325,352.2880025961,383.46092880230003,424.91733362339994,429.0963302642,501.4999994315],\"xaxis\":\"x\",\"y\":[\"Latitude\",\"Products_Purchased\",\"Longitude\",\"Product_Usage[Activity_Type] (180 days unique count)\",\"Annual_Revenue\",\"Product_Usage[Activity_Type] (1 month unique count)\",\"CSAT[Customer_Review] (latest)\",\"Prediction_Point (days from Product_Usage[Activity_Timestamp]) (180 days avg)\",\"ARR\",\"Industry\",\"Customers[Customer_Succes_Manager] (5 years most frequent)\",\"Product_Usage[Activity_Type] (180 days most frequent)\",\"Customers[Products_Purchased] (5 years most frequent)\",\"Product_Usage[UserID] (1 month unique count)\",\"CSAT[Net_Promoter_Score] (latest)\",\"Customers[Products_Purchased] (5 years count of business_essentials)\",\"Product_Usage (1 month count)\",\"Product_Usage[Activity_Type] (1 month most frequent)\",\"Employee_Count\",\"State\",\"Product_Usage (180 days count)\",\"Contract_Duration\",\"duration(Renewal_Date, Customer_Since_Date)\",\"Customers[Products_Purchased] (5 years unique count)\",\"Customer_Succes_Manager\"],\"yaxis\":\"y\",\"type\":\"bar\"}],                        {\"template\":{\"data\":{\"histogram2dcontour\":[{\"type\":\"histogram2dcontour\",\"colorbar\":{\"outlinewidth\":0,\"ticks\":\"\"},\"colorscale\":[[0.0,\"#0d0887\"],[0.1111111111111111,\"#46039f\"],[0.2222222222222222,\"#7201a8\"],[0.3333333333333333,\"#9c179e\"],[0.4444444444444444,\"#bd3786\"],[0.5555555555555556,\"#d8576b\"],[0.6666666666666666,\"#ed7953\"],[0.7777777777777778,\"#fb9f3a\"],[0.8888888888888888,\"#fdca26\"],[1.0,\"#f0f921\"]]}],\"choropleth\":[{\"type\":\"choropleth\",\"colorbar\":{\"outlinewidth\":0,\"ticks\":\"\"}}],\"histogram2d\":[{\"type\":\"histogram2d\",\"colorbar\":{\"outlinewidth\":0,\"ticks\":\"\"},\"colorscale\":[[0.0,\"#0d0887\"],[0.1111111111111111,\"#46039f\"],[0.2222222222222222,\"#7201a8\"],[0.3333333333333333,\"#9c179e\"],[0.4444444444444444,\"#bd3786\"],[0.5555555555555556,\"#d8576b\"],[0.6666666666666666,\"#ed7953\"],[0.7777777777777778,\"#fb9f3a\"],[0.8888888888888888,\"#fdca26\"],[1.0,\"#f0f921\"]]}],\"heatmap\":[{\"type\":\"heatmap\",\"colorbar\":{\"outlinewidth\":0,\"ticks\":\"\"},\"colorscale\":[[0.0,\"#0d0887\"],[0.1111111111111111,\"#46039f\"],[0.2222222222222222,\"#7201a8\"],[0.3333333333333333,\"#9c179e\"],[0.4444444444444444,\"#bd3786\"],[0.5555555555555556,\"#d8576b\"],[0.6666666666666666,\"#ed7953\"],[0.7777777777777778,\"#fb9f3a\"],[0.8888888888888888,\"#fdca26\"],[1.0,\"#f0f921\"]]}],\"heatmapgl\":[{\"type\":\"heatmapgl\",\"colorbar\":{\"outlinewidth\":0,\"ticks\":\"\"},\"colorscale\":[[0.0,\"#0d0887\"],[0.1111111111111111,\"#46039f\"],[0.2222222222222222,\"#7201a8\"],[0.3333333333333333,\"#9c179e\"],[0.4444444444444444,\"#bd3786\"],[0.5555555555555556,\"#d8576b\"],[0.6666666666666666,\"#ed7953\"],[0.7777777777777778,\"#fb9f3a\"],[0.8888888888888888,\"#fdca26\"],[1.0,\"#f0f921\"]]}],\"contourcarpet\":[{\"type\":\"contourcarpet\",\"colorbar\":{\"outlinewidth\":0,\"ticks\":\"\"}}],\"contour\":[{\"type\":\"contour\",\"colorbar\":{\"outlinewidth\":0,\"ticks\":\"\"},\"colorscale\":[[0.0,\"#0d0887\"],[0.1111111111111111,\"#46039f\"],[0.2222222222222222,\"#7201a8\"],[0.3333333333333333,\"#9c179e\"],[0.4444444444444444,\"#bd3786\"],[0.5555555555555556,\"#d8576b\"],[0.6666666666666666,\"#ed7953\"],[0.7777777777777778,\"#fb9f3a\"],[0.8888888888888888,\"#fdca26\"],[1.0,\"#f0f921\"]]}],\"surface\":[{\"type\":\"surface\",\"colorbar\":{\"outlinewidth\":0,\"ticks\":\"\"},\"colorscale\":[[0.0,\"#0d0887\"],[0.1111111111111111,\"#46039f\"],[0.2222222222222222,\"#7201a8\"],[0.3333333333333333,\"#9c179e\"],[0.4444444444444444,\"#bd3786\"],[0.5555555555555556,\"#d8576b\"],[0.6666666666666666,\"#ed7953\"],[0.7777777777777778,\"#fb9f3a\"],[0.8888888888888888,\"#fdca26\"],[1.0,\"#f0f921\"]]}],\"mesh3d\":[{\"type\":\"mesh3d\",\"colorbar\":{\"outlinewidth\":0,\"ticks\":\"\"}}],\"scatter\":[{\"fillpattern\":{\"fillmode\":\"overlay\",\"size\":10,\"solidity\":0.2},\"type\":\"scatter\"}],\"parcoords\":[{\"type\":\"parcoords\",\"line\":{\"colorbar\":{\"outlinewidth\":0,\"ticks\":\"\"}}}],\"scatterpolargl\":[{\"type\":\"scatterpolargl\",\"marker\":{\"colorbar\":{\"outlinewidth\":0,\"ticks\":\"\"}}}],\"bar\":[{\"error_x\":{\"color\":\"#2a3f5f\"},\"error_y\":{\"color\":\"#2a3f5f\"},\"marker\":{\"line\":{\"color\":\"#E5ECF6\",\"width\":0.5},\"pattern\":{\"fillmode\":\"overlay\",\"size\":10,\"solidity\":0.2}},\"type\":\"bar\"}],\"scattergeo\":[{\"type\":\"scattergeo\",\"marker\":{\"colorbar\":{\"outlinewidth\":0,\"ticks\":\"\"}}}],\"scatterpolar\":[{\"type\":\"scatterpolar\",\"marker\":{\"colorbar\":{\"outlinewidth\":0,\"ticks\":\"\"}}}],\"histogram\":[{\"marker\":{\"pattern\":{\"fillmode\":\"overlay\",\"size\":10,\"solidity\":0.2}},\"type\":\"histogram\"}],\"scattergl\":[{\"type\":\"scattergl\",\"marker\":{\"colorbar\":{\"outlinewidth\":0,\"ticks\":\"\"}}}],\"scatter3d\":[{\"type\":\"scatter3d\",\"line\":{\"colorbar\":{\"outlinewidth\":0,\"ticks\":\"\"}},\"marker\":{\"colorbar\":{\"outlinewidth\":0,\"ticks\":\"\"}}}],\"scattermapbox\":[{\"type\":\"scattermapbox\",\"marker\":{\"colorbar\":{\"outlinewidth\":0,\"ticks\":\"\"}}}],\"scatterternary\":[{\"type\":\"scatterternary\",\"marker\":{\"colorbar\":{\"outlinewidth\":0,\"ticks\":\"\"}}}],\"scattercarpet\":[{\"type\":\"scattercarpet\",\"marker\":{\"colorbar\":{\"outlinewidth\":0,\"ticks\":\"\"}}}],\"carpet\":[{\"aaxis\":{\"endlinecolor\":\"#2a3f5f\",\"gridcolor\":\"white\",\"linecolor\":\"white\",\"minorgridcolor\":\"white\",\"startlinecolor\":\"#2a3f5f\"},\"baxis\":{\"endlinecolor\":\"#2a3f5f\",\"gridcolor\":\"white\",\"linecolor\":\"white\",\"minorgridcolor\":\"white\",\"startlinecolor\":\"#2a3f5f\"},\"type\":\"carpet\"}],\"table\":[{\"cells\":{\"fill\":{\"color\":\"#EBF0F8\"},\"line\":{\"color\":\"white\"}},\"header\":{\"fill\":{\"color\":\"#C8D4E3\"},\"line\":{\"color\":\"white\"}},\"type\":\"table\"}],\"barpolar\":[{\"marker\":{\"line\":{\"color\":\"#E5ECF6\",\"width\":0.5},\"pattern\":{\"fillmode\":\"overlay\",\"size\":10,\"solidity\":0.2}},\"type\":\"barpolar\"}],\"pie\":[{\"automargin\":true,\"type\":\"pie\"}]},\"layout\":{\"autotypenumbers\":\"strict\",\"colorway\":[\"#636efa\",\"#EF553B\",\"#00cc96\",\"#ab63fa\",\"#FFA15A\",\"#19d3f3\",\"#FF6692\",\"#B6E880\",\"#FF97FF\",\"#FECB52\"],\"font\":{\"color\":\"#2a3f5f\"},\"hovermode\":\"closest\",\"hoverlabel\":{\"align\":\"left\"},\"paper_bgcolor\":\"white\",\"plot_bgcolor\":\"#E5ECF6\",\"polar\":{\"bgcolor\":\"#E5ECF6\",\"angularaxis\":{\"gridcolor\":\"white\",\"linecolor\":\"white\",\"ticks\":\"\"},\"radialaxis\":{\"gridcolor\":\"white\",\"linecolor\":\"white\",\"ticks\":\"\"}},\"ternary\":{\"bgcolor\":\"#E5ECF6\",\"aaxis\":{\"gridcolor\":\"white\",\"linecolor\":\"white\",\"ticks\":\"\"},\"baxis\":{\"gridcolor\":\"white\",\"linecolor\":\"white\",\"ticks\":\"\"},\"caxis\":{\"gridcolor\":\"white\",\"linecolor\":\"white\",\"ticks\":\"\"}},\"coloraxis\":{\"colorbar\":{\"outlinewidth\":0,\"ticks\":\"\"}},\"colorscale\":{\"sequential\":[[0.0,\"#0d0887\"],[0.1111111111111111,\"#46039f\"],[0.2222222222222222,\"#7201a8\"],[0.3333333333333333,\"#9c179e\"],[0.4444444444444444,\"#bd3786\"],[0.5555555555555556,\"#d8576b\"],[0.6666666666666666,\"#ed7953\"],[0.7777777777777778,\"#fb9f3a\"],[0.8888888888888888,\"#fdca26\"],[1.0,\"#f0f921\"]],\"sequentialminus\":[[0.0,\"#0d0887\"],[0.1111111111111111,\"#46039f\"],[0.2222222222222222,\"#7201a8\"],[0.3333333333333333,\"#9c179e\"],[0.4444444444444444,\"#bd3786\"],[0.5555555555555556,\"#d8576b\"],[0.6666666666666666,\"#ed7953\"],[0.7777777777777778,\"#fb9f3a\"],[0.8888888888888888,\"#fdca26\"],[1.0,\"#f0f921\"]],\"diverging\":[[0,\"#8e0152\"],[0.1,\"#c51b7d\"],[0.2,\"#de77ae\"],[0.3,\"#f1b6da\"],[0.4,\"#fde0ef\"],[0.5,\"#f7f7f7\"],[0.6,\"#e6f5d0\"],[0.7,\"#b8e186\"],[0.8,\"#7fbc41\"],[0.9,\"#4d9221\"],[1,\"#276419\"]]},\"xaxis\":{\"gridcolor\":\"white\",\"linecolor\":\"white\",\"ticks\":\"\",\"title\":{\"standoff\":15},\"zerolinecolor\":\"white\",\"automargin\":true,\"zerolinewidth\":2},\"yaxis\":{\"gridcolor\":\"white\",\"linecolor\":\"white\",\"ticks\":\"\",\"title\":{\"standoff\":15},\"zerolinecolor\":\"white\",\"automargin\":true,\"zerolinewidth\":2},\"scene\":{\"xaxis\":{\"backgroundcolor\":\"#E5ECF6\",\"gridcolor\":\"white\",\"linecolor\":\"white\",\"showbackground\":true,\"ticks\":\"\",\"zerolinecolor\":\"white\",\"gridwidth\":2},\"yaxis\":{\"backgroundcolor\":\"#E5ECF6\",\"gridcolor\":\"white\",\"linecolor\":\"white\",\"showbackground\":true,\"ticks\":\"\",\"zerolinecolor\":\"white\",\"gridwidth\":2},\"zaxis\":{\"backgroundcolor\":\"#E5ECF6\",\"gridcolor\":\"white\",\"linecolor\":\"white\",\"showbackground\":true,\"ticks\":\"\",\"zerolinecolor\":\"white\",\"gridwidth\":2}},\"shapedefaults\":{\"line\":{\"color\":\"#2a3f5f\"}},\"annotationdefaults\":{\"arrowcolor\":\"#2a3f5f\",\"arrowhead\":0,\"arrowwidth\":1},\"geo\":{\"bgcolor\":\"white\",\"landcolor\":\"#E5ECF6\",\"subunitcolor\":\"white\",\"showland\":true,\"showlakes\":true,\"lakecolor\":\"white\"},\"title\":{\"x\":0.05},\"mapbox\":{\"style\":\"light\"}}},\"xaxis\":{\"anchor\":\"y\",\"domain\":[0.0,1.0],\"title\":{\"text\":\"Impact\"},\"showline\":true,\"linewidth\":2,\"linecolor\":\"black\"},\"yaxis\":{\"anchor\":\"x\",\"domain\":[0.0,1.0],\"title\":{\"text\":\"Feature Name\"},\"tickvals\":[0,1,2,3,4,5,6,7,8,9,10,11,12,13,14,15,16,17,18,19,20,21,22,23,24],\"ticktext\":[\"Latitude\",\"Products_Purchased\",\"Longitude\",\"Product_Usage[Activity_Type] (180 days unique\",\"Annual_Revenue\",\"Product_Usage[Activity_Type] (1 month unique \",\"CSAT[Customer_Review] (latest)\",\"Prediction_Point (days from Product_Usage[Act\",\"ARR\",\"Industry\",\"Customers[Customer_Succes_Manager] (5 years m\",\"Product_Usage[Activity_Type] (180 days most f\",\"Customers[Products_Purchased] (5 years most f\",\"Product_Usage[UserID] (1 month unique count)\",\"CSAT[Net_Promoter_Score] (latest)\",\"Customers[Products_Purchased] (5 years count \",\"Product_Usage (1 month count)\",\"Product_Usage[Activity_Type] (1 month most fr\",\"Employee_Count\",\"State\",\"Product_Usage (180 days count)\",\"Contract_Duration\",\"duration(Renewal_Date, Customer_Since_Date)\",\"Customers[Products_Purchased] (5 years unique\",\"Customer_Succes_Manager\"],\"showline\":true,\"linewidth\":2,\"linecolor\":\"black\"},\"legend\":{\"tracegroupgap\":0},\"margin\":{\"t\":60},\"barmode\":\"relative\",\"height\":500,\"hoverlabel\":{\"font\":{\"size\":16,\"family\":\"Rockwell\"},\"bgcolor\":\"white\",\"namelength\":-1},\"plot_bgcolor\":\"rgba(0,0,0,0)\"},                        {\"responsive\": true}                    ).then(function(){\n",
       "                            \n",
       "var gd = document.getElementById('36807530-18e5-457c-8209-ed8f2ad68272');\n",
       "var x = new MutationObserver(function (mutations, observer) {{\n",
       "        var display = window.getComputedStyle(gd).display;\n",
       "        if (!display || display === 'none') {{\n",
       "            console.log([gd, 'removed!']);\n",
       "            Plotly.purge(gd);\n",
       "            observer.disconnect();\n",
       "        }}\n",
       "}});\n",
       "\n",
       "// Listen for the removal of the full notebook cells\n",
       "var notebookContainer = gd.closest('#notebook-container');\n",
       "if (notebookContainer) {{\n",
       "    x.observe(notebookContainer, {childList: true});\n",
       "}}\n",
       "\n",
       "// Listen for the clearing of the current output cell\n",
       "var outputEl = gd.closest('.output');\n",
       "if (outputEl) {{\n",
       "    x.observe(outputEl, {childList: true});\n",
       "}}\n",
       "\n",
       "                        })                };                });            </script>        </div>"
      ]
     },
     "metadata": {},
     "output_type": "display_data"
    }
   ],
   "source": [
    "# aggregate feature impact\n",
    "plot_feature_impact(melted, height=500)"
   ]
  },
  {
   "cell_type": "code",
   "execution_count": 884,
   "id": "15b128d7",
   "metadata": {},
   "outputs": [
    {
     "data": {
      "application/vnd.plotly.v1+json": {
       "config": {
        "plotlyServerURL": "https://plot.ly"
       },
       "data": [
        {
         "hovertemplate": "<b>Feature Name:</b> %{y} <br><b>Feature Strength:</b> %{x}<extra></extra>",
         "name": "Positive Impact",
         "orientation": "h",
         "type": "bar",
         "x": [
          42.384021958699996,
          51.5145293024,
          62.307808061,
          62.4571415009,
          62.652069758500005,
          66.8010716117,
          78.0472724027,
          96.04043385060001,
          100.1665579104,
          102.79912046969999,
          103.04910930599999,
          103.85296537010001,
          109.5594896863,
          126.60024135649996,
          136.97210584660002,
          148.3314993634,
          152.08437889759998,
          184.3161372921,
          199.7354660598,
          285.4356345325,
          352.2880025961,
          383.4609288023001,
          424.9173336234,
          429.0963302642,
          501.4999994315
         ],
         "y": [
          "Latitude",
          "Products_Purchased",
          "Longitude",
          "Product_Usage[Activity_Type] (180 days unique count)",
          "Annual_Revenue",
          "Product_Usage[Activity_Type] (1 month unique count)",
          "CSAT[Customer_Review] (latest)",
          "Prediction_Point (days from Product_Usage[Activity_Timestamp]) (180 days avg)",
          "ARR",
          "Industry",
          "Customers[Customer_Succes_Manager] (5 years most frequent)",
          "Product_Usage[Activity_Type] (180 days most frequent)",
          "Customers[Products_Purchased] (5 years most frequent)",
          "Product_Usage[UserID] (1 month unique count)",
          "CSAT[Net_Promoter_Score] (latest)",
          "Customers[Products_Purchased] (5 years count of business_essentials)",
          "Product_Usage (1 month count)",
          "Product_Usage[Activity_Type] (1 month most frequent)",
          "Employee_Count",
          "State",
          "Product_Usage (180 days count)",
          "Contract_Duration",
          "duration(Renewal_Date, Customer_Since_Date)",
          "Customers[Products_Purchased] (5 years unique count)",
          "Customer_Succes_Manager"
         ]
        },
        {
         "hovertemplate": "<b>Feature Name:</b> %{y} <br><b>Feature Strength:</b> %{x}<extra></extra>",
         "name": "Negative Impact",
         "orientation": "h",
         "type": "bar",
         "x": [
          42.384021958699996,
          51.5145293024,
          62.307808061,
          62.4571415009,
          62.652069758500005,
          66.8010716117,
          78.0472724027,
          96.04043385060001,
          100.1665579104,
          102.79912046969999,
          103.04910930599999,
          103.85296537010001,
          109.5594896863,
          126.60024135649996,
          136.97210584660002,
          148.3314993634,
          152.08437889759998,
          184.3161372921,
          199.7354660598,
          285.4356345325,
          352.2880025961,
          383.4609288023001,
          424.9173336234,
          429.0963302642,
          501.4999994315
         ],
         "y": [
          "Latitude",
          "Products_Purchased",
          "Longitude",
          "Product_Usage[Activity_Type] (180 days unique count)",
          "Annual_Revenue",
          "Product_Usage[Activity_Type] (1 month unique count)",
          "CSAT[Customer_Review] (latest)",
          "Prediction_Point (days from Product_Usage[Activity_Timestamp]) (180 days avg)",
          "ARR",
          "Industry",
          "Customers[Customer_Succes_Manager] (5 years most frequent)",
          "Product_Usage[Activity_Type] (180 days most frequent)",
          "Customers[Products_Purchased] (5 years most frequent)",
          "Product_Usage[UserID] (1 month unique count)",
          "CSAT[Net_Promoter_Score] (latest)",
          "Customers[Products_Purchased] (5 years count of business_essentials)",
          "Product_Usage (1 month count)",
          "Product_Usage[Activity_Type] (1 month most frequent)",
          "Employee_Count",
          "State",
          "Product_Usage (180 days count)",
          "Contract_Duration",
          "duration(Renewal_Date, Customer_Since_Date)",
          "Customers[Products_Purchased] (5 years unique count)",
          "Customer_Succes_Manager"
         ]
        }
       ],
       "layout": {
        "barmode": "stack",
        "height": 500,
        "hoverlabel": {
         "bgcolor": "white",
         "font": {
          "family": "Rockwell",
          "size": 16
         },
         "namelength": -1
        },
        "legend": {
         "orientation": "h",
         "x": 1,
         "xanchor": "right",
         "y": 1.02,
         "yanchor": "bottom"
        },
        "margin": {
         "b": 20,
         "l": 20,
         "r": 0,
         "t": 20
        },
        "plot_bgcolor": "rgba(0,0,0,0)",
        "template": {
         "data": {
          "bar": [
           {
            "error_x": {
             "color": "#2a3f5f"
            },
            "error_y": {
             "color": "#2a3f5f"
            },
            "marker": {
             "line": {
              "color": "#E5ECF6",
              "width": 0.5
             },
             "pattern": {
              "fillmode": "overlay",
              "size": 10,
              "solidity": 0.2
             }
            },
            "type": "bar"
           }
          ],
          "barpolar": [
           {
            "marker": {
             "line": {
              "color": "#E5ECF6",
              "width": 0.5
             },
             "pattern": {
              "fillmode": "overlay",
              "size": 10,
              "solidity": 0.2
             }
            },
            "type": "barpolar"
           }
          ],
          "carpet": [
           {
            "aaxis": {
             "endlinecolor": "#2a3f5f",
             "gridcolor": "white",
             "linecolor": "white",
             "minorgridcolor": "white",
             "startlinecolor": "#2a3f5f"
            },
            "baxis": {
             "endlinecolor": "#2a3f5f",
             "gridcolor": "white",
             "linecolor": "white",
             "minorgridcolor": "white",
             "startlinecolor": "#2a3f5f"
            },
            "type": "carpet"
           }
          ],
          "choropleth": [
           {
            "colorbar": {
             "outlinewidth": 0,
             "ticks": ""
            },
            "type": "choropleth"
           }
          ],
          "contour": [
           {
            "colorbar": {
             "outlinewidth": 0,
             "ticks": ""
            },
            "colorscale": [
             [
              0,
              "#0d0887"
             ],
             [
              0.1111111111111111,
              "#46039f"
             ],
             [
              0.2222222222222222,
              "#7201a8"
             ],
             [
              0.3333333333333333,
              "#9c179e"
             ],
             [
              0.4444444444444444,
              "#bd3786"
             ],
             [
              0.5555555555555556,
              "#d8576b"
             ],
             [
              0.6666666666666666,
              "#ed7953"
             ],
             [
              0.7777777777777778,
              "#fb9f3a"
             ],
             [
              0.8888888888888888,
              "#fdca26"
             ],
             [
              1,
              "#f0f921"
             ]
            ],
            "type": "contour"
           }
          ],
          "contourcarpet": [
           {
            "colorbar": {
             "outlinewidth": 0,
             "ticks": ""
            },
            "type": "contourcarpet"
           }
          ],
          "heatmap": [
           {
            "colorbar": {
             "outlinewidth": 0,
             "ticks": ""
            },
            "colorscale": [
             [
              0,
              "#0d0887"
             ],
             [
              0.1111111111111111,
              "#46039f"
             ],
             [
              0.2222222222222222,
              "#7201a8"
             ],
             [
              0.3333333333333333,
              "#9c179e"
             ],
             [
              0.4444444444444444,
              "#bd3786"
             ],
             [
              0.5555555555555556,
              "#d8576b"
             ],
             [
              0.6666666666666666,
              "#ed7953"
             ],
             [
              0.7777777777777778,
              "#fb9f3a"
             ],
             [
              0.8888888888888888,
              "#fdca26"
             ],
             [
              1,
              "#f0f921"
             ]
            ],
            "type": "heatmap"
           }
          ],
          "heatmapgl": [
           {
            "colorbar": {
             "outlinewidth": 0,
             "ticks": ""
            },
            "colorscale": [
             [
              0,
              "#0d0887"
             ],
             [
              0.1111111111111111,
              "#46039f"
             ],
             [
              0.2222222222222222,
              "#7201a8"
             ],
             [
              0.3333333333333333,
              "#9c179e"
             ],
             [
              0.4444444444444444,
              "#bd3786"
             ],
             [
              0.5555555555555556,
              "#d8576b"
             ],
             [
              0.6666666666666666,
              "#ed7953"
             ],
             [
              0.7777777777777778,
              "#fb9f3a"
             ],
             [
              0.8888888888888888,
              "#fdca26"
             ],
             [
              1,
              "#f0f921"
             ]
            ],
            "type": "heatmapgl"
           }
          ],
          "histogram": [
           {
            "marker": {
             "pattern": {
              "fillmode": "overlay",
              "size": 10,
              "solidity": 0.2
             }
            },
            "type": "histogram"
           }
          ],
          "histogram2d": [
           {
            "colorbar": {
             "outlinewidth": 0,
             "ticks": ""
            },
            "colorscale": [
             [
              0,
              "#0d0887"
             ],
             [
              0.1111111111111111,
              "#46039f"
             ],
             [
              0.2222222222222222,
              "#7201a8"
             ],
             [
              0.3333333333333333,
              "#9c179e"
             ],
             [
              0.4444444444444444,
              "#bd3786"
             ],
             [
              0.5555555555555556,
              "#d8576b"
             ],
             [
              0.6666666666666666,
              "#ed7953"
             ],
             [
              0.7777777777777778,
              "#fb9f3a"
             ],
             [
              0.8888888888888888,
              "#fdca26"
             ],
             [
              1,
              "#f0f921"
             ]
            ],
            "type": "histogram2d"
           }
          ],
          "histogram2dcontour": [
           {
            "colorbar": {
             "outlinewidth": 0,
             "ticks": ""
            },
            "colorscale": [
             [
              0,
              "#0d0887"
             ],
             [
              0.1111111111111111,
              "#46039f"
             ],
             [
              0.2222222222222222,
              "#7201a8"
             ],
             [
              0.3333333333333333,
              "#9c179e"
             ],
             [
              0.4444444444444444,
              "#bd3786"
             ],
             [
              0.5555555555555556,
              "#d8576b"
             ],
             [
              0.6666666666666666,
              "#ed7953"
             ],
             [
              0.7777777777777778,
              "#fb9f3a"
             ],
             [
              0.8888888888888888,
              "#fdca26"
             ],
             [
              1,
              "#f0f921"
             ]
            ],
            "type": "histogram2dcontour"
           }
          ],
          "mesh3d": [
           {
            "colorbar": {
             "outlinewidth": 0,
             "ticks": ""
            },
            "type": "mesh3d"
           }
          ],
          "parcoords": [
           {
            "line": {
             "colorbar": {
              "outlinewidth": 0,
              "ticks": ""
             }
            },
            "type": "parcoords"
           }
          ],
          "pie": [
           {
            "automargin": true,
            "type": "pie"
           }
          ],
          "scatter": [
           {
            "fillpattern": {
             "fillmode": "overlay",
             "size": 10,
             "solidity": 0.2
            },
            "type": "scatter"
           }
          ],
          "scatter3d": [
           {
            "line": {
             "colorbar": {
              "outlinewidth": 0,
              "ticks": ""
             }
            },
            "marker": {
             "colorbar": {
              "outlinewidth": 0,
              "ticks": ""
             }
            },
            "type": "scatter3d"
           }
          ],
          "scattercarpet": [
           {
            "marker": {
             "colorbar": {
              "outlinewidth": 0,
              "ticks": ""
             }
            },
            "type": "scattercarpet"
           }
          ],
          "scattergeo": [
           {
            "marker": {
             "colorbar": {
              "outlinewidth": 0,
              "ticks": ""
             }
            },
            "type": "scattergeo"
           }
          ],
          "scattergl": [
           {
            "marker": {
             "colorbar": {
              "outlinewidth": 0,
              "ticks": ""
             }
            },
            "type": "scattergl"
           }
          ],
          "scattermapbox": [
           {
            "marker": {
             "colorbar": {
              "outlinewidth": 0,
              "ticks": ""
             }
            },
            "type": "scattermapbox"
           }
          ],
          "scatterpolar": [
           {
            "marker": {
             "colorbar": {
              "outlinewidth": 0,
              "ticks": ""
             }
            },
            "type": "scatterpolar"
           }
          ],
          "scatterpolargl": [
           {
            "marker": {
             "colorbar": {
              "outlinewidth": 0,
              "ticks": ""
             }
            },
            "type": "scatterpolargl"
           }
          ],
          "scatterternary": [
           {
            "marker": {
             "colorbar": {
              "outlinewidth": 0,
              "ticks": ""
             }
            },
            "type": "scatterternary"
           }
          ],
          "surface": [
           {
            "colorbar": {
             "outlinewidth": 0,
             "ticks": ""
            },
            "colorscale": [
             [
              0,
              "#0d0887"
             ],
             [
              0.1111111111111111,
              "#46039f"
             ],
             [
              0.2222222222222222,
              "#7201a8"
             ],
             [
              0.3333333333333333,
              "#9c179e"
             ],
             [
              0.4444444444444444,
              "#bd3786"
             ],
             [
              0.5555555555555556,
              "#d8576b"
             ],
             [
              0.6666666666666666,
              "#ed7953"
             ],
             [
              0.7777777777777778,
              "#fb9f3a"
             ],
             [
              0.8888888888888888,
              "#fdca26"
             ],
             [
              1,
              "#f0f921"
             ]
            ],
            "type": "surface"
           }
          ],
          "table": [
           {
            "cells": {
             "fill": {
              "color": "#EBF0F8"
             },
             "line": {
              "color": "white"
             }
            },
            "header": {
             "fill": {
              "color": "#C8D4E3"
             },
             "line": {
              "color": "white"
             }
            },
            "type": "table"
           }
          ]
         },
         "layout": {
          "annotationdefaults": {
           "arrowcolor": "#2a3f5f",
           "arrowhead": 0,
           "arrowwidth": 1
          },
          "autotypenumbers": "strict",
          "coloraxis": {
           "colorbar": {
            "outlinewidth": 0,
            "ticks": ""
           }
          },
          "colorscale": {
           "diverging": [
            [
             0,
             "#8e0152"
            ],
            [
             0.1,
             "#c51b7d"
            ],
            [
             0.2,
             "#de77ae"
            ],
            [
             0.3,
             "#f1b6da"
            ],
            [
             0.4,
             "#fde0ef"
            ],
            [
             0.5,
             "#f7f7f7"
            ],
            [
             0.6,
             "#e6f5d0"
            ],
            [
             0.7,
             "#b8e186"
            ],
            [
             0.8,
             "#7fbc41"
            ],
            [
             0.9,
             "#4d9221"
            ],
            [
             1,
             "#276419"
            ]
           ],
           "sequential": [
            [
             0,
             "#0d0887"
            ],
            [
             0.1111111111111111,
             "#46039f"
            ],
            [
             0.2222222222222222,
             "#7201a8"
            ],
            [
             0.3333333333333333,
             "#9c179e"
            ],
            [
             0.4444444444444444,
             "#bd3786"
            ],
            [
             0.5555555555555556,
             "#d8576b"
            ],
            [
             0.6666666666666666,
             "#ed7953"
            ],
            [
             0.7777777777777778,
             "#fb9f3a"
            ],
            [
             0.8888888888888888,
             "#fdca26"
            ],
            [
             1,
             "#f0f921"
            ]
           ],
           "sequentialminus": [
            [
             0,
             "#0d0887"
            ],
            [
             0.1111111111111111,
             "#46039f"
            ],
            [
             0.2222222222222222,
             "#7201a8"
            ],
            [
             0.3333333333333333,
             "#9c179e"
            ],
            [
             0.4444444444444444,
             "#bd3786"
            ],
            [
             0.5555555555555556,
             "#d8576b"
            ],
            [
             0.6666666666666666,
             "#ed7953"
            ],
            [
             0.7777777777777778,
             "#fb9f3a"
            ],
            [
             0.8888888888888888,
             "#fdca26"
            ],
            [
             1,
             "#f0f921"
            ]
           ]
          },
          "colorway": [
           "#636efa",
           "#EF553B",
           "#00cc96",
           "#ab63fa",
           "#FFA15A",
           "#19d3f3",
           "#FF6692",
           "#B6E880",
           "#FF97FF",
           "#FECB52"
          ],
          "font": {
           "color": "#2a3f5f"
          },
          "geo": {
           "bgcolor": "white",
           "lakecolor": "white",
           "landcolor": "#E5ECF6",
           "showlakes": true,
           "showland": true,
           "subunitcolor": "white"
          },
          "hoverlabel": {
           "align": "left"
          },
          "hovermode": "closest",
          "mapbox": {
           "style": "light"
          },
          "paper_bgcolor": "white",
          "plot_bgcolor": "#E5ECF6",
          "polar": {
           "angularaxis": {
            "gridcolor": "white",
            "linecolor": "white",
            "ticks": ""
           },
           "bgcolor": "#E5ECF6",
           "radialaxis": {
            "gridcolor": "white",
            "linecolor": "white",
            "ticks": ""
           }
          },
          "scene": {
           "xaxis": {
            "backgroundcolor": "#E5ECF6",
            "gridcolor": "white",
            "gridwidth": 2,
            "linecolor": "white",
            "showbackground": true,
            "ticks": "",
            "zerolinecolor": "white"
           },
           "yaxis": {
            "backgroundcolor": "#E5ECF6",
            "gridcolor": "white",
            "gridwidth": 2,
            "linecolor": "white",
            "showbackground": true,
            "ticks": "",
            "zerolinecolor": "white"
           },
           "zaxis": {
            "backgroundcolor": "#E5ECF6",
            "gridcolor": "white",
            "gridwidth": 2,
            "linecolor": "white",
            "showbackground": true,
            "ticks": "",
            "zerolinecolor": "white"
           }
          },
          "shapedefaults": {
           "line": {
            "color": "#2a3f5f"
           }
          },
          "ternary": {
           "aaxis": {
            "gridcolor": "white",
            "linecolor": "white",
            "ticks": ""
           },
           "baxis": {
            "gridcolor": "white",
            "linecolor": "white",
            "ticks": ""
           },
           "bgcolor": "#E5ECF6",
           "caxis": {
            "gridcolor": "white",
            "linecolor": "white",
            "ticks": ""
           }
          },
          "title": {
           "x": 0.05
          },
          "xaxis": {
           "automargin": true,
           "gridcolor": "white",
           "linecolor": "white",
           "ticks": "",
           "title": {
            "standoff": 15
           },
           "zerolinecolor": "white",
           "zerolinewidth": 2
          },
          "yaxis": {
           "automargin": true,
           "gridcolor": "white",
           "linecolor": "white",
           "ticks": "",
           "title": {
            "standoff": 15
           },
           "zerolinecolor": "white",
           "zerolinewidth": 2
          }
         }
        },
        "xaxis": {
         "linecolor": "black",
         "linewidth": 2,
         "showline": true,
         "title": {
          "text": "Impact"
         }
        },
        "yaxis": {
         "linecolor": "black",
         "linewidth": 2,
         "showline": true,
         "ticktext": [
          "Latitude",
          "Products_Purchased",
          "Longitude",
          "Product_Usage[Activity_Type] (180 days unique",
          "Annual_Revenue",
          "Product_Usage[Activity_Type] (1 month unique ",
          "CSAT[Customer_Review] (latest)",
          "Prediction_Point (days from Product_Usage[Act",
          "ARR",
          "Industry",
          "Customers[Customer_Succes_Manager] (5 years m",
          "Product_Usage[Activity_Type] (180 days most f",
          "Customers[Products_Purchased] (5 years most f",
          "Product_Usage[UserID] (1 month unique count)",
          "CSAT[Net_Promoter_Score] (latest)",
          "Customers[Products_Purchased] (5 years count ",
          "Product_Usage (1 month count)",
          "Product_Usage[Activity_Type] (1 month most fr",
          "Employee_Count",
          "State",
          "Product_Usage (180 days count)",
          "Contract_Duration",
          "duration(Renewal_Date, Customer_Since_Date)",
          "Customers[Products_Purchased] (5 years unique",
          "Customer_Succes_Manager"
         ],
         "tickvals": [
          0,
          1,
          2,
          3,
          4,
          5,
          6,
          7,
          8,
          9,
          10,
          11,
          12,
          13,
          14,
          15,
          16,
          17,
          18,
          19,
          20,
          21,
          22,
          23,
          24
         ],
         "title": {
          "text": "Feature Name"
         }
        }
       }
      },
      "text/html": [
       "<div>                            <div id=\"e00cfee9-fa7a-4481-b197-f9e69455a6a0\" class=\"plotly-graph-div\" style=\"height:500px; width:100%;\"></div>            <script type=\"text/javascript\">                require([\"plotly\"], function(Plotly) {                    window.PLOTLYENV=window.PLOTLYENV || {};                                    if (document.getElementById(\"e00cfee9-fa7a-4481-b197-f9e69455a6a0\")) {                    Plotly.newPlot(                        \"e00cfee9-fa7a-4481-b197-f9e69455a6a0\",                        [{\"name\":\"Positive Impact\",\"orientation\":\"h\",\"x\":[42.384021958699996,51.5145293024,62.307808061,62.4571415009,62.652069758500005,66.8010716117,78.0472724027,96.04043385060001,100.1665579104,102.79912046969999,103.04910930599999,103.85296537010001,109.5594896863,126.60024135649996,136.97210584660002,148.3314993634,152.08437889759998,184.3161372921,199.7354660598,285.4356345325,352.2880025961,383.4609288023001,424.9173336234,429.0963302642,501.4999994315],\"y\":[\"Latitude\",\"Products_Purchased\",\"Longitude\",\"Product_Usage[Activity_Type] (180 days unique count)\",\"Annual_Revenue\",\"Product_Usage[Activity_Type] (1 month unique count)\",\"CSAT[Customer_Review] (latest)\",\"Prediction_Point (days from Product_Usage[Activity_Timestamp]) (180 days avg)\",\"ARR\",\"Industry\",\"Customers[Customer_Succes_Manager] (5 years most frequent)\",\"Product_Usage[Activity_Type] (180 days most frequent)\",\"Customers[Products_Purchased] (5 years most frequent)\",\"Product_Usage[UserID] (1 month unique count)\",\"CSAT[Net_Promoter_Score] (latest)\",\"Customers[Products_Purchased] (5 years count of business_essentials)\",\"Product_Usage (1 month count)\",\"Product_Usage[Activity_Type] (1 month most frequent)\",\"Employee_Count\",\"State\",\"Product_Usage (180 days count)\",\"Contract_Duration\",\"duration(Renewal_Date, Customer_Since_Date)\",\"Customers[Products_Purchased] (5 years unique count)\",\"Customer_Succes_Manager\"],\"type\":\"bar\",\"hovertemplate\":\"<b>Feature Name:</b> %{y} <br><b>Feature Strength:</b> %{x}<extra></extra>\"},{\"name\":\"Negative Impact\",\"orientation\":\"h\",\"x\":[42.384021958699996,51.5145293024,62.307808061,62.4571415009,62.652069758500005,66.8010716117,78.0472724027,96.04043385060001,100.1665579104,102.79912046969999,103.04910930599999,103.85296537010001,109.5594896863,126.60024135649996,136.97210584660002,148.3314993634,152.08437889759998,184.3161372921,199.7354660598,285.4356345325,352.2880025961,383.4609288023001,424.9173336234,429.0963302642,501.4999994315],\"y\":[\"Latitude\",\"Products_Purchased\",\"Longitude\",\"Product_Usage[Activity_Type] (180 days unique count)\",\"Annual_Revenue\",\"Product_Usage[Activity_Type] (1 month unique count)\",\"CSAT[Customer_Review] (latest)\",\"Prediction_Point (days from Product_Usage[Activity_Timestamp]) (180 days avg)\",\"ARR\",\"Industry\",\"Customers[Customer_Succes_Manager] (5 years most frequent)\",\"Product_Usage[Activity_Type] (180 days most frequent)\",\"Customers[Products_Purchased] (5 years most frequent)\",\"Product_Usage[UserID] (1 month unique count)\",\"CSAT[Net_Promoter_Score] (latest)\",\"Customers[Products_Purchased] (5 years count of business_essentials)\",\"Product_Usage (1 month count)\",\"Product_Usage[Activity_Type] (1 month most frequent)\",\"Employee_Count\",\"State\",\"Product_Usage (180 days count)\",\"Contract_Duration\",\"duration(Renewal_Date, Customer_Since_Date)\",\"Customers[Products_Purchased] (5 years unique count)\",\"Customer_Succes_Manager\"],\"type\":\"bar\",\"hovertemplate\":\"<b>Feature Name:</b> %{y} <br><b>Feature Strength:</b> %{x}<extra></extra>\"}],                        {\"template\":{\"data\":{\"histogram2dcontour\":[{\"type\":\"histogram2dcontour\",\"colorbar\":{\"outlinewidth\":0,\"ticks\":\"\"},\"colorscale\":[[0.0,\"#0d0887\"],[0.1111111111111111,\"#46039f\"],[0.2222222222222222,\"#7201a8\"],[0.3333333333333333,\"#9c179e\"],[0.4444444444444444,\"#bd3786\"],[0.5555555555555556,\"#d8576b\"],[0.6666666666666666,\"#ed7953\"],[0.7777777777777778,\"#fb9f3a\"],[0.8888888888888888,\"#fdca26\"],[1.0,\"#f0f921\"]]}],\"choropleth\":[{\"type\":\"choropleth\",\"colorbar\":{\"outlinewidth\":0,\"ticks\":\"\"}}],\"histogram2d\":[{\"type\":\"histogram2d\",\"colorbar\":{\"outlinewidth\":0,\"ticks\":\"\"},\"colorscale\":[[0.0,\"#0d0887\"],[0.1111111111111111,\"#46039f\"],[0.2222222222222222,\"#7201a8\"],[0.3333333333333333,\"#9c179e\"],[0.4444444444444444,\"#bd3786\"],[0.5555555555555556,\"#d8576b\"],[0.6666666666666666,\"#ed7953\"],[0.7777777777777778,\"#fb9f3a\"],[0.8888888888888888,\"#fdca26\"],[1.0,\"#f0f921\"]]}],\"heatmap\":[{\"type\":\"heatmap\",\"colorbar\":{\"outlinewidth\":0,\"ticks\":\"\"},\"colorscale\":[[0.0,\"#0d0887\"],[0.1111111111111111,\"#46039f\"],[0.2222222222222222,\"#7201a8\"],[0.3333333333333333,\"#9c179e\"],[0.4444444444444444,\"#bd3786\"],[0.5555555555555556,\"#d8576b\"],[0.6666666666666666,\"#ed7953\"],[0.7777777777777778,\"#fb9f3a\"],[0.8888888888888888,\"#fdca26\"],[1.0,\"#f0f921\"]]}],\"heatmapgl\":[{\"type\":\"heatmapgl\",\"colorbar\":{\"outlinewidth\":0,\"ticks\":\"\"},\"colorscale\":[[0.0,\"#0d0887\"],[0.1111111111111111,\"#46039f\"],[0.2222222222222222,\"#7201a8\"],[0.3333333333333333,\"#9c179e\"],[0.4444444444444444,\"#bd3786\"],[0.5555555555555556,\"#d8576b\"],[0.6666666666666666,\"#ed7953\"],[0.7777777777777778,\"#fb9f3a\"],[0.8888888888888888,\"#fdca26\"],[1.0,\"#f0f921\"]]}],\"contourcarpet\":[{\"type\":\"contourcarpet\",\"colorbar\":{\"outlinewidth\":0,\"ticks\":\"\"}}],\"contour\":[{\"type\":\"contour\",\"colorbar\":{\"outlinewidth\":0,\"ticks\":\"\"},\"colorscale\":[[0.0,\"#0d0887\"],[0.1111111111111111,\"#46039f\"],[0.2222222222222222,\"#7201a8\"],[0.3333333333333333,\"#9c179e\"],[0.4444444444444444,\"#bd3786\"],[0.5555555555555556,\"#d8576b\"],[0.6666666666666666,\"#ed7953\"],[0.7777777777777778,\"#fb9f3a\"],[0.8888888888888888,\"#fdca26\"],[1.0,\"#f0f921\"]]}],\"surface\":[{\"type\":\"surface\",\"colorbar\":{\"outlinewidth\":0,\"ticks\":\"\"},\"colorscale\":[[0.0,\"#0d0887\"],[0.1111111111111111,\"#46039f\"],[0.2222222222222222,\"#7201a8\"],[0.3333333333333333,\"#9c179e\"],[0.4444444444444444,\"#bd3786\"],[0.5555555555555556,\"#d8576b\"],[0.6666666666666666,\"#ed7953\"],[0.7777777777777778,\"#fb9f3a\"],[0.8888888888888888,\"#fdca26\"],[1.0,\"#f0f921\"]]}],\"mesh3d\":[{\"type\":\"mesh3d\",\"colorbar\":{\"outlinewidth\":0,\"ticks\":\"\"}}],\"scatter\":[{\"fillpattern\":{\"fillmode\":\"overlay\",\"size\":10,\"solidity\":0.2},\"type\":\"scatter\"}],\"parcoords\":[{\"type\":\"parcoords\",\"line\":{\"colorbar\":{\"outlinewidth\":0,\"ticks\":\"\"}}}],\"scatterpolargl\":[{\"type\":\"scatterpolargl\",\"marker\":{\"colorbar\":{\"outlinewidth\":0,\"ticks\":\"\"}}}],\"bar\":[{\"error_x\":{\"color\":\"#2a3f5f\"},\"error_y\":{\"color\":\"#2a3f5f\"},\"marker\":{\"line\":{\"color\":\"#E5ECF6\",\"width\":0.5},\"pattern\":{\"fillmode\":\"overlay\",\"size\":10,\"solidity\":0.2}},\"type\":\"bar\"}],\"scattergeo\":[{\"type\":\"scattergeo\",\"marker\":{\"colorbar\":{\"outlinewidth\":0,\"ticks\":\"\"}}}],\"scatterpolar\":[{\"type\":\"scatterpolar\",\"marker\":{\"colorbar\":{\"outlinewidth\":0,\"ticks\":\"\"}}}],\"histogram\":[{\"marker\":{\"pattern\":{\"fillmode\":\"overlay\",\"size\":10,\"solidity\":0.2}},\"type\":\"histogram\"}],\"scattergl\":[{\"type\":\"scattergl\",\"marker\":{\"colorbar\":{\"outlinewidth\":0,\"ticks\":\"\"}}}],\"scatter3d\":[{\"type\":\"scatter3d\",\"line\":{\"colorbar\":{\"outlinewidth\":0,\"ticks\":\"\"}},\"marker\":{\"colorbar\":{\"outlinewidth\":0,\"ticks\":\"\"}}}],\"scattermapbox\":[{\"type\":\"scattermapbox\",\"marker\":{\"colorbar\":{\"outlinewidth\":0,\"ticks\":\"\"}}}],\"scatterternary\":[{\"type\":\"scatterternary\",\"marker\":{\"colorbar\":{\"outlinewidth\":0,\"ticks\":\"\"}}}],\"scattercarpet\":[{\"type\":\"scattercarpet\",\"marker\":{\"colorbar\":{\"outlinewidth\":0,\"ticks\":\"\"}}}],\"carpet\":[{\"aaxis\":{\"endlinecolor\":\"#2a3f5f\",\"gridcolor\":\"white\",\"linecolor\":\"white\",\"minorgridcolor\":\"white\",\"startlinecolor\":\"#2a3f5f\"},\"baxis\":{\"endlinecolor\":\"#2a3f5f\",\"gridcolor\":\"white\",\"linecolor\":\"white\",\"minorgridcolor\":\"white\",\"startlinecolor\":\"#2a3f5f\"},\"type\":\"carpet\"}],\"table\":[{\"cells\":{\"fill\":{\"color\":\"#EBF0F8\"},\"line\":{\"color\":\"white\"}},\"header\":{\"fill\":{\"color\":\"#C8D4E3\"},\"line\":{\"color\":\"white\"}},\"type\":\"table\"}],\"barpolar\":[{\"marker\":{\"line\":{\"color\":\"#E5ECF6\",\"width\":0.5},\"pattern\":{\"fillmode\":\"overlay\",\"size\":10,\"solidity\":0.2}},\"type\":\"barpolar\"}],\"pie\":[{\"automargin\":true,\"type\":\"pie\"}]},\"layout\":{\"autotypenumbers\":\"strict\",\"colorway\":[\"#636efa\",\"#EF553B\",\"#00cc96\",\"#ab63fa\",\"#FFA15A\",\"#19d3f3\",\"#FF6692\",\"#B6E880\",\"#FF97FF\",\"#FECB52\"],\"font\":{\"color\":\"#2a3f5f\"},\"hovermode\":\"closest\",\"hoverlabel\":{\"align\":\"left\"},\"paper_bgcolor\":\"white\",\"plot_bgcolor\":\"#E5ECF6\",\"polar\":{\"bgcolor\":\"#E5ECF6\",\"angularaxis\":{\"gridcolor\":\"white\",\"linecolor\":\"white\",\"ticks\":\"\"},\"radialaxis\":{\"gridcolor\":\"white\",\"linecolor\":\"white\",\"ticks\":\"\"}},\"ternary\":{\"bgcolor\":\"#E5ECF6\",\"aaxis\":{\"gridcolor\":\"white\",\"linecolor\":\"white\",\"ticks\":\"\"},\"baxis\":{\"gridcolor\":\"white\",\"linecolor\":\"white\",\"ticks\":\"\"},\"caxis\":{\"gridcolor\":\"white\",\"linecolor\":\"white\",\"ticks\":\"\"}},\"coloraxis\":{\"colorbar\":{\"outlinewidth\":0,\"ticks\":\"\"}},\"colorscale\":{\"sequential\":[[0.0,\"#0d0887\"],[0.1111111111111111,\"#46039f\"],[0.2222222222222222,\"#7201a8\"],[0.3333333333333333,\"#9c179e\"],[0.4444444444444444,\"#bd3786\"],[0.5555555555555556,\"#d8576b\"],[0.6666666666666666,\"#ed7953\"],[0.7777777777777778,\"#fb9f3a\"],[0.8888888888888888,\"#fdca26\"],[1.0,\"#f0f921\"]],\"sequentialminus\":[[0.0,\"#0d0887\"],[0.1111111111111111,\"#46039f\"],[0.2222222222222222,\"#7201a8\"],[0.3333333333333333,\"#9c179e\"],[0.4444444444444444,\"#bd3786\"],[0.5555555555555556,\"#d8576b\"],[0.6666666666666666,\"#ed7953\"],[0.7777777777777778,\"#fb9f3a\"],[0.8888888888888888,\"#fdca26\"],[1.0,\"#f0f921\"]],\"diverging\":[[0,\"#8e0152\"],[0.1,\"#c51b7d\"],[0.2,\"#de77ae\"],[0.3,\"#f1b6da\"],[0.4,\"#fde0ef\"],[0.5,\"#f7f7f7\"],[0.6,\"#e6f5d0\"],[0.7,\"#b8e186\"],[0.8,\"#7fbc41\"],[0.9,\"#4d9221\"],[1,\"#276419\"]]},\"xaxis\":{\"gridcolor\":\"white\",\"linecolor\":\"white\",\"ticks\":\"\",\"title\":{\"standoff\":15},\"zerolinecolor\":\"white\",\"automargin\":true,\"zerolinewidth\":2},\"yaxis\":{\"gridcolor\":\"white\",\"linecolor\":\"white\",\"ticks\":\"\",\"title\":{\"standoff\":15},\"zerolinecolor\":\"white\",\"automargin\":true,\"zerolinewidth\":2},\"scene\":{\"xaxis\":{\"backgroundcolor\":\"#E5ECF6\",\"gridcolor\":\"white\",\"linecolor\":\"white\",\"showbackground\":true,\"ticks\":\"\",\"zerolinecolor\":\"white\",\"gridwidth\":2},\"yaxis\":{\"backgroundcolor\":\"#E5ECF6\",\"gridcolor\":\"white\",\"linecolor\":\"white\",\"showbackground\":true,\"ticks\":\"\",\"zerolinecolor\":\"white\",\"gridwidth\":2},\"zaxis\":{\"backgroundcolor\":\"#E5ECF6\",\"gridcolor\":\"white\",\"linecolor\":\"white\",\"showbackground\":true,\"ticks\":\"\",\"zerolinecolor\":\"white\",\"gridwidth\":2}},\"shapedefaults\":{\"line\":{\"color\":\"#2a3f5f\"}},\"annotationdefaults\":{\"arrowcolor\":\"#2a3f5f\",\"arrowhead\":0,\"arrowwidth\":1},\"geo\":{\"bgcolor\":\"white\",\"landcolor\":\"#E5ECF6\",\"subunitcolor\":\"white\",\"showland\":true,\"showlakes\":true,\"lakecolor\":\"white\"},\"title\":{\"x\":0.05},\"mapbox\":{\"style\":\"light\"}}},\"margin\":{\"l\":20,\"r\":0,\"t\":20,\"b\":20},\"legend\":{\"orientation\":\"h\",\"yanchor\":\"bottom\",\"y\":1.02,\"xanchor\":\"right\",\"x\":1},\"barmode\":\"stack\",\"height\":500,\"hoverlabel\":{\"font\":{\"size\":16,\"family\":\"Rockwell\"},\"bgcolor\":\"white\",\"namelength\":-1},\"plot_bgcolor\":\"rgba(0,0,0,0)\",\"yaxis\":{\"title\":{\"text\":\"Feature Name\"},\"tickvals\":[0,1,2,3,4,5,6,7,8,9,10,11,12,13,14,15,16,17,18,19,20,21,22,23,24],\"ticktext\":[\"Latitude\",\"Products_Purchased\",\"Longitude\",\"Product_Usage[Activity_Type] (180 days unique\",\"Annual_Revenue\",\"Product_Usage[Activity_Type] (1 month unique \",\"CSAT[Customer_Review] (latest)\",\"Prediction_Point (days from Product_Usage[Act\",\"ARR\",\"Industry\",\"Customers[Customer_Succes_Manager] (5 years m\",\"Product_Usage[Activity_Type] (180 days most f\",\"Customers[Products_Purchased] (5 years most f\",\"Product_Usage[UserID] (1 month unique count)\",\"CSAT[Net_Promoter_Score] (latest)\",\"Customers[Products_Purchased] (5 years count \",\"Product_Usage (1 month count)\",\"Product_Usage[Activity_Type] (1 month most fr\",\"Employee_Count\",\"State\",\"Product_Usage (180 days count)\",\"Contract_Duration\",\"duration(Renewal_Date, Customer_Since_Date)\",\"Customers[Products_Purchased] (5 years unique\",\"Customer_Succes_Manager\"],\"showline\":true,\"linewidth\":2,\"linecolor\":\"black\"},\"xaxis\":{\"title\":{\"text\":\"Impact\"},\"showline\":true,\"linewidth\":2,\"linecolor\":\"black\"}},                        {\"responsive\": true}                    ).then(function(){\n",
       "                            \n",
       "var gd = document.getElementById('e00cfee9-fa7a-4481-b197-f9e69455a6a0');\n",
       "var x = new MutationObserver(function (mutations, observer) {{\n",
       "        var display = window.getComputedStyle(gd).display;\n",
       "        if (!display || display === 'none') {{\n",
       "            console.log([gd, 'removed!']);\n",
       "            Plotly.purge(gd);\n",
       "            observer.disconnect();\n",
       "        }}\n",
       "}});\n",
       "\n",
       "// Listen for the removal of the full notebook cells\n",
       "var notebookContainer = gd.closest('#notebook-container');\n",
       "if (notebookContainer) {{\n",
       "    x.observe(notebookContainer, {childList: true});\n",
       "}}\n",
       "\n",
       "// Listen for the clearing of the current output cell\n",
       "var outputEl = gd.closest('.output');\n",
       "if (outputEl) {{\n",
       "    x.observe(outputEl, {childList: true});\n",
       "}}\n",
       "\n",
       "                        })                };                });            </script>        </div>"
      ]
     },
     "metadata": {},
     "output_type": "display_data"
    }
   ],
   "source": [
    "# feature impact split by strength\n",
    "plot_signed_feature_impact(melted, height=500, n=25)"
   ]
  },
  {
   "cell_type": "code",
   "execution_count": 885,
   "id": "dbd6e8d1",
   "metadata": {},
   "outputs": [
    {
     "data": {
      "application/vnd.plotly.v1+json": {
       "config": {
        "plotlyServerURL": "https://plot.ly"
       },
       "data": [
        {
         "hovertemplate": "<b>Feature Name:</b> %{y} <br><b>Feature Strength:</b> %{x}<extra></extra>",
         "name": "Positive Impact",
         "orientation": "h",
         "type": "bar",
         "x": [
          17.9002960385,
          23.716379612399997,
          30.236666183599993,
          32.760600395699996,
          35.3629728269,
          35.776491987,
          40.694431242099995,
          40.84789607249999,
          49.763355551299995,
          50.276246908100006,
          51.760303501399996,
          59.12805248670001,
          66.4028303777,
          66.8098736201,
          67.9121890463,
          79.4296432628,
          80.7108488798,
          98.9661813719,
          100.1306716393,
          145.8322245119,
          178.3685029614,
          178.5303346869,
          192.2173851151,
          210.2103238518,
          257.65034258860004
         ],
         "y": [
          "Latitude",
          "Products_Purchased",
          "Annual_Revenue",
          "Longitude",
          "Product_Usage[Activity_Type] (180 days unique count)",
          "Product_Usage[Activity_Type] (1 month unique count)",
          "ARR",
          "CSAT[Customer_Review] (latest)",
          "Customers[Customer_Succes_Manager] (5 years most frequent)",
          "Product_Usage[Activity_Type] (180 days most frequent)",
          "Industry",
          "Customers[Products_Purchased] (5 years count of business_essentials)",
          "Product_Usage[UserID] (1 month unique count)",
          "Prediction_Point (days from Product_Usage[Activity_Timestamp]) (180 days avg)",
          "Customers[Products_Purchased] (5 years most frequent)",
          "Product_Usage (1 month count)",
          "CSAT[Net_Promoter_Score] (latest)",
          "Product_Usage[Activity_Type] (1 month most frequent)",
          "Employee_Count",
          "State",
          "Contract_Duration",
          "duration(Renewal_Date, Customer_Since_Date)",
          "Product_Usage (180 days count)",
          "Customers[Products_Purchased] (5 years unique count)",
          "Customer_Succes_Manager"
         ]
        },
        {
         "hovertemplate": "<b>Feature Name:</b> %{y} <br><b>Feature Strength:</b> %{x}<extra></extra>",
         "name": "Negative Impact",
         "orientation": "h",
         "type": "bar",
         "x": [
          17.9002960385,
          23.716379612399997,
          30.236666183599993,
          32.760600395699996,
          35.3629728269,
          35.776491987,
          40.694431242099995,
          40.84789607249999,
          49.763355551299995,
          50.276246908100006,
          51.760303501399996,
          59.12805248670001,
          66.4028303777,
          66.8098736201,
          67.9121890463,
          79.4296432628,
          80.7108488798,
          98.9661813719,
          100.1306716393,
          145.8322245119,
          178.3685029614,
          178.5303346869,
          192.2173851151,
          210.2103238518,
          257.65034258860004
         ],
         "y": [
          "Latitude",
          "Products_Purchased",
          "Annual_Revenue",
          "Longitude",
          "Product_Usage[Activity_Type] (180 days unique count)",
          "Product_Usage[Activity_Type] (1 month unique count)",
          "ARR",
          "CSAT[Customer_Review] (latest)",
          "Customers[Customer_Succes_Manager] (5 years most frequent)",
          "Product_Usage[Activity_Type] (180 days most frequent)",
          "Industry",
          "Customers[Products_Purchased] (5 years count of business_essentials)",
          "Product_Usage[UserID] (1 month unique count)",
          "Prediction_Point (days from Product_Usage[Activity_Timestamp]) (180 days avg)",
          "Customers[Products_Purchased] (5 years most frequent)",
          "Product_Usage (1 month count)",
          "CSAT[Net_Promoter_Score] (latest)",
          "Product_Usage[Activity_Type] (1 month most frequent)",
          "Employee_Count",
          "State",
          "Contract_Duration",
          "duration(Renewal_Date, Customer_Since_Date)",
          "Product_Usage (180 days count)",
          "Customers[Products_Purchased] (5 years unique count)",
          "Customer_Succes_Manager"
         ]
        }
       ],
       "layout": {
        "barmode": "stack",
        "height": 500,
        "hoverlabel": {
         "bgcolor": "white",
         "font": {
          "family": "Rockwell",
          "size": 16
         },
         "namelength": -1
        },
        "legend": {
         "orientation": "h",
         "x": 1,
         "xanchor": "right",
         "y": 1.02,
         "yanchor": "bottom"
        },
        "margin": {
         "b": 20,
         "l": 20,
         "r": 0,
         "t": 20
        },
        "plot_bgcolor": "rgba(0,0,0,0)",
        "template": {
         "data": {
          "bar": [
           {
            "error_x": {
             "color": "#2a3f5f"
            },
            "error_y": {
             "color": "#2a3f5f"
            },
            "marker": {
             "line": {
              "color": "#E5ECF6",
              "width": 0.5
             },
             "pattern": {
              "fillmode": "overlay",
              "size": 10,
              "solidity": 0.2
             }
            },
            "type": "bar"
           }
          ],
          "barpolar": [
           {
            "marker": {
             "line": {
              "color": "#E5ECF6",
              "width": 0.5
             },
             "pattern": {
              "fillmode": "overlay",
              "size": 10,
              "solidity": 0.2
             }
            },
            "type": "barpolar"
           }
          ],
          "carpet": [
           {
            "aaxis": {
             "endlinecolor": "#2a3f5f",
             "gridcolor": "white",
             "linecolor": "white",
             "minorgridcolor": "white",
             "startlinecolor": "#2a3f5f"
            },
            "baxis": {
             "endlinecolor": "#2a3f5f",
             "gridcolor": "white",
             "linecolor": "white",
             "minorgridcolor": "white",
             "startlinecolor": "#2a3f5f"
            },
            "type": "carpet"
           }
          ],
          "choropleth": [
           {
            "colorbar": {
             "outlinewidth": 0,
             "ticks": ""
            },
            "type": "choropleth"
           }
          ],
          "contour": [
           {
            "colorbar": {
             "outlinewidth": 0,
             "ticks": ""
            },
            "colorscale": [
             [
              0,
              "#0d0887"
             ],
             [
              0.1111111111111111,
              "#46039f"
             ],
             [
              0.2222222222222222,
              "#7201a8"
             ],
             [
              0.3333333333333333,
              "#9c179e"
             ],
             [
              0.4444444444444444,
              "#bd3786"
             ],
             [
              0.5555555555555556,
              "#d8576b"
             ],
             [
              0.6666666666666666,
              "#ed7953"
             ],
             [
              0.7777777777777778,
              "#fb9f3a"
             ],
             [
              0.8888888888888888,
              "#fdca26"
             ],
             [
              1,
              "#f0f921"
             ]
            ],
            "type": "contour"
           }
          ],
          "contourcarpet": [
           {
            "colorbar": {
             "outlinewidth": 0,
             "ticks": ""
            },
            "type": "contourcarpet"
           }
          ],
          "heatmap": [
           {
            "colorbar": {
             "outlinewidth": 0,
             "ticks": ""
            },
            "colorscale": [
             [
              0,
              "#0d0887"
             ],
             [
              0.1111111111111111,
              "#46039f"
             ],
             [
              0.2222222222222222,
              "#7201a8"
             ],
             [
              0.3333333333333333,
              "#9c179e"
             ],
             [
              0.4444444444444444,
              "#bd3786"
             ],
             [
              0.5555555555555556,
              "#d8576b"
             ],
             [
              0.6666666666666666,
              "#ed7953"
             ],
             [
              0.7777777777777778,
              "#fb9f3a"
             ],
             [
              0.8888888888888888,
              "#fdca26"
             ],
             [
              1,
              "#f0f921"
             ]
            ],
            "type": "heatmap"
           }
          ],
          "heatmapgl": [
           {
            "colorbar": {
             "outlinewidth": 0,
             "ticks": ""
            },
            "colorscale": [
             [
              0,
              "#0d0887"
             ],
             [
              0.1111111111111111,
              "#46039f"
             ],
             [
              0.2222222222222222,
              "#7201a8"
             ],
             [
              0.3333333333333333,
              "#9c179e"
             ],
             [
              0.4444444444444444,
              "#bd3786"
             ],
             [
              0.5555555555555556,
              "#d8576b"
             ],
             [
              0.6666666666666666,
              "#ed7953"
             ],
             [
              0.7777777777777778,
              "#fb9f3a"
             ],
             [
              0.8888888888888888,
              "#fdca26"
             ],
             [
              1,
              "#f0f921"
             ]
            ],
            "type": "heatmapgl"
           }
          ],
          "histogram": [
           {
            "marker": {
             "pattern": {
              "fillmode": "overlay",
              "size": 10,
              "solidity": 0.2
             }
            },
            "type": "histogram"
           }
          ],
          "histogram2d": [
           {
            "colorbar": {
             "outlinewidth": 0,
             "ticks": ""
            },
            "colorscale": [
             [
              0,
              "#0d0887"
             ],
             [
              0.1111111111111111,
              "#46039f"
             ],
             [
              0.2222222222222222,
              "#7201a8"
             ],
             [
              0.3333333333333333,
              "#9c179e"
             ],
             [
              0.4444444444444444,
              "#bd3786"
             ],
             [
              0.5555555555555556,
              "#d8576b"
             ],
             [
              0.6666666666666666,
              "#ed7953"
             ],
             [
              0.7777777777777778,
              "#fb9f3a"
             ],
             [
              0.8888888888888888,
              "#fdca26"
             ],
             [
              1,
              "#f0f921"
             ]
            ],
            "type": "histogram2d"
           }
          ],
          "histogram2dcontour": [
           {
            "colorbar": {
             "outlinewidth": 0,
             "ticks": ""
            },
            "colorscale": [
             [
              0,
              "#0d0887"
             ],
             [
              0.1111111111111111,
              "#46039f"
             ],
             [
              0.2222222222222222,
              "#7201a8"
             ],
             [
              0.3333333333333333,
              "#9c179e"
             ],
             [
              0.4444444444444444,
              "#bd3786"
             ],
             [
              0.5555555555555556,
              "#d8576b"
             ],
             [
              0.6666666666666666,
              "#ed7953"
             ],
             [
              0.7777777777777778,
              "#fb9f3a"
             ],
             [
              0.8888888888888888,
              "#fdca26"
             ],
             [
              1,
              "#f0f921"
             ]
            ],
            "type": "histogram2dcontour"
           }
          ],
          "mesh3d": [
           {
            "colorbar": {
             "outlinewidth": 0,
             "ticks": ""
            },
            "type": "mesh3d"
           }
          ],
          "parcoords": [
           {
            "line": {
             "colorbar": {
              "outlinewidth": 0,
              "ticks": ""
             }
            },
            "type": "parcoords"
           }
          ],
          "pie": [
           {
            "automargin": true,
            "type": "pie"
           }
          ],
          "scatter": [
           {
            "fillpattern": {
             "fillmode": "overlay",
             "size": 10,
             "solidity": 0.2
            },
            "type": "scatter"
           }
          ],
          "scatter3d": [
           {
            "line": {
             "colorbar": {
              "outlinewidth": 0,
              "ticks": ""
             }
            },
            "marker": {
             "colorbar": {
              "outlinewidth": 0,
              "ticks": ""
             }
            },
            "type": "scatter3d"
           }
          ],
          "scattercarpet": [
           {
            "marker": {
             "colorbar": {
              "outlinewidth": 0,
              "ticks": ""
             }
            },
            "type": "scattercarpet"
           }
          ],
          "scattergeo": [
           {
            "marker": {
             "colorbar": {
              "outlinewidth": 0,
              "ticks": ""
             }
            },
            "type": "scattergeo"
           }
          ],
          "scattergl": [
           {
            "marker": {
             "colorbar": {
              "outlinewidth": 0,
              "ticks": ""
             }
            },
            "type": "scattergl"
           }
          ],
          "scattermapbox": [
           {
            "marker": {
             "colorbar": {
              "outlinewidth": 0,
              "ticks": ""
             }
            },
            "type": "scattermapbox"
           }
          ],
          "scatterpolar": [
           {
            "marker": {
             "colorbar": {
              "outlinewidth": 0,
              "ticks": ""
             }
            },
            "type": "scatterpolar"
           }
          ],
          "scatterpolargl": [
           {
            "marker": {
             "colorbar": {
              "outlinewidth": 0,
              "ticks": ""
             }
            },
            "type": "scatterpolargl"
           }
          ],
          "scatterternary": [
           {
            "marker": {
             "colorbar": {
              "outlinewidth": 0,
              "ticks": ""
             }
            },
            "type": "scatterternary"
           }
          ],
          "surface": [
           {
            "colorbar": {
             "outlinewidth": 0,
             "ticks": ""
            },
            "colorscale": [
             [
              0,
              "#0d0887"
             ],
             [
              0.1111111111111111,
              "#46039f"
             ],
             [
              0.2222222222222222,
              "#7201a8"
             ],
             [
              0.3333333333333333,
              "#9c179e"
             ],
             [
              0.4444444444444444,
              "#bd3786"
             ],
             [
              0.5555555555555556,
              "#d8576b"
             ],
             [
              0.6666666666666666,
              "#ed7953"
             ],
             [
              0.7777777777777778,
              "#fb9f3a"
             ],
             [
              0.8888888888888888,
              "#fdca26"
             ],
             [
              1,
              "#f0f921"
             ]
            ],
            "type": "surface"
           }
          ],
          "table": [
           {
            "cells": {
             "fill": {
              "color": "#EBF0F8"
             },
             "line": {
              "color": "white"
             }
            },
            "header": {
             "fill": {
              "color": "#C8D4E3"
             },
             "line": {
              "color": "white"
             }
            },
            "type": "table"
           }
          ]
         },
         "layout": {
          "annotationdefaults": {
           "arrowcolor": "#2a3f5f",
           "arrowhead": 0,
           "arrowwidth": 1
          },
          "autotypenumbers": "strict",
          "coloraxis": {
           "colorbar": {
            "outlinewidth": 0,
            "ticks": ""
           }
          },
          "colorscale": {
           "diverging": [
            [
             0,
             "#8e0152"
            ],
            [
             0.1,
             "#c51b7d"
            ],
            [
             0.2,
             "#de77ae"
            ],
            [
             0.3,
             "#f1b6da"
            ],
            [
             0.4,
             "#fde0ef"
            ],
            [
             0.5,
             "#f7f7f7"
            ],
            [
             0.6,
             "#e6f5d0"
            ],
            [
             0.7,
             "#b8e186"
            ],
            [
             0.8,
             "#7fbc41"
            ],
            [
             0.9,
             "#4d9221"
            ],
            [
             1,
             "#276419"
            ]
           ],
           "sequential": [
            [
             0,
             "#0d0887"
            ],
            [
             0.1111111111111111,
             "#46039f"
            ],
            [
             0.2222222222222222,
             "#7201a8"
            ],
            [
             0.3333333333333333,
             "#9c179e"
            ],
            [
             0.4444444444444444,
             "#bd3786"
            ],
            [
             0.5555555555555556,
             "#d8576b"
            ],
            [
             0.6666666666666666,
             "#ed7953"
            ],
            [
             0.7777777777777778,
             "#fb9f3a"
            ],
            [
             0.8888888888888888,
             "#fdca26"
            ],
            [
             1,
             "#f0f921"
            ]
           ],
           "sequentialminus": [
            [
             0,
             "#0d0887"
            ],
            [
             0.1111111111111111,
             "#46039f"
            ],
            [
             0.2222222222222222,
             "#7201a8"
            ],
            [
             0.3333333333333333,
             "#9c179e"
            ],
            [
             0.4444444444444444,
             "#bd3786"
            ],
            [
             0.5555555555555556,
             "#d8576b"
            ],
            [
             0.6666666666666666,
             "#ed7953"
            ],
            [
             0.7777777777777778,
             "#fb9f3a"
            ],
            [
             0.8888888888888888,
             "#fdca26"
            ],
            [
             1,
             "#f0f921"
            ]
           ]
          },
          "colorway": [
           "#636efa",
           "#EF553B",
           "#00cc96",
           "#ab63fa",
           "#FFA15A",
           "#19d3f3",
           "#FF6692",
           "#B6E880",
           "#FF97FF",
           "#FECB52"
          ],
          "font": {
           "color": "#2a3f5f"
          },
          "geo": {
           "bgcolor": "white",
           "lakecolor": "white",
           "landcolor": "#E5ECF6",
           "showlakes": true,
           "showland": true,
           "subunitcolor": "white"
          },
          "hoverlabel": {
           "align": "left"
          },
          "hovermode": "closest",
          "mapbox": {
           "style": "light"
          },
          "paper_bgcolor": "white",
          "plot_bgcolor": "#E5ECF6",
          "polar": {
           "angularaxis": {
            "gridcolor": "white",
            "linecolor": "white",
            "ticks": ""
           },
           "bgcolor": "#E5ECF6",
           "radialaxis": {
            "gridcolor": "white",
            "linecolor": "white",
            "ticks": ""
           }
          },
          "scene": {
           "xaxis": {
            "backgroundcolor": "#E5ECF6",
            "gridcolor": "white",
            "gridwidth": 2,
            "linecolor": "white",
            "showbackground": true,
            "ticks": "",
            "zerolinecolor": "white"
           },
           "yaxis": {
            "backgroundcolor": "#E5ECF6",
            "gridcolor": "white",
            "gridwidth": 2,
            "linecolor": "white",
            "showbackground": true,
            "ticks": "",
            "zerolinecolor": "white"
           },
           "zaxis": {
            "backgroundcolor": "#E5ECF6",
            "gridcolor": "white",
            "gridwidth": 2,
            "linecolor": "white",
            "showbackground": true,
            "ticks": "",
            "zerolinecolor": "white"
           }
          },
          "shapedefaults": {
           "line": {
            "color": "#2a3f5f"
           }
          },
          "ternary": {
           "aaxis": {
            "gridcolor": "white",
            "linecolor": "white",
            "ticks": ""
           },
           "baxis": {
            "gridcolor": "white",
            "linecolor": "white",
            "ticks": ""
           },
           "bgcolor": "#E5ECF6",
           "caxis": {
            "gridcolor": "white",
            "linecolor": "white",
            "ticks": ""
           }
          },
          "title": {
           "x": 0.05
          },
          "xaxis": {
           "automargin": true,
           "gridcolor": "white",
           "linecolor": "white",
           "ticks": "",
           "title": {
            "standoff": 15
           },
           "zerolinecolor": "white",
           "zerolinewidth": 2
          },
          "yaxis": {
           "automargin": true,
           "gridcolor": "white",
           "linecolor": "white",
           "ticks": "",
           "title": {
            "standoff": 15
           },
           "zerolinecolor": "white",
           "zerolinewidth": 2
          }
         }
        },
        "xaxis": {
         "linecolor": "black",
         "linewidth": 2,
         "showline": true,
         "title": {
          "text": "Impact"
         }
        },
        "yaxis": {
         "linecolor": "black",
         "linewidth": 2,
         "showline": true,
         "ticktext": [
          "Latitude",
          "Products_Purchased",
          "Annual_Revenue",
          "Longitude",
          "Product_Usage[Activity_Type] (180 days unique",
          "Product_Usage[Activity_Type] (1 month unique ",
          "ARR",
          "CSAT[Customer_Review] (latest)",
          "Customers[Customer_Succes_Manager] (5 years m",
          "Product_Usage[Activity_Type] (180 days most f",
          "Industry",
          "Customers[Products_Purchased] (5 years count ",
          "Product_Usage[UserID] (1 month unique count)",
          "Prediction_Point (days from Product_Usage[Act",
          "Customers[Products_Purchased] (5 years most f",
          "Product_Usage (1 month count)",
          "CSAT[Net_Promoter_Score] (latest)",
          "Product_Usage[Activity_Type] (1 month most fr",
          "Employee_Count",
          "State",
          "Contract_Duration",
          "duration(Renewal_Date, Customer_Since_Date)",
          "Product_Usage (180 days count)",
          "Customers[Products_Purchased] (5 years unique",
          "Customer_Succes_Manager"
         ],
         "tickvals": [
          0,
          1,
          2,
          3,
          4,
          5,
          6,
          7,
          8,
          9,
          10,
          11,
          12,
          13,
          14,
          15,
          16,
          17,
          18,
          19,
          20,
          21,
          22,
          23,
          24
         ],
         "title": {
          "text": "Feature Name"
         }
        }
       }
      },
      "text/html": [
       "<div>                            <div id=\"97558925-0ba1-4592-babc-a1e2a4eedfdc\" class=\"plotly-graph-div\" style=\"height:500px; width:100%;\"></div>            <script type=\"text/javascript\">                require([\"plotly\"], function(Plotly) {                    window.PLOTLYENV=window.PLOTLYENV || {};                                    if (document.getElementById(\"97558925-0ba1-4592-babc-a1e2a4eedfdc\")) {                    Plotly.newPlot(                        \"97558925-0ba1-4592-babc-a1e2a4eedfdc\",                        [{\"name\":\"Positive Impact\",\"orientation\":\"h\",\"x\":[17.9002960385,23.716379612399997,30.236666183599993,32.760600395699996,35.3629728269,35.776491987,40.694431242099995,40.84789607249999,49.763355551299995,50.276246908100006,51.760303501399996,59.12805248670001,66.4028303777,66.8098736201,67.9121890463,79.4296432628,80.7108488798,98.9661813719,100.1306716393,145.8322245119,178.3685029614,178.5303346869,192.2173851151,210.2103238518,257.65034258860004],\"y\":[\"Latitude\",\"Products_Purchased\",\"Annual_Revenue\",\"Longitude\",\"Product_Usage[Activity_Type] (180 days unique count)\",\"Product_Usage[Activity_Type] (1 month unique count)\",\"ARR\",\"CSAT[Customer_Review] (latest)\",\"Customers[Customer_Succes_Manager] (5 years most frequent)\",\"Product_Usage[Activity_Type] (180 days most frequent)\",\"Industry\",\"Customers[Products_Purchased] (5 years count of business_essentials)\",\"Product_Usage[UserID] (1 month unique count)\",\"Prediction_Point (days from Product_Usage[Activity_Timestamp]) (180 days avg)\",\"Customers[Products_Purchased] (5 years most frequent)\",\"Product_Usage (1 month count)\",\"CSAT[Net_Promoter_Score] (latest)\",\"Product_Usage[Activity_Type] (1 month most frequent)\",\"Employee_Count\",\"State\",\"Contract_Duration\",\"duration(Renewal_Date, Customer_Since_Date)\",\"Product_Usage (180 days count)\",\"Customers[Products_Purchased] (5 years unique count)\",\"Customer_Succes_Manager\"],\"type\":\"bar\",\"hovertemplate\":\"<b>Feature Name:</b> %{y} <br><b>Feature Strength:</b> %{x}<extra></extra>\"},{\"name\":\"Negative Impact\",\"orientation\":\"h\",\"x\":[17.9002960385,23.716379612399997,30.236666183599993,32.760600395699996,35.3629728269,35.776491987,40.694431242099995,40.84789607249999,49.763355551299995,50.276246908100006,51.760303501399996,59.12805248670001,66.4028303777,66.8098736201,67.9121890463,79.4296432628,80.7108488798,98.9661813719,100.1306716393,145.8322245119,178.3685029614,178.5303346869,192.2173851151,210.2103238518,257.65034258860004],\"y\":[\"Latitude\",\"Products_Purchased\",\"Annual_Revenue\",\"Longitude\",\"Product_Usage[Activity_Type] (180 days unique count)\",\"Product_Usage[Activity_Type] (1 month unique count)\",\"ARR\",\"CSAT[Customer_Review] (latest)\",\"Customers[Customer_Succes_Manager] (5 years most frequent)\",\"Product_Usage[Activity_Type] (180 days most frequent)\",\"Industry\",\"Customers[Products_Purchased] (5 years count of business_essentials)\",\"Product_Usage[UserID] (1 month unique count)\",\"Prediction_Point (days from Product_Usage[Activity_Timestamp]) (180 days avg)\",\"Customers[Products_Purchased] (5 years most frequent)\",\"Product_Usage (1 month count)\",\"CSAT[Net_Promoter_Score] (latest)\",\"Product_Usage[Activity_Type] (1 month most frequent)\",\"Employee_Count\",\"State\",\"Contract_Duration\",\"duration(Renewal_Date, Customer_Since_Date)\",\"Product_Usage (180 days count)\",\"Customers[Products_Purchased] (5 years unique count)\",\"Customer_Succes_Manager\"],\"type\":\"bar\",\"hovertemplate\":\"<b>Feature Name:</b> %{y} <br><b>Feature Strength:</b> %{x}<extra></extra>\"}],                        {\"template\":{\"data\":{\"histogram2dcontour\":[{\"type\":\"histogram2dcontour\",\"colorbar\":{\"outlinewidth\":0,\"ticks\":\"\"},\"colorscale\":[[0.0,\"#0d0887\"],[0.1111111111111111,\"#46039f\"],[0.2222222222222222,\"#7201a8\"],[0.3333333333333333,\"#9c179e\"],[0.4444444444444444,\"#bd3786\"],[0.5555555555555556,\"#d8576b\"],[0.6666666666666666,\"#ed7953\"],[0.7777777777777778,\"#fb9f3a\"],[0.8888888888888888,\"#fdca26\"],[1.0,\"#f0f921\"]]}],\"choropleth\":[{\"type\":\"choropleth\",\"colorbar\":{\"outlinewidth\":0,\"ticks\":\"\"}}],\"histogram2d\":[{\"type\":\"histogram2d\",\"colorbar\":{\"outlinewidth\":0,\"ticks\":\"\"},\"colorscale\":[[0.0,\"#0d0887\"],[0.1111111111111111,\"#46039f\"],[0.2222222222222222,\"#7201a8\"],[0.3333333333333333,\"#9c179e\"],[0.4444444444444444,\"#bd3786\"],[0.5555555555555556,\"#d8576b\"],[0.6666666666666666,\"#ed7953\"],[0.7777777777777778,\"#fb9f3a\"],[0.8888888888888888,\"#fdca26\"],[1.0,\"#f0f921\"]]}],\"heatmap\":[{\"type\":\"heatmap\",\"colorbar\":{\"outlinewidth\":0,\"ticks\":\"\"},\"colorscale\":[[0.0,\"#0d0887\"],[0.1111111111111111,\"#46039f\"],[0.2222222222222222,\"#7201a8\"],[0.3333333333333333,\"#9c179e\"],[0.4444444444444444,\"#bd3786\"],[0.5555555555555556,\"#d8576b\"],[0.6666666666666666,\"#ed7953\"],[0.7777777777777778,\"#fb9f3a\"],[0.8888888888888888,\"#fdca26\"],[1.0,\"#f0f921\"]]}],\"heatmapgl\":[{\"type\":\"heatmapgl\",\"colorbar\":{\"outlinewidth\":0,\"ticks\":\"\"},\"colorscale\":[[0.0,\"#0d0887\"],[0.1111111111111111,\"#46039f\"],[0.2222222222222222,\"#7201a8\"],[0.3333333333333333,\"#9c179e\"],[0.4444444444444444,\"#bd3786\"],[0.5555555555555556,\"#d8576b\"],[0.6666666666666666,\"#ed7953\"],[0.7777777777777778,\"#fb9f3a\"],[0.8888888888888888,\"#fdca26\"],[1.0,\"#f0f921\"]]}],\"contourcarpet\":[{\"type\":\"contourcarpet\",\"colorbar\":{\"outlinewidth\":0,\"ticks\":\"\"}}],\"contour\":[{\"type\":\"contour\",\"colorbar\":{\"outlinewidth\":0,\"ticks\":\"\"},\"colorscale\":[[0.0,\"#0d0887\"],[0.1111111111111111,\"#46039f\"],[0.2222222222222222,\"#7201a8\"],[0.3333333333333333,\"#9c179e\"],[0.4444444444444444,\"#bd3786\"],[0.5555555555555556,\"#d8576b\"],[0.6666666666666666,\"#ed7953\"],[0.7777777777777778,\"#fb9f3a\"],[0.8888888888888888,\"#fdca26\"],[1.0,\"#f0f921\"]]}],\"surface\":[{\"type\":\"surface\",\"colorbar\":{\"outlinewidth\":0,\"ticks\":\"\"},\"colorscale\":[[0.0,\"#0d0887\"],[0.1111111111111111,\"#46039f\"],[0.2222222222222222,\"#7201a8\"],[0.3333333333333333,\"#9c179e\"],[0.4444444444444444,\"#bd3786\"],[0.5555555555555556,\"#d8576b\"],[0.6666666666666666,\"#ed7953\"],[0.7777777777777778,\"#fb9f3a\"],[0.8888888888888888,\"#fdca26\"],[1.0,\"#f0f921\"]]}],\"mesh3d\":[{\"type\":\"mesh3d\",\"colorbar\":{\"outlinewidth\":0,\"ticks\":\"\"}}],\"scatter\":[{\"fillpattern\":{\"fillmode\":\"overlay\",\"size\":10,\"solidity\":0.2},\"type\":\"scatter\"}],\"parcoords\":[{\"type\":\"parcoords\",\"line\":{\"colorbar\":{\"outlinewidth\":0,\"ticks\":\"\"}}}],\"scatterpolargl\":[{\"type\":\"scatterpolargl\",\"marker\":{\"colorbar\":{\"outlinewidth\":0,\"ticks\":\"\"}}}],\"bar\":[{\"error_x\":{\"color\":\"#2a3f5f\"},\"error_y\":{\"color\":\"#2a3f5f\"},\"marker\":{\"line\":{\"color\":\"#E5ECF6\",\"width\":0.5},\"pattern\":{\"fillmode\":\"overlay\",\"size\":10,\"solidity\":0.2}},\"type\":\"bar\"}],\"scattergeo\":[{\"type\":\"scattergeo\",\"marker\":{\"colorbar\":{\"outlinewidth\":0,\"ticks\":\"\"}}}],\"scatterpolar\":[{\"type\":\"scatterpolar\",\"marker\":{\"colorbar\":{\"outlinewidth\":0,\"ticks\":\"\"}}}],\"histogram\":[{\"marker\":{\"pattern\":{\"fillmode\":\"overlay\",\"size\":10,\"solidity\":0.2}},\"type\":\"histogram\"}],\"scattergl\":[{\"type\":\"scattergl\",\"marker\":{\"colorbar\":{\"outlinewidth\":0,\"ticks\":\"\"}}}],\"scatter3d\":[{\"type\":\"scatter3d\",\"line\":{\"colorbar\":{\"outlinewidth\":0,\"ticks\":\"\"}},\"marker\":{\"colorbar\":{\"outlinewidth\":0,\"ticks\":\"\"}}}],\"scattermapbox\":[{\"type\":\"scattermapbox\",\"marker\":{\"colorbar\":{\"outlinewidth\":0,\"ticks\":\"\"}}}],\"scatterternary\":[{\"type\":\"scatterternary\",\"marker\":{\"colorbar\":{\"outlinewidth\":0,\"ticks\":\"\"}}}],\"scattercarpet\":[{\"type\":\"scattercarpet\",\"marker\":{\"colorbar\":{\"outlinewidth\":0,\"ticks\":\"\"}}}],\"carpet\":[{\"aaxis\":{\"endlinecolor\":\"#2a3f5f\",\"gridcolor\":\"white\",\"linecolor\":\"white\",\"minorgridcolor\":\"white\",\"startlinecolor\":\"#2a3f5f\"},\"baxis\":{\"endlinecolor\":\"#2a3f5f\",\"gridcolor\":\"white\",\"linecolor\":\"white\",\"minorgridcolor\":\"white\",\"startlinecolor\":\"#2a3f5f\"},\"type\":\"carpet\"}],\"table\":[{\"cells\":{\"fill\":{\"color\":\"#EBF0F8\"},\"line\":{\"color\":\"white\"}},\"header\":{\"fill\":{\"color\":\"#C8D4E3\"},\"line\":{\"color\":\"white\"}},\"type\":\"table\"}],\"barpolar\":[{\"marker\":{\"line\":{\"color\":\"#E5ECF6\",\"width\":0.5},\"pattern\":{\"fillmode\":\"overlay\",\"size\":10,\"solidity\":0.2}},\"type\":\"barpolar\"}],\"pie\":[{\"automargin\":true,\"type\":\"pie\"}]},\"layout\":{\"autotypenumbers\":\"strict\",\"colorway\":[\"#636efa\",\"#EF553B\",\"#00cc96\",\"#ab63fa\",\"#FFA15A\",\"#19d3f3\",\"#FF6692\",\"#B6E880\",\"#FF97FF\",\"#FECB52\"],\"font\":{\"color\":\"#2a3f5f\"},\"hovermode\":\"closest\",\"hoverlabel\":{\"align\":\"left\"},\"paper_bgcolor\":\"white\",\"plot_bgcolor\":\"#E5ECF6\",\"polar\":{\"bgcolor\":\"#E5ECF6\",\"angularaxis\":{\"gridcolor\":\"white\",\"linecolor\":\"white\",\"ticks\":\"\"},\"radialaxis\":{\"gridcolor\":\"white\",\"linecolor\":\"white\",\"ticks\":\"\"}},\"ternary\":{\"bgcolor\":\"#E5ECF6\",\"aaxis\":{\"gridcolor\":\"white\",\"linecolor\":\"white\",\"ticks\":\"\"},\"baxis\":{\"gridcolor\":\"white\",\"linecolor\":\"white\",\"ticks\":\"\"},\"caxis\":{\"gridcolor\":\"white\",\"linecolor\":\"white\",\"ticks\":\"\"}},\"coloraxis\":{\"colorbar\":{\"outlinewidth\":0,\"ticks\":\"\"}},\"colorscale\":{\"sequential\":[[0.0,\"#0d0887\"],[0.1111111111111111,\"#46039f\"],[0.2222222222222222,\"#7201a8\"],[0.3333333333333333,\"#9c179e\"],[0.4444444444444444,\"#bd3786\"],[0.5555555555555556,\"#d8576b\"],[0.6666666666666666,\"#ed7953\"],[0.7777777777777778,\"#fb9f3a\"],[0.8888888888888888,\"#fdca26\"],[1.0,\"#f0f921\"]],\"sequentialminus\":[[0.0,\"#0d0887\"],[0.1111111111111111,\"#46039f\"],[0.2222222222222222,\"#7201a8\"],[0.3333333333333333,\"#9c179e\"],[0.4444444444444444,\"#bd3786\"],[0.5555555555555556,\"#d8576b\"],[0.6666666666666666,\"#ed7953\"],[0.7777777777777778,\"#fb9f3a\"],[0.8888888888888888,\"#fdca26\"],[1.0,\"#f0f921\"]],\"diverging\":[[0,\"#8e0152\"],[0.1,\"#c51b7d\"],[0.2,\"#de77ae\"],[0.3,\"#f1b6da\"],[0.4,\"#fde0ef\"],[0.5,\"#f7f7f7\"],[0.6,\"#e6f5d0\"],[0.7,\"#b8e186\"],[0.8,\"#7fbc41\"],[0.9,\"#4d9221\"],[1,\"#276419\"]]},\"xaxis\":{\"gridcolor\":\"white\",\"linecolor\":\"white\",\"ticks\":\"\",\"title\":{\"standoff\":15},\"zerolinecolor\":\"white\",\"automargin\":true,\"zerolinewidth\":2},\"yaxis\":{\"gridcolor\":\"white\",\"linecolor\":\"white\",\"ticks\":\"\",\"title\":{\"standoff\":15},\"zerolinecolor\":\"white\",\"automargin\":true,\"zerolinewidth\":2},\"scene\":{\"xaxis\":{\"backgroundcolor\":\"#E5ECF6\",\"gridcolor\":\"white\",\"linecolor\":\"white\",\"showbackground\":true,\"ticks\":\"\",\"zerolinecolor\":\"white\",\"gridwidth\":2},\"yaxis\":{\"backgroundcolor\":\"#E5ECF6\",\"gridcolor\":\"white\",\"linecolor\":\"white\",\"showbackground\":true,\"ticks\":\"\",\"zerolinecolor\":\"white\",\"gridwidth\":2},\"zaxis\":{\"backgroundcolor\":\"#E5ECF6\",\"gridcolor\":\"white\",\"linecolor\":\"white\",\"showbackground\":true,\"ticks\":\"\",\"zerolinecolor\":\"white\",\"gridwidth\":2}},\"shapedefaults\":{\"line\":{\"color\":\"#2a3f5f\"}},\"annotationdefaults\":{\"arrowcolor\":\"#2a3f5f\",\"arrowhead\":0,\"arrowwidth\":1},\"geo\":{\"bgcolor\":\"white\",\"landcolor\":\"#E5ECF6\",\"subunitcolor\":\"white\",\"showland\":true,\"showlakes\":true,\"lakecolor\":\"white\"},\"title\":{\"x\":0.05},\"mapbox\":{\"style\":\"light\"}}},\"margin\":{\"l\":20,\"r\":0,\"t\":20,\"b\":20},\"legend\":{\"orientation\":\"h\",\"yanchor\":\"bottom\",\"y\":1.02,\"xanchor\":\"right\",\"x\":1},\"barmode\":\"stack\",\"height\":500,\"hoverlabel\":{\"font\":{\"size\":16,\"family\":\"Rockwell\"},\"bgcolor\":\"white\",\"namelength\":-1},\"plot_bgcolor\":\"rgba(0,0,0,0)\",\"yaxis\":{\"title\":{\"text\":\"Feature Name\"},\"tickvals\":[0,1,2,3,4,5,6,7,8,9,10,11,12,13,14,15,16,17,18,19,20,21,22,23,24],\"ticktext\":[\"Latitude\",\"Products_Purchased\",\"Annual_Revenue\",\"Longitude\",\"Product_Usage[Activity_Type] (180 days unique\",\"Product_Usage[Activity_Type] (1 month unique \",\"ARR\",\"CSAT[Customer_Review] (latest)\",\"Customers[Customer_Succes_Manager] (5 years m\",\"Product_Usage[Activity_Type] (180 days most f\",\"Industry\",\"Customers[Products_Purchased] (5 years count \",\"Product_Usage[UserID] (1 month unique count)\",\"Prediction_Point (days from Product_Usage[Act\",\"Customers[Products_Purchased] (5 years most f\",\"Product_Usage (1 month count)\",\"CSAT[Net_Promoter_Score] (latest)\",\"Product_Usage[Activity_Type] (1 month most fr\",\"Employee_Count\",\"State\",\"Contract_Duration\",\"duration(Renewal_Date, Customer_Since_Date)\",\"Product_Usage (180 days count)\",\"Customers[Products_Purchased] (5 years unique\",\"Customer_Succes_Manager\"],\"showline\":true,\"linewidth\":2,\"linecolor\":\"black\"},\"xaxis\":{\"title\":{\"text\":\"Impact\"},\"showline\":true,\"linewidth\":2,\"linecolor\":\"black\"}},                        {\"responsive\": true}                    ).then(function(){\n",
       "                            \n",
       "var gd = document.getElementById('97558925-0ba1-4592-babc-a1e2a4eedfdc');\n",
       "var x = new MutationObserver(function (mutations, observer) {{\n",
       "        var display = window.getComputedStyle(gd).display;\n",
       "        if (!display || display === 'none') {{\n",
       "            console.log([gd, 'removed!']);\n",
       "            Plotly.purge(gd);\n",
       "            observer.disconnect();\n",
       "        }}\n",
       "}});\n",
       "\n",
       "// Listen for the removal of the full notebook cells\n",
       "var notebookContainer = gd.closest('#notebook-container');\n",
       "if (notebookContainer) {{\n",
       "    x.observe(notebookContainer, {childList: true});\n",
       "}}\n",
       "\n",
       "// Listen for the clearing of the current output cell\n",
       "var outputEl = gd.closest('.output');\n",
       "if (outputEl) {{\n",
       "    x.observe(outputEl, {childList: true});\n",
       "}}\n",
       "\n",
       "                        })                };                });            </script>        </div>"
      ]
     },
     "metadata": {},
     "output_type": "display_data"
    }
   ],
   "source": [
    "# feature impact split by positive class predictions\n",
    "threshold = 0.2\n",
    "positive_preds = melted.loc[melted['class_1']>=threshold, :].copy()\n",
    "plot_signed_feature_impact(positive_preds, height=500, n=25)"
   ]
  },
  {
   "cell_type": "markdown",
   "id": "2c6ac24e",
   "metadata": {},
   "source": [
    "### Plot lift chart and prediction explanations"
   ]
  },
  {
   "cell_type": "code",
   "execution_count": 886,
   "id": "3b5c6d95",
   "metadata": {},
   "outputs": [
    {
     "data": {
      "application/vnd.plotly.v1+json": {
       "config": {
        "plotlyServerURL": "https://plot.ly"
       },
       "data": [
        {
         "line": {
          "color": "blue",
          "width": 2
         },
         "marker": {
          "color": "blue",
          "line": {
           "color": "blue",
           "width": 2
          },
          "size": 5,
          "symbol": "cross-open"
         },
         "mode": "lines+markers",
         "name": "Predictions",
         "type": "scatter",
         "x": [
          1,
          2,
          3,
          4,
          5,
          6,
          7,
          8,
          9,
          10,
          11,
          12,
          13,
          14,
          15
         ],
         "y": [
          0.0084529002,
          0.021584952489655168,
          0.03577284391206897,
          0.05018338210689656,
          0.06880233544137931,
          0.09605082232241381,
          0.1395158457586207,
          0.19749106918135595,
          0.27802642288448276,
          0.40823601364999995,
          0.5499575112327586,
          0.6901136719448276,
          0.8069174928879311,
          0.88701274755,
          0.9583742047491524
         ]
        },
        {
         "line": {
          "color": "#ff7f0e",
          "width": 2
         },
         "marker": {
          "color": "#ff7f0e",
          "line": {
           "color": "#ff7f0e",
           "width": 1
          },
          "size": 5,
          "symbol": "circle-open"
         },
         "mode": "lines+markers",
         "name": "Actuals",
         "type": "scatter",
         "x": [
          1,
          2,
          3,
          4,
          5,
          6,
          7,
          8,
          9,
          10,
          11,
          12,
          13,
          14,
          15
         ],
         "y": [
          0,
          0.017241379310344827,
          0.05172413793103448,
          0.034482758620689655,
          0.034482758620689655,
          0.13793103448275862,
          0.20689655172413793,
          0.1864406779661017,
          0.3103448275862069,
          0.5,
          0.5517241379310345,
          0.7758620689655172,
          0.9137931034482759,
          0.9482758620689655,
          1
         ]
        }
       ],
       "layout": {
        "height": 600,
        "hoverlabel": {
         "bgcolor": "white",
         "font": {
          "family": "Rockwell",
          "size": 16
         },
         "namelength": -1
        },
        "legend": {
         "bgcolor": "rgba(255, 255, 255, 0)",
         "bordercolor": "rgba(255, 255, 255, 0)",
         "x": 1.1,
         "xanchor": "left",
         "y": 1,
         "yanchor": "top"
        },
        "plot_bgcolor": "rgba(0,0,0,0)",
        "template": {
         "data": {
          "bar": [
           {
            "error_x": {
             "color": "#2a3f5f"
            },
            "error_y": {
             "color": "#2a3f5f"
            },
            "marker": {
             "line": {
              "color": "#E5ECF6",
              "width": 0.5
             },
             "pattern": {
              "fillmode": "overlay",
              "size": 10,
              "solidity": 0.2
             }
            },
            "type": "bar"
           }
          ],
          "barpolar": [
           {
            "marker": {
             "line": {
              "color": "#E5ECF6",
              "width": 0.5
             },
             "pattern": {
              "fillmode": "overlay",
              "size": 10,
              "solidity": 0.2
             }
            },
            "type": "barpolar"
           }
          ],
          "carpet": [
           {
            "aaxis": {
             "endlinecolor": "#2a3f5f",
             "gridcolor": "white",
             "linecolor": "white",
             "minorgridcolor": "white",
             "startlinecolor": "#2a3f5f"
            },
            "baxis": {
             "endlinecolor": "#2a3f5f",
             "gridcolor": "white",
             "linecolor": "white",
             "minorgridcolor": "white",
             "startlinecolor": "#2a3f5f"
            },
            "type": "carpet"
           }
          ],
          "choropleth": [
           {
            "colorbar": {
             "outlinewidth": 0,
             "ticks": ""
            },
            "type": "choropleth"
           }
          ],
          "contour": [
           {
            "colorbar": {
             "outlinewidth": 0,
             "ticks": ""
            },
            "colorscale": [
             [
              0,
              "#0d0887"
             ],
             [
              0.1111111111111111,
              "#46039f"
             ],
             [
              0.2222222222222222,
              "#7201a8"
             ],
             [
              0.3333333333333333,
              "#9c179e"
             ],
             [
              0.4444444444444444,
              "#bd3786"
             ],
             [
              0.5555555555555556,
              "#d8576b"
             ],
             [
              0.6666666666666666,
              "#ed7953"
             ],
             [
              0.7777777777777778,
              "#fb9f3a"
             ],
             [
              0.8888888888888888,
              "#fdca26"
             ],
             [
              1,
              "#f0f921"
             ]
            ],
            "type": "contour"
           }
          ],
          "contourcarpet": [
           {
            "colorbar": {
             "outlinewidth": 0,
             "ticks": ""
            },
            "type": "contourcarpet"
           }
          ],
          "heatmap": [
           {
            "colorbar": {
             "outlinewidth": 0,
             "ticks": ""
            },
            "colorscale": [
             [
              0,
              "#0d0887"
             ],
             [
              0.1111111111111111,
              "#46039f"
             ],
             [
              0.2222222222222222,
              "#7201a8"
             ],
             [
              0.3333333333333333,
              "#9c179e"
             ],
             [
              0.4444444444444444,
              "#bd3786"
             ],
             [
              0.5555555555555556,
              "#d8576b"
             ],
             [
              0.6666666666666666,
              "#ed7953"
             ],
             [
              0.7777777777777778,
              "#fb9f3a"
             ],
             [
              0.8888888888888888,
              "#fdca26"
             ],
             [
              1,
              "#f0f921"
             ]
            ],
            "type": "heatmap"
           }
          ],
          "heatmapgl": [
           {
            "colorbar": {
             "outlinewidth": 0,
             "ticks": ""
            },
            "colorscale": [
             [
              0,
              "#0d0887"
             ],
             [
              0.1111111111111111,
              "#46039f"
             ],
             [
              0.2222222222222222,
              "#7201a8"
             ],
             [
              0.3333333333333333,
              "#9c179e"
             ],
             [
              0.4444444444444444,
              "#bd3786"
             ],
             [
              0.5555555555555556,
              "#d8576b"
             ],
             [
              0.6666666666666666,
              "#ed7953"
             ],
             [
              0.7777777777777778,
              "#fb9f3a"
             ],
             [
              0.8888888888888888,
              "#fdca26"
             ],
             [
              1,
              "#f0f921"
             ]
            ],
            "type": "heatmapgl"
           }
          ],
          "histogram": [
           {
            "marker": {
             "pattern": {
              "fillmode": "overlay",
              "size": 10,
              "solidity": 0.2
             }
            },
            "type": "histogram"
           }
          ],
          "histogram2d": [
           {
            "colorbar": {
             "outlinewidth": 0,
             "ticks": ""
            },
            "colorscale": [
             [
              0,
              "#0d0887"
             ],
             [
              0.1111111111111111,
              "#46039f"
             ],
             [
              0.2222222222222222,
              "#7201a8"
             ],
             [
              0.3333333333333333,
              "#9c179e"
             ],
             [
              0.4444444444444444,
              "#bd3786"
             ],
             [
              0.5555555555555556,
              "#d8576b"
             ],
             [
              0.6666666666666666,
              "#ed7953"
             ],
             [
              0.7777777777777778,
              "#fb9f3a"
             ],
             [
              0.8888888888888888,
              "#fdca26"
             ],
             [
              1,
              "#f0f921"
             ]
            ],
            "type": "histogram2d"
           }
          ],
          "histogram2dcontour": [
           {
            "colorbar": {
             "outlinewidth": 0,
             "ticks": ""
            },
            "colorscale": [
             [
              0,
              "#0d0887"
             ],
             [
              0.1111111111111111,
              "#46039f"
             ],
             [
              0.2222222222222222,
              "#7201a8"
             ],
             [
              0.3333333333333333,
              "#9c179e"
             ],
             [
              0.4444444444444444,
              "#bd3786"
             ],
             [
              0.5555555555555556,
              "#d8576b"
             ],
             [
              0.6666666666666666,
              "#ed7953"
             ],
             [
              0.7777777777777778,
              "#fb9f3a"
             ],
             [
              0.8888888888888888,
              "#fdca26"
             ],
             [
              1,
              "#f0f921"
             ]
            ],
            "type": "histogram2dcontour"
           }
          ],
          "mesh3d": [
           {
            "colorbar": {
             "outlinewidth": 0,
             "ticks": ""
            },
            "type": "mesh3d"
           }
          ],
          "parcoords": [
           {
            "line": {
             "colorbar": {
              "outlinewidth": 0,
              "ticks": ""
             }
            },
            "type": "parcoords"
           }
          ],
          "pie": [
           {
            "automargin": true,
            "type": "pie"
           }
          ],
          "scatter": [
           {
            "fillpattern": {
             "fillmode": "overlay",
             "size": 10,
             "solidity": 0.2
            },
            "type": "scatter"
           }
          ],
          "scatter3d": [
           {
            "line": {
             "colorbar": {
              "outlinewidth": 0,
              "ticks": ""
             }
            },
            "marker": {
             "colorbar": {
              "outlinewidth": 0,
              "ticks": ""
             }
            },
            "type": "scatter3d"
           }
          ],
          "scattercarpet": [
           {
            "marker": {
             "colorbar": {
              "outlinewidth": 0,
              "ticks": ""
             }
            },
            "type": "scattercarpet"
           }
          ],
          "scattergeo": [
           {
            "marker": {
             "colorbar": {
              "outlinewidth": 0,
              "ticks": ""
             }
            },
            "type": "scattergeo"
           }
          ],
          "scattergl": [
           {
            "marker": {
             "colorbar": {
              "outlinewidth": 0,
              "ticks": ""
             }
            },
            "type": "scattergl"
           }
          ],
          "scattermapbox": [
           {
            "marker": {
             "colorbar": {
              "outlinewidth": 0,
              "ticks": ""
             }
            },
            "type": "scattermapbox"
           }
          ],
          "scatterpolar": [
           {
            "marker": {
             "colorbar": {
              "outlinewidth": 0,
              "ticks": ""
             }
            },
            "type": "scatterpolar"
           }
          ],
          "scatterpolargl": [
           {
            "marker": {
             "colorbar": {
              "outlinewidth": 0,
              "ticks": ""
             }
            },
            "type": "scatterpolargl"
           }
          ],
          "scatterternary": [
           {
            "marker": {
             "colorbar": {
              "outlinewidth": 0,
              "ticks": ""
             }
            },
            "type": "scatterternary"
           }
          ],
          "surface": [
           {
            "colorbar": {
             "outlinewidth": 0,
             "ticks": ""
            },
            "colorscale": [
             [
              0,
              "#0d0887"
             ],
             [
              0.1111111111111111,
              "#46039f"
             ],
             [
              0.2222222222222222,
              "#7201a8"
             ],
             [
              0.3333333333333333,
              "#9c179e"
             ],
             [
              0.4444444444444444,
              "#bd3786"
             ],
             [
              0.5555555555555556,
              "#d8576b"
             ],
             [
              0.6666666666666666,
              "#ed7953"
             ],
             [
              0.7777777777777778,
              "#fb9f3a"
             ],
             [
              0.8888888888888888,
              "#fdca26"
             ],
             [
              1,
              "#f0f921"
             ]
            ],
            "type": "surface"
           }
          ],
          "table": [
           {
            "cells": {
             "fill": {
              "color": "#EBF0F8"
             },
             "line": {
              "color": "white"
             }
            },
            "header": {
             "fill": {
              "color": "#C8D4E3"
             },
             "line": {
              "color": "white"
             }
            },
            "type": "table"
           }
          ]
         },
         "layout": {
          "annotationdefaults": {
           "arrowcolor": "#2a3f5f",
           "arrowhead": 0,
           "arrowwidth": 1
          },
          "autotypenumbers": "strict",
          "coloraxis": {
           "colorbar": {
            "outlinewidth": 0,
            "ticks": ""
           }
          },
          "colorscale": {
           "diverging": [
            [
             0,
             "#8e0152"
            ],
            [
             0.1,
             "#c51b7d"
            ],
            [
             0.2,
             "#de77ae"
            ],
            [
             0.3,
             "#f1b6da"
            ],
            [
             0.4,
             "#fde0ef"
            ],
            [
             0.5,
             "#f7f7f7"
            ],
            [
             0.6,
             "#e6f5d0"
            ],
            [
             0.7,
             "#b8e186"
            ],
            [
             0.8,
             "#7fbc41"
            ],
            [
             0.9,
             "#4d9221"
            ],
            [
             1,
             "#276419"
            ]
           ],
           "sequential": [
            [
             0,
             "#0d0887"
            ],
            [
             0.1111111111111111,
             "#46039f"
            ],
            [
             0.2222222222222222,
             "#7201a8"
            ],
            [
             0.3333333333333333,
             "#9c179e"
            ],
            [
             0.4444444444444444,
             "#bd3786"
            ],
            [
             0.5555555555555556,
             "#d8576b"
            ],
            [
             0.6666666666666666,
             "#ed7953"
            ],
            [
             0.7777777777777778,
             "#fb9f3a"
            ],
            [
             0.8888888888888888,
             "#fdca26"
            ],
            [
             1,
             "#f0f921"
            ]
           ],
           "sequentialminus": [
            [
             0,
             "#0d0887"
            ],
            [
             0.1111111111111111,
             "#46039f"
            ],
            [
             0.2222222222222222,
             "#7201a8"
            ],
            [
             0.3333333333333333,
             "#9c179e"
            ],
            [
             0.4444444444444444,
             "#bd3786"
            ],
            [
             0.5555555555555556,
             "#d8576b"
            ],
            [
             0.6666666666666666,
             "#ed7953"
            ],
            [
             0.7777777777777778,
             "#fb9f3a"
            ],
            [
             0.8888888888888888,
             "#fdca26"
            ],
            [
             1,
             "#f0f921"
            ]
           ]
          },
          "colorway": [
           "#636efa",
           "#EF553B",
           "#00cc96",
           "#ab63fa",
           "#FFA15A",
           "#19d3f3",
           "#FF6692",
           "#B6E880",
           "#FF97FF",
           "#FECB52"
          ],
          "font": {
           "color": "#2a3f5f"
          },
          "geo": {
           "bgcolor": "white",
           "lakecolor": "white",
           "landcolor": "#E5ECF6",
           "showlakes": true,
           "showland": true,
           "subunitcolor": "white"
          },
          "hoverlabel": {
           "align": "left"
          },
          "hovermode": "closest",
          "mapbox": {
           "style": "light"
          },
          "paper_bgcolor": "white",
          "plot_bgcolor": "#E5ECF6",
          "polar": {
           "angularaxis": {
            "gridcolor": "white",
            "linecolor": "white",
            "ticks": ""
           },
           "bgcolor": "#E5ECF6",
           "radialaxis": {
            "gridcolor": "white",
            "linecolor": "white",
            "ticks": ""
           }
          },
          "scene": {
           "xaxis": {
            "backgroundcolor": "#E5ECF6",
            "gridcolor": "white",
            "gridwidth": 2,
            "linecolor": "white",
            "showbackground": true,
            "ticks": "",
            "zerolinecolor": "white"
           },
           "yaxis": {
            "backgroundcolor": "#E5ECF6",
            "gridcolor": "white",
            "gridwidth": 2,
            "linecolor": "white",
            "showbackground": true,
            "ticks": "",
            "zerolinecolor": "white"
           },
           "zaxis": {
            "backgroundcolor": "#E5ECF6",
            "gridcolor": "white",
            "gridwidth": 2,
            "linecolor": "white",
            "showbackground": true,
            "ticks": "",
            "zerolinecolor": "white"
           }
          },
          "shapedefaults": {
           "line": {
            "color": "#2a3f5f"
           }
          },
          "ternary": {
           "aaxis": {
            "gridcolor": "white",
            "linecolor": "white",
            "ticks": ""
           },
           "baxis": {
            "gridcolor": "white",
            "linecolor": "white",
            "ticks": ""
           },
           "bgcolor": "#E5ECF6",
           "caxis": {
            "gridcolor": "white",
            "linecolor": "white",
            "ticks": ""
           }
          },
          "title": {
           "x": 0.05
          },
          "xaxis": {
           "automargin": true,
           "gridcolor": "white",
           "linecolor": "white",
           "ticks": "",
           "title": {
            "standoff": 15
           },
           "zerolinecolor": "white",
           "zerolinewidth": 2
          },
          "yaxis": {
           "automargin": true,
           "gridcolor": "white",
           "linecolor": "white",
           "ticks": "",
           "title": {
            "standoff": 15
           },
           "zerolinecolor": "white",
           "zerolinewidth": 2
          }
         }
        },
        "xaxis": {
         "linecolor": "black",
         "linewidth": 1,
         "showline": true,
         "title": {
          "text": "Bins"
         }
        },
        "yaxis": {
         "gridcolor": "lightgray",
         "gridwidth": 1,
         "linecolor": "black",
         "linewidth": 1,
         "showgrid": true,
         "showline": true,
         "title": {
          "text": "Average Target"
         },
         "zeroline": false,
         "zerolinecolor": "black",
         "zerolinewidth": 2
        }
       }
      },
      "text/html": [
       "<div>                            <div id=\"61f48066-09df-48c9-bed9-a880d2470158\" class=\"plotly-graph-div\" style=\"height:600px; width:100%;\"></div>            <script type=\"text/javascript\">                require([\"plotly\"], function(Plotly) {                    window.PLOTLYENV=window.PLOTLYENV || {};                                    if (document.getElementById(\"61f48066-09df-48c9-bed9-a880d2470158\")) {                    Plotly.newPlot(                        \"61f48066-09df-48c9-bed9-a880d2470158\",                        [{\"line\":{\"color\":\"blue\",\"width\":2},\"marker\":{\"color\":\"blue\",\"line\":{\"color\":\"blue\",\"width\":2},\"size\":5,\"symbol\":\"cross-open\"},\"mode\":\"lines+markers\",\"name\":\"Predictions\",\"x\":[1,2,3,4,5,6,7,8,9,10,11,12,13,14,15],\"y\":[0.0084529002,0.021584952489655168,0.03577284391206897,0.05018338210689656,0.06880233544137931,0.09605082232241381,0.1395158457586207,0.19749106918135595,0.27802642288448276,0.40823601364999995,0.5499575112327586,0.6901136719448276,0.8069174928879311,0.88701274755,0.9583742047491524],\"type\":\"scatter\"},{\"line\":{\"color\":\"#ff7f0e\",\"width\":2},\"marker\":{\"color\":\"#ff7f0e\",\"line\":{\"color\":\"#ff7f0e\",\"width\":1},\"size\":5,\"symbol\":\"circle-open\"},\"mode\":\"lines+markers\",\"name\":\"Actuals\",\"x\":[1,2,3,4,5,6,7,8,9,10,11,12,13,14,15],\"y\":[0.0,0.017241379310344827,0.05172413793103448,0.034482758620689655,0.034482758620689655,0.13793103448275862,0.20689655172413793,0.1864406779661017,0.3103448275862069,0.5,0.5517241379310345,0.7758620689655172,0.9137931034482759,0.9482758620689655,1.0],\"type\":\"scatter\"}],                        {\"template\":{\"data\":{\"histogram2dcontour\":[{\"type\":\"histogram2dcontour\",\"colorbar\":{\"outlinewidth\":0,\"ticks\":\"\"},\"colorscale\":[[0.0,\"#0d0887\"],[0.1111111111111111,\"#46039f\"],[0.2222222222222222,\"#7201a8\"],[0.3333333333333333,\"#9c179e\"],[0.4444444444444444,\"#bd3786\"],[0.5555555555555556,\"#d8576b\"],[0.6666666666666666,\"#ed7953\"],[0.7777777777777778,\"#fb9f3a\"],[0.8888888888888888,\"#fdca26\"],[1.0,\"#f0f921\"]]}],\"choropleth\":[{\"type\":\"choropleth\",\"colorbar\":{\"outlinewidth\":0,\"ticks\":\"\"}}],\"histogram2d\":[{\"type\":\"histogram2d\",\"colorbar\":{\"outlinewidth\":0,\"ticks\":\"\"},\"colorscale\":[[0.0,\"#0d0887\"],[0.1111111111111111,\"#46039f\"],[0.2222222222222222,\"#7201a8\"],[0.3333333333333333,\"#9c179e\"],[0.4444444444444444,\"#bd3786\"],[0.5555555555555556,\"#d8576b\"],[0.6666666666666666,\"#ed7953\"],[0.7777777777777778,\"#fb9f3a\"],[0.8888888888888888,\"#fdca26\"],[1.0,\"#f0f921\"]]}],\"heatmap\":[{\"type\":\"heatmap\",\"colorbar\":{\"outlinewidth\":0,\"ticks\":\"\"},\"colorscale\":[[0.0,\"#0d0887\"],[0.1111111111111111,\"#46039f\"],[0.2222222222222222,\"#7201a8\"],[0.3333333333333333,\"#9c179e\"],[0.4444444444444444,\"#bd3786\"],[0.5555555555555556,\"#d8576b\"],[0.6666666666666666,\"#ed7953\"],[0.7777777777777778,\"#fb9f3a\"],[0.8888888888888888,\"#fdca26\"],[1.0,\"#f0f921\"]]}],\"heatmapgl\":[{\"type\":\"heatmapgl\",\"colorbar\":{\"outlinewidth\":0,\"ticks\":\"\"},\"colorscale\":[[0.0,\"#0d0887\"],[0.1111111111111111,\"#46039f\"],[0.2222222222222222,\"#7201a8\"],[0.3333333333333333,\"#9c179e\"],[0.4444444444444444,\"#bd3786\"],[0.5555555555555556,\"#d8576b\"],[0.6666666666666666,\"#ed7953\"],[0.7777777777777778,\"#fb9f3a\"],[0.8888888888888888,\"#fdca26\"],[1.0,\"#f0f921\"]]}],\"contourcarpet\":[{\"type\":\"contourcarpet\",\"colorbar\":{\"outlinewidth\":0,\"ticks\":\"\"}}],\"contour\":[{\"type\":\"contour\",\"colorbar\":{\"outlinewidth\":0,\"ticks\":\"\"},\"colorscale\":[[0.0,\"#0d0887\"],[0.1111111111111111,\"#46039f\"],[0.2222222222222222,\"#7201a8\"],[0.3333333333333333,\"#9c179e\"],[0.4444444444444444,\"#bd3786\"],[0.5555555555555556,\"#d8576b\"],[0.6666666666666666,\"#ed7953\"],[0.7777777777777778,\"#fb9f3a\"],[0.8888888888888888,\"#fdca26\"],[1.0,\"#f0f921\"]]}],\"surface\":[{\"type\":\"surface\",\"colorbar\":{\"outlinewidth\":0,\"ticks\":\"\"},\"colorscale\":[[0.0,\"#0d0887\"],[0.1111111111111111,\"#46039f\"],[0.2222222222222222,\"#7201a8\"],[0.3333333333333333,\"#9c179e\"],[0.4444444444444444,\"#bd3786\"],[0.5555555555555556,\"#d8576b\"],[0.6666666666666666,\"#ed7953\"],[0.7777777777777778,\"#fb9f3a\"],[0.8888888888888888,\"#fdca26\"],[1.0,\"#f0f921\"]]}],\"mesh3d\":[{\"type\":\"mesh3d\",\"colorbar\":{\"outlinewidth\":0,\"ticks\":\"\"}}],\"scatter\":[{\"fillpattern\":{\"fillmode\":\"overlay\",\"size\":10,\"solidity\":0.2},\"type\":\"scatter\"}],\"parcoords\":[{\"type\":\"parcoords\",\"line\":{\"colorbar\":{\"outlinewidth\":0,\"ticks\":\"\"}}}],\"scatterpolargl\":[{\"type\":\"scatterpolargl\",\"marker\":{\"colorbar\":{\"outlinewidth\":0,\"ticks\":\"\"}}}],\"bar\":[{\"error_x\":{\"color\":\"#2a3f5f\"},\"error_y\":{\"color\":\"#2a3f5f\"},\"marker\":{\"line\":{\"color\":\"#E5ECF6\",\"width\":0.5},\"pattern\":{\"fillmode\":\"overlay\",\"size\":10,\"solidity\":0.2}},\"type\":\"bar\"}],\"scattergeo\":[{\"type\":\"scattergeo\",\"marker\":{\"colorbar\":{\"outlinewidth\":0,\"ticks\":\"\"}}}],\"scatterpolar\":[{\"type\":\"scatterpolar\",\"marker\":{\"colorbar\":{\"outlinewidth\":0,\"ticks\":\"\"}}}],\"histogram\":[{\"marker\":{\"pattern\":{\"fillmode\":\"overlay\",\"size\":10,\"solidity\":0.2}},\"type\":\"histogram\"}],\"scattergl\":[{\"type\":\"scattergl\",\"marker\":{\"colorbar\":{\"outlinewidth\":0,\"ticks\":\"\"}}}],\"scatter3d\":[{\"type\":\"scatter3d\",\"line\":{\"colorbar\":{\"outlinewidth\":0,\"ticks\":\"\"}},\"marker\":{\"colorbar\":{\"outlinewidth\":0,\"ticks\":\"\"}}}],\"scattermapbox\":[{\"type\":\"scattermapbox\",\"marker\":{\"colorbar\":{\"outlinewidth\":0,\"ticks\":\"\"}}}],\"scatterternary\":[{\"type\":\"scatterternary\",\"marker\":{\"colorbar\":{\"outlinewidth\":0,\"ticks\":\"\"}}}],\"scattercarpet\":[{\"type\":\"scattercarpet\",\"marker\":{\"colorbar\":{\"outlinewidth\":0,\"ticks\":\"\"}}}],\"carpet\":[{\"aaxis\":{\"endlinecolor\":\"#2a3f5f\",\"gridcolor\":\"white\",\"linecolor\":\"white\",\"minorgridcolor\":\"white\",\"startlinecolor\":\"#2a3f5f\"},\"baxis\":{\"endlinecolor\":\"#2a3f5f\",\"gridcolor\":\"white\",\"linecolor\":\"white\",\"minorgridcolor\":\"white\",\"startlinecolor\":\"#2a3f5f\"},\"type\":\"carpet\"}],\"table\":[{\"cells\":{\"fill\":{\"color\":\"#EBF0F8\"},\"line\":{\"color\":\"white\"}},\"header\":{\"fill\":{\"color\":\"#C8D4E3\"},\"line\":{\"color\":\"white\"}},\"type\":\"table\"}],\"barpolar\":[{\"marker\":{\"line\":{\"color\":\"#E5ECF6\",\"width\":0.5},\"pattern\":{\"fillmode\":\"overlay\",\"size\":10,\"solidity\":0.2}},\"type\":\"barpolar\"}],\"pie\":[{\"automargin\":true,\"type\":\"pie\"}]},\"layout\":{\"autotypenumbers\":\"strict\",\"colorway\":[\"#636efa\",\"#EF553B\",\"#00cc96\",\"#ab63fa\",\"#FFA15A\",\"#19d3f3\",\"#FF6692\",\"#B6E880\",\"#FF97FF\",\"#FECB52\"],\"font\":{\"color\":\"#2a3f5f\"},\"hovermode\":\"closest\",\"hoverlabel\":{\"align\":\"left\"},\"paper_bgcolor\":\"white\",\"plot_bgcolor\":\"#E5ECF6\",\"polar\":{\"bgcolor\":\"#E5ECF6\",\"angularaxis\":{\"gridcolor\":\"white\",\"linecolor\":\"white\",\"ticks\":\"\"},\"radialaxis\":{\"gridcolor\":\"white\",\"linecolor\":\"white\",\"ticks\":\"\"}},\"ternary\":{\"bgcolor\":\"#E5ECF6\",\"aaxis\":{\"gridcolor\":\"white\",\"linecolor\":\"white\",\"ticks\":\"\"},\"baxis\":{\"gridcolor\":\"white\",\"linecolor\":\"white\",\"ticks\":\"\"},\"caxis\":{\"gridcolor\":\"white\",\"linecolor\":\"white\",\"ticks\":\"\"}},\"coloraxis\":{\"colorbar\":{\"outlinewidth\":0,\"ticks\":\"\"}},\"colorscale\":{\"sequential\":[[0.0,\"#0d0887\"],[0.1111111111111111,\"#46039f\"],[0.2222222222222222,\"#7201a8\"],[0.3333333333333333,\"#9c179e\"],[0.4444444444444444,\"#bd3786\"],[0.5555555555555556,\"#d8576b\"],[0.6666666666666666,\"#ed7953\"],[0.7777777777777778,\"#fb9f3a\"],[0.8888888888888888,\"#fdca26\"],[1.0,\"#f0f921\"]],\"sequentialminus\":[[0.0,\"#0d0887\"],[0.1111111111111111,\"#46039f\"],[0.2222222222222222,\"#7201a8\"],[0.3333333333333333,\"#9c179e\"],[0.4444444444444444,\"#bd3786\"],[0.5555555555555556,\"#d8576b\"],[0.6666666666666666,\"#ed7953\"],[0.7777777777777778,\"#fb9f3a\"],[0.8888888888888888,\"#fdca26\"],[1.0,\"#f0f921\"]],\"diverging\":[[0,\"#8e0152\"],[0.1,\"#c51b7d\"],[0.2,\"#de77ae\"],[0.3,\"#f1b6da\"],[0.4,\"#fde0ef\"],[0.5,\"#f7f7f7\"],[0.6,\"#e6f5d0\"],[0.7,\"#b8e186\"],[0.8,\"#7fbc41\"],[0.9,\"#4d9221\"],[1,\"#276419\"]]},\"xaxis\":{\"gridcolor\":\"white\",\"linecolor\":\"white\",\"ticks\":\"\",\"title\":{\"standoff\":15},\"zerolinecolor\":\"white\",\"automargin\":true,\"zerolinewidth\":2},\"yaxis\":{\"gridcolor\":\"white\",\"linecolor\":\"white\",\"ticks\":\"\",\"title\":{\"standoff\":15},\"zerolinecolor\":\"white\",\"automargin\":true,\"zerolinewidth\":2},\"scene\":{\"xaxis\":{\"backgroundcolor\":\"#E5ECF6\",\"gridcolor\":\"white\",\"linecolor\":\"white\",\"showbackground\":true,\"ticks\":\"\",\"zerolinecolor\":\"white\",\"gridwidth\":2},\"yaxis\":{\"backgroundcolor\":\"#E5ECF6\",\"gridcolor\":\"white\",\"linecolor\":\"white\",\"showbackground\":true,\"ticks\":\"\",\"zerolinecolor\":\"white\",\"gridwidth\":2},\"zaxis\":{\"backgroundcolor\":\"#E5ECF6\",\"gridcolor\":\"white\",\"linecolor\":\"white\",\"showbackground\":true,\"ticks\":\"\",\"zerolinecolor\":\"white\",\"gridwidth\":2}},\"shapedefaults\":{\"line\":{\"color\":\"#2a3f5f\"}},\"annotationdefaults\":{\"arrowcolor\":\"#2a3f5f\",\"arrowhead\":0,\"arrowwidth\":1},\"geo\":{\"bgcolor\":\"white\",\"landcolor\":\"#E5ECF6\",\"subunitcolor\":\"white\",\"showland\":true,\"showlakes\":true,\"lakecolor\":\"white\"},\"title\":{\"x\":0.05},\"mapbox\":{\"style\":\"light\"}}},\"legend\":{\"bgcolor\":\"rgba(255, 255, 255, 0)\",\"bordercolor\":\"rgba(255, 255, 255, 0)\",\"x\":1.1,\"y\":1,\"xanchor\":\"left\",\"yanchor\":\"top\"},\"hoverlabel\":{\"font\":{\"size\":16,\"family\":\"Rockwell\"},\"bgcolor\":\"white\",\"namelength\":-1},\"plot_bgcolor\":\"rgba(0,0,0,0)\",\"height\":600,\"yaxis\":{\"title\":{\"text\":\"Average Target\"},\"showline\":true,\"linewidth\":1,\"linecolor\":\"black\",\"showgrid\":true,\"gridwidth\":1,\"gridcolor\":\"lightgray\",\"zeroline\":false,\"zerolinewidth\":2,\"zerolinecolor\":\"black\"},\"xaxis\":{\"title\":{\"text\":\"Bins\"},\"showline\":true,\"linewidth\":1,\"linecolor\":\"black\"}},                        {\"responsive\": true}                    ).then(function(){\n",
       "                            \n",
       "var gd = document.getElementById('61f48066-09df-48c9-bed9-a880d2470158');\n",
       "var x = new MutationObserver(function (mutations, observer) {{\n",
       "        var display = window.getComputedStyle(gd).display;\n",
       "        if (!display || display === 'none') {{\n",
       "            console.log([gd, 'removed!']);\n",
       "            Plotly.purge(gd);\n",
       "            observer.disconnect();\n",
       "        }}\n",
       "}});\n",
       "\n",
       "// Listen for the removal of the full notebook cells\n",
       "var notebookContainer = gd.closest('#notebook-container');\n",
       "if (notebookContainer) {{\n",
       "    x.observe(notebookContainer, {childList: true});\n",
       "}}\n",
       "\n",
       "// Listen for the clearing of the current output cell\n",
       "var outputEl = gd.closest('.output');\n",
       "if (outputEl) {{\n",
       "    x.observe(outputEl, {childList: true});\n",
       "}}\n",
       "\n",
       "                        })                };                });            </script>        </div>"
      ]
     },
     "metadata": {},
     "output_type": "display_data"
    }
   ],
   "source": [
    "# plot lift chart\n",
    "plot_lift_chart(preds2, project_id, bins=15)"
   ]
  },
  {
   "cell_type": "code",
   "execution_count": 842,
   "id": "bf765cfb",
   "metadata": {},
   "outputs": [
    {
     "data": {
      "application/vnd.plotly.v1+json": {
       "config": {
        "plotlyServerURL": "https://plot.ly"
       },
       "data": [
        {
         "line": {
          "color": "blue",
          "width": 2
         },
         "marker": {
          "color": "blue",
          "line": {
           "color": "blue",
           "width": 2
          },
          "size": 5,
          "symbol": "cross-open"
         },
         "mode": "lines+markers",
         "name": "Predictions",
         "type": "scatter",
         "x": [
          1,
          2,
          3,
          4,
          5,
          6,
          7,
          8,
          9,
          10,
          11,
          12,
          13,
          14,
          15
         ],
         "xaxis": "x",
         "y": [
          0.0022315093813559317,
          0.010219044503448278,
          0.022697795740677967,
          0.042420051332758626,
          0.06852946410517241,
          0.0913050889355932,
          0.1178971656965517,
          0.15104334611355932,
          0.1826914557827586,
          0.22138521190344826,
          0.26717351555762714,
          0.32829605678103446,
          0.404664705840678,
          0.4973533420034483,
          0.7267667924965517
         ],
         "yaxis": "y2"
        },
        {
         "line": {
          "color": "#ff7f0e",
          "width": 2
         },
         "marker": {
          "color": "#ff7f0e",
          "line": {
           "color": "#ff7f0e",
           "width": 2
          },
          "size": 5,
          "symbol": "circle-open"
         },
         "mode": "lines+markers",
         "name": "Actuals",
         "type": "scatter",
         "x": [
          1,
          2,
          3,
          4,
          5,
          6,
          7,
          8,
          9,
          10,
          11,
          12,
          13,
          14,
          15
         ],
         "xaxis": "x",
         "y": [
          0,
          0.017241379310344827,
          0.03389830508474576,
          0.05172413793103448,
          0.017241379310344827,
          0.05084745762711865,
          0.10344827586206896,
          0.0847457627118644,
          0.13793103448275862,
          0.1896551724137931,
          0.3389830508474576,
          0.29310344827586204,
          0.4576271186440678,
          0.5172413793103449,
          0.7586206896551724
         ],
         "yaxis": "y2"
        },
        {
         "customdata": [
          [
           24,
           -6.9323185526,
           "Contract_Duration"
          ],
          [
           24,
           -6.4969353266,
           "Contract_Duration"
          ],
          [
           24,
           -5.9526611681,
           "Contract_Duration"
          ],
          [
           24,
           -5.5614355786,
           "Contract_Duration"
          ],
          [
           24,
           -4.5644449534,
           "Contract_Duration"
          ],
          [
           24,
           -4.3139133427,
           "Contract_Duration"
          ],
          [
           18,
           -3.9488209820999995,
           "Contract_Duration"
          ],
          [
           24,
           -3.7536719762999997,
           "Contract_Duration"
          ],
          [
           24,
           -3.5580435735,
           "Contract_Duration"
          ],
          [
           24,
           -3.0436684902,
           "Contract_Duration"
          ],
          [
           24,
           -2.6085205922999997,
           "Contract_Duration"
          ],
          [
           12,
           1.6803168583000003,
           "Contract_Duration"
          ],
          [
           12,
           2.5630176141999996,
           "Contract_Duration"
          ],
          [
           12,
           7.710147699,
           "Contract_Duration"
          ],
          [
           12,
           14.4006692913,
           "Contract_Duration"
          ]
         ],
         "hoverlabel": {
          "bgcolor": "white",
          "font": {
           "family": "Rockwell",
           "size": 16
          },
          "namelength": -1
         },
         "hovertemplate": "<br>Bin</b>: %{x}<br>Feature</b>: %{customdata[2]}<br>Strength</b>: %{y: .2}<br>Median Value</b>: %{customdata[0]: .3}<extra></extra>",
         "marker": {
          "color": "#636EFA"
         },
         "name": "Contract_Duration",
         "opacity": 0.5,
         "type": "bar",
         "x": [
          7,
          12,
          4,
          10,
          15,
          6,
          5,
          8,
          14,
          9,
          11,
          3,
          13,
          2,
          1
         ],
         "y": [
          -6.9323185526,
          -6.4969353266,
          -5.9526611681,
          -5.5614355786,
          -4.5644449534,
          -4.3139133427,
          -3.9488209820999995,
          -3.7536719762999997,
          -3.5580435735,
          -3.0436684902,
          -2.6085205922999997,
          1.6803168583000003,
          2.5630176141999996,
          7.710147699,
          14.4006692913
         ]
        },
        {
         "customdata": [
          [
           23,
           -114.9750911642,
           "Product_Usage (1 month count)"
          ],
          [
           11,
           -48.6101917944,
           "Product_Usage (1 month count)"
          ],
          [
           9,
           -30.5931980179,
           "Product_Usage (1 month count)"
          ],
          [
           9,
           -18.995586559,
           "Product_Usage (1 month count)"
          ],
          [
           4,
           -3.2531210175999994,
           "Product_Usage (1 month count)"
          ],
          [
           3,
           4.0973458014999995,
           "Product_Usage (1 month count)"
          ],
          [
           3,
           7.9574844880999995,
           "Product_Usage (1 month count)"
          ],
          [
           2,
           9.3455139431,
           "Product_Usage (1 month count)"
          ],
          [
           2,
           12.0111261091,
           "Product_Usage (1 month count)"
          ],
          [
           1.5,
           14.461961222,
           "Product_Usage (1 month count)"
          ],
          [
           2,
           14.7020901305,
           "Product_Usage (1 month count)"
          ],
          [
           1,
           15.004001024999999,
           "Product_Usage (1 month count)"
          ],
          [
           1,
           17.6929261091,
           "Product_Usage (1 month count)"
          ],
          [
           1,
           19.2106371553,
           "Product_Usage (1 month count)"
          ],
          [
           1,
           20.3605772981,
           "Product_Usage (1 month count)"
          ]
         ],
         "hoverlabel": {
          "bgcolor": "white",
          "font": {
           "family": "Rockwell",
           "size": 16
          },
          "namelength": -1
         },
         "hovertemplate": "<br>Bin</b>: %{x}<br>Feature</b>: %{customdata[2]}<br>Strength</b>: %{y: .2}<br>Median Value</b>: %{customdata[0]: .3}<extra></extra>",
         "marker": {
          "color": "#EF553B"
         },
         "name": "Product_Usage (1 month count)",
         "opacity": 0.5,
         "type": "bar",
         "x": [
          1,
          2,
          3,
          4,
          5,
          6,
          7,
          9,
          8,
          14,
          11,
          10,
          15,
          13,
          12
         ],
         "y": [
          -114.9750911642,
          -48.6101917944,
          -30.5931980179,
          -18.995586559,
          -3.2531210175999994,
          4.0973458014999995,
          7.9574844880999995,
          9.3455139431,
          12.0111261091,
          14.461961222,
          14.7020901305,
          15.004001024999999,
          17.6929261091,
          19.2106371553,
          20.3605772981
         ]
        },
        {
         "customdata": [
          [
           144,
           -68.6189433074,
           "Product_Usage (180 days count)"
          ],
          [
           80,
           -30.2861058724,
           "Product_Usage (180 days count)"
          ],
          [
           60.5,
           -17.7598862794,
           "Product_Usage (180 days count)"
          ],
          [
           49,
           -12.0547216349,
           "Product_Usage (180 days count)"
          ],
          [
           18,
           -3.0867179918,
           "Product_Usage (180 days count)"
          ],
          [
           13,
           2.2907045183,
           "Product_Usage (180 days count)"
          ],
          [
           13.5,
           3.9327014761,
           "Product_Usage (180 days count)"
          ],
          [
           13,
           4.9094522416,
           "Product_Usage (180 days count)"
          ],
          [
           10,
           5.0459794925,
           "Product_Usage (180 days count)"
          ],
          [
           12,
           5.5211164553,
           "Product_Usage (180 days count)"
          ],
          [
           12,
           6.7734295737,
           "Product_Usage (180 days count)"
          ],
          [
           11,
           7.0649597802,
           "Product_Usage (180 days count)"
          ],
          [
           12,
           7.8935550971,
           "Product_Usage (180 days count)"
          ],
          [
           10,
           9.1367183047,
           "Product_Usage (180 days count)"
          ],
          [
           8,
           10.1734677474,
           "Product_Usage (180 days count)"
          ]
         ],
         "hoverlabel": {
          "bgcolor": "white",
          "font": {
           "family": "Rockwell",
           "size": 16
          },
          "namelength": -1
         },
         "hovertemplate": "<br>Bin</b>: %{x}<br>Feature</b>: %{customdata[2]}<br>Strength</b>: %{y: .2}<br>Median Value</b>: %{customdata[0]: .3}<extra></extra>",
         "marker": {
          "color": "#00CC96"
         },
         "name": "Product_Usage (180 days count)",
         "opacity": 0.5,
         "type": "bar",
         "x": [
          1,
          2,
          3,
          4,
          5,
          6,
          7,
          14,
          9,
          8,
          11,
          15,
          10,
          13,
          12
         ],
         "y": [
          -68.6189433074,
          -30.2861058724,
          -17.7598862794,
          -12.0547216349,
          -3.0867179918,
          2.2907045183,
          3.9327014761,
          4.9094522416,
          5.0459794925,
          5.5211164553,
          6.7734295737,
          7.0649597802,
          7.8935550971,
          9.1367183047,
          10.1734677474
         ]
        },
        {
         "customdata": [
          [
           9,
           -79.8204695377,
           "Product_Usage[Activity_Type] (1 month unique count)"
          ],
          [
           7,
           -50.4300233756,
           "Product_Usage[Activity_Type] (1 month unique count)"
          ],
          [
           6,
           -35.1373294194,
           "Product_Usage[Activity_Type] (1 month unique count)"
          ],
          [
           5,
           -24.8586331977,
           "Product_Usage[Activity_Type] (1 month unique count)"
          ],
          [
           4,
           -4.338755109700001,
           "Product_Usage[Activity_Type] (1 month unique count)"
          ],
          [
           3,
           3.219755222999999,
           "Product_Usage[Activity_Type] (1 month unique count)"
          ],
          [
           3,
           9.0444105645,
           "Product_Usage[Activity_Type] (1 month unique count)"
          ],
          [
           2,
           13.2477511144,
           "Product_Usage[Activity_Type] (1 month unique count)"
          ],
          [
           2,
           16.352221252499998,
           "Product_Usage[Activity_Type] (1 month unique count)"
          ],
          [
           1.5,
           17.8564204769,
           "Product_Usage[Activity_Type] (1 month unique count)"
          ],
          [
           1,
           20.2673483122,
           "Product_Usage[Activity_Type] (1 month unique count)"
          ],
          [
           2,
           20.8648192753,
           "Product_Usage[Activity_Type] (1 month unique count)"
          ],
          [
           1,
           25.8788174143,
           "Product_Usage[Activity_Type] (1 month unique count)"
          ],
          [
           1,
           27.2283877879,
           "Product_Usage[Activity_Type] (1 month unique count)"
          ],
          [
           1,
           29.639315887,
           "Product_Usage[Activity_Type] (1 month unique count)"
          ]
         ],
         "hoverlabel": {
          "bgcolor": "white",
          "font": {
           "family": "Rockwell",
           "size": 16
          },
          "namelength": -1
         },
         "hovertemplate": "<br>Bin</b>: %{x}<br>Feature</b>: %{customdata[2]}<br>Strength</b>: %{y: .2}<br>Median Value</b>: %{customdata[0]: .3}<extra></extra>",
         "marker": {
          "color": "#AB63FA"
         },
         "name": "Product_Usage[Activity_Type] (1 month unique count)",
         "opacity": 0.5,
         "type": "bar",
         "x": [
          1,
          2,
          3,
          4,
          5,
          6,
          7,
          9,
          8,
          14,
          10,
          11,
          15,
          13,
          12
         ],
         "y": [
          -79.8204695377,
          -50.4300233756,
          -35.1373294194,
          -24.8586331977,
          -4.338755109700001,
          3.219755222999999,
          9.0444105645,
          13.2477511144,
          16.352221252499998,
          17.8564204769,
          20.2673483122,
          20.8648192753,
          25.8788174143,
          27.2283877879,
          29.639315887
         ]
        },
        {
         "customdata": [
          [
           11,
           -85.2159131151,
           "Product_Usage[UserID] (1 month unique count)"
          ],
          [
           8,
           -45.5816880449,
           "Product_Usage[UserID] (1 month unique count)"
          ],
          [
           6,
           -28.5889712746,
           "Product_Usage[UserID] (1 month unique count)"
          ],
          [
           5,
           -18.474258675599998,
           "Product_Usage[UserID] (1 month unique count)"
          ],
          [
           3.5,
           -1.7772589608999996,
           "Product_Usage[UserID] (1 month unique count)"
          ],
          [
           3,
           3.575814906,
           "Product_Usage[UserID] (1 month unique count)"
          ],
          [
           3,
           8.3374536869,
           "Product_Usage[UserID] (1 month unique count)"
          ],
          [
           2,
           14.0951160972,
           "Product_Usage[UserID] (1 month unique count)"
          ],
          [
           2,
           15.2154582089,
           "Product_Usage[UserID] (1 month unique count)"
          ],
          [
           2,
           16.9272356781,
           "Product_Usage[UserID] (1 month unique count)"
          ],
          [
           1,
           19.167919950399998,
           "Product_Usage[UserID] (1 month unique count)"
          ],
          [
           1,
           19.4636376451,
           "Product_Usage[UserID] (1 month unique count)"
          ],
          [
           1,
           23.9141110817,
           "Product_Usage[UserID] (1 month unique count)"
          ],
          [
           1,
           25.127876632499998,
           "Product_Usage[UserID] (1 month unique count)"
          ],
          [
           1,
           25.2367476089,
           "Product_Usage[UserID] (1 month unique count)"
          ]
         ],
         "hoverlabel": {
          "bgcolor": "white",
          "font": {
           "family": "Rockwell",
           "size": 16
          },
          "namelength": -1
         },
         "hovertemplate": "<br>Bin</b>: %{x}<br>Feature</b>: %{customdata[2]}<br>Strength</b>: %{y: .2}<br>Median Value</b>: %{customdata[0]: .3}<extra></extra>",
         "marker": {
          "color": "#FFA15A"
         },
         "name": "Product_Usage[UserID] (1 month unique count)",
         "opacity": 0.5,
         "type": "bar",
         "x": [
          1,
          2,
          3,
          4,
          5,
          6,
          7,
          9,
          8,
          14,
          11,
          10,
          15,
          12,
          13
         ],
         "y": [
          -85.2159131151,
          -45.5816880449,
          -28.5889712746,
          -18.474258675599998,
          -1.7772589608999996,
          3.575814906,
          8.3374536869,
          14.0951160972,
          15.2154582089,
          16.9272356781,
          19.167919950399998,
          19.4636376451,
          23.9141110817,
          25.127876632499998,
          25.2367476089
         ]
        },
        {
         "customdata": [
          [
           14,
           -29.0920168963,
           "Product_Usage[UserID] (180 days unique count)"
          ],
          [
           13,
           -21.5140191081,
           "Product_Usage[UserID] (180 days unique count)"
          ],
          [
           12,
           -13.9772012609,
           "Product_Usage[UserID] (180 days unique count)"
          ],
          [
           11,
           -10.7139443025,
           "Product_Usage[UserID] (180 days unique count)"
          ],
          [
           10,
           -0.23748098009999974,
           "Product_Usage[UserID] (180 days unique count)"
          ],
          [
           8,
           1.6940452964,
           "Product_Usage[UserID] (180 days unique count)"
          ],
          [
           10,
           2.6452509901,
           "Product_Usage[UserID] (180 days unique count)"
          ],
          [
           7.5,
           9.6003625811,
           "Product_Usage[UserID] (180 days unique count)"
          ],
          [
           6,
           12.659791147,
           "Product_Usage[UserID] (180 days unique count)"
          ],
          [
           6.5,
           13.8062967495,
           "Product_Usage[UserID] (180 days unique count)"
          ],
          [
           7,
           14.3223594031,
           "Product_Usage[UserID] (180 days unique count)"
          ],
          [
           6,
           16.7798496215,
           "Product_Usage[UserID] (180 days unique count)"
          ],
          [
           6,
           18.556035589900002,
           "Product_Usage[UserID] (180 days unique count)"
          ],
          [
           6,
           19.6961557767,
           "Product_Usage[UserID] (180 days unique count)"
          ],
          [
           6,
           26.8698104691,
           "Product_Usage[UserID] (180 days unique count)"
          ]
         ],
         "hoverlabel": {
          "bgcolor": "white",
          "font": {
           "family": "Rockwell",
           "size": 16
          },
          "namelength": -1
         },
         "hovertemplate": "<br>Bin</b>: %{x}<br>Feature</b>: %{customdata[2]}<br>Strength</b>: %{y: .2}<br>Median Value</b>: %{customdata[0]: .3}<extra></extra>",
         "marker": {
          "color": "#19D3F3"
         },
         "name": "Product_Usage[UserID] (180 days unique count)",
         "opacity": 0.5,
         "type": "bar",
         "x": [
          1,
          2,
          3,
          4,
          5,
          6,
          7,
          8,
          9,
          10,
          11,
          14,
          13,
          12,
          15
         ],
         "y": [
          -29.0920168963,
          -21.5140191081,
          -13.9772012609,
          -10.7139443025,
          -0.23748098009999974,
          1.6940452964,
          2.6452509901,
          9.6003625811,
          12.659791147,
          13.8062967495,
          14.3223594031,
          16.7798496215,
          18.556035589900002,
          19.6961557767,
          26.8698104691
         ]
        }
       ],
       "layout": {
        "barmode": "relative",
        "height": 600,
        "hoverlabel": {
         "bgcolor": "white",
         "font": {
          "family": "Rockwell",
          "size": 16
         },
         "namelength": -1
        },
        "legend": {
         "bgcolor": "rgba(255, 255, 255, 0)",
         "bordercolor": "rgba(255, 255, 255, 0)",
         "title": {
          "text": "Features: "
         },
         "x": 1.1,
         "xanchor": "left",
         "y": 1,
         "yanchor": "top"
        },
        "plot_bgcolor": "rgba(0,0,0,0)",
        "showlegend": false,
        "template": {
         "data": {
          "bar": [
           {
            "error_x": {
             "color": "#2a3f5f"
            },
            "error_y": {
             "color": "#2a3f5f"
            },
            "marker": {
             "line": {
              "color": "#E5ECF6",
              "width": 0.5
             },
             "pattern": {
              "fillmode": "overlay",
              "size": 10,
              "solidity": 0.2
             }
            },
            "type": "bar"
           }
          ],
          "barpolar": [
           {
            "marker": {
             "line": {
              "color": "#E5ECF6",
              "width": 0.5
             },
             "pattern": {
              "fillmode": "overlay",
              "size": 10,
              "solidity": 0.2
             }
            },
            "type": "barpolar"
           }
          ],
          "carpet": [
           {
            "aaxis": {
             "endlinecolor": "#2a3f5f",
             "gridcolor": "white",
             "linecolor": "white",
             "minorgridcolor": "white",
             "startlinecolor": "#2a3f5f"
            },
            "baxis": {
             "endlinecolor": "#2a3f5f",
             "gridcolor": "white",
             "linecolor": "white",
             "minorgridcolor": "white",
             "startlinecolor": "#2a3f5f"
            },
            "type": "carpet"
           }
          ],
          "choropleth": [
           {
            "colorbar": {
             "outlinewidth": 0,
             "ticks": ""
            },
            "type": "choropleth"
           }
          ],
          "contour": [
           {
            "colorbar": {
             "outlinewidth": 0,
             "ticks": ""
            },
            "colorscale": [
             [
              0,
              "#0d0887"
             ],
             [
              0.1111111111111111,
              "#46039f"
             ],
             [
              0.2222222222222222,
              "#7201a8"
             ],
             [
              0.3333333333333333,
              "#9c179e"
             ],
             [
              0.4444444444444444,
              "#bd3786"
             ],
             [
              0.5555555555555556,
              "#d8576b"
             ],
             [
              0.6666666666666666,
              "#ed7953"
             ],
             [
              0.7777777777777778,
              "#fb9f3a"
             ],
             [
              0.8888888888888888,
              "#fdca26"
             ],
             [
              1,
              "#f0f921"
             ]
            ],
            "type": "contour"
           }
          ],
          "contourcarpet": [
           {
            "colorbar": {
             "outlinewidth": 0,
             "ticks": ""
            },
            "type": "contourcarpet"
           }
          ],
          "heatmap": [
           {
            "colorbar": {
             "outlinewidth": 0,
             "ticks": ""
            },
            "colorscale": [
             [
              0,
              "#0d0887"
             ],
             [
              0.1111111111111111,
              "#46039f"
             ],
             [
              0.2222222222222222,
              "#7201a8"
             ],
             [
              0.3333333333333333,
              "#9c179e"
             ],
             [
              0.4444444444444444,
              "#bd3786"
             ],
             [
              0.5555555555555556,
              "#d8576b"
             ],
             [
              0.6666666666666666,
              "#ed7953"
             ],
             [
              0.7777777777777778,
              "#fb9f3a"
             ],
             [
              0.8888888888888888,
              "#fdca26"
             ],
             [
              1,
              "#f0f921"
             ]
            ],
            "type": "heatmap"
           }
          ],
          "heatmapgl": [
           {
            "colorbar": {
             "outlinewidth": 0,
             "ticks": ""
            },
            "colorscale": [
             [
              0,
              "#0d0887"
             ],
             [
              0.1111111111111111,
              "#46039f"
             ],
             [
              0.2222222222222222,
              "#7201a8"
             ],
             [
              0.3333333333333333,
              "#9c179e"
             ],
             [
              0.4444444444444444,
              "#bd3786"
             ],
             [
              0.5555555555555556,
              "#d8576b"
             ],
             [
              0.6666666666666666,
              "#ed7953"
             ],
             [
              0.7777777777777778,
              "#fb9f3a"
             ],
             [
              0.8888888888888888,
              "#fdca26"
             ],
             [
              1,
              "#f0f921"
             ]
            ],
            "type": "heatmapgl"
           }
          ],
          "histogram": [
           {
            "marker": {
             "pattern": {
              "fillmode": "overlay",
              "size": 10,
              "solidity": 0.2
             }
            },
            "type": "histogram"
           }
          ],
          "histogram2d": [
           {
            "colorbar": {
             "outlinewidth": 0,
             "ticks": ""
            },
            "colorscale": [
             [
              0,
              "#0d0887"
             ],
             [
              0.1111111111111111,
              "#46039f"
             ],
             [
              0.2222222222222222,
              "#7201a8"
             ],
             [
              0.3333333333333333,
              "#9c179e"
             ],
             [
              0.4444444444444444,
              "#bd3786"
             ],
             [
              0.5555555555555556,
              "#d8576b"
             ],
             [
              0.6666666666666666,
              "#ed7953"
             ],
             [
              0.7777777777777778,
              "#fb9f3a"
             ],
             [
              0.8888888888888888,
              "#fdca26"
             ],
             [
              1,
              "#f0f921"
             ]
            ],
            "type": "histogram2d"
           }
          ],
          "histogram2dcontour": [
           {
            "colorbar": {
             "outlinewidth": 0,
             "ticks": ""
            },
            "colorscale": [
             [
              0,
              "#0d0887"
             ],
             [
              0.1111111111111111,
              "#46039f"
             ],
             [
              0.2222222222222222,
              "#7201a8"
             ],
             [
              0.3333333333333333,
              "#9c179e"
             ],
             [
              0.4444444444444444,
              "#bd3786"
             ],
             [
              0.5555555555555556,
              "#d8576b"
             ],
             [
              0.6666666666666666,
              "#ed7953"
             ],
             [
              0.7777777777777778,
              "#fb9f3a"
             ],
             [
              0.8888888888888888,
              "#fdca26"
             ],
             [
              1,
              "#f0f921"
             ]
            ],
            "type": "histogram2dcontour"
           }
          ],
          "mesh3d": [
           {
            "colorbar": {
             "outlinewidth": 0,
             "ticks": ""
            },
            "type": "mesh3d"
           }
          ],
          "parcoords": [
           {
            "line": {
             "colorbar": {
              "outlinewidth": 0,
              "ticks": ""
             }
            },
            "type": "parcoords"
           }
          ],
          "pie": [
           {
            "automargin": true,
            "type": "pie"
           }
          ],
          "scatter": [
           {
            "fillpattern": {
             "fillmode": "overlay",
             "size": 10,
             "solidity": 0.2
            },
            "type": "scatter"
           }
          ],
          "scatter3d": [
           {
            "line": {
             "colorbar": {
              "outlinewidth": 0,
              "ticks": ""
             }
            },
            "marker": {
             "colorbar": {
              "outlinewidth": 0,
              "ticks": ""
             }
            },
            "type": "scatter3d"
           }
          ],
          "scattercarpet": [
           {
            "marker": {
             "colorbar": {
              "outlinewidth": 0,
              "ticks": ""
             }
            },
            "type": "scattercarpet"
           }
          ],
          "scattergeo": [
           {
            "marker": {
             "colorbar": {
              "outlinewidth": 0,
              "ticks": ""
             }
            },
            "type": "scattergeo"
           }
          ],
          "scattergl": [
           {
            "marker": {
             "colorbar": {
              "outlinewidth": 0,
              "ticks": ""
             }
            },
            "type": "scattergl"
           }
          ],
          "scattermapbox": [
           {
            "marker": {
             "colorbar": {
              "outlinewidth": 0,
              "ticks": ""
             }
            },
            "type": "scattermapbox"
           }
          ],
          "scatterpolar": [
           {
            "marker": {
             "colorbar": {
              "outlinewidth": 0,
              "ticks": ""
             }
            },
            "type": "scatterpolar"
           }
          ],
          "scatterpolargl": [
           {
            "marker": {
             "colorbar": {
              "outlinewidth": 0,
              "ticks": ""
             }
            },
            "type": "scatterpolargl"
           }
          ],
          "scatterternary": [
           {
            "marker": {
             "colorbar": {
              "outlinewidth": 0,
              "ticks": ""
             }
            },
            "type": "scatterternary"
           }
          ],
          "surface": [
           {
            "colorbar": {
             "outlinewidth": 0,
             "ticks": ""
            },
            "colorscale": [
             [
              0,
              "#0d0887"
             ],
             [
              0.1111111111111111,
              "#46039f"
             ],
             [
              0.2222222222222222,
              "#7201a8"
             ],
             [
              0.3333333333333333,
              "#9c179e"
             ],
             [
              0.4444444444444444,
              "#bd3786"
             ],
             [
              0.5555555555555556,
              "#d8576b"
             ],
             [
              0.6666666666666666,
              "#ed7953"
             ],
             [
              0.7777777777777778,
              "#fb9f3a"
             ],
             [
              0.8888888888888888,
              "#fdca26"
             ],
             [
              1,
              "#f0f921"
             ]
            ],
            "type": "surface"
           }
          ],
          "table": [
           {
            "cells": {
             "fill": {
              "color": "#EBF0F8"
             },
             "line": {
              "color": "white"
             }
            },
            "header": {
             "fill": {
              "color": "#C8D4E3"
             },
             "line": {
              "color": "white"
             }
            },
            "type": "table"
           }
          ]
         },
         "layout": {
          "annotationdefaults": {
           "arrowcolor": "#2a3f5f",
           "arrowhead": 0,
           "arrowwidth": 1
          },
          "autotypenumbers": "strict",
          "coloraxis": {
           "colorbar": {
            "outlinewidth": 0,
            "ticks": ""
           }
          },
          "colorscale": {
           "diverging": [
            [
             0,
             "#8e0152"
            ],
            [
             0.1,
             "#c51b7d"
            ],
            [
             0.2,
             "#de77ae"
            ],
            [
             0.3,
             "#f1b6da"
            ],
            [
             0.4,
             "#fde0ef"
            ],
            [
             0.5,
             "#f7f7f7"
            ],
            [
             0.6,
             "#e6f5d0"
            ],
            [
             0.7,
             "#b8e186"
            ],
            [
             0.8,
             "#7fbc41"
            ],
            [
             0.9,
             "#4d9221"
            ],
            [
             1,
             "#276419"
            ]
           ],
           "sequential": [
            [
             0,
             "#0d0887"
            ],
            [
             0.1111111111111111,
             "#46039f"
            ],
            [
             0.2222222222222222,
             "#7201a8"
            ],
            [
             0.3333333333333333,
             "#9c179e"
            ],
            [
             0.4444444444444444,
             "#bd3786"
            ],
            [
             0.5555555555555556,
             "#d8576b"
            ],
            [
             0.6666666666666666,
             "#ed7953"
            ],
            [
             0.7777777777777778,
             "#fb9f3a"
            ],
            [
             0.8888888888888888,
             "#fdca26"
            ],
            [
             1,
             "#f0f921"
            ]
           ],
           "sequentialminus": [
            [
             0,
             "#0d0887"
            ],
            [
             0.1111111111111111,
             "#46039f"
            ],
            [
             0.2222222222222222,
             "#7201a8"
            ],
            [
             0.3333333333333333,
             "#9c179e"
            ],
            [
             0.4444444444444444,
             "#bd3786"
            ],
            [
             0.5555555555555556,
             "#d8576b"
            ],
            [
             0.6666666666666666,
             "#ed7953"
            ],
            [
             0.7777777777777778,
             "#fb9f3a"
            ],
            [
             0.8888888888888888,
             "#fdca26"
            ],
            [
             1,
             "#f0f921"
            ]
           ]
          },
          "colorway": [
           "#636efa",
           "#EF553B",
           "#00cc96",
           "#ab63fa",
           "#FFA15A",
           "#19d3f3",
           "#FF6692",
           "#B6E880",
           "#FF97FF",
           "#FECB52"
          ],
          "font": {
           "color": "#2a3f5f"
          },
          "geo": {
           "bgcolor": "white",
           "lakecolor": "white",
           "landcolor": "#E5ECF6",
           "showlakes": true,
           "showland": true,
           "subunitcolor": "white"
          },
          "hoverlabel": {
           "align": "left"
          },
          "hovermode": "closest",
          "mapbox": {
           "style": "light"
          },
          "paper_bgcolor": "white",
          "plot_bgcolor": "#E5ECF6",
          "polar": {
           "angularaxis": {
            "gridcolor": "white",
            "linecolor": "white",
            "ticks": ""
           },
           "bgcolor": "#E5ECF6",
           "radialaxis": {
            "gridcolor": "white",
            "linecolor": "white",
            "ticks": ""
           }
          },
          "scene": {
           "xaxis": {
            "backgroundcolor": "#E5ECF6",
            "gridcolor": "white",
            "gridwidth": 2,
            "linecolor": "white",
            "showbackground": true,
            "ticks": "",
            "zerolinecolor": "white"
           },
           "yaxis": {
            "backgroundcolor": "#E5ECF6",
            "gridcolor": "white",
            "gridwidth": 2,
            "linecolor": "white",
            "showbackground": true,
            "ticks": "",
            "zerolinecolor": "white"
           },
           "zaxis": {
            "backgroundcolor": "#E5ECF6",
            "gridcolor": "white",
            "gridwidth": 2,
            "linecolor": "white",
            "showbackground": true,
            "ticks": "",
            "zerolinecolor": "white"
           }
          },
          "shapedefaults": {
           "line": {
            "color": "#2a3f5f"
           }
          },
          "ternary": {
           "aaxis": {
            "gridcolor": "white",
            "linecolor": "white",
            "ticks": ""
           },
           "baxis": {
            "gridcolor": "white",
            "linecolor": "white",
            "ticks": ""
           },
           "bgcolor": "#E5ECF6",
           "caxis": {
            "gridcolor": "white",
            "linecolor": "white",
            "ticks": ""
           }
          },
          "title": {
           "x": 0.05
          },
          "xaxis": {
           "automargin": true,
           "gridcolor": "white",
           "linecolor": "white",
           "ticks": "",
           "title": {
            "standoff": 15
           },
           "zerolinecolor": "white",
           "zerolinewidth": 2
          },
          "yaxis": {
           "automargin": true,
           "gridcolor": "white",
           "linecolor": "white",
           "ticks": "",
           "title": {
            "standoff": 15
           },
           "zerolinecolor": "white",
           "zerolinewidth": 2
          }
         }
        },
        "title": {
         "x": 0.5,
         "xanchor": "center",
         "y": 0.9,
         "yanchor": "top"
        },
        "xaxis": {
         "anchor": "y",
         "domain": [
          0,
          0.94
         ],
         "linecolor": "black",
         "linewidth": 1,
         "showline": true,
         "title": {
          "text": "Bins"
         }
        },
        "yaxis": {
         "anchor": "x",
         "domain": [
          0,
          1
         ],
         "gridcolor": "lightgray",
         "gridwidth": 1,
         "linecolor": "black",
         "linewidth": 1,
         "showgrid": true,
         "showline": true,
         "title": {
          "text": "Feature Strength"
         },
         "zeroline": true,
         "zerolinecolor": "black",
         "zerolinewidth": 2
        },
        "yaxis2": {
         "anchor": "x",
         "gridcolor": "lightgray",
         "gridwidth": 1,
         "linecolor": "black",
         "linewidth": 1,
         "overlaying": "y",
         "showgrid": true,
         "showline": true,
         "side": "right",
         "tickformat": ",.0%",
         "title": {
          "text": "Average Prediction"
         },
         "zeroline": true,
         "zerolinecolor": "black",
         "zerolinewidth": 2
        }
       }
      },
      "text/html": [
       "<div>                            <div id=\"3209a4ab-7bc8-4f30-a622-795dc8468e67\" class=\"plotly-graph-div\" style=\"height:600px; width:100%;\"></div>            <script type=\"text/javascript\">                require([\"plotly\"], function(Plotly) {                    window.PLOTLYENV=window.PLOTLYENV || {};                                    if (document.getElementById(\"3209a4ab-7bc8-4f30-a622-795dc8468e67\")) {                    Plotly.newPlot(                        \"3209a4ab-7bc8-4f30-a622-795dc8468e67\",                        [{\"line\":{\"color\":\"blue\",\"width\":2},\"marker\":{\"color\":\"blue\",\"line\":{\"color\":\"blue\",\"width\":2},\"size\":5,\"symbol\":\"cross-open\"},\"mode\":\"lines+markers\",\"name\":\"Predictions\",\"x\":[1,2,3,4,5,6,7,8,9,10,11,12,13,14,15],\"y\":[0.0022315093813559317,0.010219044503448278,0.022697795740677967,0.042420051332758626,0.06852946410517241,0.0913050889355932,0.1178971656965517,0.15104334611355932,0.1826914557827586,0.22138521190344826,0.26717351555762714,0.32829605678103446,0.404664705840678,0.4973533420034483,0.7267667924965517],\"type\":\"scatter\",\"xaxis\":\"x\",\"yaxis\":\"y2\"},{\"line\":{\"color\":\"#ff7f0e\",\"width\":2},\"marker\":{\"color\":\"#ff7f0e\",\"line\":{\"color\":\"#ff7f0e\",\"width\":2},\"size\":5,\"symbol\":\"circle-open\"},\"mode\":\"lines+markers\",\"name\":\"Actuals\",\"x\":[1,2,3,4,5,6,7,8,9,10,11,12,13,14,15],\"y\":[0.0,0.017241379310344827,0.03389830508474576,0.05172413793103448,0.017241379310344827,0.05084745762711865,0.10344827586206896,0.0847457627118644,0.13793103448275862,0.1896551724137931,0.3389830508474576,0.29310344827586204,0.4576271186440678,0.5172413793103449,0.7586206896551724],\"type\":\"scatter\",\"xaxis\":\"x\",\"yaxis\":\"y2\"},{\"customdata\":[[24.0,-6.9323185526,\"Contract_Duration\"],[24.0,-6.4969353266,\"Contract_Duration\"],[24.0,-5.9526611681,\"Contract_Duration\"],[24.0,-5.5614355786,\"Contract_Duration\"],[24.0,-4.5644449534,\"Contract_Duration\"],[24.0,-4.3139133427,\"Contract_Duration\"],[18.0,-3.9488209820999995,\"Contract_Duration\"],[24.0,-3.7536719762999997,\"Contract_Duration\"],[24.0,-3.5580435735,\"Contract_Duration\"],[24.0,-3.0436684902,\"Contract_Duration\"],[24.0,-2.6085205922999997,\"Contract_Duration\"],[12.0,1.6803168583000003,\"Contract_Duration\"],[12.0,2.5630176141999996,\"Contract_Duration\"],[12.0,7.710147699,\"Contract_Duration\"],[12.0,14.4006692913,\"Contract_Duration\"]],\"hoverlabel\":{\"bgcolor\":\"white\",\"font\":{\"family\":\"Rockwell\",\"size\":16},\"namelength\":-1},\"hovertemplate\":\"<br>Bin</b>: %{x}<br>Feature</b>: %{customdata[2]}<br>Strength</b>: %{y: .2}<br>Median Value</b>: %{customdata[0]: .3}<extra></extra>\",\"marker\":{\"color\":\"#636EFA\"},\"name\":\"Contract_Duration\",\"opacity\":0.5,\"x\":[7,12,4,10,15,6,5,8,14,9,11,3,13,2,1],\"y\":[-6.9323185526,-6.4969353266,-5.9526611681,-5.5614355786,-4.5644449534,-4.3139133427,-3.9488209820999995,-3.7536719762999997,-3.5580435735,-3.0436684902,-2.6085205922999997,1.6803168583000003,2.5630176141999996,7.710147699,14.4006692913],\"type\":\"bar\"},{\"customdata\":[[23.0,-114.9750911642,\"Product_Usage (1 month count)\"],[11.0,-48.6101917944,\"Product_Usage (1 month count)\"],[9.0,-30.5931980179,\"Product_Usage (1 month count)\"],[9.0,-18.995586559,\"Product_Usage (1 month count)\"],[4.0,-3.2531210175999994,\"Product_Usage (1 month count)\"],[3.0,4.0973458014999995,\"Product_Usage (1 month count)\"],[3.0,7.9574844880999995,\"Product_Usage (1 month count)\"],[2.0,9.3455139431,\"Product_Usage (1 month count)\"],[2.0,12.0111261091,\"Product_Usage (1 month count)\"],[1.5,14.461961222,\"Product_Usage (1 month count)\"],[2.0,14.7020901305,\"Product_Usage (1 month count)\"],[1.0,15.004001024999999,\"Product_Usage (1 month count)\"],[1.0,17.6929261091,\"Product_Usage (1 month count)\"],[1.0,19.2106371553,\"Product_Usage (1 month count)\"],[1.0,20.3605772981,\"Product_Usage (1 month count)\"]],\"hoverlabel\":{\"bgcolor\":\"white\",\"font\":{\"family\":\"Rockwell\",\"size\":16},\"namelength\":-1},\"hovertemplate\":\"<br>Bin</b>: %{x}<br>Feature</b>: %{customdata[2]}<br>Strength</b>: %{y: .2}<br>Median Value</b>: %{customdata[0]: .3}<extra></extra>\",\"marker\":{\"color\":\"#EF553B\"},\"name\":\"Product_Usage (1 month count)\",\"opacity\":0.5,\"x\":[1,2,3,4,5,6,7,9,8,14,11,10,15,13,12],\"y\":[-114.9750911642,-48.6101917944,-30.5931980179,-18.995586559,-3.2531210175999994,4.0973458014999995,7.9574844880999995,9.3455139431,12.0111261091,14.461961222,14.7020901305,15.004001024999999,17.6929261091,19.2106371553,20.3605772981],\"type\":\"bar\"},{\"customdata\":[[144.0,-68.6189433074,\"Product_Usage (180 days count)\"],[80.0,-30.2861058724,\"Product_Usage (180 days count)\"],[60.5,-17.7598862794,\"Product_Usage (180 days count)\"],[49.0,-12.0547216349,\"Product_Usage (180 days count)\"],[18.0,-3.0867179918,\"Product_Usage (180 days count)\"],[13.0,2.2907045183,\"Product_Usage (180 days count)\"],[13.5,3.9327014761,\"Product_Usage (180 days count)\"],[13.0,4.9094522416,\"Product_Usage (180 days count)\"],[10.0,5.0459794925,\"Product_Usage (180 days count)\"],[12.0,5.5211164553,\"Product_Usage (180 days count)\"],[12.0,6.7734295737,\"Product_Usage (180 days count)\"],[11.0,7.0649597802,\"Product_Usage (180 days count)\"],[12.0,7.8935550971,\"Product_Usage (180 days count)\"],[10.0,9.1367183047,\"Product_Usage (180 days count)\"],[8.0,10.1734677474,\"Product_Usage (180 days count)\"]],\"hoverlabel\":{\"bgcolor\":\"white\",\"font\":{\"family\":\"Rockwell\",\"size\":16},\"namelength\":-1},\"hovertemplate\":\"<br>Bin</b>: %{x}<br>Feature</b>: %{customdata[2]}<br>Strength</b>: %{y: .2}<br>Median Value</b>: %{customdata[0]: .3}<extra></extra>\",\"marker\":{\"color\":\"#00CC96\"},\"name\":\"Product_Usage (180 days count)\",\"opacity\":0.5,\"x\":[1,2,3,4,5,6,7,14,9,8,11,15,10,13,12],\"y\":[-68.6189433074,-30.2861058724,-17.7598862794,-12.0547216349,-3.0867179918,2.2907045183,3.9327014761,4.9094522416,5.0459794925,5.5211164553,6.7734295737,7.0649597802,7.8935550971,9.1367183047,10.1734677474],\"type\":\"bar\"},{\"customdata\":[[9.0,-79.8204695377,\"Product_Usage[Activity_Type] (1 month unique count)\"],[7.0,-50.4300233756,\"Product_Usage[Activity_Type] (1 month unique count)\"],[6.0,-35.1373294194,\"Product_Usage[Activity_Type] (1 month unique count)\"],[5.0,-24.8586331977,\"Product_Usage[Activity_Type] (1 month unique count)\"],[4.0,-4.338755109700001,\"Product_Usage[Activity_Type] (1 month unique count)\"],[3.0,3.219755222999999,\"Product_Usage[Activity_Type] (1 month unique count)\"],[3.0,9.0444105645,\"Product_Usage[Activity_Type] (1 month unique count)\"],[2.0,13.2477511144,\"Product_Usage[Activity_Type] (1 month unique count)\"],[2.0,16.352221252499998,\"Product_Usage[Activity_Type] (1 month unique count)\"],[1.5,17.8564204769,\"Product_Usage[Activity_Type] (1 month unique count)\"],[1.0,20.2673483122,\"Product_Usage[Activity_Type] (1 month unique count)\"],[2.0,20.8648192753,\"Product_Usage[Activity_Type] (1 month unique count)\"],[1.0,25.8788174143,\"Product_Usage[Activity_Type] (1 month unique count)\"],[1.0,27.2283877879,\"Product_Usage[Activity_Type] (1 month unique count)\"],[1.0,29.639315887,\"Product_Usage[Activity_Type] (1 month unique count)\"]],\"hoverlabel\":{\"bgcolor\":\"white\",\"font\":{\"family\":\"Rockwell\",\"size\":16},\"namelength\":-1},\"hovertemplate\":\"<br>Bin</b>: %{x}<br>Feature</b>: %{customdata[2]}<br>Strength</b>: %{y: .2}<br>Median Value</b>: %{customdata[0]: .3}<extra></extra>\",\"marker\":{\"color\":\"#AB63FA\"},\"name\":\"Product_Usage[Activity_Type] (1 month unique count)\",\"opacity\":0.5,\"x\":[1,2,3,4,5,6,7,9,8,14,10,11,15,13,12],\"y\":[-79.8204695377,-50.4300233756,-35.1373294194,-24.8586331977,-4.338755109700001,3.219755222999999,9.0444105645,13.2477511144,16.352221252499998,17.8564204769,20.2673483122,20.8648192753,25.8788174143,27.2283877879,29.639315887],\"type\":\"bar\"},{\"customdata\":[[11.0,-85.2159131151,\"Product_Usage[UserID] (1 month unique count)\"],[8.0,-45.5816880449,\"Product_Usage[UserID] (1 month unique count)\"],[6.0,-28.5889712746,\"Product_Usage[UserID] (1 month unique count)\"],[5.0,-18.474258675599998,\"Product_Usage[UserID] (1 month unique count)\"],[3.5,-1.7772589608999996,\"Product_Usage[UserID] (1 month unique count)\"],[3.0,3.575814906,\"Product_Usage[UserID] (1 month unique count)\"],[3.0,8.3374536869,\"Product_Usage[UserID] (1 month unique count)\"],[2.0,14.0951160972,\"Product_Usage[UserID] (1 month unique count)\"],[2.0,15.2154582089,\"Product_Usage[UserID] (1 month unique count)\"],[2.0,16.9272356781,\"Product_Usage[UserID] (1 month unique count)\"],[1.0,19.167919950399998,\"Product_Usage[UserID] (1 month unique count)\"],[1.0,19.4636376451,\"Product_Usage[UserID] (1 month unique count)\"],[1.0,23.9141110817,\"Product_Usage[UserID] (1 month unique count)\"],[1.0,25.127876632499998,\"Product_Usage[UserID] (1 month unique count)\"],[1.0,25.2367476089,\"Product_Usage[UserID] (1 month unique count)\"]],\"hoverlabel\":{\"bgcolor\":\"white\",\"font\":{\"family\":\"Rockwell\",\"size\":16},\"namelength\":-1},\"hovertemplate\":\"<br>Bin</b>: %{x}<br>Feature</b>: %{customdata[2]}<br>Strength</b>: %{y: .2}<br>Median Value</b>: %{customdata[0]: .3}<extra></extra>\",\"marker\":{\"color\":\"#FFA15A\"},\"name\":\"Product_Usage[UserID] (1 month unique count)\",\"opacity\":0.5,\"x\":[1,2,3,4,5,6,7,9,8,14,11,10,15,12,13],\"y\":[-85.2159131151,-45.5816880449,-28.5889712746,-18.474258675599998,-1.7772589608999996,3.575814906,8.3374536869,14.0951160972,15.2154582089,16.9272356781,19.167919950399998,19.4636376451,23.9141110817,25.127876632499998,25.2367476089],\"type\":\"bar\"},{\"customdata\":[[14.0,-29.0920168963,\"Product_Usage[UserID] (180 days unique count)\"],[13.0,-21.5140191081,\"Product_Usage[UserID] (180 days unique count)\"],[12.0,-13.9772012609,\"Product_Usage[UserID] (180 days unique count)\"],[11.0,-10.7139443025,\"Product_Usage[UserID] (180 days unique count)\"],[10.0,-0.23748098009999974,\"Product_Usage[UserID] (180 days unique count)\"],[8.0,1.6940452964,\"Product_Usage[UserID] (180 days unique count)\"],[10.0,2.6452509901,\"Product_Usage[UserID] (180 days unique count)\"],[7.5,9.6003625811,\"Product_Usage[UserID] (180 days unique count)\"],[6.0,12.659791147,\"Product_Usage[UserID] (180 days unique count)\"],[6.5,13.8062967495,\"Product_Usage[UserID] (180 days unique count)\"],[7.0,14.3223594031,\"Product_Usage[UserID] (180 days unique count)\"],[6.0,16.7798496215,\"Product_Usage[UserID] (180 days unique count)\"],[6.0,18.556035589900002,\"Product_Usage[UserID] (180 days unique count)\"],[6.0,19.6961557767,\"Product_Usage[UserID] (180 days unique count)\"],[6.0,26.8698104691,\"Product_Usage[UserID] (180 days unique count)\"]],\"hoverlabel\":{\"bgcolor\":\"white\",\"font\":{\"family\":\"Rockwell\",\"size\":16},\"namelength\":-1},\"hovertemplate\":\"<br>Bin</b>: %{x}<br>Feature</b>: %{customdata[2]}<br>Strength</b>: %{y: .2}<br>Median Value</b>: %{customdata[0]: .3}<extra></extra>\",\"marker\":{\"color\":\"#19D3F3\"},\"name\":\"Product_Usage[UserID] (180 days unique count)\",\"opacity\":0.5,\"x\":[1,2,3,4,5,6,7,8,9,10,11,14,13,12,15],\"y\":[-29.0920168963,-21.5140191081,-13.9772012609,-10.7139443025,-0.23748098009999974,1.6940452964,2.6452509901,9.6003625811,12.659791147,13.8062967495,14.3223594031,16.7798496215,18.556035589900002,19.6961557767,26.8698104691],\"type\":\"bar\"}],                        {\"template\":{\"data\":{\"histogram2dcontour\":[{\"type\":\"histogram2dcontour\",\"colorbar\":{\"outlinewidth\":0,\"ticks\":\"\"},\"colorscale\":[[0.0,\"#0d0887\"],[0.1111111111111111,\"#46039f\"],[0.2222222222222222,\"#7201a8\"],[0.3333333333333333,\"#9c179e\"],[0.4444444444444444,\"#bd3786\"],[0.5555555555555556,\"#d8576b\"],[0.6666666666666666,\"#ed7953\"],[0.7777777777777778,\"#fb9f3a\"],[0.8888888888888888,\"#fdca26\"],[1.0,\"#f0f921\"]]}],\"choropleth\":[{\"type\":\"choropleth\",\"colorbar\":{\"outlinewidth\":0,\"ticks\":\"\"}}],\"histogram2d\":[{\"type\":\"histogram2d\",\"colorbar\":{\"outlinewidth\":0,\"ticks\":\"\"},\"colorscale\":[[0.0,\"#0d0887\"],[0.1111111111111111,\"#46039f\"],[0.2222222222222222,\"#7201a8\"],[0.3333333333333333,\"#9c179e\"],[0.4444444444444444,\"#bd3786\"],[0.5555555555555556,\"#d8576b\"],[0.6666666666666666,\"#ed7953\"],[0.7777777777777778,\"#fb9f3a\"],[0.8888888888888888,\"#fdca26\"],[1.0,\"#f0f921\"]]}],\"heatmap\":[{\"type\":\"heatmap\",\"colorbar\":{\"outlinewidth\":0,\"ticks\":\"\"},\"colorscale\":[[0.0,\"#0d0887\"],[0.1111111111111111,\"#46039f\"],[0.2222222222222222,\"#7201a8\"],[0.3333333333333333,\"#9c179e\"],[0.4444444444444444,\"#bd3786\"],[0.5555555555555556,\"#d8576b\"],[0.6666666666666666,\"#ed7953\"],[0.7777777777777778,\"#fb9f3a\"],[0.8888888888888888,\"#fdca26\"],[1.0,\"#f0f921\"]]}],\"heatmapgl\":[{\"type\":\"heatmapgl\",\"colorbar\":{\"outlinewidth\":0,\"ticks\":\"\"},\"colorscale\":[[0.0,\"#0d0887\"],[0.1111111111111111,\"#46039f\"],[0.2222222222222222,\"#7201a8\"],[0.3333333333333333,\"#9c179e\"],[0.4444444444444444,\"#bd3786\"],[0.5555555555555556,\"#d8576b\"],[0.6666666666666666,\"#ed7953\"],[0.7777777777777778,\"#fb9f3a\"],[0.8888888888888888,\"#fdca26\"],[1.0,\"#f0f921\"]]}],\"contourcarpet\":[{\"type\":\"contourcarpet\",\"colorbar\":{\"outlinewidth\":0,\"ticks\":\"\"}}],\"contour\":[{\"type\":\"contour\",\"colorbar\":{\"outlinewidth\":0,\"ticks\":\"\"},\"colorscale\":[[0.0,\"#0d0887\"],[0.1111111111111111,\"#46039f\"],[0.2222222222222222,\"#7201a8\"],[0.3333333333333333,\"#9c179e\"],[0.4444444444444444,\"#bd3786\"],[0.5555555555555556,\"#d8576b\"],[0.6666666666666666,\"#ed7953\"],[0.7777777777777778,\"#fb9f3a\"],[0.8888888888888888,\"#fdca26\"],[1.0,\"#f0f921\"]]}],\"surface\":[{\"type\":\"surface\",\"colorbar\":{\"outlinewidth\":0,\"ticks\":\"\"},\"colorscale\":[[0.0,\"#0d0887\"],[0.1111111111111111,\"#46039f\"],[0.2222222222222222,\"#7201a8\"],[0.3333333333333333,\"#9c179e\"],[0.4444444444444444,\"#bd3786\"],[0.5555555555555556,\"#d8576b\"],[0.6666666666666666,\"#ed7953\"],[0.7777777777777778,\"#fb9f3a\"],[0.8888888888888888,\"#fdca26\"],[1.0,\"#f0f921\"]]}],\"mesh3d\":[{\"type\":\"mesh3d\",\"colorbar\":{\"outlinewidth\":0,\"ticks\":\"\"}}],\"scatter\":[{\"fillpattern\":{\"fillmode\":\"overlay\",\"size\":10,\"solidity\":0.2},\"type\":\"scatter\"}],\"parcoords\":[{\"type\":\"parcoords\",\"line\":{\"colorbar\":{\"outlinewidth\":0,\"ticks\":\"\"}}}],\"scatterpolargl\":[{\"type\":\"scatterpolargl\",\"marker\":{\"colorbar\":{\"outlinewidth\":0,\"ticks\":\"\"}}}],\"bar\":[{\"error_x\":{\"color\":\"#2a3f5f\"},\"error_y\":{\"color\":\"#2a3f5f\"},\"marker\":{\"line\":{\"color\":\"#E5ECF6\",\"width\":0.5},\"pattern\":{\"fillmode\":\"overlay\",\"size\":10,\"solidity\":0.2}},\"type\":\"bar\"}],\"scattergeo\":[{\"type\":\"scattergeo\",\"marker\":{\"colorbar\":{\"outlinewidth\":0,\"ticks\":\"\"}}}],\"scatterpolar\":[{\"type\":\"scatterpolar\",\"marker\":{\"colorbar\":{\"outlinewidth\":0,\"ticks\":\"\"}}}],\"histogram\":[{\"marker\":{\"pattern\":{\"fillmode\":\"overlay\",\"size\":10,\"solidity\":0.2}},\"type\":\"histogram\"}],\"scattergl\":[{\"type\":\"scattergl\",\"marker\":{\"colorbar\":{\"outlinewidth\":0,\"ticks\":\"\"}}}],\"scatter3d\":[{\"type\":\"scatter3d\",\"line\":{\"colorbar\":{\"outlinewidth\":0,\"ticks\":\"\"}},\"marker\":{\"colorbar\":{\"outlinewidth\":0,\"ticks\":\"\"}}}],\"scattermapbox\":[{\"type\":\"scattermapbox\",\"marker\":{\"colorbar\":{\"outlinewidth\":0,\"ticks\":\"\"}}}],\"scatterternary\":[{\"type\":\"scatterternary\",\"marker\":{\"colorbar\":{\"outlinewidth\":0,\"ticks\":\"\"}}}],\"scattercarpet\":[{\"type\":\"scattercarpet\",\"marker\":{\"colorbar\":{\"outlinewidth\":0,\"ticks\":\"\"}}}],\"carpet\":[{\"aaxis\":{\"endlinecolor\":\"#2a3f5f\",\"gridcolor\":\"white\",\"linecolor\":\"white\",\"minorgridcolor\":\"white\",\"startlinecolor\":\"#2a3f5f\"},\"baxis\":{\"endlinecolor\":\"#2a3f5f\",\"gridcolor\":\"white\",\"linecolor\":\"white\",\"minorgridcolor\":\"white\",\"startlinecolor\":\"#2a3f5f\"},\"type\":\"carpet\"}],\"table\":[{\"cells\":{\"fill\":{\"color\":\"#EBF0F8\"},\"line\":{\"color\":\"white\"}},\"header\":{\"fill\":{\"color\":\"#C8D4E3\"},\"line\":{\"color\":\"white\"}},\"type\":\"table\"}],\"barpolar\":[{\"marker\":{\"line\":{\"color\":\"#E5ECF6\",\"width\":0.5},\"pattern\":{\"fillmode\":\"overlay\",\"size\":10,\"solidity\":0.2}},\"type\":\"barpolar\"}],\"pie\":[{\"automargin\":true,\"type\":\"pie\"}]},\"layout\":{\"autotypenumbers\":\"strict\",\"colorway\":[\"#636efa\",\"#EF553B\",\"#00cc96\",\"#ab63fa\",\"#FFA15A\",\"#19d3f3\",\"#FF6692\",\"#B6E880\",\"#FF97FF\",\"#FECB52\"],\"font\":{\"color\":\"#2a3f5f\"},\"hovermode\":\"closest\",\"hoverlabel\":{\"align\":\"left\"},\"paper_bgcolor\":\"white\",\"plot_bgcolor\":\"#E5ECF6\",\"polar\":{\"bgcolor\":\"#E5ECF6\",\"angularaxis\":{\"gridcolor\":\"white\",\"linecolor\":\"white\",\"ticks\":\"\"},\"radialaxis\":{\"gridcolor\":\"white\",\"linecolor\":\"white\",\"ticks\":\"\"}},\"ternary\":{\"bgcolor\":\"#E5ECF6\",\"aaxis\":{\"gridcolor\":\"white\",\"linecolor\":\"white\",\"ticks\":\"\"},\"baxis\":{\"gridcolor\":\"white\",\"linecolor\":\"white\",\"ticks\":\"\"},\"caxis\":{\"gridcolor\":\"white\",\"linecolor\":\"white\",\"ticks\":\"\"}},\"coloraxis\":{\"colorbar\":{\"outlinewidth\":0,\"ticks\":\"\"}},\"colorscale\":{\"sequential\":[[0.0,\"#0d0887\"],[0.1111111111111111,\"#46039f\"],[0.2222222222222222,\"#7201a8\"],[0.3333333333333333,\"#9c179e\"],[0.4444444444444444,\"#bd3786\"],[0.5555555555555556,\"#d8576b\"],[0.6666666666666666,\"#ed7953\"],[0.7777777777777778,\"#fb9f3a\"],[0.8888888888888888,\"#fdca26\"],[1.0,\"#f0f921\"]],\"sequentialminus\":[[0.0,\"#0d0887\"],[0.1111111111111111,\"#46039f\"],[0.2222222222222222,\"#7201a8\"],[0.3333333333333333,\"#9c179e\"],[0.4444444444444444,\"#bd3786\"],[0.5555555555555556,\"#d8576b\"],[0.6666666666666666,\"#ed7953\"],[0.7777777777777778,\"#fb9f3a\"],[0.8888888888888888,\"#fdca26\"],[1.0,\"#f0f921\"]],\"diverging\":[[0,\"#8e0152\"],[0.1,\"#c51b7d\"],[0.2,\"#de77ae\"],[0.3,\"#f1b6da\"],[0.4,\"#fde0ef\"],[0.5,\"#f7f7f7\"],[0.6,\"#e6f5d0\"],[0.7,\"#b8e186\"],[0.8,\"#7fbc41\"],[0.9,\"#4d9221\"],[1,\"#276419\"]]},\"xaxis\":{\"gridcolor\":\"white\",\"linecolor\":\"white\",\"ticks\":\"\",\"title\":{\"standoff\":15},\"zerolinecolor\":\"white\",\"automargin\":true,\"zerolinewidth\":2},\"yaxis\":{\"gridcolor\":\"white\",\"linecolor\":\"white\",\"ticks\":\"\",\"title\":{\"standoff\":15},\"zerolinecolor\":\"white\",\"automargin\":true,\"zerolinewidth\":2},\"scene\":{\"xaxis\":{\"backgroundcolor\":\"#E5ECF6\",\"gridcolor\":\"white\",\"linecolor\":\"white\",\"showbackground\":true,\"ticks\":\"\",\"zerolinecolor\":\"white\",\"gridwidth\":2},\"yaxis\":{\"backgroundcolor\":\"#E5ECF6\",\"gridcolor\":\"white\",\"linecolor\":\"white\",\"showbackground\":true,\"ticks\":\"\",\"zerolinecolor\":\"white\",\"gridwidth\":2},\"zaxis\":{\"backgroundcolor\":\"#E5ECF6\",\"gridcolor\":\"white\",\"linecolor\":\"white\",\"showbackground\":true,\"ticks\":\"\",\"zerolinecolor\":\"white\",\"gridwidth\":2}},\"shapedefaults\":{\"line\":{\"color\":\"#2a3f5f\"}},\"annotationdefaults\":{\"arrowcolor\":\"#2a3f5f\",\"arrowhead\":0,\"arrowwidth\":1},\"geo\":{\"bgcolor\":\"white\",\"landcolor\":\"#E5ECF6\",\"subunitcolor\":\"white\",\"showland\":true,\"showlakes\":true,\"lakecolor\":\"white\"},\"title\":{\"x\":0.05},\"mapbox\":{\"style\":\"light\"}}},\"xaxis\":{\"anchor\":\"y\",\"domain\":[0.0,0.94],\"title\":{\"text\":\"Bins\"},\"showline\":true,\"linewidth\":1,\"linecolor\":\"black\"},\"yaxis\":{\"anchor\":\"x\",\"domain\":[0.0,1.0],\"title\":{\"text\":\"Feature Strength\"},\"showline\":true,\"linewidth\":1,\"linecolor\":\"black\",\"showgrid\":true,\"gridwidth\":1,\"gridcolor\":\"lightgray\",\"zeroline\":true,\"zerolinewidth\":2,\"zerolinecolor\":\"black\"},\"yaxis2\":{\"anchor\":\"x\",\"overlaying\":\"y\",\"side\":\"right\",\"title\":{\"text\":\"Average Prediction\"},\"tickformat\":\",.0%\",\"showline\":true,\"linewidth\":1,\"linecolor\":\"black\",\"showgrid\":true,\"gridwidth\":1,\"gridcolor\":\"lightgray\",\"zeroline\":true,\"zerolinewidth\":2,\"zerolinecolor\":\"black\"},\"title\":{\"y\":0.9,\"x\":0.5,\"xanchor\":\"center\",\"yanchor\":\"top\"},\"legend\":{\"bgcolor\":\"rgba(255, 255, 255, 0)\",\"bordercolor\":\"rgba(255, 255, 255, 0)\",\"x\":1.1,\"y\":1,\"xanchor\":\"left\",\"yanchor\":\"top\",\"title\":{\"text\":\"Features: \"}},\"hoverlabel\":{\"font\":{\"size\":16,\"family\":\"Rockwell\"},\"bgcolor\":\"white\",\"namelength\":-1},\"barmode\":\"relative\",\"height\":600,\"plot_bgcolor\":\"rgba(0,0,0,0)\",\"showlegend\":false},                        {\"responsive\": true}                    ).then(function(){\n",
       "                            \n",
       "var gd = document.getElementById('3209a4ab-7bc8-4f30-a622-795dc8468e67');\n",
       "var x = new MutationObserver(function (mutations, observer) {{\n",
       "        var display = window.getComputedStyle(gd).display;\n",
       "        if (!display || display === 'none') {{\n",
       "            console.log([gd, 'removed!']);\n",
       "            Plotly.purge(gd);\n",
       "            observer.disconnect();\n",
       "        }}\n",
       "}});\n",
       "\n",
       "// Listen for the removal of the full notebook cells\n",
       "var notebookContainer = gd.closest('#notebook-container');\n",
       "if (notebookContainer) {{\n",
       "    x.observe(notebookContainer, {childList: true});\n",
       "}}\n",
       "\n",
       "// Listen for the clearing of the current output cell\n",
       "var outputEl = gd.closest('.output');\n",
       "if (outputEl) {{\n",
       "    x.observe(outputEl, {childList: true});\n",
       "}}\n",
       "\n",
       "                        })                };                });            </script>        </div>"
      ]
     },
     "metadata": {},
     "output_type": "display_data"
    }
   ],
   "source": [
    "# plot lift chart with overlaid prediction explanations\n",
    "plot_prediction_explanations_and_lift_chart(melted, project_id, showlegend=False, max_features=6, bins=15)"
   ]
  },
  {
   "cell_type": "code",
   "execution_count": 854,
   "id": "e321e5e6",
   "metadata": {},
   "outputs": [
    {
     "data": {
      "application/vnd.plotly.v1+json": {
       "config": {
        "plotlyServerURL": "https://plot.ly"
       },
       "data": [
        {
         "marker": {
          "color": "lightblue"
         },
         "name": "0",
         "opacity": 0.7,
         "type": "bar",
         "x": [
          "AR",
          "CA",
          "IA",
          "IL",
          "IN",
          "MI",
          "NY",
          "OH",
          "OTHER",
          "PA",
          "TX",
          "VA"
         ],
         "y": [
          16,
          24,
          9,
          16,
          14,
          11,
          16,
          9,
          177,
          14,
          21,
          15
         ]
        },
        {
         "marker": {
          "color": "blue"
         },
         "name": "1",
         "opacity": 0.7,
         "type": "bar",
         "x": [
          "AR",
          "CA",
          "IA",
          "IL",
          "IN",
          "MI",
          "NY",
          "OH",
          "OTHER",
          "PA",
          "TX",
          "VA"
         ],
         "y": [
          16,
          25,
          16,
          25,
          12,
          19,
          25,
          22,
          299,
          26,
          33,
          16
         ]
        }
       ],
       "layout": {
        "height": 600,
        "hoverlabel": {
         "bgcolor": "white",
         "font": {
          "family": "Rockwell",
          "size": 16
         },
         "namelength": -1
        },
        "legend": {
         "title": {
          "text": ""
         }
        },
        "plot_bgcolor": "rgba(0,0,0,0)",
        "showlegend": true,
        "template": {
         "data": {
          "bar": [
           {
            "error_x": {
             "color": "#2a3f5f"
            },
            "error_y": {
             "color": "#2a3f5f"
            },
            "marker": {
             "line": {
              "color": "#E5ECF6",
              "width": 0.5
             },
             "pattern": {
              "fillmode": "overlay",
              "size": 10,
              "solidity": 0.2
             }
            },
            "type": "bar"
           }
          ],
          "barpolar": [
           {
            "marker": {
             "line": {
              "color": "#E5ECF6",
              "width": 0.5
             },
             "pattern": {
              "fillmode": "overlay",
              "size": 10,
              "solidity": 0.2
             }
            },
            "type": "barpolar"
           }
          ],
          "carpet": [
           {
            "aaxis": {
             "endlinecolor": "#2a3f5f",
             "gridcolor": "white",
             "linecolor": "white",
             "minorgridcolor": "white",
             "startlinecolor": "#2a3f5f"
            },
            "baxis": {
             "endlinecolor": "#2a3f5f",
             "gridcolor": "white",
             "linecolor": "white",
             "minorgridcolor": "white",
             "startlinecolor": "#2a3f5f"
            },
            "type": "carpet"
           }
          ],
          "choropleth": [
           {
            "colorbar": {
             "outlinewidth": 0,
             "ticks": ""
            },
            "type": "choropleth"
           }
          ],
          "contour": [
           {
            "colorbar": {
             "outlinewidth": 0,
             "ticks": ""
            },
            "colorscale": [
             [
              0,
              "#0d0887"
             ],
             [
              0.1111111111111111,
              "#46039f"
             ],
             [
              0.2222222222222222,
              "#7201a8"
             ],
             [
              0.3333333333333333,
              "#9c179e"
             ],
             [
              0.4444444444444444,
              "#bd3786"
             ],
             [
              0.5555555555555556,
              "#d8576b"
             ],
             [
              0.6666666666666666,
              "#ed7953"
             ],
             [
              0.7777777777777778,
              "#fb9f3a"
             ],
             [
              0.8888888888888888,
              "#fdca26"
             ],
             [
              1,
              "#f0f921"
             ]
            ],
            "type": "contour"
           }
          ],
          "contourcarpet": [
           {
            "colorbar": {
             "outlinewidth": 0,
             "ticks": ""
            },
            "type": "contourcarpet"
           }
          ],
          "heatmap": [
           {
            "colorbar": {
             "outlinewidth": 0,
             "ticks": ""
            },
            "colorscale": [
             [
              0,
              "#0d0887"
             ],
             [
              0.1111111111111111,
              "#46039f"
             ],
             [
              0.2222222222222222,
              "#7201a8"
             ],
             [
              0.3333333333333333,
              "#9c179e"
             ],
             [
              0.4444444444444444,
              "#bd3786"
             ],
             [
              0.5555555555555556,
              "#d8576b"
             ],
             [
              0.6666666666666666,
              "#ed7953"
             ],
             [
              0.7777777777777778,
              "#fb9f3a"
             ],
             [
              0.8888888888888888,
              "#fdca26"
             ],
             [
              1,
              "#f0f921"
             ]
            ],
            "type": "heatmap"
           }
          ],
          "heatmapgl": [
           {
            "colorbar": {
             "outlinewidth": 0,
             "ticks": ""
            },
            "colorscale": [
             [
              0,
              "#0d0887"
             ],
             [
              0.1111111111111111,
              "#46039f"
             ],
             [
              0.2222222222222222,
              "#7201a8"
             ],
             [
              0.3333333333333333,
              "#9c179e"
             ],
             [
              0.4444444444444444,
              "#bd3786"
             ],
             [
              0.5555555555555556,
              "#d8576b"
             ],
             [
              0.6666666666666666,
              "#ed7953"
             ],
             [
              0.7777777777777778,
              "#fb9f3a"
             ],
             [
              0.8888888888888888,
              "#fdca26"
             ],
             [
              1,
              "#f0f921"
             ]
            ],
            "type": "heatmapgl"
           }
          ],
          "histogram": [
           {
            "marker": {
             "pattern": {
              "fillmode": "overlay",
              "size": 10,
              "solidity": 0.2
             }
            },
            "type": "histogram"
           }
          ],
          "histogram2d": [
           {
            "colorbar": {
             "outlinewidth": 0,
             "ticks": ""
            },
            "colorscale": [
             [
              0,
              "#0d0887"
             ],
             [
              0.1111111111111111,
              "#46039f"
             ],
             [
              0.2222222222222222,
              "#7201a8"
             ],
             [
              0.3333333333333333,
              "#9c179e"
             ],
             [
              0.4444444444444444,
              "#bd3786"
             ],
             [
              0.5555555555555556,
              "#d8576b"
             ],
             [
              0.6666666666666666,
              "#ed7953"
             ],
             [
              0.7777777777777778,
              "#fb9f3a"
             ],
             [
              0.8888888888888888,
              "#fdca26"
             ],
             [
              1,
              "#f0f921"
             ]
            ],
            "type": "histogram2d"
           }
          ],
          "histogram2dcontour": [
           {
            "colorbar": {
             "outlinewidth": 0,
             "ticks": ""
            },
            "colorscale": [
             [
              0,
              "#0d0887"
             ],
             [
              0.1111111111111111,
              "#46039f"
             ],
             [
              0.2222222222222222,
              "#7201a8"
             ],
             [
              0.3333333333333333,
              "#9c179e"
             ],
             [
              0.4444444444444444,
              "#bd3786"
             ],
             [
              0.5555555555555556,
              "#d8576b"
             ],
             [
              0.6666666666666666,
              "#ed7953"
             ],
             [
              0.7777777777777778,
              "#fb9f3a"
             ],
             [
              0.8888888888888888,
              "#fdca26"
             ],
             [
              1,
              "#f0f921"
             ]
            ],
            "type": "histogram2dcontour"
           }
          ],
          "mesh3d": [
           {
            "colorbar": {
             "outlinewidth": 0,
             "ticks": ""
            },
            "type": "mesh3d"
           }
          ],
          "parcoords": [
           {
            "line": {
             "colorbar": {
              "outlinewidth": 0,
              "ticks": ""
             }
            },
            "type": "parcoords"
           }
          ],
          "pie": [
           {
            "automargin": true,
            "type": "pie"
           }
          ],
          "scatter": [
           {
            "fillpattern": {
             "fillmode": "overlay",
             "size": 10,
             "solidity": 0.2
            },
            "type": "scatter"
           }
          ],
          "scatter3d": [
           {
            "line": {
             "colorbar": {
              "outlinewidth": 0,
              "ticks": ""
             }
            },
            "marker": {
             "colorbar": {
              "outlinewidth": 0,
              "ticks": ""
             }
            },
            "type": "scatter3d"
           }
          ],
          "scattercarpet": [
           {
            "marker": {
             "colorbar": {
              "outlinewidth": 0,
              "ticks": ""
             }
            },
            "type": "scattercarpet"
           }
          ],
          "scattergeo": [
           {
            "marker": {
             "colorbar": {
              "outlinewidth": 0,
              "ticks": ""
             }
            },
            "type": "scattergeo"
           }
          ],
          "scattergl": [
           {
            "marker": {
             "colorbar": {
              "outlinewidth": 0,
              "ticks": ""
             }
            },
            "type": "scattergl"
           }
          ],
          "scattermapbox": [
           {
            "marker": {
             "colorbar": {
              "outlinewidth": 0,
              "ticks": ""
             }
            },
            "type": "scattermapbox"
           }
          ],
          "scatterpolar": [
           {
            "marker": {
             "colorbar": {
              "outlinewidth": 0,
              "ticks": ""
             }
            },
            "type": "scatterpolar"
           }
          ],
          "scatterpolargl": [
           {
            "marker": {
             "colorbar": {
              "outlinewidth": 0,
              "ticks": ""
             }
            },
            "type": "scatterpolargl"
           }
          ],
          "scatterternary": [
           {
            "marker": {
             "colorbar": {
              "outlinewidth": 0,
              "ticks": ""
             }
            },
            "type": "scatterternary"
           }
          ],
          "surface": [
           {
            "colorbar": {
             "outlinewidth": 0,
             "ticks": ""
            },
            "colorscale": [
             [
              0,
              "#0d0887"
             ],
             [
              0.1111111111111111,
              "#46039f"
             ],
             [
              0.2222222222222222,
              "#7201a8"
             ],
             [
              0.3333333333333333,
              "#9c179e"
             ],
             [
              0.4444444444444444,
              "#bd3786"
             ],
             [
              0.5555555555555556,
              "#d8576b"
             ],
             [
              0.6666666666666666,
              "#ed7953"
             ],
             [
              0.7777777777777778,
              "#fb9f3a"
             ],
             [
              0.8888888888888888,
              "#fdca26"
             ],
             [
              1,
              "#f0f921"
             ]
            ],
            "type": "surface"
           }
          ],
          "table": [
           {
            "cells": {
             "fill": {
              "color": "#EBF0F8"
             },
             "line": {
              "color": "white"
             }
            },
            "header": {
             "fill": {
              "color": "#C8D4E3"
             },
             "line": {
              "color": "white"
             }
            },
            "type": "table"
           }
          ]
         },
         "layout": {
          "annotationdefaults": {
           "arrowcolor": "#2a3f5f",
           "arrowhead": 0,
           "arrowwidth": 1
          },
          "autotypenumbers": "strict",
          "coloraxis": {
           "colorbar": {
            "outlinewidth": 0,
            "ticks": ""
           }
          },
          "colorscale": {
           "diverging": [
            [
             0,
             "#8e0152"
            ],
            [
             0.1,
             "#c51b7d"
            ],
            [
             0.2,
             "#de77ae"
            ],
            [
             0.3,
             "#f1b6da"
            ],
            [
             0.4,
             "#fde0ef"
            ],
            [
             0.5,
             "#f7f7f7"
            ],
            [
             0.6,
             "#e6f5d0"
            ],
            [
             0.7,
             "#b8e186"
            ],
            [
             0.8,
             "#7fbc41"
            ],
            [
             0.9,
             "#4d9221"
            ],
            [
             1,
             "#276419"
            ]
           ],
           "sequential": [
            [
             0,
             "#0d0887"
            ],
            [
             0.1111111111111111,
             "#46039f"
            ],
            [
             0.2222222222222222,
             "#7201a8"
            ],
            [
             0.3333333333333333,
             "#9c179e"
            ],
            [
             0.4444444444444444,
             "#bd3786"
            ],
            [
             0.5555555555555556,
             "#d8576b"
            ],
            [
             0.6666666666666666,
             "#ed7953"
            ],
            [
             0.7777777777777778,
             "#fb9f3a"
            ],
            [
             0.8888888888888888,
             "#fdca26"
            ],
            [
             1,
             "#f0f921"
            ]
           ],
           "sequentialminus": [
            [
             0,
             "#0d0887"
            ],
            [
             0.1111111111111111,
             "#46039f"
            ],
            [
             0.2222222222222222,
             "#7201a8"
            ],
            [
             0.3333333333333333,
             "#9c179e"
            ],
            [
             0.4444444444444444,
             "#bd3786"
            ],
            [
             0.5555555555555556,
             "#d8576b"
            ],
            [
             0.6666666666666666,
             "#ed7953"
            ],
            [
             0.7777777777777778,
             "#fb9f3a"
            ],
            [
             0.8888888888888888,
             "#fdca26"
            ],
            [
             1,
             "#f0f921"
            ]
           ]
          },
          "colorway": [
           "#636efa",
           "#EF553B",
           "#00cc96",
           "#ab63fa",
           "#FFA15A",
           "#19d3f3",
           "#FF6692",
           "#B6E880",
           "#FF97FF",
           "#FECB52"
          ],
          "font": {
           "color": "#2a3f5f"
          },
          "geo": {
           "bgcolor": "white",
           "lakecolor": "white",
           "landcolor": "#E5ECF6",
           "showlakes": true,
           "showland": true,
           "subunitcolor": "white"
          },
          "hoverlabel": {
           "align": "left"
          },
          "hovermode": "closest",
          "mapbox": {
           "style": "light"
          },
          "paper_bgcolor": "white",
          "plot_bgcolor": "#E5ECF6",
          "polar": {
           "angularaxis": {
            "gridcolor": "white",
            "linecolor": "white",
            "ticks": ""
           },
           "bgcolor": "#E5ECF6",
           "radialaxis": {
            "gridcolor": "white",
            "linecolor": "white",
            "ticks": ""
           }
          },
          "scene": {
           "xaxis": {
            "backgroundcolor": "#E5ECF6",
            "gridcolor": "white",
            "gridwidth": 2,
            "linecolor": "white",
            "showbackground": true,
            "ticks": "",
            "zerolinecolor": "white"
           },
           "yaxis": {
            "backgroundcolor": "#E5ECF6",
            "gridcolor": "white",
            "gridwidth": 2,
            "linecolor": "white",
            "showbackground": true,
            "ticks": "",
            "zerolinecolor": "white"
           },
           "zaxis": {
            "backgroundcolor": "#E5ECF6",
            "gridcolor": "white",
            "gridwidth": 2,
            "linecolor": "white",
            "showbackground": true,
            "ticks": "",
            "zerolinecolor": "white"
           }
          },
          "shapedefaults": {
           "line": {
            "color": "#2a3f5f"
           }
          },
          "ternary": {
           "aaxis": {
            "gridcolor": "white",
            "linecolor": "white",
            "ticks": ""
           },
           "baxis": {
            "gridcolor": "white",
            "linecolor": "white",
            "ticks": ""
           },
           "bgcolor": "#E5ECF6",
           "caxis": {
            "gridcolor": "white",
            "linecolor": "white",
            "ticks": ""
           }
          },
          "title": {
           "x": 0.05
          },
          "xaxis": {
           "automargin": true,
           "gridcolor": "white",
           "linecolor": "white",
           "ticks": "",
           "title": {
            "standoff": 15
           },
           "zerolinecolor": "white",
           "zerolinewidth": 2
          },
          "yaxis": {
           "automargin": true,
           "gridcolor": "white",
           "linecolor": "white",
           "ticks": "",
           "title": {
            "standoff": 15
           },
           "zerolinecolor": "white",
           "zerolinewidth": 2
          }
         }
        },
        "xaxis": {
         "anchor": "y",
         "domain": [
          0,
          0.94
         ],
         "linecolor": "black",
         "linewidth": 1,
         "showline": true,
         "title": {
          "text": "State"
         }
        },
        "yaxis": {
         "anchor": "x",
         "domain": [
          0,
          1
         ],
         "gridcolor": "lightgray",
         "gridwidth": 1,
         "linecolor": "black",
         "linewidth": 1,
         "showgrid": true,
         "showline": true,
         "title": {
          "text": "Frequency"
         }
        },
        "yaxis2": {
         "anchor": "x",
         "gridcolor": "lightgray",
         "gridwidth": 1,
         "linecolor": "black",
         "linewidth": 1,
         "overlaying": "y",
         "showgrid": true,
         "showline": true,
         "side": "right",
         "tickformat": ",.0%",
         "title": {
          "text": "Average Prediction"
         }
        }
       }
      },
      "text/html": [
       "<div>                            <div id=\"7cac5193-3631-4aa6-aed3-f51f1c288a0b\" class=\"plotly-graph-div\" style=\"height:600px; width:100%;\"></div>            <script type=\"text/javascript\">                require([\"plotly\"], function(Plotly) {                    window.PLOTLYENV=window.PLOTLYENV || {};                                    if (document.getElementById(\"7cac5193-3631-4aa6-aed3-f51f1c288a0b\")) {                    Plotly.newPlot(                        \"7cac5193-3631-4aa6-aed3-f51f1c288a0b\",                        [{\"marker\":{\"color\":\"lightblue\"},\"name\":\"0\",\"opacity\":0.7,\"x\":[\"AR\",\"CA\",\"IA\",\"IL\",\"IN\",\"MI\",\"NY\",\"OH\",\"OTHER\",\"PA\",\"TX\",\"VA\"],\"y\":[16,24,9,16,14,11,16,9,177,14,21,15],\"type\":\"bar\"},{\"marker\":{\"color\":\"blue\"},\"name\":\"1\",\"opacity\":0.7,\"x\":[\"AR\",\"CA\",\"IA\",\"IL\",\"IN\",\"MI\",\"NY\",\"OH\",\"OTHER\",\"PA\",\"TX\",\"VA\"],\"y\":[16,25,16,25,12,19,25,22,299,26,33,16],\"type\":\"bar\"}],                        {\"template\":{\"data\":{\"histogram2dcontour\":[{\"type\":\"histogram2dcontour\",\"colorbar\":{\"outlinewidth\":0,\"ticks\":\"\"},\"colorscale\":[[0.0,\"#0d0887\"],[0.1111111111111111,\"#46039f\"],[0.2222222222222222,\"#7201a8\"],[0.3333333333333333,\"#9c179e\"],[0.4444444444444444,\"#bd3786\"],[0.5555555555555556,\"#d8576b\"],[0.6666666666666666,\"#ed7953\"],[0.7777777777777778,\"#fb9f3a\"],[0.8888888888888888,\"#fdca26\"],[1.0,\"#f0f921\"]]}],\"choropleth\":[{\"type\":\"choropleth\",\"colorbar\":{\"outlinewidth\":0,\"ticks\":\"\"}}],\"histogram2d\":[{\"type\":\"histogram2d\",\"colorbar\":{\"outlinewidth\":0,\"ticks\":\"\"},\"colorscale\":[[0.0,\"#0d0887\"],[0.1111111111111111,\"#46039f\"],[0.2222222222222222,\"#7201a8\"],[0.3333333333333333,\"#9c179e\"],[0.4444444444444444,\"#bd3786\"],[0.5555555555555556,\"#d8576b\"],[0.6666666666666666,\"#ed7953\"],[0.7777777777777778,\"#fb9f3a\"],[0.8888888888888888,\"#fdca26\"],[1.0,\"#f0f921\"]]}],\"heatmap\":[{\"type\":\"heatmap\",\"colorbar\":{\"outlinewidth\":0,\"ticks\":\"\"},\"colorscale\":[[0.0,\"#0d0887\"],[0.1111111111111111,\"#46039f\"],[0.2222222222222222,\"#7201a8\"],[0.3333333333333333,\"#9c179e\"],[0.4444444444444444,\"#bd3786\"],[0.5555555555555556,\"#d8576b\"],[0.6666666666666666,\"#ed7953\"],[0.7777777777777778,\"#fb9f3a\"],[0.8888888888888888,\"#fdca26\"],[1.0,\"#f0f921\"]]}],\"heatmapgl\":[{\"type\":\"heatmapgl\",\"colorbar\":{\"outlinewidth\":0,\"ticks\":\"\"},\"colorscale\":[[0.0,\"#0d0887\"],[0.1111111111111111,\"#46039f\"],[0.2222222222222222,\"#7201a8\"],[0.3333333333333333,\"#9c179e\"],[0.4444444444444444,\"#bd3786\"],[0.5555555555555556,\"#d8576b\"],[0.6666666666666666,\"#ed7953\"],[0.7777777777777778,\"#fb9f3a\"],[0.8888888888888888,\"#fdca26\"],[1.0,\"#f0f921\"]]}],\"contourcarpet\":[{\"type\":\"contourcarpet\",\"colorbar\":{\"outlinewidth\":0,\"ticks\":\"\"}}],\"contour\":[{\"type\":\"contour\",\"colorbar\":{\"outlinewidth\":0,\"ticks\":\"\"},\"colorscale\":[[0.0,\"#0d0887\"],[0.1111111111111111,\"#46039f\"],[0.2222222222222222,\"#7201a8\"],[0.3333333333333333,\"#9c179e\"],[0.4444444444444444,\"#bd3786\"],[0.5555555555555556,\"#d8576b\"],[0.6666666666666666,\"#ed7953\"],[0.7777777777777778,\"#fb9f3a\"],[0.8888888888888888,\"#fdca26\"],[1.0,\"#f0f921\"]]}],\"surface\":[{\"type\":\"surface\",\"colorbar\":{\"outlinewidth\":0,\"ticks\":\"\"},\"colorscale\":[[0.0,\"#0d0887\"],[0.1111111111111111,\"#46039f\"],[0.2222222222222222,\"#7201a8\"],[0.3333333333333333,\"#9c179e\"],[0.4444444444444444,\"#bd3786\"],[0.5555555555555556,\"#d8576b\"],[0.6666666666666666,\"#ed7953\"],[0.7777777777777778,\"#fb9f3a\"],[0.8888888888888888,\"#fdca26\"],[1.0,\"#f0f921\"]]}],\"mesh3d\":[{\"type\":\"mesh3d\",\"colorbar\":{\"outlinewidth\":0,\"ticks\":\"\"}}],\"scatter\":[{\"fillpattern\":{\"fillmode\":\"overlay\",\"size\":10,\"solidity\":0.2},\"type\":\"scatter\"}],\"parcoords\":[{\"type\":\"parcoords\",\"line\":{\"colorbar\":{\"outlinewidth\":0,\"ticks\":\"\"}}}],\"scatterpolargl\":[{\"type\":\"scatterpolargl\",\"marker\":{\"colorbar\":{\"outlinewidth\":0,\"ticks\":\"\"}}}],\"bar\":[{\"error_x\":{\"color\":\"#2a3f5f\"},\"error_y\":{\"color\":\"#2a3f5f\"},\"marker\":{\"line\":{\"color\":\"#E5ECF6\",\"width\":0.5},\"pattern\":{\"fillmode\":\"overlay\",\"size\":10,\"solidity\":0.2}},\"type\":\"bar\"}],\"scattergeo\":[{\"type\":\"scattergeo\",\"marker\":{\"colorbar\":{\"outlinewidth\":0,\"ticks\":\"\"}}}],\"scatterpolar\":[{\"type\":\"scatterpolar\",\"marker\":{\"colorbar\":{\"outlinewidth\":0,\"ticks\":\"\"}}}],\"histogram\":[{\"marker\":{\"pattern\":{\"fillmode\":\"overlay\",\"size\":10,\"solidity\":0.2}},\"type\":\"histogram\"}],\"scattergl\":[{\"type\":\"scattergl\",\"marker\":{\"colorbar\":{\"outlinewidth\":0,\"ticks\":\"\"}}}],\"scatter3d\":[{\"type\":\"scatter3d\",\"line\":{\"colorbar\":{\"outlinewidth\":0,\"ticks\":\"\"}},\"marker\":{\"colorbar\":{\"outlinewidth\":0,\"ticks\":\"\"}}}],\"scattermapbox\":[{\"type\":\"scattermapbox\",\"marker\":{\"colorbar\":{\"outlinewidth\":0,\"ticks\":\"\"}}}],\"scatterternary\":[{\"type\":\"scatterternary\",\"marker\":{\"colorbar\":{\"outlinewidth\":0,\"ticks\":\"\"}}}],\"scattercarpet\":[{\"type\":\"scattercarpet\",\"marker\":{\"colorbar\":{\"outlinewidth\":0,\"ticks\":\"\"}}}],\"carpet\":[{\"aaxis\":{\"endlinecolor\":\"#2a3f5f\",\"gridcolor\":\"white\",\"linecolor\":\"white\",\"minorgridcolor\":\"white\",\"startlinecolor\":\"#2a3f5f\"},\"baxis\":{\"endlinecolor\":\"#2a3f5f\",\"gridcolor\":\"white\",\"linecolor\":\"white\",\"minorgridcolor\":\"white\",\"startlinecolor\":\"#2a3f5f\"},\"type\":\"carpet\"}],\"table\":[{\"cells\":{\"fill\":{\"color\":\"#EBF0F8\"},\"line\":{\"color\":\"white\"}},\"header\":{\"fill\":{\"color\":\"#C8D4E3\"},\"line\":{\"color\":\"white\"}},\"type\":\"table\"}],\"barpolar\":[{\"marker\":{\"line\":{\"color\":\"#E5ECF6\",\"width\":0.5},\"pattern\":{\"fillmode\":\"overlay\",\"size\":10,\"solidity\":0.2}},\"type\":\"barpolar\"}],\"pie\":[{\"automargin\":true,\"type\":\"pie\"}]},\"layout\":{\"autotypenumbers\":\"strict\",\"colorway\":[\"#636efa\",\"#EF553B\",\"#00cc96\",\"#ab63fa\",\"#FFA15A\",\"#19d3f3\",\"#FF6692\",\"#B6E880\",\"#FF97FF\",\"#FECB52\"],\"font\":{\"color\":\"#2a3f5f\"},\"hovermode\":\"closest\",\"hoverlabel\":{\"align\":\"left\"},\"paper_bgcolor\":\"white\",\"plot_bgcolor\":\"#E5ECF6\",\"polar\":{\"bgcolor\":\"#E5ECF6\",\"angularaxis\":{\"gridcolor\":\"white\",\"linecolor\":\"white\",\"ticks\":\"\"},\"radialaxis\":{\"gridcolor\":\"white\",\"linecolor\":\"white\",\"ticks\":\"\"}},\"ternary\":{\"bgcolor\":\"#E5ECF6\",\"aaxis\":{\"gridcolor\":\"white\",\"linecolor\":\"white\",\"ticks\":\"\"},\"baxis\":{\"gridcolor\":\"white\",\"linecolor\":\"white\",\"ticks\":\"\"},\"caxis\":{\"gridcolor\":\"white\",\"linecolor\":\"white\",\"ticks\":\"\"}},\"coloraxis\":{\"colorbar\":{\"outlinewidth\":0,\"ticks\":\"\"}},\"colorscale\":{\"sequential\":[[0.0,\"#0d0887\"],[0.1111111111111111,\"#46039f\"],[0.2222222222222222,\"#7201a8\"],[0.3333333333333333,\"#9c179e\"],[0.4444444444444444,\"#bd3786\"],[0.5555555555555556,\"#d8576b\"],[0.6666666666666666,\"#ed7953\"],[0.7777777777777778,\"#fb9f3a\"],[0.8888888888888888,\"#fdca26\"],[1.0,\"#f0f921\"]],\"sequentialminus\":[[0.0,\"#0d0887\"],[0.1111111111111111,\"#46039f\"],[0.2222222222222222,\"#7201a8\"],[0.3333333333333333,\"#9c179e\"],[0.4444444444444444,\"#bd3786\"],[0.5555555555555556,\"#d8576b\"],[0.6666666666666666,\"#ed7953\"],[0.7777777777777778,\"#fb9f3a\"],[0.8888888888888888,\"#fdca26\"],[1.0,\"#f0f921\"]],\"diverging\":[[0,\"#8e0152\"],[0.1,\"#c51b7d\"],[0.2,\"#de77ae\"],[0.3,\"#f1b6da\"],[0.4,\"#fde0ef\"],[0.5,\"#f7f7f7\"],[0.6,\"#e6f5d0\"],[0.7,\"#b8e186\"],[0.8,\"#7fbc41\"],[0.9,\"#4d9221\"],[1,\"#276419\"]]},\"xaxis\":{\"gridcolor\":\"white\",\"linecolor\":\"white\",\"ticks\":\"\",\"title\":{\"standoff\":15},\"zerolinecolor\":\"white\",\"automargin\":true,\"zerolinewidth\":2},\"yaxis\":{\"gridcolor\":\"white\",\"linecolor\":\"white\",\"ticks\":\"\",\"title\":{\"standoff\":15},\"zerolinecolor\":\"white\",\"automargin\":true,\"zerolinewidth\":2},\"scene\":{\"xaxis\":{\"backgroundcolor\":\"#E5ECF6\",\"gridcolor\":\"white\",\"linecolor\":\"white\",\"showbackground\":true,\"ticks\":\"\",\"zerolinecolor\":\"white\",\"gridwidth\":2},\"yaxis\":{\"backgroundcolor\":\"#E5ECF6\",\"gridcolor\":\"white\",\"linecolor\":\"white\",\"showbackground\":true,\"ticks\":\"\",\"zerolinecolor\":\"white\",\"gridwidth\":2},\"zaxis\":{\"backgroundcolor\":\"#E5ECF6\",\"gridcolor\":\"white\",\"linecolor\":\"white\",\"showbackground\":true,\"ticks\":\"\",\"zerolinecolor\":\"white\",\"gridwidth\":2}},\"shapedefaults\":{\"line\":{\"color\":\"#2a3f5f\"}},\"annotationdefaults\":{\"arrowcolor\":\"#2a3f5f\",\"arrowhead\":0,\"arrowwidth\":1},\"geo\":{\"bgcolor\":\"white\",\"landcolor\":\"#E5ECF6\",\"subunitcolor\":\"white\",\"showland\":true,\"showlakes\":true,\"lakecolor\":\"white\"},\"title\":{\"x\":0.05},\"mapbox\":{\"style\":\"light\"}}},\"xaxis\":{\"anchor\":\"y\",\"domain\":[0.0,0.94],\"title\":{\"text\":\"State\"},\"showline\":true,\"linewidth\":1,\"linecolor\":\"black\"},\"yaxis\":{\"anchor\":\"x\",\"domain\":[0.0,1.0],\"title\":{\"text\":\"Frequency\"},\"showline\":true,\"linewidth\":1,\"linecolor\":\"black\",\"showgrid\":true,\"gridwidth\":1,\"gridcolor\":\"lightgray\"},\"yaxis2\":{\"anchor\":\"x\",\"overlaying\":\"y\",\"side\":\"right\",\"title\":{\"text\":\"Average Prediction\"},\"showline\":true,\"linewidth\":1,\"linecolor\":\"black\",\"showgrid\":true,\"gridwidth\":1,\"gridcolor\":\"lightgray\",\"tickformat\":\",.0%\"},\"hoverlabel\":{\"font\":{\"size\":16,\"family\":\"Rockwell\"},\"bgcolor\":\"white\",\"namelength\":-1},\"legend\":{\"title\":{\"text\":\"\"}},\"height\":600,\"plot_bgcolor\":\"rgba(0,0,0,0)\",\"showlegend\":true},                        {\"responsive\": true}                    ).then(function(){\n",
       "                            \n",
       "var gd = document.getElementById('7cac5193-3631-4aa6-aed3-f51f1c288a0b');\n",
       "var x = new MutationObserver(function (mutations, observer) {{\n",
       "        var display = window.getComputedStyle(gd).display;\n",
       "        if (!display || display === 'none') {{\n",
       "            console.log([gd, 'removed!']);\n",
       "            Plotly.purge(gd);\n",
       "            observer.disconnect();\n",
       "        }}\n",
       "}});\n",
       "\n",
       "// Listen for the removal of the full notebook cells\n",
       "var notebookContainer = gd.closest('#notebook-container');\n",
       "if (notebookContainer) {{\n",
       "    x.observe(notebookContainer, {childList: true});\n",
       "}}\n",
       "\n",
       "// Listen for the clearing of the current output cell\n",
       "var outputEl = gd.closest('.output');\n",
       "if (outputEl) {{\n",
       "    x.observe(outputEl, {childList: true});\n",
       "}}\n",
       "\n",
       "                        })                };                });            </script>        </div>"
      ]
     },
     "metadata": {},
     "output_type": "display_data"
    }
   ],
   "source": [
    "plot_histogram(\n",
    "    preds2,\n",
    "    project.id,\n",
    "    feature='State',\n",
    "    bins=12,\n",
    "    cutoff=0.1,\n",
    "    split_by_predicted_class=True,\n",
    "    showlegend=True,\n",
    "    height=600,\n",
    ")"
   ]
  },
  {
   "cell_type": "code",
   "execution_count": 845,
   "id": "697c2bf8",
   "metadata": {},
   "outputs": [
    {
     "data": {
      "application/vnd.plotly.v1+json": {
       "config": {
        "plotlyServerURL": "https://plot.ly"
       },
       "data": [
        {
         "marker": {
          "color": "Black",
          "size": 6
         },
         "mode": "lines+markers",
         "name": "Average Prediction",
         "type": "scatter",
         "x": [
          "2021-05-01T00:00:00",
          "2021-06-01T00:00:00",
          "2021-07-01T00:00:00",
          "2021-08-01T00:00:00",
          "2021-09-01T00:00:00",
          "2021-10-01T00:00:00",
          "2021-11-01T00:00:00",
          "2021-12-01T00:00:00",
          "2022-01-01T00:00:00",
          "2022-02-01T00:00:00",
          "2022-03-01T00:00:00",
          "2022-04-01T00:00:00",
          "2022-05-01T00:00:00",
          "2022-06-01T00:00:00",
          "2022-07-01T00:00:00",
          "2022-08-01T00:00:00",
          "2022-09-01T00:00:00",
          "2022-10-01T00:00:00"
         ],
         "xaxis": "x",
         "y": [
          0.18858022554507772,
          0.17546287454025158,
          0.20485763658713235,
          0.1427804466144385,
          0.18114284284391144,
          0.21681599928190043,
          0.12907355653923447,
          0.27287926041129706,
          0.22003309939488372,
          0.23768946936282723,
          0.25083011089114393,
          0.21592742004784174,
          0.20597253346485148,
          0.3010805458328829,
          0.20496319687198275,
          0.22418322608093524,
          0.20586202484900665,
          0.18565618053333333
         ],
         "yaxis": "y2"
        },
        {
         "customdata": [
          [
           24,
           -2.9295842671999996,
           "Contract_Duration"
          ],
          [
           12,
           0.2516721209,
           "Contract_Duration"
          ],
          [
           18,
           -2.1773908583,
           "Contract_Duration"
          ],
          [
           12,
           3.7299711239,
           "Contract_Duration"
          ],
          [
           12,
           0.16366363630000008,
           "Contract_Duration"
          ],
          [
           24,
           -6.4747553594,
           "Contract_Duration"
          ],
          [
           12,
           2.1872653404999998,
           "Contract_Duration"
          ],
          [
           24,
           -4.5904235029,
           "Contract_Duration"
          ],
          [
           12,
           -0.7120198676999998,
           "Contract_Duration"
          ],
          [
           24,
           -2.4531493921000003,
           "Contract_Duration"
          ],
          [
           24,
           -5.1453169887,
           "Contract_Duration"
          ],
          [
           24,
           -4.012912136,
           "Contract_Duration"
          ],
          [
           12,
           1.1136867940000001,
           "Contract_Duration"
          ],
          [
           12,
           1.1681245953,
           "Contract_Duration"
          ],
          [
           12,
           -0.12195662619999992,
           "Contract_Duration"
          ],
          [
           12,
           2.7820888206,
           "Contract_Duration"
          ],
          [
           24,
           -2.3785335925999997,
           "Contract_Duration"
          ],
          [
           24,
           -4.7807129139999995,
           "Contract_Duration"
          ]
         ],
         "hoverlabel": {
          "align": "left",
          "bgcolor": "white",
          "font": {
           "family": "Rockwell",
           "size": 16
          }
         },
         "hovertemplate": "<br>Period</b>: %{x}<br>Feature</b>: %{customdata[2]}<br>Strength</b>: %{y: .2}<br>Median Value</b>: %{customdata[0]: .3}<extra></extra>",
         "marker": {
          "color": "#636EFA"
         },
         "name": "Contract_Duration",
         "opacity": 0.5,
         "type": "bar",
         "x": [
          "2021-05-01T00:00:00",
          "2021-06-01T00:00:00",
          "2021-07-01T00:00:00",
          "2021-08-01T00:00:00",
          "2021-09-01T00:00:00",
          "2021-10-01T00:00:00",
          "2021-11-01T00:00:00",
          "2021-12-01T00:00:00",
          "2022-01-01T00:00:00",
          "2022-02-01T00:00:00",
          "2022-03-01T00:00:00",
          "2022-04-01T00:00:00",
          "2022-05-01T00:00:00",
          "2022-06-01T00:00:00",
          "2022-07-01T00:00:00",
          "2022-08-01T00:00:00",
          "2022-09-01T00:00:00",
          "2022-10-01T00:00:00"
         ],
         "y": [
          -0.07145327480975609,
          0.007402121202941177,
          -0.0388819796125,
          0.09564028522820513,
          0.002922564933928573,
          -0.13776075232765955,
          0.04860589645555555,
          -0.09180847005800001,
          -0.01582266372666666,
          -0.05983291200243903,
          -0.0918806605125,
          -0.06918814027586206,
          0.025899692883720935,
          0.024335929068749998,
          -0.0025407630458333316,
          0.04796704863103448,
          -0.03659282450153846,
          -0.10392854160869565
         ]
        },
        {
         "customdata": [
          [
           2.5,
           0.035547777700000074,
           "Product_Usage (1 month count)"
          ],
          [
           4,
           -5.5165708395,
           "Product_Usage (1 month count)"
          ],
          [
           3,
           -6.0484147905,
           "Product_Usage (1 month count)"
          ],
          [
           4,
           -6.2075269122000005,
           "Product_Usage (1 month count)"
          ],
          [
           4,
           -9.9723746339,
           "Product_Usage (1 month count)"
          ],
          [
           3,
           -1.0231799812,
           "Product_Usage (1 month count)"
          ],
          [
           4,
           -10.5863922831,
           "Product_Usage (1 month count)"
          ],
          [
           2,
           -0.9785933235999997,
           "Product_Usage (1 month count)"
          ],
          [
           2,
           -3.6036969723000003,
           "Product_Usage (1 month count)"
          ],
          [
           4,
           -8.116322299,
           "Product_Usage (1 month count)"
          ],
          [
           2,
           3.3172163683,
           "Product_Usage (1 month count)"
          ],
          [
           2,
           -7.7403944888,
           "Product_Usage (1 month count)"
          ],
          [
           3,
           -9.502312931799999,
           "Product_Usage (1 month count)"
          ],
          [
           1,
           5.8936549569,
           "Product_Usage (1 month count)"
          ],
          [
           2,
           0.7346600051999996,
           "Product_Usage (1 month count)"
          ],
          [
           3,
           -12.3786232445,
           "Product_Usage (1 month count)"
          ],
          [
           2,
           -1.9289129280999995,
           "Product_Usage (1 month count)"
          ],
          [
           2,
           -7.9612887509000005,
           "Product_Usage (1 month count)"
          ]
         ],
         "hoverlabel": {
          "align": "left",
          "bgcolor": "white",
          "font": {
           "family": "Rockwell",
           "size": 16
          }
         },
         "hovertemplate": "<br>Period</b>: %{x}<br>Feature</b>: %{customdata[2]}<br>Strength</b>: %{y: .2}<br>Median Value</b>: %{customdata[0]: .3}<extra></extra>",
         "marker": {
          "color": "#EF553B"
         },
         "name": "Product_Usage (1 month count)",
         "opacity": 0.5,
         "type": "bar",
         "x": [
          "2021-05-01T00:00:00",
          "2021-06-01T00:00:00",
          "2021-07-01T00:00:00",
          "2021-08-01T00:00:00",
          "2021-09-01T00:00:00",
          "2021-10-01T00:00:00",
          "2021-11-01T00:00:00",
          "2021-12-01T00:00:00",
          "2022-01-01T00:00:00",
          "2022-02-01T00:00:00",
          "2022-03-01T00:00:00",
          "2022-04-01T00:00:00",
          "2022-05-01T00:00:00",
          "2022-06-01T00:00:00",
          "2022-07-01T00:00:00",
          "2022-08-01T00:00:00",
          "2022-09-01T00:00:00",
          "2022-10-01T00:00:00"
         ],
         "y": [
          0.0008670189682926847,
          -0.16225208351470588,
          -0.10800740697321429,
          -0.15916735672307694,
          -0.1780781184625,
          -0.021769786834042553,
          -0.23525316184666667,
          -0.019571866471999995,
          -0.08008215494000001,
          -0.19795908046341465,
          0.05923600657678572,
          -0.13345507739310344,
          -0.2209840216697674,
          0.12278447826875,
          0.015305416774999992,
          -0.21342453869827585,
          -0.02967558350923076,
          -0.17307149458478263
         ]
        },
        {
         "customdata": [
          [
           3,
           -0.32298165990000044,
           "Product_Usage[Activity_Type] (1 month unique count)"
          ],
          [
           4,
           -4.254578441200001,
           "Product_Usage[Activity_Type] (1 month unique count)"
          ],
          [
           3,
           -2.8345556752000007,
           "Product_Usage[Activity_Type] (1 month unique count)"
          ],
          [
           3,
           -5.2784225157,
           "Product_Usage[Activity_Type] (1 month unique count)"
          ],
          [
           3,
           -7.6564116628,
           "Product_Usage[Activity_Type] (1 month unique count)"
          ],
          [
           3,
           -0.8454262327000004,
           "Product_Usage[Activity_Type] (1 month unique count)"
          ],
          [
           4,
           -7.305065750100001,
           "Product_Usage[Activity_Type] (1 month unique count)"
          ],
          [
           2,
           2.701885912299999,
           "Product_Usage[Activity_Type] (1 month unique count)"
          ],
          [
           2,
           1.5655015851999996,
           "Product_Usage[Activity_Type] (1 month unique count)"
          ],
          [
           4,
           -4.680951359300001,
           "Product_Usage[Activity_Type] (1 month unique count)"
          ],
          [
           2,
           8.5430108528,
           "Product_Usage[Activity_Type] (1 month unique count)"
          ],
          [
           2.5,
           -2.391713861200001,
           "Product_Usage[Activity_Type] (1 month unique count)"
          ],
          [
           3,
           -2.0778813019000006,
           "Product_Usage[Activity_Type] (1 month unique count)"
          ],
          [
           1,
           10.9374693354,
           "Product_Usage[Activity_Type] (1 month unique count)"
          ],
          [
           2,
           3.8593143979999995,
           "Product_Usage[Activity_Type] (1 month unique count)"
          ],
          [
           3,
           -5.8054410683,
           "Product_Usage[Activity_Type] (1 month unique count)"
          ],
          [
           2,
           4.452210784499999,
           "Product_Usage[Activity_Type] (1 month unique count)"
          ],
          [
           2,
           0.4080733279999995,
           "Product_Usage[Activity_Type] (1 month unique count)"
          ]
         ],
         "hoverlabel": {
          "align": "left",
          "bgcolor": "white",
          "font": {
           "family": "Rockwell",
           "size": 16
          }
         },
         "hovertemplate": "<br>Period</b>: %{x}<br>Feature</b>: %{customdata[2]}<br>Strength</b>: %{y: .2}<br>Median Value</b>: %{customdata[0]: .3}<extra></extra>",
         "marker": {
          "color": "#00CC96"
         },
         "name": "Product_Usage[Activity_Type] (1 month unique count)",
         "opacity": 0.5,
         "type": "bar",
         "x": [
          "2021-05-01T00:00:00",
          "2021-06-01T00:00:00",
          "2021-07-01T00:00:00",
          "2021-08-01T00:00:00",
          "2021-09-01T00:00:00",
          "2021-10-01T00:00:00",
          "2021-11-01T00:00:00",
          "2021-12-01T00:00:00",
          "2022-01-01T00:00:00",
          "2022-02-01T00:00:00",
          "2022-03-01T00:00:00",
          "2022-04-01T00:00:00",
          "2022-05-01T00:00:00",
          "2022-06-01T00:00:00",
          "2022-07-01T00:00:00",
          "2022-08-01T00:00:00",
          "2022-09-01T00:00:00",
          "2022-10-01T00:00:00"
         ],
         "y": [
          -0.00787760146097562,
          -0.12513466003529417,
          -0.05061706562857144,
          -0.13534416706923078,
          -0.13672163683571428,
          -0.01798779218510639,
          -0.16233479444666668,
          0.05403771824599998,
          0.03478892411555555,
          -0.1141695453487805,
          0.15255376522857142,
          -0.041236445882758634,
          -0.04832282097441862,
          0.2278639444875,
          0.08040238329166666,
          -0.1000938115224138,
          0.06849555053076922,
          0.008871159304347816
         ]
        },
        {
         "customdata": [
          [
           3,
           -0.6090975579999995,
           "Product_Usage[UserID] (1 month unique count)"
          ],
          [
           3,
           -1.7603348263999998,
           "Product_Usage[UserID] (1 month unique count)"
          ],
          [
           3,
           -1.9950005787000005,
           "Product_Usage[UserID] (1 month unique count)"
          ],
          [
           4,
           -5.261865458,
           "Product_Usage[UserID] (1 month unique count)"
          ],
          [
           3,
           -6.040885855100001,
           "Product_Usage[UserID] (1 month unique count)"
          ],
          [
           2.5,
           -0.45388411110000093,
           "Product_Usage[UserID] (1 month unique count)"
          ],
          [
           4,
           -9.5725731452,
           "Product_Usage[UserID] (1 month unique count)"
          ],
          [
           2,
           3.4206015382999997,
           "Product_Usage[UserID] (1 month unique count)"
          ],
          [
           2,
           1.6624817739999995,
           "Product_Usage[UserID] (1 month unique count)"
          ],
          [
           3,
           -3.0211810418,
           "Product_Usage[UserID] (1 month unique count)"
          ],
          [
           2,
           4.8830038794,
           "Product_Usage[UserID] (1 month unique count)"
          ],
          [
           3,
           -3.193318671500001,
           "Product_Usage[UserID] (1 month unique count)"
          ],
          [
           3,
           -3.3168986246000003,
           "Product_Usage[UserID] (1 month unique count)"
          ],
          [
           1,
           10.2677111443,
           "Product_Usage[UserID] (1 month unique count)"
          ],
          [
           2,
           3.8097426395999996,
           "Product_Usage[UserID] (1 month unique count)"
          ],
          [
           3,
           -3.5979069433,
           "Product_Usage[UserID] (1 month unique count)"
          ],
          [
           3,
           3.8244518397,
           "Product_Usage[UserID] (1 month unique count)"
          ],
          [
           2,
           2.3782354229999996,
           "Product_Usage[UserID] (1 month unique count)"
          ]
         ],
         "hoverlabel": {
          "align": "left",
          "bgcolor": "white",
          "font": {
           "family": "Rockwell",
           "size": 16
          }
         },
         "hovertemplate": "<br>Period</b>: %{x}<br>Feature</b>: %{customdata[2]}<br>Strength</b>: %{y: .2}<br>Median Value</b>: %{customdata[0]: .3}<extra></extra>",
         "marker": {
          "color": "#AB63FA"
         },
         "name": "Product_Usage[UserID] (1 month unique count)",
         "opacity": 0.5,
         "type": "bar",
         "x": [
          "2021-05-01T00:00:00",
          "2021-06-01T00:00:00",
          "2021-07-01T00:00:00",
          "2021-08-01T00:00:00",
          "2021-09-01T00:00:00",
          "2021-10-01T00:00:00",
          "2021-11-01T00:00:00",
          "2021-12-01T00:00:00",
          "2022-01-01T00:00:00",
          "2022-02-01T00:00:00",
          "2022-03-01T00:00:00",
          "2022-04-01T00:00:00",
          "2022-05-01T00:00:00",
          "2022-06-01T00:00:00",
          "2022-07-01T00:00:00",
          "2022-08-01T00:00:00",
          "2022-09-01T00:00:00",
          "2022-10-01T00:00:00"
         ],
         "y": [
          -0.014856037999999988,
          -0.051774553717647054,
          -0.03562501033392858,
          -0.13491962712820513,
          -0.1078729616982143,
          -0.009657108746808531,
          -0.2127238476711111,
          0.068412030766,
          0.036944039422222213,
          -0.07368734248292683,
          0.08719649784642858,
          -0.05505721847413795,
          -0.07713717731627907,
          0.21391064883958333,
          0.07936963832499999,
          -0.06203287833275862,
          0.05883772061076923,
          0.05170077006521738
         ]
        },
        {
         "customdata": [
          [
           10,
           -1.3559679001999998,
           "Product_Usage[UserID] (180 days unique count)"
          ],
          [
           8,
           2.389997831,
           "Product_Usage[UserID] (180 days unique count)"
          ],
          [
           8,
           5.8358894582000005,
           "Product_Usage[UserID] (180 days unique count)"
          ],
          [
           10,
           -2.1071659944,
           "Product_Usage[UserID] (180 days unique count)"
          ],
          [
           8,
           0.6053682925999999,
           "Product_Usage[UserID] (180 days unique count)"
          ],
          [
           8,
           3.2680313968,
           "Product_Usage[UserID] (180 days unique count)"
          ],
          [
           11,
           -4.0493562687,
           "Product_Usage[UserID] (180 days unique count)"
          ],
          [
           7,
           7.3540582851,
           "Product_Usage[UserID] (180 days unique count)"
          ],
          [
           7,
           4.855331383,
           "Product_Usage[UserID] (180 days unique count)"
          ],
          [
           8,
           2.2992618068,
           "Product_Usage[UserID] (180 days unique count)"
          ],
          [
           7,
           4.293742857,
           "Product_Usage[UserID] (180 days unique count)"
          ],
          [
           7,
           4.3219708603,
           "Product_Usage[UserID] (180 days unique count)"
          ],
          [
           8,
           -0.1649189898000002,
           "Product_Usage[UserID] (180 days unique count)"
          ],
          [
           7,
           9.1865191829,
           "Product_Usage[UserID] (180 days unique count)"
          ],
          [
           7,
           6.0187908169,
           "Product_Usage[UserID] (180 days unique count)"
          ],
          [
           8,
           4.8448481836,
           "Product_Usage[UserID] (180 days unique count)"
          ],
          [
           7,
           8.0938297819,
           "Product_Usage[UserID] (180 days unique count)"
          ],
          [
           7.5,
           5.4050640935,
           "Product_Usage[UserID] (180 days unique count)"
          ]
         ],
         "hoverlabel": {
          "align": "left",
          "bgcolor": "white",
          "font": {
           "family": "Rockwell",
           "size": 16
          }
         },
         "hovertemplate": "<br>Period</b>: %{x}<br>Feature</b>: %{customdata[2]}<br>Strength</b>: %{y: .2}<br>Median Value</b>: %{customdata[0]: .3}<extra></extra>",
         "marker": {
          "color": "#FFA15A"
         },
         "name": "Product_Usage[UserID] (180 days unique count)",
         "opacity": 0.5,
         "type": "bar",
         "x": [
          "2021-05-01T00:00:00",
          "2021-06-01T00:00:00",
          "2021-07-01T00:00:00",
          "2021-08-01T00:00:00",
          "2021-09-01T00:00:00",
          "2021-10-01T00:00:00",
          "2021-11-01T00:00:00",
          "2021-12-01T00:00:00",
          "2022-01-01T00:00:00",
          "2022-02-01T00:00:00",
          "2022-03-01T00:00:00",
          "2022-04-01T00:00:00",
          "2022-05-01T00:00:00",
          "2022-06-01T00:00:00",
          "2022-07-01T00:00:00",
          "2022-08-01T00:00:00",
          "2022-09-01T00:00:00",
          "2022-10-01T00:00:00"
         ],
         "y": [
          -0.03307238780975609,
          0.07029405385294119,
          0.10421231175357144,
          -0.054029897292307685,
          0.010810148082142855,
          0.0695325829106383,
          -0.08998569486,
          0.147081165702,
          0.10789625295555556,
          0.05607955626341464,
          0.0766739795892857,
          0.07451673897068967,
          -0.003835325344186051,
          0.19138581631041665,
          0.12539147535208334,
          0.08353186523448276,
          0.12452045818307693,
          0.11750139333695653
         ]
        }
       ],
       "layout": {
        "barmode": "relative",
        "height": 600,
        "hoverlabel": {
         "bgcolor": "white",
         "font": {
          "family": "Rockwell",
          "size": 16
         },
         "namelength": -1
        },
        "legend": {
         "x": 1.1,
         "xanchor": "left",
         "y": 1,
         "yanchor": "top"
        },
        "plot_bgcolor": "rgba(0,0,0,0)",
        "showlegend": false,
        "template": {
         "data": {
          "bar": [
           {
            "error_x": {
             "color": "#2a3f5f"
            },
            "error_y": {
             "color": "#2a3f5f"
            },
            "marker": {
             "line": {
              "color": "#E5ECF6",
              "width": 0.5
             },
             "pattern": {
              "fillmode": "overlay",
              "size": 10,
              "solidity": 0.2
             }
            },
            "type": "bar"
           }
          ],
          "barpolar": [
           {
            "marker": {
             "line": {
              "color": "#E5ECF6",
              "width": 0.5
             },
             "pattern": {
              "fillmode": "overlay",
              "size": 10,
              "solidity": 0.2
             }
            },
            "type": "barpolar"
           }
          ],
          "carpet": [
           {
            "aaxis": {
             "endlinecolor": "#2a3f5f",
             "gridcolor": "white",
             "linecolor": "white",
             "minorgridcolor": "white",
             "startlinecolor": "#2a3f5f"
            },
            "baxis": {
             "endlinecolor": "#2a3f5f",
             "gridcolor": "white",
             "linecolor": "white",
             "minorgridcolor": "white",
             "startlinecolor": "#2a3f5f"
            },
            "type": "carpet"
           }
          ],
          "choropleth": [
           {
            "colorbar": {
             "outlinewidth": 0,
             "ticks": ""
            },
            "type": "choropleth"
           }
          ],
          "contour": [
           {
            "colorbar": {
             "outlinewidth": 0,
             "ticks": ""
            },
            "colorscale": [
             [
              0,
              "#0d0887"
             ],
             [
              0.1111111111111111,
              "#46039f"
             ],
             [
              0.2222222222222222,
              "#7201a8"
             ],
             [
              0.3333333333333333,
              "#9c179e"
             ],
             [
              0.4444444444444444,
              "#bd3786"
             ],
             [
              0.5555555555555556,
              "#d8576b"
             ],
             [
              0.6666666666666666,
              "#ed7953"
             ],
             [
              0.7777777777777778,
              "#fb9f3a"
             ],
             [
              0.8888888888888888,
              "#fdca26"
             ],
             [
              1,
              "#f0f921"
             ]
            ],
            "type": "contour"
           }
          ],
          "contourcarpet": [
           {
            "colorbar": {
             "outlinewidth": 0,
             "ticks": ""
            },
            "type": "contourcarpet"
           }
          ],
          "heatmap": [
           {
            "colorbar": {
             "outlinewidth": 0,
             "ticks": ""
            },
            "colorscale": [
             [
              0,
              "#0d0887"
             ],
             [
              0.1111111111111111,
              "#46039f"
             ],
             [
              0.2222222222222222,
              "#7201a8"
             ],
             [
              0.3333333333333333,
              "#9c179e"
             ],
             [
              0.4444444444444444,
              "#bd3786"
             ],
             [
              0.5555555555555556,
              "#d8576b"
             ],
             [
              0.6666666666666666,
              "#ed7953"
             ],
             [
              0.7777777777777778,
              "#fb9f3a"
             ],
             [
              0.8888888888888888,
              "#fdca26"
             ],
             [
              1,
              "#f0f921"
             ]
            ],
            "type": "heatmap"
           }
          ],
          "heatmapgl": [
           {
            "colorbar": {
             "outlinewidth": 0,
             "ticks": ""
            },
            "colorscale": [
             [
              0,
              "#0d0887"
             ],
             [
              0.1111111111111111,
              "#46039f"
             ],
             [
              0.2222222222222222,
              "#7201a8"
             ],
             [
              0.3333333333333333,
              "#9c179e"
             ],
             [
              0.4444444444444444,
              "#bd3786"
             ],
             [
              0.5555555555555556,
              "#d8576b"
             ],
             [
              0.6666666666666666,
              "#ed7953"
             ],
             [
              0.7777777777777778,
              "#fb9f3a"
             ],
             [
              0.8888888888888888,
              "#fdca26"
             ],
             [
              1,
              "#f0f921"
             ]
            ],
            "type": "heatmapgl"
           }
          ],
          "histogram": [
           {
            "marker": {
             "pattern": {
              "fillmode": "overlay",
              "size": 10,
              "solidity": 0.2
             }
            },
            "type": "histogram"
           }
          ],
          "histogram2d": [
           {
            "colorbar": {
             "outlinewidth": 0,
             "ticks": ""
            },
            "colorscale": [
             [
              0,
              "#0d0887"
             ],
             [
              0.1111111111111111,
              "#46039f"
             ],
             [
              0.2222222222222222,
              "#7201a8"
             ],
             [
              0.3333333333333333,
              "#9c179e"
             ],
             [
              0.4444444444444444,
              "#bd3786"
             ],
             [
              0.5555555555555556,
              "#d8576b"
             ],
             [
              0.6666666666666666,
              "#ed7953"
             ],
             [
              0.7777777777777778,
              "#fb9f3a"
             ],
             [
              0.8888888888888888,
              "#fdca26"
             ],
             [
              1,
              "#f0f921"
             ]
            ],
            "type": "histogram2d"
           }
          ],
          "histogram2dcontour": [
           {
            "colorbar": {
             "outlinewidth": 0,
             "ticks": ""
            },
            "colorscale": [
             [
              0,
              "#0d0887"
             ],
             [
              0.1111111111111111,
              "#46039f"
             ],
             [
              0.2222222222222222,
              "#7201a8"
             ],
             [
              0.3333333333333333,
              "#9c179e"
             ],
             [
              0.4444444444444444,
              "#bd3786"
             ],
             [
              0.5555555555555556,
              "#d8576b"
             ],
             [
              0.6666666666666666,
              "#ed7953"
             ],
             [
              0.7777777777777778,
              "#fb9f3a"
             ],
             [
              0.8888888888888888,
              "#fdca26"
             ],
             [
              1,
              "#f0f921"
             ]
            ],
            "type": "histogram2dcontour"
           }
          ],
          "mesh3d": [
           {
            "colorbar": {
             "outlinewidth": 0,
             "ticks": ""
            },
            "type": "mesh3d"
           }
          ],
          "parcoords": [
           {
            "line": {
             "colorbar": {
              "outlinewidth": 0,
              "ticks": ""
             }
            },
            "type": "parcoords"
           }
          ],
          "pie": [
           {
            "automargin": true,
            "type": "pie"
           }
          ],
          "scatter": [
           {
            "fillpattern": {
             "fillmode": "overlay",
             "size": 10,
             "solidity": 0.2
            },
            "type": "scatter"
           }
          ],
          "scatter3d": [
           {
            "line": {
             "colorbar": {
              "outlinewidth": 0,
              "ticks": ""
             }
            },
            "marker": {
             "colorbar": {
              "outlinewidth": 0,
              "ticks": ""
             }
            },
            "type": "scatter3d"
           }
          ],
          "scattercarpet": [
           {
            "marker": {
             "colorbar": {
              "outlinewidth": 0,
              "ticks": ""
             }
            },
            "type": "scattercarpet"
           }
          ],
          "scattergeo": [
           {
            "marker": {
             "colorbar": {
              "outlinewidth": 0,
              "ticks": ""
             }
            },
            "type": "scattergeo"
           }
          ],
          "scattergl": [
           {
            "marker": {
             "colorbar": {
              "outlinewidth": 0,
              "ticks": ""
             }
            },
            "type": "scattergl"
           }
          ],
          "scattermapbox": [
           {
            "marker": {
             "colorbar": {
              "outlinewidth": 0,
              "ticks": ""
             }
            },
            "type": "scattermapbox"
           }
          ],
          "scatterpolar": [
           {
            "marker": {
             "colorbar": {
              "outlinewidth": 0,
              "ticks": ""
             }
            },
            "type": "scatterpolar"
           }
          ],
          "scatterpolargl": [
           {
            "marker": {
             "colorbar": {
              "outlinewidth": 0,
              "ticks": ""
             }
            },
            "type": "scatterpolargl"
           }
          ],
          "scatterternary": [
           {
            "marker": {
             "colorbar": {
              "outlinewidth": 0,
              "ticks": ""
             }
            },
            "type": "scatterternary"
           }
          ],
          "surface": [
           {
            "colorbar": {
             "outlinewidth": 0,
             "ticks": ""
            },
            "colorscale": [
             [
              0,
              "#0d0887"
             ],
             [
              0.1111111111111111,
              "#46039f"
             ],
             [
              0.2222222222222222,
              "#7201a8"
             ],
             [
              0.3333333333333333,
              "#9c179e"
             ],
             [
              0.4444444444444444,
              "#bd3786"
             ],
             [
              0.5555555555555556,
              "#d8576b"
             ],
             [
              0.6666666666666666,
              "#ed7953"
             ],
             [
              0.7777777777777778,
              "#fb9f3a"
             ],
             [
              0.8888888888888888,
              "#fdca26"
             ],
             [
              1,
              "#f0f921"
             ]
            ],
            "type": "surface"
           }
          ],
          "table": [
           {
            "cells": {
             "fill": {
              "color": "#EBF0F8"
             },
             "line": {
              "color": "white"
             }
            },
            "header": {
             "fill": {
              "color": "#C8D4E3"
             },
             "line": {
              "color": "white"
             }
            },
            "type": "table"
           }
          ]
         },
         "layout": {
          "annotationdefaults": {
           "arrowcolor": "#2a3f5f",
           "arrowhead": 0,
           "arrowwidth": 1
          },
          "autotypenumbers": "strict",
          "coloraxis": {
           "colorbar": {
            "outlinewidth": 0,
            "ticks": ""
           }
          },
          "colorscale": {
           "diverging": [
            [
             0,
             "#8e0152"
            ],
            [
             0.1,
             "#c51b7d"
            ],
            [
             0.2,
             "#de77ae"
            ],
            [
             0.3,
             "#f1b6da"
            ],
            [
             0.4,
             "#fde0ef"
            ],
            [
             0.5,
             "#f7f7f7"
            ],
            [
             0.6,
             "#e6f5d0"
            ],
            [
             0.7,
             "#b8e186"
            ],
            [
             0.8,
             "#7fbc41"
            ],
            [
             0.9,
             "#4d9221"
            ],
            [
             1,
             "#276419"
            ]
           ],
           "sequential": [
            [
             0,
             "#0d0887"
            ],
            [
             0.1111111111111111,
             "#46039f"
            ],
            [
             0.2222222222222222,
             "#7201a8"
            ],
            [
             0.3333333333333333,
             "#9c179e"
            ],
            [
             0.4444444444444444,
             "#bd3786"
            ],
            [
             0.5555555555555556,
             "#d8576b"
            ],
            [
             0.6666666666666666,
             "#ed7953"
            ],
            [
             0.7777777777777778,
             "#fb9f3a"
            ],
            [
             0.8888888888888888,
             "#fdca26"
            ],
            [
             1,
             "#f0f921"
            ]
           ],
           "sequentialminus": [
            [
             0,
             "#0d0887"
            ],
            [
             0.1111111111111111,
             "#46039f"
            ],
            [
             0.2222222222222222,
             "#7201a8"
            ],
            [
             0.3333333333333333,
             "#9c179e"
            ],
            [
             0.4444444444444444,
             "#bd3786"
            ],
            [
             0.5555555555555556,
             "#d8576b"
            ],
            [
             0.6666666666666666,
             "#ed7953"
            ],
            [
             0.7777777777777778,
             "#fb9f3a"
            ],
            [
             0.8888888888888888,
             "#fdca26"
            ],
            [
             1,
             "#f0f921"
            ]
           ]
          },
          "colorway": [
           "#636efa",
           "#EF553B",
           "#00cc96",
           "#ab63fa",
           "#FFA15A",
           "#19d3f3",
           "#FF6692",
           "#B6E880",
           "#FF97FF",
           "#FECB52"
          ],
          "font": {
           "color": "#2a3f5f"
          },
          "geo": {
           "bgcolor": "white",
           "lakecolor": "white",
           "landcolor": "#E5ECF6",
           "showlakes": true,
           "showland": true,
           "subunitcolor": "white"
          },
          "hoverlabel": {
           "align": "left"
          },
          "hovermode": "closest",
          "mapbox": {
           "style": "light"
          },
          "paper_bgcolor": "white",
          "plot_bgcolor": "#E5ECF6",
          "polar": {
           "angularaxis": {
            "gridcolor": "white",
            "linecolor": "white",
            "ticks": ""
           },
           "bgcolor": "#E5ECF6",
           "radialaxis": {
            "gridcolor": "white",
            "linecolor": "white",
            "ticks": ""
           }
          },
          "scene": {
           "xaxis": {
            "backgroundcolor": "#E5ECF6",
            "gridcolor": "white",
            "gridwidth": 2,
            "linecolor": "white",
            "showbackground": true,
            "ticks": "",
            "zerolinecolor": "white"
           },
           "yaxis": {
            "backgroundcolor": "#E5ECF6",
            "gridcolor": "white",
            "gridwidth": 2,
            "linecolor": "white",
            "showbackground": true,
            "ticks": "",
            "zerolinecolor": "white"
           },
           "zaxis": {
            "backgroundcolor": "#E5ECF6",
            "gridcolor": "white",
            "gridwidth": 2,
            "linecolor": "white",
            "showbackground": true,
            "ticks": "",
            "zerolinecolor": "white"
           }
          },
          "shapedefaults": {
           "line": {
            "color": "#2a3f5f"
           }
          },
          "ternary": {
           "aaxis": {
            "gridcolor": "white",
            "linecolor": "white",
            "ticks": ""
           },
           "baxis": {
            "gridcolor": "white",
            "linecolor": "white",
            "ticks": ""
           },
           "bgcolor": "#E5ECF6",
           "caxis": {
            "gridcolor": "white",
            "linecolor": "white",
            "ticks": ""
           }
          },
          "title": {
           "x": 0.05
          },
          "xaxis": {
           "automargin": true,
           "gridcolor": "white",
           "linecolor": "white",
           "ticks": "",
           "title": {
            "standoff": 15
           },
           "zerolinecolor": "white",
           "zerolinewidth": 2
          },
          "yaxis": {
           "automargin": true,
           "gridcolor": "white",
           "linecolor": "white",
           "ticks": "",
           "title": {
            "standoff": 15
           },
           "zerolinecolor": "white",
           "zerolinewidth": 2
          }
         }
        },
        "xaxis": {
         "anchor": "y",
         "domain": [
          0,
          0.94
         ],
         "gridcolor": "#7f7f7f",
         "gridwidth": 1,
         "linecolor": "black",
         "linewidth": 1,
         "showgrid": false,
         "showline": true,
         "title": {
          "text": "Date"
         }
        },
        "yaxis": {
         "anchor": "x",
         "domain": [
          0,
          1
         ],
         "gridcolor": "lightgray",
         "gridwidth": 0.1,
         "linecolor": "black",
         "linewidth": 1,
         "showgrid": true,
         "showline": true,
         "title": {
          "text": "Normalized Feature Strength"
         },
         "zeroline": true,
         "zerolinecolor": "black",
         "zerolinewidth": 2
        },
        "yaxis2": {
         "anchor": "x",
         "gridcolor": "lightgray",
         "gridwidth": 0.1,
         "linecolor": "black",
         "linewidth": 1,
         "overlaying": "y",
         "showgrid": true,
         "showline": true,
         "side": "right",
         "tickformat": ",.0%",
         "title": {
          "text": "Average Prediction"
         },
         "zeroline": true,
         "zerolinecolor": "black",
         "zerolinewidth": 2
        }
       }
      },
      "text/html": [
       "<div>                            <div id=\"527f61a2-af82-4bf9-a21d-ee43eeb75475\" class=\"plotly-graph-div\" style=\"height:600px; width:100%;\"></div>            <script type=\"text/javascript\">                require([\"plotly\"], function(Plotly) {                    window.PLOTLYENV=window.PLOTLYENV || {};                                    if (document.getElementById(\"527f61a2-af82-4bf9-a21d-ee43eeb75475\")) {                    Plotly.newPlot(                        \"527f61a2-af82-4bf9-a21d-ee43eeb75475\",                        [{\"marker\":{\"color\":\"Black\",\"size\":6},\"mode\":\"lines+markers\",\"name\":\"Average Prediction\",\"x\":[\"2021-05-01T00:00:00\",\"2021-06-01T00:00:00\",\"2021-07-01T00:00:00\",\"2021-08-01T00:00:00\",\"2021-09-01T00:00:00\",\"2021-10-01T00:00:00\",\"2021-11-01T00:00:00\",\"2021-12-01T00:00:00\",\"2022-01-01T00:00:00\",\"2022-02-01T00:00:00\",\"2022-03-01T00:00:00\",\"2022-04-01T00:00:00\",\"2022-05-01T00:00:00\",\"2022-06-01T00:00:00\",\"2022-07-01T00:00:00\",\"2022-08-01T00:00:00\",\"2022-09-01T00:00:00\",\"2022-10-01T00:00:00\"],\"y\":[0.18858022554507772,0.17546287454025158,0.20485763658713235,0.1427804466144385,0.18114284284391144,0.21681599928190043,0.12907355653923447,0.27287926041129706,0.22003309939488372,0.23768946936282723,0.25083011089114393,0.21592742004784174,0.20597253346485148,0.3010805458328829,0.20496319687198275,0.22418322608093524,0.20586202484900665,0.18565618053333333],\"type\":\"scatter\",\"xaxis\":\"x\",\"yaxis\":\"y2\"},{\"customdata\":[[24.0,-2.9295842671999996,\"Contract_Duration\"],[12.0,0.2516721209,\"Contract_Duration\"],[18.0,-2.1773908583,\"Contract_Duration\"],[12.0,3.7299711239,\"Contract_Duration\"],[12.0,0.16366363630000008,\"Contract_Duration\"],[24.0,-6.4747553594,\"Contract_Duration\"],[12.0,2.1872653404999998,\"Contract_Duration\"],[24.0,-4.5904235029,\"Contract_Duration\"],[12.0,-0.7120198676999998,\"Contract_Duration\"],[24.0,-2.4531493921000003,\"Contract_Duration\"],[24.0,-5.1453169887,\"Contract_Duration\"],[24.0,-4.012912136,\"Contract_Duration\"],[12.0,1.1136867940000001,\"Contract_Duration\"],[12.0,1.1681245953,\"Contract_Duration\"],[12.0,-0.12195662619999992,\"Contract_Duration\"],[12.0,2.7820888206,\"Contract_Duration\"],[24.0,-2.3785335925999997,\"Contract_Duration\"],[24.0,-4.7807129139999995,\"Contract_Duration\"]],\"hoverlabel\":{\"align\":\"left\",\"bgcolor\":\"white\",\"font\":{\"family\":\"Rockwell\",\"size\":16}},\"hovertemplate\":\"<br>Period</b>: %{x}<br>Feature</b>: %{customdata[2]}<br>Strength</b>: %{y: .2}<br>Median Value</b>: %{customdata[0]: .3}<extra></extra>\",\"marker\":{\"color\":\"#636EFA\"},\"name\":\"Contract_Duration\",\"opacity\":0.5,\"x\":[\"2021-05-01T00:00:00\",\"2021-06-01T00:00:00\",\"2021-07-01T00:00:00\",\"2021-08-01T00:00:00\",\"2021-09-01T00:00:00\",\"2021-10-01T00:00:00\",\"2021-11-01T00:00:00\",\"2021-12-01T00:00:00\",\"2022-01-01T00:00:00\",\"2022-02-01T00:00:00\",\"2022-03-01T00:00:00\",\"2022-04-01T00:00:00\",\"2022-05-01T00:00:00\",\"2022-06-01T00:00:00\",\"2022-07-01T00:00:00\",\"2022-08-01T00:00:00\",\"2022-09-01T00:00:00\",\"2022-10-01T00:00:00\"],\"y\":[-0.07145327480975609,0.007402121202941177,-0.0388819796125,0.09564028522820513,0.002922564933928573,-0.13776075232765955,0.04860589645555555,-0.09180847005800001,-0.01582266372666666,-0.05983291200243903,-0.0918806605125,-0.06918814027586206,0.025899692883720935,0.024335929068749998,-0.0025407630458333316,0.04796704863103448,-0.03659282450153846,-0.10392854160869565],\"type\":\"bar\"},{\"customdata\":[[2.5,0.035547777700000074,\"Product_Usage (1 month count)\"],[4.0,-5.5165708395,\"Product_Usage (1 month count)\"],[3.0,-6.0484147905,\"Product_Usage (1 month count)\"],[4.0,-6.2075269122000005,\"Product_Usage (1 month count)\"],[4.0,-9.9723746339,\"Product_Usage (1 month count)\"],[3.0,-1.0231799812,\"Product_Usage (1 month count)\"],[4.0,-10.5863922831,\"Product_Usage (1 month count)\"],[2.0,-0.9785933235999997,\"Product_Usage (1 month count)\"],[2.0,-3.6036969723000003,\"Product_Usage (1 month count)\"],[4.0,-8.116322299,\"Product_Usage (1 month count)\"],[2.0,3.3172163683,\"Product_Usage (1 month count)\"],[2.0,-7.7403944888,\"Product_Usage (1 month count)\"],[3.0,-9.502312931799999,\"Product_Usage (1 month count)\"],[1.0,5.8936549569,\"Product_Usage (1 month count)\"],[2.0,0.7346600051999996,\"Product_Usage (1 month count)\"],[3.0,-12.3786232445,\"Product_Usage (1 month count)\"],[2.0,-1.9289129280999995,\"Product_Usage (1 month count)\"],[2.0,-7.9612887509000005,\"Product_Usage (1 month count)\"]],\"hoverlabel\":{\"align\":\"left\",\"bgcolor\":\"white\",\"font\":{\"family\":\"Rockwell\",\"size\":16}},\"hovertemplate\":\"<br>Period</b>: %{x}<br>Feature</b>: %{customdata[2]}<br>Strength</b>: %{y: .2}<br>Median Value</b>: %{customdata[0]: .3}<extra></extra>\",\"marker\":{\"color\":\"#EF553B\"},\"name\":\"Product_Usage (1 month count)\",\"opacity\":0.5,\"x\":[\"2021-05-01T00:00:00\",\"2021-06-01T00:00:00\",\"2021-07-01T00:00:00\",\"2021-08-01T00:00:00\",\"2021-09-01T00:00:00\",\"2021-10-01T00:00:00\",\"2021-11-01T00:00:00\",\"2021-12-01T00:00:00\",\"2022-01-01T00:00:00\",\"2022-02-01T00:00:00\",\"2022-03-01T00:00:00\",\"2022-04-01T00:00:00\",\"2022-05-01T00:00:00\",\"2022-06-01T00:00:00\",\"2022-07-01T00:00:00\",\"2022-08-01T00:00:00\",\"2022-09-01T00:00:00\",\"2022-10-01T00:00:00\"],\"y\":[0.0008670189682926847,-0.16225208351470588,-0.10800740697321429,-0.15916735672307694,-0.1780781184625,-0.021769786834042553,-0.23525316184666667,-0.019571866471999995,-0.08008215494000001,-0.19795908046341465,0.05923600657678572,-0.13345507739310344,-0.2209840216697674,0.12278447826875,0.015305416774999992,-0.21342453869827585,-0.02967558350923076,-0.17307149458478263],\"type\":\"bar\"},{\"customdata\":[[3.0,-0.32298165990000044,\"Product_Usage[Activity_Type] (1 month unique count)\"],[4.0,-4.254578441200001,\"Product_Usage[Activity_Type] (1 month unique count)\"],[3.0,-2.8345556752000007,\"Product_Usage[Activity_Type] (1 month unique count)\"],[3.0,-5.2784225157,\"Product_Usage[Activity_Type] (1 month unique count)\"],[3.0,-7.6564116628,\"Product_Usage[Activity_Type] (1 month unique count)\"],[3.0,-0.8454262327000004,\"Product_Usage[Activity_Type] (1 month unique count)\"],[4.0,-7.305065750100001,\"Product_Usage[Activity_Type] (1 month unique count)\"],[2.0,2.701885912299999,\"Product_Usage[Activity_Type] (1 month unique count)\"],[2.0,1.5655015851999996,\"Product_Usage[Activity_Type] (1 month unique count)\"],[4.0,-4.680951359300001,\"Product_Usage[Activity_Type] (1 month unique count)\"],[2.0,8.5430108528,\"Product_Usage[Activity_Type] (1 month unique count)\"],[2.5,-2.391713861200001,\"Product_Usage[Activity_Type] (1 month unique count)\"],[3.0,-2.0778813019000006,\"Product_Usage[Activity_Type] (1 month unique count)\"],[1.0,10.9374693354,\"Product_Usage[Activity_Type] (1 month unique count)\"],[2.0,3.8593143979999995,\"Product_Usage[Activity_Type] (1 month unique count)\"],[3.0,-5.8054410683,\"Product_Usage[Activity_Type] (1 month unique count)\"],[2.0,4.452210784499999,\"Product_Usage[Activity_Type] (1 month unique count)\"],[2.0,0.4080733279999995,\"Product_Usage[Activity_Type] (1 month unique count)\"]],\"hoverlabel\":{\"align\":\"left\",\"bgcolor\":\"white\",\"font\":{\"family\":\"Rockwell\",\"size\":16}},\"hovertemplate\":\"<br>Period</b>: %{x}<br>Feature</b>: %{customdata[2]}<br>Strength</b>: %{y: .2}<br>Median Value</b>: %{customdata[0]: .3}<extra></extra>\",\"marker\":{\"color\":\"#00CC96\"},\"name\":\"Product_Usage[Activity_Type] (1 month unique count)\",\"opacity\":0.5,\"x\":[\"2021-05-01T00:00:00\",\"2021-06-01T00:00:00\",\"2021-07-01T00:00:00\",\"2021-08-01T00:00:00\",\"2021-09-01T00:00:00\",\"2021-10-01T00:00:00\",\"2021-11-01T00:00:00\",\"2021-12-01T00:00:00\",\"2022-01-01T00:00:00\",\"2022-02-01T00:00:00\",\"2022-03-01T00:00:00\",\"2022-04-01T00:00:00\",\"2022-05-01T00:00:00\",\"2022-06-01T00:00:00\",\"2022-07-01T00:00:00\",\"2022-08-01T00:00:00\",\"2022-09-01T00:00:00\",\"2022-10-01T00:00:00\"],\"y\":[-0.00787760146097562,-0.12513466003529417,-0.05061706562857144,-0.13534416706923078,-0.13672163683571428,-0.01798779218510639,-0.16233479444666668,0.05403771824599998,0.03478892411555555,-0.1141695453487805,0.15255376522857142,-0.041236445882758634,-0.04832282097441862,0.2278639444875,0.08040238329166666,-0.1000938115224138,0.06849555053076922,0.008871159304347816],\"type\":\"bar\"},{\"customdata\":[[3.0,-0.6090975579999995,\"Product_Usage[UserID] (1 month unique count)\"],[3.0,-1.7603348263999998,\"Product_Usage[UserID] (1 month unique count)\"],[3.0,-1.9950005787000005,\"Product_Usage[UserID] (1 month unique count)\"],[4.0,-5.261865458,\"Product_Usage[UserID] (1 month unique count)\"],[3.0,-6.040885855100001,\"Product_Usage[UserID] (1 month unique count)\"],[2.5,-0.45388411110000093,\"Product_Usage[UserID] (1 month unique count)\"],[4.0,-9.5725731452,\"Product_Usage[UserID] (1 month unique count)\"],[2.0,3.4206015382999997,\"Product_Usage[UserID] (1 month unique count)\"],[2.0,1.6624817739999995,\"Product_Usage[UserID] (1 month unique count)\"],[3.0,-3.0211810418,\"Product_Usage[UserID] (1 month unique count)\"],[2.0,4.8830038794,\"Product_Usage[UserID] (1 month unique count)\"],[3.0,-3.193318671500001,\"Product_Usage[UserID] (1 month unique count)\"],[3.0,-3.3168986246000003,\"Product_Usage[UserID] (1 month unique count)\"],[1.0,10.2677111443,\"Product_Usage[UserID] (1 month unique count)\"],[2.0,3.8097426395999996,\"Product_Usage[UserID] (1 month unique count)\"],[3.0,-3.5979069433,\"Product_Usage[UserID] (1 month unique count)\"],[3.0,3.8244518397,\"Product_Usage[UserID] (1 month unique count)\"],[2.0,2.3782354229999996,\"Product_Usage[UserID] (1 month unique count)\"]],\"hoverlabel\":{\"align\":\"left\",\"bgcolor\":\"white\",\"font\":{\"family\":\"Rockwell\",\"size\":16}},\"hovertemplate\":\"<br>Period</b>: %{x}<br>Feature</b>: %{customdata[2]}<br>Strength</b>: %{y: .2}<br>Median Value</b>: %{customdata[0]: .3}<extra></extra>\",\"marker\":{\"color\":\"#AB63FA\"},\"name\":\"Product_Usage[UserID] (1 month unique count)\",\"opacity\":0.5,\"x\":[\"2021-05-01T00:00:00\",\"2021-06-01T00:00:00\",\"2021-07-01T00:00:00\",\"2021-08-01T00:00:00\",\"2021-09-01T00:00:00\",\"2021-10-01T00:00:00\",\"2021-11-01T00:00:00\",\"2021-12-01T00:00:00\",\"2022-01-01T00:00:00\",\"2022-02-01T00:00:00\",\"2022-03-01T00:00:00\",\"2022-04-01T00:00:00\",\"2022-05-01T00:00:00\",\"2022-06-01T00:00:00\",\"2022-07-01T00:00:00\",\"2022-08-01T00:00:00\",\"2022-09-01T00:00:00\",\"2022-10-01T00:00:00\"],\"y\":[-0.014856037999999988,-0.051774553717647054,-0.03562501033392858,-0.13491962712820513,-0.1078729616982143,-0.009657108746808531,-0.2127238476711111,0.068412030766,0.036944039422222213,-0.07368734248292683,0.08719649784642858,-0.05505721847413795,-0.07713717731627907,0.21391064883958333,0.07936963832499999,-0.06203287833275862,0.05883772061076923,0.05170077006521738],\"type\":\"bar\"},{\"customdata\":[[10.0,-1.3559679001999998,\"Product_Usage[UserID] (180 days unique count)\"],[8.0,2.389997831,\"Product_Usage[UserID] (180 days unique count)\"],[8.0,5.8358894582000005,\"Product_Usage[UserID] (180 days unique count)\"],[10.0,-2.1071659944,\"Product_Usage[UserID] (180 days unique count)\"],[8.0,0.6053682925999999,\"Product_Usage[UserID] (180 days unique count)\"],[8.0,3.2680313968,\"Product_Usage[UserID] (180 days unique count)\"],[11.0,-4.0493562687,\"Product_Usage[UserID] (180 days unique count)\"],[7.0,7.3540582851,\"Product_Usage[UserID] (180 days unique count)\"],[7.0,4.855331383,\"Product_Usage[UserID] (180 days unique count)\"],[8.0,2.2992618068,\"Product_Usage[UserID] (180 days unique count)\"],[7.0,4.293742857,\"Product_Usage[UserID] (180 days unique count)\"],[7.0,4.3219708603,\"Product_Usage[UserID] (180 days unique count)\"],[8.0,-0.1649189898000002,\"Product_Usage[UserID] (180 days unique count)\"],[7.0,9.1865191829,\"Product_Usage[UserID] (180 days unique count)\"],[7.0,6.0187908169,\"Product_Usage[UserID] (180 days unique count)\"],[8.0,4.8448481836,\"Product_Usage[UserID] (180 days unique count)\"],[7.0,8.0938297819,\"Product_Usage[UserID] (180 days unique count)\"],[7.5,5.4050640935,\"Product_Usage[UserID] (180 days unique count)\"]],\"hoverlabel\":{\"align\":\"left\",\"bgcolor\":\"white\",\"font\":{\"family\":\"Rockwell\",\"size\":16}},\"hovertemplate\":\"<br>Period</b>: %{x}<br>Feature</b>: %{customdata[2]}<br>Strength</b>: %{y: .2}<br>Median Value</b>: %{customdata[0]: .3}<extra></extra>\",\"marker\":{\"color\":\"#FFA15A\"},\"name\":\"Product_Usage[UserID] (180 days unique count)\",\"opacity\":0.5,\"x\":[\"2021-05-01T00:00:00\",\"2021-06-01T00:00:00\",\"2021-07-01T00:00:00\",\"2021-08-01T00:00:00\",\"2021-09-01T00:00:00\",\"2021-10-01T00:00:00\",\"2021-11-01T00:00:00\",\"2021-12-01T00:00:00\",\"2022-01-01T00:00:00\",\"2022-02-01T00:00:00\",\"2022-03-01T00:00:00\",\"2022-04-01T00:00:00\",\"2022-05-01T00:00:00\",\"2022-06-01T00:00:00\",\"2022-07-01T00:00:00\",\"2022-08-01T00:00:00\",\"2022-09-01T00:00:00\",\"2022-10-01T00:00:00\"],\"y\":[-0.03307238780975609,0.07029405385294119,0.10421231175357144,-0.054029897292307685,0.010810148082142855,0.0695325829106383,-0.08998569486,0.147081165702,0.10789625295555556,0.05607955626341464,0.0766739795892857,0.07451673897068967,-0.003835325344186051,0.19138581631041665,0.12539147535208334,0.08353186523448276,0.12452045818307693,0.11750139333695653],\"type\":\"bar\"}],                        {\"template\":{\"data\":{\"histogram2dcontour\":[{\"type\":\"histogram2dcontour\",\"colorbar\":{\"outlinewidth\":0,\"ticks\":\"\"},\"colorscale\":[[0.0,\"#0d0887\"],[0.1111111111111111,\"#46039f\"],[0.2222222222222222,\"#7201a8\"],[0.3333333333333333,\"#9c179e\"],[0.4444444444444444,\"#bd3786\"],[0.5555555555555556,\"#d8576b\"],[0.6666666666666666,\"#ed7953\"],[0.7777777777777778,\"#fb9f3a\"],[0.8888888888888888,\"#fdca26\"],[1.0,\"#f0f921\"]]}],\"choropleth\":[{\"type\":\"choropleth\",\"colorbar\":{\"outlinewidth\":0,\"ticks\":\"\"}}],\"histogram2d\":[{\"type\":\"histogram2d\",\"colorbar\":{\"outlinewidth\":0,\"ticks\":\"\"},\"colorscale\":[[0.0,\"#0d0887\"],[0.1111111111111111,\"#46039f\"],[0.2222222222222222,\"#7201a8\"],[0.3333333333333333,\"#9c179e\"],[0.4444444444444444,\"#bd3786\"],[0.5555555555555556,\"#d8576b\"],[0.6666666666666666,\"#ed7953\"],[0.7777777777777778,\"#fb9f3a\"],[0.8888888888888888,\"#fdca26\"],[1.0,\"#f0f921\"]]}],\"heatmap\":[{\"type\":\"heatmap\",\"colorbar\":{\"outlinewidth\":0,\"ticks\":\"\"},\"colorscale\":[[0.0,\"#0d0887\"],[0.1111111111111111,\"#46039f\"],[0.2222222222222222,\"#7201a8\"],[0.3333333333333333,\"#9c179e\"],[0.4444444444444444,\"#bd3786\"],[0.5555555555555556,\"#d8576b\"],[0.6666666666666666,\"#ed7953\"],[0.7777777777777778,\"#fb9f3a\"],[0.8888888888888888,\"#fdca26\"],[1.0,\"#f0f921\"]]}],\"heatmapgl\":[{\"type\":\"heatmapgl\",\"colorbar\":{\"outlinewidth\":0,\"ticks\":\"\"},\"colorscale\":[[0.0,\"#0d0887\"],[0.1111111111111111,\"#46039f\"],[0.2222222222222222,\"#7201a8\"],[0.3333333333333333,\"#9c179e\"],[0.4444444444444444,\"#bd3786\"],[0.5555555555555556,\"#d8576b\"],[0.6666666666666666,\"#ed7953\"],[0.7777777777777778,\"#fb9f3a\"],[0.8888888888888888,\"#fdca26\"],[1.0,\"#f0f921\"]]}],\"contourcarpet\":[{\"type\":\"contourcarpet\",\"colorbar\":{\"outlinewidth\":0,\"ticks\":\"\"}}],\"contour\":[{\"type\":\"contour\",\"colorbar\":{\"outlinewidth\":0,\"ticks\":\"\"},\"colorscale\":[[0.0,\"#0d0887\"],[0.1111111111111111,\"#46039f\"],[0.2222222222222222,\"#7201a8\"],[0.3333333333333333,\"#9c179e\"],[0.4444444444444444,\"#bd3786\"],[0.5555555555555556,\"#d8576b\"],[0.6666666666666666,\"#ed7953\"],[0.7777777777777778,\"#fb9f3a\"],[0.8888888888888888,\"#fdca26\"],[1.0,\"#f0f921\"]]}],\"surface\":[{\"type\":\"surface\",\"colorbar\":{\"outlinewidth\":0,\"ticks\":\"\"},\"colorscale\":[[0.0,\"#0d0887\"],[0.1111111111111111,\"#46039f\"],[0.2222222222222222,\"#7201a8\"],[0.3333333333333333,\"#9c179e\"],[0.4444444444444444,\"#bd3786\"],[0.5555555555555556,\"#d8576b\"],[0.6666666666666666,\"#ed7953\"],[0.7777777777777778,\"#fb9f3a\"],[0.8888888888888888,\"#fdca26\"],[1.0,\"#f0f921\"]]}],\"mesh3d\":[{\"type\":\"mesh3d\",\"colorbar\":{\"outlinewidth\":0,\"ticks\":\"\"}}],\"scatter\":[{\"fillpattern\":{\"fillmode\":\"overlay\",\"size\":10,\"solidity\":0.2},\"type\":\"scatter\"}],\"parcoords\":[{\"type\":\"parcoords\",\"line\":{\"colorbar\":{\"outlinewidth\":0,\"ticks\":\"\"}}}],\"scatterpolargl\":[{\"type\":\"scatterpolargl\",\"marker\":{\"colorbar\":{\"outlinewidth\":0,\"ticks\":\"\"}}}],\"bar\":[{\"error_x\":{\"color\":\"#2a3f5f\"},\"error_y\":{\"color\":\"#2a3f5f\"},\"marker\":{\"line\":{\"color\":\"#E5ECF6\",\"width\":0.5},\"pattern\":{\"fillmode\":\"overlay\",\"size\":10,\"solidity\":0.2}},\"type\":\"bar\"}],\"scattergeo\":[{\"type\":\"scattergeo\",\"marker\":{\"colorbar\":{\"outlinewidth\":0,\"ticks\":\"\"}}}],\"scatterpolar\":[{\"type\":\"scatterpolar\",\"marker\":{\"colorbar\":{\"outlinewidth\":0,\"ticks\":\"\"}}}],\"histogram\":[{\"marker\":{\"pattern\":{\"fillmode\":\"overlay\",\"size\":10,\"solidity\":0.2}},\"type\":\"histogram\"}],\"scattergl\":[{\"type\":\"scattergl\",\"marker\":{\"colorbar\":{\"outlinewidth\":0,\"ticks\":\"\"}}}],\"scatter3d\":[{\"type\":\"scatter3d\",\"line\":{\"colorbar\":{\"outlinewidth\":0,\"ticks\":\"\"}},\"marker\":{\"colorbar\":{\"outlinewidth\":0,\"ticks\":\"\"}}}],\"scattermapbox\":[{\"type\":\"scattermapbox\",\"marker\":{\"colorbar\":{\"outlinewidth\":0,\"ticks\":\"\"}}}],\"scatterternary\":[{\"type\":\"scatterternary\",\"marker\":{\"colorbar\":{\"outlinewidth\":0,\"ticks\":\"\"}}}],\"scattercarpet\":[{\"type\":\"scattercarpet\",\"marker\":{\"colorbar\":{\"outlinewidth\":0,\"ticks\":\"\"}}}],\"carpet\":[{\"aaxis\":{\"endlinecolor\":\"#2a3f5f\",\"gridcolor\":\"white\",\"linecolor\":\"white\",\"minorgridcolor\":\"white\",\"startlinecolor\":\"#2a3f5f\"},\"baxis\":{\"endlinecolor\":\"#2a3f5f\",\"gridcolor\":\"white\",\"linecolor\":\"white\",\"minorgridcolor\":\"white\",\"startlinecolor\":\"#2a3f5f\"},\"type\":\"carpet\"}],\"table\":[{\"cells\":{\"fill\":{\"color\":\"#EBF0F8\"},\"line\":{\"color\":\"white\"}},\"header\":{\"fill\":{\"color\":\"#C8D4E3\"},\"line\":{\"color\":\"white\"}},\"type\":\"table\"}],\"barpolar\":[{\"marker\":{\"line\":{\"color\":\"#E5ECF6\",\"width\":0.5},\"pattern\":{\"fillmode\":\"overlay\",\"size\":10,\"solidity\":0.2}},\"type\":\"barpolar\"}],\"pie\":[{\"automargin\":true,\"type\":\"pie\"}]},\"layout\":{\"autotypenumbers\":\"strict\",\"colorway\":[\"#636efa\",\"#EF553B\",\"#00cc96\",\"#ab63fa\",\"#FFA15A\",\"#19d3f3\",\"#FF6692\",\"#B6E880\",\"#FF97FF\",\"#FECB52\"],\"font\":{\"color\":\"#2a3f5f\"},\"hovermode\":\"closest\",\"hoverlabel\":{\"align\":\"left\"},\"paper_bgcolor\":\"white\",\"plot_bgcolor\":\"#E5ECF6\",\"polar\":{\"bgcolor\":\"#E5ECF6\",\"angularaxis\":{\"gridcolor\":\"white\",\"linecolor\":\"white\",\"ticks\":\"\"},\"radialaxis\":{\"gridcolor\":\"white\",\"linecolor\":\"white\",\"ticks\":\"\"}},\"ternary\":{\"bgcolor\":\"#E5ECF6\",\"aaxis\":{\"gridcolor\":\"white\",\"linecolor\":\"white\",\"ticks\":\"\"},\"baxis\":{\"gridcolor\":\"white\",\"linecolor\":\"white\",\"ticks\":\"\"},\"caxis\":{\"gridcolor\":\"white\",\"linecolor\":\"white\",\"ticks\":\"\"}},\"coloraxis\":{\"colorbar\":{\"outlinewidth\":0,\"ticks\":\"\"}},\"colorscale\":{\"sequential\":[[0.0,\"#0d0887\"],[0.1111111111111111,\"#46039f\"],[0.2222222222222222,\"#7201a8\"],[0.3333333333333333,\"#9c179e\"],[0.4444444444444444,\"#bd3786\"],[0.5555555555555556,\"#d8576b\"],[0.6666666666666666,\"#ed7953\"],[0.7777777777777778,\"#fb9f3a\"],[0.8888888888888888,\"#fdca26\"],[1.0,\"#f0f921\"]],\"sequentialminus\":[[0.0,\"#0d0887\"],[0.1111111111111111,\"#46039f\"],[0.2222222222222222,\"#7201a8\"],[0.3333333333333333,\"#9c179e\"],[0.4444444444444444,\"#bd3786\"],[0.5555555555555556,\"#d8576b\"],[0.6666666666666666,\"#ed7953\"],[0.7777777777777778,\"#fb9f3a\"],[0.8888888888888888,\"#fdca26\"],[1.0,\"#f0f921\"]],\"diverging\":[[0,\"#8e0152\"],[0.1,\"#c51b7d\"],[0.2,\"#de77ae\"],[0.3,\"#f1b6da\"],[0.4,\"#fde0ef\"],[0.5,\"#f7f7f7\"],[0.6,\"#e6f5d0\"],[0.7,\"#b8e186\"],[0.8,\"#7fbc41\"],[0.9,\"#4d9221\"],[1,\"#276419\"]]},\"xaxis\":{\"gridcolor\":\"white\",\"linecolor\":\"white\",\"ticks\":\"\",\"title\":{\"standoff\":15},\"zerolinecolor\":\"white\",\"automargin\":true,\"zerolinewidth\":2},\"yaxis\":{\"gridcolor\":\"white\",\"linecolor\":\"white\",\"ticks\":\"\",\"title\":{\"standoff\":15},\"zerolinecolor\":\"white\",\"automargin\":true,\"zerolinewidth\":2},\"scene\":{\"xaxis\":{\"backgroundcolor\":\"#E5ECF6\",\"gridcolor\":\"white\",\"linecolor\":\"white\",\"showbackground\":true,\"ticks\":\"\",\"zerolinecolor\":\"white\",\"gridwidth\":2},\"yaxis\":{\"backgroundcolor\":\"#E5ECF6\",\"gridcolor\":\"white\",\"linecolor\":\"white\",\"showbackground\":true,\"ticks\":\"\",\"zerolinecolor\":\"white\",\"gridwidth\":2},\"zaxis\":{\"backgroundcolor\":\"#E5ECF6\",\"gridcolor\":\"white\",\"linecolor\":\"white\",\"showbackground\":true,\"ticks\":\"\",\"zerolinecolor\":\"white\",\"gridwidth\":2}},\"shapedefaults\":{\"line\":{\"color\":\"#2a3f5f\"}},\"annotationdefaults\":{\"arrowcolor\":\"#2a3f5f\",\"arrowhead\":0,\"arrowwidth\":1},\"geo\":{\"bgcolor\":\"white\",\"landcolor\":\"#E5ECF6\",\"subunitcolor\":\"white\",\"showland\":true,\"showlakes\":true,\"lakecolor\":\"white\"},\"title\":{\"x\":0.05},\"mapbox\":{\"style\":\"light\"}}},\"xaxis\":{\"anchor\":\"y\",\"domain\":[0.0,0.94],\"title\":{\"text\":\"Date\"},\"showline\":true,\"linewidth\":1,\"linecolor\":\"black\",\"showgrid\":false,\"gridwidth\":1,\"gridcolor\":\"#7f7f7f\"},\"yaxis\":{\"anchor\":\"x\",\"domain\":[0.0,1.0],\"title\":{\"text\":\"Normalized Feature Strength\"},\"showline\":true,\"linewidth\":1,\"linecolor\":\"black\",\"showgrid\":true,\"gridwidth\":0.1,\"gridcolor\":\"lightgray\",\"zeroline\":true,\"zerolinewidth\":2,\"zerolinecolor\":\"black\"},\"yaxis2\":{\"anchor\":\"x\",\"overlaying\":\"y\",\"side\":\"right\",\"title\":{\"text\":\"Average Prediction\"},\"showline\":true,\"linewidth\":1,\"linecolor\":\"black\",\"showgrid\":true,\"gridwidth\":0.1,\"gridcolor\":\"lightgray\",\"zeroline\":true,\"zerolinewidth\":2,\"zerolinecolor\":\"black\",\"tickformat\":\",.0%\"},\"barmode\":\"relative\",\"hoverlabel\":{\"font\":{\"size\":16,\"family\":\"Rockwell\"},\"bgcolor\":\"white\",\"namelength\":-1},\"legend\":{\"x\":1.1,\"y\":1,\"xanchor\":\"left\",\"yanchor\":\"top\"},\"showlegend\":false,\"height\":600,\"plot_bgcolor\":\"rgba(0,0,0,0)\"},                        {\"responsive\": true}                    ).then(function(){\n",
       "                            \n",
       "var gd = document.getElementById('527f61a2-af82-4bf9-a21d-ee43eeb75475');\n",
       "var x = new MutationObserver(function (mutations, observer) {{\n",
       "        var display = window.getComputedStyle(gd).display;\n",
       "        if (!display || display === 'none') {{\n",
       "            console.log([gd, 'removed!']);\n",
       "            Plotly.purge(gd);\n",
       "            observer.disconnect();\n",
       "        }}\n",
       "}});\n",
       "\n",
       "// Listen for the removal of the full notebook cells\n",
       "var notebookContainer = gd.closest('#notebook-container');\n",
       "if (notebookContainer) {{\n",
       "    x.observe(notebookContainer, {childList: true});\n",
       "}}\n",
       "\n",
       "// Listen for the clearing of the current output cell\n",
       "var outputEl = gd.closest('.output');\n",
       "if (outputEl) {{\n",
       "    x.observe(outputEl, {childList: true});\n",
       "}}\n",
       "\n",
       "                        })                };                });            </script>        </div>"
      ]
     },
     "metadata": {},
     "output_type": "display_data"
    }
   ],
   "source": [
    "# plot predictions and prediction explanations over time\n",
    "date_col = 'Prediction_Point'\n",
    "prep_and_plot_pe_over_time(melted, project_id, date_col, freq='MS', showlegend=False, max_features=5, height=600)"
   ]
  },
  {
   "cell_type": "markdown",
   "id": "8a150314",
   "metadata": {},
   "source": [
    "### Output pandas df with highlighted prediction explanations"
   ]
  },
  {
   "cell_type": "code",
   "execution_count": 741,
   "id": "80df1a06",
   "metadata": {},
   "outputs": [],
   "source": [
    "cols_to_keep = [\n",
    "    'row_id',\n",
    "    'Customer_Name', \n",
    "    'Customer_Since_Date',\n",
    "    'ARR', \n",
    "    'Contract_Duration', \n",
    "    'Renewal_Date', \n",
    "    'Employee_Count', \n",
    "    'Annual_Revenue', \n",
    "    'Products_Purchased', \n",
    "    'Industry',\n",
    "    'Zip_Code', \n",
    "    'City', \n",
    "    'State', \n",
    "    'Latitude', \n",
    "    'Longitude',\n",
    "    'Customers[Products_Purchased] (latest)',\n",
    "    'Product_Usage[UserID] (1 month unique count)',\n",
    "    'feature_name',\n",
    "    'strength',\n",
    "]"
   ]
  },
  {
   "cell_type": "code",
   "execution_count": 846,
   "id": "8402e612",
   "metadata": {
    "scrolled": false
   },
   "outputs": [
    {
     "data": {
      "text/html": [
       "<style type=\"text/css\">\n",
       "#T_e7ada_row0_col0, #T_e7ada_row0_col1, #T_e7ada_row0_col2, #T_e7ada_row0_col4, #T_e7ada_row0_col5, #T_e7ada_row0_col6, #T_e7ada_row0_col8, #T_e7ada_row0_col11, #T_e7ada_row0_col12, #T_e7ada_row1_col0, #T_e7ada_row1_col1, #T_e7ada_row1_col4, #T_e7ada_row1_col5, #T_e7ada_row1_col6, #T_e7ada_row1_col8, #T_e7ada_row1_col11, #T_e7ada_row1_col12, #T_e7ada_row1_col14, #T_e7ada_row2_col0, #T_e7ada_row2_col1, #T_e7ada_row2_col2, #T_e7ada_row2_col4, #T_e7ada_row2_col5, #T_e7ada_row2_col6, #T_e7ada_row2_col11, #T_e7ada_row2_col13, #T_e7ada_row3_col0, #T_e7ada_row3_col1, #T_e7ada_row3_col2, #T_e7ada_row3_col4, #T_e7ada_row3_col5, #T_e7ada_row3_col6, #T_e7ada_row3_col10, #T_e7ada_row3_col11, #T_e7ada_row3_col13, #T_e7ada_row4_col0, #T_e7ada_row4_col1, #T_e7ada_row4_col4, #T_e7ada_row4_col8, #T_e7ada_row4_col10, #T_e7ada_row4_col11, #T_e7ada_row4_col12, #T_e7ada_row5_col0, #T_e7ada_row5_col1, #T_e7ada_row5_col2, #T_e7ada_row5_col4, #T_e7ada_row5_col5, #T_e7ada_row5_col8, #T_e7ada_row5_col10, #T_e7ada_row5_col11, #T_e7ada_row5_col12, #T_e7ada_row6_col0, #T_e7ada_row6_col1, #T_e7ada_row6_col2, #T_e7ada_row6_col4, #T_e7ada_row6_col5, #T_e7ada_row6_col8, #T_e7ada_row6_col10, #T_e7ada_row6_col11, #T_e7ada_row6_col12, #T_e7ada_row6_col13, #T_e7ada_row6_col14, #T_e7ada_row7_col0, #T_e7ada_row7_col1, #T_e7ada_row7_col2, #T_e7ada_row7_col4, #T_e7ada_row7_col8, #T_e7ada_row7_col11, #T_e7ada_row7_col12, #T_e7ada_row8_col0, #T_e7ada_row8_col1, #T_e7ada_row8_col4, #T_e7ada_row8_col5, #T_e7ada_row8_col10, #T_e7ada_row8_col11, #T_e7ada_row8_col12, #T_e7ada_row9_col0, #T_e7ada_row9_col1, #T_e7ada_row9_col2, #T_e7ada_row9_col4, #T_e7ada_row9_col7, #T_e7ada_row9_col9, #T_e7ada_row9_col11, #T_e7ada_row9_col12 {\n",
       "  background-color: #fffdfd;\n",
       "  color: #000000;\n",
       "}\n",
       "#T_e7ada_row0_col3, #T_e7ada_row0_col14, #T_e7ada_row1_col3, #T_e7ada_row3_col3, #T_e7ada_row4_col3, #T_e7ada_row4_col14, #T_e7ada_row5_col3, #T_e7ada_row6_col3, #T_e7ada_row7_col3, #T_e7ada_row7_col14, #T_e7ada_row8_col3 {\n",
       "  background-color: #ff6161;\n",
       "  color: #f1f1f1;\n",
       "}\n",
       "#T_e7ada_row0_col7, #T_e7ada_row1_col7, #T_e7ada_row3_col7, #T_e7ada_row8_col7 {\n",
       "  background-color: #1d1dff;\n",
       "  color: #f1f1f1;\n",
       "}\n",
       "#T_e7ada_row0_col9, #T_e7ada_row1_col9, #T_e7ada_row3_col9 {\n",
       "  background-color: #e80000;\n",
       "  color: #f1f1f1;\n",
       "}\n",
       "#T_e7ada_row0_col10, #T_e7ada_row1_col10, #T_e7ada_row1_col15, #T_e7ada_row3_col15, #T_e7ada_row5_col6, #T_e7ada_row6_col6, #T_e7ada_row7_col5, #T_e7ada_row7_col9 {\n",
       "  background-color: #d1d1ff;\n",
       "  color: #000000;\n",
       "}\n",
       "#T_e7ada_row0_col13, #T_e7ada_row5_col13, #T_e7ada_row7_col13, #T_e7ada_row8_col13 {\n",
       "  background-color: #7575ff;\n",
       "  color: #f1f1f1;\n",
       "}\n",
       "#T_e7ada_row0_col15, #T_e7ada_row4_col15 {\n",
       "  background-color: #00004c;\n",
       "  color: #f1f1f1;\n",
       "}\n",
       "#T_e7ada_row1_col2 {\n",
       "  background-color: #8989ff;\n",
       "  color: #f1f1f1;\n",
       "}\n",
       "#T_e7ada_row1_col13 {\n",
       "  background-color: #6d6dff;\n",
       "  color: #f1f1f1;\n",
       "}\n",
       "#T_e7ada_row2_col3, #T_e7ada_row7_col6, #T_e7ada_row9_col3 {\n",
       "  background-color: #a1a1ff;\n",
       "  color: #f1f1f1;\n",
       "}\n",
       "#T_e7ada_row2_col7, #T_e7ada_row4_col7 {\n",
       "  background-color: #5151ff;\n",
       "  color: #f1f1f1;\n",
       "}\n",
       "#T_e7ada_row2_col8, #T_e7ada_row2_col12, #T_e7ada_row3_col8, #T_e7ada_row3_col12, #T_e7ada_row4_col2, #T_e7ada_row8_col2, #T_e7ada_row8_col8 {\n",
       "  background-color: #ffd1d1;\n",
       "  color: #000000;\n",
       "}\n",
       "#T_e7ada_row2_col9 {\n",
       "  background-color: #c1c1ff;\n",
       "  color: #000000;\n",
       "}\n",
       "#T_e7ada_row2_col10 {\n",
       "  background-color: #bdbdff;\n",
       "  color: #000000;\n",
       "}\n",
       "#T_e7ada_row2_col14, #T_e7ada_row5_col14, #T_e7ada_row8_col14 {\n",
       "  background-color: #5959ff;\n",
       "  color: #f1f1f1;\n",
       "}\n",
       "#T_e7ada_row2_col15, #T_e7ada_row6_col15 {\n",
       "  background-color: #fc0000;\n",
       "  color: #f1f1f1;\n",
       "}\n",
       "#T_e7ada_row3_col14, #T_e7ada_row9_col14 {\n",
       "  background-color: #9d9dff;\n",
       "  color: #f1f1f1;\n",
       "}\n",
       "#T_e7ada_row4_col5 {\n",
       "  background-color: #ffc1c1;\n",
       "  color: #000000;\n",
       "}\n",
       "#T_e7ada_row4_col6, #T_e7ada_row9_col10 {\n",
       "  background-color: #ffa5a5;\n",
       "  color: #000000;\n",
       "}\n",
       "#T_e7ada_row4_col9 {\n",
       "  background-color: #9999ff;\n",
       "  color: #f1f1f1;\n",
       "}\n",
       "#T_e7ada_row4_col13, #T_e7ada_row9_col13 {\n",
       "  background-color: #ff7171;\n",
       "  color: #f1f1f1;\n",
       "}\n",
       "#T_e7ada_row5_col7, #T_e7ada_row6_col7 {\n",
       "  background-color: #ff4d4d;\n",
       "  color: #f1f1f1;\n",
       "}\n",
       "#T_e7ada_row5_col9, #T_e7ada_row6_col9 {\n",
       "  background-color: #4949ff;\n",
       "  color: #f1f1f1;\n",
       "}\n",
       "#T_e7ada_row5_col15, #T_e7ada_row9_col15 {\n",
       "  background-color: #c80000;\n",
       "  color: #f1f1f1;\n",
       "}\n",
       "#T_e7ada_row7_col7 {\n",
       "  background-color: #ff0909;\n",
       "  color: #f1f1f1;\n",
       "}\n",
       "#T_e7ada_row7_col10, #T_e7ada_row9_col5 {\n",
       "  background-color: #cdcdff;\n",
       "  color: #000000;\n",
       "}\n",
       "#T_e7ada_row7_col15 {\n",
       "  background-color: #0000b7;\n",
       "  color: #f1f1f1;\n",
       "}\n",
       "#T_e7ada_row8_col6, #T_e7ada_row9_col8 {\n",
       "  background-color: #ffcdcd;\n",
       "  color: #000000;\n",
       "}\n",
       "#T_e7ada_row8_col9 {\n",
       "  background-color: #2d2dff;\n",
       "  color: #f1f1f1;\n",
       "}\n",
       "#T_e7ada_row8_col15 {\n",
       "  background-color: #6969ff;\n",
       "  color: #f1f1f1;\n",
       "}\n",
       "#T_e7ada_row9_col6 {\n",
       "  background-color: #c9c9ff;\n",
       "  color: #000000;\n",
       "}\n",
       "</style>\n",
       "<table id=\"T_e7ada\">\n",
       "  <thead>\n",
       "    <tr>\n",
       "      <th class=\"blank level0\" >&nbsp;</th>\n",
       "      <th id=\"T_e7ada_level0_col0\" class=\"col_heading level0 col0\" >Customer_Name</th>\n",
       "      <th id=\"T_e7ada_level0_col1\" class=\"col_heading level0 col1\" >Customer_Since_Date</th>\n",
       "      <th id=\"T_e7ada_level0_col2\" class=\"col_heading level0 col2\" >ARR</th>\n",
       "      <th id=\"T_e7ada_level0_col3\" class=\"col_heading level0 col3\" >Contract_Duration</th>\n",
       "      <th id=\"T_e7ada_level0_col4\" class=\"col_heading level0 col4\" >Renewal_Date</th>\n",
       "      <th id=\"T_e7ada_level0_col5\" class=\"col_heading level0 col5\" >Employee_Count</th>\n",
       "      <th id=\"T_e7ada_level0_col6\" class=\"col_heading level0 col6\" >Annual_Revenue</th>\n",
       "      <th id=\"T_e7ada_level0_col7\" class=\"col_heading level0 col7\" >Industry</th>\n",
       "      <th id=\"T_e7ada_level0_col8\" class=\"col_heading level0 col8\" >City</th>\n",
       "      <th id=\"T_e7ada_level0_col9\" class=\"col_heading level0 col9\" >State</th>\n",
       "      <th id=\"T_e7ada_level0_col10\" class=\"col_heading level0 col10\" >Zip_Code</th>\n",
       "      <th id=\"T_e7ada_level0_col11\" class=\"col_heading level0 col11\" >Latitude</th>\n",
       "      <th id=\"T_e7ada_level0_col12\" class=\"col_heading level0 col12\" >Longitude</th>\n",
       "      <th id=\"T_e7ada_level0_col13\" class=\"col_heading level0 col13\" >Products_Purchased</th>\n",
       "      <th id=\"T_e7ada_level0_col14\" class=\"col_heading level0 col14\" >Customers[Products_Purchased] (latest)</th>\n",
       "      <th id=\"T_e7ada_level0_col15\" class=\"col_heading level0 col15\" >Product_Usage[UserID] (1 month unique count)</th>\n",
       "    </tr>\n",
       "    <tr>\n",
       "      <th class=\"index_name level0\" >row_id</th>\n",
       "      <th class=\"blank col0\" >&nbsp;</th>\n",
       "      <th class=\"blank col1\" >&nbsp;</th>\n",
       "      <th class=\"blank col2\" >&nbsp;</th>\n",
       "      <th class=\"blank col3\" >&nbsp;</th>\n",
       "      <th class=\"blank col4\" >&nbsp;</th>\n",
       "      <th class=\"blank col5\" >&nbsp;</th>\n",
       "      <th class=\"blank col6\" >&nbsp;</th>\n",
       "      <th class=\"blank col7\" >&nbsp;</th>\n",
       "      <th class=\"blank col8\" >&nbsp;</th>\n",
       "      <th class=\"blank col9\" >&nbsp;</th>\n",
       "      <th class=\"blank col10\" >&nbsp;</th>\n",
       "      <th class=\"blank col11\" >&nbsp;</th>\n",
       "      <th class=\"blank col12\" >&nbsp;</th>\n",
       "      <th class=\"blank col13\" >&nbsp;</th>\n",
       "      <th class=\"blank col14\" >&nbsp;</th>\n",
       "      <th class=\"blank col15\" >&nbsp;</th>\n",
       "    </tr>\n",
       "  </thead>\n",
       "  <tbody>\n",
       "    <tr>\n",
       "      <th id=\"T_e7ada_level0_row0\" class=\"row_heading level0 row0\" >0</th>\n",
       "      <td id=\"T_e7ada_row0_col0\" class=\"data row0 col0\" >Advanced Alpha Virtual</td>\n",
       "      <td id=\"T_e7ada_row0_col1\" class=\"data row0 col1\" >2021-03-01</td>\n",
       "      <td id=\"T_e7ada_row0_col2\" class=\"data row0 col2\" >197296</td>\n",
       "      <td id=\"T_e7ada_row0_col3\" class=\"data row0 col3\" >12</td>\n",
       "      <td id=\"T_e7ada_row0_col4\" class=\"data row0 col4\" >2022-03-01</td>\n",
       "      <td id=\"T_e7ada_row0_col5\" class=\"data row0 col5\" >77038</td>\n",
       "      <td id=\"T_e7ada_row0_col6\" class=\"data row0 col6\" >8302583745</td>\n",
       "      <td id=\"T_e7ada_row0_col7\" class=\"data row0 col7\" >other</td>\n",
       "      <td id=\"T_e7ada_row0_col8\" class=\"data row0 col8\" >Boswell</td>\n",
       "      <td id=\"T_e7ada_row0_col9\" class=\"data row0 col9\" >OK</td>\n",
       "      <td id=\"T_e7ada_row0_col10\" class=\"data row0 col10\" >74727</td>\n",
       "      <td id=\"T_e7ada_row0_col11\" class=\"data row0 col11\" >34.027321</td>\n",
       "      <td id=\"T_e7ada_row0_col12\" class=\"data row0 col12\" >-95.869142</td>\n",
       "      <td id=\"T_e7ada_row0_col13\" class=\"data row0 col13\" >enterprise</td>\n",
       "      <td id=\"T_e7ada_row0_col14\" class=\"data row0 col14\" >nan</td>\n",
       "      <td id=\"T_e7ada_row0_col15\" class=\"data row0 col15\" >9.000000</td>\n",
       "    </tr>\n",
       "    <tr>\n",
       "      <th id=\"T_e7ada_level0_row1\" class=\"row_heading level0 row1\" >1</th>\n",
       "      <td id=\"T_e7ada_row1_col0\" class=\"data row1 col0\" >Advanced Alpha Virtual</td>\n",
       "      <td id=\"T_e7ada_row1_col1\" class=\"data row1 col1\" >2021-03-01</td>\n",
       "      <td id=\"T_e7ada_row1_col2\" class=\"data row1 col2\" >390440</td>\n",
       "      <td id=\"T_e7ada_row1_col3\" class=\"data row1 col3\" >12</td>\n",
       "      <td id=\"T_e7ada_row1_col4\" class=\"data row1 col4\" >2023-03-01</td>\n",
       "      <td id=\"T_e7ada_row1_col5\" class=\"data row1 col5\" >77038</td>\n",
       "      <td id=\"T_e7ada_row1_col6\" class=\"data row1 col6\" >8302583745</td>\n",
       "      <td id=\"T_e7ada_row1_col7\" class=\"data row1 col7\" >other</td>\n",
       "      <td id=\"T_e7ada_row1_col8\" class=\"data row1 col8\" >Boswell</td>\n",
       "      <td id=\"T_e7ada_row1_col9\" class=\"data row1 col9\" >OK</td>\n",
       "      <td id=\"T_e7ada_row1_col10\" class=\"data row1 col10\" >74727</td>\n",
       "      <td id=\"T_e7ada_row1_col11\" class=\"data row1 col11\" >34.027321</td>\n",
       "      <td id=\"T_e7ada_row1_col12\" class=\"data row1 col12\" >-95.869142</td>\n",
       "      <td id=\"T_e7ada_row1_col13\" class=\"data row1 col13\" >enterprise</td>\n",
       "      <td id=\"T_e7ada_row1_col14\" class=\"data row1 col14\" >enterprise</td>\n",
       "      <td id=\"T_e7ada_row1_col15\" class=\"data row1 col15\" >4.000000</td>\n",
       "    </tr>\n",
       "    <tr>\n",
       "      <th id=\"T_e7ada_level0_row2\" class=\"row_heading level0 row2\" >2</th>\n",
       "      <td id=\"T_e7ada_row2_col0\" class=\"data row2 col0\" >Advanced Application</td>\n",
       "      <td id=\"T_e7ada_row2_col1\" class=\"data row2 col1\" >2019-12-01</td>\n",
       "      <td id=\"T_e7ada_row2_col2\" class=\"data row2 col2\" >56405</td>\n",
       "      <td id=\"T_e7ada_row2_col3\" class=\"data row2 col3\" >24</td>\n",
       "      <td id=\"T_e7ada_row2_col4\" class=\"data row2 col4\" >2022-12-01</td>\n",
       "      <td id=\"T_e7ada_row2_col5\" class=\"data row2 col5\" >153188</td>\n",
       "      <td id=\"T_e7ada_row2_col6\" class=\"data row2 col6\" >11207122938</td>\n",
       "      <td id=\"T_e7ada_row2_col7\" class=\"data row2 col7\" >manufacturing</td>\n",
       "      <td id=\"T_e7ada_row2_col8\" class=\"data row2 col8\" >Golden Valley</td>\n",
       "      <td id=\"T_e7ada_row2_col9\" class=\"data row2 col9\" >AZ</td>\n",
       "      <td id=\"T_e7ada_row2_col10\" class=\"data row2 col10\" >86413</td>\n",
       "      <td id=\"T_e7ada_row2_col11\" class=\"data row2 col11\" >35.221674</td>\n",
       "      <td id=\"T_e7ada_row2_col12\" class=\"data row2 col12\" >nan</td>\n",
       "      <td id=\"T_e7ada_row2_col13\" class=\"data row2 col13\" >business_essentials</td>\n",
       "      <td id=\"T_e7ada_row2_col14\" class=\"data row2 col14\" >business_essentials</td>\n",
       "      <td id=\"T_e7ada_row2_col15\" class=\"data row2 col15\" >1.000000</td>\n",
       "    </tr>\n",
       "    <tr>\n",
       "      <th id=\"T_e7ada_level0_row3\" class=\"row_heading level0 row3\" >3</th>\n",
       "      <td id=\"T_e7ada_row3_col0\" class=\"data row3 col0\" >Advanced Atlantic</td>\n",
       "      <td id=\"T_e7ada_row3_col1\" class=\"data row3 col1\" >2019-01-01</td>\n",
       "      <td id=\"T_e7ada_row3_col2\" class=\"data row3 col2\" >95737</td>\n",
       "      <td id=\"T_e7ada_row3_col3\" class=\"data row3 col3\" >12</td>\n",
       "      <td id=\"T_e7ada_row3_col4\" class=\"data row3 col4\" >2022-01-01</td>\n",
       "      <td id=\"T_e7ada_row3_col5\" class=\"data row3 col5\" >135905</td>\n",
       "      <td id=\"T_e7ada_row3_col6\" class=\"data row3 col6\" >12417956147</td>\n",
       "      <td id=\"T_e7ada_row3_col7\" class=\"data row3 col7\" >other</td>\n",
       "      <td id=\"T_e7ada_row3_col8\" class=\"data row3 col8\" >Stockdale</td>\n",
       "      <td id=\"T_e7ada_row3_col9\" class=\"data row3 col9\" >OH</td>\n",
       "      <td id=\"T_e7ada_row3_col10\" class=\"data row3 col10\" >45683</td>\n",
       "      <td id=\"T_e7ada_row3_col11\" class=\"data row3 col11\" >38.956462</td>\n",
       "      <td id=\"T_e7ada_row3_col12\" class=\"data row3 col12\" >nan</td>\n",
       "      <td id=\"T_e7ada_row3_col13\" class=\"data row3 col13\" >business_essentials</td>\n",
       "      <td id=\"T_e7ada_row3_col14\" class=\"data row3 col14\" >starter_pack</td>\n",
       "      <td id=\"T_e7ada_row3_col15\" class=\"data row3 col15\" >4.000000</td>\n",
       "    </tr>\n",
       "    <tr>\n",
       "      <th id=\"T_e7ada_level0_row4\" class=\"row_heading level0 row4\" >4</th>\n",
       "      <td id=\"T_e7ada_row4_col0\" class=\"data row4 col0\" >Advanced Contract</td>\n",
       "      <td id=\"T_e7ada_row4_col1\" class=\"data row4 col1\" >2022-04-01</td>\n",
       "      <td id=\"T_e7ada_row4_col2\" class=\"data row4 col2\" >50890</td>\n",
       "      <td id=\"T_e7ada_row4_col3\" class=\"data row4 col3\" >12</td>\n",
       "      <td id=\"T_e7ada_row4_col4\" class=\"data row4 col4\" >2023-04-01</td>\n",
       "      <td id=\"T_e7ada_row4_col5\" class=\"data row4 col5\" >9296</td>\n",
       "      <td id=\"T_e7ada_row4_col6\" class=\"data row4 col6\" >845483159</td>\n",
       "      <td id=\"T_e7ada_row4_col7\" class=\"data row4 col7\" >manufacturing</td>\n",
       "      <td id=\"T_e7ada_row4_col8\" class=\"data row4 col8\" >Everest</td>\n",
       "      <td id=\"T_e7ada_row4_col9\" class=\"data row4 col9\" >KS</td>\n",
       "      <td id=\"T_e7ada_row4_col10\" class=\"data row4 col10\" >66424</td>\n",
       "      <td id=\"T_e7ada_row4_col11\" class=\"data row4 col11\" >39.677224</td>\n",
       "      <td id=\"T_e7ada_row4_col12\" class=\"data row4 col12\" >-95.424700</td>\n",
       "      <td id=\"T_e7ada_row4_col13\" class=\"data row4 col13\" >starter_pack</td>\n",
       "      <td id=\"T_e7ada_row4_col14\" class=\"data row4 col14\" >nan</td>\n",
       "      <td id=\"T_e7ada_row4_col15\" class=\"data row4 col15\" >10.000000</td>\n",
       "    </tr>\n",
       "    <tr>\n",
       "      <th id=\"T_e7ada_level0_row5\" class=\"row_heading level0 row5\" >5</th>\n",
       "      <td id=\"T_e7ada_row5_col0\" class=\"data row5 col0\" >Advanced East Future</td>\n",
       "      <td id=\"T_e7ada_row5_col1\" class=\"data row5 col1\" >2014-01-01</td>\n",
       "      <td id=\"T_e7ada_row5_col2\" class=\"data row5 col2\" >181909</td>\n",
       "      <td id=\"T_e7ada_row5_col3\" class=\"data row5 col3\" >12</td>\n",
       "      <td id=\"T_e7ada_row5_col4\" class=\"data row5 col4\" >2022-01-01</td>\n",
       "      <td id=\"T_e7ada_row5_col5\" class=\"data row5 col5\" >117232</td>\n",
       "      <td id=\"T_e7ada_row5_col6\" class=\"data row5 col6\" >19050547314</td>\n",
       "      <td id=\"T_e7ada_row5_col7\" class=\"data row5 col7\" >insurance</td>\n",
       "      <td id=\"T_e7ada_row5_col8\" class=\"data row5 col8\" >Riverdale</td>\n",
       "      <td id=\"T_e7ada_row5_col9\" class=\"data row5 col9\" >NE</td>\n",
       "      <td id=\"T_e7ada_row5_col10\" class=\"data row5 col10\" >68870</td>\n",
       "      <td id=\"T_e7ada_row5_col11\" class=\"data row5 col11\" >40.784276</td>\n",
       "      <td id=\"T_e7ada_row5_col12\" class=\"data row5 col12\" >-99.162333</td>\n",
       "      <td id=\"T_e7ada_row5_col13\" class=\"data row5 col13\" >enterprise</td>\n",
       "      <td id=\"T_e7ada_row5_col14\" class=\"data row5 col14\" >business_essentials</td>\n",
       "      <td id=\"T_e7ada_row5_col15\" class=\"data row5 col15\" >0.000000</td>\n",
       "    </tr>\n",
       "    <tr>\n",
       "      <th id=\"T_e7ada_level0_row6\" class=\"row_heading level0 row6\" >6</th>\n",
       "      <td id=\"T_e7ada_row6_col0\" class=\"data row6 col0\" >Advanced East Future</td>\n",
       "      <td id=\"T_e7ada_row6_col1\" class=\"data row6 col1\" >2014-01-01</td>\n",
       "      <td id=\"T_e7ada_row6_col2\" class=\"data row6 col2\" >170616</td>\n",
       "      <td id=\"T_e7ada_row6_col3\" class=\"data row6 col3\" >12</td>\n",
       "      <td id=\"T_e7ada_row6_col4\" class=\"data row6 col4\" >2023-01-01</td>\n",
       "      <td id=\"T_e7ada_row6_col5\" class=\"data row6 col5\" >117232</td>\n",
       "      <td id=\"T_e7ada_row6_col6\" class=\"data row6 col6\" >19050547314</td>\n",
       "      <td id=\"T_e7ada_row6_col7\" class=\"data row6 col7\" >insurance</td>\n",
       "      <td id=\"T_e7ada_row6_col8\" class=\"data row6 col8\" >Riverdale</td>\n",
       "      <td id=\"T_e7ada_row6_col9\" class=\"data row6 col9\" >NE</td>\n",
       "      <td id=\"T_e7ada_row6_col10\" class=\"data row6 col10\" >68870</td>\n",
       "      <td id=\"T_e7ada_row6_col11\" class=\"data row6 col11\" >40.784276</td>\n",
       "      <td id=\"T_e7ada_row6_col12\" class=\"data row6 col12\" >-99.162333</td>\n",
       "      <td id=\"T_e7ada_row6_col13\" class=\"data row6 col13\" >business_essentials</td>\n",
       "      <td id=\"T_e7ada_row6_col14\" class=\"data row6 col14\" >enterprise</td>\n",
       "      <td id=\"T_e7ada_row6_col15\" class=\"data row6 col15\" >1.000000</td>\n",
       "    </tr>\n",
       "    <tr>\n",
       "      <th id=\"T_e7ada_level0_row7\" class=\"row_heading level0 row7\" >7</th>\n",
       "      <td id=\"T_e7ada_row7_col0\" class=\"data row7 col0\" >Advanced Frontier</td>\n",
       "      <td id=\"T_e7ada_row7_col1\" class=\"data row7 col1\" >2022-03-01</td>\n",
       "      <td id=\"T_e7ada_row7_col2\" class=\"data row7 col2\" >71513</td>\n",
       "      <td id=\"T_e7ada_row7_col3\" class=\"data row7 col3\" >12</td>\n",
       "      <td id=\"T_e7ada_row7_col4\" class=\"data row7 col4\" >2023-03-01</td>\n",
       "      <td id=\"T_e7ada_row7_col5\" class=\"data row7 col5\" >217426</td>\n",
       "      <td id=\"T_e7ada_row7_col6\" class=\"data row7 col6\" >25775267044</td>\n",
       "      <td id=\"T_e7ada_row7_col7\" class=\"data row7 col7\" >energy</td>\n",
       "      <td id=\"T_e7ada_row7_col8\" class=\"data row7 col8\" >Austin</td>\n",
       "      <td id=\"T_e7ada_row7_col9\" class=\"data row7 col9\" >TX</td>\n",
       "      <td id=\"T_e7ada_row7_col10\" class=\"data row7 col10\" >78711</td>\n",
       "      <td id=\"T_e7ada_row7_col11\" class=\"data row7 col11\" >29.891649</td>\n",
       "      <td id=\"T_e7ada_row7_col12\" class=\"data row7 col12\" >-96.244347</td>\n",
       "      <td id=\"T_e7ada_row7_col13\" class=\"data row7 col13\" >enterprise</td>\n",
       "      <td id=\"T_e7ada_row7_col14\" class=\"data row7 col14\" >nan</td>\n",
       "      <td id=\"T_e7ada_row7_col15\" class=\"data row7 col15\" >7.000000</td>\n",
       "    </tr>\n",
       "    <tr>\n",
       "      <th id=\"T_e7ada_level0_row8\" class=\"row_heading level0 row8\" >8</th>\n",
       "      <td id=\"T_e7ada_row8_col0\" class=\"data row8 col0\" >Advanced General Vision</td>\n",
       "      <td id=\"T_e7ada_row8_col1\" class=\"data row8 col1\" >2017-12-01</td>\n",
       "      <td id=\"T_e7ada_row8_col2\" class=\"data row8 col2\" >46924</td>\n",
       "      <td id=\"T_e7ada_row8_col3\" class=\"data row8 col3\" >12</td>\n",
       "      <td id=\"T_e7ada_row8_col4\" class=\"data row8 col4\" >2021-12-01</td>\n",
       "      <td id=\"T_e7ada_row8_col5\" class=\"data row8 col5\" >109162</td>\n",
       "      <td id=\"T_e7ada_row8_col6\" class=\"data row8 col6\" >6218959151</td>\n",
       "      <td id=\"T_e7ada_row8_col7\" class=\"data row8 col7\" >other</td>\n",
       "      <td id=\"T_e7ada_row8_col8\" class=\"data row8 col8\" >Carnesville</td>\n",
       "      <td id=\"T_e7ada_row8_col9\" class=\"data row8 col9\" >GA</td>\n",
       "      <td id=\"T_e7ada_row8_col10\" class=\"data row8 col10\" >30521</td>\n",
       "      <td id=\"T_e7ada_row8_col11\" class=\"data row8 col11\" >34.369827</td>\n",
       "      <td id=\"T_e7ada_row8_col12\" class=\"data row8 col12\" >-83.235155</td>\n",
       "      <td id=\"T_e7ada_row8_col13\" class=\"data row8 col13\" >enterprise</td>\n",
       "      <td id=\"T_e7ada_row8_col14\" class=\"data row8 col14\" >business_essentials</td>\n",
       "      <td id=\"T_e7ada_row8_col15\" class=\"data row8 col15\" >5.000000</td>\n",
       "    </tr>\n",
       "    <tr>\n",
       "      <th id=\"T_e7ada_level0_row9\" class=\"row_heading level0 row9\" >9</th>\n",
       "      <td id=\"T_e7ada_row9_col0\" class=\"data row9 col0\" >Advanced Signal Bell</td>\n",
       "      <td id=\"T_e7ada_row9_col1\" class=\"data row9 col1\" >2016-04-01</td>\n",
       "      <td id=\"T_e7ada_row9_col2\" class=\"data row9 col2\" >81226</td>\n",
       "      <td id=\"T_e7ada_row9_col3\" class=\"data row9 col3\" >24</td>\n",
       "      <td id=\"T_e7ada_row9_col4\" class=\"data row9 col4\" >2023-04-01</td>\n",
       "      <td id=\"T_e7ada_row9_col5\" class=\"data row9 col5\" >224550</td>\n",
       "      <td id=\"T_e7ada_row9_col6\" class=\"data row9 col6\" >20634374483</td>\n",
       "      <td id=\"T_e7ada_row9_col7\" class=\"data row9 col7\" >financial services</td>\n",
       "      <td id=\"T_e7ada_row9_col8\" class=\"data row9 col8\" >Jefferson</td>\n",
       "      <td id=\"T_e7ada_row9_col9\" class=\"data row9 col9\" >MA</td>\n",
       "      <td id=\"T_e7ada_row9_col10\" class=\"data row9 col10\" >1522</td>\n",
       "      <td id=\"T_e7ada_row9_col11\" class=\"data row9 col11\" >44.059311</td>\n",
       "      <td id=\"T_e7ada_row9_col12\" class=\"data row9 col12\" >-75.999574</td>\n",
       "      <td id=\"T_e7ada_row9_col13\" class=\"data row9 col13\" >starter_pack</td>\n",
       "      <td id=\"T_e7ada_row9_col14\" class=\"data row9 col14\" >starter_pack</td>\n",
       "      <td id=\"T_e7ada_row9_col15\" class=\"data row9 col15\" >0.000000</td>\n",
       "    </tr>\n",
       "  </tbody>\n",
       "</table>\n"
      ],
      "text/plain": [
       "<pandas.io.formats.style.Styler at 0x13b5397b0>"
      ]
     },
     "execution_count": 846,
     "metadata": {},
     "output_type": "execute_result"
    }
   ],
   "source": [
    "melted_sample = melted.loc[:, melted.columns.isin(cols_to_keep)]\n",
    "plot_overlaid_prediction_explanations(melted_sample, sample=10)"
   ]
  },
  {
   "cell_type": "markdown",
   "id": "677cc8d9",
   "metadata": {},
   "source": [
    "## Let's look at how our features may have drifted over time"
   ]
  },
  {
   "cell_type": "code",
   "execution_count": 847,
   "id": "3d0daad3",
   "metadata": {},
   "outputs": [
    {
     "data": {
      "application/vnd.plotly.v1+json": {
       "config": {
        "plotlyServerURL": "https://plot.ly"
       },
       "data": [
        {
         "marker": {
          "color": "Black",
          "size": 6
         },
         "mode": "lines+markers",
         "name": "Average Prediction",
         "type": "scatter",
         "x": [
          "2021Q2",
          "2021Q3",
          "2021Q4",
          "2022Q1",
          "2022Q2",
          "2022Q3",
          "2022Q4"
         ],
         "xaxis": "x",
         "y": [
          0.170002533304,
          0.20416785050463576,
          0.1996481571112676,
          0.21919375622042253,
          0.2111936538758389,
          0.231301792225731,
          0.18858025270652176
         ],
         "yaxis": "y2"
        },
        {
         "line": {
          "color": "lightblue",
          "width": 3
         },
         "mode": "lines+markers",
         "name": "25th Percentile",
         "type": "scatter",
         "x": [
          "2021Q2",
          "2021Q3",
          "2021Q4",
          "2022Q1",
          "2022Q2",
          "2022Q3",
          "2022Q4"
         ],
         "y": [
          1,
          1,
          1,
          1,
          1,
          1,
          1
         ]
        },
        {
         "line": {
          "color": "blue",
          "width": 3
         },
         "mode": "lines+markers",
         "name": "50th Percentile",
         "type": "scatter",
         "x": [
          "2021Q2",
          "2021Q3",
          "2021Q4",
          "2022Q1",
          "2022Q2",
          "2022Q3",
          "2022Q4"
         ],
         "y": [
          5,
          3,
          3,
          3,
          3,
          3,
          4
         ]
        },
        {
         "line": {
          "color": "blue",
          "dash": "dash",
          "width": 3
         },
         "mode": "lines+markers",
         "name": "Average",
         "type": "scatter",
         "x": [
          "2021Q2",
          "2021Q3",
          "2021Q4",
          "2022Q1",
          "2022Q2",
          "2022Q3",
          "2022Q4"
         ],
         "y": [
          7.093333333333334,
          5.562913907284768,
          4.985915492957746,
          5.901408450704225,
          5.771812080536913,
          5.12280701754386,
          6.565217391304348
         ]
        },
        {
         "line": {
          "color": "lightblue",
          "width": 3
         },
         "mode": "lines+markers",
         "name": "75th Percentile",
         "type": "scatter",
         "x": [
          "2021Q2",
          "2021Q3",
          "2021Q4",
          "2022Q1",
          "2022Q2",
          "2022Q3",
          "2022Q4"
         ],
         "y": [
          11,
          8,
          6,
          9,
          7,
          6,
          9
         ]
        }
       ],
       "layout": {
        "height": 500,
        "hoverlabel": {
         "bgcolor": "white",
         "font": {
          "family": "Rockwell",
          "size": 16
         },
         "namelength": -1
        },
        "legend": {
         "bgcolor": "rgba(255, 255, 255, 0)",
         "bordercolor": "rgba(255, 255, 255, 0)",
         "x": 1.1,
         "xanchor": "left",
         "y": 1,
         "yanchor": "top"
        },
        "plot_bgcolor": "rgba(0,0,0,0)",
        "showlegend": true,
        "template": {
         "data": {
          "bar": [
           {
            "error_x": {
             "color": "#2a3f5f"
            },
            "error_y": {
             "color": "#2a3f5f"
            },
            "marker": {
             "line": {
              "color": "#E5ECF6",
              "width": 0.5
             },
             "pattern": {
              "fillmode": "overlay",
              "size": 10,
              "solidity": 0.2
             }
            },
            "type": "bar"
           }
          ],
          "barpolar": [
           {
            "marker": {
             "line": {
              "color": "#E5ECF6",
              "width": 0.5
             },
             "pattern": {
              "fillmode": "overlay",
              "size": 10,
              "solidity": 0.2
             }
            },
            "type": "barpolar"
           }
          ],
          "carpet": [
           {
            "aaxis": {
             "endlinecolor": "#2a3f5f",
             "gridcolor": "white",
             "linecolor": "white",
             "minorgridcolor": "white",
             "startlinecolor": "#2a3f5f"
            },
            "baxis": {
             "endlinecolor": "#2a3f5f",
             "gridcolor": "white",
             "linecolor": "white",
             "minorgridcolor": "white",
             "startlinecolor": "#2a3f5f"
            },
            "type": "carpet"
           }
          ],
          "choropleth": [
           {
            "colorbar": {
             "outlinewidth": 0,
             "ticks": ""
            },
            "type": "choropleth"
           }
          ],
          "contour": [
           {
            "colorbar": {
             "outlinewidth": 0,
             "ticks": ""
            },
            "colorscale": [
             [
              0,
              "#0d0887"
             ],
             [
              0.1111111111111111,
              "#46039f"
             ],
             [
              0.2222222222222222,
              "#7201a8"
             ],
             [
              0.3333333333333333,
              "#9c179e"
             ],
             [
              0.4444444444444444,
              "#bd3786"
             ],
             [
              0.5555555555555556,
              "#d8576b"
             ],
             [
              0.6666666666666666,
              "#ed7953"
             ],
             [
              0.7777777777777778,
              "#fb9f3a"
             ],
             [
              0.8888888888888888,
              "#fdca26"
             ],
             [
              1,
              "#f0f921"
             ]
            ],
            "type": "contour"
           }
          ],
          "contourcarpet": [
           {
            "colorbar": {
             "outlinewidth": 0,
             "ticks": ""
            },
            "type": "contourcarpet"
           }
          ],
          "heatmap": [
           {
            "colorbar": {
             "outlinewidth": 0,
             "ticks": ""
            },
            "colorscale": [
             [
              0,
              "#0d0887"
             ],
             [
              0.1111111111111111,
              "#46039f"
             ],
             [
              0.2222222222222222,
              "#7201a8"
             ],
             [
              0.3333333333333333,
              "#9c179e"
             ],
             [
              0.4444444444444444,
              "#bd3786"
             ],
             [
              0.5555555555555556,
              "#d8576b"
             ],
             [
              0.6666666666666666,
              "#ed7953"
             ],
             [
              0.7777777777777778,
              "#fb9f3a"
             ],
             [
              0.8888888888888888,
              "#fdca26"
             ],
             [
              1,
              "#f0f921"
             ]
            ],
            "type": "heatmap"
           }
          ],
          "heatmapgl": [
           {
            "colorbar": {
             "outlinewidth": 0,
             "ticks": ""
            },
            "colorscale": [
             [
              0,
              "#0d0887"
             ],
             [
              0.1111111111111111,
              "#46039f"
             ],
             [
              0.2222222222222222,
              "#7201a8"
             ],
             [
              0.3333333333333333,
              "#9c179e"
             ],
             [
              0.4444444444444444,
              "#bd3786"
             ],
             [
              0.5555555555555556,
              "#d8576b"
             ],
             [
              0.6666666666666666,
              "#ed7953"
             ],
             [
              0.7777777777777778,
              "#fb9f3a"
             ],
             [
              0.8888888888888888,
              "#fdca26"
             ],
             [
              1,
              "#f0f921"
             ]
            ],
            "type": "heatmapgl"
           }
          ],
          "histogram": [
           {
            "marker": {
             "pattern": {
              "fillmode": "overlay",
              "size": 10,
              "solidity": 0.2
             }
            },
            "type": "histogram"
           }
          ],
          "histogram2d": [
           {
            "colorbar": {
             "outlinewidth": 0,
             "ticks": ""
            },
            "colorscale": [
             [
              0,
              "#0d0887"
             ],
             [
              0.1111111111111111,
              "#46039f"
             ],
             [
              0.2222222222222222,
              "#7201a8"
             ],
             [
              0.3333333333333333,
              "#9c179e"
             ],
             [
              0.4444444444444444,
              "#bd3786"
             ],
             [
              0.5555555555555556,
              "#d8576b"
             ],
             [
              0.6666666666666666,
              "#ed7953"
             ],
             [
              0.7777777777777778,
              "#fb9f3a"
             ],
             [
              0.8888888888888888,
              "#fdca26"
             ],
             [
              1,
              "#f0f921"
             ]
            ],
            "type": "histogram2d"
           }
          ],
          "histogram2dcontour": [
           {
            "colorbar": {
             "outlinewidth": 0,
             "ticks": ""
            },
            "colorscale": [
             [
              0,
              "#0d0887"
             ],
             [
              0.1111111111111111,
              "#46039f"
             ],
             [
              0.2222222222222222,
              "#7201a8"
             ],
             [
              0.3333333333333333,
              "#9c179e"
             ],
             [
              0.4444444444444444,
              "#bd3786"
             ],
             [
              0.5555555555555556,
              "#d8576b"
             ],
             [
              0.6666666666666666,
              "#ed7953"
             ],
             [
              0.7777777777777778,
              "#fb9f3a"
             ],
             [
              0.8888888888888888,
              "#fdca26"
             ],
             [
              1,
              "#f0f921"
             ]
            ],
            "type": "histogram2dcontour"
           }
          ],
          "mesh3d": [
           {
            "colorbar": {
             "outlinewidth": 0,
             "ticks": ""
            },
            "type": "mesh3d"
           }
          ],
          "parcoords": [
           {
            "line": {
             "colorbar": {
              "outlinewidth": 0,
              "ticks": ""
             }
            },
            "type": "parcoords"
           }
          ],
          "pie": [
           {
            "automargin": true,
            "type": "pie"
           }
          ],
          "scatter": [
           {
            "fillpattern": {
             "fillmode": "overlay",
             "size": 10,
             "solidity": 0.2
            },
            "type": "scatter"
           }
          ],
          "scatter3d": [
           {
            "line": {
             "colorbar": {
              "outlinewidth": 0,
              "ticks": ""
             }
            },
            "marker": {
             "colorbar": {
              "outlinewidth": 0,
              "ticks": ""
             }
            },
            "type": "scatter3d"
           }
          ],
          "scattercarpet": [
           {
            "marker": {
             "colorbar": {
              "outlinewidth": 0,
              "ticks": ""
             }
            },
            "type": "scattercarpet"
           }
          ],
          "scattergeo": [
           {
            "marker": {
             "colorbar": {
              "outlinewidth": 0,
              "ticks": ""
             }
            },
            "type": "scattergeo"
           }
          ],
          "scattergl": [
           {
            "marker": {
             "colorbar": {
              "outlinewidth": 0,
              "ticks": ""
             }
            },
            "type": "scattergl"
           }
          ],
          "scattermapbox": [
           {
            "marker": {
             "colorbar": {
              "outlinewidth": 0,
              "ticks": ""
             }
            },
            "type": "scattermapbox"
           }
          ],
          "scatterpolar": [
           {
            "marker": {
             "colorbar": {
              "outlinewidth": 0,
              "ticks": ""
             }
            },
            "type": "scatterpolar"
           }
          ],
          "scatterpolargl": [
           {
            "marker": {
             "colorbar": {
              "outlinewidth": 0,
              "ticks": ""
             }
            },
            "type": "scatterpolargl"
           }
          ],
          "scatterternary": [
           {
            "marker": {
             "colorbar": {
              "outlinewidth": 0,
              "ticks": ""
             }
            },
            "type": "scatterternary"
           }
          ],
          "surface": [
           {
            "colorbar": {
             "outlinewidth": 0,
             "ticks": ""
            },
            "colorscale": [
             [
              0,
              "#0d0887"
             ],
             [
              0.1111111111111111,
              "#46039f"
             ],
             [
              0.2222222222222222,
              "#7201a8"
             ],
             [
              0.3333333333333333,
              "#9c179e"
             ],
             [
              0.4444444444444444,
              "#bd3786"
             ],
             [
              0.5555555555555556,
              "#d8576b"
             ],
             [
              0.6666666666666666,
              "#ed7953"
             ],
             [
              0.7777777777777778,
              "#fb9f3a"
             ],
             [
              0.8888888888888888,
              "#fdca26"
             ],
             [
              1,
              "#f0f921"
             ]
            ],
            "type": "surface"
           }
          ],
          "table": [
           {
            "cells": {
             "fill": {
              "color": "#EBF0F8"
             },
             "line": {
              "color": "white"
             }
            },
            "header": {
             "fill": {
              "color": "#C8D4E3"
             },
             "line": {
              "color": "white"
             }
            },
            "type": "table"
           }
          ]
         },
         "layout": {
          "annotationdefaults": {
           "arrowcolor": "#2a3f5f",
           "arrowhead": 0,
           "arrowwidth": 1
          },
          "autotypenumbers": "strict",
          "coloraxis": {
           "colorbar": {
            "outlinewidth": 0,
            "ticks": ""
           }
          },
          "colorscale": {
           "diverging": [
            [
             0,
             "#8e0152"
            ],
            [
             0.1,
             "#c51b7d"
            ],
            [
             0.2,
             "#de77ae"
            ],
            [
             0.3,
             "#f1b6da"
            ],
            [
             0.4,
             "#fde0ef"
            ],
            [
             0.5,
             "#f7f7f7"
            ],
            [
             0.6,
             "#e6f5d0"
            ],
            [
             0.7,
             "#b8e186"
            ],
            [
             0.8,
             "#7fbc41"
            ],
            [
             0.9,
             "#4d9221"
            ],
            [
             1,
             "#276419"
            ]
           ],
           "sequential": [
            [
             0,
             "#0d0887"
            ],
            [
             0.1111111111111111,
             "#46039f"
            ],
            [
             0.2222222222222222,
             "#7201a8"
            ],
            [
             0.3333333333333333,
             "#9c179e"
            ],
            [
             0.4444444444444444,
             "#bd3786"
            ],
            [
             0.5555555555555556,
             "#d8576b"
            ],
            [
             0.6666666666666666,
             "#ed7953"
            ],
            [
             0.7777777777777778,
             "#fb9f3a"
            ],
            [
             0.8888888888888888,
             "#fdca26"
            ],
            [
             1,
             "#f0f921"
            ]
           ],
           "sequentialminus": [
            [
             0,
             "#0d0887"
            ],
            [
             0.1111111111111111,
             "#46039f"
            ],
            [
             0.2222222222222222,
             "#7201a8"
            ],
            [
             0.3333333333333333,
             "#9c179e"
            ],
            [
             0.4444444444444444,
             "#bd3786"
            ],
            [
             0.5555555555555556,
             "#d8576b"
            ],
            [
             0.6666666666666666,
             "#ed7953"
            ],
            [
             0.7777777777777778,
             "#fb9f3a"
            ],
            [
             0.8888888888888888,
             "#fdca26"
            ],
            [
             1,
             "#f0f921"
            ]
           ]
          },
          "colorway": [
           "#636efa",
           "#EF553B",
           "#00cc96",
           "#ab63fa",
           "#FFA15A",
           "#19d3f3",
           "#FF6692",
           "#B6E880",
           "#FF97FF",
           "#FECB52"
          ],
          "font": {
           "color": "#2a3f5f"
          },
          "geo": {
           "bgcolor": "white",
           "lakecolor": "white",
           "landcolor": "#E5ECF6",
           "showlakes": true,
           "showland": true,
           "subunitcolor": "white"
          },
          "hoverlabel": {
           "align": "left"
          },
          "hovermode": "closest",
          "mapbox": {
           "style": "light"
          },
          "paper_bgcolor": "white",
          "plot_bgcolor": "#E5ECF6",
          "polar": {
           "angularaxis": {
            "gridcolor": "white",
            "linecolor": "white",
            "ticks": ""
           },
           "bgcolor": "#E5ECF6",
           "radialaxis": {
            "gridcolor": "white",
            "linecolor": "white",
            "ticks": ""
           }
          },
          "scene": {
           "xaxis": {
            "backgroundcolor": "#E5ECF6",
            "gridcolor": "white",
            "gridwidth": 2,
            "linecolor": "white",
            "showbackground": true,
            "ticks": "",
            "zerolinecolor": "white"
           },
           "yaxis": {
            "backgroundcolor": "#E5ECF6",
            "gridcolor": "white",
            "gridwidth": 2,
            "linecolor": "white",
            "showbackground": true,
            "ticks": "",
            "zerolinecolor": "white"
           },
           "zaxis": {
            "backgroundcolor": "#E5ECF6",
            "gridcolor": "white",
            "gridwidth": 2,
            "linecolor": "white",
            "showbackground": true,
            "ticks": "",
            "zerolinecolor": "white"
           }
          },
          "shapedefaults": {
           "line": {
            "color": "#2a3f5f"
           }
          },
          "ternary": {
           "aaxis": {
            "gridcolor": "white",
            "linecolor": "white",
            "ticks": ""
           },
           "baxis": {
            "gridcolor": "white",
            "linecolor": "white",
            "ticks": ""
           },
           "bgcolor": "#E5ECF6",
           "caxis": {
            "gridcolor": "white",
            "linecolor": "white",
            "ticks": ""
           }
          },
          "title": {
           "x": 0.05
          },
          "xaxis": {
           "automargin": true,
           "gridcolor": "white",
           "linecolor": "white",
           "ticks": "",
           "title": {
            "standoff": 15
           },
           "zerolinecolor": "white",
           "zerolinewidth": 2
          },
          "yaxis": {
           "automargin": true,
           "gridcolor": "white",
           "linecolor": "white",
           "ticks": "",
           "title": {
            "standoff": 15
           },
           "zerolinecolor": "white",
           "zerolinewidth": 2
          }
         }
        },
        "xaxis": {
         "anchor": "y",
         "domain": [
          0,
          0.94
         ],
         "linecolor": "black",
         "linewidth": 1,
         "showline": true,
         "title": {
          "text": "Date"
         }
        },
        "yaxis": {
         "anchor": "x",
         "domain": [
          0,
          1
         ],
         "gridcolor": "lightgray",
         "gridwidth": 1,
         "linecolor": "black",
         "linewidth": 1,
         "showgrid": true,
         "showline": true,
         "title": {
          "text": "Product_Usage (1 month count)"
         }
        },
        "yaxis2": {
         "anchor": "x",
         "gridcolor": "lightgray",
         "gridwidth": 1,
         "linecolor": "black",
         "linewidth": 1,
         "overlaying": "y",
         "showgrid": true,
         "showline": true,
         "side": "right",
         "tickformat": ",.0%",
         "title": {
          "text": "Average Prediction"
         }
        }
       }
      },
      "text/html": [
       "<div>                            <div id=\"f4802102-6900-4e2f-a256-1cd800e6c682\" class=\"plotly-graph-div\" style=\"height:500px; width:100%;\"></div>            <script type=\"text/javascript\">                require([\"plotly\"], function(Plotly) {                    window.PLOTLYENV=window.PLOTLYENV || {};                                    if (document.getElementById(\"f4802102-6900-4e2f-a256-1cd800e6c682\")) {                    Plotly.newPlot(                        \"f4802102-6900-4e2f-a256-1cd800e6c682\",                        [{\"marker\":{\"color\":\"Black\",\"size\":6},\"mode\":\"lines+markers\",\"name\":\"Average Prediction\",\"x\":[\"2021Q2\",\"2021Q3\",\"2021Q4\",\"2022Q1\",\"2022Q2\",\"2022Q3\",\"2022Q4\"],\"y\":[0.170002533304,0.20416785050463576,0.1996481571112676,0.21919375622042253,0.2111936538758389,0.231301792225731,0.18858025270652176],\"type\":\"scatter\",\"xaxis\":\"x\",\"yaxis\":\"y2\"},{\"line\":{\"color\":\"lightblue\",\"width\":3},\"mode\":\"lines+markers\",\"name\":\"25th Percentile\",\"x\":[\"2021Q2\",\"2021Q3\",\"2021Q4\",\"2022Q1\",\"2022Q2\",\"2022Q3\",\"2022Q4\"],\"y\":[1.0,1.0,1.0,1.0,1.0,1.0,1.0],\"type\":\"scatter\"},{\"line\":{\"color\":\"blue\",\"width\":3},\"mode\":\"lines+markers\",\"name\":\"50th Percentile\",\"x\":[\"2021Q2\",\"2021Q3\",\"2021Q4\",\"2022Q1\",\"2022Q2\",\"2022Q3\",\"2022Q4\"],\"y\":[5.0,3.0,3.0,3.0,3.0,3.0,4.0],\"type\":\"scatter\"},{\"line\":{\"color\":\"blue\",\"dash\":\"dash\",\"width\":3},\"mode\":\"lines+markers\",\"name\":\"Average\",\"x\":[\"2021Q2\",\"2021Q3\",\"2021Q4\",\"2022Q1\",\"2022Q2\",\"2022Q3\",\"2022Q4\"],\"y\":[7.093333333333334,5.562913907284768,4.985915492957746,5.901408450704225,5.771812080536913,5.12280701754386,6.565217391304348],\"type\":\"scatter\"},{\"line\":{\"color\":\"lightblue\",\"width\":3},\"mode\":\"lines+markers\",\"name\":\"75th Percentile\",\"x\":[\"2021Q2\",\"2021Q3\",\"2021Q4\",\"2022Q1\",\"2022Q2\",\"2022Q3\",\"2022Q4\"],\"y\":[11.0,8.0,6.0,9.0,7.0,6.0,9.0],\"type\":\"scatter\"}],                        {\"template\":{\"data\":{\"histogram2dcontour\":[{\"type\":\"histogram2dcontour\",\"colorbar\":{\"outlinewidth\":0,\"ticks\":\"\"},\"colorscale\":[[0.0,\"#0d0887\"],[0.1111111111111111,\"#46039f\"],[0.2222222222222222,\"#7201a8\"],[0.3333333333333333,\"#9c179e\"],[0.4444444444444444,\"#bd3786\"],[0.5555555555555556,\"#d8576b\"],[0.6666666666666666,\"#ed7953\"],[0.7777777777777778,\"#fb9f3a\"],[0.8888888888888888,\"#fdca26\"],[1.0,\"#f0f921\"]]}],\"choropleth\":[{\"type\":\"choropleth\",\"colorbar\":{\"outlinewidth\":0,\"ticks\":\"\"}}],\"histogram2d\":[{\"type\":\"histogram2d\",\"colorbar\":{\"outlinewidth\":0,\"ticks\":\"\"},\"colorscale\":[[0.0,\"#0d0887\"],[0.1111111111111111,\"#46039f\"],[0.2222222222222222,\"#7201a8\"],[0.3333333333333333,\"#9c179e\"],[0.4444444444444444,\"#bd3786\"],[0.5555555555555556,\"#d8576b\"],[0.6666666666666666,\"#ed7953\"],[0.7777777777777778,\"#fb9f3a\"],[0.8888888888888888,\"#fdca26\"],[1.0,\"#f0f921\"]]}],\"heatmap\":[{\"type\":\"heatmap\",\"colorbar\":{\"outlinewidth\":0,\"ticks\":\"\"},\"colorscale\":[[0.0,\"#0d0887\"],[0.1111111111111111,\"#46039f\"],[0.2222222222222222,\"#7201a8\"],[0.3333333333333333,\"#9c179e\"],[0.4444444444444444,\"#bd3786\"],[0.5555555555555556,\"#d8576b\"],[0.6666666666666666,\"#ed7953\"],[0.7777777777777778,\"#fb9f3a\"],[0.8888888888888888,\"#fdca26\"],[1.0,\"#f0f921\"]]}],\"heatmapgl\":[{\"type\":\"heatmapgl\",\"colorbar\":{\"outlinewidth\":0,\"ticks\":\"\"},\"colorscale\":[[0.0,\"#0d0887\"],[0.1111111111111111,\"#46039f\"],[0.2222222222222222,\"#7201a8\"],[0.3333333333333333,\"#9c179e\"],[0.4444444444444444,\"#bd3786\"],[0.5555555555555556,\"#d8576b\"],[0.6666666666666666,\"#ed7953\"],[0.7777777777777778,\"#fb9f3a\"],[0.8888888888888888,\"#fdca26\"],[1.0,\"#f0f921\"]]}],\"contourcarpet\":[{\"type\":\"contourcarpet\",\"colorbar\":{\"outlinewidth\":0,\"ticks\":\"\"}}],\"contour\":[{\"type\":\"contour\",\"colorbar\":{\"outlinewidth\":0,\"ticks\":\"\"},\"colorscale\":[[0.0,\"#0d0887\"],[0.1111111111111111,\"#46039f\"],[0.2222222222222222,\"#7201a8\"],[0.3333333333333333,\"#9c179e\"],[0.4444444444444444,\"#bd3786\"],[0.5555555555555556,\"#d8576b\"],[0.6666666666666666,\"#ed7953\"],[0.7777777777777778,\"#fb9f3a\"],[0.8888888888888888,\"#fdca26\"],[1.0,\"#f0f921\"]]}],\"surface\":[{\"type\":\"surface\",\"colorbar\":{\"outlinewidth\":0,\"ticks\":\"\"},\"colorscale\":[[0.0,\"#0d0887\"],[0.1111111111111111,\"#46039f\"],[0.2222222222222222,\"#7201a8\"],[0.3333333333333333,\"#9c179e\"],[0.4444444444444444,\"#bd3786\"],[0.5555555555555556,\"#d8576b\"],[0.6666666666666666,\"#ed7953\"],[0.7777777777777778,\"#fb9f3a\"],[0.8888888888888888,\"#fdca26\"],[1.0,\"#f0f921\"]]}],\"mesh3d\":[{\"type\":\"mesh3d\",\"colorbar\":{\"outlinewidth\":0,\"ticks\":\"\"}}],\"scatter\":[{\"fillpattern\":{\"fillmode\":\"overlay\",\"size\":10,\"solidity\":0.2},\"type\":\"scatter\"}],\"parcoords\":[{\"type\":\"parcoords\",\"line\":{\"colorbar\":{\"outlinewidth\":0,\"ticks\":\"\"}}}],\"scatterpolargl\":[{\"type\":\"scatterpolargl\",\"marker\":{\"colorbar\":{\"outlinewidth\":0,\"ticks\":\"\"}}}],\"bar\":[{\"error_x\":{\"color\":\"#2a3f5f\"},\"error_y\":{\"color\":\"#2a3f5f\"},\"marker\":{\"line\":{\"color\":\"#E5ECF6\",\"width\":0.5},\"pattern\":{\"fillmode\":\"overlay\",\"size\":10,\"solidity\":0.2}},\"type\":\"bar\"}],\"scattergeo\":[{\"type\":\"scattergeo\",\"marker\":{\"colorbar\":{\"outlinewidth\":0,\"ticks\":\"\"}}}],\"scatterpolar\":[{\"type\":\"scatterpolar\",\"marker\":{\"colorbar\":{\"outlinewidth\":0,\"ticks\":\"\"}}}],\"histogram\":[{\"marker\":{\"pattern\":{\"fillmode\":\"overlay\",\"size\":10,\"solidity\":0.2}},\"type\":\"histogram\"}],\"scattergl\":[{\"type\":\"scattergl\",\"marker\":{\"colorbar\":{\"outlinewidth\":0,\"ticks\":\"\"}}}],\"scatter3d\":[{\"type\":\"scatter3d\",\"line\":{\"colorbar\":{\"outlinewidth\":0,\"ticks\":\"\"}},\"marker\":{\"colorbar\":{\"outlinewidth\":0,\"ticks\":\"\"}}}],\"scattermapbox\":[{\"type\":\"scattermapbox\",\"marker\":{\"colorbar\":{\"outlinewidth\":0,\"ticks\":\"\"}}}],\"scatterternary\":[{\"type\":\"scatterternary\",\"marker\":{\"colorbar\":{\"outlinewidth\":0,\"ticks\":\"\"}}}],\"scattercarpet\":[{\"type\":\"scattercarpet\",\"marker\":{\"colorbar\":{\"outlinewidth\":0,\"ticks\":\"\"}}}],\"carpet\":[{\"aaxis\":{\"endlinecolor\":\"#2a3f5f\",\"gridcolor\":\"white\",\"linecolor\":\"white\",\"minorgridcolor\":\"white\",\"startlinecolor\":\"#2a3f5f\"},\"baxis\":{\"endlinecolor\":\"#2a3f5f\",\"gridcolor\":\"white\",\"linecolor\":\"white\",\"minorgridcolor\":\"white\",\"startlinecolor\":\"#2a3f5f\"},\"type\":\"carpet\"}],\"table\":[{\"cells\":{\"fill\":{\"color\":\"#EBF0F8\"},\"line\":{\"color\":\"white\"}},\"header\":{\"fill\":{\"color\":\"#C8D4E3\"},\"line\":{\"color\":\"white\"}},\"type\":\"table\"}],\"barpolar\":[{\"marker\":{\"line\":{\"color\":\"#E5ECF6\",\"width\":0.5},\"pattern\":{\"fillmode\":\"overlay\",\"size\":10,\"solidity\":0.2}},\"type\":\"barpolar\"}],\"pie\":[{\"automargin\":true,\"type\":\"pie\"}]},\"layout\":{\"autotypenumbers\":\"strict\",\"colorway\":[\"#636efa\",\"#EF553B\",\"#00cc96\",\"#ab63fa\",\"#FFA15A\",\"#19d3f3\",\"#FF6692\",\"#B6E880\",\"#FF97FF\",\"#FECB52\"],\"font\":{\"color\":\"#2a3f5f\"},\"hovermode\":\"closest\",\"hoverlabel\":{\"align\":\"left\"},\"paper_bgcolor\":\"white\",\"plot_bgcolor\":\"#E5ECF6\",\"polar\":{\"bgcolor\":\"#E5ECF6\",\"angularaxis\":{\"gridcolor\":\"white\",\"linecolor\":\"white\",\"ticks\":\"\"},\"radialaxis\":{\"gridcolor\":\"white\",\"linecolor\":\"white\",\"ticks\":\"\"}},\"ternary\":{\"bgcolor\":\"#E5ECF6\",\"aaxis\":{\"gridcolor\":\"white\",\"linecolor\":\"white\",\"ticks\":\"\"},\"baxis\":{\"gridcolor\":\"white\",\"linecolor\":\"white\",\"ticks\":\"\"},\"caxis\":{\"gridcolor\":\"white\",\"linecolor\":\"white\",\"ticks\":\"\"}},\"coloraxis\":{\"colorbar\":{\"outlinewidth\":0,\"ticks\":\"\"}},\"colorscale\":{\"sequential\":[[0.0,\"#0d0887\"],[0.1111111111111111,\"#46039f\"],[0.2222222222222222,\"#7201a8\"],[0.3333333333333333,\"#9c179e\"],[0.4444444444444444,\"#bd3786\"],[0.5555555555555556,\"#d8576b\"],[0.6666666666666666,\"#ed7953\"],[0.7777777777777778,\"#fb9f3a\"],[0.8888888888888888,\"#fdca26\"],[1.0,\"#f0f921\"]],\"sequentialminus\":[[0.0,\"#0d0887\"],[0.1111111111111111,\"#46039f\"],[0.2222222222222222,\"#7201a8\"],[0.3333333333333333,\"#9c179e\"],[0.4444444444444444,\"#bd3786\"],[0.5555555555555556,\"#d8576b\"],[0.6666666666666666,\"#ed7953\"],[0.7777777777777778,\"#fb9f3a\"],[0.8888888888888888,\"#fdca26\"],[1.0,\"#f0f921\"]],\"diverging\":[[0,\"#8e0152\"],[0.1,\"#c51b7d\"],[0.2,\"#de77ae\"],[0.3,\"#f1b6da\"],[0.4,\"#fde0ef\"],[0.5,\"#f7f7f7\"],[0.6,\"#e6f5d0\"],[0.7,\"#b8e186\"],[0.8,\"#7fbc41\"],[0.9,\"#4d9221\"],[1,\"#276419\"]]},\"xaxis\":{\"gridcolor\":\"white\",\"linecolor\":\"white\",\"ticks\":\"\",\"title\":{\"standoff\":15},\"zerolinecolor\":\"white\",\"automargin\":true,\"zerolinewidth\":2},\"yaxis\":{\"gridcolor\":\"white\",\"linecolor\":\"white\",\"ticks\":\"\",\"title\":{\"standoff\":15},\"zerolinecolor\":\"white\",\"automargin\":true,\"zerolinewidth\":2},\"scene\":{\"xaxis\":{\"backgroundcolor\":\"#E5ECF6\",\"gridcolor\":\"white\",\"linecolor\":\"white\",\"showbackground\":true,\"ticks\":\"\",\"zerolinecolor\":\"white\",\"gridwidth\":2},\"yaxis\":{\"backgroundcolor\":\"#E5ECF6\",\"gridcolor\":\"white\",\"linecolor\":\"white\",\"showbackground\":true,\"ticks\":\"\",\"zerolinecolor\":\"white\",\"gridwidth\":2},\"zaxis\":{\"backgroundcolor\":\"#E5ECF6\",\"gridcolor\":\"white\",\"linecolor\":\"white\",\"showbackground\":true,\"ticks\":\"\",\"zerolinecolor\":\"white\",\"gridwidth\":2}},\"shapedefaults\":{\"line\":{\"color\":\"#2a3f5f\"}},\"annotationdefaults\":{\"arrowcolor\":\"#2a3f5f\",\"arrowhead\":0,\"arrowwidth\":1},\"geo\":{\"bgcolor\":\"white\",\"landcolor\":\"#E5ECF6\",\"subunitcolor\":\"white\",\"showland\":true,\"showlakes\":true,\"lakecolor\":\"white\"},\"title\":{\"x\":0.05},\"mapbox\":{\"style\":\"light\"}}},\"xaxis\":{\"anchor\":\"y\",\"domain\":[0.0,0.94],\"title\":{\"text\":\"Date\"},\"showline\":true,\"linewidth\":1,\"linecolor\":\"black\"},\"yaxis\":{\"anchor\":\"x\",\"domain\":[0.0,1.0],\"title\":{\"text\":\"Product_Usage (1 month count)\"},\"showline\":true,\"linewidth\":1,\"linecolor\":\"black\",\"showgrid\":true,\"gridwidth\":1,\"gridcolor\":\"lightgray\"},\"yaxis2\":{\"anchor\":\"x\",\"overlaying\":\"y\",\"side\":\"right\",\"title\":{\"text\":\"Average Prediction\"},\"showline\":true,\"linewidth\":1,\"linecolor\":\"black\",\"showgrid\":true,\"gridwidth\":1,\"gridcolor\":\"lightgray\",\"tickformat\":\",.0%\"},\"legend\":{\"bgcolor\":\"rgba(255, 255, 255, 0)\",\"bordercolor\":\"rgba(255, 255, 255, 0)\",\"x\":1.1,\"y\":1,\"xanchor\":\"left\",\"yanchor\":\"top\"},\"hoverlabel\":{\"font\":{\"size\":16,\"family\":\"Rockwell\"},\"bgcolor\":\"white\",\"namelength\":-1},\"height\":500,\"plot_bgcolor\":\"rgba(0,0,0,0)\",\"showlegend\":true},                        {\"responsive\": true}                    ).then(function(){\n",
       "                            \n",
       "var gd = document.getElementById('f4802102-6900-4e2f-a256-1cd800e6c682');\n",
       "var x = new MutationObserver(function (mutations, observer) {{\n",
       "        var display = window.getComputedStyle(gd).display;\n",
       "        if (!display || display === 'none') {{\n",
       "            console.log([gd, 'removed!']);\n",
       "            Plotly.purge(gd);\n",
       "            observer.disconnect();\n",
       "        }}\n",
       "}});\n",
       "\n",
       "// Listen for the removal of the full notebook cells\n",
       "var notebookContainer = gd.closest('#notebook-container');\n",
       "if (notebookContainer) {{\n",
       "    x.observe(notebookContainer, {childList: true});\n",
       "}}\n",
       "\n",
       "// Listen for the clearing of the current output cell\n",
       "var outputEl = gd.closest('.output');\n",
       "if (outputEl) {{\n",
       "    x.observe(outputEl, {childList: true});\n",
       "}}\n",
       "\n",
       "                        })                };                });            </script>        </div>"
      ]
     },
     "metadata": {},
     "output_type": "display_data"
    }
   ],
   "source": [
    "plot_values_over_time(\n",
    "    melted, \n",
    "    project_id=project_id,\n",
    "    freq='Q',\n",
    "    date_col=date_col, \n",
    "    feature='Product_Usage (1 month count)',\n",
    "    showlegend=True,\n",
    ")"
   ]
  },
  {
   "cell_type": "code",
   "execution_count": 851,
   "id": "dfa896b0",
   "metadata": {},
   "outputs": [
    {
     "data": {
      "application/vnd.plotly.v1+json": {
       "config": {
        "plotlyServerURL": "https://plot.ly"
       },
       "data": [
        {
         "marker": {
          "color": "Black",
          "size": 6
         },
         "mode": "lines+markers",
         "name": "Average Prediction",
         "type": "scatter",
         "x": [
          "2021-05",
          "2021-06",
          "2021-07",
          "2021-08",
          "2021-09",
          "2021-10",
          "2021-11",
          "2021-12",
          "2022-01",
          "2022-02",
          "2022-03",
          "2022-04",
          "2022-05",
          "2022-06",
          "2022-07",
          "2022-08",
          "2022-09",
          "2022-10"
         ],
         "xaxis": "x",
         "y": [
          0.14801172654634145,
          0.1965208591,
          0.20547080180892857,
          0.20598831109230767,
          0.20159707843392857,
          0.1851522037170213,
          0.21340125482666666,
          0.200896565358,
          0.2737779106911111,
          0.18938573286585364,
          0.19715522061964286,
          0.1726287564827586,
          0.23840680454418606,
          0.23341445741875003,
          0.22531233636249998,
          0.2439082768568966,
          0.2244759118076923,
          0.18858025270652176
         ],
         "yaxis": "y2"
        },
        {
         "name": "starter_pack",
         "opacity": 0.5,
         "type": "bar",
         "x": [
          "2021-05",
          "2021-06",
          "2021-07",
          "2021-08",
          "2021-09",
          "2021-10",
          "2021-11",
          "2021-12",
          "2022-01",
          "2022-02",
          "2022-03",
          "2022-04",
          "2022-05",
          "2022-06",
          "2022-07",
          "2022-08",
          "2022-09",
          "2022-10"
         ],
         "y": [
          0.4146341463414634,
          0.4411764705882353,
          0.48214285714285715,
          0.3076923076923077,
          0.3392857142857143,
          0.23404255319148937,
          0.3333333333333333,
          0.34,
          0.4444444444444444,
          0.4146341463414634,
          0.21428571428571427,
          0.29310344827586204,
          0.2558139534883721,
          0.2708333333333333,
          0.375,
          0.3448275862068966,
          0.4307692307692308,
          0.3695652173913043
         ]
        },
        {
         "name": "enterprise",
         "opacity": 0.5,
         "type": "bar",
         "x": [
          "2021-05",
          "2021-06",
          "2021-07",
          "2021-08",
          "2021-09",
          "2021-10",
          "2021-11",
          "2021-12",
          "2022-01",
          "2022-02",
          "2022-03",
          "2022-04",
          "2022-05",
          "2022-06",
          "2022-07",
          "2022-08",
          "2022-09",
          "2022-10"
         ],
         "y": [
          0.34146341463414637,
          0.29411764705882354,
          0.32142857142857145,
          0.23076923076923078,
          0.35714285714285715,
          0.425531914893617,
          0.37777777777777777,
          0.3,
          0.2222222222222222,
          0.3170731707317073,
          0.32142857142857145,
          0.43103448275862066,
          0.32558139534883723,
          0.3958333333333333,
          0.3333333333333333,
          0.3103448275862069,
          0.24615384615384617,
          0.3695652173913043
         ]
        },
        {
         "name": "business_essentials",
         "opacity": 0.5,
         "type": "bar",
         "x": [
          "2021-05",
          "2021-06",
          "2021-07",
          "2021-08",
          "2021-09",
          "2021-10",
          "2021-11",
          "2021-12",
          "2022-01",
          "2022-02",
          "2022-03",
          "2022-04",
          "2022-05",
          "2022-06",
          "2022-07",
          "2022-08",
          "2022-09",
          "2022-10"
         ],
         "y": [
          0.24390243902439024,
          0.2647058823529412,
          0.19642857142857142,
          0.46153846153846156,
          0.30357142857142855,
          0.3404255319148936,
          0.28888888888888886,
          0.36,
          0.3333333333333333,
          0.2682926829268293,
          0.4642857142857143,
          0.27586206896551724,
          0.4186046511627907,
          0.3333333333333333,
          0.2916666666666667,
          0.3448275862068966,
          0.3230769230769231,
          0.2608695652173913
         ]
        }
       ],
       "layout": {
        "barmode": "relative",
        "height": 500,
        "hoverlabel": {
         "bgcolor": "white",
         "font": {
          "family": "Rockwell",
          "size": 16
         },
         "namelength": -1
        },
        "legend": {
         "bgcolor": "rgba(255, 255, 255, 0)",
         "bordercolor": "rgba(255, 255, 255, 0)",
         "x": 1.1,
         "xanchor": "left",
         "y": 1,
         "yanchor": "top"
        },
        "plot_bgcolor": "rgba(0,0,0,0)",
        "showlegend": true,
        "template": {
         "data": {
          "bar": [
           {
            "error_x": {
             "color": "#2a3f5f"
            },
            "error_y": {
             "color": "#2a3f5f"
            },
            "marker": {
             "line": {
              "color": "#E5ECF6",
              "width": 0.5
             },
             "pattern": {
              "fillmode": "overlay",
              "size": 10,
              "solidity": 0.2
             }
            },
            "type": "bar"
           }
          ],
          "barpolar": [
           {
            "marker": {
             "line": {
              "color": "#E5ECF6",
              "width": 0.5
             },
             "pattern": {
              "fillmode": "overlay",
              "size": 10,
              "solidity": 0.2
             }
            },
            "type": "barpolar"
           }
          ],
          "carpet": [
           {
            "aaxis": {
             "endlinecolor": "#2a3f5f",
             "gridcolor": "white",
             "linecolor": "white",
             "minorgridcolor": "white",
             "startlinecolor": "#2a3f5f"
            },
            "baxis": {
             "endlinecolor": "#2a3f5f",
             "gridcolor": "white",
             "linecolor": "white",
             "minorgridcolor": "white",
             "startlinecolor": "#2a3f5f"
            },
            "type": "carpet"
           }
          ],
          "choropleth": [
           {
            "colorbar": {
             "outlinewidth": 0,
             "ticks": ""
            },
            "type": "choropleth"
           }
          ],
          "contour": [
           {
            "colorbar": {
             "outlinewidth": 0,
             "ticks": ""
            },
            "colorscale": [
             [
              0,
              "#0d0887"
             ],
             [
              0.1111111111111111,
              "#46039f"
             ],
             [
              0.2222222222222222,
              "#7201a8"
             ],
             [
              0.3333333333333333,
              "#9c179e"
             ],
             [
              0.4444444444444444,
              "#bd3786"
             ],
             [
              0.5555555555555556,
              "#d8576b"
             ],
             [
              0.6666666666666666,
              "#ed7953"
             ],
             [
              0.7777777777777778,
              "#fb9f3a"
             ],
             [
              0.8888888888888888,
              "#fdca26"
             ],
             [
              1,
              "#f0f921"
             ]
            ],
            "type": "contour"
           }
          ],
          "contourcarpet": [
           {
            "colorbar": {
             "outlinewidth": 0,
             "ticks": ""
            },
            "type": "contourcarpet"
           }
          ],
          "heatmap": [
           {
            "colorbar": {
             "outlinewidth": 0,
             "ticks": ""
            },
            "colorscale": [
             [
              0,
              "#0d0887"
             ],
             [
              0.1111111111111111,
              "#46039f"
             ],
             [
              0.2222222222222222,
              "#7201a8"
             ],
             [
              0.3333333333333333,
              "#9c179e"
             ],
             [
              0.4444444444444444,
              "#bd3786"
             ],
             [
              0.5555555555555556,
              "#d8576b"
             ],
             [
              0.6666666666666666,
              "#ed7953"
             ],
             [
              0.7777777777777778,
              "#fb9f3a"
             ],
             [
              0.8888888888888888,
              "#fdca26"
             ],
             [
              1,
              "#f0f921"
             ]
            ],
            "type": "heatmap"
           }
          ],
          "heatmapgl": [
           {
            "colorbar": {
             "outlinewidth": 0,
             "ticks": ""
            },
            "colorscale": [
             [
              0,
              "#0d0887"
             ],
             [
              0.1111111111111111,
              "#46039f"
             ],
             [
              0.2222222222222222,
              "#7201a8"
             ],
             [
              0.3333333333333333,
              "#9c179e"
             ],
             [
              0.4444444444444444,
              "#bd3786"
             ],
             [
              0.5555555555555556,
              "#d8576b"
             ],
             [
              0.6666666666666666,
              "#ed7953"
             ],
             [
              0.7777777777777778,
              "#fb9f3a"
             ],
             [
              0.8888888888888888,
              "#fdca26"
             ],
             [
              1,
              "#f0f921"
             ]
            ],
            "type": "heatmapgl"
           }
          ],
          "histogram": [
           {
            "marker": {
             "pattern": {
              "fillmode": "overlay",
              "size": 10,
              "solidity": 0.2
             }
            },
            "type": "histogram"
           }
          ],
          "histogram2d": [
           {
            "colorbar": {
             "outlinewidth": 0,
             "ticks": ""
            },
            "colorscale": [
             [
              0,
              "#0d0887"
             ],
             [
              0.1111111111111111,
              "#46039f"
             ],
             [
              0.2222222222222222,
              "#7201a8"
             ],
             [
              0.3333333333333333,
              "#9c179e"
             ],
             [
              0.4444444444444444,
              "#bd3786"
             ],
             [
              0.5555555555555556,
              "#d8576b"
             ],
             [
              0.6666666666666666,
              "#ed7953"
             ],
             [
              0.7777777777777778,
              "#fb9f3a"
             ],
             [
              0.8888888888888888,
              "#fdca26"
             ],
             [
              1,
              "#f0f921"
             ]
            ],
            "type": "histogram2d"
           }
          ],
          "histogram2dcontour": [
           {
            "colorbar": {
             "outlinewidth": 0,
             "ticks": ""
            },
            "colorscale": [
             [
              0,
              "#0d0887"
             ],
             [
              0.1111111111111111,
              "#46039f"
             ],
             [
              0.2222222222222222,
              "#7201a8"
             ],
             [
              0.3333333333333333,
              "#9c179e"
             ],
             [
              0.4444444444444444,
              "#bd3786"
             ],
             [
              0.5555555555555556,
              "#d8576b"
             ],
             [
              0.6666666666666666,
              "#ed7953"
             ],
             [
              0.7777777777777778,
              "#fb9f3a"
             ],
             [
              0.8888888888888888,
              "#fdca26"
             ],
             [
              1,
              "#f0f921"
             ]
            ],
            "type": "histogram2dcontour"
           }
          ],
          "mesh3d": [
           {
            "colorbar": {
             "outlinewidth": 0,
             "ticks": ""
            },
            "type": "mesh3d"
           }
          ],
          "parcoords": [
           {
            "line": {
             "colorbar": {
              "outlinewidth": 0,
              "ticks": ""
             }
            },
            "type": "parcoords"
           }
          ],
          "pie": [
           {
            "automargin": true,
            "type": "pie"
           }
          ],
          "scatter": [
           {
            "fillpattern": {
             "fillmode": "overlay",
             "size": 10,
             "solidity": 0.2
            },
            "type": "scatter"
           }
          ],
          "scatter3d": [
           {
            "line": {
             "colorbar": {
              "outlinewidth": 0,
              "ticks": ""
             }
            },
            "marker": {
             "colorbar": {
              "outlinewidth": 0,
              "ticks": ""
             }
            },
            "type": "scatter3d"
           }
          ],
          "scattercarpet": [
           {
            "marker": {
             "colorbar": {
              "outlinewidth": 0,
              "ticks": ""
             }
            },
            "type": "scattercarpet"
           }
          ],
          "scattergeo": [
           {
            "marker": {
             "colorbar": {
              "outlinewidth": 0,
              "ticks": ""
             }
            },
            "type": "scattergeo"
           }
          ],
          "scattergl": [
           {
            "marker": {
             "colorbar": {
              "outlinewidth": 0,
              "ticks": ""
             }
            },
            "type": "scattergl"
           }
          ],
          "scattermapbox": [
           {
            "marker": {
             "colorbar": {
              "outlinewidth": 0,
              "ticks": ""
             }
            },
            "type": "scattermapbox"
           }
          ],
          "scatterpolar": [
           {
            "marker": {
             "colorbar": {
              "outlinewidth": 0,
              "ticks": ""
             }
            },
            "type": "scatterpolar"
           }
          ],
          "scatterpolargl": [
           {
            "marker": {
             "colorbar": {
              "outlinewidth": 0,
              "ticks": ""
             }
            },
            "type": "scatterpolargl"
           }
          ],
          "scatterternary": [
           {
            "marker": {
             "colorbar": {
              "outlinewidth": 0,
              "ticks": ""
             }
            },
            "type": "scatterternary"
           }
          ],
          "surface": [
           {
            "colorbar": {
             "outlinewidth": 0,
             "ticks": ""
            },
            "colorscale": [
             [
              0,
              "#0d0887"
             ],
             [
              0.1111111111111111,
              "#46039f"
             ],
             [
              0.2222222222222222,
              "#7201a8"
             ],
             [
              0.3333333333333333,
              "#9c179e"
             ],
             [
              0.4444444444444444,
              "#bd3786"
             ],
             [
              0.5555555555555556,
              "#d8576b"
             ],
             [
              0.6666666666666666,
              "#ed7953"
             ],
             [
              0.7777777777777778,
              "#fb9f3a"
             ],
             [
              0.8888888888888888,
              "#fdca26"
             ],
             [
              1,
              "#f0f921"
             ]
            ],
            "type": "surface"
           }
          ],
          "table": [
           {
            "cells": {
             "fill": {
              "color": "#EBF0F8"
             },
             "line": {
              "color": "white"
             }
            },
            "header": {
             "fill": {
              "color": "#C8D4E3"
             },
             "line": {
              "color": "white"
             }
            },
            "type": "table"
           }
          ]
         },
         "layout": {
          "annotationdefaults": {
           "arrowcolor": "#2a3f5f",
           "arrowhead": 0,
           "arrowwidth": 1
          },
          "autotypenumbers": "strict",
          "coloraxis": {
           "colorbar": {
            "outlinewidth": 0,
            "ticks": ""
           }
          },
          "colorscale": {
           "diverging": [
            [
             0,
             "#8e0152"
            ],
            [
             0.1,
             "#c51b7d"
            ],
            [
             0.2,
             "#de77ae"
            ],
            [
             0.3,
             "#f1b6da"
            ],
            [
             0.4,
             "#fde0ef"
            ],
            [
             0.5,
             "#f7f7f7"
            ],
            [
             0.6,
             "#e6f5d0"
            ],
            [
             0.7,
             "#b8e186"
            ],
            [
             0.8,
             "#7fbc41"
            ],
            [
             0.9,
             "#4d9221"
            ],
            [
             1,
             "#276419"
            ]
           ],
           "sequential": [
            [
             0,
             "#0d0887"
            ],
            [
             0.1111111111111111,
             "#46039f"
            ],
            [
             0.2222222222222222,
             "#7201a8"
            ],
            [
             0.3333333333333333,
             "#9c179e"
            ],
            [
             0.4444444444444444,
             "#bd3786"
            ],
            [
             0.5555555555555556,
             "#d8576b"
            ],
            [
             0.6666666666666666,
             "#ed7953"
            ],
            [
             0.7777777777777778,
             "#fb9f3a"
            ],
            [
             0.8888888888888888,
             "#fdca26"
            ],
            [
             1,
             "#f0f921"
            ]
           ],
           "sequentialminus": [
            [
             0,
             "#0d0887"
            ],
            [
             0.1111111111111111,
             "#46039f"
            ],
            [
             0.2222222222222222,
             "#7201a8"
            ],
            [
             0.3333333333333333,
             "#9c179e"
            ],
            [
             0.4444444444444444,
             "#bd3786"
            ],
            [
             0.5555555555555556,
             "#d8576b"
            ],
            [
             0.6666666666666666,
             "#ed7953"
            ],
            [
             0.7777777777777778,
             "#fb9f3a"
            ],
            [
             0.8888888888888888,
             "#fdca26"
            ],
            [
             1,
             "#f0f921"
            ]
           ]
          },
          "colorway": [
           "#636efa",
           "#EF553B",
           "#00cc96",
           "#ab63fa",
           "#FFA15A",
           "#19d3f3",
           "#FF6692",
           "#B6E880",
           "#FF97FF",
           "#FECB52"
          ],
          "font": {
           "color": "#2a3f5f"
          },
          "geo": {
           "bgcolor": "white",
           "lakecolor": "white",
           "landcolor": "#E5ECF6",
           "showlakes": true,
           "showland": true,
           "subunitcolor": "white"
          },
          "hoverlabel": {
           "align": "left"
          },
          "hovermode": "closest",
          "mapbox": {
           "style": "light"
          },
          "paper_bgcolor": "white",
          "plot_bgcolor": "#E5ECF6",
          "polar": {
           "angularaxis": {
            "gridcolor": "white",
            "linecolor": "white",
            "ticks": ""
           },
           "bgcolor": "#E5ECF6",
           "radialaxis": {
            "gridcolor": "white",
            "linecolor": "white",
            "ticks": ""
           }
          },
          "scene": {
           "xaxis": {
            "backgroundcolor": "#E5ECF6",
            "gridcolor": "white",
            "gridwidth": 2,
            "linecolor": "white",
            "showbackground": true,
            "ticks": "",
            "zerolinecolor": "white"
           },
           "yaxis": {
            "backgroundcolor": "#E5ECF6",
            "gridcolor": "white",
            "gridwidth": 2,
            "linecolor": "white",
            "showbackground": true,
            "ticks": "",
            "zerolinecolor": "white"
           },
           "zaxis": {
            "backgroundcolor": "#E5ECF6",
            "gridcolor": "white",
            "gridwidth": 2,
            "linecolor": "white",
            "showbackground": true,
            "ticks": "",
            "zerolinecolor": "white"
           }
          },
          "shapedefaults": {
           "line": {
            "color": "#2a3f5f"
           }
          },
          "ternary": {
           "aaxis": {
            "gridcolor": "white",
            "linecolor": "white",
            "ticks": ""
           },
           "baxis": {
            "gridcolor": "white",
            "linecolor": "white",
            "ticks": ""
           },
           "bgcolor": "#E5ECF6",
           "caxis": {
            "gridcolor": "white",
            "linecolor": "white",
            "ticks": ""
           }
          },
          "title": {
           "x": 0.05
          },
          "xaxis": {
           "automargin": true,
           "gridcolor": "white",
           "linecolor": "white",
           "ticks": "",
           "title": {
            "standoff": 15
           },
           "zerolinecolor": "white",
           "zerolinewidth": 2
          },
          "yaxis": {
           "automargin": true,
           "gridcolor": "white",
           "linecolor": "white",
           "ticks": "",
           "title": {
            "standoff": 15
           },
           "zerolinecolor": "white",
           "zerolinewidth": 2
          }
         }
        },
        "xaxis": {
         "anchor": "y",
         "domain": [
          0,
          0.94
         ],
         "linecolor": "black",
         "linewidth": 1,
         "showline": true,
         "title": {
          "text": "Date"
         }
        },
        "yaxis": {
         "anchor": "x",
         "domain": [
          0,
          1
         ],
         "gridcolor": "lightgray",
         "gridwidth": 1,
         "linecolor": "black",
         "linewidth": 1,
         "showgrid": true,
         "showline": true,
         "title": {
          "text": "Products_Purchased (Percentage)"
         }
        },
        "yaxis2": {
         "anchor": "x",
         "gridcolor": "lightgray",
         "gridwidth": 1,
         "linecolor": "black",
         "linewidth": 1,
         "overlaying": "y",
         "showgrid": true,
         "showline": true,
         "side": "right",
         "tickformat": ",.0%",
         "title": {
          "text": "Average Prediction"
         }
        }
       }
      },
      "text/html": [
       "<div>                            <div id=\"6544bd97-3adb-4312-9641-e8214e5f7ce8\" class=\"plotly-graph-div\" style=\"height:500px; width:100%;\"></div>            <script type=\"text/javascript\">                require([\"plotly\"], function(Plotly) {                    window.PLOTLYENV=window.PLOTLYENV || {};                                    if (document.getElementById(\"6544bd97-3adb-4312-9641-e8214e5f7ce8\")) {                    Plotly.newPlot(                        \"6544bd97-3adb-4312-9641-e8214e5f7ce8\",                        [{\"marker\":{\"color\":\"Black\",\"size\":6},\"mode\":\"lines+markers\",\"name\":\"Average Prediction\",\"x\":[\"2021-05\",\"2021-06\",\"2021-07\",\"2021-08\",\"2021-09\",\"2021-10\",\"2021-11\",\"2021-12\",\"2022-01\",\"2022-02\",\"2022-03\",\"2022-04\",\"2022-05\",\"2022-06\",\"2022-07\",\"2022-08\",\"2022-09\",\"2022-10\"],\"y\":[0.14801172654634145,0.1965208591,0.20547080180892857,0.20598831109230767,0.20159707843392857,0.1851522037170213,0.21340125482666666,0.200896565358,0.2737779106911111,0.18938573286585364,0.19715522061964286,0.1726287564827586,0.23840680454418606,0.23341445741875003,0.22531233636249998,0.2439082768568966,0.2244759118076923,0.18858025270652176],\"type\":\"scatter\",\"xaxis\":\"x\",\"yaxis\":\"y2\"},{\"name\":\"starter_pack\",\"opacity\":0.5,\"x\":[\"2021-05\",\"2021-06\",\"2021-07\",\"2021-08\",\"2021-09\",\"2021-10\",\"2021-11\",\"2021-12\",\"2022-01\",\"2022-02\",\"2022-03\",\"2022-04\",\"2022-05\",\"2022-06\",\"2022-07\",\"2022-08\",\"2022-09\",\"2022-10\"],\"y\":[0.4146341463414634,0.4411764705882353,0.48214285714285715,0.3076923076923077,0.3392857142857143,0.23404255319148937,0.3333333333333333,0.34,0.4444444444444444,0.4146341463414634,0.21428571428571427,0.29310344827586204,0.2558139534883721,0.2708333333333333,0.375,0.3448275862068966,0.4307692307692308,0.3695652173913043],\"type\":\"bar\"},{\"name\":\"enterprise\",\"opacity\":0.5,\"x\":[\"2021-05\",\"2021-06\",\"2021-07\",\"2021-08\",\"2021-09\",\"2021-10\",\"2021-11\",\"2021-12\",\"2022-01\",\"2022-02\",\"2022-03\",\"2022-04\",\"2022-05\",\"2022-06\",\"2022-07\",\"2022-08\",\"2022-09\",\"2022-10\"],\"y\":[0.34146341463414637,0.29411764705882354,0.32142857142857145,0.23076923076923078,0.35714285714285715,0.425531914893617,0.37777777777777777,0.3,0.2222222222222222,0.3170731707317073,0.32142857142857145,0.43103448275862066,0.32558139534883723,0.3958333333333333,0.3333333333333333,0.3103448275862069,0.24615384615384617,0.3695652173913043],\"type\":\"bar\"},{\"name\":\"business_essentials\",\"opacity\":0.5,\"x\":[\"2021-05\",\"2021-06\",\"2021-07\",\"2021-08\",\"2021-09\",\"2021-10\",\"2021-11\",\"2021-12\",\"2022-01\",\"2022-02\",\"2022-03\",\"2022-04\",\"2022-05\",\"2022-06\",\"2022-07\",\"2022-08\",\"2022-09\",\"2022-10\"],\"y\":[0.24390243902439024,0.2647058823529412,0.19642857142857142,0.46153846153846156,0.30357142857142855,0.3404255319148936,0.28888888888888886,0.36,0.3333333333333333,0.2682926829268293,0.4642857142857143,0.27586206896551724,0.4186046511627907,0.3333333333333333,0.2916666666666667,0.3448275862068966,0.3230769230769231,0.2608695652173913],\"type\":\"bar\"}],                        {\"template\":{\"data\":{\"histogram2dcontour\":[{\"type\":\"histogram2dcontour\",\"colorbar\":{\"outlinewidth\":0,\"ticks\":\"\"},\"colorscale\":[[0.0,\"#0d0887\"],[0.1111111111111111,\"#46039f\"],[0.2222222222222222,\"#7201a8\"],[0.3333333333333333,\"#9c179e\"],[0.4444444444444444,\"#bd3786\"],[0.5555555555555556,\"#d8576b\"],[0.6666666666666666,\"#ed7953\"],[0.7777777777777778,\"#fb9f3a\"],[0.8888888888888888,\"#fdca26\"],[1.0,\"#f0f921\"]]}],\"choropleth\":[{\"type\":\"choropleth\",\"colorbar\":{\"outlinewidth\":0,\"ticks\":\"\"}}],\"histogram2d\":[{\"type\":\"histogram2d\",\"colorbar\":{\"outlinewidth\":0,\"ticks\":\"\"},\"colorscale\":[[0.0,\"#0d0887\"],[0.1111111111111111,\"#46039f\"],[0.2222222222222222,\"#7201a8\"],[0.3333333333333333,\"#9c179e\"],[0.4444444444444444,\"#bd3786\"],[0.5555555555555556,\"#d8576b\"],[0.6666666666666666,\"#ed7953\"],[0.7777777777777778,\"#fb9f3a\"],[0.8888888888888888,\"#fdca26\"],[1.0,\"#f0f921\"]]}],\"heatmap\":[{\"type\":\"heatmap\",\"colorbar\":{\"outlinewidth\":0,\"ticks\":\"\"},\"colorscale\":[[0.0,\"#0d0887\"],[0.1111111111111111,\"#46039f\"],[0.2222222222222222,\"#7201a8\"],[0.3333333333333333,\"#9c179e\"],[0.4444444444444444,\"#bd3786\"],[0.5555555555555556,\"#d8576b\"],[0.6666666666666666,\"#ed7953\"],[0.7777777777777778,\"#fb9f3a\"],[0.8888888888888888,\"#fdca26\"],[1.0,\"#f0f921\"]]}],\"heatmapgl\":[{\"type\":\"heatmapgl\",\"colorbar\":{\"outlinewidth\":0,\"ticks\":\"\"},\"colorscale\":[[0.0,\"#0d0887\"],[0.1111111111111111,\"#46039f\"],[0.2222222222222222,\"#7201a8\"],[0.3333333333333333,\"#9c179e\"],[0.4444444444444444,\"#bd3786\"],[0.5555555555555556,\"#d8576b\"],[0.6666666666666666,\"#ed7953\"],[0.7777777777777778,\"#fb9f3a\"],[0.8888888888888888,\"#fdca26\"],[1.0,\"#f0f921\"]]}],\"contourcarpet\":[{\"type\":\"contourcarpet\",\"colorbar\":{\"outlinewidth\":0,\"ticks\":\"\"}}],\"contour\":[{\"type\":\"contour\",\"colorbar\":{\"outlinewidth\":0,\"ticks\":\"\"},\"colorscale\":[[0.0,\"#0d0887\"],[0.1111111111111111,\"#46039f\"],[0.2222222222222222,\"#7201a8\"],[0.3333333333333333,\"#9c179e\"],[0.4444444444444444,\"#bd3786\"],[0.5555555555555556,\"#d8576b\"],[0.6666666666666666,\"#ed7953\"],[0.7777777777777778,\"#fb9f3a\"],[0.8888888888888888,\"#fdca26\"],[1.0,\"#f0f921\"]]}],\"surface\":[{\"type\":\"surface\",\"colorbar\":{\"outlinewidth\":0,\"ticks\":\"\"},\"colorscale\":[[0.0,\"#0d0887\"],[0.1111111111111111,\"#46039f\"],[0.2222222222222222,\"#7201a8\"],[0.3333333333333333,\"#9c179e\"],[0.4444444444444444,\"#bd3786\"],[0.5555555555555556,\"#d8576b\"],[0.6666666666666666,\"#ed7953\"],[0.7777777777777778,\"#fb9f3a\"],[0.8888888888888888,\"#fdca26\"],[1.0,\"#f0f921\"]]}],\"mesh3d\":[{\"type\":\"mesh3d\",\"colorbar\":{\"outlinewidth\":0,\"ticks\":\"\"}}],\"scatter\":[{\"fillpattern\":{\"fillmode\":\"overlay\",\"size\":10,\"solidity\":0.2},\"type\":\"scatter\"}],\"parcoords\":[{\"type\":\"parcoords\",\"line\":{\"colorbar\":{\"outlinewidth\":0,\"ticks\":\"\"}}}],\"scatterpolargl\":[{\"type\":\"scatterpolargl\",\"marker\":{\"colorbar\":{\"outlinewidth\":0,\"ticks\":\"\"}}}],\"bar\":[{\"error_x\":{\"color\":\"#2a3f5f\"},\"error_y\":{\"color\":\"#2a3f5f\"},\"marker\":{\"line\":{\"color\":\"#E5ECF6\",\"width\":0.5},\"pattern\":{\"fillmode\":\"overlay\",\"size\":10,\"solidity\":0.2}},\"type\":\"bar\"}],\"scattergeo\":[{\"type\":\"scattergeo\",\"marker\":{\"colorbar\":{\"outlinewidth\":0,\"ticks\":\"\"}}}],\"scatterpolar\":[{\"type\":\"scatterpolar\",\"marker\":{\"colorbar\":{\"outlinewidth\":0,\"ticks\":\"\"}}}],\"histogram\":[{\"marker\":{\"pattern\":{\"fillmode\":\"overlay\",\"size\":10,\"solidity\":0.2}},\"type\":\"histogram\"}],\"scattergl\":[{\"type\":\"scattergl\",\"marker\":{\"colorbar\":{\"outlinewidth\":0,\"ticks\":\"\"}}}],\"scatter3d\":[{\"type\":\"scatter3d\",\"line\":{\"colorbar\":{\"outlinewidth\":0,\"ticks\":\"\"}},\"marker\":{\"colorbar\":{\"outlinewidth\":0,\"ticks\":\"\"}}}],\"scattermapbox\":[{\"type\":\"scattermapbox\",\"marker\":{\"colorbar\":{\"outlinewidth\":0,\"ticks\":\"\"}}}],\"scatterternary\":[{\"type\":\"scatterternary\",\"marker\":{\"colorbar\":{\"outlinewidth\":0,\"ticks\":\"\"}}}],\"scattercarpet\":[{\"type\":\"scattercarpet\",\"marker\":{\"colorbar\":{\"outlinewidth\":0,\"ticks\":\"\"}}}],\"carpet\":[{\"aaxis\":{\"endlinecolor\":\"#2a3f5f\",\"gridcolor\":\"white\",\"linecolor\":\"white\",\"minorgridcolor\":\"white\",\"startlinecolor\":\"#2a3f5f\"},\"baxis\":{\"endlinecolor\":\"#2a3f5f\",\"gridcolor\":\"white\",\"linecolor\":\"white\",\"minorgridcolor\":\"white\",\"startlinecolor\":\"#2a3f5f\"},\"type\":\"carpet\"}],\"table\":[{\"cells\":{\"fill\":{\"color\":\"#EBF0F8\"},\"line\":{\"color\":\"white\"}},\"header\":{\"fill\":{\"color\":\"#C8D4E3\"},\"line\":{\"color\":\"white\"}},\"type\":\"table\"}],\"barpolar\":[{\"marker\":{\"line\":{\"color\":\"#E5ECF6\",\"width\":0.5},\"pattern\":{\"fillmode\":\"overlay\",\"size\":10,\"solidity\":0.2}},\"type\":\"barpolar\"}],\"pie\":[{\"automargin\":true,\"type\":\"pie\"}]},\"layout\":{\"autotypenumbers\":\"strict\",\"colorway\":[\"#636efa\",\"#EF553B\",\"#00cc96\",\"#ab63fa\",\"#FFA15A\",\"#19d3f3\",\"#FF6692\",\"#B6E880\",\"#FF97FF\",\"#FECB52\"],\"font\":{\"color\":\"#2a3f5f\"},\"hovermode\":\"closest\",\"hoverlabel\":{\"align\":\"left\"},\"paper_bgcolor\":\"white\",\"plot_bgcolor\":\"#E5ECF6\",\"polar\":{\"bgcolor\":\"#E5ECF6\",\"angularaxis\":{\"gridcolor\":\"white\",\"linecolor\":\"white\",\"ticks\":\"\"},\"radialaxis\":{\"gridcolor\":\"white\",\"linecolor\":\"white\",\"ticks\":\"\"}},\"ternary\":{\"bgcolor\":\"#E5ECF6\",\"aaxis\":{\"gridcolor\":\"white\",\"linecolor\":\"white\",\"ticks\":\"\"},\"baxis\":{\"gridcolor\":\"white\",\"linecolor\":\"white\",\"ticks\":\"\"},\"caxis\":{\"gridcolor\":\"white\",\"linecolor\":\"white\",\"ticks\":\"\"}},\"coloraxis\":{\"colorbar\":{\"outlinewidth\":0,\"ticks\":\"\"}},\"colorscale\":{\"sequential\":[[0.0,\"#0d0887\"],[0.1111111111111111,\"#46039f\"],[0.2222222222222222,\"#7201a8\"],[0.3333333333333333,\"#9c179e\"],[0.4444444444444444,\"#bd3786\"],[0.5555555555555556,\"#d8576b\"],[0.6666666666666666,\"#ed7953\"],[0.7777777777777778,\"#fb9f3a\"],[0.8888888888888888,\"#fdca26\"],[1.0,\"#f0f921\"]],\"sequentialminus\":[[0.0,\"#0d0887\"],[0.1111111111111111,\"#46039f\"],[0.2222222222222222,\"#7201a8\"],[0.3333333333333333,\"#9c179e\"],[0.4444444444444444,\"#bd3786\"],[0.5555555555555556,\"#d8576b\"],[0.6666666666666666,\"#ed7953\"],[0.7777777777777778,\"#fb9f3a\"],[0.8888888888888888,\"#fdca26\"],[1.0,\"#f0f921\"]],\"diverging\":[[0,\"#8e0152\"],[0.1,\"#c51b7d\"],[0.2,\"#de77ae\"],[0.3,\"#f1b6da\"],[0.4,\"#fde0ef\"],[0.5,\"#f7f7f7\"],[0.6,\"#e6f5d0\"],[0.7,\"#b8e186\"],[0.8,\"#7fbc41\"],[0.9,\"#4d9221\"],[1,\"#276419\"]]},\"xaxis\":{\"gridcolor\":\"white\",\"linecolor\":\"white\",\"ticks\":\"\",\"title\":{\"standoff\":15},\"zerolinecolor\":\"white\",\"automargin\":true,\"zerolinewidth\":2},\"yaxis\":{\"gridcolor\":\"white\",\"linecolor\":\"white\",\"ticks\":\"\",\"title\":{\"standoff\":15},\"zerolinecolor\":\"white\",\"automargin\":true,\"zerolinewidth\":2},\"scene\":{\"xaxis\":{\"backgroundcolor\":\"#E5ECF6\",\"gridcolor\":\"white\",\"linecolor\":\"white\",\"showbackground\":true,\"ticks\":\"\",\"zerolinecolor\":\"white\",\"gridwidth\":2},\"yaxis\":{\"backgroundcolor\":\"#E5ECF6\",\"gridcolor\":\"white\",\"linecolor\":\"white\",\"showbackground\":true,\"ticks\":\"\",\"zerolinecolor\":\"white\",\"gridwidth\":2},\"zaxis\":{\"backgroundcolor\":\"#E5ECF6\",\"gridcolor\":\"white\",\"linecolor\":\"white\",\"showbackground\":true,\"ticks\":\"\",\"zerolinecolor\":\"white\",\"gridwidth\":2}},\"shapedefaults\":{\"line\":{\"color\":\"#2a3f5f\"}},\"annotationdefaults\":{\"arrowcolor\":\"#2a3f5f\",\"arrowhead\":0,\"arrowwidth\":1},\"geo\":{\"bgcolor\":\"white\",\"landcolor\":\"#E5ECF6\",\"subunitcolor\":\"white\",\"showland\":true,\"showlakes\":true,\"lakecolor\":\"white\"},\"title\":{\"x\":0.05},\"mapbox\":{\"style\":\"light\"}}},\"xaxis\":{\"anchor\":\"y\",\"domain\":[0.0,0.94],\"title\":{\"text\":\"Date\"},\"showline\":true,\"linewidth\":1,\"linecolor\":\"black\"},\"yaxis\":{\"anchor\":\"x\",\"domain\":[0.0,1.0],\"title\":{\"text\":\"Products_Purchased (Percentage)\"},\"showline\":true,\"linewidth\":1,\"linecolor\":\"black\",\"showgrid\":true,\"gridwidth\":1,\"gridcolor\":\"lightgray\"},\"yaxis2\":{\"anchor\":\"x\",\"overlaying\":\"y\",\"side\":\"right\",\"title\":{\"text\":\"Average Prediction\"},\"showline\":true,\"linewidth\":1,\"linecolor\":\"black\",\"showgrid\":true,\"gridwidth\":1,\"gridcolor\":\"lightgray\",\"tickformat\":\",.0%\"},\"barmode\":\"relative\",\"legend\":{\"bgcolor\":\"rgba(255, 255, 255, 0)\",\"bordercolor\":\"rgba(255, 255, 255, 0)\",\"x\":1.1,\"y\":1,\"xanchor\":\"left\",\"yanchor\":\"top\"},\"hoverlabel\":{\"font\":{\"size\":16,\"family\":\"Rockwell\"},\"bgcolor\":\"white\",\"namelength\":-1},\"height\":500,\"plot_bgcolor\":\"rgba(0,0,0,0)\",\"showlegend\":true},                        {\"responsive\": true}                    ).then(function(){\n",
       "                            \n",
       "var gd = document.getElementById('6544bd97-3adb-4312-9641-e8214e5f7ce8');\n",
       "var x = new MutationObserver(function (mutations, observer) {{\n",
       "        var display = window.getComputedStyle(gd).display;\n",
       "        if (!display || display === 'none') {{\n",
       "            console.log([gd, 'removed!']);\n",
       "            Plotly.purge(gd);\n",
       "            observer.disconnect();\n",
       "        }}\n",
       "}});\n",
       "\n",
       "// Listen for the removal of the full notebook cells\n",
       "var notebookContainer = gd.closest('#notebook-container');\n",
       "if (notebookContainer) {{\n",
       "    x.observe(notebookContainer, {childList: true});\n",
       "}}\n",
       "\n",
       "// Listen for the clearing of the current output cell\n",
       "var outputEl = gd.closest('.output');\n",
       "if (outputEl) {{\n",
       "    x.observe(outputEl, {childList: true});\n",
       "}}\n",
       "\n",
       "                        })                };                });            </script>        </div>"
      ]
     },
     "metadata": {},
     "output_type": "display_data"
    }
   ],
   "source": [
    "plot_values_over_time(\n",
    "    melted, \n",
    "    project_id=project_id,\n",
    "    freq='MS',\n",
    "    date_col=date_col, \n",
    "    feature='Products_Purchased',\n",
    "    showlegend=True,\n",
    ")"
   ]
  },
  {
   "cell_type": "code",
   "execution_count": null,
   "id": "395f3d26",
   "metadata": {},
   "outputs": [],
   "source": []
  },
  {
   "cell_type": "code",
   "execution_count": null,
   "id": "3208de0b",
   "metadata": {},
   "outputs": [],
   "source": []
  }
 ],
 "metadata": {
  "kernelspec": {
   "display_name": "medium_env",
   "language": "python",
   "name": "medium_env"
  },
  "language_info": {
   "codemirror_mode": {
    "name": "ipython",
    "version": 3
   },
   "file_extension": ".py",
   "mimetype": "text/x-python",
   "name": "python",
   "nbconvert_exporter": "python",
   "pygments_lexer": "ipython3",
   "version": "3.10.10"
  }
 },
 "nbformat": 4,
 "nbformat_minor": 5
}
