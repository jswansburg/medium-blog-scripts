{
 "cells": [
  {
   "cell_type": "markdown",
   "id": "be0e0392",
   "metadata": {},
   "source": [
    "## Walkthrough of how to output helpful insights for ML models"
   ]
  },
  {
   "cell_type": "code",
   "execution_count": 636,
   "id": "aad65e2f",
   "metadata": {},
   "outputs": [],
   "source": [
    "import datarobotx as drx\n",
    "import datarobot as dr\n",
    "import pandas as pd\n",
    "import numpy as np\n",
    "import datetime\n",
    "\n",
    "from feature_impact_helpers import *\n",
    "from lift_chart_helpers import *\n",
    "from insights_over_time_helpers import *\n",
    "from data_table_helpers import *\n",
    "\n",
    "from importlib import reload\n",
    "%reload_ext autoreload\n",
    "%autoreload 2\n",
    "\n",
    "import warnings\n",
    "warnings.filterwarnings('ignore')"
   ]
  },
  {
   "cell_type": "markdown",
   "id": "f53a4ddb",
   "metadata": {},
   "source": [
    "### Authenticate credentials"
   ]
  },
  {
   "cell_type": "code",
   "execution_count": 173,
   "id": "a45bef6b",
   "metadata": {},
   "outputs": [
    {
     "data": {
      "text/plain": [
       "<datarobot.rest.RESTClientObject at 0x134915750>"
      ]
     },
     "execution_count": 173,
     "metadata": {},
     "output_type": "execute_result"
    }
   ],
   "source": [
    "dr.Client()"
   ]
  },
  {
   "cell_type": "markdown",
   "id": "0fa40725",
   "metadata": {},
   "source": [
    "## 1. Retrieve and prep data"
   ]
  },
  {
   "cell_type": "code",
   "execution_count": 223,
   "id": "1e11b51c",
   "metadata": {},
   "outputs": [],
   "source": [
    "# read in dataset\n",
    "df = pd.read_csv('/Users/justin.swansburg/Downloads/Customer_Churn_with_AFE.csv')\n",
    "\n",
    "# subset data to after June 2021\n",
    "df2 = df.loc[pd.to_datetime(df['Prediction_Point'])>=pd.to_datetime('2021-06-01'), :]"
   ]
  },
  {
   "cell_type": "code",
   "execution_count": 147,
   "id": "e141fa14",
   "metadata": {},
   "outputs": [],
   "source": [
    "project_id = '64289f6808f30af7340d660c'\n",
    "model_id = '6428a0d8763f72552338e7d6' "
   ]
  },
  {
   "cell_type": "code",
   "execution_count": null,
   "id": "815fc9b7",
   "metadata": {},
   "outputs": [],
   "source": [
    "# grab DataRobot project\n",
    "project = dr.Project.get(project_id)"
   ]
  },
  {
   "cell_type": "markdown",
   "id": "3a0f9017",
   "metadata": {},
   "source": [
    "### Retrive DRX model object and deploy model"
   ]
  },
  {
   "cell_type": "code",
   "execution_count": 153,
   "id": "6945fb8c",
   "metadata": {},
   "outputs": [
    {
     "data": {
      "application/vnd.jupyter.widget-view+json": {
       "model_id": "94368f7c796c436cb4d8591ceb20353c",
       "version_major": 2,
       "version_minor": 0
      },
      "text/plain": [
       "VBox()"
      ]
     },
     "metadata": {},
     "output_type": "display_data"
    }
   ],
   "source": [
    "drx_model = drx.AutoMLModel.from_project_id(project_id)"
   ]
  },
  {
   "cell_type": "code",
   "execution_count": 155,
   "id": "29bb3168",
   "metadata": {},
   "outputs": [
    {
     "data": {
      "application/vnd.jupyter.widget-view+json": {
       "model_id": "8128785c4a5a4ea4962b14f86834d453",
       "version_major": 2,
       "version_minor": 0
      },
      "text/plain": [
       "VBox()"
      ]
     },
     "metadata": {},
     "output_type": "display_data"
    },
    {
     "data": {
      "application/vnd.jupyter.widget-view+json": {
       "model_id": "b603c06425cf4e839ff8b151c581ded6",
       "version_major": 2,
       "version_minor": 0
      },
      "text/plain": [
       "VBox()"
      ]
     },
     "metadata": {},
     "output_type": "display_data"
    }
   ],
   "source": [
    "drx_model"
   ]
  },
  {
   "cell_type": "code",
   "execution_count": 154,
   "id": "be713c30",
   "metadata": {},
   "outputs": [
    {
     "data": {
      "application/vnd.jupyter.widget-view+json": {
       "model_id": "fc6fb1b1ddcb46b0839a6756d4a2aa52",
       "version_major": 2,
       "version_minor": 0
      },
      "text/plain": [
       "VBox()"
      ]
     },
     "metadata": {},
     "output_type": "display_data"
    }
   ],
   "source": [
    "#drx_deployment = drx.Deployment.from_url(f'https://staging.datarobot.com/deployments/{deployment_id}/')\n",
    "today = datetime.datetime.now()\n",
    "drx_deployment = drx_model.deploy(name=f'Customer Churn - {today}')"
   ]
  },
  {
   "cell_type": "markdown",
   "id": "317471d8",
   "metadata": {},
   "source": [
    "### Get batch predictions and prediction explanations"
   ]
  },
  {
   "cell_type": "code",
   "execution_count": 243,
   "id": "dda70fa5",
   "metadata": {},
   "outputs": [
    {
     "data": {
      "application/vnd.jupyter.widget-view+json": {
       "model_id": "4d9fa0c28af64483a7ee4d33b2399e45",
       "version_major": 2,
       "version_minor": 0
      },
      "text/plain": [
       "VBox()"
      ]
     },
     "metadata": {},
     "output_type": "display_data"
    }
   ],
   "source": [
    "drx.Context()._deployments_use_rt_endpoint=False\n",
    "preds = drx_deployment.predict_proba(\n",
    "    X=df2, \n",
    "    max_explanations=30\n",
    ")"
   ]
  },
  {
   "cell_type": "code",
   "execution_count": 225,
   "id": "9e85cbeb",
   "metadata": {},
   "outputs": [],
   "source": [
    "# merge preds with original data\n",
    "preds2 = preds.merge(\n",
    "    df2.reset_index(drop=True),\n",
    "    how='left',\n",
    "    left_index=True,\n",
    "    right_index=True,\n",
    ")"
   ]
  },
  {
   "cell_type": "markdown",
   "id": "62785250",
   "metadata": {},
   "source": [
    "### Use DRX helper functions to melt and reshape our predictions"
   ]
  },
  {
   "cell_type": "code",
   "execution_count": 226,
   "id": "d611bfa9",
   "metadata": {},
   "outputs": [],
   "source": [
    "melted = drx.melt_explanations(preds2, id_vars=list(df2.columns)+['class_1'])\n",
    "reshaped = drx.featurize_explanations(preds2)"
   ]
  },
  {
   "cell_type": "markdown",
   "id": "dab8304d",
   "metadata": {},
   "source": [
    "## 2. Now it's time to create our insights"
   ]
  },
  {
   "cell_type": "markdown",
   "id": "c2683238",
   "metadata": {},
   "source": [
    "### Plot feature impact"
   ]
  },
  {
   "cell_type": "code",
   "execution_count": 663,
   "id": "58849fbd",
   "metadata": {},
   "outputs": [],
   "source": [
    "# aggregate feature impact\n",
    "plot_feature_impact(melted, height=500)"
   ]
  },
  {
   "cell_type": "code",
   "execution_count": 662,
   "id": "b45fd45c",
   "metadata": {},
   "outputs": [],
   "source": [
    "# feature impact split by strength\n",
    "plot_signed_feature_impact(melted, height=500, n=25)"
   ]
  },
  {
   "cell_type": "code",
   "execution_count": 661,
   "id": "d7806df7",
   "metadata": {},
   "outputs": [],
   "source": [
    "# feature impact split by positive class predictions\n",
    "threshold = 0.33\n",
    "positive_preds = melted.loc[melted['class_1']>=threshold, :].copy()\n",
    "plot_signed_feature_impact(positive_preds, height=500, n=25)"
   ]
  },
  {
   "cell_type": "markdown",
   "id": "fc46ee5b",
   "metadata": {},
   "source": [
    "### Plot lift chart and prediction explanations"
   ]
  },
  {
   "cell_type": "code",
   "execution_count": 660,
   "id": "25c452f4",
   "metadata": {},
   "outputs": [],
   "source": [
    "# plot lift chart\n",
    "plot_lift_chart(preds2, project_id)"
   ]
  },
  {
   "cell_type": "code",
   "execution_count": 659,
   "id": "98e5d384",
   "metadata": {},
   "outputs": [],
   "source": [
    "# plot lift chart with overlaid prediction explanations\n",
    "plot_prediction_explanations_and_lift_chart(melted, project_id, showlegend=False, max_features=6)"
   ]
  },
  {
   "cell_type": "code",
   "execution_count": 658,
   "id": "7e079863",
   "metadata": {},
   "outputs": [],
   "source": [
    "plot_histogram(\n",
    "    preds2,\n",
    "    project.id,\n",
    "    feature='Industry',\n",
    "    bins=12,\n",
    "    cutoff=0.1,\n",
    "    split_by_predicted_class=True,\n",
    "    showlegend=True,\n",
    "    height=600,\n",
    ")"
   ]
  },
  {
   "cell_type": "code",
   "execution_count": 657,
   "id": "d6f01134",
   "metadata": {},
   "outputs": [],
   "source": [
    "# plot predictions and prediction explanations over time\n",
    "date_col = 'Prediction_Point'\n",
    "prep_and_plot_pe_over_time(melted, project_id, date_col, freq='MS', showlegend=False, max_features=5, height=600)"
   ]
  },
  {
   "cell_type": "markdown",
   "id": "80b953fb",
   "metadata": {},
   "source": [
    "### Output pandas df with highlighted prediction explanations"
   ]
  },
  {
   "cell_type": "code",
   "execution_count": 171,
   "id": "e5a74a41",
   "metadata": {},
   "outputs": [],
   "source": [
    "cols_to_keep = [\n",
    "    'row_id',\n",
    "    'Customer_Name', \n",
    "    'Customer_Since_Date',\n",
    "    'ARR', \n",
    "    'Contract_Duration', \n",
    "    'Renewal_Date', \n",
    "    'Employee_Count', \n",
    "    'Annual_Revenue', \n",
    "    'Products_Purchased', \n",
    "    'Industry',\n",
    "    'Zip_Code', \n",
    "    'City', \n",
    "    'State', \n",
    "    'Latitude', \n",
    "    'Longitude',\n",
    "    'Customers[Products_Purchased] (latest)',\n",
    "    'Product_Usage[UserID] (1 month unique count)',\n",
    "    'feature_name',\n",
    "    'strength',\n",
    "    'actual_value',\n",
    "]"
   ]
  },
  {
   "cell_type": "code",
   "execution_count": 656,
   "id": "abe783ba",
   "metadata": {
    "scrolled": false
   },
   "outputs": [],
   "source": [
    "melted_sample = melted.loc[:, melted.columns.isin(cols_to_keep)]\n",
    "plot_overlaid_prediction_explanations(melted_sample, sample=25)"
   ]
  },
  {
   "cell_type": "markdown",
   "id": "a4ec1304",
   "metadata": {},
   "source": [
    "## Let's look at how our features may have drifted over time"
   ]
  },
  {
   "cell_type": "code",
   "execution_count": 655,
   "id": "0f466e52",
   "metadata": {},
   "outputs": [],
   "source": [
    "plot_values_over_time(\n",
    "    melted, \n",
    "    project_id=project_id,\n",
    "    freq='Q',\n",
    "    date_col=date_col, \n",
    "    feature='Product_Usage (1 month count)',\n",
    "    showlegend=True,\n",
    ")"
   ]
  },
  {
   "cell_type": "code",
   "execution_count": 654,
   "id": "2d33997d",
   "metadata": {},
   "outputs": [],
   "source": [
    "plot_values_over_time(\n",
    "    melted, \n",
    "    project_id=project_id,\n",
    "    freq='Q',\n",
    "    date_col=date_col, \n",
    "    feature='Industry',\n",
    "    showlegend=True,\n",
    ")"
   ]
  }
 ],
 "metadata": {
  "kernelspec": {
   "display_name": "medium_env",
   "language": "python",
   "name": "medium_env"
  },
  "language_info": {
   "codemirror_mode": {
    "name": "ipython",
    "version": 3
   },
   "file_extension": ".py",
   "mimetype": "text/x-python",
   "name": "python",
   "nbconvert_exporter": "python",
   "pygments_lexer": "ipython3",
   "version": "3.10.10"
  }
 },
 "nbformat": 4,
 "nbformat_minor": 5
}
