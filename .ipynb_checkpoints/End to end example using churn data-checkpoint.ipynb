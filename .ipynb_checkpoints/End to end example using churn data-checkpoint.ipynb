{
 "cells": [
  {
   "cell_type": "markdown",
   "id": "dc333e5b",
   "metadata": {},
   "source": [
    "## Walkthrough of how to output helpful insights for ML models"
   ]
  },
  {
   "cell_type": "code",
   "execution_count": 120,
   "id": "78c5d232",
   "metadata": {},
   "outputs": [],
   "source": [
    "import datarobotx as drx\n",
    "import datarobot as dr\n",
    "import pandas as pd\n",
    "import numpy as np\n",
    "import datetime\n",
    "\n",
    "from feature_impact_helpers import *\n",
    "from lift_chart_helpers import *\n",
    "from insights_over_time_helpers import *\n",
    "from data_table_helpers import *\n",
    "\n",
    "from importlib import reload\n",
    "%load_ext autoreload\n",
    "%autoreload 2\n",
    "import warnings\n",
    "warnings.filterwarnings('ignore')"
   ]
  },
  {
   "cell_type": "markdown",
   "id": "ea41599c",
   "metadata": {},
   "source": [
    "### Authenticate credentials"
   ]
  },
  {
   "cell_type": "code",
   "execution_count": 173,
   "id": "0085f66f",
   "metadata": {},
   "outputs": [
    {
     "data": {
      "text/plain": [
       "<datarobot.rest.RESTClientObject at 0x134915750>"
      ]
     },
     "execution_count": 173,
     "metadata": {},
     "output_type": "execute_result"
    }
   ],
   "source": [
    "dr.Client()"
   ]
  },
  {
   "cell_type": "markdown",
   "id": "03609b58",
   "metadata": {},
   "source": [
    "## 1. Retrieve and prep data"
   ]
  },
  {
   "cell_type": "code",
   "execution_count": 6,
   "id": "954dda12",
   "metadata": {},
   "outputs": [],
   "source": [
    "df = pd.read_csv('/Users/justin.swansburg/Downloads/Customer_Churn_with_AFE.csv')\n",
    "df2 = df.loc[pd.to_datetime(df['Prediction_Point'])>=pd.to_datetime('2022-01-01'), :]"
   ]
  },
  {
   "cell_type": "code",
   "execution_count": 147,
   "id": "ce77575f",
   "metadata": {},
   "outputs": [],
   "source": [
    "project_id = '64289f6808f30af7340d660c'\n",
    "model_id = '6428a0d8763f72552338e7d6' "
   ]
  },
  {
   "cell_type": "markdown",
   "id": "3479ff04",
   "metadata": {},
   "source": [
    "### Retrive DRX model object and deploy model"
   ]
  },
  {
   "cell_type": "code",
   "execution_count": 153,
   "id": "b55d82e3",
   "metadata": {},
   "outputs": [
    {
     "data": {
      "application/vnd.jupyter.widget-view+json": {
       "model_id": "94368f7c796c436cb4d8591ceb20353c",
       "version_major": 2,
       "version_minor": 0
      },
      "text/plain": [
       "VBox()"
      ]
     },
     "metadata": {},
     "output_type": "display_data"
    }
   ],
   "source": [
    "drx_model = drx.AutoMLModel.from_project_id(project_id)"
   ]
  },
  {
   "cell_type": "code",
   "execution_count": 155,
   "id": "c6b5271f",
   "metadata": {},
   "outputs": [
    {
     "data": {
      "application/vnd.jupyter.widget-view+json": {
       "model_id": "8128785c4a5a4ea4962b14f86834d453",
       "version_major": 2,
       "version_minor": 0
      },
      "text/plain": [
       "VBox()"
      ]
     },
     "metadata": {},
     "output_type": "display_data"
    },
    {
     "data": {
      "application/vnd.jupyter.widget-view+json": {
       "model_id": "b603c06425cf4e839ff8b151c581ded6",
       "version_major": 2,
       "version_minor": 0
      },
      "text/plain": [
       "VBox()"
      ]
     },
     "metadata": {},
     "output_type": "display_data"
    }
   ],
   "source": [
    "drx_model"
   ]
  },
  {
   "cell_type": "code",
   "execution_count": 154,
   "id": "54ef42c8",
   "metadata": {},
   "outputs": [
    {
     "data": {
      "application/vnd.jupyter.widget-view+json": {
       "model_id": "fc6fb1b1ddcb46b0839a6756d4a2aa52",
       "version_major": 2,
       "version_minor": 0
      },
      "text/plain": [
       "VBox()"
      ]
     },
     "metadata": {},
     "output_type": "display_data"
    }
   ],
   "source": [
    "#drx_deployment = drx.Deployment.from_url(f'https://staging.datarobot.com/deployments/{deployment_id}/')\n",
    "today = datetime.datetime.now()\n",
    "drx_deployment = drx_model.deploy(name=f'Customer Churn - {today}')"
   ]
  },
  {
   "cell_type": "markdown",
   "id": "381c2734",
   "metadata": {},
   "source": [
    "### Get batch predictions and prediction explanations"
   ]
  },
  {
   "cell_type": "code",
   "execution_count": 156,
   "id": "f20232db",
   "metadata": {},
   "outputs": [
    {
     "data": {
      "application/vnd.jupyter.widget-view+json": {
       "model_id": "afa7d41065584ea5a2d5813385fccfdb",
       "version_major": 2,
       "version_minor": 0
      },
      "text/plain": [
       "VBox()"
      ]
     },
     "metadata": {},
     "output_type": "display_data"
    }
   ],
   "source": [
    "drx.Context()._deployments_use_rt_endpoint=False\n",
    "preds = drx_deployment.predict_proba(\n",
    "    X=df2, \n",
    "    max_explanations=30\n",
    ")"
   ]
  },
  {
   "cell_type": "code",
   "execution_count": 157,
   "id": "5e8a6453",
   "metadata": {},
   "outputs": [],
   "source": [
    "# merge preds with original data\n",
    "preds2 = preds.merge(\n",
    "    df2.reset_index(drop=True),\n",
    "    how='left',\n",
    "    left_index=True,\n",
    "    right_index=True,\n",
    ")"
   ]
  },
  {
   "cell_type": "markdown",
   "id": "df6e72f2",
   "metadata": {},
   "source": [
    "### Use DRX helper functions to melt and reshape our predictions"
   ]
  },
  {
   "cell_type": "code",
   "execution_count": 158,
   "id": "9938dcb5",
   "metadata": {},
   "outputs": [],
   "source": [
    "melted = drx.melt_explanations(preds2, id_vars=list(df2.columns)+['class_1'])\n",
    "reshaped = drx.featurize_explanations(preds2)"
   ]
  },
  {
   "cell_type": "markdown",
   "id": "5f947f58",
   "metadata": {},
   "source": [
    "## 2. Now it's time to create our insights"
   ]
  },
  {
   "cell_type": "markdown",
   "id": "1f9f3cf1",
   "metadata": {},
   "source": [
    "### Plot feature impact"
   ]
  },
  {
   "cell_type": "code",
   "execution_count": 159,
   "id": "83fa988e",
   "metadata": {},
   "outputs": [
    {
     "data": {
      "application/vnd.plotly.v1+json": {
       "config": {
        "plotlyServerURL": "https://plot.ly"
       },
       "data": [
        {
         "alignmentgroup": "True",
         "hovertemplate": "<b>Feature Name:</b> %{y} <br><b>Feature Strength:</b> %{x}<extra></extra>",
         "legendgroup": "",
         "marker": {
          "color": "#636efa",
          "pattern": {
           "shape": ""
          }
         },
         "name": "",
         "offsetgroup": "",
         "orientation": "h",
         "showlegend": false,
         "textposition": "auto",
         "type": "bar",
         "x": [
          9.4149192368,
          9.6440620867,
          13.907267324100001,
          14.250346588,
          15.478154529600001,
          16.8544250106,
          17.075320618299997,
          17.4048691366,
          18.535638564899998,
          20.1096397917,
          20.9111335395,
          22.481023926899997,
          23.201123124699997,
          25.125061331700003,
          28.6313252502,
          29.115419231399997,
          30.870066015600003,
          30.952819565000002,
          38.134041788400005,
          39.418236178,
          43.03910163,
          43.2122761236,
          51.789886767700004,
          65.5591923299,
          72.1172307277
         ],
         "xaxis": "x",
         "y": [
          "Customers[ARR] (latest)",
          "Contract_Duration",
          "Customers[Products_Purchased] (5 years count of business_essentials)",
          "CSAT[Net_Promoter_Score] (latest)",
          "Prediction_Point (days from Product_Usage[Activity_Timestamp]) (180 days avg)",
          "Product_Usage[Activity_Type] (1 month most frequent)",
          "Product_Usage (180 days count)",
          "duration(Renewal_Date, Customer_Since_Date)",
          "Products_Purchased",
          "Product_Usage[UserID] (180 days unique count)",
          "Product_Usage[Activity_Type] (180 days most frequent)",
          "Product_Usage[Activity_Type] (180 days unique count)",
          "Annual_Revenue",
          "Customers[Products_Purchased] (5 years most frequent)",
          "State",
          "Customers[ARR] (5 years avg)",
          "Customers[Contract_Duration] (5 years avg)",
          "Product_Usage[Activity_Type] (1 month unique count)",
          "Customers[Products_Purchased] (5 years count of enterprise)",
          "Customers[Contract_Duration] (5 years most frequent)",
          "Prediction_Point (Year)",
          "Industry",
          "Customers[Contract_Duration] (5 years unique count)",
          "Product_Usage (1 month count)",
          "Product_Usage[UserID] (1 month unique count)"
         ],
         "yaxis": "y"
        }
       ],
       "layout": {
        "barmode": "relative",
        "height": 500,
        "hoverlabel": {
         "bgcolor": "white",
         "font": {
          "family": "Rockwell",
          "size": 16
         },
         "namelength": -1
        },
        "legend": {
         "tracegroupgap": 0
        },
        "margin": {
         "t": 60
        },
        "template": {
         "data": {
          "bar": [
           {
            "error_x": {
             "color": "#2a3f5f"
            },
            "error_y": {
             "color": "#2a3f5f"
            },
            "marker": {
             "line": {
              "color": "#E5ECF6",
              "width": 0.5
             },
             "pattern": {
              "fillmode": "overlay",
              "size": 10,
              "solidity": 0.2
             }
            },
            "type": "bar"
           }
          ],
          "barpolar": [
           {
            "marker": {
             "line": {
              "color": "#E5ECF6",
              "width": 0.5
             },
             "pattern": {
              "fillmode": "overlay",
              "size": 10,
              "solidity": 0.2
             }
            },
            "type": "barpolar"
           }
          ],
          "carpet": [
           {
            "aaxis": {
             "endlinecolor": "#2a3f5f",
             "gridcolor": "white",
             "linecolor": "white",
             "minorgridcolor": "white",
             "startlinecolor": "#2a3f5f"
            },
            "baxis": {
             "endlinecolor": "#2a3f5f",
             "gridcolor": "white",
             "linecolor": "white",
             "minorgridcolor": "white",
             "startlinecolor": "#2a3f5f"
            },
            "type": "carpet"
           }
          ],
          "choropleth": [
           {
            "colorbar": {
             "outlinewidth": 0,
             "ticks": ""
            },
            "type": "choropleth"
           }
          ],
          "contour": [
           {
            "colorbar": {
             "outlinewidth": 0,
             "ticks": ""
            },
            "colorscale": [
             [
              0,
              "#0d0887"
             ],
             [
              0.1111111111111111,
              "#46039f"
             ],
             [
              0.2222222222222222,
              "#7201a8"
             ],
             [
              0.3333333333333333,
              "#9c179e"
             ],
             [
              0.4444444444444444,
              "#bd3786"
             ],
             [
              0.5555555555555556,
              "#d8576b"
             ],
             [
              0.6666666666666666,
              "#ed7953"
             ],
             [
              0.7777777777777778,
              "#fb9f3a"
             ],
             [
              0.8888888888888888,
              "#fdca26"
             ],
             [
              1,
              "#f0f921"
             ]
            ],
            "type": "contour"
           }
          ],
          "contourcarpet": [
           {
            "colorbar": {
             "outlinewidth": 0,
             "ticks": ""
            },
            "type": "contourcarpet"
           }
          ],
          "heatmap": [
           {
            "colorbar": {
             "outlinewidth": 0,
             "ticks": ""
            },
            "colorscale": [
             [
              0,
              "#0d0887"
             ],
             [
              0.1111111111111111,
              "#46039f"
             ],
             [
              0.2222222222222222,
              "#7201a8"
             ],
             [
              0.3333333333333333,
              "#9c179e"
             ],
             [
              0.4444444444444444,
              "#bd3786"
             ],
             [
              0.5555555555555556,
              "#d8576b"
             ],
             [
              0.6666666666666666,
              "#ed7953"
             ],
             [
              0.7777777777777778,
              "#fb9f3a"
             ],
             [
              0.8888888888888888,
              "#fdca26"
             ],
             [
              1,
              "#f0f921"
             ]
            ],
            "type": "heatmap"
           }
          ],
          "heatmapgl": [
           {
            "colorbar": {
             "outlinewidth": 0,
             "ticks": ""
            },
            "colorscale": [
             [
              0,
              "#0d0887"
             ],
             [
              0.1111111111111111,
              "#46039f"
             ],
             [
              0.2222222222222222,
              "#7201a8"
             ],
             [
              0.3333333333333333,
              "#9c179e"
             ],
             [
              0.4444444444444444,
              "#bd3786"
             ],
             [
              0.5555555555555556,
              "#d8576b"
             ],
             [
              0.6666666666666666,
              "#ed7953"
             ],
             [
              0.7777777777777778,
              "#fb9f3a"
             ],
             [
              0.8888888888888888,
              "#fdca26"
             ],
             [
              1,
              "#f0f921"
             ]
            ],
            "type": "heatmapgl"
           }
          ],
          "histogram": [
           {
            "marker": {
             "pattern": {
              "fillmode": "overlay",
              "size": 10,
              "solidity": 0.2
             }
            },
            "type": "histogram"
           }
          ],
          "histogram2d": [
           {
            "colorbar": {
             "outlinewidth": 0,
             "ticks": ""
            },
            "colorscale": [
             [
              0,
              "#0d0887"
             ],
             [
              0.1111111111111111,
              "#46039f"
             ],
             [
              0.2222222222222222,
              "#7201a8"
             ],
             [
              0.3333333333333333,
              "#9c179e"
             ],
             [
              0.4444444444444444,
              "#bd3786"
             ],
             [
              0.5555555555555556,
              "#d8576b"
             ],
             [
              0.6666666666666666,
              "#ed7953"
             ],
             [
              0.7777777777777778,
              "#fb9f3a"
             ],
             [
              0.8888888888888888,
              "#fdca26"
             ],
             [
              1,
              "#f0f921"
             ]
            ],
            "type": "histogram2d"
           }
          ],
          "histogram2dcontour": [
           {
            "colorbar": {
             "outlinewidth": 0,
             "ticks": ""
            },
            "colorscale": [
             [
              0,
              "#0d0887"
             ],
             [
              0.1111111111111111,
              "#46039f"
             ],
             [
              0.2222222222222222,
              "#7201a8"
             ],
             [
              0.3333333333333333,
              "#9c179e"
             ],
             [
              0.4444444444444444,
              "#bd3786"
             ],
             [
              0.5555555555555556,
              "#d8576b"
             ],
             [
              0.6666666666666666,
              "#ed7953"
             ],
             [
              0.7777777777777778,
              "#fb9f3a"
             ],
             [
              0.8888888888888888,
              "#fdca26"
             ],
             [
              1,
              "#f0f921"
             ]
            ],
            "type": "histogram2dcontour"
           }
          ],
          "mesh3d": [
           {
            "colorbar": {
             "outlinewidth": 0,
             "ticks": ""
            },
            "type": "mesh3d"
           }
          ],
          "parcoords": [
           {
            "line": {
             "colorbar": {
              "outlinewidth": 0,
              "ticks": ""
             }
            },
            "type": "parcoords"
           }
          ],
          "pie": [
           {
            "automargin": true,
            "type": "pie"
           }
          ],
          "scatter": [
           {
            "fillpattern": {
             "fillmode": "overlay",
             "size": 10,
             "solidity": 0.2
            },
            "type": "scatter"
           }
          ],
          "scatter3d": [
           {
            "line": {
             "colorbar": {
              "outlinewidth": 0,
              "ticks": ""
             }
            },
            "marker": {
             "colorbar": {
              "outlinewidth": 0,
              "ticks": ""
             }
            },
            "type": "scatter3d"
           }
          ],
          "scattercarpet": [
           {
            "marker": {
             "colorbar": {
              "outlinewidth": 0,
              "ticks": ""
             }
            },
            "type": "scattercarpet"
           }
          ],
          "scattergeo": [
           {
            "marker": {
             "colorbar": {
              "outlinewidth": 0,
              "ticks": ""
             }
            },
            "type": "scattergeo"
           }
          ],
          "scattergl": [
           {
            "marker": {
             "colorbar": {
              "outlinewidth": 0,
              "ticks": ""
             }
            },
            "type": "scattergl"
           }
          ],
          "scattermapbox": [
           {
            "marker": {
             "colorbar": {
              "outlinewidth": 0,
              "ticks": ""
             }
            },
            "type": "scattermapbox"
           }
          ],
          "scatterpolar": [
           {
            "marker": {
             "colorbar": {
              "outlinewidth": 0,
              "ticks": ""
             }
            },
            "type": "scatterpolar"
           }
          ],
          "scatterpolargl": [
           {
            "marker": {
             "colorbar": {
              "outlinewidth": 0,
              "ticks": ""
             }
            },
            "type": "scatterpolargl"
           }
          ],
          "scatterternary": [
           {
            "marker": {
             "colorbar": {
              "outlinewidth": 0,
              "ticks": ""
             }
            },
            "type": "scatterternary"
           }
          ],
          "surface": [
           {
            "colorbar": {
             "outlinewidth": 0,
             "ticks": ""
            },
            "colorscale": [
             [
              0,
              "#0d0887"
             ],
             [
              0.1111111111111111,
              "#46039f"
             ],
             [
              0.2222222222222222,
              "#7201a8"
             ],
             [
              0.3333333333333333,
              "#9c179e"
             ],
             [
              0.4444444444444444,
              "#bd3786"
             ],
             [
              0.5555555555555556,
              "#d8576b"
             ],
             [
              0.6666666666666666,
              "#ed7953"
             ],
             [
              0.7777777777777778,
              "#fb9f3a"
             ],
             [
              0.8888888888888888,
              "#fdca26"
             ],
             [
              1,
              "#f0f921"
             ]
            ],
            "type": "surface"
           }
          ],
          "table": [
           {
            "cells": {
             "fill": {
              "color": "#EBF0F8"
             },
             "line": {
              "color": "white"
             }
            },
            "header": {
             "fill": {
              "color": "#C8D4E3"
             },
             "line": {
              "color": "white"
             }
            },
            "type": "table"
           }
          ]
         },
         "layout": {
          "annotationdefaults": {
           "arrowcolor": "#2a3f5f",
           "arrowhead": 0,
           "arrowwidth": 1
          },
          "autotypenumbers": "strict",
          "coloraxis": {
           "colorbar": {
            "outlinewidth": 0,
            "ticks": ""
           }
          },
          "colorscale": {
           "diverging": [
            [
             0,
             "#8e0152"
            ],
            [
             0.1,
             "#c51b7d"
            ],
            [
             0.2,
             "#de77ae"
            ],
            [
             0.3,
             "#f1b6da"
            ],
            [
             0.4,
             "#fde0ef"
            ],
            [
             0.5,
             "#f7f7f7"
            ],
            [
             0.6,
             "#e6f5d0"
            ],
            [
             0.7,
             "#b8e186"
            ],
            [
             0.8,
             "#7fbc41"
            ],
            [
             0.9,
             "#4d9221"
            ],
            [
             1,
             "#276419"
            ]
           ],
           "sequential": [
            [
             0,
             "#0d0887"
            ],
            [
             0.1111111111111111,
             "#46039f"
            ],
            [
             0.2222222222222222,
             "#7201a8"
            ],
            [
             0.3333333333333333,
             "#9c179e"
            ],
            [
             0.4444444444444444,
             "#bd3786"
            ],
            [
             0.5555555555555556,
             "#d8576b"
            ],
            [
             0.6666666666666666,
             "#ed7953"
            ],
            [
             0.7777777777777778,
             "#fb9f3a"
            ],
            [
             0.8888888888888888,
             "#fdca26"
            ],
            [
             1,
             "#f0f921"
            ]
           ],
           "sequentialminus": [
            [
             0,
             "#0d0887"
            ],
            [
             0.1111111111111111,
             "#46039f"
            ],
            [
             0.2222222222222222,
             "#7201a8"
            ],
            [
             0.3333333333333333,
             "#9c179e"
            ],
            [
             0.4444444444444444,
             "#bd3786"
            ],
            [
             0.5555555555555556,
             "#d8576b"
            ],
            [
             0.6666666666666666,
             "#ed7953"
            ],
            [
             0.7777777777777778,
             "#fb9f3a"
            ],
            [
             0.8888888888888888,
             "#fdca26"
            ],
            [
             1,
             "#f0f921"
            ]
           ]
          },
          "colorway": [
           "#636efa",
           "#EF553B",
           "#00cc96",
           "#ab63fa",
           "#FFA15A",
           "#19d3f3",
           "#FF6692",
           "#B6E880",
           "#FF97FF",
           "#FECB52"
          ],
          "font": {
           "color": "#2a3f5f"
          },
          "geo": {
           "bgcolor": "white",
           "lakecolor": "white",
           "landcolor": "#E5ECF6",
           "showlakes": true,
           "showland": true,
           "subunitcolor": "white"
          },
          "hoverlabel": {
           "align": "left"
          },
          "hovermode": "closest",
          "mapbox": {
           "style": "light"
          },
          "paper_bgcolor": "white",
          "plot_bgcolor": "#E5ECF6",
          "polar": {
           "angularaxis": {
            "gridcolor": "white",
            "linecolor": "white",
            "ticks": ""
           },
           "bgcolor": "#E5ECF6",
           "radialaxis": {
            "gridcolor": "white",
            "linecolor": "white",
            "ticks": ""
           }
          },
          "scene": {
           "xaxis": {
            "backgroundcolor": "#E5ECF6",
            "gridcolor": "white",
            "gridwidth": 2,
            "linecolor": "white",
            "showbackground": true,
            "ticks": "",
            "zerolinecolor": "white"
           },
           "yaxis": {
            "backgroundcolor": "#E5ECF6",
            "gridcolor": "white",
            "gridwidth": 2,
            "linecolor": "white",
            "showbackground": true,
            "ticks": "",
            "zerolinecolor": "white"
           },
           "zaxis": {
            "backgroundcolor": "#E5ECF6",
            "gridcolor": "white",
            "gridwidth": 2,
            "linecolor": "white",
            "showbackground": true,
            "ticks": "",
            "zerolinecolor": "white"
           }
          },
          "shapedefaults": {
           "line": {
            "color": "#2a3f5f"
           }
          },
          "ternary": {
           "aaxis": {
            "gridcolor": "white",
            "linecolor": "white",
            "ticks": ""
           },
           "baxis": {
            "gridcolor": "white",
            "linecolor": "white",
            "ticks": ""
           },
           "bgcolor": "#E5ECF6",
           "caxis": {
            "gridcolor": "white",
            "linecolor": "white",
            "ticks": ""
           }
          },
          "title": {
           "x": 0.05
          },
          "xaxis": {
           "automargin": true,
           "gridcolor": "white",
           "linecolor": "white",
           "ticks": "",
           "title": {
            "standoff": 15
           },
           "zerolinecolor": "white",
           "zerolinewidth": 2
          },
          "yaxis": {
           "automargin": true,
           "gridcolor": "white",
           "linecolor": "white",
           "ticks": "",
           "title": {
            "standoff": 15
           },
           "zerolinecolor": "white",
           "zerolinewidth": 2
          }
         }
        },
        "xaxis": {
         "anchor": "y",
         "domain": [
          0,
          1
         ],
         "title": {
          "text": "Impact"
         }
        },
        "yaxis": {
         "anchor": "x",
         "domain": [
          0,
          1
         ],
         "ticktext": [
          "Customers[ARR] (latest)",
          "Contract_Duration",
          "Customers[Products_Purchased] (5 ye",
          "CSAT[Net_Promoter_Score] (latest)",
          "Prediction_Point (days from Product",
          "Product_Usage[Activity_Type] (1 mon",
          "Product_Usage (180 days count)",
          "duration(Renewal_Date, Customer_Sin",
          "Products_Purchased",
          "Product_Usage[UserID] (180 days uni",
          "Product_Usage[Activity_Type] (180 d",
          "Product_Usage[Activity_Type] (180 d",
          "Annual_Revenue",
          "Customers[Products_Purchased] (5 ye",
          "State",
          "Customers[ARR] (5 years avg)",
          "Customers[Contract_Duration] (5 yea",
          "Product_Usage[Activity_Type] (1 mon",
          "Customers[Products_Purchased] (5 ye",
          "Customers[Contract_Duration] (5 yea",
          "Prediction_Point (Year)",
          "Industry",
          "Customers[Contract_Duration] (5 yea",
          "Product_Usage (1 month count)",
          "Product_Usage[UserID] (1 month uniq"
         ],
         "tickvals": [
          0,
          1,
          2,
          3,
          4,
          5,
          6,
          7,
          8,
          9,
          10,
          11,
          12,
          13,
          14,
          15,
          16,
          17,
          18,
          19,
          20,
          21,
          22,
          23,
          24
         ],
         "title": {
          "text": "Feature Name"
         }
        }
       }
      },
      "text/html": [
       "<div>                            <div id=\"83a766bc-caf1-4611-91c9-4af089c9f085\" class=\"plotly-graph-div\" style=\"height:500px; width:100%;\"></div>            <script type=\"text/javascript\">                require([\"plotly\"], function(Plotly) {                    window.PLOTLYENV=window.PLOTLYENV || {};                                    if (document.getElementById(\"83a766bc-caf1-4611-91c9-4af089c9f085\")) {                    Plotly.newPlot(                        \"83a766bc-caf1-4611-91c9-4af089c9f085\",                        [{\"alignmentgroup\":\"True\",\"hovertemplate\":\"<b>Feature Name:</b> %{y} <br><b>Feature Strength:</b> %{x}<extra></extra>\",\"legendgroup\":\"\",\"marker\":{\"color\":\"#636efa\",\"pattern\":{\"shape\":\"\"}},\"name\":\"\",\"offsetgroup\":\"\",\"orientation\":\"h\",\"showlegend\":false,\"textposition\":\"auto\",\"x\":[9.4149192368,9.6440620867,13.907267324100001,14.250346588,15.478154529600001,16.8544250106,17.075320618299997,17.4048691366,18.535638564899998,20.1096397917,20.9111335395,22.481023926899997,23.201123124699997,25.125061331700003,28.6313252502,29.115419231399997,30.870066015600003,30.952819565000002,38.134041788400005,39.418236178,43.03910163,43.2122761236,51.789886767700004,65.5591923299,72.1172307277],\"xaxis\":\"x\",\"y\":[\"Customers[ARR] (latest)\",\"Contract_Duration\",\"Customers[Products_Purchased] (5 years count of business_essentials)\",\"CSAT[Net_Promoter_Score] (latest)\",\"Prediction_Point (days from Product_Usage[Activity_Timestamp]) (180 days avg)\",\"Product_Usage[Activity_Type] (1 month most frequent)\",\"Product_Usage (180 days count)\",\"duration(Renewal_Date, Customer_Since_Date)\",\"Products_Purchased\",\"Product_Usage[UserID] (180 days unique count)\",\"Product_Usage[Activity_Type] (180 days most frequent)\",\"Product_Usage[Activity_Type] (180 days unique count)\",\"Annual_Revenue\",\"Customers[Products_Purchased] (5 years most frequent)\",\"State\",\"Customers[ARR] (5 years avg)\",\"Customers[Contract_Duration] (5 years avg)\",\"Product_Usage[Activity_Type] (1 month unique count)\",\"Customers[Products_Purchased] (5 years count of enterprise)\",\"Customers[Contract_Duration] (5 years most frequent)\",\"Prediction_Point (Year)\",\"Industry\",\"Customers[Contract_Duration] (5 years unique count)\",\"Product_Usage (1 month count)\",\"Product_Usage[UserID] (1 month unique count)\"],\"yaxis\":\"y\",\"type\":\"bar\"}],                        {\"template\":{\"data\":{\"histogram2dcontour\":[{\"type\":\"histogram2dcontour\",\"colorbar\":{\"outlinewidth\":0,\"ticks\":\"\"},\"colorscale\":[[0.0,\"#0d0887\"],[0.1111111111111111,\"#46039f\"],[0.2222222222222222,\"#7201a8\"],[0.3333333333333333,\"#9c179e\"],[0.4444444444444444,\"#bd3786\"],[0.5555555555555556,\"#d8576b\"],[0.6666666666666666,\"#ed7953\"],[0.7777777777777778,\"#fb9f3a\"],[0.8888888888888888,\"#fdca26\"],[1.0,\"#f0f921\"]]}],\"choropleth\":[{\"type\":\"choropleth\",\"colorbar\":{\"outlinewidth\":0,\"ticks\":\"\"}}],\"histogram2d\":[{\"type\":\"histogram2d\",\"colorbar\":{\"outlinewidth\":0,\"ticks\":\"\"},\"colorscale\":[[0.0,\"#0d0887\"],[0.1111111111111111,\"#46039f\"],[0.2222222222222222,\"#7201a8\"],[0.3333333333333333,\"#9c179e\"],[0.4444444444444444,\"#bd3786\"],[0.5555555555555556,\"#d8576b\"],[0.6666666666666666,\"#ed7953\"],[0.7777777777777778,\"#fb9f3a\"],[0.8888888888888888,\"#fdca26\"],[1.0,\"#f0f921\"]]}],\"heatmap\":[{\"type\":\"heatmap\",\"colorbar\":{\"outlinewidth\":0,\"ticks\":\"\"},\"colorscale\":[[0.0,\"#0d0887\"],[0.1111111111111111,\"#46039f\"],[0.2222222222222222,\"#7201a8\"],[0.3333333333333333,\"#9c179e\"],[0.4444444444444444,\"#bd3786\"],[0.5555555555555556,\"#d8576b\"],[0.6666666666666666,\"#ed7953\"],[0.7777777777777778,\"#fb9f3a\"],[0.8888888888888888,\"#fdca26\"],[1.0,\"#f0f921\"]]}],\"heatmapgl\":[{\"type\":\"heatmapgl\",\"colorbar\":{\"outlinewidth\":0,\"ticks\":\"\"},\"colorscale\":[[0.0,\"#0d0887\"],[0.1111111111111111,\"#46039f\"],[0.2222222222222222,\"#7201a8\"],[0.3333333333333333,\"#9c179e\"],[0.4444444444444444,\"#bd3786\"],[0.5555555555555556,\"#d8576b\"],[0.6666666666666666,\"#ed7953\"],[0.7777777777777778,\"#fb9f3a\"],[0.8888888888888888,\"#fdca26\"],[1.0,\"#f0f921\"]]}],\"contourcarpet\":[{\"type\":\"contourcarpet\",\"colorbar\":{\"outlinewidth\":0,\"ticks\":\"\"}}],\"contour\":[{\"type\":\"contour\",\"colorbar\":{\"outlinewidth\":0,\"ticks\":\"\"},\"colorscale\":[[0.0,\"#0d0887\"],[0.1111111111111111,\"#46039f\"],[0.2222222222222222,\"#7201a8\"],[0.3333333333333333,\"#9c179e\"],[0.4444444444444444,\"#bd3786\"],[0.5555555555555556,\"#d8576b\"],[0.6666666666666666,\"#ed7953\"],[0.7777777777777778,\"#fb9f3a\"],[0.8888888888888888,\"#fdca26\"],[1.0,\"#f0f921\"]]}],\"surface\":[{\"type\":\"surface\",\"colorbar\":{\"outlinewidth\":0,\"ticks\":\"\"},\"colorscale\":[[0.0,\"#0d0887\"],[0.1111111111111111,\"#46039f\"],[0.2222222222222222,\"#7201a8\"],[0.3333333333333333,\"#9c179e\"],[0.4444444444444444,\"#bd3786\"],[0.5555555555555556,\"#d8576b\"],[0.6666666666666666,\"#ed7953\"],[0.7777777777777778,\"#fb9f3a\"],[0.8888888888888888,\"#fdca26\"],[1.0,\"#f0f921\"]]}],\"mesh3d\":[{\"type\":\"mesh3d\",\"colorbar\":{\"outlinewidth\":0,\"ticks\":\"\"}}],\"scatter\":[{\"fillpattern\":{\"fillmode\":\"overlay\",\"size\":10,\"solidity\":0.2},\"type\":\"scatter\"}],\"parcoords\":[{\"type\":\"parcoords\",\"line\":{\"colorbar\":{\"outlinewidth\":0,\"ticks\":\"\"}}}],\"scatterpolargl\":[{\"type\":\"scatterpolargl\",\"marker\":{\"colorbar\":{\"outlinewidth\":0,\"ticks\":\"\"}}}],\"bar\":[{\"error_x\":{\"color\":\"#2a3f5f\"},\"error_y\":{\"color\":\"#2a3f5f\"},\"marker\":{\"line\":{\"color\":\"#E5ECF6\",\"width\":0.5},\"pattern\":{\"fillmode\":\"overlay\",\"size\":10,\"solidity\":0.2}},\"type\":\"bar\"}],\"scattergeo\":[{\"type\":\"scattergeo\",\"marker\":{\"colorbar\":{\"outlinewidth\":0,\"ticks\":\"\"}}}],\"scatterpolar\":[{\"type\":\"scatterpolar\",\"marker\":{\"colorbar\":{\"outlinewidth\":0,\"ticks\":\"\"}}}],\"histogram\":[{\"marker\":{\"pattern\":{\"fillmode\":\"overlay\",\"size\":10,\"solidity\":0.2}},\"type\":\"histogram\"}],\"scattergl\":[{\"type\":\"scattergl\",\"marker\":{\"colorbar\":{\"outlinewidth\":0,\"ticks\":\"\"}}}],\"scatter3d\":[{\"type\":\"scatter3d\",\"line\":{\"colorbar\":{\"outlinewidth\":0,\"ticks\":\"\"}},\"marker\":{\"colorbar\":{\"outlinewidth\":0,\"ticks\":\"\"}}}],\"scattermapbox\":[{\"type\":\"scattermapbox\",\"marker\":{\"colorbar\":{\"outlinewidth\":0,\"ticks\":\"\"}}}],\"scatterternary\":[{\"type\":\"scatterternary\",\"marker\":{\"colorbar\":{\"outlinewidth\":0,\"ticks\":\"\"}}}],\"scattercarpet\":[{\"type\":\"scattercarpet\",\"marker\":{\"colorbar\":{\"outlinewidth\":0,\"ticks\":\"\"}}}],\"carpet\":[{\"aaxis\":{\"endlinecolor\":\"#2a3f5f\",\"gridcolor\":\"white\",\"linecolor\":\"white\",\"minorgridcolor\":\"white\",\"startlinecolor\":\"#2a3f5f\"},\"baxis\":{\"endlinecolor\":\"#2a3f5f\",\"gridcolor\":\"white\",\"linecolor\":\"white\",\"minorgridcolor\":\"white\",\"startlinecolor\":\"#2a3f5f\"},\"type\":\"carpet\"}],\"table\":[{\"cells\":{\"fill\":{\"color\":\"#EBF0F8\"},\"line\":{\"color\":\"white\"}},\"header\":{\"fill\":{\"color\":\"#C8D4E3\"},\"line\":{\"color\":\"white\"}},\"type\":\"table\"}],\"barpolar\":[{\"marker\":{\"line\":{\"color\":\"#E5ECF6\",\"width\":0.5},\"pattern\":{\"fillmode\":\"overlay\",\"size\":10,\"solidity\":0.2}},\"type\":\"barpolar\"}],\"pie\":[{\"automargin\":true,\"type\":\"pie\"}]},\"layout\":{\"autotypenumbers\":\"strict\",\"colorway\":[\"#636efa\",\"#EF553B\",\"#00cc96\",\"#ab63fa\",\"#FFA15A\",\"#19d3f3\",\"#FF6692\",\"#B6E880\",\"#FF97FF\",\"#FECB52\"],\"font\":{\"color\":\"#2a3f5f\"},\"hovermode\":\"closest\",\"hoverlabel\":{\"align\":\"left\"},\"paper_bgcolor\":\"white\",\"plot_bgcolor\":\"#E5ECF6\",\"polar\":{\"bgcolor\":\"#E5ECF6\",\"angularaxis\":{\"gridcolor\":\"white\",\"linecolor\":\"white\",\"ticks\":\"\"},\"radialaxis\":{\"gridcolor\":\"white\",\"linecolor\":\"white\",\"ticks\":\"\"}},\"ternary\":{\"bgcolor\":\"#E5ECF6\",\"aaxis\":{\"gridcolor\":\"white\",\"linecolor\":\"white\",\"ticks\":\"\"},\"baxis\":{\"gridcolor\":\"white\",\"linecolor\":\"white\",\"ticks\":\"\"},\"caxis\":{\"gridcolor\":\"white\",\"linecolor\":\"white\",\"ticks\":\"\"}},\"coloraxis\":{\"colorbar\":{\"outlinewidth\":0,\"ticks\":\"\"}},\"colorscale\":{\"sequential\":[[0.0,\"#0d0887\"],[0.1111111111111111,\"#46039f\"],[0.2222222222222222,\"#7201a8\"],[0.3333333333333333,\"#9c179e\"],[0.4444444444444444,\"#bd3786\"],[0.5555555555555556,\"#d8576b\"],[0.6666666666666666,\"#ed7953\"],[0.7777777777777778,\"#fb9f3a\"],[0.8888888888888888,\"#fdca26\"],[1.0,\"#f0f921\"]],\"sequentialminus\":[[0.0,\"#0d0887\"],[0.1111111111111111,\"#46039f\"],[0.2222222222222222,\"#7201a8\"],[0.3333333333333333,\"#9c179e\"],[0.4444444444444444,\"#bd3786\"],[0.5555555555555556,\"#d8576b\"],[0.6666666666666666,\"#ed7953\"],[0.7777777777777778,\"#fb9f3a\"],[0.8888888888888888,\"#fdca26\"],[1.0,\"#f0f921\"]],\"diverging\":[[0,\"#8e0152\"],[0.1,\"#c51b7d\"],[0.2,\"#de77ae\"],[0.3,\"#f1b6da\"],[0.4,\"#fde0ef\"],[0.5,\"#f7f7f7\"],[0.6,\"#e6f5d0\"],[0.7,\"#b8e186\"],[0.8,\"#7fbc41\"],[0.9,\"#4d9221\"],[1,\"#276419\"]]},\"xaxis\":{\"gridcolor\":\"white\",\"linecolor\":\"white\",\"ticks\":\"\",\"title\":{\"standoff\":15},\"zerolinecolor\":\"white\",\"automargin\":true,\"zerolinewidth\":2},\"yaxis\":{\"gridcolor\":\"white\",\"linecolor\":\"white\",\"ticks\":\"\",\"title\":{\"standoff\":15},\"zerolinecolor\":\"white\",\"automargin\":true,\"zerolinewidth\":2},\"scene\":{\"xaxis\":{\"backgroundcolor\":\"#E5ECF6\",\"gridcolor\":\"white\",\"linecolor\":\"white\",\"showbackground\":true,\"ticks\":\"\",\"zerolinecolor\":\"white\",\"gridwidth\":2},\"yaxis\":{\"backgroundcolor\":\"#E5ECF6\",\"gridcolor\":\"white\",\"linecolor\":\"white\",\"showbackground\":true,\"ticks\":\"\",\"zerolinecolor\":\"white\",\"gridwidth\":2},\"zaxis\":{\"backgroundcolor\":\"#E5ECF6\",\"gridcolor\":\"white\",\"linecolor\":\"white\",\"showbackground\":true,\"ticks\":\"\",\"zerolinecolor\":\"white\",\"gridwidth\":2}},\"shapedefaults\":{\"line\":{\"color\":\"#2a3f5f\"}},\"annotationdefaults\":{\"arrowcolor\":\"#2a3f5f\",\"arrowhead\":0,\"arrowwidth\":1},\"geo\":{\"bgcolor\":\"white\",\"landcolor\":\"#E5ECF6\",\"subunitcolor\":\"white\",\"showland\":true,\"showlakes\":true,\"lakecolor\":\"white\"},\"title\":{\"x\":0.05},\"mapbox\":{\"style\":\"light\"}}},\"xaxis\":{\"anchor\":\"y\",\"domain\":[0.0,1.0],\"title\":{\"text\":\"Impact\"}},\"yaxis\":{\"anchor\":\"x\",\"domain\":[0.0,1.0],\"title\":{\"text\":\"Feature Name\"},\"tickvals\":[0,1,2,3,4,5,6,7,8,9,10,11,12,13,14,15,16,17,18,19,20,21,22,23,24],\"ticktext\":[\"Customers[ARR] (latest)\",\"Contract_Duration\",\"Customers[Products_Purchased] (5 ye\",\"CSAT[Net_Promoter_Score] (latest)\",\"Prediction_Point (days from Product\",\"Product_Usage[Activity_Type] (1 mon\",\"Product_Usage (180 days count)\",\"duration(Renewal_Date, Customer_Sin\",\"Products_Purchased\",\"Product_Usage[UserID] (180 days uni\",\"Product_Usage[Activity_Type] (180 d\",\"Product_Usage[Activity_Type] (180 d\",\"Annual_Revenue\",\"Customers[Products_Purchased] (5 ye\",\"State\",\"Customers[ARR] (5 years avg)\",\"Customers[Contract_Duration] (5 yea\",\"Product_Usage[Activity_Type] (1 mon\",\"Customers[Products_Purchased] (5 ye\",\"Customers[Contract_Duration] (5 yea\",\"Prediction_Point (Year)\",\"Industry\",\"Customers[Contract_Duration] (5 yea\",\"Product_Usage (1 month count)\",\"Product_Usage[UserID] (1 month uniq\"]},\"legend\":{\"tracegroupgap\":0},\"margin\":{\"t\":60},\"barmode\":\"relative\",\"height\":500,\"hoverlabel\":{\"font\":{\"size\":16,\"family\":\"Rockwell\"},\"bgcolor\":\"white\",\"namelength\":-1}},                        {\"responsive\": true}                    ).then(function(){\n",
       "                            \n",
       "var gd = document.getElementById('83a766bc-caf1-4611-91c9-4af089c9f085');\n",
       "var x = new MutationObserver(function (mutations, observer) {{\n",
       "        var display = window.getComputedStyle(gd).display;\n",
       "        if (!display || display === 'none') {{\n",
       "            console.log([gd, 'removed!']);\n",
       "            Plotly.purge(gd);\n",
       "            observer.disconnect();\n",
       "        }}\n",
       "}});\n",
       "\n",
       "// Listen for the removal of the full notebook cells\n",
       "var notebookContainer = gd.closest('#notebook-container');\n",
       "if (notebookContainer) {{\n",
       "    x.observe(notebookContainer, {childList: true});\n",
       "}}\n",
       "\n",
       "// Listen for the clearing of the current output cell\n",
       "var outputEl = gd.closest('.output');\n",
       "if (outputEl) {{\n",
       "    x.observe(outputEl, {childList: true});\n",
       "}}\n",
       "\n",
       "                        })                };                });            </script>        </div>"
      ]
     },
     "metadata": {},
     "output_type": "display_data"
    }
   ],
   "source": [
    "# aggregate feature impact\n",
    "plot_feature_impact(melted, height=500)"
   ]
  },
  {
   "cell_type": "code",
   "execution_count": 160,
   "id": "23aad990",
   "metadata": {},
   "outputs": [
    {
     "data": {
      "application/vnd.plotly.v1+json": {
       "config": {
        "plotlyServerURL": "https://plot.ly"
       },
       "data": [
        {
         "hovertemplate": "<b>Feature Name:</b> %{y} <br><b>Feature Strength:</b> %{x}<extra></extra>",
         "name": "Positive Impact",
         "orientation": "h",
         "type": "bar",
         "x": [
          9.4149192368,
          9.6440620867,
          13.907267324100003,
          14.250346588,
          15.478154529599998,
          16.8544250106,
          17.0753206183,
          17.4048691366,
          18.535638564899998,
          20.1096397917,
          20.9111335395,
          43.03910163,
          22.481023926899997,
          23.2011231247,
          25.1250613317,
          28.6313252502,
          29.115419231400008,
          30.870066015600006,
          30.952819565,
          38.134041788400005,
          39.418236178,
          43.2122761236,
          51.7898867677,
          65.5591923299,
          72.1172307277
         ],
         "y": [
          "Customers[ARR] (latest)",
          "Contract_Duration",
          "Customers[Products_Purchased] (5 years count of business_essentials)",
          "CSAT[Net_Promoter_Score] (latest)",
          "Prediction_Point (days from Product_Usage[Activity_Timestamp]) (180 days avg)",
          "Product_Usage[Activity_Type] (1 month most frequent)",
          "Product_Usage (180 days count)",
          "duration(Renewal_Date, Customer_Since_Date)",
          "Products_Purchased",
          "Product_Usage[UserID] (180 days unique count)",
          "Product_Usage[Activity_Type] (180 days most frequent)",
          "Prediction_Point (Year)",
          "Product_Usage[Activity_Type] (180 days unique count)",
          "Annual_Revenue",
          "Customers[Products_Purchased] (5 years most frequent)",
          "State",
          "Customers[ARR] (5 years avg)",
          "Customers[Contract_Duration] (5 years avg)",
          "Product_Usage[Activity_Type] (1 month unique count)",
          "Customers[Products_Purchased] (5 years count of enterprise)",
          "Customers[Contract_Duration] (5 years most frequent)",
          "Industry",
          "Customers[Contract_Duration] (5 years unique count)",
          "Product_Usage (1 month count)",
          "Product_Usage[UserID] (1 month unique count)"
         ]
        },
        {
         "hovertemplate": "<b>Feature Name:</b> %{y} <br><b>Feature Strength:</b> %{x}<extra></extra>",
         "name": "Negative Impact",
         "orientation": "h",
         "type": "bar",
         "x": [
          9.4149192368,
          9.6440620867,
          13.907267324100003,
          14.250346588,
          15.478154529599998,
          16.8544250106,
          17.0753206183,
          17.4048691366,
          18.535638564899998,
          20.1096397917,
          20.9111335395,
          0,
          22.481023926899997,
          23.2011231247,
          25.1250613317,
          28.6313252502,
          29.115419231400008,
          30.870066015600006,
          30.952819565,
          38.134041788400005,
          39.418236178,
          43.2122761236,
          51.7898867677,
          65.5591923299,
          72.1172307277
         ],
         "y": [
          "Customers[ARR] (latest)",
          "Contract_Duration",
          "Customers[Products_Purchased] (5 years count of business_essentials)",
          "CSAT[Net_Promoter_Score] (latest)",
          "Prediction_Point (days from Product_Usage[Activity_Timestamp]) (180 days avg)",
          "Product_Usage[Activity_Type] (1 month most frequent)",
          "Product_Usage (180 days count)",
          "duration(Renewal_Date, Customer_Since_Date)",
          "Products_Purchased",
          "Product_Usage[UserID] (180 days unique count)",
          "Product_Usage[Activity_Type] (180 days most frequent)",
          "Prediction_Point (Year)",
          "Product_Usage[Activity_Type] (180 days unique count)",
          "Annual_Revenue",
          "Customers[Products_Purchased] (5 years most frequent)",
          "State",
          "Customers[ARR] (5 years avg)",
          "Customers[Contract_Duration] (5 years avg)",
          "Product_Usage[Activity_Type] (1 month unique count)",
          "Customers[Products_Purchased] (5 years count of enterprise)",
          "Customers[Contract_Duration] (5 years most frequent)",
          "Industry",
          "Customers[Contract_Duration] (5 years unique count)",
          "Product_Usage (1 month count)",
          "Product_Usage[UserID] (1 month unique count)"
         ]
        }
       ],
       "layout": {
        "barmode": "stack",
        "height": 500,
        "hoverlabel": {
         "bgcolor": "white",
         "font": {
          "family": "Rockwell",
          "size": 16
         },
         "namelength": -1
        },
        "legend": {
         "orientation": "h",
         "x": 1,
         "xanchor": "right",
         "y": 1.02,
         "yanchor": "bottom"
        },
        "margin": {
         "b": 20,
         "l": 20,
         "r": 0,
         "t": 20
        },
        "template": {
         "data": {
          "bar": [
           {
            "error_x": {
             "color": "#2a3f5f"
            },
            "error_y": {
             "color": "#2a3f5f"
            },
            "marker": {
             "line": {
              "color": "#E5ECF6",
              "width": 0.5
             },
             "pattern": {
              "fillmode": "overlay",
              "size": 10,
              "solidity": 0.2
             }
            },
            "type": "bar"
           }
          ],
          "barpolar": [
           {
            "marker": {
             "line": {
              "color": "#E5ECF6",
              "width": 0.5
             },
             "pattern": {
              "fillmode": "overlay",
              "size": 10,
              "solidity": 0.2
             }
            },
            "type": "barpolar"
           }
          ],
          "carpet": [
           {
            "aaxis": {
             "endlinecolor": "#2a3f5f",
             "gridcolor": "white",
             "linecolor": "white",
             "minorgridcolor": "white",
             "startlinecolor": "#2a3f5f"
            },
            "baxis": {
             "endlinecolor": "#2a3f5f",
             "gridcolor": "white",
             "linecolor": "white",
             "minorgridcolor": "white",
             "startlinecolor": "#2a3f5f"
            },
            "type": "carpet"
           }
          ],
          "choropleth": [
           {
            "colorbar": {
             "outlinewidth": 0,
             "ticks": ""
            },
            "type": "choropleth"
           }
          ],
          "contour": [
           {
            "colorbar": {
             "outlinewidth": 0,
             "ticks": ""
            },
            "colorscale": [
             [
              0,
              "#0d0887"
             ],
             [
              0.1111111111111111,
              "#46039f"
             ],
             [
              0.2222222222222222,
              "#7201a8"
             ],
             [
              0.3333333333333333,
              "#9c179e"
             ],
             [
              0.4444444444444444,
              "#bd3786"
             ],
             [
              0.5555555555555556,
              "#d8576b"
             ],
             [
              0.6666666666666666,
              "#ed7953"
             ],
             [
              0.7777777777777778,
              "#fb9f3a"
             ],
             [
              0.8888888888888888,
              "#fdca26"
             ],
             [
              1,
              "#f0f921"
             ]
            ],
            "type": "contour"
           }
          ],
          "contourcarpet": [
           {
            "colorbar": {
             "outlinewidth": 0,
             "ticks": ""
            },
            "type": "contourcarpet"
           }
          ],
          "heatmap": [
           {
            "colorbar": {
             "outlinewidth": 0,
             "ticks": ""
            },
            "colorscale": [
             [
              0,
              "#0d0887"
             ],
             [
              0.1111111111111111,
              "#46039f"
             ],
             [
              0.2222222222222222,
              "#7201a8"
             ],
             [
              0.3333333333333333,
              "#9c179e"
             ],
             [
              0.4444444444444444,
              "#bd3786"
             ],
             [
              0.5555555555555556,
              "#d8576b"
             ],
             [
              0.6666666666666666,
              "#ed7953"
             ],
             [
              0.7777777777777778,
              "#fb9f3a"
             ],
             [
              0.8888888888888888,
              "#fdca26"
             ],
             [
              1,
              "#f0f921"
             ]
            ],
            "type": "heatmap"
           }
          ],
          "heatmapgl": [
           {
            "colorbar": {
             "outlinewidth": 0,
             "ticks": ""
            },
            "colorscale": [
             [
              0,
              "#0d0887"
             ],
             [
              0.1111111111111111,
              "#46039f"
             ],
             [
              0.2222222222222222,
              "#7201a8"
             ],
             [
              0.3333333333333333,
              "#9c179e"
             ],
             [
              0.4444444444444444,
              "#bd3786"
             ],
             [
              0.5555555555555556,
              "#d8576b"
             ],
             [
              0.6666666666666666,
              "#ed7953"
             ],
             [
              0.7777777777777778,
              "#fb9f3a"
             ],
             [
              0.8888888888888888,
              "#fdca26"
             ],
             [
              1,
              "#f0f921"
             ]
            ],
            "type": "heatmapgl"
           }
          ],
          "histogram": [
           {
            "marker": {
             "pattern": {
              "fillmode": "overlay",
              "size": 10,
              "solidity": 0.2
             }
            },
            "type": "histogram"
           }
          ],
          "histogram2d": [
           {
            "colorbar": {
             "outlinewidth": 0,
             "ticks": ""
            },
            "colorscale": [
             [
              0,
              "#0d0887"
             ],
             [
              0.1111111111111111,
              "#46039f"
             ],
             [
              0.2222222222222222,
              "#7201a8"
             ],
             [
              0.3333333333333333,
              "#9c179e"
             ],
             [
              0.4444444444444444,
              "#bd3786"
             ],
             [
              0.5555555555555556,
              "#d8576b"
             ],
             [
              0.6666666666666666,
              "#ed7953"
             ],
             [
              0.7777777777777778,
              "#fb9f3a"
             ],
             [
              0.8888888888888888,
              "#fdca26"
             ],
             [
              1,
              "#f0f921"
             ]
            ],
            "type": "histogram2d"
           }
          ],
          "histogram2dcontour": [
           {
            "colorbar": {
             "outlinewidth": 0,
             "ticks": ""
            },
            "colorscale": [
             [
              0,
              "#0d0887"
             ],
             [
              0.1111111111111111,
              "#46039f"
             ],
             [
              0.2222222222222222,
              "#7201a8"
             ],
             [
              0.3333333333333333,
              "#9c179e"
             ],
             [
              0.4444444444444444,
              "#bd3786"
             ],
             [
              0.5555555555555556,
              "#d8576b"
             ],
             [
              0.6666666666666666,
              "#ed7953"
             ],
             [
              0.7777777777777778,
              "#fb9f3a"
             ],
             [
              0.8888888888888888,
              "#fdca26"
             ],
             [
              1,
              "#f0f921"
             ]
            ],
            "type": "histogram2dcontour"
           }
          ],
          "mesh3d": [
           {
            "colorbar": {
             "outlinewidth": 0,
             "ticks": ""
            },
            "type": "mesh3d"
           }
          ],
          "parcoords": [
           {
            "line": {
             "colorbar": {
              "outlinewidth": 0,
              "ticks": ""
             }
            },
            "type": "parcoords"
           }
          ],
          "pie": [
           {
            "automargin": true,
            "type": "pie"
           }
          ],
          "scatter": [
           {
            "fillpattern": {
             "fillmode": "overlay",
             "size": 10,
             "solidity": 0.2
            },
            "type": "scatter"
           }
          ],
          "scatter3d": [
           {
            "line": {
             "colorbar": {
              "outlinewidth": 0,
              "ticks": ""
             }
            },
            "marker": {
             "colorbar": {
              "outlinewidth": 0,
              "ticks": ""
             }
            },
            "type": "scatter3d"
           }
          ],
          "scattercarpet": [
           {
            "marker": {
             "colorbar": {
              "outlinewidth": 0,
              "ticks": ""
             }
            },
            "type": "scattercarpet"
           }
          ],
          "scattergeo": [
           {
            "marker": {
             "colorbar": {
              "outlinewidth": 0,
              "ticks": ""
             }
            },
            "type": "scattergeo"
           }
          ],
          "scattergl": [
           {
            "marker": {
             "colorbar": {
              "outlinewidth": 0,
              "ticks": ""
             }
            },
            "type": "scattergl"
           }
          ],
          "scattermapbox": [
           {
            "marker": {
             "colorbar": {
              "outlinewidth": 0,
              "ticks": ""
             }
            },
            "type": "scattermapbox"
           }
          ],
          "scatterpolar": [
           {
            "marker": {
             "colorbar": {
              "outlinewidth": 0,
              "ticks": ""
             }
            },
            "type": "scatterpolar"
           }
          ],
          "scatterpolargl": [
           {
            "marker": {
             "colorbar": {
              "outlinewidth": 0,
              "ticks": ""
             }
            },
            "type": "scatterpolargl"
           }
          ],
          "scatterternary": [
           {
            "marker": {
             "colorbar": {
              "outlinewidth": 0,
              "ticks": ""
             }
            },
            "type": "scatterternary"
           }
          ],
          "surface": [
           {
            "colorbar": {
             "outlinewidth": 0,
             "ticks": ""
            },
            "colorscale": [
             [
              0,
              "#0d0887"
             ],
             [
              0.1111111111111111,
              "#46039f"
             ],
             [
              0.2222222222222222,
              "#7201a8"
             ],
             [
              0.3333333333333333,
              "#9c179e"
             ],
             [
              0.4444444444444444,
              "#bd3786"
             ],
             [
              0.5555555555555556,
              "#d8576b"
             ],
             [
              0.6666666666666666,
              "#ed7953"
             ],
             [
              0.7777777777777778,
              "#fb9f3a"
             ],
             [
              0.8888888888888888,
              "#fdca26"
             ],
             [
              1,
              "#f0f921"
             ]
            ],
            "type": "surface"
           }
          ],
          "table": [
           {
            "cells": {
             "fill": {
              "color": "#EBF0F8"
             },
             "line": {
              "color": "white"
             }
            },
            "header": {
             "fill": {
              "color": "#C8D4E3"
             },
             "line": {
              "color": "white"
             }
            },
            "type": "table"
           }
          ]
         },
         "layout": {
          "annotationdefaults": {
           "arrowcolor": "#2a3f5f",
           "arrowhead": 0,
           "arrowwidth": 1
          },
          "autotypenumbers": "strict",
          "coloraxis": {
           "colorbar": {
            "outlinewidth": 0,
            "ticks": ""
           }
          },
          "colorscale": {
           "diverging": [
            [
             0,
             "#8e0152"
            ],
            [
             0.1,
             "#c51b7d"
            ],
            [
             0.2,
             "#de77ae"
            ],
            [
             0.3,
             "#f1b6da"
            ],
            [
             0.4,
             "#fde0ef"
            ],
            [
             0.5,
             "#f7f7f7"
            ],
            [
             0.6,
             "#e6f5d0"
            ],
            [
             0.7,
             "#b8e186"
            ],
            [
             0.8,
             "#7fbc41"
            ],
            [
             0.9,
             "#4d9221"
            ],
            [
             1,
             "#276419"
            ]
           ],
           "sequential": [
            [
             0,
             "#0d0887"
            ],
            [
             0.1111111111111111,
             "#46039f"
            ],
            [
             0.2222222222222222,
             "#7201a8"
            ],
            [
             0.3333333333333333,
             "#9c179e"
            ],
            [
             0.4444444444444444,
             "#bd3786"
            ],
            [
             0.5555555555555556,
             "#d8576b"
            ],
            [
             0.6666666666666666,
             "#ed7953"
            ],
            [
             0.7777777777777778,
             "#fb9f3a"
            ],
            [
             0.8888888888888888,
             "#fdca26"
            ],
            [
             1,
             "#f0f921"
            ]
           ],
           "sequentialminus": [
            [
             0,
             "#0d0887"
            ],
            [
             0.1111111111111111,
             "#46039f"
            ],
            [
             0.2222222222222222,
             "#7201a8"
            ],
            [
             0.3333333333333333,
             "#9c179e"
            ],
            [
             0.4444444444444444,
             "#bd3786"
            ],
            [
             0.5555555555555556,
             "#d8576b"
            ],
            [
             0.6666666666666666,
             "#ed7953"
            ],
            [
             0.7777777777777778,
             "#fb9f3a"
            ],
            [
             0.8888888888888888,
             "#fdca26"
            ],
            [
             1,
             "#f0f921"
            ]
           ]
          },
          "colorway": [
           "#636efa",
           "#EF553B",
           "#00cc96",
           "#ab63fa",
           "#FFA15A",
           "#19d3f3",
           "#FF6692",
           "#B6E880",
           "#FF97FF",
           "#FECB52"
          ],
          "font": {
           "color": "#2a3f5f"
          },
          "geo": {
           "bgcolor": "white",
           "lakecolor": "white",
           "landcolor": "#E5ECF6",
           "showlakes": true,
           "showland": true,
           "subunitcolor": "white"
          },
          "hoverlabel": {
           "align": "left"
          },
          "hovermode": "closest",
          "mapbox": {
           "style": "light"
          },
          "paper_bgcolor": "white",
          "plot_bgcolor": "#E5ECF6",
          "polar": {
           "angularaxis": {
            "gridcolor": "white",
            "linecolor": "white",
            "ticks": ""
           },
           "bgcolor": "#E5ECF6",
           "radialaxis": {
            "gridcolor": "white",
            "linecolor": "white",
            "ticks": ""
           }
          },
          "scene": {
           "xaxis": {
            "backgroundcolor": "#E5ECF6",
            "gridcolor": "white",
            "gridwidth": 2,
            "linecolor": "white",
            "showbackground": true,
            "ticks": "",
            "zerolinecolor": "white"
           },
           "yaxis": {
            "backgroundcolor": "#E5ECF6",
            "gridcolor": "white",
            "gridwidth": 2,
            "linecolor": "white",
            "showbackground": true,
            "ticks": "",
            "zerolinecolor": "white"
           },
           "zaxis": {
            "backgroundcolor": "#E5ECF6",
            "gridcolor": "white",
            "gridwidth": 2,
            "linecolor": "white",
            "showbackground": true,
            "ticks": "",
            "zerolinecolor": "white"
           }
          },
          "shapedefaults": {
           "line": {
            "color": "#2a3f5f"
           }
          },
          "ternary": {
           "aaxis": {
            "gridcolor": "white",
            "linecolor": "white",
            "ticks": ""
           },
           "baxis": {
            "gridcolor": "white",
            "linecolor": "white",
            "ticks": ""
           },
           "bgcolor": "#E5ECF6",
           "caxis": {
            "gridcolor": "white",
            "linecolor": "white",
            "ticks": ""
           }
          },
          "title": {
           "x": 0.05
          },
          "xaxis": {
           "automargin": true,
           "gridcolor": "white",
           "linecolor": "white",
           "ticks": "",
           "title": {
            "standoff": 15
           },
           "zerolinecolor": "white",
           "zerolinewidth": 2
          },
          "yaxis": {
           "automargin": true,
           "gridcolor": "white",
           "linecolor": "white",
           "ticks": "",
           "title": {
            "standoff": 15
           },
           "zerolinecolor": "white",
           "zerolinewidth": 2
          }
         }
        },
        "xaxis": {
         "title": {
          "text": "Impact"
         }
        },
        "yaxis": {
         "ticktext": [
          "Customers[ARR] (latest)",
          "Contract_Duration",
          "Customers[Products_Purchased] (5 ye",
          "CSAT[Net_Promoter_Score] (latest)",
          "Prediction_Point (days from Product",
          "Product_Usage[Activity_Type] (1 mon",
          "Product_Usage (180 days count)",
          "duration(Renewal_Date, Customer_Sin",
          "Products_Purchased",
          "Product_Usage[UserID] (180 days uni",
          "Product_Usage[Activity_Type] (180 d",
          "Prediction_Point (Year)",
          "Product_Usage[Activity_Type] (180 d",
          "Annual_Revenue",
          "Customers[Products_Purchased] (5 ye",
          "State",
          "Customers[ARR] (5 years avg)",
          "Customers[Contract_Duration] (5 yea",
          "Product_Usage[Activity_Type] (1 mon",
          "Customers[Products_Purchased] (5 ye",
          "Customers[Contract_Duration] (5 yea",
          "Industry",
          "Customers[Contract_Duration] (5 yea",
          "Product_Usage (1 month count)",
          "Product_Usage[UserID] (1 month uniq"
         ],
         "tickvals": [
          0,
          1,
          2,
          3,
          4,
          5,
          6,
          7,
          8,
          9,
          10,
          11,
          12,
          13,
          14,
          15,
          16,
          17,
          18,
          19,
          20,
          21,
          22,
          23,
          24
         ],
         "title": {
          "text": "Feature Name"
         }
        }
       }
      },
      "text/html": [
       "<div>                            <div id=\"b50ee1e2-7ea6-474e-be29-f9e6c2ccbc0c\" class=\"plotly-graph-div\" style=\"height:500px; width:100%;\"></div>            <script type=\"text/javascript\">                require([\"plotly\"], function(Plotly) {                    window.PLOTLYENV=window.PLOTLYENV || {};                                    if (document.getElementById(\"b50ee1e2-7ea6-474e-be29-f9e6c2ccbc0c\")) {                    Plotly.newPlot(                        \"b50ee1e2-7ea6-474e-be29-f9e6c2ccbc0c\",                        [{\"name\":\"Positive Impact\",\"orientation\":\"h\",\"x\":[9.4149192368,9.6440620867,13.907267324100003,14.250346588,15.478154529599998,16.8544250106,17.0753206183,17.4048691366,18.535638564899998,20.1096397917,20.9111335395,43.03910163,22.481023926899997,23.2011231247,25.1250613317,28.6313252502,29.115419231400008,30.870066015600006,30.952819565,38.134041788400005,39.418236178,43.2122761236,51.7898867677,65.5591923299,72.1172307277],\"y\":[\"Customers[ARR] (latest)\",\"Contract_Duration\",\"Customers[Products_Purchased] (5 years count of business_essentials)\",\"CSAT[Net_Promoter_Score] (latest)\",\"Prediction_Point (days from Product_Usage[Activity_Timestamp]) (180 days avg)\",\"Product_Usage[Activity_Type] (1 month most frequent)\",\"Product_Usage (180 days count)\",\"duration(Renewal_Date, Customer_Since_Date)\",\"Products_Purchased\",\"Product_Usage[UserID] (180 days unique count)\",\"Product_Usage[Activity_Type] (180 days most frequent)\",\"Prediction_Point (Year)\",\"Product_Usage[Activity_Type] (180 days unique count)\",\"Annual_Revenue\",\"Customers[Products_Purchased] (5 years most frequent)\",\"State\",\"Customers[ARR] (5 years avg)\",\"Customers[Contract_Duration] (5 years avg)\",\"Product_Usage[Activity_Type] (1 month unique count)\",\"Customers[Products_Purchased] (5 years count of enterprise)\",\"Customers[Contract_Duration] (5 years most frequent)\",\"Industry\",\"Customers[Contract_Duration] (5 years unique count)\",\"Product_Usage (1 month count)\",\"Product_Usage[UserID] (1 month unique count)\"],\"type\":\"bar\",\"hovertemplate\":\"<b>Feature Name:</b> %{y} <br><b>Feature Strength:</b> %{x}<extra></extra>\"},{\"name\":\"Negative Impact\",\"orientation\":\"h\",\"x\":[9.4149192368,9.6440620867,13.907267324100003,14.250346588,15.478154529599998,16.8544250106,17.0753206183,17.4048691366,18.535638564899998,20.1096397917,20.9111335395,0.0,22.481023926899997,23.2011231247,25.1250613317,28.6313252502,29.115419231400008,30.870066015600006,30.952819565,38.134041788400005,39.418236178,43.2122761236,51.7898867677,65.5591923299,72.1172307277],\"y\":[\"Customers[ARR] (latest)\",\"Contract_Duration\",\"Customers[Products_Purchased] (5 years count of business_essentials)\",\"CSAT[Net_Promoter_Score] (latest)\",\"Prediction_Point (days from Product_Usage[Activity_Timestamp]) (180 days avg)\",\"Product_Usage[Activity_Type] (1 month most frequent)\",\"Product_Usage (180 days count)\",\"duration(Renewal_Date, Customer_Since_Date)\",\"Products_Purchased\",\"Product_Usage[UserID] (180 days unique count)\",\"Product_Usage[Activity_Type] (180 days most frequent)\",\"Prediction_Point (Year)\",\"Product_Usage[Activity_Type] (180 days unique count)\",\"Annual_Revenue\",\"Customers[Products_Purchased] (5 years most frequent)\",\"State\",\"Customers[ARR] (5 years avg)\",\"Customers[Contract_Duration] (5 years avg)\",\"Product_Usage[Activity_Type] (1 month unique count)\",\"Customers[Products_Purchased] (5 years count of enterprise)\",\"Customers[Contract_Duration] (5 years most frequent)\",\"Industry\",\"Customers[Contract_Duration] (5 years unique count)\",\"Product_Usage (1 month count)\",\"Product_Usage[UserID] (1 month unique count)\"],\"type\":\"bar\",\"hovertemplate\":\"<b>Feature Name:</b> %{y} <br><b>Feature Strength:</b> %{x}<extra></extra>\"}],                        {\"template\":{\"data\":{\"histogram2dcontour\":[{\"type\":\"histogram2dcontour\",\"colorbar\":{\"outlinewidth\":0,\"ticks\":\"\"},\"colorscale\":[[0.0,\"#0d0887\"],[0.1111111111111111,\"#46039f\"],[0.2222222222222222,\"#7201a8\"],[0.3333333333333333,\"#9c179e\"],[0.4444444444444444,\"#bd3786\"],[0.5555555555555556,\"#d8576b\"],[0.6666666666666666,\"#ed7953\"],[0.7777777777777778,\"#fb9f3a\"],[0.8888888888888888,\"#fdca26\"],[1.0,\"#f0f921\"]]}],\"choropleth\":[{\"type\":\"choropleth\",\"colorbar\":{\"outlinewidth\":0,\"ticks\":\"\"}}],\"histogram2d\":[{\"type\":\"histogram2d\",\"colorbar\":{\"outlinewidth\":0,\"ticks\":\"\"},\"colorscale\":[[0.0,\"#0d0887\"],[0.1111111111111111,\"#46039f\"],[0.2222222222222222,\"#7201a8\"],[0.3333333333333333,\"#9c179e\"],[0.4444444444444444,\"#bd3786\"],[0.5555555555555556,\"#d8576b\"],[0.6666666666666666,\"#ed7953\"],[0.7777777777777778,\"#fb9f3a\"],[0.8888888888888888,\"#fdca26\"],[1.0,\"#f0f921\"]]}],\"heatmap\":[{\"type\":\"heatmap\",\"colorbar\":{\"outlinewidth\":0,\"ticks\":\"\"},\"colorscale\":[[0.0,\"#0d0887\"],[0.1111111111111111,\"#46039f\"],[0.2222222222222222,\"#7201a8\"],[0.3333333333333333,\"#9c179e\"],[0.4444444444444444,\"#bd3786\"],[0.5555555555555556,\"#d8576b\"],[0.6666666666666666,\"#ed7953\"],[0.7777777777777778,\"#fb9f3a\"],[0.8888888888888888,\"#fdca26\"],[1.0,\"#f0f921\"]]}],\"heatmapgl\":[{\"type\":\"heatmapgl\",\"colorbar\":{\"outlinewidth\":0,\"ticks\":\"\"},\"colorscale\":[[0.0,\"#0d0887\"],[0.1111111111111111,\"#46039f\"],[0.2222222222222222,\"#7201a8\"],[0.3333333333333333,\"#9c179e\"],[0.4444444444444444,\"#bd3786\"],[0.5555555555555556,\"#d8576b\"],[0.6666666666666666,\"#ed7953\"],[0.7777777777777778,\"#fb9f3a\"],[0.8888888888888888,\"#fdca26\"],[1.0,\"#f0f921\"]]}],\"contourcarpet\":[{\"type\":\"contourcarpet\",\"colorbar\":{\"outlinewidth\":0,\"ticks\":\"\"}}],\"contour\":[{\"type\":\"contour\",\"colorbar\":{\"outlinewidth\":0,\"ticks\":\"\"},\"colorscale\":[[0.0,\"#0d0887\"],[0.1111111111111111,\"#46039f\"],[0.2222222222222222,\"#7201a8\"],[0.3333333333333333,\"#9c179e\"],[0.4444444444444444,\"#bd3786\"],[0.5555555555555556,\"#d8576b\"],[0.6666666666666666,\"#ed7953\"],[0.7777777777777778,\"#fb9f3a\"],[0.8888888888888888,\"#fdca26\"],[1.0,\"#f0f921\"]]}],\"surface\":[{\"type\":\"surface\",\"colorbar\":{\"outlinewidth\":0,\"ticks\":\"\"},\"colorscale\":[[0.0,\"#0d0887\"],[0.1111111111111111,\"#46039f\"],[0.2222222222222222,\"#7201a8\"],[0.3333333333333333,\"#9c179e\"],[0.4444444444444444,\"#bd3786\"],[0.5555555555555556,\"#d8576b\"],[0.6666666666666666,\"#ed7953\"],[0.7777777777777778,\"#fb9f3a\"],[0.8888888888888888,\"#fdca26\"],[1.0,\"#f0f921\"]]}],\"mesh3d\":[{\"type\":\"mesh3d\",\"colorbar\":{\"outlinewidth\":0,\"ticks\":\"\"}}],\"scatter\":[{\"fillpattern\":{\"fillmode\":\"overlay\",\"size\":10,\"solidity\":0.2},\"type\":\"scatter\"}],\"parcoords\":[{\"type\":\"parcoords\",\"line\":{\"colorbar\":{\"outlinewidth\":0,\"ticks\":\"\"}}}],\"scatterpolargl\":[{\"type\":\"scatterpolargl\",\"marker\":{\"colorbar\":{\"outlinewidth\":0,\"ticks\":\"\"}}}],\"bar\":[{\"error_x\":{\"color\":\"#2a3f5f\"},\"error_y\":{\"color\":\"#2a3f5f\"},\"marker\":{\"line\":{\"color\":\"#E5ECF6\",\"width\":0.5},\"pattern\":{\"fillmode\":\"overlay\",\"size\":10,\"solidity\":0.2}},\"type\":\"bar\"}],\"scattergeo\":[{\"type\":\"scattergeo\",\"marker\":{\"colorbar\":{\"outlinewidth\":0,\"ticks\":\"\"}}}],\"scatterpolar\":[{\"type\":\"scatterpolar\",\"marker\":{\"colorbar\":{\"outlinewidth\":0,\"ticks\":\"\"}}}],\"histogram\":[{\"marker\":{\"pattern\":{\"fillmode\":\"overlay\",\"size\":10,\"solidity\":0.2}},\"type\":\"histogram\"}],\"scattergl\":[{\"type\":\"scattergl\",\"marker\":{\"colorbar\":{\"outlinewidth\":0,\"ticks\":\"\"}}}],\"scatter3d\":[{\"type\":\"scatter3d\",\"line\":{\"colorbar\":{\"outlinewidth\":0,\"ticks\":\"\"}},\"marker\":{\"colorbar\":{\"outlinewidth\":0,\"ticks\":\"\"}}}],\"scattermapbox\":[{\"type\":\"scattermapbox\",\"marker\":{\"colorbar\":{\"outlinewidth\":0,\"ticks\":\"\"}}}],\"scatterternary\":[{\"type\":\"scatterternary\",\"marker\":{\"colorbar\":{\"outlinewidth\":0,\"ticks\":\"\"}}}],\"scattercarpet\":[{\"type\":\"scattercarpet\",\"marker\":{\"colorbar\":{\"outlinewidth\":0,\"ticks\":\"\"}}}],\"carpet\":[{\"aaxis\":{\"endlinecolor\":\"#2a3f5f\",\"gridcolor\":\"white\",\"linecolor\":\"white\",\"minorgridcolor\":\"white\",\"startlinecolor\":\"#2a3f5f\"},\"baxis\":{\"endlinecolor\":\"#2a3f5f\",\"gridcolor\":\"white\",\"linecolor\":\"white\",\"minorgridcolor\":\"white\",\"startlinecolor\":\"#2a3f5f\"},\"type\":\"carpet\"}],\"table\":[{\"cells\":{\"fill\":{\"color\":\"#EBF0F8\"},\"line\":{\"color\":\"white\"}},\"header\":{\"fill\":{\"color\":\"#C8D4E3\"},\"line\":{\"color\":\"white\"}},\"type\":\"table\"}],\"barpolar\":[{\"marker\":{\"line\":{\"color\":\"#E5ECF6\",\"width\":0.5},\"pattern\":{\"fillmode\":\"overlay\",\"size\":10,\"solidity\":0.2}},\"type\":\"barpolar\"}],\"pie\":[{\"automargin\":true,\"type\":\"pie\"}]},\"layout\":{\"autotypenumbers\":\"strict\",\"colorway\":[\"#636efa\",\"#EF553B\",\"#00cc96\",\"#ab63fa\",\"#FFA15A\",\"#19d3f3\",\"#FF6692\",\"#B6E880\",\"#FF97FF\",\"#FECB52\"],\"font\":{\"color\":\"#2a3f5f\"},\"hovermode\":\"closest\",\"hoverlabel\":{\"align\":\"left\"},\"paper_bgcolor\":\"white\",\"plot_bgcolor\":\"#E5ECF6\",\"polar\":{\"bgcolor\":\"#E5ECF6\",\"angularaxis\":{\"gridcolor\":\"white\",\"linecolor\":\"white\",\"ticks\":\"\"},\"radialaxis\":{\"gridcolor\":\"white\",\"linecolor\":\"white\",\"ticks\":\"\"}},\"ternary\":{\"bgcolor\":\"#E5ECF6\",\"aaxis\":{\"gridcolor\":\"white\",\"linecolor\":\"white\",\"ticks\":\"\"},\"baxis\":{\"gridcolor\":\"white\",\"linecolor\":\"white\",\"ticks\":\"\"},\"caxis\":{\"gridcolor\":\"white\",\"linecolor\":\"white\",\"ticks\":\"\"}},\"coloraxis\":{\"colorbar\":{\"outlinewidth\":0,\"ticks\":\"\"}},\"colorscale\":{\"sequential\":[[0.0,\"#0d0887\"],[0.1111111111111111,\"#46039f\"],[0.2222222222222222,\"#7201a8\"],[0.3333333333333333,\"#9c179e\"],[0.4444444444444444,\"#bd3786\"],[0.5555555555555556,\"#d8576b\"],[0.6666666666666666,\"#ed7953\"],[0.7777777777777778,\"#fb9f3a\"],[0.8888888888888888,\"#fdca26\"],[1.0,\"#f0f921\"]],\"sequentialminus\":[[0.0,\"#0d0887\"],[0.1111111111111111,\"#46039f\"],[0.2222222222222222,\"#7201a8\"],[0.3333333333333333,\"#9c179e\"],[0.4444444444444444,\"#bd3786\"],[0.5555555555555556,\"#d8576b\"],[0.6666666666666666,\"#ed7953\"],[0.7777777777777778,\"#fb9f3a\"],[0.8888888888888888,\"#fdca26\"],[1.0,\"#f0f921\"]],\"diverging\":[[0,\"#8e0152\"],[0.1,\"#c51b7d\"],[0.2,\"#de77ae\"],[0.3,\"#f1b6da\"],[0.4,\"#fde0ef\"],[0.5,\"#f7f7f7\"],[0.6,\"#e6f5d0\"],[0.7,\"#b8e186\"],[0.8,\"#7fbc41\"],[0.9,\"#4d9221\"],[1,\"#276419\"]]},\"xaxis\":{\"gridcolor\":\"white\",\"linecolor\":\"white\",\"ticks\":\"\",\"title\":{\"standoff\":15},\"zerolinecolor\":\"white\",\"automargin\":true,\"zerolinewidth\":2},\"yaxis\":{\"gridcolor\":\"white\",\"linecolor\":\"white\",\"ticks\":\"\",\"title\":{\"standoff\":15},\"zerolinecolor\":\"white\",\"automargin\":true,\"zerolinewidth\":2},\"scene\":{\"xaxis\":{\"backgroundcolor\":\"#E5ECF6\",\"gridcolor\":\"white\",\"linecolor\":\"white\",\"showbackground\":true,\"ticks\":\"\",\"zerolinecolor\":\"white\",\"gridwidth\":2},\"yaxis\":{\"backgroundcolor\":\"#E5ECF6\",\"gridcolor\":\"white\",\"linecolor\":\"white\",\"showbackground\":true,\"ticks\":\"\",\"zerolinecolor\":\"white\",\"gridwidth\":2},\"zaxis\":{\"backgroundcolor\":\"#E5ECF6\",\"gridcolor\":\"white\",\"linecolor\":\"white\",\"showbackground\":true,\"ticks\":\"\",\"zerolinecolor\":\"white\",\"gridwidth\":2}},\"shapedefaults\":{\"line\":{\"color\":\"#2a3f5f\"}},\"annotationdefaults\":{\"arrowcolor\":\"#2a3f5f\",\"arrowhead\":0,\"arrowwidth\":1},\"geo\":{\"bgcolor\":\"white\",\"landcolor\":\"#E5ECF6\",\"subunitcolor\":\"white\",\"showland\":true,\"showlakes\":true,\"lakecolor\":\"white\"},\"title\":{\"x\":0.05},\"mapbox\":{\"style\":\"light\"}}},\"margin\":{\"l\":20,\"r\":0,\"t\":20,\"b\":20},\"legend\":{\"orientation\":\"h\",\"yanchor\":\"bottom\",\"y\":1.02,\"xanchor\":\"right\",\"x\":1},\"barmode\":\"stack\",\"height\":500,\"hoverlabel\":{\"font\":{\"size\":16,\"family\":\"Rockwell\"},\"bgcolor\":\"white\",\"namelength\":-1},\"yaxis\":{\"title\":{\"text\":\"Feature Name\"},\"tickvals\":[0,1,2,3,4,5,6,7,8,9,10,11,12,13,14,15,16,17,18,19,20,21,22,23,24],\"ticktext\":[\"Customers[ARR] (latest)\",\"Contract_Duration\",\"Customers[Products_Purchased] (5 ye\",\"CSAT[Net_Promoter_Score] (latest)\",\"Prediction_Point (days from Product\",\"Product_Usage[Activity_Type] (1 mon\",\"Product_Usage (180 days count)\",\"duration(Renewal_Date, Customer_Sin\",\"Products_Purchased\",\"Product_Usage[UserID] (180 days uni\",\"Product_Usage[Activity_Type] (180 d\",\"Prediction_Point (Year)\",\"Product_Usage[Activity_Type] (180 d\",\"Annual_Revenue\",\"Customers[Products_Purchased] (5 ye\",\"State\",\"Customers[ARR] (5 years avg)\",\"Customers[Contract_Duration] (5 yea\",\"Product_Usage[Activity_Type] (1 mon\",\"Customers[Products_Purchased] (5 ye\",\"Customers[Contract_Duration] (5 yea\",\"Industry\",\"Customers[Contract_Duration] (5 yea\",\"Product_Usage (1 month count)\",\"Product_Usage[UserID] (1 month uniq\"]},\"xaxis\":{\"title\":{\"text\":\"Impact\"}}},                        {\"responsive\": true}                    ).then(function(){\n",
       "                            \n",
       "var gd = document.getElementById('b50ee1e2-7ea6-474e-be29-f9e6c2ccbc0c');\n",
       "var x = new MutationObserver(function (mutations, observer) {{\n",
       "        var display = window.getComputedStyle(gd).display;\n",
       "        if (!display || display === 'none') {{\n",
       "            console.log([gd, 'removed!']);\n",
       "            Plotly.purge(gd);\n",
       "            observer.disconnect();\n",
       "        }}\n",
       "}});\n",
       "\n",
       "// Listen for the removal of the full notebook cells\n",
       "var notebookContainer = gd.closest('#notebook-container');\n",
       "if (notebookContainer) {{\n",
       "    x.observe(notebookContainer, {childList: true});\n",
       "}}\n",
       "\n",
       "// Listen for the clearing of the current output cell\n",
       "var outputEl = gd.closest('.output');\n",
       "if (outputEl) {{\n",
       "    x.observe(outputEl, {childList: true});\n",
       "}}\n",
       "\n",
       "                        })                };                });            </script>        </div>"
      ]
     },
     "metadata": {},
     "output_type": "display_data"
    }
   ],
   "source": [
    "# feature impact split by strength\n",
    "plot_signed_feature_impact(melted, height=500, n=25)"
   ]
  },
  {
   "cell_type": "code",
   "execution_count": 161,
   "id": "ae7307c3",
   "metadata": {},
   "outputs": [
    {
     "data": {
      "application/vnd.plotly.v1+json": {
       "config": {
        "plotlyServerURL": "https://plot.ly"
       },
       "data": [
        {
         "hovertemplate": "<b>Feature Name:</b> %{y} <br><b>Feature Strength:</b> %{x}<extra></extra>",
         "name": "Positive Impact",
         "orientation": "h",
         "type": "bar",
         "x": [
          0.5564152268,
          0.5690352736000001,
          1.1751538368,
          0.6963009354,
          0.7082698102,
          0.7247118281,
          0.7448599849,
          0.7483711354,
          1.8563025152,
          1.0744082406,
          1.1072676091,
          1.1587542371000001,
          2.3800540821,
          1.2217583362000002,
          1.2515614273000002,
          1.4119210398000004,
          1.5769783312999999,
          2.2222895566,
          2.2787523181999996,
          2.4835103152999998,
          2.523221858,
          2.7344741174000005,
          3.0935596548,
          3.1394412583999998,
          3.4494240464
         ],
         "y": [
          "Product_Usage (180 days count)",
          "Zip_Code",
          "Customers[Products_Purchased] (5 years count of enterprise)",
          "Customers[Products_Purchased] (5 years count of business_essentials)",
          "Products_Purchased",
          "CSAT[Net_Promoter_Score] (latest)",
          "Product_Usage[Activity_Type] (180 days most frequent)",
          "Contract_Duration",
          "Customers[Contract_Duration] (5 years avg)",
          "Product_Usage[UserID] (180 days unique count)",
          "Product_Usage[Activity_Type] (1 month most frequent)",
          "Annual_Revenue",
          "Prediction_Point (Year)",
          "duration(Renewal_Date, Customer_Since_Date)",
          "Product_Usage[Activity_Type] (1 month unique count)",
          "Customers[ARR] (5 years avg)",
          "Customers[Products_Purchased] (5 years most frequent)",
          "Prediction_Point (days from Product_Usage[Activity_Timestamp]) (180 days avg)",
          "Product_Usage[Activity_Type] (180 days unique count)",
          "Customers[Contract_Duration] (5 years unique count)",
          "Product_Usage (1 month count)",
          "State",
          "Industry",
          "Product_Usage[UserID] (1 month unique count)",
          "Customers[Contract_Duration] (5 years most frequent)"
         ]
        },
        {
         "hovertemplate": "<b>Feature Name:</b> %{y} <br><b>Feature Strength:</b> %{x}<extra></extra>",
         "name": "Negative Impact",
         "orientation": "h",
         "type": "bar",
         "x": [
          0.5564152268,
          0.5690352736000001,
          0,
          0.6963009354,
          0.7082698102,
          0.7247118281,
          0.7448599849,
          0.7483711354,
          0,
          1.0744082406,
          1.1072676091,
          1.1587542371000001,
          0,
          1.2217583362000002,
          1.2515614273000002,
          1.4119210398000004,
          1.5769783312999999,
          2.2222895566,
          2.2787523181999996,
          2.4835103152999998,
          2.523221858,
          2.7344741174000005,
          3.0935596548,
          3.1394412583999998,
          3.4494240464
         ],
         "y": [
          "Product_Usage (180 days count)",
          "Zip_Code",
          "Customers[Products_Purchased] (5 years count of enterprise)",
          "Customers[Products_Purchased] (5 years count of business_essentials)",
          "Products_Purchased",
          "CSAT[Net_Promoter_Score] (latest)",
          "Product_Usage[Activity_Type] (180 days most frequent)",
          "Contract_Duration",
          "Customers[Contract_Duration] (5 years avg)",
          "Product_Usage[UserID] (180 days unique count)",
          "Product_Usage[Activity_Type] (1 month most frequent)",
          "Annual_Revenue",
          "Prediction_Point (Year)",
          "duration(Renewal_Date, Customer_Since_Date)",
          "Product_Usage[Activity_Type] (1 month unique count)",
          "Customers[ARR] (5 years avg)",
          "Customers[Products_Purchased] (5 years most frequent)",
          "Prediction_Point (days from Product_Usage[Activity_Timestamp]) (180 days avg)",
          "Product_Usage[Activity_Type] (180 days unique count)",
          "Customers[Contract_Duration] (5 years unique count)",
          "Product_Usage (1 month count)",
          "State",
          "Industry",
          "Product_Usage[UserID] (1 month unique count)",
          "Customers[Contract_Duration] (5 years most frequent)"
         ]
        }
       ],
       "layout": {
        "barmode": "stack",
        "height": 500,
        "hoverlabel": {
         "bgcolor": "white",
         "font": {
          "family": "Rockwell",
          "size": 16
         },
         "namelength": -1
        },
        "legend": {
         "orientation": "h",
         "x": 1,
         "xanchor": "right",
         "y": 1.02,
         "yanchor": "bottom"
        },
        "margin": {
         "b": 20,
         "l": 20,
         "r": 0,
         "t": 20
        },
        "template": {
         "data": {
          "bar": [
           {
            "error_x": {
             "color": "#2a3f5f"
            },
            "error_y": {
             "color": "#2a3f5f"
            },
            "marker": {
             "line": {
              "color": "#E5ECF6",
              "width": 0.5
             },
             "pattern": {
              "fillmode": "overlay",
              "size": 10,
              "solidity": 0.2
             }
            },
            "type": "bar"
           }
          ],
          "barpolar": [
           {
            "marker": {
             "line": {
              "color": "#E5ECF6",
              "width": 0.5
             },
             "pattern": {
              "fillmode": "overlay",
              "size": 10,
              "solidity": 0.2
             }
            },
            "type": "barpolar"
           }
          ],
          "carpet": [
           {
            "aaxis": {
             "endlinecolor": "#2a3f5f",
             "gridcolor": "white",
             "linecolor": "white",
             "minorgridcolor": "white",
             "startlinecolor": "#2a3f5f"
            },
            "baxis": {
             "endlinecolor": "#2a3f5f",
             "gridcolor": "white",
             "linecolor": "white",
             "minorgridcolor": "white",
             "startlinecolor": "#2a3f5f"
            },
            "type": "carpet"
           }
          ],
          "choropleth": [
           {
            "colorbar": {
             "outlinewidth": 0,
             "ticks": ""
            },
            "type": "choropleth"
           }
          ],
          "contour": [
           {
            "colorbar": {
             "outlinewidth": 0,
             "ticks": ""
            },
            "colorscale": [
             [
              0,
              "#0d0887"
             ],
             [
              0.1111111111111111,
              "#46039f"
             ],
             [
              0.2222222222222222,
              "#7201a8"
             ],
             [
              0.3333333333333333,
              "#9c179e"
             ],
             [
              0.4444444444444444,
              "#bd3786"
             ],
             [
              0.5555555555555556,
              "#d8576b"
             ],
             [
              0.6666666666666666,
              "#ed7953"
             ],
             [
              0.7777777777777778,
              "#fb9f3a"
             ],
             [
              0.8888888888888888,
              "#fdca26"
             ],
             [
              1,
              "#f0f921"
             ]
            ],
            "type": "contour"
           }
          ],
          "contourcarpet": [
           {
            "colorbar": {
             "outlinewidth": 0,
             "ticks": ""
            },
            "type": "contourcarpet"
           }
          ],
          "heatmap": [
           {
            "colorbar": {
             "outlinewidth": 0,
             "ticks": ""
            },
            "colorscale": [
             [
              0,
              "#0d0887"
             ],
             [
              0.1111111111111111,
              "#46039f"
             ],
             [
              0.2222222222222222,
              "#7201a8"
             ],
             [
              0.3333333333333333,
              "#9c179e"
             ],
             [
              0.4444444444444444,
              "#bd3786"
             ],
             [
              0.5555555555555556,
              "#d8576b"
             ],
             [
              0.6666666666666666,
              "#ed7953"
             ],
             [
              0.7777777777777778,
              "#fb9f3a"
             ],
             [
              0.8888888888888888,
              "#fdca26"
             ],
             [
              1,
              "#f0f921"
             ]
            ],
            "type": "heatmap"
           }
          ],
          "heatmapgl": [
           {
            "colorbar": {
             "outlinewidth": 0,
             "ticks": ""
            },
            "colorscale": [
             [
              0,
              "#0d0887"
             ],
             [
              0.1111111111111111,
              "#46039f"
             ],
             [
              0.2222222222222222,
              "#7201a8"
             ],
             [
              0.3333333333333333,
              "#9c179e"
             ],
             [
              0.4444444444444444,
              "#bd3786"
             ],
             [
              0.5555555555555556,
              "#d8576b"
             ],
             [
              0.6666666666666666,
              "#ed7953"
             ],
             [
              0.7777777777777778,
              "#fb9f3a"
             ],
             [
              0.8888888888888888,
              "#fdca26"
             ],
             [
              1,
              "#f0f921"
             ]
            ],
            "type": "heatmapgl"
           }
          ],
          "histogram": [
           {
            "marker": {
             "pattern": {
              "fillmode": "overlay",
              "size": 10,
              "solidity": 0.2
             }
            },
            "type": "histogram"
           }
          ],
          "histogram2d": [
           {
            "colorbar": {
             "outlinewidth": 0,
             "ticks": ""
            },
            "colorscale": [
             [
              0,
              "#0d0887"
             ],
             [
              0.1111111111111111,
              "#46039f"
             ],
             [
              0.2222222222222222,
              "#7201a8"
             ],
             [
              0.3333333333333333,
              "#9c179e"
             ],
             [
              0.4444444444444444,
              "#bd3786"
             ],
             [
              0.5555555555555556,
              "#d8576b"
             ],
             [
              0.6666666666666666,
              "#ed7953"
             ],
             [
              0.7777777777777778,
              "#fb9f3a"
             ],
             [
              0.8888888888888888,
              "#fdca26"
             ],
             [
              1,
              "#f0f921"
             ]
            ],
            "type": "histogram2d"
           }
          ],
          "histogram2dcontour": [
           {
            "colorbar": {
             "outlinewidth": 0,
             "ticks": ""
            },
            "colorscale": [
             [
              0,
              "#0d0887"
             ],
             [
              0.1111111111111111,
              "#46039f"
             ],
             [
              0.2222222222222222,
              "#7201a8"
             ],
             [
              0.3333333333333333,
              "#9c179e"
             ],
             [
              0.4444444444444444,
              "#bd3786"
             ],
             [
              0.5555555555555556,
              "#d8576b"
             ],
             [
              0.6666666666666666,
              "#ed7953"
             ],
             [
              0.7777777777777778,
              "#fb9f3a"
             ],
             [
              0.8888888888888888,
              "#fdca26"
             ],
             [
              1,
              "#f0f921"
             ]
            ],
            "type": "histogram2dcontour"
           }
          ],
          "mesh3d": [
           {
            "colorbar": {
             "outlinewidth": 0,
             "ticks": ""
            },
            "type": "mesh3d"
           }
          ],
          "parcoords": [
           {
            "line": {
             "colorbar": {
              "outlinewidth": 0,
              "ticks": ""
             }
            },
            "type": "parcoords"
           }
          ],
          "pie": [
           {
            "automargin": true,
            "type": "pie"
           }
          ],
          "scatter": [
           {
            "fillpattern": {
             "fillmode": "overlay",
             "size": 10,
             "solidity": 0.2
            },
            "type": "scatter"
           }
          ],
          "scatter3d": [
           {
            "line": {
             "colorbar": {
              "outlinewidth": 0,
              "ticks": ""
             }
            },
            "marker": {
             "colorbar": {
              "outlinewidth": 0,
              "ticks": ""
             }
            },
            "type": "scatter3d"
           }
          ],
          "scattercarpet": [
           {
            "marker": {
             "colorbar": {
              "outlinewidth": 0,
              "ticks": ""
             }
            },
            "type": "scattercarpet"
           }
          ],
          "scattergeo": [
           {
            "marker": {
             "colorbar": {
              "outlinewidth": 0,
              "ticks": ""
             }
            },
            "type": "scattergeo"
           }
          ],
          "scattergl": [
           {
            "marker": {
             "colorbar": {
              "outlinewidth": 0,
              "ticks": ""
             }
            },
            "type": "scattergl"
           }
          ],
          "scattermapbox": [
           {
            "marker": {
             "colorbar": {
              "outlinewidth": 0,
              "ticks": ""
             }
            },
            "type": "scattermapbox"
           }
          ],
          "scatterpolar": [
           {
            "marker": {
             "colorbar": {
              "outlinewidth": 0,
              "ticks": ""
             }
            },
            "type": "scatterpolar"
           }
          ],
          "scatterpolargl": [
           {
            "marker": {
             "colorbar": {
              "outlinewidth": 0,
              "ticks": ""
             }
            },
            "type": "scatterpolargl"
           }
          ],
          "scatterternary": [
           {
            "marker": {
             "colorbar": {
              "outlinewidth": 0,
              "ticks": ""
             }
            },
            "type": "scatterternary"
           }
          ],
          "surface": [
           {
            "colorbar": {
             "outlinewidth": 0,
             "ticks": ""
            },
            "colorscale": [
             [
              0,
              "#0d0887"
             ],
             [
              0.1111111111111111,
              "#46039f"
             ],
             [
              0.2222222222222222,
              "#7201a8"
             ],
             [
              0.3333333333333333,
              "#9c179e"
             ],
             [
              0.4444444444444444,
              "#bd3786"
             ],
             [
              0.5555555555555556,
              "#d8576b"
             ],
             [
              0.6666666666666666,
              "#ed7953"
             ],
             [
              0.7777777777777778,
              "#fb9f3a"
             ],
             [
              0.8888888888888888,
              "#fdca26"
             ],
             [
              1,
              "#f0f921"
             ]
            ],
            "type": "surface"
           }
          ],
          "table": [
           {
            "cells": {
             "fill": {
              "color": "#EBF0F8"
             },
             "line": {
              "color": "white"
             }
            },
            "header": {
             "fill": {
              "color": "#C8D4E3"
             },
             "line": {
              "color": "white"
             }
            },
            "type": "table"
           }
          ]
         },
         "layout": {
          "annotationdefaults": {
           "arrowcolor": "#2a3f5f",
           "arrowhead": 0,
           "arrowwidth": 1
          },
          "autotypenumbers": "strict",
          "coloraxis": {
           "colorbar": {
            "outlinewidth": 0,
            "ticks": ""
           }
          },
          "colorscale": {
           "diverging": [
            [
             0,
             "#8e0152"
            ],
            [
             0.1,
             "#c51b7d"
            ],
            [
             0.2,
             "#de77ae"
            ],
            [
             0.3,
             "#f1b6da"
            ],
            [
             0.4,
             "#fde0ef"
            ],
            [
             0.5,
             "#f7f7f7"
            ],
            [
             0.6,
             "#e6f5d0"
            ],
            [
             0.7,
             "#b8e186"
            ],
            [
             0.8,
             "#7fbc41"
            ],
            [
             0.9,
             "#4d9221"
            ],
            [
             1,
             "#276419"
            ]
           ],
           "sequential": [
            [
             0,
             "#0d0887"
            ],
            [
             0.1111111111111111,
             "#46039f"
            ],
            [
             0.2222222222222222,
             "#7201a8"
            ],
            [
             0.3333333333333333,
             "#9c179e"
            ],
            [
             0.4444444444444444,
             "#bd3786"
            ],
            [
             0.5555555555555556,
             "#d8576b"
            ],
            [
             0.6666666666666666,
             "#ed7953"
            ],
            [
             0.7777777777777778,
             "#fb9f3a"
            ],
            [
             0.8888888888888888,
             "#fdca26"
            ],
            [
             1,
             "#f0f921"
            ]
           ],
           "sequentialminus": [
            [
             0,
             "#0d0887"
            ],
            [
             0.1111111111111111,
             "#46039f"
            ],
            [
             0.2222222222222222,
             "#7201a8"
            ],
            [
             0.3333333333333333,
             "#9c179e"
            ],
            [
             0.4444444444444444,
             "#bd3786"
            ],
            [
             0.5555555555555556,
             "#d8576b"
            ],
            [
             0.6666666666666666,
             "#ed7953"
            ],
            [
             0.7777777777777778,
             "#fb9f3a"
            ],
            [
             0.8888888888888888,
             "#fdca26"
            ],
            [
             1,
             "#f0f921"
            ]
           ]
          },
          "colorway": [
           "#636efa",
           "#EF553B",
           "#00cc96",
           "#ab63fa",
           "#FFA15A",
           "#19d3f3",
           "#FF6692",
           "#B6E880",
           "#FF97FF",
           "#FECB52"
          ],
          "font": {
           "color": "#2a3f5f"
          },
          "geo": {
           "bgcolor": "white",
           "lakecolor": "white",
           "landcolor": "#E5ECF6",
           "showlakes": true,
           "showland": true,
           "subunitcolor": "white"
          },
          "hoverlabel": {
           "align": "left"
          },
          "hovermode": "closest",
          "mapbox": {
           "style": "light"
          },
          "paper_bgcolor": "white",
          "plot_bgcolor": "#E5ECF6",
          "polar": {
           "angularaxis": {
            "gridcolor": "white",
            "linecolor": "white",
            "ticks": ""
           },
           "bgcolor": "#E5ECF6",
           "radialaxis": {
            "gridcolor": "white",
            "linecolor": "white",
            "ticks": ""
           }
          },
          "scene": {
           "xaxis": {
            "backgroundcolor": "#E5ECF6",
            "gridcolor": "white",
            "gridwidth": 2,
            "linecolor": "white",
            "showbackground": true,
            "ticks": "",
            "zerolinecolor": "white"
           },
           "yaxis": {
            "backgroundcolor": "#E5ECF6",
            "gridcolor": "white",
            "gridwidth": 2,
            "linecolor": "white",
            "showbackground": true,
            "ticks": "",
            "zerolinecolor": "white"
           },
           "zaxis": {
            "backgroundcolor": "#E5ECF6",
            "gridcolor": "white",
            "gridwidth": 2,
            "linecolor": "white",
            "showbackground": true,
            "ticks": "",
            "zerolinecolor": "white"
           }
          },
          "shapedefaults": {
           "line": {
            "color": "#2a3f5f"
           }
          },
          "ternary": {
           "aaxis": {
            "gridcolor": "white",
            "linecolor": "white",
            "ticks": ""
           },
           "baxis": {
            "gridcolor": "white",
            "linecolor": "white",
            "ticks": ""
           },
           "bgcolor": "#E5ECF6",
           "caxis": {
            "gridcolor": "white",
            "linecolor": "white",
            "ticks": ""
           }
          },
          "title": {
           "x": 0.05
          },
          "xaxis": {
           "automargin": true,
           "gridcolor": "white",
           "linecolor": "white",
           "ticks": "",
           "title": {
            "standoff": 15
           },
           "zerolinecolor": "white",
           "zerolinewidth": 2
          },
          "yaxis": {
           "automargin": true,
           "gridcolor": "white",
           "linecolor": "white",
           "ticks": "",
           "title": {
            "standoff": 15
           },
           "zerolinecolor": "white",
           "zerolinewidth": 2
          }
         }
        },
        "xaxis": {
         "title": {
          "text": "Impact"
         }
        },
        "yaxis": {
         "ticktext": [
          "Product_Usage (180 days count)",
          "Zip_Code",
          "Customers[Products_Purchased] (5 ye",
          "Customers[Products_Purchased] (5 ye",
          "Products_Purchased",
          "CSAT[Net_Promoter_Score] (latest)",
          "Product_Usage[Activity_Type] (180 d",
          "Contract_Duration",
          "Customers[Contract_Duration] (5 yea",
          "Product_Usage[UserID] (180 days uni",
          "Product_Usage[Activity_Type] (1 mon",
          "Annual_Revenue",
          "Prediction_Point (Year)",
          "duration(Renewal_Date, Customer_Sin",
          "Product_Usage[Activity_Type] (1 mon",
          "Customers[ARR] (5 years avg)",
          "Customers[Products_Purchased] (5 ye",
          "Prediction_Point (days from Product",
          "Product_Usage[Activity_Type] (180 d",
          "Customers[Contract_Duration] (5 yea",
          "Product_Usage (1 month count)",
          "State",
          "Industry",
          "Product_Usage[UserID] (1 month uniq",
          "Customers[Contract_Duration] (5 yea"
         ],
         "tickvals": [
          0,
          1,
          2,
          3,
          4,
          5,
          6,
          7,
          8,
          9,
          10,
          11,
          12,
          13,
          14,
          15,
          16,
          17,
          18,
          19,
          20,
          21,
          22,
          23,
          24
         ],
         "title": {
          "text": "Feature Name"
         }
        }
       }
      },
      "text/html": [
       "<div>                            <div id=\"3239f329-83ff-4092-ba55-5038c0a875fb\" class=\"plotly-graph-div\" style=\"height:500px; width:100%;\"></div>            <script type=\"text/javascript\">                require([\"plotly\"], function(Plotly) {                    window.PLOTLYENV=window.PLOTLYENV || {};                                    if (document.getElementById(\"3239f329-83ff-4092-ba55-5038c0a875fb\")) {                    Plotly.newPlot(                        \"3239f329-83ff-4092-ba55-5038c0a875fb\",                        [{\"name\":\"Positive Impact\",\"orientation\":\"h\",\"x\":[0.5564152268,0.5690352736000001,1.1751538368,0.6963009354,0.7082698102,0.7247118281,0.7448599849,0.7483711354,1.8563025152,1.0744082406,1.1072676091,1.1587542371000001,2.3800540821,1.2217583362000002,1.2515614273000002,1.4119210398000004,1.5769783312999999,2.2222895566,2.2787523181999996,2.4835103152999998,2.523221858,2.7344741174000005,3.0935596548,3.1394412583999998,3.4494240464],\"y\":[\"Product_Usage (180 days count)\",\"Zip_Code\",\"Customers[Products_Purchased] (5 years count of enterprise)\",\"Customers[Products_Purchased] (5 years count of business_essentials)\",\"Products_Purchased\",\"CSAT[Net_Promoter_Score] (latest)\",\"Product_Usage[Activity_Type] (180 days most frequent)\",\"Contract_Duration\",\"Customers[Contract_Duration] (5 years avg)\",\"Product_Usage[UserID] (180 days unique count)\",\"Product_Usage[Activity_Type] (1 month most frequent)\",\"Annual_Revenue\",\"Prediction_Point (Year)\",\"duration(Renewal_Date, Customer_Since_Date)\",\"Product_Usage[Activity_Type] (1 month unique count)\",\"Customers[ARR] (5 years avg)\",\"Customers[Products_Purchased] (5 years most frequent)\",\"Prediction_Point (days from Product_Usage[Activity_Timestamp]) (180 days avg)\",\"Product_Usage[Activity_Type] (180 days unique count)\",\"Customers[Contract_Duration] (5 years unique count)\",\"Product_Usage (1 month count)\",\"State\",\"Industry\",\"Product_Usage[UserID] (1 month unique count)\",\"Customers[Contract_Duration] (5 years most frequent)\"],\"type\":\"bar\",\"hovertemplate\":\"<b>Feature Name:</b> %{y} <br><b>Feature Strength:</b> %{x}<extra></extra>\"},{\"name\":\"Negative Impact\",\"orientation\":\"h\",\"x\":[0.5564152268,0.5690352736000001,0.0,0.6963009354,0.7082698102,0.7247118281,0.7448599849,0.7483711354,0.0,1.0744082406,1.1072676091,1.1587542371000001,0.0,1.2217583362000002,1.2515614273000002,1.4119210398000004,1.5769783312999999,2.2222895566,2.2787523181999996,2.4835103152999998,2.523221858,2.7344741174000005,3.0935596548,3.1394412583999998,3.4494240464],\"y\":[\"Product_Usage (180 days count)\",\"Zip_Code\",\"Customers[Products_Purchased] (5 years count of enterprise)\",\"Customers[Products_Purchased] (5 years count of business_essentials)\",\"Products_Purchased\",\"CSAT[Net_Promoter_Score] (latest)\",\"Product_Usage[Activity_Type] (180 days most frequent)\",\"Contract_Duration\",\"Customers[Contract_Duration] (5 years avg)\",\"Product_Usage[UserID] (180 days unique count)\",\"Product_Usage[Activity_Type] (1 month most frequent)\",\"Annual_Revenue\",\"Prediction_Point (Year)\",\"duration(Renewal_Date, Customer_Since_Date)\",\"Product_Usage[Activity_Type] (1 month unique count)\",\"Customers[ARR] (5 years avg)\",\"Customers[Products_Purchased] (5 years most frequent)\",\"Prediction_Point (days from Product_Usage[Activity_Timestamp]) (180 days avg)\",\"Product_Usage[Activity_Type] (180 days unique count)\",\"Customers[Contract_Duration] (5 years unique count)\",\"Product_Usage (1 month count)\",\"State\",\"Industry\",\"Product_Usage[UserID] (1 month unique count)\",\"Customers[Contract_Duration] (5 years most frequent)\"],\"type\":\"bar\",\"hovertemplate\":\"<b>Feature Name:</b> %{y} <br><b>Feature Strength:</b> %{x}<extra></extra>\"}],                        {\"template\":{\"data\":{\"histogram2dcontour\":[{\"type\":\"histogram2dcontour\",\"colorbar\":{\"outlinewidth\":0,\"ticks\":\"\"},\"colorscale\":[[0.0,\"#0d0887\"],[0.1111111111111111,\"#46039f\"],[0.2222222222222222,\"#7201a8\"],[0.3333333333333333,\"#9c179e\"],[0.4444444444444444,\"#bd3786\"],[0.5555555555555556,\"#d8576b\"],[0.6666666666666666,\"#ed7953\"],[0.7777777777777778,\"#fb9f3a\"],[0.8888888888888888,\"#fdca26\"],[1.0,\"#f0f921\"]]}],\"choropleth\":[{\"type\":\"choropleth\",\"colorbar\":{\"outlinewidth\":0,\"ticks\":\"\"}}],\"histogram2d\":[{\"type\":\"histogram2d\",\"colorbar\":{\"outlinewidth\":0,\"ticks\":\"\"},\"colorscale\":[[0.0,\"#0d0887\"],[0.1111111111111111,\"#46039f\"],[0.2222222222222222,\"#7201a8\"],[0.3333333333333333,\"#9c179e\"],[0.4444444444444444,\"#bd3786\"],[0.5555555555555556,\"#d8576b\"],[0.6666666666666666,\"#ed7953\"],[0.7777777777777778,\"#fb9f3a\"],[0.8888888888888888,\"#fdca26\"],[1.0,\"#f0f921\"]]}],\"heatmap\":[{\"type\":\"heatmap\",\"colorbar\":{\"outlinewidth\":0,\"ticks\":\"\"},\"colorscale\":[[0.0,\"#0d0887\"],[0.1111111111111111,\"#46039f\"],[0.2222222222222222,\"#7201a8\"],[0.3333333333333333,\"#9c179e\"],[0.4444444444444444,\"#bd3786\"],[0.5555555555555556,\"#d8576b\"],[0.6666666666666666,\"#ed7953\"],[0.7777777777777778,\"#fb9f3a\"],[0.8888888888888888,\"#fdca26\"],[1.0,\"#f0f921\"]]}],\"heatmapgl\":[{\"type\":\"heatmapgl\",\"colorbar\":{\"outlinewidth\":0,\"ticks\":\"\"},\"colorscale\":[[0.0,\"#0d0887\"],[0.1111111111111111,\"#46039f\"],[0.2222222222222222,\"#7201a8\"],[0.3333333333333333,\"#9c179e\"],[0.4444444444444444,\"#bd3786\"],[0.5555555555555556,\"#d8576b\"],[0.6666666666666666,\"#ed7953\"],[0.7777777777777778,\"#fb9f3a\"],[0.8888888888888888,\"#fdca26\"],[1.0,\"#f0f921\"]]}],\"contourcarpet\":[{\"type\":\"contourcarpet\",\"colorbar\":{\"outlinewidth\":0,\"ticks\":\"\"}}],\"contour\":[{\"type\":\"contour\",\"colorbar\":{\"outlinewidth\":0,\"ticks\":\"\"},\"colorscale\":[[0.0,\"#0d0887\"],[0.1111111111111111,\"#46039f\"],[0.2222222222222222,\"#7201a8\"],[0.3333333333333333,\"#9c179e\"],[0.4444444444444444,\"#bd3786\"],[0.5555555555555556,\"#d8576b\"],[0.6666666666666666,\"#ed7953\"],[0.7777777777777778,\"#fb9f3a\"],[0.8888888888888888,\"#fdca26\"],[1.0,\"#f0f921\"]]}],\"surface\":[{\"type\":\"surface\",\"colorbar\":{\"outlinewidth\":0,\"ticks\":\"\"},\"colorscale\":[[0.0,\"#0d0887\"],[0.1111111111111111,\"#46039f\"],[0.2222222222222222,\"#7201a8\"],[0.3333333333333333,\"#9c179e\"],[0.4444444444444444,\"#bd3786\"],[0.5555555555555556,\"#d8576b\"],[0.6666666666666666,\"#ed7953\"],[0.7777777777777778,\"#fb9f3a\"],[0.8888888888888888,\"#fdca26\"],[1.0,\"#f0f921\"]]}],\"mesh3d\":[{\"type\":\"mesh3d\",\"colorbar\":{\"outlinewidth\":0,\"ticks\":\"\"}}],\"scatter\":[{\"fillpattern\":{\"fillmode\":\"overlay\",\"size\":10,\"solidity\":0.2},\"type\":\"scatter\"}],\"parcoords\":[{\"type\":\"parcoords\",\"line\":{\"colorbar\":{\"outlinewidth\":0,\"ticks\":\"\"}}}],\"scatterpolargl\":[{\"type\":\"scatterpolargl\",\"marker\":{\"colorbar\":{\"outlinewidth\":0,\"ticks\":\"\"}}}],\"bar\":[{\"error_x\":{\"color\":\"#2a3f5f\"},\"error_y\":{\"color\":\"#2a3f5f\"},\"marker\":{\"line\":{\"color\":\"#E5ECF6\",\"width\":0.5},\"pattern\":{\"fillmode\":\"overlay\",\"size\":10,\"solidity\":0.2}},\"type\":\"bar\"}],\"scattergeo\":[{\"type\":\"scattergeo\",\"marker\":{\"colorbar\":{\"outlinewidth\":0,\"ticks\":\"\"}}}],\"scatterpolar\":[{\"type\":\"scatterpolar\",\"marker\":{\"colorbar\":{\"outlinewidth\":0,\"ticks\":\"\"}}}],\"histogram\":[{\"marker\":{\"pattern\":{\"fillmode\":\"overlay\",\"size\":10,\"solidity\":0.2}},\"type\":\"histogram\"}],\"scattergl\":[{\"type\":\"scattergl\",\"marker\":{\"colorbar\":{\"outlinewidth\":0,\"ticks\":\"\"}}}],\"scatter3d\":[{\"type\":\"scatter3d\",\"line\":{\"colorbar\":{\"outlinewidth\":0,\"ticks\":\"\"}},\"marker\":{\"colorbar\":{\"outlinewidth\":0,\"ticks\":\"\"}}}],\"scattermapbox\":[{\"type\":\"scattermapbox\",\"marker\":{\"colorbar\":{\"outlinewidth\":0,\"ticks\":\"\"}}}],\"scatterternary\":[{\"type\":\"scatterternary\",\"marker\":{\"colorbar\":{\"outlinewidth\":0,\"ticks\":\"\"}}}],\"scattercarpet\":[{\"type\":\"scattercarpet\",\"marker\":{\"colorbar\":{\"outlinewidth\":0,\"ticks\":\"\"}}}],\"carpet\":[{\"aaxis\":{\"endlinecolor\":\"#2a3f5f\",\"gridcolor\":\"white\",\"linecolor\":\"white\",\"minorgridcolor\":\"white\",\"startlinecolor\":\"#2a3f5f\"},\"baxis\":{\"endlinecolor\":\"#2a3f5f\",\"gridcolor\":\"white\",\"linecolor\":\"white\",\"minorgridcolor\":\"white\",\"startlinecolor\":\"#2a3f5f\"},\"type\":\"carpet\"}],\"table\":[{\"cells\":{\"fill\":{\"color\":\"#EBF0F8\"},\"line\":{\"color\":\"white\"}},\"header\":{\"fill\":{\"color\":\"#C8D4E3\"},\"line\":{\"color\":\"white\"}},\"type\":\"table\"}],\"barpolar\":[{\"marker\":{\"line\":{\"color\":\"#E5ECF6\",\"width\":0.5},\"pattern\":{\"fillmode\":\"overlay\",\"size\":10,\"solidity\":0.2}},\"type\":\"barpolar\"}],\"pie\":[{\"automargin\":true,\"type\":\"pie\"}]},\"layout\":{\"autotypenumbers\":\"strict\",\"colorway\":[\"#636efa\",\"#EF553B\",\"#00cc96\",\"#ab63fa\",\"#FFA15A\",\"#19d3f3\",\"#FF6692\",\"#B6E880\",\"#FF97FF\",\"#FECB52\"],\"font\":{\"color\":\"#2a3f5f\"},\"hovermode\":\"closest\",\"hoverlabel\":{\"align\":\"left\"},\"paper_bgcolor\":\"white\",\"plot_bgcolor\":\"#E5ECF6\",\"polar\":{\"bgcolor\":\"#E5ECF6\",\"angularaxis\":{\"gridcolor\":\"white\",\"linecolor\":\"white\",\"ticks\":\"\"},\"radialaxis\":{\"gridcolor\":\"white\",\"linecolor\":\"white\",\"ticks\":\"\"}},\"ternary\":{\"bgcolor\":\"#E5ECF6\",\"aaxis\":{\"gridcolor\":\"white\",\"linecolor\":\"white\",\"ticks\":\"\"},\"baxis\":{\"gridcolor\":\"white\",\"linecolor\":\"white\",\"ticks\":\"\"},\"caxis\":{\"gridcolor\":\"white\",\"linecolor\":\"white\",\"ticks\":\"\"}},\"coloraxis\":{\"colorbar\":{\"outlinewidth\":0,\"ticks\":\"\"}},\"colorscale\":{\"sequential\":[[0.0,\"#0d0887\"],[0.1111111111111111,\"#46039f\"],[0.2222222222222222,\"#7201a8\"],[0.3333333333333333,\"#9c179e\"],[0.4444444444444444,\"#bd3786\"],[0.5555555555555556,\"#d8576b\"],[0.6666666666666666,\"#ed7953\"],[0.7777777777777778,\"#fb9f3a\"],[0.8888888888888888,\"#fdca26\"],[1.0,\"#f0f921\"]],\"sequentialminus\":[[0.0,\"#0d0887\"],[0.1111111111111111,\"#46039f\"],[0.2222222222222222,\"#7201a8\"],[0.3333333333333333,\"#9c179e\"],[0.4444444444444444,\"#bd3786\"],[0.5555555555555556,\"#d8576b\"],[0.6666666666666666,\"#ed7953\"],[0.7777777777777778,\"#fb9f3a\"],[0.8888888888888888,\"#fdca26\"],[1.0,\"#f0f921\"]],\"diverging\":[[0,\"#8e0152\"],[0.1,\"#c51b7d\"],[0.2,\"#de77ae\"],[0.3,\"#f1b6da\"],[0.4,\"#fde0ef\"],[0.5,\"#f7f7f7\"],[0.6,\"#e6f5d0\"],[0.7,\"#b8e186\"],[0.8,\"#7fbc41\"],[0.9,\"#4d9221\"],[1,\"#276419\"]]},\"xaxis\":{\"gridcolor\":\"white\",\"linecolor\":\"white\",\"ticks\":\"\",\"title\":{\"standoff\":15},\"zerolinecolor\":\"white\",\"automargin\":true,\"zerolinewidth\":2},\"yaxis\":{\"gridcolor\":\"white\",\"linecolor\":\"white\",\"ticks\":\"\",\"title\":{\"standoff\":15},\"zerolinecolor\":\"white\",\"automargin\":true,\"zerolinewidth\":2},\"scene\":{\"xaxis\":{\"backgroundcolor\":\"#E5ECF6\",\"gridcolor\":\"white\",\"linecolor\":\"white\",\"showbackground\":true,\"ticks\":\"\",\"zerolinecolor\":\"white\",\"gridwidth\":2},\"yaxis\":{\"backgroundcolor\":\"#E5ECF6\",\"gridcolor\":\"white\",\"linecolor\":\"white\",\"showbackground\":true,\"ticks\":\"\",\"zerolinecolor\":\"white\",\"gridwidth\":2},\"zaxis\":{\"backgroundcolor\":\"#E5ECF6\",\"gridcolor\":\"white\",\"linecolor\":\"white\",\"showbackground\":true,\"ticks\":\"\",\"zerolinecolor\":\"white\",\"gridwidth\":2}},\"shapedefaults\":{\"line\":{\"color\":\"#2a3f5f\"}},\"annotationdefaults\":{\"arrowcolor\":\"#2a3f5f\",\"arrowhead\":0,\"arrowwidth\":1},\"geo\":{\"bgcolor\":\"white\",\"landcolor\":\"#E5ECF6\",\"subunitcolor\":\"white\",\"showland\":true,\"showlakes\":true,\"lakecolor\":\"white\"},\"title\":{\"x\":0.05},\"mapbox\":{\"style\":\"light\"}}},\"margin\":{\"l\":20,\"r\":0,\"t\":20,\"b\":20},\"legend\":{\"orientation\":\"h\",\"yanchor\":\"bottom\",\"y\":1.02,\"xanchor\":\"right\",\"x\":1},\"barmode\":\"stack\",\"height\":500,\"hoverlabel\":{\"font\":{\"size\":16,\"family\":\"Rockwell\"},\"bgcolor\":\"white\",\"namelength\":-1},\"yaxis\":{\"title\":{\"text\":\"Feature Name\"},\"tickvals\":[0,1,2,3,4,5,6,7,8,9,10,11,12,13,14,15,16,17,18,19,20,21,22,23,24],\"ticktext\":[\"Product_Usage (180 days count)\",\"Zip_Code\",\"Customers[Products_Purchased] (5 ye\",\"Customers[Products_Purchased] (5 ye\",\"Products_Purchased\",\"CSAT[Net_Promoter_Score] (latest)\",\"Product_Usage[Activity_Type] (180 d\",\"Contract_Duration\",\"Customers[Contract_Duration] (5 yea\",\"Product_Usage[UserID] (180 days uni\",\"Product_Usage[Activity_Type] (1 mon\",\"Annual_Revenue\",\"Prediction_Point (Year)\",\"duration(Renewal_Date, Customer_Sin\",\"Product_Usage[Activity_Type] (1 mon\",\"Customers[ARR] (5 years avg)\",\"Customers[Products_Purchased] (5 ye\",\"Prediction_Point (days from Product\",\"Product_Usage[Activity_Type] (180 d\",\"Customers[Contract_Duration] (5 yea\",\"Product_Usage (1 month count)\",\"State\",\"Industry\",\"Product_Usage[UserID] (1 month uniq\",\"Customers[Contract_Duration] (5 yea\"]},\"xaxis\":{\"title\":{\"text\":\"Impact\"}}},                        {\"responsive\": true}                    ).then(function(){\n",
       "                            \n",
       "var gd = document.getElementById('3239f329-83ff-4092-ba55-5038c0a875fb');\n",
       "var x = new MutationObserver(function (mutations, observer) {{\n",
       "        var display = window.getComputedStyle(gd).display;\n",
       "        if (!display || display === 'none') {{\n",
       "            console.log([gd, 'removed!']);\n",
       "            Plotly.purge(gd);\n",
       "            observer.disconnect();\n",
       "        }}\n",
       "}});\n",
       "\n",
       "// Listen for the removal of the full notebook cells\n",
       "var notebookContainer = gd.closest('#notebook-container');\n",
       "if (notebookContainer) {{\n",
       "    x.observe(notebookContainer, {childList: true});\n",
       "}}\n",
       "\n",
       "// Listen for the clearing of the current output cell\n",
       "var outputEl = gd.closest('.output');\n",
       "if (outputEl) {{\n",
       "    x.observe(outputEl, {childList: true});\n",
       "}}\n",
       "\n",
       "                        })                };                });            </script>        </div>"
      ]
     },
     "metadata": {},
     "output_type": "display_data"
    }
   ],
   "source": [
    "# feature impact split by positive class predictions\n",
    "threshold = 0.33\n",
    "positive_preds = melted.loc[melted['class_1']>=threshold, :].copy()\n",
    "plot_signed_feature_impact(positive_preds, height=500, n=25)"
   ]
  },
  {
   "cell_type": "markdown",
   "id": "f2d53bdf",
   "metadata": {},
   "source": [
    "### Plot prediction explanations"
   ]
  },
  {
   "cell_type": "code",
   "execution_count": 162,
   "id": "2a56f628",
   "metadata": {},
   "outputs": [
    {
     "data": {
      "application/vnd.plotly.v1+json": {
       "config": {
        "plotlyServerURL": "https://plot.ly"
       },
       "data": [
        {
         "line": {
          "color": "blue",
          "width": 2
         },
         "marker": {
          "color": "blue",
          "line": {
           "color": "blue",
           "width": 2
          },
          "size": 5,
          "symbol": "cross-open"
         },
         "mode": "lines+markers",
         "name": "Predictions",
         "type": "scatter",
         "x": [
          1,
          2,
          3,
          4,
          5,
          6,
          7,
          8,
          9,
          10
         ],
         "xaxis": "x",
         "y": [
          0.004698392399999999,
          0.00900169647857143,
          0.017305676179999997,
          0.0251142519,
          0.035226440793333334,
          0.04646126437142858,
          0.059642432946666664,
          0.08941539407857142,
          0.13852190072666667,
          0.3814479204357143
         ],
         "yaxis": "y2"
        },
        {
         "line": {
          "color": "#ff7f0e",
          "width": 2
         },
         "marker": {
          "color": "#ff7f0e",
          "line": {
           "color": "#ff7f0e",
           "width": 1
          },
          "size": 5,
          "symbol": "circle-open"
         },
         "mode": "lines+markers",
         "name": "Actuals",
         "type": "scatter",
         "x": [
          1,
          2,
          3,
          4,
          5,
          6,
          7,
          8,
          9,
          10
         ],
         "xaxis": "x",
         "y": [
          0,
          0,
          0,
          0.07142857142857142,
          0.06666666666666667,
          0.07142857142857142,
          0,
          0,
          0.26666666666666666,
          0.2857142857142857
         ],
         "yaxis": "y2"
        },
        {
         "customdata": [
          [
           24,
           -2.1949149701999997,
           "Customers[Contract_Duration] (5 years most frequent)"
          ],
          [
           24,
           -1.7802987686999998,
           "Customers[Contract_Duration] (5 years most frequent)"
          ],
          [
           12,
           -1.2053947609999998,
           "Customers[Contract_Duration] (5 years most frequent)"
          ],
          [
           12,
           -1.0451069548999998,
           "Customers[Contract_Duration] (5 years most frequent)"
          ],
          [
           12,
           -0.6304907530999999,
           "Customers[Contract_Duration] (5 years most frequent)"
          ],
          [
           12,
           -0.4702029469999999,
           "Customers[Contract_Duration] (5 years most frequent)"
          ],
          [
           12,
           -0.05558674549999987,
           "Customers[Contract_Duration] (5 years most frequent)"
          ],
          [
           12,
           -0.055586745399999915,
           "Customers[Contract_Duration] (5 years most frequent)"
          ],
          [
           12,
           0.6796050683000001,
           "Customers[Contract_Duration] (5 years most frequent)"
          ],
          [
           12,
           0.6796050683000001,
           "Customers[Contract_Duration] (5 years most frequent)"
          ]
         ],
         "hoverlabel": {
          "bgcolor": "white",
          "font": {
           "family": "Rockwell",
           "size": 16
          },
          "namelength": -1
         },
         "hovertemplate": "<br>Bin</b>: %{x}<br>Feature</b>: %{customdata[2]}<br>Strength</b>: %{y: .2}<br>Median Value</b>: %{customdata[0]: .3}<extra></extra>",
         "marker": {
          "color": "#636EFA"
         },
         "name": "Customers[Contract_Duration] (5 years most frequent)",
         "opacity": 0.5,
         "type": "bar",
         "x": [
          7,
          10,
          2,
          3,
          4,
          5,
          6,
          8,
          9,
          1
         ],
         "y": [
          -2.1949149701999997,
          -1.7802987686999998,
          -1.2053947609999998,
          -1.0451069548999998,
          -0.6304907530999999,
          -0.4702029469999999,
          -0.05558674549999987,
          -0.055586745399999915,
          0.6796050683000001,
          0.6796050683000001
         ]
        },
        {
         "customdata": [
          [
           1.5,
           -4.871062968,
           "Customers[Contract_Duration] (5 years unique count)"
          ],
          [
           2,
           -3.8960895634,
           "Customers[Contract_Duration] (5 years unique count)"
          ],
          [
           2,
           -3.8443791887,
           "Customers[Contract_Duration] (5 years unique count)"
          ],
          [
           1,
           -3.4620897255,
           "Customers[Contract_Duration] (5 years unique count)"
          ],
          [
           1,
           -2.9419906135,
           "Customers[Contract_Duration] (5 years unique count)"
          ],
          [
           1,
           -2.9003006935,
           "Customers[Contract_Duration] (5 years unique count)"
          ],
          [
           1,
           -2.5021427963,
           "Customers[Contract_Duration] (5 years unique count)"
          ],
          [
           1,
           -2.4706588403,
           "Customers[Contract_Duration] (5 years unique count)"
          ],
          [
           1,
           -0.44305005560000005,
           "Customers[Contract_Duration] (5 years unique count)"
          ],
          [
           0.5,
           0.6121021833,
           "Customers[Contract_Duration] (5 years unique count)"
          ]
         ],
         "hoverlabel": {
          "bgcolor": "white",
          "font": {
           "family": "Rockwell",
           "size": 16
          },
          "namelength": -1
         },
         "hovertemplate": "<br>Bin</b>: %{x}<br>Feature</b>: %{customdata[2]}<br>Strength</b>: %{y: .2}<br>Median Value</b>: %{customdata[0]: .3}<extra></extra>",
         "marker": {
          "color": "#EF553B"
         },
         "name": "Customers[Contract_Duration] (5 years unique count)",
         "opacity": 0.5,
         "type": "bar",
         "x": [
          4,
          9,
          8,
          7,
          5,
          2,
          1,
          3,
          6,
          10
         ],
         "y": [
          -4.871062968,
          -3.8960895634,
          -3.8443791887,
          -3.4620897255,
          -2.9419906135,
          -2.9003006935,
          -2.5021427963,
          -2.4706588403,
          -0.44305005560000005,
          0.6121021833
         ]
        },
        {
         "customdata": [
          [
           "telecom",
           -1.3002144541999998,
           "Industry"
          ],
          [
           "telecom",
           -1.2596892598,
           "Industry"
          ],
          [
           "healthcare",
           -0.7766412995,
           "Industry"
          ],
          [
           "telecom",
           0.0029129998999999906,
           "Industry"
          ],
          [
           "manufacturing",
           0.9893160934999999,
           "Industry"
          ],
          [
           "manufacturing",
           1.4493329885000001,
           "Industry"
          ],
          [
           "healthcare",
           1.6392944968000003,
           "Industry"
          ],
          [
           "manufacturing",
           1.938395405,
           "Industry"
          ],
          [
           "banking",
           3.1266944838999997,
           "Industry"
          ],
          [
           "banking",
           3.8645608123,
           "Industry"
          ]
         ],
         "hoverlabel": {
          "bgcolor": "white",
          "font": {
           "family": "Rockwell",
           "size": 16
          },
          "namelength": -1
         },
         "hovertemplate": "<br>Bin</b>: %{x}<br>Feature</b>: %{customdata[2]}<br>Strength</b>: %{y: .2}<br>Most Frequent Value</b>: %{customdata[0]}<extra></extra>",
         "marker": {
          "color": "#00CC96"
         },
         "name": "Industry",
         "opacity": 0.5,
         "type": "bar",
         "x": [
          2,
          4,
          3,
          1,
          8,
          6,
          5,
          7,
          10,
          9
         ],
         "y": [
          -1.3002144541999998,
          -1.2596892598,
          -0.7766412995,
          0.0029129998999999906,
          0.9893160934999999,
          1.4493329885000001,
          1.6392944968000003,
          1.938395405,
          3.1266944838999997,
          3.8645608123
         ]
        },
        {
         "customdata": [
          [
           2022,
           4.1414551557,
           "Prediction_Point (Year)"
          ],
          [
           2022,
           4.1436209675,
           "Prediction_Point (Year)"
          ],
          [
           2022,
           4.1538012903,
           "Prediction_Point (Year)"
          ],
          [
           2022,
           4.1578454545,
           "Prediction_Point (Year)"
          ],
          [
           2022,
           4.1885312894,
           "Prediction_Point (Year)"
          ],
          [
           2022,
           4.4362188062,
           "Prediction_Point (Year)"
          ],
          [
           2022,
           4.4460821035,
           "Prediction_Point (Year)"
          ],
          [
           2022,
           4.4524188695,
           "Prediction_Point (Year)"
          ],
          [
           2022,
           4.4553914567,
           "Prediction_Point (Year)"
          ],
          [
           2022,
           4.4637362367,
           "Prediction_Point (Year)"
          ]
         ],
         "hoverlabel": {
          "bgcolor": "white",
          "font": {
           "family": "Rockwell",
           "size": 16
          },
          "namelength": -1
         },
         "hovertemplate": "<br>Bin</b>: %{x}<br>Feature</b>: %{customdata[2]}<br>Strength</b>: %{y: .2}<br>Median Value</b>: %{customdata[0]: .3}<extra></extra>",
         "marker": {
          "color": "#AB63FA"
         },
         "name": "Prediction_Point (Year)",
         "opacity": 0.5,
         "type": "bar",
         "x": [
          4,
          6,
          2,
          10,
          8,
          3,
          9,
          5,
          1,
          7
         ],
         "y": [
          4.1414551557,
          4.1436209675,
          4.1538012903,
          4.1578454545,
          4.1885312894,
          4.4362188062,
          4.4460821035,
          4.4524188695,
          4.4553914567,
          4.4637362367
         ]
        },
        {
         "customdata": [
          [
           12,
           -12.0856484328,
           "Product_Usage (1 month count)"
          ],
          [
           10,
           -9.8529895169,
           "Product_Usage (1 month count)"
          ],
          [
           10,
           -8.1848614548,
           "Product_Usage (1 month count)"
          ],
          [
           8.5,
           -6.4127363521000005,
           "Product_Usage (1 month count)"
          ],
          [
           7,
           -5.1622984274000006,
           "Product_Usage (1 month count)"
          ],
          [
           7.5,
           -2.2099643865,
           "Product_Usage (1 month count)"
          ],
          [
           6.5,
           -1.8444603359,
           "Product_Usage (1 month count)"
          ],
          [
           6,
           -1.7485703399,
           "Product_Usage (1 month count)"
          ],
          [
           6,
           -0.863868868,
           "Product_Usage (1 month count)"
          ],
          [
           4.5,
           0.8493114177999999,
           "Product_Usage (1 month count)"
          ]
         ],
         "hoverlabel": {
          "bgcolor": "white",
          "font": {
           "family": "Rockwell",
           "size": 16
          },
          "namelength": -1
         },
         "hovertemplate": "<br>Bin</b>: %{x}<br>Feature</b>: %{customdata[2]}<br>Strength</b>: %{y: .2}<br>Median Value</b>: %{customdata[0]: .3}<extra></extra>",
         "marker": {
          "color": "#FFA15A"
         },
         "name": "Product_Usage (1 month count)",
         "opacity": 0.5,
         "type": "bar",
         "x": [
          1,
          3,
          2,
          6,
          5,
          4,
          8,
          7,
          9,
          10
         ],
         "y": [
          -12.0856484328,
          -9.8529895169,
          -8.1848614548,
          -6.4127363521000005,
          -5.1622984274000006,
          -2.2099643865,
          -1.8444603359,
          -1.7485703399,
          -0.863868868,
          0.8493114177999999
         ]
        },
        {
         "customdata": [
          [
           9,
           -13.1767175582,
           "Product_Usage[UserID] (1 month unique count)"
          ],
          [
           9,
           -9.9012392541,
           "Product_Usage[UserID] (1 month unique count)"
          ],
          [
           9,
           -9.5328211903,
           "Product_Usage[UserID] (1 month unique count)"
          ],
          [
           7,
           -6.3734789811,
           "Product_Usage[UserID] (1 month unique count)"
          ],
          [
           6,
           -5.9668910014000005,
           "Product_Usage[UserID] (1 month unique count)"
          ],
          [
           6,
           -2.3074650247,
           "Product_Usage[UserID] (1 month unique count)"
          ],
          [
           6,
           -2.1501489698,
           "Product_Usage[UserID] (1 month unique count)"
          ],
          [
           5.5,
           -1.589704765,
           "Product_Usage[UserID] (1 month unique count)"
          ],
          [
           5,
           -0.9690656969000001,
           "Product_Usage[UserID] (1 month unique count)"
          ],
          [
           4,
           1.5132051276,
           "Product_Usage[UserID] (1 month unique count)"
          ]
         ],
         "hoverlabel": {
          "bgcolor": "white",
          "font": {
           "family": "Rockwell",
           "size": 16
          },
          "namelength": -1
         },
         "hovertemplate": "<br>Bin</b>: %{x}<br>Feature</b>: %{customdata[2]}<br>Strength</b>: %{y: .2}<br>Median Value</b>: %{customdata[0]: .3}<extra></extra>",
         "marker": {
          "color": "#19D3F3"
         },
         "name": "Product_Usage[UserID] (1 month unique count)",
         "opacity": 0.5,
         "type": "bar",
         "x": [
          1,
          3,
          2,
          6,
          5,
          4,
          7,
          8,
          9,
          10
         ],
         "y": [
          -13.1767175582,
          -9.9012392541,
          -9.5328211903,
          -6.3734789811,
          -5.9668910014000005,
          -2.3074650247,
          -2.1501489698,
          -1.589704765,
          -0.9690656969000001,
          1.5132051276
         ]
        }
       ],
       "layout": {
        "barmode": "relative",
        "height": 600,
        "hoverlabel": {
         "bgcolor": "white",
         "font": {
          "family": "Rockwell",
          "size": 16
         },
         "namelength": -1
        },
        "legend": {
         "bgcolor": "rgba(255, 255, 255, 0)",
         "bordercolor": "rgba(255, 255, 255, 0)",
         "title": {
          "text": "Features: "
         }
        },
        "showlegend": false,
        "template": {
         "data": {
          "bar": [
           {
            "error_x": {
             "color": "#2a3f5f"
            },
            "error_y": {
             "color": "#2a3f5f"
            },
            "marker": {
             "line": {
              "color": "#E5ECF6",
              "width": 0.5
             },
             "pattern": {
              "fillmode": "overlay",
              "size": 10,
              "solidity": 0.2
             }
            },
            "type": "bar"
           }
          ],
          "barpolar": [
           {
            "marker": {
             "line": {
              "color": "#E5ECF6",
              "width": 0.5
             },
             "pattern": {
              "fillmode": "overlay",
              "size": 10,
              "solidity": 0.2
             }
            },
            "type": "barpolar"
           }
          ],
          "carpet": [
           {
            "aaxis": {
             "endlinecolor": "#2a3f5f",
             "gridcolor": "white",
             "linecolor": "white",
             "minorgridcolor": "white",
             "startlinecolor": "#2a3f5f"
            },
            "baxis": {
             "endlinecolor": "#2a3f5f",
             "gridcolor": "white",
             "linecolor": "white",
             "minorgridcolor": "white",
             "startlinecolor": "#2a3f5f"
            },
            "type": "carpet"
           }
          ],
          "choropleth": [
           {
            "colorbar": {
             "outlinewidth": 0,
             "ticks": ""
            },
            "type": "choropleth"
           }
          ],
          "contour": [
           {
            "colorbar": {
             "outlinewidth": 0,
             "ticks": ""
            },
            "colorscale": [
             [
              0,
              "#0d0887"
             ],
             [
              0.1111111111111111,
              "#46039f"
             ],
             [
              0.2222222222222222,
              "#7201a8"
             ],
             [
              0.3333333333333333,
              "#9c179e"
             ],
             [
              0.4444444444444444,
              "#bd3786"
             ],
             [
              0.5555555555555556,
              "#d8576b"
             ],
             [
              0.6666666666666666,
              "#ed7953"
             ],
             [
              0.7777777777777778,
              "#fb9f3a"
             ],
             [
              0.8888888888888888,
              "#fdca26"
             ],
             [
              1,
              "#f0f921"
             ]
            ],
            "type": "contour"
           }
          ],
          "contourcarpet": [
           {
            "colorbar": {
             "outlinewidth": 0,
             "ticks": ""
            },
            "type": "contourcarpet"
           }
          ],
          "heatmap": [
           {
            "colorbar": {
             "outlinewidth": 0,
             "ticks": ""
            },
            "colorscale": [
             [
              0,
              "#0d0887"
             ],
             [
              0.1111111111111111,
              "#46039f"
             ],
             [
              0.2222222222222222,
              "#7201a8"
             ],
             [
              0.3333333333333333,
              "#9c179e"
             ],
             [
              0.4444444444444444,
              "#bd3786"
             ],
             [
              0.5555555555555556,
              "#d8576b"
             ],
             [
              0.6666666666666666,
              "#ed7953"
             ],
             [
              0.7777777777777778,
              "#fb9f3a"
             ],
             [
              0.8888888888888888,
              "#fdca26"
             ],
             [
              1,
              "#f0f921"
             ]
            ],
            "type": "heatmap"
           }
          ],
          "heatmapgl": [
           {
            "colorbar": {
             "outlinewidth": 0,
             "ticks": ""
            },
            "colorscale": [
             [
              0,
              "#0d0887"
             ],
             [
              0.1111111111111111,
              "#46039f"
             ],
             [
              0.2222222222222222,
              "#7201a8"
             ],
             [
              0.3333333333333333,
              "#9c179e"
             ],
             [
              0.4444444444444444,
              "#bd3786"
             ],
             [
              0.5555555555555556,
              "#d8576b"
             ],
             [
              0.6666666666666666,
              "#ed7953"
             ],
             [
              0.7777777777777778,
              "#fb9f3a"
             ],
             [
              0.8888888888888888,
              "#fdca26"
             ],
             [
              1,
              "#f0f921"
             ]
            ],
            "type": "heatmapgl"
           }
          ],
          "histogram": [
           {
            "marker": {
             "pattern": {
              "fillmode": "overlay",
              "size": 10,
              "solidity": 0.2
             }
            },
            "type": "histogram"
           }
          ],
          "histogram2d": [
           {
            "colorbar": {
             "outlinewidth": 0,
             "ticks": ""
            },
            "colorscale": [
             [
              0,
              "#0d0887"
             ],
             [
              0.1111111111111111,
              "#46039f"
             ],
             [
              0.2222222222222222,
              "#7201a8"
             ],
             [
              0.3333333333333333,
              "#9c179e"
             ],
             [
              0.4444444444444444,
              "#bd3786"
             ],
             [
              0.5555555555555556,
              "#d8576b"
             ],
             [
              0.6666666666666666,
              "#ed7953"
             ],
             [
              0.7777777777777778,
              "#fb9f3a"
             ],
             [
              0.8888888888888888,
              "#fdca26"
             ],
             [
              1,
              "#f0f921"
             ]
            ],
            "type": "histogram2d"
           }
          ],
          "histogram2dcontour": [
           {
            "colorbar": {
             "outlinewidth": 0,
             "ticks": ""
            },
            "colorscale": [
             [
              0,
              "#0d0887"
             ],
             [
              0.1111111111111111,
              "#46039f"
             ],
             [
              0.2222222222222222,
              "#7201a8"
             ],
             [
              0.3333333333333333,
              "#9c179e"
             ],
             [
              0.4444444444444444,
              "#bd3786"
             ],
             [
              0.5555555555555556,
              "#d8576b"
             ],
             [
              0.6666666666666666,
              "#ed7953"
             ],
             [
              0.7777777777777778,
              "#fb9f3a"
             ],
             [
              0.8888888888888888,
              "#fdca26"
             ],
             [
              1,
              "#f0f921"
             ]
            ],
            "type": "histogram2dcontour"
           }
          ],
          "mesh3d": [
           {
            "colorbar": {
             "outlinewidth": 0,
             "ticks": ""
            },
            "type": "mesh3d"
           }
          ],
          "parcoords": [
           {
            "line": {
             "colorbar": {
              "outlinewidth": 0,
              "ticks": ""
             }
            },
            "type": "parcoords"
           }
          ],
          "pie": [
           {
            "automargin": true,
            "type": "pie"
           }
          ],
          "scatter": [
           {
            "fillpattern": {
             "fillmode": "overlay",
             "size": 10,
             "solidity": 0.2
            },
            "type": "scatter"
           }
          ],
          "scatter3d": [
           {
            "line": {
             "colorbar": {
              "outlinewidth": 0,
              "ticks": ""
             }
            },
            "marker": {
             "colorbar": {
              "outlinewidth": 0,
              "ticks": ""
             }
            },
            "type": "scatter3d"
           }
          ],
          "scattercarpet": [
           {
            "marker": {
             "colorbar": {
              "outlinewidth": 0,
              "ticks": ""
             }
            },
            "type": "scattercarpet"
           }
          ],
          "scattergeo": [
           {
            "marker": {
             "colorbar": {
              "outlinewidth": 0,
              "ticks": ""
             }
            },
            "type": "scattergeo"
           }
          ],
          "scattergl": [
           {
            "marker": {
             "colorbar": {
              "outlinewidth": 0,
              "ticks": ""
             }
            },
            "type": "scattergl"
           }
          ],
          "scattermapbox": [
           {
            "marker": {
             "colorbar": {
              "outlinewidth": 0,
              "ticks": ""
             }
            },
            "type": "scattermapbox"
           }
          ],
          "scatterpolar": [
           {
            "marker": {
             "colorbar": {
              "outlinewidth": 0,
              "ticks": ""
             }
            },
            "type": "scatterpolar"
           }
          ],
          "scatterpolargl": [
           {
            "marker": {
             "colorbar": {
              "outlinewidth": 0,
              "ticks": ""
             }
            },
            "type": "scatterpolargl"
           }
          ],
          "scatterternary": [
           {
            "marker": {
             "colorbar": {
              "outlinewidth": 0,
              "ticks": ""
             }
            },
            "type": "scatterternary"
           }
          ],
          "surface": [
           {
            "colorbar": {
             "outlinewidth": 0,
             "ticks": ""
            },
            "colorscale": [
             [
              0,
              "#0d0887"
             ],
             [
              0.1111111111111111,
              "#46039f"
             ],
             [
              0.2222222222222222,
              "#7201a8"
             ],
             [
              0.3333333333333333,
              "#9c179e"
             ],
             [
              0.4444444444444444,
              "#bd3786"
             ],
             [
              0.5555555555555556,
              "#d8576b"
             ],
             [
              0.6666666666666666,
              "#ed7953"
             ],
             [
              0.7777777777777778,
              "#fb9f3a"
             ],
             [
              0.8888888888888888,
              "#fdca26"
             ],
             [
              1,
              "#f0f921"
             ]
            ],
            "type": "surface"
           }
          ],
          "table": [
           {
            "cells": {
             "fill": {
              "color": "#EBF0F8"
             },
             "line": {
              "color": "white"
             }
            },
            "header": {
             "fill": {
              "color": "#C8D4E3"
             },
             "line": {
              "color": "white"
             }
            },
            "type": "table"
           }
          ]
         },
         "layout": {
          "annotationdefaults": {
           "arrowcolor": "#2a3f5f",
           "arrowhead": 0,
           "arrowwidth": 1
          },
          "autotypenumbers": "strict",
          "coloraxis": {
           "colorbar": {
            "outlinewidth": 0,
            "ticks": ""
           }
          },
          "colorscale": {
           "diverging": [
            [
             0,
             "#8e0152"
            ],
            [
             0.1,
             "#c51b7d"
            ],
            [
             0.2,
             "#de77ae"
            ],
            [
             0.3,
             "#f1b6da"
            ],
            [
             0.4,
             "#fde0ef"
            ],
            [
             0.5,
             "#f7f7f7"
            ],
            [
             0.6,
             "#e6f5d0"
            ],
            [
             0.7,
             "#b8e186"
            ],
            [
             0.8,
             "#7fbc41"
            ],
            [
             0.9,
             "#4d9221"
            ],
            [
             1,
             "#276419"
            ]
           ],
           "sequential": [
            [
             0,
             "#0d0887"
            ],
            [
             0.1111111111111111,
             "#46039f"
            ],
            [
             0.2222222222222222,
             "#7201a8"
            ],
            [
             0.3333333333333333,
             "#9c179e"
            ],
            [
             0.4444444444444444,
             "#bd3786"
            ],
            [
             0.5555555555555556,
             "#d8576b"
            ],
            [
             0.6666666666666666,
             "#ed7953"
            ],
            [
             0.7777777777777778,
             "#fb9f3a"
            ],
            [
             0.8888888888888888,
             "#fdca26"
            ],
            [
             1,
             "#f0f921"
            ]
           ],
           "sequentialminus": [
            [
             0,
             "#0d0887"
            ],
            [
             0.1111111111111111,
             "#46039f"
            ],
            [
             0.2222222222222222,
             "#7201a8"
            ],
            [
             0.3333333333333333,
             "#9c179e"
            ],
            [
             0.4444444444444444,
             "#bd3786"
            ],
            [
             0.5555555555555556,
             "#d8576b"
            ],
            [
             0.6666666666666666,
             "#ed7953"
            ],
            [
             0.7777777777777778,
             "#fb9f3a"
            ],
            [
             0.8888888888888888,
             "#fdca26"
            ],
            [
             1,
             "#f0f921"
            ]
           ]
          },
          "colorway": [
           "#636efa",
           "#EF553B",
           "#00cc96",
           "#ab63fa",
           "#FFA15A",
           "#19d3f3",
           "#FF6692",
           "#B6E880",
           "#FF97FF",
           "#FECB52"
          ],
          "font": {
           "color": "#2a3f5f"
          },
          "geo": {
           "bgcolor": "white",
           "lakecolor": "white",
           "landcolor": "#E5ECF6",
           "showlakes": true,
           "showland": true,
           "subunitcolor": "white"
          },
          "hoverlabel": {
           "align": "left"
          },
          "hovermode": "closest",
          "mapbox": {
           "style": "light"
          },
          "paper_bgcolor": "white",
          "plot_bgcolor": "#E5ECF6",
          "polar": {
           "angularaxis": {
            "gridcolor": "white",
            "linecolor": "white",
            "ticks": ""
           },
           "bgcolor": "#E5ECF6",
           "radialaxis": {
            "gridcolor": "white",
            "linecolor": "white",
            "ticks": ""
           }
          },
          "scene": {
           "xaxis": {
            "backgroundcolor": "#E5ECF6",
            "gridcolor": "white",
            "gridwidth": 2,
            "linecolor": "white",
            "showbackground": true,
            "ticks": "",
            "zerolinecolor": "white"
           },
           "yaxis": {
            "backgroundcolor": "#E5ECF6",
            "gridcolor": "white",
            "gridwidth": 2,
            "linecolor": "white",
            "showbackground": true,
            "ticks": "",
            "zerolinecolor": "white"
           },
           "zaxis": {
            "backgroundcolor": "#E5ECF6",
            "gridcolor": "white",
            "gridwidth": 2,
            "linecolor": "white",
            "showbackground": true,
            "ticks": "",
            "zerolinecolor": "white"
           }
          },
          "shapedefaults": {
           "line": {
            "color": "#2a3f5f"
           }
          },
          "ternary": {
           "aaxis": {
            "gridcolor": "white",
            "linecolor": "white",
            "ticks": ""
           },
           "baxis": {
            "gridcolor": "white",
            "linecolor": "white",
            "ticks": ""
           },
           "bgcolor": "#E5ECF6",
           "caxis": {
            "gridcolor": "white",
            "linecolor": "white",
            "ticks": ""
           }
          },
          "title": {
           "x": 0.05
          },
          "xaxis": {
           "automargin": true,
           "gridcolor": "white",
           "linecolor": "white",
           "ticks": "",
           "title": {
            "standoff": 15
           },
           "zerolinecolor": "white",
           "zerolinewidth": 2
          },
          "yaxis": {
           "automargin": true,
           "gridcolor": "white",
           "linecolor": "white",
           "ticks": "",
           "title": {
            "standoff": 15
           },
           "zerolinecolor": "white",
           "zerolinewidth": 2
          }
         }
        },
        "title": {
         "x": 0.5,
         "xanchor": "center",
         "y": 0.9,
         "yanchor": "top"
        },
        "xaxis": {
         "anchor": "y",
         "domain": [
          0,
          0.94
         ],
         "title": {
          "text": "Bins"
         }
        },
        "yaxis": {
         "anchor": "x",
         "domain": [
          0,
          1
         ],
         "title": {
          "text": "Feature Strength"
         }
        },
        "yaxis2": {
         "anchor": "x",
         "overlaying": "y",
         "side": "right",
         "tickformat": ",.0%",
         "title": {
          "text": "Average Prediction"
         }
        }
       }
      },
      "text/html": [
       "<div>                            <div id=\"c7f8d349-da90-445d-97b9-de9a527c4520\" class=\"plotly-graph-div\" style=\"height:600px; width:100%;\"></div>            <script type=\"text/javascript\">                require([\"plotly\"], function(Plotly) {                    window.PLOTLYENV=window.PLOTLYENV || {};                                    if (document.getElementById(\"c7f8d349-da90-445d-97b9-de9a527c4520\")) {                    Plotly.newPlot(                        \"c7f8d349-da90-445d-97b9-de9a527c4520\",                        [{\"line\":{\"color\":\"blue\",\"width\":2},\"marker\":{\"color\":\"blue\",\"line\":{\"color\":\"blue\",\"width\":2},\"size\":5,\"symbol\":\"cross-open\"},\"mode\":\"lines+markers\",\"name\":\"Predictions\",\"x\":[1,2,3,4,5,6,7,8,9,10],\"y\":[0.004698392399999999,0.00900169647857143,0.017305676179999997,0.0251142519,0.035226440793333334,0.04646126437142858,0.059642432946666664,0.08941539407857142,0.13852190072666667,0.3814479204357143],\"type\":\"scatter\",\"xaxis\":\"x\",\"yaxis\":\"y2\"},{\"line\":{\"color\":\"#ff7f0e\",\"width\":2},\"marker\":{\"color\":\"#ff7f0e\",\"line\":{\"color\":\"#ff7f0e\",\"width\":1},\"size\":5,\"symbol\":\"circle-open\"},\"mode\":\"lines+markers\",\"name\":\"Actuals\",\"x\":[1,2,3,4,5,6,7,8,9,10],\"y\":[0.0,0.0,0.0,0.07142857142857142,0.06666666666666667,0.07142857142857142,0.0,0.0,0.26666666666666666,0.2857142857142857],\"type\":\"scatter\",\"xaxis\":\"x\",\"yaxis\":\"y2\"},{\"customdata\":[[24.0,-2.1949149701999997,\"Customers[Contract_Duration] (5 years most frequent)\"],[24.0,-1.7802987686999998,\"Customers[Contract_Duration] (5 years most frequent)\"],[12.0,-1.2053947609999998,\"Customers[Contract_Duration] (5 years most frequent)\"],[12.0,-1.0451069548999998,\"Customers[Contract_Duration] (5 years most frequent)\"],[12.0,-0.6304907530999999,\"Customers[Contract_Duration] (5 years most frequent)\"],[12.0,-0.4702029469999999,\"Customers[Contract_Duration] (5 years most frequent)\"],[12.0,-0.05558674549999987,\"Customers[Contract_Duration] (5 years most frequent)\"],[12.0,-0.055586745399999915,\"Customers[Contract_Duration] (5 years most frequent)\"],[12.0,0.6796050683000001,\"Customers[Contract_Duration] (5 years most frequent)\"],[12.0,0.6796050683000001,\"Customers[Contract_Duration] (5 years most frequent)\"]],\"hoverlabel\":{\"bgcolor\":\"white\",\"font\":{\"family\":\"Rockwell\",\"size\":16},\"namelength\":-1},\"hovertemplate\":\"<br>Bin</b>: %{x}<br>Feature</b>: %{customdata[2]}<br>Strength</b>: %{y: .2}<br>Median Value</b>: %{customdata[0]: .3}<extra></extra>\",\"marker\":{\"color\":\"#636EFA\"},\"name\":\"Customers[Contract_Duration] (5 years most frequent)\",\"opacity\":0.5,\"x\":[7,10,2,3,4,5,6,8,9,1],\"y\":[-2.1949149701999997,-1.7802987686999998,-1.2053947609999998,-1.0451069548999998,-0.6304907530999999,-0.4702029469999999,-0.05558674549999987,-0.055586745399999915,0.6796050683000001,0.6796050683000001],\"type\":\"bar\"},{\"customdata\":[[1.5,-4.871062968,\"Customers[Contract_Duration] (5 years unique count)\"],[2.0,-3.8960895634,\"Customers[Contract_Duration] (5 years unique count)\"],[2.0,-3.8443791887,\"Customers[Contract_Duration] (5 years unique count)\"],[1.0,-3.4620897255,\"Customers[Contract_Duration] (5 years unique count)\"],[1.0,-2.9419906135,\"Customers[Contract_Duration] (5 years unique count)\"],[1.0,-2.9003006935,\"Customers[Contract_Duration] (5 years unique count)\"],[1.0,-2.5021427963,\"Customers[Contract_Duration] (5 years unique count)\"],[1.0,-2.4706588403,\"Customers[Contract_Duration] (5 years unique count)\"],[1.0,-0.44305005560000005,\"Customers[Contract_Duration] (5 years unique count)\"],[0.5,0.6121021833,\"Customers[Contract_Duration] (5 years unique count)\"]],\"hoverlabel\":{\"bgcolor\":\"white\",\"font\":{\"family\":\"Rockwell\",\"size\":16},\"namelength\":-1},\"hovertemplate\":\"<br>Bin</b>: %{x}<br>Feature</b>: %{customdata[2]}<br>Strength</b>: %{y: .2}<br>Median Value</b>: %{customdata[0]: .3}<extra></extra>\",\"marker\":{\"color\":\"#EF553B\"},\"name\":\"Customers[Contract_Duration] (5 years unique count)\",\"opacity\":0.5,\"x\":[4,9,8,7,5,2,1,3,6,10],\"y\":[-4.871062968,-3.8960895634,-3.8443791887,-3.4620897255,-2.9419906135,-2.9003006935,-2.5021427963,-2.4706588403,-0.44305005560000005,0.6121021833],\"type\":\"bar\"},{\"customdata\":[[\"telecom\",-1.3002144541999998,\"Industry\"],[\"telecom\",-1.2596892598,\"Industry\"],[\"healthcare\",-0.7766412995,\"Industry\"],[\"telecom\",0.0029129998999999906,\"Industry\"],[\"manufacturing\",0.9893160934999999,\"Industry\"],[\"manufacturing\",1.4493329885000001,\"Industry\"],[\"healthcare\",1.6392944968000003,\"Industry\"],[\"manufacturing\",1.938395405,\"Industry\"],[\"banking\",3.1266944838999997,\"Industry\"],[\"banking\",3.8645608123,\"Industry\"]],\"hoverlabel\":{\"bgcolor\":\"white\",\"font\":{\"family\":\"Rockwell\",\"size\":16},\"namelength\":-1},\"hovertemplate\":\"<br>Bin</b>: %{x}<br>Feature</b>: %{customdata[2]}<br>Strength</b>: %{y: .2}<br>Most Frequent Value</b>: %{customdata[0]}<extra></extra>\",\"marker\":{\"color\":\"#00CC96\"},\"name\":\"Industry\",\"opacity\":0.5,\"x\":[2,4,3,1,8,6,5,7,10,9],\"y\":[-1.3002144541999998,-1.2596892598,-0.7766412995,0.0029129998999999906,0.9893160934999999,1.4493329885000001,1.6392944968000003,1.938395405,3.1266944838999997,3.8645608123],\"type\":\"bar\"},{\"customdata\":[[2022.0,4.1414551557,\"Prediction_Point (Year)\"],[2022.0,4.1436209675,\"Prediction_Point (Year)\"],[2022.0,4.1538012903,\"Prediction_Point (Year)\"],[2022.0,4.1578454545,\"Prediction_Point (Year)\"],[2022.0,4.1885312894,\"Prediction_Point (Year)\"],[2022.0,4.4362188062,\"Prediction_Point (Year)\"],[2022.0,4.4460821035,\"Prediction_Point (Year)\"],[2022.0,4.4524188695,\"Prediction_Point (Year)\"],[2022.0,4.4553914567,\"Prediction_Point (Year)\"],[2022.0,4.4637362367,\"Prediction_Point (Year)\"]],\"hoverlabel\":{\"bgcolor\":\"white\",\"font\":{\"family\":\"Rockwell\",\"size\":16},\"namelength\":-1},\"hovertemplate\":\"<br>Bin</b>: %{x}<br>Feature</b>: %{customdata[2]}<br>Strength</b>: %{y: .2}<br>Median Value</b>: %{customdata[0]: .3}<extra></extra>\",\"marker\":{\"color\":\"#AB63FA\"},\"name\":\"Prediction_Point (Year)\",\"opacity\":0.5,\"x\":[4,6,2,10,8,3,9,5,1,7],\"y\":[4.1414551557,4.1436209675,4.1538012903,4.1578454545,4.1885312894,4.4362188062,4.4460821035,4.4524188695,4.4553914567,4.4637362367],\"type\":\"bar\"},{\"customdata\":[[12.0,-12.0856484328,\"Product_Usage (1 month count)\"],[10.0,-9.8529895169,\"Product_Usage (1 month count)\"],[10.0,-8.1848614548,\"Product_Usage (1 month count)\"],[8.5,-6.4127363521000005,\"Product_Usage (1 month count)\"],[7.0,-5.1622984274000006,\"Product_Usage (1 month count)\"],[7.5,-2.2099643865,\"Product_Usage (1 month count)\"],[6.5,-1.8444603359,\"Product_Usage (1 month count)\"],[6.0,-1.7485703399,\"Product_Usage (1 month count)\"],[6.0,-0.863868868,\"Product_Usage (1 month count)\"],[4.5,0.8493114177999999,\"Product_Usage (1 month count)\"]],\"hoverlabel\":{\"bgcolor\":\"white\",\"font\":{\"family\":\"Rockwell\",\"size\":16},\"namelength\":-1},\"hovertemplate\":\"<br>Bin</b>: %{x}<br>Feature</b>: %{customdata[2]}<br>Strength</b>: %{y: .2}<br>Median Value</b>: %{customdata[0]: .3}<extra></extra>\",\"marker\":{\"color\":\"#FFA15A\"},\"name\":\"Product_Usage (1 month count)\",\"opacity\":0.5,\"x\":[1,3,2,6,5,4,8,7,9,10],\"y\":[-12.0856484328,-9.8529895169,-8.1848614548,-6.4127363521000005,-5.1622984274000006,-2.2099643865,-1.8444603359,-1.7485703399,-0.863868868,0.8493114177999999],\"type\":\"bar\"},{\"customdata\":[[9.0,-13.1767175582,\"Product_Usage[UserID] (1 month unique count)\"],[9.0,-9.9012392541,\"Product_Usage[UserID] (1 month unique count)\"],[9.0,-9.5328211903,\"Product_Usage[UserID] (1 month unique count)\"],[7.0,-6.3734789811,\"Product_Usage[UserID] (1 month unique count)\"],[6.0,-5.9668910014000005,\"Product_Usage[UserID] (1 month unique count)\"],[6.0,-2.3074650247,\"Product_Usage[UserID] (1 month unique count)\"],[6.0,-2.1501489698,\"Product_Usage[UserID] (1 month unique count)\"],[5.5,-1.589704765,\"Product_Usage[UserID] (1 month unique count)\"],[5.0,-0.9690656969000001,\"Product_Usage[UserID] (1 month unique count)\"],[4.0,1.5132051276,\"Product_Usage[UserID] (1 month unique count)\"]],\"hoverlabel\":{\"bgcolor\":\"white\",\"font\":{\"family\":\"Rockwell\",\"size\":16},\"namelength\":-1},\"hovertemplate\":\"<br>Bin</b>: %{x}<br>Feature</b>: %{customdata[2]}<br>Strength</b>: %{y: .2}<br>Median Value</b>: %{customdata[0]: .3}<extra></extra>\",\"marker\":{\"color\":\"#19D3F3\"},\"name\":\"Product_Usage[UserID] (1 month unique count)\",\"opacity\":0.5,\"x\":[1,3,2,6,5,4,7,8,9,10],\"y\":[-13.1767175582,-9.9012392541,-9.5328211903,-6.3734789811,-5.9668910014000005,-2.3074650247,-2.1501489698,-1.589704765,-0.9690656969000001,1.5132051276],\"type\":\"bar\"}],                        {\"template\":{\"data\":{\"histogram2dcontour\":[{\"type\":\"histogram2dcontour\",\"colorbar\":{\"outlinewidth\":0,\"ticks\":\"\"},\"colorscale\":[[0.0,\"#0d0887\"],[0.1111111111111111,\"#46039f\"],[0.2222222222222222,\"#7201a8\"],[0.3333333333333333,\"#9c179e\"],[0.4444444444444444,\"#bd3786\"],[0.5555555555555556,\"#d8576b\"],[0.6666666666666666,\"#ed7953\"],[0.7777777777777778,\"#fb9f3a\"],[0.8888888888888888,\"#fdca26\"],[1.0,\"#f0f921\"]]}],\"choropleth\":[{\"type\":\"choropleth\",\"colorbar\":{\"outlinewidth\":0,\"ticks\":\"\"}}],\"histogram2d\":[{\"type\":\"histogram2d\",\"colorbar\":{\"outlinewidth\":0,\"ticks\":\"\"},\"colorscale\":[[0.0,\"#0d0887\"],[0.1111111111111111,\"#46039f\"],[0.2222222222222222,\"#7201a8\"],[0.3333333333333333,\"#9c179e\"],[0.4444444444444444,\"#bd3786\"],[0.5555555555555556,\"#d8576b\"],[0.6666666666666666,\"#ed7953\"],[0.7777777777777778,\"#fb9f3a\"],[0.8888888888888888,\"#fdca26\"],[1.0,\"#f0f921\"]]}],\"heatmap\":[{\"type\":\"heatmap\",\"colorbar\":{\"outlinewidth\":0,\"ticks\":\"\"},\"colorscale\":[[0.0,\"#0d0887\"],[0.1111111111111111,\"#46039f\"],[0.2222222222222222,\"#7201a8\"],[0.3333333333333333,\"#9c179e\"],[0.4444444444444444,\"#bd3786\"],[0.5555555555555556,\"#d8576b\"],[0.6666666666666666,\"#ed7953\"],[0.7777777777777778,\"#fb9f3a\"],[0.8888888888888888,\"#fdca26\"],[1.0,\"#f0f921\"]]}],\"heatmapgl\":[{\"type\":\"heatmapgl\",\"colorbar\":{\"outlinewidth\":0,\"ticks\":\"\"},\"colorscale\":[[0.0,\"#0d0887\"],[0.1111111111111111,\"#46039f\"],[0.2222222222222222,\"#7201a8\"],[0.3333333333333333,\"#9c179e\"],[0.4444444444444444,\"#bd3786\"],[0.5555555555555556,\"#d8576b\"],[0.6666666666666666,\"#ed7953\"],[0.7777777777777778,\"#fb9f3a\"],[0.8888888888888888,\"#fdca26\"],[1.0,\"#f0f921\"]]}],\"contourcarpet\":[{\"type\":\"contourcarpet\",\"colorbar\":{\"outlinewidth\":0,\"ticks\":\"\"}}],\"contour\":[{\"type\":\"contour\",\"colorbar\":{\"outlinewidth\":0,\"ticks\":\"\"},\"colorscale\":[[0.0,\"#0d0887\"],[0.1111111111111111,\"#46039f\"],[0.2222222222222222,\"#7201a8\"],[0.3333333333333333,\"#9c179e\"],[0.4444444444444444,\"#bd3786\"],[0.5555555555555556,\"#d8576b\"],[0.6666666666666666,\"#ed7953\"],[0.7777777777777778,\"#fb9f3a\"],[0.8888888888888888,\"#fdca26\"],[1.0,\"#f0f921\"]]}],\"surface\":[{\"type\":\"surface\",\"colorbar\":{\"outlinewidth\":0,\"ticks\":\"\"},\"colorscale\":[[0.0,\"#0d0887\"],[0.1111111111111111,\"#46039f\"],[0.2222222222222222,\"#7201a8\"],[0.3333333333333333,\"#9c179e\"],[0.4444444444444444,\"#bd3786\"],[0.5555555555555556,\"#d8576b\"],[0.6666666666666666,\"#ed7953\"],[0.7777777777777778,\"#fb9f3a\"],[0.8888888888888888,\"#fdca26\"],[1.0,\"#f0f921\"]]}],\"mesh3d\":[{\"type\":\"mesh3d\",\"colorbar\":{\"outlinewidth\":0,\"ticks\":\"\"}}],\"scatter\":[{\"fillpattern\":{\"fillmode\":\"overlay\",\"size\":10,\"solidity\":0.2},\"type\":\"scatter\"}],\"parcoords\":[{\"type\":\"parcoords\",\"line\":{\"colorbar\":{\"outlinewidth\":0,\"ticks\":\"\"}}}],\"scatterpolargl\":[{\"type\":\"scatterpolargl\",\"marker\":{\"colorbar\":{\"outlinewidth\":0,\"ticks\":\"\"}}}],\"bar\":[{\"error_x\":{\"color\":\"#2a3f5f\"},\"error_y\":{\"color\":\"#2a3f5f\"},\"marker\":{\"line\":{\"color\":\"#E5ECF6\",\"width\":0.5},\"pattern\":{\"fillmode\":\"overlay\",\"size\":10,\"solidity\":0.2}},\"type\":\"bar\"}],\"scattergeo\":[{\"type\":\"scattergeo\",\"marker\":{\"colorbar\":{\"outlinewidth\":0,\"ticks\":\"\"}}}],\"scatterpolar\":[{\"type\":\"scatterpolar\",\"marker\":{\"colorbar\":{\"outlinewidth\":0,\"ticks\":\"\"}}}],\"histogram\":[{\"marker\":{\"pattern\":{\"fillmode\":\"overlay\",\"size\":10,\"solidity\":0.2}},\"type\":\"histogram\"}],\"scattergl\":[{\"type\":\"scattergl\",\"marker\":{\"colorbar\":{\"outlinewidth\":0,\"ticks\":\"\"}}}],\"scatter3d\":[{\"type\":\"scatter3d\",\"line\":{\"colorbar\":{\"outlinewidth\":0,\"ticks\":\"\"}},\"marker\":{\"colorbar\":{\"outlinewidth\":0,\"ticks\":\"\"}}}],\"scattermapbox\":[{\"type\":\"scattermapbox\",\"marker\":{\"colorbar\":{\"outlinewidth\":0,\"ticks\":\"\"}}}],\"scatterternary\":[{\"type\":\"scatterternary\",\"marker\":{\"colorbar\":{\"outlinewidth\":0,\"ticks\":\"\"}}}],\"scattercarpet\":[{\"type\":\"scattercarpet\",\"marker\":{\"colorbar\":{\"outlinewidth\":0,\"ticks\":\"\"}}}],\"carpet\":[{\"aaxis\":{\"endlinecolor\":\"#2a3f5f\",\"gridcolor\":\"white\",\"linecolor\":\"white\",\"minorgridcolor\":\"white\",\"startlinecolor\":\"#2a3f5f\"},\"baxis\":{\"endlinecolor\":\"#2a3f5f\",\"gridcolor\":\"white\",\"linecolor\":\"white\",\"minorgridcolor\":\"white\",\"startlinecolor\":\"#2a3f5f\"},\"type\":\"carpet\"}],\"table\":[{\"cells\":{\"fill\":{\"color\":\"#EBF0F8\"},\"line\":{\"color\":\"white\"}},\"header\":{\"fill\":{\"color\":\"#C8D4E3\"},\"line\":{\"color\":\"white\"}},\"type\":\"table\"}],\"barpolar\":[{\"marker\":{\"line\":{\"color\":\"#E5ECF6\",\"width\":0.5},\"pattern\":{\"fillmode\":\"overlay\",\"size\":10,\"solidity\":0.2}},\"type\":\"barpolar\"}],\"pie\":[{\"automargin\":true,\"type\":\"pie\"}]},\"layout\":{\"autotypenumbers\":\"strict\",\"colorway\":[\"#636efa\",\"#EF553B\",\"#00cc96\",\"#ab63fa\",\"#FFA15A\",\"#19d3f3\",\"#FF6692\",\"#B6E880\",\"#FF97FF\",\"#FECB52\"],\"font\":{\"color\":\"#2a3f5f\"},\"hovermode\":\"closest\",\"hoverlabel\":{\"align\":\"left\"},\"paper_bgcolor\":\"white\",\"plot_bgcolor\":\"#E5ECF6\",\"polar\":{\"bgcolor\":\"#E5ECF6\",\"angularaxis\":{\"gridcolor\":\"white\",\"linecolor\":\"white\",\"ticks\":\"\"},\"radialaxis\":{\"gridcolor\":\"white\",\"linecolor\":\"white\",\"ticks\":\"\"}},\"ternary\":{\"bgcolor\":\"#E5ECF6\",\"aaxis\":{\"gridcolor\":\"white\",\"linecolor\":\"white\",\"ticks\":\"\"},\"baxis\":{\"gridcolor\":\"white\",\"linecolor\":\"white\",\"ticks\":\"\"},\"caxis\":{\"gridcolor\":\"white\",\"linecolor\":\"white\",\"ticks\":\"\"}},\"coloraxis\":{\"colorbar\":{\"outlinewidth\":0,\"ticks\":\"\"}},\"colorscale\":{\"sequential\":[[0.0,\"#0d0887\"],[0.1111111111111111,\"#46039f\"],[0.2222222222222222,\"#7201a8\"],[0.3333333333333333,\"#9c179e\"],[0.4444444444444444,\"#bd3786\"],[0.5555555555555556,\"#d8576b\"],[0.6666666666666666,\"#ed7953\"],[0.7777777777777778,\"#fb9f3a\"],[0.8888888888888888,\"#fdca26\"],[1.0,\"#f0f921\"]],\"sequentialminus\":[[0.0,\"#0d0887\"],[0.1111111111111111,\"#46039f\"],[0.2222222222222222,\"#7201a8\"],[0.3333333333333333,\"#9c179e\"],[0.4444444444444444,\"#bd3786\"],[0.5555555555555556,\"#d8576b\"],[0.6666666666666666,\"#ed7953\"],[0.7777777777777778,\"#fb9f3a\"],[0.8888888888888888,\"#fdca26\"],[1.0,\"#f0f921\"]],\"diverging\":[[0,\"#8e0152\"],[0.1,\"#c51b7d\"],[0.2,\"#de77ae\"],[0.3,\"#f1b6da\"],[0.4,\"#fde0ef\"],[0.5,\"#f7f7f7\"],[0.6,\"#e6f5d0\"],[0.7,\"#b8e186\"],[0.8,\"#7fbc41\"],[0.9,\"#4d9221\"],[1,\"#276419\"]]},\"xaxis\":{\"gridcolor\":\"white\",\"linecolor\":\"white\",\"ticks\":\"\",\"title\":{\"standoff\":15},\"zerolinecolor\":\"white\",\"automargin\":true,\"zerolinewidth\":2},\"yaxis\":{\"gridcolor\":\"white\",\"linecolor\":\"white\",\"ticks\":\"\",\"title\":{\"standoff\":15},\"zerolinecolor\":\"white\",\"automargin\":true,\"zerolinewidth\":2},\"scene\":{\"xaxis\":{\"backgroundcolor\":\"#E5ECF6\",\"gridcolor\":\"white\",\"linecolor\":\"white\",\"showbackground\":true,\"ticks\":\"\",\"zerolinecolor\":\"white\",\"gridwidth\":2},\"yaxis\":{\"backgroundcolor\":\"#E5ECF6\",\"gridcolor\":\"white\",\"linecolor\":\"white\",\"showbackground\":true,\"ticks\":\"\",\"zerolinecolor\":\"white\",\"gridwidth\":2},\"zaxis\":{\"backgroundcolor\":\"#E5ECF6\",\"gridcolor\":\"white\",\"linecolor\":\"white\",\"showbackground\":true,\"ticks\":\"\",\"zerolinecolor\":\"white\",\"gridwidth\":2}},\"shapedefaults\":{\"line\":{\"color\":\"#2a3f5f\"}},\"annotationdefaults\":{\"arrowcolor\":\"#2a3f5f\",\"arrowhead\":0,\"arrowwidth\":1},\"geo\":{\"bgcolor\":\"white\",\"landcolor\":\"#E5ECF6\",\"subunitcolor\":\"white\",\"showland\":true,\"showlakes\":true,\"lakecolor\":\"white\"},\"title\":{\"x\":0.05},\"mapbox\":{\"style\":\"light\"}}},\"xaxis\":{\"anchor\":\"y\",\"domain\":[0.0,0.94],\"title\":{\"text\":\"Bins\"}},\"yaxis\":{\"anchor\":\"x\",\"domain\":[0.0,1.0],\"title\":{\"text\":\"Feature Strength\"}},\"yaxis2\":{\"anchor\":\"x\",\"overlaying\":\"y\",\"side\":\"right\",\"title\":{\"text\":\"Average Prediction\"},\"tickformat\":\",.0%\"},\"title\":{\"y\":0.9,\"x\":0.5,\"xanchor\":\"center\",\"yanchor\":\"top\"},\"legend\":{\"bgcolor\":\"rgba(255, 255, 255, 0)\",\"bordercolor\":\"rgba(255, 255, 255, 0)\",\"title\":{\"text\":\"Features: \"}},\"hoverlabel\":{\"font\":{\"size\":16,\"family\":\"Rockwell\"},\"bgcolor\":\"white\",\"namelength\":-1},\"barmode\":\"relative\",\"height\":600,\"showlegend\":false},                        {\"responsive\": true}                    ).then(function(){\n",
       "                            \n",
       "var gd = document.getElementById('c7f8d349-da90-445d-97b9-de9a527c4520');\n",
       "var x = new MutationObserver(function (mutations, observer) {{\n",
       "        var display = window.getComputedStyle(gd).display;\n",
       "        if (!display || display === 'none') {{\n",
       "            console.log([gd, 'removed!']);\n",
       "            Plotly.purge(gd);\n",
       "            observer.disconnect();\n",
       "        }}\n",
       "}});\n",
       "\n",
       "// Listen for the removal of the full notebook cells\n",
       "var notebookContainer = gd.closest('#notebook-container');\n",
       "if (notebookContainer) {{\n",
       "    x.observe(notebookContainer, {childList: true});\n",
       "}}\n",
       "\n",
       "// Listen for the clearing of the current output cell\n",
       "var outputEl = gd.closest('.output');\n",
       "if (outputEl) {{\n",
       "    x.observe(outputEl, {childList: true});\n",
       "}}\n",
       "\n",
       "                        })                };                });            </script>        </div>"
      ]
     },
     "metadata": {},
     "output_type": "display_data"
    }
   ],
   "source": [
    "# plot lift chart with overlaid prediction explanations\n",
    "plot_prediction_explanations_and_lift_chart(melted, project_id, showlegend=False, max_features=6)"
   ]
  },
  {
   "cell_type": "code",
   "execution_count": 163,
   "id": "8d66d897",
   "metadata": {},
   "outputs": [
    {
     "data": {
      "application/vnd.plotly.v1+json": {
       "config": {
        "plotlyServerURL": "https://plot.ly"
       },
       "data": [
        {
         "marker": {
          "color": "Black",
          "size": 6
         },
         "mode": "lines+markers",
         "name": "Average Prediction",
         "type": "scatter",
         "x": [
          "2022-01-01T00:00:00",
          "2022-02-01T00:00:00",
          "2022-03-01T00:00:00",
          "2022-04-01T00:00:00",
          "2022-05-01T00:00:00",
          "2022-06-01T00:00:00",
          "2022-07-01T00:00:00",
          "2022-08-01T00:00:00"
         ],
         "xaxis": "x",
         "y": [
          0.14486344657096775,
          0.07047771746379311,
          0.10054450566435644,
          0.05143828875071429,
          0.08141408267241379,
          0.06803271496846847,
          0.07510471455538462,
          0.05818064696355141
         ],
         "yaxis": "y2"
        },
        {
         "customdata": [
          [
           12,
           1.9897008899000002,
           "Customers[Contract_Duration] (5 years most frequent)"
          ],
          [
           18,
           -1.3934759396999998,
           "Customers[Contract_Duration] (5 years most frequent)"
          ],
          [
           12,
           0.42527667280000025,
           "Customers[Contract_Duration] (5 years most frequent)"
          ],
          [
           12,
           -3.6268447539999995,
           "Customers[Contract_Duration] (5 years most frequent)"
          ],
          [
           18,
           -2.5432839551999997,
           "Customers[Contract_Duration] (5 years most frequent)"
          ],
          [
           12,
           1.3207562927000003,
           "Customers[Contract_Duration] (5 years most frequent)"
          ],
          [
           24,
           -2.2611621869,
           "Customers[Contract_Duration] (5 years most frequent)"
          ],
          [
           12,
           0.01066047120000016,
           "Customers[Contract_Duration] (5 years most frequent)"
          ]
         ],
         "hoverlabel": {
          "align": "left",
          "bgcolor": "white",
          "font": {
           "family": "Rockwell",
           "size": 16
          }
         },
         "hovertemplate": "<br>Period</b>: %{x}<br>Feature</b>: %{customdata[2]}<br>Strength</b>: %{y: .2}<br>Median Value</b>: %{customdata[0]: .3}<extra></extra>",
         "marker": {
          "color": "#636EFA"
         },
         "name": "Customers[Contract_Duration] (5 years most frequent)",
         "opacity": 0.5,
         "type": "bar",
         "x": [
          "2022-01-01T00:00:00",
          "2022-02-01T00:00:00",
          "2022-03-01T00:00:00",
          "2022-04-01T00:00:00",
          "2022-05-01T00:00:00",
          "2022-06-01T00:00:00",
          "2022-07-01T00:00:00",
          "2022-08-01T00:00:00"
         ],
         "y": [
          0.12435630561875001,
          -0.069673796985,
          0.02501627487058825,
          -0.15111853141666665,
          -0.12716419776,
          0.0695134890894737,
          -0.2055601988090909,
          0.0005922484000000089
         ]
        },
        {
         "customdata": [
          [
           1,
           -1.4904006485999999,
           "Customers[Contract_Duration] (5 years unique count)"
          ],
          [
           1,
           -1.7562066514,
           "Customers[Contract_Duration] (5 years unique count)"
          ],
          [
           1,
           -3.0694160324,
           "Customers[Contract_Duration] (5 years unique count)"
          ],
          [
           1,
           -4.086229651,
           "Customers[Contract_Duration] (5 years unique count)"
          ],
          [
           1,
           -2.7995523132,
           "Customers[Contract_Duration] (5 years unique count)"
          ],
          [
           1,
           -6.171477761,
           "Customers[Contract_Duration] (5 years unique count)"
          ],
          [
           2,
           -3.6849993562,
           "Customers[Contract_Duration] (5 years unique count)"
          ],
          [
           1,
           -3.6613798476999997,
           "Customers[Contract_Duration] (5 years unique count)"
          ]
         ],
         "hoverlabel": {
          "align": "left",
          "bgcolor": "white",
          "font": {
           "family": "Rockwell",
           "size": 16
          }
         },
         "hovertemplate": "<br>Period</b>: %{x}<br>Feature</b>: %{customdata[2]}<br>Strength</b>: %{y: .2}<br>Median Value</b>: %{customdata[0]: .3}<extra></extra>",
         "marker": {
          "color": "#EF553B"
         },
         "name": "Customers[Contract_Duration] (5 years unique count)",
         "opacity": 0.5,
         "type": "bar",
         "x": [
          "2022-01-01T00:00:00",
          "2022-02-01T00:00:00",
          "2022-03-01T00:00:00",
          "2022-04-01T00:00:00",
          "2022-05-01T00:00:00",
          "2022-06-01T00:00:00",
          "2022-07-01T00:00:00",
          "2022-08-01T00:00:00"
         ],
         "y": [
          -0.09315004053749999,
          -0.08781033257000001,
          -0.18055388425882352,
          -0.17025956879166668,
          -0.13997761566,
          -0.324814619,
          -0.33499994147272727,
          -0.20340999153888886
         ]
        },
        {
         "customdata": [
          [
           "other",
           -0.9522097535,
           "Industry"
          ],
          [
           "energy",
           -1.037562586,
           "Industry"
          ],
          [
           "manufacturing",
           3.3881385621,
           "Industry"
          ],
          [
           "telecom",
           0.18838634869999998,
           "Industry"
          ],
          [
           "manufacturing",
           3.5667199796999998,
           "Industry"
          ],
          [
           "healthcare",
           3.107458601,
           "Industry"
          ],
          [
           "other",
           -0.22014216279999999,
           "Industry"
          ],
          [
           "other",
           1.6331732772,
           "Industry"
          ]
         ],
         "hoverlabel": {
          "align": "left",
          "bgcolor": "white",
          "font": {
           "family": "Rockwell",
           "size": 16
          }
         },
         "hovertemplate": "<br>Period</b>: %{x}<br>Feature</b>: %{customdata[2]}<br>Strength</b>: %{y: .2}<br>Most Frequent Value</b>: %{customdata[0]}<extra></extra>",
         "marker": {
          "color": "#00CC96"
         },
         "name": "Industry",
         "opacity": 0.5,
         "type": "bar",
         "x": [
          "2022-01-01T00:00:00",
          "2022-02-01T00:00:00",
          "2022-03-01T00:00:00",
          "2022-04-01T00:00:00",
          "2022-05-01T00:00:00",
          "2022-06-01T00:00:00",
          "2022-07-01T00:00:00",
          "2022-08-01T00:00:00"
         ],
         "y": [
          -0.05951310959375,
          -0.0518781293,
          0.19930226835882353,
          0.007849431195833333,
          0.178335998985,
          0.1635504526842105,
          -0.020012923890909088,
          0.09073184873333334
         ]
        },
        {
         "customdata": [
          [
           2022,
           4.7385335859,
           "Prediction_Point (Year)"
          ],
          [
           2022,
           5.9417838413,
           "Prediction_Point (Year)"
          ],
          [
           2022,
           5.0365119142,
           "Prediction_Point (Year)"
          ],
          [
           2022,
           7.1084190471,
           "Prediction_Point (Year)"
          ],
          [
           2022,
           5.9463726152,
           "Prediction_Point (Year)"
          ],
          [
           2022,
           5.6696563749,
           "Prediction_Point (Year)"
          ],
          [
           2022,
           3.2638389875000002,
           "Prediction_Point (Year)"
          ],
          [
           2022,
           5.3339852639,
           "Prediction_Point (Year)"
          ]
         ],
         "hoverlabel": {
          "align": "left",
          "bgcolor": "white",
          "font": {
           "family": "Rockwell",
           "size": 16
          }
         },
         "hovertemplate": "<br>Period</b>: %{x}<br>Feature</b>: %{customdata[2]}<br>Strength</b>: %{y: .2}<br>Median Value</b>: %{customdata[0]: .3}<extra></extra>",
         "marker": {
          "color": "#AB63FA"
         },
         "name": "Prediction_Point (Year)",
         "opacity": 0.5,
         "type": "bar",
         "x": [
          "2022-01-01T00:00:00",
          "2022-02-01T00:00:00",
          "2022-03-01T00:00:00",
          "2022-04-01T00:00:00",
          "2022-05-01T00:00:00",
          "2022-06-01T00:00:00",
          "2022-07-01T00:00:00",
          "2022-08-01T00:00:00"
         ],
         "y": [
          0.29615834911875,
          0.297089192065,
          0.29626540671764706,
          0.2961841269625,
          0.29731863076,
          0.29840296709999997,
          0.29671263522727276,
          0.2963325146611111
         ]
        },
        {
         "customdata": [
          [
           7,
           -2.2140411417,
           "Product_Usage (1 month count)"
          ],
          [
           9.5,
           -9.0863320846,
           "Product_Usage (1 month count)"
          ],
          [
           10,
           -5.2740391277,
           "Product_Usage (1 month count)"
          ],
          [
           8,
           -7.6109711102,
           "Product_Usage (1 month count)"
          ],
          [
           7.5,
           -6.9530897686,
           "Product_Usage (1 month count)"
          ],
          [
           8,
           -7.6372916639,
           "Product_Usage (1 month count)"
          ],
          [
           8,
           -3.417276781,
           "Product_Usage (1 month count)"
          ],
          [
           8,
           -5.3230450188,
           "Product_Usage (1 month count)"
          ]
         ],
         "hoverlabel": {
          "align": "left",
          "bgcolor": "white",
          "font": {
           "family": "Rockwell",
           "size": 16
          }
         },
         "hovertemplate": "<br>Period</b>: %{x}<br>Feature</b>: %{customdata[2]}<br>Strength</b>: %{y: .2}<br>Median Value</b>: %{customdata[0]: .3}<extra></extra>",
         "marker": {
          "color": "#FFA15A"
         },
         "name": "Product_Usage (1 month count)",
         "opacity": 0.5,
         "type": "bar",
         "x": [
          "2022-01-01T00:00:00",
          "2022-02-01T00:00:00",
          "2022-03-01T00:00:00",
          "2022-04-01T00:00:00",
          "2022-05-01T00:00:00",
          "2022-06-01T00:00:00",
          "2022-07-01T00:00:00",
          "2022-08-01T00:00:00"
         ],
         "y": [
          -0.13837757135625,
          -0.45431660423000003,
          -0.31023759574705884,
          -0.31712379625833337,
          -0.34765448843,
          -0.4019627191526316,
          -0.31066152554545456,
          -0.29572472326666666
         ]
        },
        {
         "customdata": [
          [
           6.5,
           -3.0815543329,
           "Product_Usage[UserID] (1 month unique count)"
          ],
          [
           8,
           -9.6995749944,
           "Product_Usage[UserID] (1 month unique count)"
          ],
          [
           7,
           -5.8063050706,
           "Product_Usage[UserID] (1 month unique count)"
          ],
          [
           7,
           -8.542667874200001,
           "Product_Usage[UserID] (1 month unique count)"
          ],
          [
           6,
           -6.08451393,
           "Product_Usage[UserID] (1 month unique count)"
          ],
          [
           7,
           -8.329127723100001,
           "Product_Usage[UserID] (1 month unique count)"
          ],
          [
           7,
           -3.2128821113,
           "Product_Usage[UserID] (1 month unique count)"
          ],
          [
           7,
           -5.6977012774,
           "Product_Usage[UserID] (1 month unique count)"
          ]
         ],
         "hoverlabel": {
          "align": "left",
          "bgcolor": "white",
          "font": {
           "family": "Rockwell",
           "size": 16
          }
         },
         "hovertemplate": "<br>Period</b>: %{x}<br>Feature</b>: %{customdata[2]}<br>Strength</b>: %{y: .2}<br>Median Value</b>: %{customdata[0]: .3}<extra></extra>",
         "marker": {
          "color": "#19D3F3"
         },
         "name": "Product_Usage[UserID] (1 month unique count)",
         "opacity": 0.5,
         "type": "bar",
         "x": [
          "2022-01-01T00:00:00",
          "2022-02-01T00:00:00",
          "2022-03-01T00:00:00",
          "2022-04-01T00:00:00",
          "2022-05-01T00:00:00",
          "2022-06-01T00:00:00",
          "2022-07-01T00:00:00",
          "2022-08-01T00:00:00"
         ],
         "y": [
          -0.19259714580625,
          -0.48497874972000005,
          -0.34154735709411765,
          -0.3559444947583334,
          -0.3042256965,
          -0.4383751433210527,
          -0.29208019193636364,
          -0.3165389598555556
         ]
        }
       ],
       "layout": {
        "barmode": "relative",
        "height": 600,
        "hoverlabel": {
         "bgcolor": "white",
         "font": {
          "family": "Rockwell",
          "size": 16
         },
         "namelength": -1
        },
        "legend": {
         "x": 1.1,
         "xanchor": "left",
         "y": 1,
         "yanchor": "top"
        },
        "showlegend": false,
        "template": {
         "data": {
          "bar": [
           {
            "error_x": {
             "color": "#2a3f5f"
            },
            "error_y": {
             "color": "#2a3f5f"
            },
            "marker": {
             "line": {
              "color": "#E5ECF6",
              "width": 0.5
             },
             "pattern": {
              "fillmode": "overlay",
              "size": 10,
              "solidity": 0.2
             }
            },
            "type": "bar"
           }
          ],
          "barpolar": [
           {
            "marker": {
             "line": {
              "color": "#E5ECF6",
              "width": 0.5
             },
             "pattern": {
              "fillmode": "overlay",
              "size": 10,
              "solidity": 0.2
             }
            },
            "type": "barpolar"
           }
          ],
          "carpet": [
           {
            "aaxis": {
             "endlinecolor": "#2a3f5f",
             "gridcolor": "white",
             "linecolor": "white",
             "minorgridcolor": "white",
             "startlinecolor": "#2a3f5f"
            },
            "baxis": {
             "endlinecolor": "#2a3f5f",
             "gridcolor": "white",
             "linecolor": "white",
             "minorgridcolor": "white",
             "startlinecolor": "#2a3f5f"
            },
            "type": "carpet"
           }
          ],
          "choropleth": [
           {
            "colorbar": {
             "outlinewidth": 0,
             "ticks": ""
            },
            "type": "choropleth"
           }
          ],
          "contour": [
           {
            "colorbar": {
             "outlinewidth": 0,
             "ticks": ""
            },
            "colorscale": [
             [
              0,
              "#0d0887"
             ],
             [
              0.1111111111111111,
              "#46039f"
             ],
             [
              0.2222222222222222,
              "#7201a8"
             ],
             [
              0.3333333333333333,
              "#9c179e"
             ],
             [
              0.4444444444444444,
              "#bd3786"
             ],
             [
              0.5555555555555556,
              "#d8576b"
             ],
             [
              0.6666666666666666,
              "#ed7953"
             ],
             [
              0.7777777777777778,
              "#fb9f3a"
             ],
             [
              0.8888888888888888,
              "#fdca26"
             ],
             [
              1,
              "#f0f921"
             ]
            ],
            "type": "contour"
           }
          ],
          "contourcarpet": [
           {
            "colorbar": {
             "outlinewidth": 0,
             "ticks": ""
            },
            "type": "contourcarpet"
           }
          ],
          "heatmap": [
           {
            "colorbar": {
             "outlinewidth": 0,
             "ticks": ""
            },
            "colorscale": [
             [
              0,
              "#0d0887"
             ],
             [
              0.1111111111111111,
              "#46039f"
             ],
             [
              0.2222222222222222,
              "#7201a8"
             ],
             [
              0.3333333333333333,
              "#9c179e"
             ],
             [
              0.4444444444444444,
              "#bd3786"
             ],
             [
              0.5555555555555556,
              "#d8576b"
             ],
             [
              0.6666666666666666,
              "#ed7953"
             ],
             [
              0.7777777777777778,
              "#fb9f3a"
             ],
             [
              0.8888888888888888,
              "#fdca26"
             ],
             [
              1,
              "#f0f921"
             ]
            ],
            "type": "heatmap"
           }
          ],
          "heatmapgl": [
           {
            "colorbar": {
             "outlinewidth": 0,
             "ticks": ""
            },
            "colorscale": [
             [
              0,
              "#0d0887"
             ],
             [
              0.1111111111111111,
              "#46039f"
             ],
             [
              0.2222222222222222,
              "#7201a8"
             ],
             [
              0.3333333333333333,
              "#9c179e"
             ],
             [
              0.4444444444444444,
              "#bd3786"
             ],
             [
              0.5555555555555556,
              "#d8576b"
             ],
             [
              0.6666666666666666,
              "#ed7953"
             ],
             [
              0.7777777777777778,
              "#fb9f3a"
             ],
             [
              0.8888888888888888,
              "#fdca26"
             ],
             [
              1,
              "#f0f921"
             ]
            ],
            "type": "heatmapgl"
           }
          ],
          "histogram": [
           {
            "marker": {
             "pattern": {
              "fillmode": "overlay",
              "size": 10,
              "solidity": 0.2
             }
            },
            "type": "histogram"
           }
          ],
          "histogram2d": [
           {
            "colorbar": {
             "outlinewidth": 0,
             "ticks": ""
            },
            "colorscale": [
             [
              0,
              "#0d0887"
             ],
             [
              0.1111111111111111,
              "#46039f"
             ],
             [
              0.2222222222222222,
              "#7201a8"
             ],
             [
              0.3333333333333333,
              "#9c179e"
             ],
             [
              0.4444444444444444,
              "#bd3786"
             ],
             [
              0.5555555555555556,
              "#d8576b"
             ],
             [
              0.6666666666666666,
              "#ed7953"
             ],
             [
              0.7777777777777778,
              "#fb9f3a"
             ],
             [
              0.8888888888888888,
              "#fdca26"
             ],
             [
              1,
              "#f0f921"
             ]
            ],
            "type": "histogram2d"
           }
          ],
          "histogram2dcontour": [
           {
            "colorbar": {
             "outlinewidth": 0,
             "ticks": ""
            },
            "colorscale": [
             [
              0,
              "#0d0887"
             ],
             [
              0.1111111111111111,
              "#46039f"
             ],
             [
              0.2222222222222222,
              "#7201a8"
             ],
             [
              0.3333333333333333,
              "#9c179e"
             ],
             [
              0.4444444444444444,
              "#bd3786"
             ],
             [
              0.5555555555555556,
              "#d8576b"
             ],
             [
              0.6666666666666666,
              "#ed7953"
             ],
             [
              0.7777777777777778,
              "#fb9f3a"
             ],
             [
              0.8888888888888888,
              "#fdca26"
             ],
             [
              1,
              "#f0f921"
             ]
            ],
            "type": "histogram2dcontour"
           }
          ],
          "mesh3d": [
           {
            "colorbar": {
             "outlinewidth": 0,
             "ticks": ""
            },
            "type": "mesh3d"
           }
          ],
          "parcoords": [
           {
            "line": {
             "colorbar": {
              "outlinewidth": 0,
              "ticks": ""
             }
            },
            "type": "parcoords"
           }
          ],
          "pie": [
           {
            "automargin": true,
            "type": "pie"
           }
          ],
          "scatter": [
           {
            "fillpattern": {
             "fillmode": "overlay",
             "size": 10,
             "solidity": 0.2
            },
            "type": "scatter"
           }
          ],
          "scatter3d": [
           {
            "line": {
             "colorbar": {
              "outlinewidth": 0,
              "ticks": ""
             }
            },
            "marker": {
             "colorbar": {
              "outlinewidth": 0,
              "ticks": ""
             }
            },
            "type": "scatter3d"
           }
          ],
          "scattercarpet": [
           {
            "marker": {
             "colorbar": {
              "outlinewidth": 0,
              "ticks": ""
             }
            },
            "type": "scattercarpet"
           }
          ],
          "scattergeo": [
           {
            "marker": {
             "colorbar": {
              "outlinewidth": 0,
              "ticks": ""
             }
            },
            "type": "scattergeo"
           }
          ],
          "scattergl": [
           {
            "marker": {
             "colorbar": {
              "outlinewidth": 0,
              "ticks": ""
             }
            },
            "type": "scattergl"
           }
          ],
          "scattermapbox": [
           {
            "marker": {
             "colorbar": {
              "outlinewidth": 0,
              "ticks": ""
             }
            },
            "type": "scattermapbox"
           }
          ],
          "scatterpolar": [
           {
            "marker": {
             "colorbar": {
              "outlinewidth": 0,
              "ticks": ""
             }
            },
            "type": "scatterpolar"
           }
          ],
          "scatterpolargl": [
           {
            "marker": {
             "colorbar": {
              "outlinewidth": 0,
              "ticks": ""
             }
            },
            "type": "scatterpolargl"
           }
          ],
          "scatterternary": [
           {
            "marker": {
             "colorbar": {
              "outlinewidth": 0,
              "ticks": ""
             }
            },
            "type": "scatterternary"
           }
          ],
          "surface": [
           {
            "colorbar": {
             "outlinewidth": 0,
             "ticks": ""
            },
            "colorscale": [
             [
              0,
              "#0d0887"
             ],
             [
              0.1111111111111111,
              "#46039f"
             ],
             [
              0.2222222222222222,
              "#7201a8"
             ],
             [
              0.3333333333333333,
              "#9c179e"
             ],
             [
              0.4444444444444444,
              "#bd3786"
             ],
             [
              0.5555555555555556,
              "#d8576b"
             ],
             [
              0.6666666666666666,
              "#ed7953"
             ],
             [
              0.7777777777777778,
              "#fb9f3a"
             ],
             [
              0.8888888888888888,
              "#fdca26"
             ],
             [
              1,
              "#f0f921"
             ]
            ],
            "type": "surface"
           }
          ],
          "table": [
           {
            "cells": {
             "fill": {
              "color": "#EBF0F8"
             },
             "line": {
              "color": "white"
             }
            },
            "header": {
             "fill": {
              "color": "#C8D4E3"
             },
             "line": {
              "color": "white"
             }
            },
            "type": "table"
           }
          ]
         },
         "layout": {
          "annotationdefaults": {
           "arrowcolor": "#2a3f5f",
           "arrowhead": 0,
           "arrowwidth": 1
          },
          "autotypenumbers": "strict",
          "coloraxis": {
           "colorbar": {
            "outlinewidth": 0,
            "ticks": ""
           }
          },
          "colorscale": {
           "diverging": [
            [
             0,
             "#8e0152"
            ],
            [
             0.1,
             "#c51b7d"
            ],
            [
             0.2,
             "#de77ae"
            ],
            [
             0.3,
             "#f1b6da"
            ],
            [
             0.4,
             "#fde0ef"
            ],
            [
             0.5,
             "#f7f7f7"
            ],
            [
             0.6,
             "#e6f5d0"
            ],
            [
             0.7,
             "#b8e186"
            ],
            [
             0.8,
             "#7fbc41"
            ],
            [
             0.9,
             "#4d9221"
            ],
            [
             1,
             "#276419"
            ]
           ],
           "sequential": [
            [
             0,
             "#0d0887"
            ],
            [
             0.1111111111111111,
             "#46039f"
            ],
            [
             0.2222222222222222,
             "#7201a8"
            ],
            [
             0.3333333333333333,
             "#9c179e"
            ],
            [
             0.4444444444444444,
             "#bd3786"
            ],
            [
             0.5555555555555556,
             "#d8576b"
            ],
            [
             0.6666666666666666,
             "#ed7953"
            ],
            [
             0.7777777777777778,
             "#fb9f3a"
            ],
            [
             0.8888888888888888,
             "#fdca26"
            ],
            [
             1,
             "#f0f921"
            ]
           ],
           "sequentialminus": [
            [
             0,
             "#0d0887"
            ],
            [
             0.1111111111111111,
             "#46039f"
            ],
            [
             0.2222222222222222,
             "#7201a8"
            ],
            [
             0.3333333333333333,
             "#9c179e"
            ],
            [
             0.4444444444444444,
             "#bd3786"
            ],
            [
             0.5555555555555556,
             "#d8576b"
            ],
            [
             0.6666666666666666,
             "#ed7953"
            ],
            [
             0.7777777777777778,
             "#fb9f3a"
            ],
            [
             0.8888888888888888,
             "#fdca26"
            ],
            [
             1,
             "#f0f921"
            ]
           ]
          },
          "colorway": [
           "#636efa",
           "#EF553B",
           "#00cc96",
           "#ab63fa",
           "#FFA15A",
           "#19d3f3",
           "#FF6692",
           "#B6E880",
           "#FF97FF",
           "#FECB52"
          ],
          "font": {
           "color": "#2a3f5f"
          },
          "geo": {
           "bgcolor": "white",
           "lakecolor": "white",
           "landcolor": "#E5ECF6",
           "showlakes": true,
           "showland": true,
           "subunitcolor": "white"
          },
          "hoverlabel": {
           "align": "left"
          },
          "hovermode": "closest",
          "mapbox": {
           "style": "light"
          },
          "paper_bgcolor": "white",
          "plot_bgcolor": "#E5ECF6",
          "polar": {
           "angularaxis": {
            "gridcolor": "white",
            "linecolor": "white",
            "ticks": ""
           },
           "bgcolor": "#E5ECF6",
           "radialaxis": {
            "gridcolor": "white",
            "linecolor": "white",
            "ticks": ""
           }
          },
          "scene": {
           "xaxis": {
            "backgroundcolor": "#E5ECF6",
            "gridcolor": "white",
            "gridwidth": 2,
            "linecolor": "white",
            "showbackground": true,
            "ticks": "",
            "zerolinecolor": "white"
           },
           "yaxis": {
            "backgroundcolor": "#E5ECF6",
            "gridcolor": "white",
            "gridwidth": 2,
            "linecolor": "white",
            "showbackground": true,
            "ticks": "",
            "zerolinecolor": "white"
           },
           "zaxis": {
            "backgroundcolor": "#E5ECF6",
            "gridcolor": "white",
            "gridwidth": 2,
            "linecolor": "white",
            "showbackground": true,
            "ticks": "",
            "zerolinecolor": "white"
           }
          },
          "shapedefaults": {
           "line": {
            "color": "#2a3f5f"
           }
          },
          "ternary": {
           "aaxis": {
            "gridcolor": "white",
            "linecolor": "white",
            "ticks": ""
           },
           "baxis": {
            "gridcolor": "white",
            "linecolor": "white",
            "ticks": ""
           },
           "bgcolor": "#E5ECF6",
           "caxis": {
            "gridcolor": "white",
            "linecolor": "white",
            "ticks": ""
           }
          },
          "title": {
           "x": 0.05
          },
          "xaxis": {
           "automargin": true,
           "gridcolor": "white",
           "linecolor": "white",
           "ticks": "",
           "title": {
            "standoff": 15
           },
           "zerolinecolor": "white",
           "zerolinewidth": 2
          },
          "yaxis": {
           "automargin": true,
           "gridcolor": "white",
           "linecolor": "white",
           "ticks": "",
           "title": {
            "standoff": 15
           },
           "zerolinecolor": "white",
           "zerolinewidth": 2
          }
         }
        },
        "xaxis": {
         "anchor": "y",
         "domain": [
          0,
          0.94
         ],
         "title": {
          "text": "Date"
         }
        },
        "yaxis": {
         "anchor": "x",
         "domain": [
          0,
          1
         ],
         "title": {
          "text": "Normalized Feature Strength"
         }
        },
        "yaxis2": {
         "anchor": "x",
         "overlaying": "y",
         "side": "right",
         "tickformat": ",.0%",
         "title": {
          "text": "Average Prediction"
         }
        }
       }
      },
      "text/html": [
       "<div>                            <div id=\"b9eda60d-6829-4b82-aa4d-b88f7f8481d0\" class=\"plotly-graph-div\" style=\"height:600px; width:100%;\"></div>            <script type=\"text/javascript\">                require([\"plotly\"], function(Plotly) {                    window.PLOTLYENV=window.PLOTLYENV || {};                                    if (document.getElementById(\"b9eda60d-6829-4b82-aa4d-b88f7f8481d0\")) {                    Plotly.newPlot(                        \"b9eda60d-6829-4b82-aa4d-b88f7f8481d0\",                        [{\"marker\":{\"color\":\"Black\",\"size\":6},\"mode\":\"lines+markers\",\"name\":\"Average Prediction\",\"x\":[\"2022-01-01T00:00:00\",\"2022-02-01T00:00:00\",\"2022-03-01T00:00:00\",\"2022-04-01T00:00:00\",\"2022-05-01T00:00:00\",\"2022-06-01T00:00:00\",\"2022-07-01T00:00:00\",\"2022-08-01T00:00:00\"],\"y\":[0.14486344657096775,0.07047771746379311,0.10054450566435644,0.05143828875071429,0.08141408267241379,0.06803271496846847,0.07510471455538462,0.05818064696355141],\"type\":\"scatter\",\"xaxis\":\"x\",\"yaxis\":\"y2\"},{\"customdata\":[[12.0,1.9897008899000002,\"Customers[Contract_Duration] (5 years most frequent)\"],[18.0,-1.3934759396999998,\"Customers[Contract_Duration] (5 years most frequent)\"],[12.0,0.42527667280000025,\"Customers[Contract_Duration] (5 years most frequent)\"],[12.0,-3.6268447539999995,\"Customers[Contract_Duration] (5 years most frequent)\"],[18.0,-2.5432839551999997,\"Customers[Contract_Duration] (5 years most frequent)\"],[12.0,1.3207562927000003,\"Customers[Contract_Duration] (5 years most frequent)\"],[24.0,-2.2611621869,\"Customers[Contract_Duration] (5 years most frequent)\"],[12.0,0.01066047120000016,\"Customers[Contract_Duration] (5 years most frequent)\"]],\"hoverlabel\":{\"align\":\"left\",\"bgcolor\":\"white\",\"font\":{\"family\":\"Rockwell\",\"size\":16}},\"hovertemplate\":\"<br>Period</b>: %{x}<br>Feature</b>: %{customdata[2]}<br>Strength</b>: %{y: .2}<br>Median Value</b>: %{customdata[0]: .3}<extra></extra>\",\"marker\":{\"color\":\"#636EFA\"},\"name\":\"Customers[Contract_Duration] (5 years most frequent)\",\"opacity\":0.5,\"x\":[\"2022-01-01T00:00:00\",\"2022-02-01T00:00:00\",\"2022-03-01T00:00:00\",\"2022-04-01T00:00:00\",\"2022-05-01T00:00:00\",\"2022-06-01T00:00:00\",\"2022-07-01T00:00:00\",\"2022-08-01T00:00:00\"],\"y\":[0.12435630561875001,-0.069673796985,0.02501627487058825,-0.15111853141666665,-0.12716419776,0.0695134890894737,-0.2055601988090909,0.0005922484000000089],\"type\":\"bar\"},{\"customdata\":[[1.0,-1.4904006485999999,\"Customers[Contract_Duration] (5 years unique count)\"],[1.0,-1.7562066514,\"Customers[Contract_Duration] (5 years unique count)\"],[1.0,-3.0694160324,\"Customers[Contract_Duration] (5 years unique count)\"],[1.0,-4.086229651,\"Customers[Contract_Duration] (5 years unique count)\"],[1.0,-2.7995523132,\"Customers[Contract_Duration] (5 years unique count)\"],[1.0,-6.171477761,\"Customers[Contract_Duration] (5 years unique count)\"],[2.0,-3.6849993562,\"Customers[Contract_Duration] (5 years unique count)\"],[1.0,-3.6613798476999997,\"Customers[Contract_Duration] (5 years unique count)\"]],\"hoverlabel\":{\"align\":\"left\",\"bgcolor\":\"white\",\"font\":{\"family\":\"Rockwell\",\"size\":16}},\"hovertemplate\":\"<br>Period</b>: %{x}<br>Feature</b>: %{customdata[2]}<br>Strength</b>: %{y: .2}<br>Median Value</b>: %{customdata[0]: .3}<extra></extra>\",\"marker\":{\"color\":\"#EF553B\"},\"name\":\"Customers[Contract_Duration] (5 years unique count)\",\"opacity\":0.5,\"x\":[\"2022-01-01T00:00:00\",\"2022-02-01T00:00:00\",\"2022-03-01T00:00:00\",\"2022-04-01T00:00:00\",\"2022-05-01T00:00:00\",\"2022-06-01T00:00:00\",\"2022-07-01T00:00:00\",\"2022-08-01T00:00:00\"],\"y\":[-0.09315004053749999,-0.08781033257000001,-0.18055388425882352,-0.17025956879166668,-0.13997761566,-0.324814619,-0.33499994147272727,-0.20340999153888886],\"type\":\"bar\"},{\"customdata\":[[\"other\",-0.9522097535,\"Industry\"],[\"energy\",-1.037562586,\"Industry\"],[\"manufacturing\",3.3881385621,\"Industry\"],[\"telecom\",0.18838634869999998,\"Industry\"],[\"manufacturing\",3.5667199796999998,\"Industry\"],[\"healthcare\",3.107458601,\"Industry\"],[\"other\",-0.22014216279999999,\"Industry\"],[\"other\",1.6331732772,\"Industry\"]],\"hoverlabel\":{\"align\":\"left\",\"bgcolor\":\"white\",\"font\":{\"family\":\"Rockwell\",\"size\":16}},\"hovertemplate\":\"<br>Period</b>: %{x}<br>Feature</b>: %{customdata[2]}<br>Strength</b>: %{y: .2}<br>Most Frequent Value</b>: %{customdata[0]}<extra></extra>\",\"marker\":{\"color\":\"#00CC96\"},\"name\":\"Industry\",\"opacity\":0.5,\"x\":[\"2022-01-01T00:00:00\",\"2022-02-01T00:00:00\",\"2022-03-01T00:00:00\",\"2022-04-01T00:00:00\",\"2022-05-01T00:00:00\",\"2022-06-01T00:00:00\",\"2022-07-01T00:00:00\",\"2022-08-01T00:00:00\"],\"y\":[-0.05951310959375,-0.0518781293,0.19930226835882353,0.007849431195833333,0.178335998985,0.1635504526842105,-0.020012923890909088,0.09073184873333334],\"type\":\"bar\"},{\"customdata\":[[2022.0,4.7385335859,\"Prediction_Point (Year)\"],[2022.0,5.9417838413,\"Prediction_Point (Year)\"],[2022.0,5.0365119142,\"Prediction_Point (Year)\"],[2022.0,7.1084190471,\"Prediction_Point (Year)\"],[2022.0,5.9463726152,\"Prediction_Point (Year)\"],[2022.0,5.6696563749,\"Prediction_Point (Year)\"],[2022.0,3.2638389875000002,\"Prediction_Point (Year)\"],[2022.0,5.3339852639,\"Prediction_Point (Year)\"]],\"hoverlabel\":{\"align\":\"left\",\"bgcolor\":\"white\",\"font\":{\"family\":\"Rockwell\",\"size\":16}},\"hovertemplate\":\"<br>Period</b>: %{x}<br>Feature</b>: %{customdata[2]}<br>Strength</b>: %{y: .2}<br>Median Value</b>: %{customdata[0]: .3}<extra></extra>\",\"marker\":{\"color\":\"#AB63FA\"},\"name\":\"Prediction_Point (Year)\",\"opacity\":0.5,\"x\":[\"2022-01-01T00:00:00\",\"2022-02-01T00:00:00\",\"2022-03-01T00:00:00\",\"2022-04-01T00:00:00\",\"2022-05-01T00:00:00\",\"2022-06-01T00:00:00\",\"2022-07-01T00:00:00\",\"2022-08-01T00:00:00\"],\"y\":[0.29615834911875,0.297089192065,0.29626540671764706,0.2961841269625,0.29731863076,0.29840296709999997,0.29671263522727276,0.2963325146611111],\"type\":\"bar\"},{\"customdata\":[[7.0,-2.2140411417,\"Product_Usage (1 month count)\"],[9.5,-9.0863320846,\"Product_Usage (1 month count)\"],[10.0,-5.2740391277,\"Product_Usage (1 month count)\"],[8.0,-7.6109711102,\"Product_Usage (1 month count)\"],[7.5,-6.9530897686,\"Product_Usage (1 month count)\"],[8.0,-7.6372916639,\"Product_Usage (1 month count)\"],[8.0,-3.417276781,\"Product_Usage (1 month count)\"],[8.0,-5.3230450188,\"Product_Usage (1 month count)\"]],\"hoverlabel\":{\"align\":\"left\",\"bgcolor\":\"white\",\"font\":{\"family\":\"Rockwell\",\"size\":16}},\"hovertemplate\":\"<br>Period</b>: %{x}<br>Feature</b>: %{customdata[2]}<br>Strength</b>: %{y: .2}<br>Median Value</b>: %{customdata[0]: .3}<extra></extra>\",\"marker\":{\"color\":\"#FFA15A\"},\"name\":\"Product_Usage (1 month count)\",\"opacity\":0.5,\"x\":[\"2022-01-01T00:00:00\",\"2022-02-01T00:00:00\",\"2022-03-01T00:00:00\",\"2022-04-01T00:00:00\",\"2022-05-01T00:00:00\",\"2022-06-01T00:00:00\",\"2022-07-01T00:00:00\",\"2022-08-01T00:00:00\"],\"y\":[-0.13837757135625,-0.45431660423000003,-0.31023759574705884,-0.31712379625833337,-0.34765448843,-0.4019627191526316,-0.31066152554545456,-0.29572472326666666],\"type\":\"bar\"},{\"customdata\":[[6.5,-3.0815543329,\"Product_Usage[UserID] (1 month unique count)\"],[8.0,-9.6995749944,\"Product_Usage[UserID] (1 month unique count)\"],[7.0,-5.8063050706,\"Product_Usage[UserID] (1 month unique count)\"],[7.0,-8.542667874200001,\"Product_Usage[UserID] (1 month unique count)\"],[6.0,-6.08451393,\"Product_Usage[UserID] (1 month unique count)\"],[7.0,-8.329127723100001,\"Product_Usage[UserID] (1 month unique count)\"],[7.0,-3.2128821113,\"Product_Usage[UserID] (1 month unique count)\"],[7.0,-5.6977012774,\"Product_Usage[UserID] (1 month unique count)\"]],\"hoverlabel\":{\"align\":\"left\",\"bgcolor\":\"white\",\"font\":{\"family\":\"Rockwell\",\"size\":16}},\"hovertemplate\":\"<br>Period</b>: %{x}<br>Feature</b>: %{customdata[2]}<br>Strength</b>: %{y: .2}<br>Median Value</b>: %{customdata[0]: .3}<extra></extra>\",\"marker\":{\"color\":\"#19D3F3\"},\"name\":\"Product_Usage[UserID] (1 month unique count)\",\"opacity\":0.5,\"x\":[\"2022-01-01T00:00:00\",\"2022-02-01T00:00:00\",\"2022-03-01T00:00:00\",\"2022-04-01T00:00:00\",\"2022-05-01T00:00:00\",\"2022-06-01T00:00:00\",\"2022-07-01T00:00:00\",\"2022-08-01T00:00:00\"],\"y\":[-0.19259714580625,-0.48497874972000005,-0.34154735709411765,-0.3559444947583334,-0.3042256965,-0.4383751433210527,-0.29208019193636364,-0.3165389598555556],\"type\":\"bar\"}],                        {\"template\":{\"data\":{\"histogram2dcontour\":[{\"type\":\"histogram2dcontour\",\"colorbar\":{\"outlinewidth\":0,\"ticks\":\"\"},\"colorscale\":[[0.0,\"#0d0887\"],[0.1111111111111111,\"#46039f\"],[0.2222222222222222,\"#7201a8\"],[0.3333333333333333,\"#9c179e\"],[0.4444444444444444,\"#bd3786\"],[0.5555555555555556,\"#d8576b\"],[0.6666666666666666,\"#ed7953\"],[0.7777777777777778,\"#fb9f3a\"],[0.8888888888888888,\"#fdca26\"],[1.0,\"#f0f921\"]]}],\"choropleth\":[{\"type\":\"choropleth\",\"colorbar\":{\"outlinewidth\":0,\"ticks\":\"\"}}],\"histogram2d\":[{\"type\":\"histogram2d\",\"colorbar\":{\"outlinewidth\":0,\"ticks\":\"\"},\"colorscale\":[[0.0,\"#0d0887\"],[0.1111111111111111,\"#46039f\"],[0.2222222222222222,\"#7201a8\"],[0.3333333333333333,\"#9c179e\"],[0.4444444444444444,\"#bd3786\"],[0.5555555555555556,\"#d8576b\"],[0.6666666666666666,\"#ed7953\"],[0.7777777777777778,\"#fb9f3a\"],[0.8888888888888888,\"#fdca26\"],[1.0,\"#f0f921\"]]}],\"heatmap\":[{\"type\":\"heatmap\",\"colorbar\":{\"outlinewidth\":0,\"ticks\":\"\"},\"colorscale\":[[0.0,\"#0d0887\"],[0.1111111111111111,\"#46039f\"],[0.2222222222222222,\"#7201a8\"],[0.3333333333333333,\"#9c179e\"],[0.4444444444444444,\"#bd3786\"],[0.5555555555555556,\"#d8576b\"],[0.6666666666666666,\"#ed7953\"],[0.7777777777777778,\"#fb9f3a\"],[0.8888888888888888,\"#fdca26\"],[1.0,\"#f0f921\"]]}],\"heatmapgl\":[{\"type\":\"heatmapgl\",\"colorbar\":{\"outlinewidth\":0,\"ticks\":\"\"},\"colorscale\":[[0.0,\"#0d0887\"],[0.1111111111111111,\"#46039f\"],[0.2222222222222222,\"#7201a8\"],[0.3333333333333333,\"#9c179e\"],[0.4444444444444444,\"#bd3786\"],[0.5555555555555556,\"#d8576b\"],[0.6666666666666666,\"#ed7953\"],[0.7777777777777778,\"#fb9f3a\"],[0.8888888888888888,\"#fdca26\"],[1.0,\"#f0f921\"]]}],\"contourcarpet\":[{\"type\":\"contourcarpet\",\"colorbar\":{\"outlinewidth\":0,\"ticks\":\"\"}}],\"contour\":[{\"type\":\"contour\",\"colorbar\":{\"outlinewidth\":0,\"ticks\":\"\"},\"colorscale\":[[0.0,\"#0d0887\"],[0.1111111111111111,\"#46039f\"],[0.2222222222222222,\"#7201a8\"],[0.3333333333333333,\"#9c179e\"],[0.4444444444444444,\"#bd3786\"],[0.5555555555555556,\"#d8576b\"],[0.6666666666666666,\"#ed7953\"],[0.7777777777777778,\"#fb9f3a\"],[0.8888888888888888,\"#fdca26\"],[1.0,\"#f0f921\"]]}],\"surface\":[{\"type\":\"surface\",\"colorbar\":{\"outlinewidth\":0,\"ticks\":\"\"},\"colorscale\":[[0.0,\"#0d0887\"],[0.1111111111111111,\"#46039f\"],[0.2222222222222222,\"#7201a8\"],[0.3333333333333333,\"#9c179e\"],[0.4444444444444444,\"#bd3786\"],[0.5555555555555556,\"#d8576b\"],[0.6666666666666666,\"#ed7953\"],[0.7777777777777778,\"#fb9f3a\"],[0.8888888888888888,\"#fdca26\"],[1.0,\"#f0f921\"]]}],\"mesh3d\":[{\"type\":\"mesh3d\",\"colorbar\":{\"outlinewidth\":0,\"ticks\":\"\"}}],\"scatter\":[{\"fillpattern\":{\"fillmode\":\"overlay\",\"size\":10,\"solidity\":0.2},\"type\":\"scatter\"}],\"parcoords\":[{\"type\":\"parcoords\",\"line\":{\"colorbar\":{\"outlinewidth\":0,\"ticks\":\"\"}}}],\"scatterpolargl\":[{\"type\":\"scatterpolargl\",\"marker\":{\"colorbar\":{\"outlinewidth\":0,\"ticks\":\"\"}}}],\"bar\":[{\"error_x\":{\"color\":\"#2a3f5f\"},\"error_y\":{\"color\":\"#2a3f5f\"},\"marker\":{\"line\":{\"color\":\"#E5ECF6\",\"width\":0.5},\"pattern\":{\"fillmode\":\"overlay\",\"size\":10,\"solidity\":0.2}},\"type\":\"bar\"}],\"scattergeo\":[{\"type\":\"scattergeo\",\"marker\":{\"colorbar\":{\"outlinewidth\":0,\"ticks\":\"\"}}}],\"scatterpolar\":[{\"type\":\"scatterpolar\",\"marker\":{\"colorbar\":{\"outlinewidth\":0,\"ticks\":\"\"}}}],\"histogram\":[{\"marker\":{\"pattern\":{\"fillmode\":\"overlay\",\"size\":10,\"solidity\":0.2}},\"type\":\"histogram\"}],\"scattergl\":[{\"type\":\"scattergl\",\"marker\":{\"colorbar\":{\"outlinewidth\":0,\"ticks\":\"\"}}}],\"scatter3d\":[{\"type\":\"scatter3d\",\"line\":{\"colorbar\":{\"outlinewidth\":0,\"ticks\":\"\"}},\"marker\":{\"colorbar\":{\"outlinewidth\":0,\"ticks\":\"\"}}}],\"scattermapbox\":[{\"type\":\"scattermapbox\",\"marker\":{\"colorbar\":{\"outlinewidth\":0,\"ticks\":\"\"}}}],\"scatterternary\":[{\"type\":\"scatterternary\",\"marker\":{\"colorbar\":{\"outlinewidth\":0,\"ticks\":\"\"}}}],\"scattercarpet\":[{\"type\":\"scattercarpet\",\"marker\":{\"colorbar\":{\"outlinewidth\":0,\"ticks\":\"\"}}}],\"carpet\":[{\"aaxis\":{\"endlinecolor\":\"#2a3f5f\",\"gridcolor\":\"white\",\"linecolor\":\"white\",\"minorgridcolor\":\"white\",\"startlinecolor\":\"#2a3f5f\"},\"baxis\":{\"endlinecolor\":\"#2a3f5f\",\"gridcolor\":\"white\",\"linecolor\":\"white\",\"minorgridcolor\":\"white\",\"startlinecolor\":\"#2a3f5f\"},\"type\":\"carpet\"}],\"table\":[{\"cells\":{\"fill\":{\"color\":\"#EBF0F8\"},\"line\":{\"color\":\"white\"}},\"header\":{\"fill\":{\"color\":\"#C8D4E3\"},\"line\":{\"color\":\"white\"}},\"type\":\"table\"}],\"barpolar\":[{\"marker\":{\"line\":{\"color\":\"#E5ECF6\",\"width\":0.5},\"pattern\":{\"fillmode\":\"overlay\",\"size\":10,\"solidity\":0.2}},\"type\":\"barpolar\"}],\"pie\":[{\"automargin\":true,\"type\":\"pie\"}]},\"layout\":{\"autotypenumbers\":\"strict\",\"colorway\":[\"#636efa\",\"#EF553B\",\"#00cc96\",\"#ab63fa\",\"#FFA15A\",\"#19d3f3\",\"#FF6692\",\"#B6E880\",\"#FF97FF\",\"#FECB52\"],\"font\":{\"color\":\"#2a3f5f\"},\"hovermode\":\"closest\",\"hoverlabel\":{\"align\":\"left\"},\"paper_bgcolor\":\"white\",\"plot_bgcolor\":\"#E5ECF6\",\"polar\":{\"bgcolor\":\"#E5ECF6\",\"angularaxis\":{\"gridcolor\":\"white\",\"linecolor\":\"white\",\"ticks\":\"\"},\"radialaxis\":{\"gridcolor\":\"white\",\"linecolor\":\"white\",\"ticks\":\"\"}},\"ternary\":{\"bgcolor\":\"#E5ECF6\",\"aaxis\":{\"gridcolor\":\"white\",\"linecolor\":\"white\",\"ticks\":\"\"},\"baxis\":{\"gridcolor\":\"white\",\"linecolor\":\"white\",\"ticks\":\"\"},\"caxis\":{\"gridcolor\":\"white\",\"linecolor\":\"white\",\"ticks\":\"\"}},\"coloraxis\":{\"colorbar\":{\"outlinewidth\":0,\"ticks\":\"\"}},\"colorscale\":{\"sequential\":[[0.0,\"#0d0887\"],[0.1111111111111111,\"#46039f\"],[0.2222222222222222,\"#7201a8\"],[0.3333333333333333,\"#9c179e\"],[0.4444444444444444,\"#bd3786\"],[0.5555555555555556,\"#d8576b\"],[0.6666666666666666,\"#ed7953\"],[0.7777777777777778,\"#fb9f3a\"],[0.8888888888888888,\"#fdca26\"],[1.0,\"#f0f921\"]],\"sequentialminus\":[[0.0,\"#0d0887\"],[0.1111111111111111,\"#46039f\"],[0.2222222222222222,\"#7201a8\"],[0.3333333333333333,\"#9c179e\"],[0.4444444444444444,\"#bd3786\"],[0.5555555555555556,\"#d8576b\"],[0.6666666666666666,\"#ed7953\"],[0.7777777777777778,\"#fb9f3a\"],[0.8888888888888888,\"#fdca26\"],[1.0,\"#f0f921\"]],\"diverging\":[[0,\"#8e0152\"],[0.1,\"#c51b7d\"],[0.2,\"#de77ae\"],[0.3,\"#f1b6da\"],[0.4,\"#fde0ef\"],[0.5,\"#f7f7f7\"],[0.6,\"#e6f5d0\"],[0.7,\"#b8e186\"],[0.8,\"#7fbc41\"],[0.9,\"#4d9221\"],[1,\"#276419\"]]},\"xaxis\":{\"gridcolor\":\"white\",\"linecolor\":\"white\",\"ticks\":\"\",\"title\":{\"standoff\":15},\"zerolinecolor\":\"white\",\"automargin\":true,\"zerolinewidth\":2},\"yaxis\":{\"gridcolor\":\"white\",\"linecolor\":\"white\",\"ticks\":\"\",\"title\":{\"standoff\":15},\"zerolinecolor\":\"white\",\"automargin\":true,\"zerolinewidth\":2},\"scene\":{\"xaxis\":{\"backgroundcolor\":\"#E5ECF6\",\"gridcolor\":\"white\",\"linecolor\":\"white\",\"showbackground\":true,\"ticks\":\"\",\"zerolinecolor\":\"white\",\"gridwidth\":2},\"yaxis\":{\"backgroundcolor\":\"#E5ECF6\",\"gridcolor\":\"white\",\"linecolor\":\"white\",\"showbackground\":true,\"ticks\":\"\",\"zerolinecolor\":\"white\",\"gridwidth\":2},\"zaxis\":{\"backgroundcolor\":\"#E5ECF6\",\"gridcolor\":\"white\",\"linecolor\":\"white\",\"showbackground\":true,\"ticks\":\"\",\"zerolinecolor\":\"white\",\"gridwidth\":2}},\"shapedefaults\":{\"line\":{\"color\":\"#2a3f5f\"}},\"annotationdefaults\":{\"arrowcolor\":\"#2a3f5f\",\"arrowhead\":0,\"arrowwidth\":1},\"geo\":{\"bgcolor\":\"white\",\"landcolor\":\"#E5ECF6\",\"subunitcolor\":\"white\",\"showland\":true,\"showlakes\":true,\"lakecolor\":\"white\"},\"title\":{\"x\":0.05},\"mapbox\":{\"style\":\"light\"}}},\"xaxis\":{\"anchor\":\"y\",\"domain\":[0.0,0.94],\"title\":{\"text\":\"Date\"}},\"yaxis\":{\"anchor\":\"x\",\"domain\":[0.0,1.0],\"title\":{\"text\":\"Normalized Feature Strength\"}},\"yaxis2\":{\"anchor\":\"x\",\"overlaying\":\"y\",\"side\":\"right\",\"title\":{\"text\":\"Average Prediction\"},\"tickformat\":\",.0%\"},\"barmode\":\"relative\",\"hoverlabel\":{\"font\":{\"size\":16,\"family\":\"Rockwell\"},\"bgcolor\":\"white\",\"namelength\":-1},\"legend\":{\"x\":1.1,\"y\":1,\"xanchor\":\"left\",\"yanchor\":\"top\"},\"showlegend\":false,\"height\":600},                        {\"responsive\": true}                    ).then(function(){\n",
       "                            \n",
       "var gd = document.getElementById('b9eda60d-6829-4b82-aa4d-b88f7f8481d0');\n",
       "var x = new MutationObserver(function (mutations, observer) {{\n",
       "        var display = window.getComputedStyle(gd).display;\n",
       "        if (!display || display === 'none') {{\n",
       "            console.log([gd, 'removed!']);\n",
       "            Plotly.purge(gd);\n",
       "            observer.disconnect();\n",
       "        }}\n",
       "}});\n",
       "\n",
       "// Listen for the removal of the full notebook cells\n",
       "var notebookContainer = gd.closest('#notebook-container');\n",
       "if (notebookContainer) {{\n",
       "    x.observe(notebookContainer, {childList: true});\n",
       "}}\n",
       "\n",
       "// Listen for the clearing of the current output cell\n",
       "var outputEl = gd.closest('.output');\n",
       "if (outputEl) {{\n",
       "    x.observe(outputEl, {childList: true});\n",
       "}}\n",
       "\n",
       "                        })                };                });            </script>        </div>"
      ]
     },
     "metadata": {},
     "output_type": "display_data"
    }
   ],
   "source": [
    "# plot predictions and prediction explanations over time\n",
    "date_col = 'Prediction_Point'\n",
    "prep_and_plot_pe_over_time(melted, project_id, date_col, freq='MS', showlegend=False, max_features=6, height=600)"
   ]
  },
  {
   "cell_type": "markdown",
   "id": "a9fae9fd",
   "metadata": {},
   "source": [
    "### Output pandas df with highlighted prediction explanations"
   ]
  },
  {
   "cell_type": "code",
   "execution_count": 171,
   "id": "4cd0a1ea",
   "metadata": {},
   "outputs": [],
   "source": [
    "cols_to_keep = [\n",
    "    'row_id',\n",
    "    'Customer_Name', \n",
    "    'Customer_Since_Date',\n",
    "    'ARR', \n",
    "    'Contract_Duration', \n",
    "    'Renewal_Date', \n",
    "    'Employee_Count', \n",
    "    'Annual_Revenue', \n",
    "    'Products_Purchased', \n",
    "    'Industry',\n",
    "    'Zip_Code', \n",
    "    'City', \n",
    "    'State', \n",
    "    'Latitude', \n",
    "    'Longitude',\n",
    "    'Customers[Products_Purchased] (latest)',\n",
    "    'Product_Usage[UserID] (1 month unique count)',\n",
    "    'feature_name',\n",
    "    'strength',\n",
    "    'actual_value',\n",
    "]"
   ]
  },
  {
   "cell_type": "code",
   "execution_count": 172,
   "id": "495d38da",
   "metadata": {
    "scrolled": false
   },
   "outputs": [
    {
     "data": {
      "text/html": [
       "<style type=\"text/css\">\n",
       "#T_87c2c_row0_col0, #T_87c2c_row0_col1, #T_87c2c_row0_col4, #T_87c2c_row0_col13, #T_87c2c_row0_col14, #T_87c2c_row1_col0, #T_87c2c_row1_col1, #T_87c2c_row1_col4, #T_87c2c_row1_col6, #T_87c2c_row1_col10, #T_87c2c_row1_col12, #T_87c2c_row1_col14, #T_87c2c_row2_col0, #T_87c2c_row2_col1, #T_87c2c_row2_col2, #T_87c2c_row2_col4, #T_87c2c_row2_col6, #T_87c2c_row2_col9, #T_87c2c_row2_col12, #T_87c2c_row2_col14, #T_87c2c_row3_col0, #T_87c2c_row3_col1, #T_87c2c_row3_col4, #T_87c2c_row3_col8, #T_87c2c_row3_col9, #T_87c2c_row3_col10, #T_87c2c_row3_col14, #T_87c2c_row4_col0, #T_87c2c_row4_col1, #T_87c2c_row4_col4, #T_87c2c_row4_col9, #T_87c2c_row4_col10, #T_87c2c_row4_col14, #T_87c2c_row5_col0, #T_87c2c_row5_col1, #T_87c2c_row5_col4, #T_87c2c_row5_col10, #T_87c2c_row5_col13, #T_87c2c_row5_col14, #T_87c2c_row6_col0, #T_87c2c_row6_col1, #T_87c2c_row6_col4, #T_87c2c_row6_col8, #T_87c2c_row6_col12, #T_87c2c_row6_col14, #T_87c2c_row7_col0, #T_87c2c_row7_col1, #T_87c2c_row7_col4, #T_87c2c_row7_col9, #T_87c2c_row7_col10, #T_87c2c_row7_col12, #T_87c2c_row7_col14, #T_87c2c_row8_col0, #T_87c2c_row8_col1, #T_87c2c_row8_col2, #T_87c2c_row8_col4, #T_87c2c_row8_col10, #T_87c2c_row8_col13, #T_87c2c_row9_col0, #T_87c2c_row9_col1, #T_87c2c_row9_col4, #T_87c2c_row9_col10, #T_87c2c_row9_col12, #T_87c2c_row9_col14, #T_87c2c_row10_col0, #T_87c2c_row10_col1, #T_87c2c_row10_col2, #T_87c2c_row10_col4, #T_87c2c_row10_col10, #T_87c2c_row10_col12, #T_87c2c_row11_col0, #T_87c2c_row11_col1, #T_87c2c_row11_col4, #T_87c2c_row11_col5, #T_87c2c_row11_col10, #T_87c2c_row11_col12, #T_87c2c_row11_col13, #T_87c2c_row12_col0, #T_87c2c_row12_col1, #T_87c2c_row12_col4, #T_87c2c_row12_col12, #T_87c2c_row12_col13, #T_87c2c_row12_col14, #T_87c2c_row13_col0, #T_87c2c_row13_col1, #T_87c2c_row13_col4, #T_87c2c_row13_col10, #T_87c2c_row13_col12, #T_87c2c_row13_col14, #T_87c2c_row14_col0, #T_87c2c_row14_col1, #T_87c2c_row14_col4, #T_87c2c_row14_col10, #T_87c2c_row14_col13, #T_87c2c_row14_col14, #T_87c2c_row15_col0, #T_87c2c_row15_col1, #T_87c2c_row15_col4, #T_87c2c_row15_col10, #T_87c2c_row15_col12, #T_87c2c_row15_col14, #T_87c2c_row16_col0, #T_87c2c_row16_col1, #T_87c2c_row16_col4, #T_87c2c_row16_col11, #T_87c2c_row16_col12, #T_87c2c_row16_col13, #T_87c2c_row16_col14, #T_87c2c_row17_col0, #T_87c2c_row17_col1, #T_87c2c_row17_col2, #T_87c2c_row17_col4, #T_87c2c_row17_col5, #T_87c2c_row17_col14, #T_87c2c_row18_col0, #T_87c2c_row18_col1, #T_87c2c_row18_col2, #T_87c2c_row18_col4, #T_87c2c_row18_col9, #T_87c2c_row18_col10, #T_87c2c_row18_col14, #T_87c2c_row19_col0, #T_87c2c_row19_col1, #T_87c2c_row19_col4, #T_87c2c_row19_col10, #T_87c2c_row19_col13, #T_87c2c_row20_col0, #T_87c2c_row20_col1, #T_87c2c_row20_col4, #T_87c2c_row20_col5, #T_87c2c_row20_col9, #T_87c2c_row20_col10, #T_87c2c_row21_col0, #T_87c2c_row21_col1, #T_87c2c_row21_col4, #T_87c2c_row21_col8, #T_87c2c_row21_col12, #T_87c2c_row21_col13, #T_87c2c_row22_col0, #T_87c2c_row22_col1, #T_87c2c_row22_col4, #T_87c2c_row22_col5, #T_87c2c_row22_col9, #T_87c2c_row22_col14, #T_87c2c_row23_col0, #T_87c2c_row23_col1, #T_87c2c_row23_col2, #T_87c2c_row23_col4, #T_87c2c_row23_col10, #T_87c2c_row24_col0, #T_87c2c_row24_col1, #T_87c2c_row24_col4, #T_87c2c_row24_col10, #T_87c2c_row24_col12, #T_87c2c_row24_col14 {\n",
       "  background-color: #fffdfd;\n",
       "  color: #000000;\n",
       "}\n",
       "#T_87c2c_row0_col2, #T_87c2c_row8_col8, #T_87c2c_row10_col5, #T_87c2c_row13_col8, #T_87c2c_row23_col9 {\n",
       "  background-color: #ddddff;\n",
       "  color: #000000;\n",
       "}\n",
       "#T_87c2c_row0_col3, #T_87c2c_row0_col7, #T_87c2c_row1_col7, #T_87c2c_row2_col7, #T_87c2c_row4_col13, #T_87c2c_row6_col3, #T_87c2c_row6_col7, #T_87c2c_row8_col7, #T_87c2c_row9_col7, #T_87c2c_row11_col2, #T_87c2c_row12_col3, #T_87c2c_row13_col2, #T_87c2c_row13_col7, #T_87c2c_row14_col3, #T_87c2c_row14_col7, #T_87c2c_row16_col3, #T_87c2c_row17_col7, #T_87c2c_row18_col3, #T_87c2c_row18_col7, #T_87c2c_row19_col7, #T_87c2c_row20_col7, #T_87c2c_row21_col9, #T_87c2c_row22_col7, #T_87c2c_row23_col7, #T_87c2c_row24_col3, #T_87c2c_row24_col7 {\n",
       "  background-color: #ffdddd;\n",
       "  color: #000000;\n",
       "}\n",
       "#T_87c2c_row0_col5, #T_87c2c_row2_col10, #T_87c2c_row8_col12, #T_87c2c_row16_col10, #T_87c2c_row17_col13, #T_87c2c_row22_col2 {\n",
       "  background-color: #fff1f1;\n",
       "  color: #000000;\n",
       "}\n",
       "#T_87c2c_row0_col6, #T_87c2c_row1_col5, #T_87c2c_row2_col5, #T_87c2c_row3_col5, #T_87c2c_row3_col12, #T_87c2c_row6_col9, #T_87c2c_row24_col2 {\n",
       "  background-color: #ffeded;\n",
       "  color: #000000;\n",
       "}\n",
       "#T_87c2c_row0_col8, #T_87c2c_row14_col8, #T_87c2c_row23_col15 {\n",
       "  background-color: #ff6161;\n",
       "  color: #f1f1f1;\n",
       "}\n",
       "#T_87c2c_row0_col9, #T_87c2c_row16_col6 {\n",
       "  background-color: #ffa1a1;\n",
       "  color: #000000;\n",
       "}\n",
       "#T_87c2c_row0_col10, #T_87c2c_row14_col6, #T_87c2c_row24_col6 {\n",
       "  background-color: #c5c5ff;\n",
       "  color: #000000;\n",
       "}\n",
       "#T_87c2c_row0_col11 {\n",
       "  background-color: #ffc9c9;\n",
       "  color: #000000;\n",
       "}\n",
       "#T_87c2c_row0_col12, #T_87c2c_row5_col12, #T_87c2c_row13_col6, #T_87c2c_row20_col13 {\n",
       "  background-color: #e1e1ff;\n",
       "  color: #000000;\n",
       "}\n",
       "#T_87c2c_row0_col15, #T_87c2c_row1_col11, #T_87c2c_row7_col13, #T_87c2c_row17_col12 {\n",
       "  background-color: #f1f1ff;\n",
       "  color: #000000;\n",
       "}\n",
       "#T_87c2c_row1_col2, #T_87c2c_row3_col13, #T_87c2c_row6_col2, #T_87c2c_row6_col15, #T_87c2c_row9_col13, #T_87c2c_row13_col5, #T_87c2c_row14_col5, #T_87c2c_row18_col12, #T_87c2c_row21_col2, #T_87c2c_row21_col15 {\n",
       "  background-color: #e9e9ff;\n",
       "  color: #000000;\n",
       "}\n",
       "#T_87c2c_row1_col3, #T_87c2c_row3_col3, #T_87c2c_row4_col3, #T_87c2c_row4_col8, #T_87c2c_row5_col9, #T_87c2c_row9_col8, #T_87c2c_row11_col3, #T_87c2c_row13_col3, #T_87c2c_row17_col3, #T_87c2c_row17_col9, #T_87c2c_row19_col3, #T_87c2c_row20_col8, #T_87c2c_row20_col11, #T_87c2c_row21_col3 {\n",
       "  background-color: #b9b9ff;\n",
       "  color: #000000;\n",
       "}\n",
       "#T_87c2c_row1_col8, #T_87c2c_row16_col8, #T_87c2c_row18_col8 {\n",
       "  background-color: #2d2dff;\n",
       "  color: #f1f1f1;\n",
       "}\n",
       "#T_87c2c_row1_col9, #T_87c2c_row12_col2, #T_87c2c_row15_col13, #T_87c2c_row21_col10, #T_87c2c_row23_col12 {\n",
       "  background-color: #fff5f5;\n",
       "  color: #000000;\n",
       "}\n",
       "#T_87c2c_row1_col13, #T_87c2c_row2_col3, #T_87c2c_row5_col3, #T_87c2c_row6_col13, #T_87c2c_row7_col3, #T_87c2c_row10_col3, #T_87c2c_row10_col6, #T_87c2c_row15_col3, #T_87c2c_row18_col13, #T_87c2c_row20_col3, #T_87c2c_row22_col3, #T_87c2c_row22_col13, #T_87c2c_row23_col3, #T_87c2c_row24_col9, #T_87c2c_row24_col13 {\n",
       "  background-color: #ededff;\n",
       "  color: #000000;\n",
       "}\n",
       "#T_87c2c_row1_col15, #T_87c2c_row24_col11 {\n",
       "  background-color: #9595ff;\n",
       "  color: #f1f1f1;\n",
       "}\n",
       "#T_87c2c_row2_col8, #T_87c2c_row10_col8, #T_87c2c_row12_col8, #T_87c2c_row17_col8, #T_87c2c_row22_col8 {\n",
       "  background-color: #800000;\n",
       "  color: #f1f1f1;\n",
       "}\n",
       "#T_87c2c_row2_col11, #T_87c2c_row9_col6 {\n",
       "  background-color: #ff7979;\n",
       "  color: #f1f1f1;\n",
       "}\n",
       "#T_87c2c_row2_col13 {\n",
       "  background-color: #ffc1c1;\n",
       "  color: #000000;\n",
       "}\n",
       "#T_87c2c_row2_col15, #T_87c2c_row15_col15, #T_87c2c_row18_col15, #T_87c2c_row23_col6 {\n",
       "  background-color: #4141ff;\n",
       "  color: #f1f1f1;\n",
       "}\n",
       "#T_87c2c_row3_col2, #T_87c2c_row7_col2, #T_87c2c_row9_col5, #T_87c2c_row11_col9, #T_87c2c_row19_col9 {\n",
       "  background-color: #ffd5d5;\n",
       "  color: #000000;\n",
       "}\n",
       "#T_87c2c_row3_col6 {\n",
       "  background-color: #ff9595;\n",
       "  color: #000000;\n",
       "}\n",
       "#T_87c2c_row3_col7, #T_87c2c_row4_col7, #T_87c2c_row5_col2, #T_87c2c_row8_col5, #T_87c2c_row10_col13, #T_87c2c_row23_col5 {\n",
       "  background-color: #ffe1e1;\n",
       "  color: #000000;\n",
       "}\n",
       "#T_87c2c_row3_col11 {\n",
       "  background-color: #ff1d1d;\n",
       "  color: #f1f1f1;\n",
       "}\n",
       "#T_87c2c_row3_col15, #T_87c2c_row16_col15 {\n",
       "  background-color: #0000ef;\n",
       "  color: #f1f1f1;\n",
       "}\n",
       "#T_87c2c_row4_col2, #T_87c2c_row9_col3, #T_87c2c_row12_col5, #T_87c2c_row12_col9, #T_87c2c_row13_col13, #T_87c2c_row14_col9, #T_87c2c_row16_col5, #T_87c2c_row20_col2 {\n",
       "  background-color: #ffd9d9;\n",
       "  color: #000000;\n",
       "}\n",
       "#T_87c2c_row4_col5, #T_87c2c_row5_col5, #T_87c2c_row6_col5, #T_87c2c_row17_col6, #T_87c2c_row18_col5, #T_87c2c_row22_col6 {\n",
       "  background-color: #ffe5e5;\n",
       "  color: #000000;\n",
       "}\n",
       "#T_87c2c_row4_col6, #T_87c2c_row5_col11, #T_87c2c_row8_col14, #T_87c2c_row10_col14, #T_87c2c_row11_col14, #T_87c2c_row19_col14, #T_87c2c_row20_col14, #T_87c2c_row21_col14, #T_87c2c_row23_col14 {\n",
       "  background-color: #ffb9b9;\n",
       "  color: #000000;\n",
       "}\n",
       "#T_87c2c_row4_col11, #T_87c2c_row6_col6 {\n",
       "  background-color: #ffadad;\n",
       "  color: #000000;\n",
       "}\n",
       "#T_87c2c_row4_col12, #T_87c2c_row20_col6, #T_87c2c_row22_col10, #T_87c2c_row24_col5 {\n",
       "  background-color: #d5d5ff;\n",
       "  color: #000000;\n",
       "}\n",
       "#T_87c2c_row4_col15, #T_87c2c_row13_col15 {\n",
       "  background-color: #9999ff;\n",
       "  color: #f1f1f1;\n",
       "}\n",
       "#T_87c2c_row5_col6 {\n",
       "  background-color: #ffb5b5;\n",
       "  color: #000000;\n",
       "}\n",
       "#T_87c2c_row5_col7 {\n",
       "  background-color: #7575ff;\n",
       "  color: #f1f1f1;\n",
       "}\n",
       "#T_87c2c_row5_col8, #T_87c2c_row7_col8, #T_87c2c_row15_col2 {\n",
       "  background-color: #d9d9ff;\n",
       "  color: #000000;\n",
       "}\n",
       "#T_87c2c_row5_col15, #T_87c2c_row11_col8, #T_87c2c_row19_col8 {\n",
       "  background-color: #ff5d5d;\n",
       "  color: #f1f1f1;\n",
       "}\n",
       "#T_87c2c_row6_col10, #T_87c2c_row17_col10 {\n",
       "  background-color: #fff9f9;\n",
       "  color: #000000;\n",
       "}\n",
       "#T_87c2c_row6_col11, #T_87c2c_row19_col15, #T_87c2c_row21_col11 {\n",
       "  background-color: #9d9dff;\n",
       "  color: #f1f1f1;\n",
       "}\n",
       "#T_87c2c_row7_col5, #T_87c2c_row16_col2 {\n",
       "  background-color: #bdbdff;\n",
       "  color: #000000;\n",
       "}\n",
       "#T_87c2c_row7_col6 {\n",
       "  background-color: #3535ff;\n",
       "  color: #f1f1f1;\n",
       "}\n",
       "#T_87c2c_row7_col7, #T_87c2c_row10_col7, #T_87c2c_row11_col7, #T_87c2c_row12_col7, #T_87c2c_row15_col7, #T_87c2c_row16_col7, #T_87c2c_row21_col7 {\n",
       "  background-color: #7979ff;\n",
       "  color: #f1f1f1;\n",
       "}\n",
       "#T_87c2c_row7_col11 {\n",
       "  background-color: #a1a1ff;\n",
       "  color: #f1f1f1;\n",
       "}\n",
       "#T_87c2c_row7_col15, #T_87c2c_row8_col15 {\n",
       "  background-color: #00004c;\n",
       "  color: #f1f1f1;\n",
       "}\n",
       "#T_87c2c_row8_col3 {\n",
       "  background-color: #b1b1ff;\n",
       "  color: #000000;\n",
       "}\n",
       "#T_87c2c_row8_col6 {\n",
       "  background-color: #ff7575;\n",
       "  color: #f1f1f1;\n",
       "}\n",
       "#T_87c2c_row8_col9, #T_87c2c_row9_col2, #T_87c2c_row9_col9, #T_87c2c_row19_col2, #T_87c2c_row20_col12, #T_87c2c_row22_col12 {\n",
       "  background-color: #ffe9e9;\n",
       "  color: #000000;\n",
       "}\n",
       "#T_87c2c_row8_col11, #T_87c2c_row17_col11 {\n",
       "  background-color: #ffa9a9;\n",
       "  color: #000000;\n",
       "}\n",
       "#T_87c2c_row9_col11, #T_87c2c_row12_col10, #T_87c2c_row15_col5, #T_87c2c_row19_col6 {\n",
       "  background-color: #c9c9ff;\n",
       "  color: #000000;\n",
       "}\n",
       "#T_87c2c_row9_col15 {\n",
       "  background-color: #9191ff;\n",
       "  color: #f1f1f1;\n",
       "}\n",
       "#T_87c2c_row10_col9, #T_87c2c_row13_col9, #T_87c2c_row15_col9 {\n",
       "  background-color: #c1c1ff;\n",
       "  color: #000000;\n",
       "}\n",
       "#T_87c2c_row10_col11 {\n",
       "  background-color: #7171ff;\n",
       "  color: #f1f1f1;\n",
       "}\n",
       "#T_87c2c_row10_col15, #T_87c2c_row11_col15, #T_87c2c_row20_col15 {\n",
       "  background-color: #000074;\n",
       "  color: #f1f1f1;\n",
       "}\n",
       "#T_87c2c_row11_col6 {\n",
       "  background-color: #b5b5ff;\n",
       "  color: #000000;\n",
       "}\n",
       "#T_87c2c_row11_col11 {\n",
       "  background-color: #ff6565;\n",
       "  color: #f1f1f1;\n",
       "}\n",
       "#T_87c2c_row12_col6 {\n",
       "  background-color: #ffa5a5;\n",
       "  color: #000000;\n",
       "}\n",
       "#T_87c2c_row12_col11 {\n",
       "  background-color: #dc0000;\n",
       "  color: #f1f1f1;\n",
       "}\n",
       "#T_87c2c_row12_col15, #T_87c2c_row17_col15 {\n",
       "  background-color: #ffb1b1;\n",
       "  color: #000000;\n",
       "}\n",
       "#T_87c2c_row13_col11 {\n",
       "  background-color: #ff7171;\n",
       "  color: #f1f1f1;\n",
       "}\n",
       "#T_87c2c_row14_col2 {\n",
       "  background-color: #adadff;\n",
       "  color: #000000;\n",
       "}\n",
       "#T_87c2c_row14_col11 {\n",
       "  background-color: #a9a9ff;\n",
       "  color: #000000;\n",
       "}\n",
       "#T_87c2c_row14_col12, #T_87c2c_row19_col12, #T_87c2c_row23_col13 {\n",
       "  background-color: #e5e5ff;\n",
       "  color: #000000;\n",
       "}\n",
       "#T_87c2c_row14_col15 {\n",
       "  background-color: #ff6969;\n",
       "  color: #f1f1f1;\n",
       "}\n",
       "#T_87c2c_row15_col6 {\n",
       "  background-color: #6565ff;\n",
       "  color: #f1f1f1;\n",
       "}\n",
       "#T_87c2c_row15_col8, #T_87c2c_row19_col5 {\n",
       "  background-color: #f5f5ff;\n",
       "  color: #000000;\n",
       "}\n",
       "#T_87c2c_row15_col11 {\n",
       "  background-color: #6d6dff;\n",
       "  color: #f1f1f1;\n",
       "}\n",
       "#T_87c2c_row16_col9 {\n",
       "  background-color: #ffc5c5;\n",
       "  color: #000000;\n",
       "}\n",
       "#T_87c2c_row18_col6 {\n",
       "  background-color: #ff8181;\n",
       "  color: #f1f1f1;\n",
       "}\n",
       "#T_87c2c_row18_col11 {\n",
       "  background-color: #8d8dff;\n",
       "  color: #f1f1f1;\n",
       "}\n",
       "#T_87c2c_row19_col11, #T_87c2c_row21_col5, #T_87c2c_row23_col8, #T_87c2c_row24_col8 {\n",
       "  background-color: #cdcdff;\n",
       "  color: #000000;\n",
       "}\n",
       "#T_87c2c_row21_col6 {\n",
       "  background-color: #8181ff;\n",
       "  color: #f1f1f1;\n",
       "}\n",
       "#T_87c2c_row22_col11 {\n",
       "  background-color: #5555ff;\n",
       "  color: #f1f1f1;\n",
       "}\n",
       "#T_87c2c_row22_col15 {\n",
       "  background-color: #0000ec;\n",
       "  color: #f1f1f1;\n",
       "}\n",
       "#T_87c2c_row23_col11 {\n",
       "  background-color: #4949ff;\n",
       "  color: #f1f1f1;\n",
       "}\n",
       "#T_87c2c_row24_col15 {\n",
       "  background-color: #ff0909;\n",
       "  color: #f1f1f1;\n",
       "}\n",
       "</style>\n",
       "<table id=\"T_87c2c\">\n",
       "  <thead>\n",
       "    <tr>\n",
       "      <th class=\"blank level0\" >&nbsp;</th>\n",
       "      <th id=\"T_87c2c_level0_col0\" class=\"col_heading level0 col0\" >Customer_Name</th>\n",
       "      <th id=\"T_87c2c_level0_col1\" class=\"col_heading level0 col1\" >Customer_Since_Date</th>\n",
       "      <th id=\"T_87c2c_level0_col2\" class=\"col_heading level0 col2\" >ARR</th>\n",
       "      <th id=\"T_87c2c_level0_col3\" class=\"col_heading level0 col3\" >Contract_Duration</th>\n",
       "      <th id=\"T_87c2c_level0_col4\" class=\"col_heading level0 col4\" >Renewal_Date</th>\n",
       "      <th id=\"T_87c2c_level0_col5\" class=\"col_heading level0 col5\" >Employee_Count</th>\n",
       "      <th id=\"T_87c2c_level0_col6\" class=\"col_heading level0 col6\" >Annual_Revenue</th>\n",
       "      <th id=\"T_87c2c_level0_col7\" class=\"col_heading level0 col7\" >Products_Purchased</th>\n",
       "      <th id=\"T_87c2c_level0_col8\" class=\"col_heading level0 col8\" >Industry</th>\n",
       "      <th id=\"T_87c2c_level0_col9\" class=\"col_heading level0 col9\" >Zip_Code</th>\n",
       "      <th id=\"T_87c2c_level0_col10\" class=\"col_heading level0 col10\" >City</th>\n",
       "      <th id=\"T_87c2c_level0_col11\" class=\"col_heading level0 col11\" >State</th>\n",
       "      <th id=\"T_87c2c_level0_col12\" class=\"col_heading level0 col12\" >Latitude</th>\n",
       "      <th id=\"T_87c2c_level0_col13\" class=\"col_heading level0 col13\" >Longitude</th>\n",
       "      <th id=\"T_87c2c_level0_col14\" class=\"col_heading level0 col14\" >Customers[Products_Purchased] (latest)</th>\n",
       "      <th id=\"T_87c2c_level0_col15\" class=\"col_heading level0 col15\" >Product_Usage[UserID] (1 month unique count)</th>\n",
       "    </tr>\n",
       "    <tr>\n",
       "      <th class=\"index_name level0\" >row_id</th>\n",
       "      <th class=\"blank col0\" >&nbsp;</th>\n",
       "      <th class=\"blank col1\" >&nbsp;</th>\n",
       "      <th class=\"blank col2\" >&nbsp;</th>\n",
       "      <th class=\"blank col3\" >&nbsp;</th>\n",
       "      <th class=\"blank col4\" >&nbsp;</th>\n",
       "      <th class=\"blank col5\" >&nbsp;</th>\n",
       "      <th class=\"blank col6\" >&nbsp;</th>\n",
       "      <th class=\"blank col7\" >&nbsp;</th>\n",
       "      <th class=\"blank col8\" >&nbsp;</th>\n",
       "      <th class=\"blank col9\" >&nbsp;</th>\n",
       "      <th class=\"blank col10\" >&nbsp;</th>\n",
       "      <th class=\"blank col11\" >&nbsp;</th>\n",
       "      <th class=\"blank col12\" >&nbsp;</th>\n",
       "      <th class=\"blank col13\" >&nbsp;</th>\n",
       "      <th class=\"blank col14\" >&nbsp;</th>\n",
       "      <th class=\"blank col15\" >&nbsp;</th>\n",
       "    </tr>\n",
       "  </thead>\n",
       "  <tbody>\n",
       "    <tr>\n",
       "      <th id=\"T_87c2c_level0_row0\" class=\"row_heading level0 row0\" >0</th>\n",
       "      <td id=\"T_87c2c_row0_col0\" class=\"data row0 col0\" >Advanced Galaxy Hill</td>\n",
       "      <td id=\"T_87c2c_row0_col1\" class=\"data row0 col1\" >2015-09-01</td>\n",
       "      <td id=\"T_87c2c_row0_col2\" class=\"data row0 col2\" >231132</td>\n",
       "      <td id=\"T_87c2c_row0_col3\" class=\"data row0 col3\" >12</td>\n",
       "      <td id=\"T_87c2c_row0_col4\" class=\"data row0 col4\" >2022-09-01</td>\n",
       "      <td id=\"T_87c2c_row0_col5\" class=\"data row0 col5\" >34564</td>\n",
       "      <td id=\"T_87c2c_row0_col6\" class=\"data row0 col6\" >3847809710</td>\n",
       "      <td id=\"T_87c2c_row0_col7\" class=\"data row0 col7\" >premium_plus</td>\n",
       "      <td id=\"T_87c2c_row0_col8\" class=\"data row0 col8\" >manufacturing</td>\n",
       "      <td id=\"T_87c2c_row0_col9\" class=\"data row0 col9\" >6607</td>\n",
       "      <td id=\"T_87c2c_row0_col10\" class=\"data row0 col10\" >Bridgeport</td>\n",
       "      <td id=\"T_87c2c_row0_col11\" class=\"data row0 col11\" >CT</td>\n",
       "      <td id=\"T_87c2c_row0_col12\" class=\"data row0 col12\" >41.167041</td>\n",
       "      <td id=\"T_87c2c_row0_col13\" class=\"data row0 col13\" >-73.204835</td>\n",
       "      <td id=\"T_87c2c_row0_col14\" class=\"data row0 col14\" >premium_plus</td>\n",
       "      <td id=\"T_87c2c_row0_col15\" class=\"data row0 col15\" >5.000000</td>\n",
       "    </tr>\n",
       "    <tr>\n",
       "      <th id=\"T_87c2c_level0_row1\" class=\"row_heading level0 row1\" >1</th>\n",
       "      <td id=\"T_87c2c_row1_col0\" class=\"data row1 col0\" >Advanced General Vision</td>\n",
       "      <td id=\"T_87c2c_row1_col1\" class=\"data row1 col1\" >2011-10-01</td>\n",
       "      <td id=\"T_87c2c_row1_col2\" class=\"data row1 col2\" >221127</td>\n",
       "      <td id=\"T_87c2c_row1_col3\" class=\"data row1 col3\" >36</td>\n",
       "      <td id=\"T_87c2c_row1_col4\" class=\"data row1 col4\" >2022-10-01</td>\n",
       "      <td id=\"T_87c2c_row1_col5\" class=\"data row1 col5\" >38328</td>\n",
       "      <td id=\"T_87c2c_row1_col6\" class=\"data row1 col6\" >4402216586</td>\n",
       "      <td id=\"T_87c2c_row1_col7\" class=\"data row1 col7\" >premium_plus</td>\n",
       "      <td id=\"T_87c2c_row1_col8\" class=\"data row1 col8\" >telecom</td>\n",
       "      <td id=\"T_87c2c_row1_col9\" class=\"data row1 col9\" >30521</td>\n",
       "      <td id=\"T_87c2c_row1_col10\" class=\"data row1 col10\" >Carnesville</td>\n",
       "      <td id=\"T_87c2c_row1_col11\" class=\"data row1 col11\" >GA</td>\n",
       "      <td id=\"T_87c2c_row1_col12\" class=\"data row1 col12\" >34.369827</td>\n",
       "      <td id=\"T_87c2c_row1_col13\" class=\"data row1 col13\" >-83.235155</td>\n",
       "      <td id=\"T_87c2c_row1_col14\" class=\"data row1 col14\" >premium_plus</td>\n",
       "      <td id=\"T_87c2c_row1_col15\" class=\"data row1 col15\" >6.000000</td>\n",
       "    </tr>\n",
       "    <tr>\n",
       "      <th id=\"T_87c2c_level0_row2\" class=\"row_heading level0 row2\" >2</th>\n",
       "      <td id=\"T_87c2c_row2_col0\" class=\"data row2 col0\" >Advanced Power Application</td>\n",
       "      <td id=\"T_87c2c_row2_col1\" class=\"data row2 col1\" >2020-01-01</td>\n",
       "      <td id=\"T_87c2c_row2_col2\" class=\"data row2 col2\" >216789</td>\n",
       "      <td id=\"T_87c2c_row2_col3\" class=\"data row2 col3\" >24</td>\n",
       "      <td id=\"T_87c2c_row2_col4\" class=\"data row2 col4\" >2023-01-01</td>\n",
       "      <td id=\"T_87c2c_row2_col5\" class=\"data row2 col5\" >34312</td>\n",
       "      <td id=\"T_87c2c_row2_col6\" class=\"data row2 col6\" >4435330004</td>\n",
       "      <td id=\"T_87c2c_row2_col7\" class=\"data row2 col7\" >premium_plus</td>\n",
       "      <td id=\"T_87c2c_row2_col8\" class=\"data row2 col8\" >banking</td>\n",
       "      <td id=\"T_87c2c_row2_col9\" class=\"data row2 col9\" >67206</td>\n",
       "      <td id=\"T_87c2c_row2_col10\" class=\"data row2 col10\" >Wichita</td>\n",
       "      <td id=\"T_87c2c_row2_col11\" class=\"data row2 col11\" >KS</td>\n",
       "      <td id=\"T_87c2c_row2_col12\" class=\"data row2 col12\" >37.692236</td>\n",
       "      <td id=\"T_87c2c_row2_col13\" class=\"data row2 col13\" >-97.337545</td>\n",
       "      <td id=\"T_87c2c_row2_col14\" class=\"data row2 col14\" >premium_plus</td>\n",
       "      <td id=\"T_87c2c_row2_col15\" class=\"data row2 col15\" >7.000000</td>\n",
       "    </tr>\n",
       "    <tr>\n",
       "      <th id=\"T_87c2c_level0_row3\" class=\"row_heading level0 row3\" >3</th>\n",
       "      <td id=\"T_87c2c_row3_col0\" class=\"data row3 col0\" >Adventure Source</td>\n",
       "      <td id=\"T_87c2c_row3_col1\" class=\"data row3 col1\" >2017-07-01</td>\n",
       "      <td id=\"T_87c2c_row3_col2\" class=\"data row3 col2\" >23349</td>\n",
       "      <td id=\"T_87c2c_row3_col3\" class=\"data row3 col3\" >36</td>\n",
       "      <td id=\"T_87c2c_row3_col4\" class=\"data row3 col4\" >2022-07-01</td>\n",
       "      <td id=\"T_87c2c_row3_col5\" class=\"data row3 col5\" >30461</td>\n",
       "      <td id=\"T_87c2c_row3_col6\" class=\"data row3 col6\" >2090454636</td>\n",
       "      <td id=\"T_87c2c_row3_col7\" class=\"data row3 col7\" >premium_plus</td>\n",
       "      <td id=\"T_87c2c_row3_col8\" class=\"data row3 col8\" >financial services</td>\n",
       "      <td id=\"T_87c2c_row3_col9\" class=\"data row3 col9\" >75790</td>\n",
       "      <td id=\"T_87c2c_row3_col10\" class=\"data row3 col10\" >Van</td>\n",
       "      <td id=\"T_87c2c_row3_col11\" class=\"data row3 col11\" >TX</td>\n",
       "      <td id=\"T_87c2c_row3_col12\" class=\"data row3 col12\" >32.524907</td>\n",
       "      <td id=\"T_87c2c_row3_col13\" class=\"data row3 col13\" >-95.637730</td>\n",
       "      <td id=\"T_87c2c_row3_col14\" class=\"data row3 col14\" >premium_plus</td>\n",
       "      <td id=\"T_87c2c_row3_col15\" class=\"data row3 col15\" >8.000000</td>\n",
       "    </tr>\n",
       "    <tr>\n",
       "      <th id=\"T_87c2c_level0_row4\" class=\"row_heading level0 row4\" >4</th>\n",
       "      <td id=\"T_87c2c_row4_col0\" class=\"data row4 col0\" >Adventure Virtual</td>\n",
       "      <td id=\"T_87c2c_row4_col1\" class=\"data row4 col1\" >2017-12-01</td>\n",
       "      <td id=\"T_87c2c_row4_col2\" class=\"data row4 col2\" >10000</td>\n",
       "      <td id=\"T_87c2c_row4_col3\" class=\"data row4 col3\" >36</td>\n",
       "      <td id=\"T_87c2c_row4_col4\" class=\"data row4 col4\" >2022-12-01</td>\n",
       "      <td id=\"T_87c2c_row4_col5\" class=\"data row4 col5\" >23681</td>\n",
       "      <td id=\"T_87c2c_row4_col6\" class=\"data row4 col6\" >3024094300</td>\n",
       "      <td id=\"T_87c2c_row4_col7\" class=\"data row4 col7\" >business_critical</td>\n",
       "      <td id=\"T_87c2c_row4_col8\" class=\"data row4 col8\" >healthcare</td>\n",
       "      <td id=\"T_87c2c_row4_col9\" class=\"data row4 col9\" >57317</td>\n",
       "      <td id=\"T_87c2c_row4_col10\" class=\"data row4 col10\" >Bonesteel</td>\n",
       "      <td id=\"T_87c2c_row4_col11\" class=\"data row4 col11\" >SD</td>\n",
       "      <td id=\"T_87c2c_row4_col12\" class=\"data row4 col12\" >43.076386</td>\n",
       "      <td id=\"T_87c2c_row4_col13\" class=\"data row4 col13\" >-98.944535</td>\n",
       "      <td id=\"T_87c2c_row4_col14\" class=\"data row4 col14\" >business_critical</td>\n",
       "      <td id=\"T_87c2c_row4_col15\" class=\"data row4 col15\" >6.000000</td>\n",
       "    </tr>\n",
       "    <tr>\n",
       "      <th id=\"T_87c2c_level0_row5\" class=\"row_heading level0 row5\" >5</th>\n",
       "      <td id=\"T_87c2c_row5_col0\" class=\"data row5 col0\" >Analysis Advanced</td>\n",
       "      <td id=\"T_87c2c_row5_col1\" class=\"data row5 col1\" >2014-07-01</td>\n",
       "      <td id=\"T_87c2c_row5_col2\" class=\"data row5 col2\" >53310</td>\n",
       "      <td id=\"T_87c2c_row5_col3\" class=\"data row5 col3\" >24</td>\n",
       "      <td id=\"T_87c2c_row5_col4\" class=\"data row5 col4\" >2022-07-01</td>\n",
       "      <td id=\"T_87c2c_row5_col5\" class=\"data row5 col5\" >23064</td>\n",
       "      <td id=\"T_87c2c_row5_col6\" class=\"data row5 col6\" >2645322253</td>\n",
       "      <td id=\"T_87c2c_row5_col7\" class=\"data row5 col7\" >enterprise</td>\n",
       "      <td id=\"T_87c2c_row5_col8\" class=\"data row5 col8\" >retail</td>\n",
       "      <td id=\"T_87c2c_row5_col9\" class=\"data row5 col9\" >83120</td>\n",
       "      <td id=\"T_87c2c_row5_col10\" class=\"data row5 col10\" >Freedom</td>\n",
       "      <td id=\"T_87c2c_row5_col11\" class=\"data row5 col11\" >WY</td>\n",
       "      <td id=\"T_87c2c_row5_col12\" class=\"data row5 col12\" >42.982664</td>\n",
       "      <td id=\"T_87c2c_row5_col13\" class=\"data row5 col13\" >-111.043899</td>\n",
       "      <td id=\"T_87c2c_row5_col14\" class=\"data row5 col14\" >enterprise</td>\n",
       "      <td id=\"T_87c2c_row5_col15\" class=\"data row5 col15\" >3.000000</td>\n",
       "    </tr>\n",
       "    <tr>\n",
       "      <th id=\"T_87c2c_level0_row6\" class=\"row_heading level0 row6\" >6</th>\n",
       "      <td id=\"T_87c2c_row6_col0\" class=\"data row6 col0\" >Analysis Studio</td>\n",
       "      <td id=\"T_87c2c_row6_col1\" class=\"data row6 col1\" >2016-10-01</td>\n",
       "      <td id=\"T_87c2c_row6_col2\" class=\"data row6 col2\" >221611</td>\n",
       "      <td id=\"T_87c2c_row6_col3\" class=\"data row6 col3\" >12</td>\n",
       "      <td id=\"T_87c2c_row6_col4\" class=\"data row6 col4\" >2022-10-01</td>\n",
       "      <td id=\"T_87c2c_row6_col5\" class=\"data row6 col5\" >28233</td>\n",
       "      <td id=\"T_87c2c_row6_col6\" class=\"data row6 col6\" >1946592209</td>\n",
       "      <td id=\"T_87c2c_row6_col7\" class=\"data row6 col7\" >premium_plus</td>\n",
       "      <td id=\"T_87c2c_row6_col8\" class=\"data row6 col8\" >insurance</td>\n",
       "      <td id=\"T_87c2c_row6_col9\" class=\"data row6 col9\" >26690</td>\n",
       "      <td id=\"T_87c2c_row6_col10\" class=\"data row6 col10\" >Swiss</td>\n",
       "      <td id=\"T_87c2c_row6_col11\" class=\"data row6 col11\" >WV</td>\n",
       "      <td id=\"T_87c2c_row6_col12\" class=\"data row6 col12\" >38.233162</td>\n",
       "      <td id=\"T_87c2c_row6_col13\" class=\"data row6 col13\" >-81.127884</td>\n",
       "      <td id=\"T_87c2c_row6_col14\" class=\"data row6 col14\" >premium_plus</td>\n",
       "      <td id=\"T_87c2c_row6_col15\" class=\"data row6 col15\" >5.000000</td>\n",
       "    </tr>\n",
       "    <tr>\n",
       "      <th id=\"T_87c2c_level0_row7\" class=\"row_heading level0 row7\" >7</th>\n",
       "      <td id=\"T_87c2c_row7_col0\" class=\"data row7 col0\" >Analysis Vision</td>\n",
       "      <td id=\"T_87c2c_row7_col1\" class=\"data row7 col1\" >2019-12-01</td>\n",
       "      <td id=\"T_87c2c_row7_col2\" class=\"data row7 col2\" >50624</td>\n",
       "      <td id=\"T_87c2c_row7_col3\" class=\"data row7 col3\" >24</td>\n",
       "      <td id=\"T_87c2c_row7_col4\" class=\"data row7 col4\" >2022-12-01</td>\n",
       "      <td id=\"T_87c2c_row7_col5\" class=\"data row7 col5\" >94624</td>\n",
       "      <td id=\"T_87c2c_row7_col6\" class=\"data row7 col6\" >11031498441</td>\n",
       "      <td id=\"T_87c2c_row7_col7\" class=\"data row7 col7\" >enterprise</td>\n",
       "      <td id=\"T_87c2c_row7_col8\" class=\"data row7 col8\" >retail</td>\n",
       "      <td id=\"T_87c2c_row7_col9\" class=\"data row7 col9\" >61924</td>\n",
       "      <td id=\"T_87c2c_row7_col10\" class=\"data row7 col10\" >Chrisman</td>\n",
       "      <td id=\"T_87c2c_row7_col11\" class=\"data row7 col11\" >IL</td>\n",
       "      <td id=\"T_87c2c_row7_col12\" class=\"data row7 col12\" >39.803647</td>\n",
       "      <td id=\"T_87c2c_row7_col13\" class=\"data row7 col13\" >-87.673635</td>\n",
       "      <td id=\"T_87c2c_row7_col14\" class=\"data row7 col14\" >enterprise</td>\n",
       "      <td id=\"T_87c2c_row7_col15\" class=\"data row7 col15\" >12.000000</td>\n",
       "    </tr>\n",
       "    <tr>\n",
       "      <th id=\"T_87c2c_level0_row8\" class=\"row_heading level0 row8\" >8</th>\n",
       "      <td id=\"T_87c2c_row8_col0\" class=\"data row8 col0\" >Application Consulting Federated</td>\n",
       "      <td id=\"T_87c2c_row8_col1\" class=\"data row8 col1\" >2019-11-01</td>\n",
       "      <td id=\"T_87c2c_row8_col2\" class=\"data row8 col2\" >97826</td>\n",
       "      <td id=\"T_87c2c_row8_col3\" class=\"data row8 col3\" >36</td>\n",
       "      <td id=\"T_87c2c_row8_col4\" class=\"data row8 col4\" >2022-11-01</td>\n",
       "      <td id=\"T_87c2c_row8_col5\" class=\"data row8 col5\" >478</td>\n",
       "      <td id=\"T_87c2c_row8_col6\" class=\"data row8 col6\" >59689330</td>\n",
       "      <td id=\"T_87c2c_row8_col7\" class=\"data row8 col7\" >business_critical</td>\n",
       "      <td id=\"T_87c2c_row8_col8\" class=\"data row8 col8\" >retail</td>\n",
       "      <td id=\"T_87c2c_row8_col9\" class=\"data row8 col9\" >29112</td>\n",
       "      <td id=\"T_87c2c_row8_col10\" class=\"data row8 col10\" >North</td>\n",
       "      <td id=\"T_87c2c_row8_col11\" class=\"data row8 col11\" >SC</td>\n",
       "      <td id=\"T_87c2c_row8_col12\" class=\"data row8 col12\" >33.615708</td>\n",
       "      <td id=\"T_87c2c_row8_col13\" class=\"data row8 col13\" >-81.102041</td>\n",
       "      <td id=\"T_87c2c_row8_col14\" class=\"data row8 col14\" >nan</td>\n",
       "      <td id=\"T_87c2c_row8_col15\" class=\"data row8 col15\" >13.000000</td>\n",
       "    </tr>\n",
       "    <tr>\n",
       "      <th id=\"T_87c2c_level0_row9\" class=\"row_heading level0 row9\" >9</th>\n",
       "      <td id=\"T_87c2c_row9_col0\" class=\"data row9 col0\" >Application Research Power</td>\n",
       "      <td id=\"T_87c2c_row9_col1\" class=\"data row9 col1\" >2018-08-01</td>\n",
       "      <td id=\"T_87c2c_row9_col2\" class=\"data row9 col2\" >78795</td>\n",
       "      <td id=\"T_87c2c_row9_col3\" class=\"data row9 col3\" >12</td>\n",
       "      <td id=\"T_87c2c_row9_col4\" class=\"data row9 col4\" >2022-08-01</td>\n",
       "      <td id=\"T_87c2c_row9_col5\" class=\"data row9 col5\" >4820</td>\n",
       "      <td id=\"T_87c2c_row9_col6\" class=\"data row9 col6\" >487767662</td>\n",
       "      <td id=\"T_87c2c_row9_col7\" class=\"data row9 col7\" >premium_plus</td>\n",
       "      <td id=\"T_87c2c_row9_col8\" class=\"data row9 col8\" >healthcare</td>\n",
       "      <td id=\"T_87c2c_row9_col9\" class=\"data row9 col9\" >24005</td>\n",
       "      <td id=\"T_87c2c_row9_col10\" class=\"data row9 col10\" >Roanoke</td>\n",
       "      <td id=\"T_87c2c_row9_col11\" class=\"data row9 col11\" >VA</td>\n",
       "      <td id=\"T_87c2c_row9_col12\" class=\"data row9 col12\" >37.270973</td>\n",
       "      <td id=\"T_87c2c_row9_col13\" class=\"data row9 col13\" >-79.941431</td>\n",
       "      <td id=\"T_87c2c_row9_col14\" class=\"data row9 col14\" >premium_plus</td>\n",
       "      <td id=\"T_87c2c_row9_col15\" class=\"data row9 col15\" >6.000000</td>\n",
       "    </tr>\n",
       "    <tr>\n",
       "      <th id=\"T_87c2c_level0_row10\" class=\"row_heading level0 row10\" >10</th>\n",
       "      <td id=\"T_87c2c_row10_col0\" class=\"data row10 col0\" >Application Universal Building</td>\n",
       "      <td id=\"T_87c2c_row10_col1\" class=\"data row10 col1\" >2020-11-01</td>\n",
       "      <td id=\"T_87c2c_row10_col2\" class=\"data row10 col2\" >121938</td>\n",
       "      <td id=\"T_87c2c_row10_col3\" class=\"data row10 col3\" >24</td>\n",
       "      <td id=\"T_87c2c_row10_col4\" class=\"data row10 col4\" >2022-11-01</td>\n",
       "      <td id=\"T_87c2c_row10_col5\" class=\"data row10 col5\" >68456</td>\n",
       "      <td id=\"T_87c2c_row10_col6\" class=\"data row10 col6\" >5472723399</td>\n",
       "      <td id=\"T_87c2c_row10_col7\" class=\"data row10 col7\" >enterprise</td>\n",
       "      <td id=\"T_87c2c_row10_col8\" class=\"data row10 col8\" >banking</td>\n",
       "      <td id=\"T_87c2c_row10_col9\" class=\"data row10 col9\" >81157</td>\n",
       "      <td id=\"T_87c2c_row10_col10\" class=\"data row10 col10\" >Pagosa Springs</td>\n",
       "      <td id=\"T_87c2c_row10_col11\" class=\"data row10 col11\" >CO</td>\n",
       "      <td id=\"T_87c2c_row10_col12\" class=\"data row10 col12\" >37.269566</td>\n",
       "      <td id=\"T_87c2c_row10_col13\" class=\"data row10 col13\" >-107.010816</td>\n",
       "      <td id=\"T_87c2c_row10_col14\" class=\"data row10 col14\" >nan</td>\n",
       "      <td id=\"T_87c2c_row10_col15\" class=\"data row10 col15\" >10.000000</td>\n",
       "    </tr>\n",
       "    <tr>\n",
       "      <th id=\"T_87c2c_level0_row11\" class=\"row_heading level0 row11\" >11</th>\n",
       "      <td id=\"T_87c2c_row11_col0\" class=\"data row11 col0\" >Architecture Alpha North</td>\n",
       "      <td id=\"T_87c2c_row11_col1\" class=\"data row11 col1\" >2019-11-01</td>\n",
       "      <td id=\"T_87c2c_row11_col2\" class=\"data row11 col2\" >53883</td>\n",
       "      <td id=\"T_87c2c_row11_col3\" class=\"data row11 col3\" >36</td>\n",
       "      <td id=\"T_87c2c_row11_col4\" class=\"data row11 col4\" >2022-11-01</td>\n",
       "      <td id=\"T_87c2c_row11_col5\" class=\"data row11 col5\" >87232</td>\n",
       "      <td id=\"T_87c2c_row11_col6\" class=\"data row11 col6\" >7338032164</td>\n",
       "      <td id=\"T_87c2c_row11_col7\" class=\"data row11 col7\" >enterprise</td>\n",
       "      <td id=\"T_87c2c_row11_col8\" class=\"data row11 col8\" >manufacturing</td>\n",
       "      <td id=\"T_87c2c_row11_col9\" class=\"data row11 col9\" >47801</td>\n",
       "      <td id=\"T_87c2c_row11_col10\" class=\"data row11 col10\" >Terre Haute</td>\n",
       "      <td id=\"T_87c2c_row11_col11\" class=\"data row11 col11\" >IN</td>\n",
       "      <td id=\"T_87c2c_row11_col12\" class=\"data row11 col12\" >39.466702</td>\n",
       "      <td id=\"T_87c2c_row11_col13\" class=\"data row11 col13\" >-87.413912</td>\n",
       "      <td id=\"T_87c2c_row11_col14\" class=\"data row11 col14\" >nan</td>\n",
       "      <td id=\"T_87c2c_row11_col15\" class=\"data row11 col15\" >10.000000</td>\n",
       "    </tr>\n",
       "    <tr>\n",
       "      <th id=\"T_87c2c_level0_row12\" class=\"row_heading level0 row12\" >12</th>\n",
       "      <td id=\"T_87c2c_row12_col0\" class=\"data row12 col0\" >Architecture Solutions Digital</td>\n",
       "      <td id=\"T_87c2c_row12_col1\" class=\"data row12 col1\" >2018-02-01</td>\n",
       "      <td id=\"T_87c2c_row12_col2\" class=\"data row12 col2\" >173789</td>\n",
       "      <td id=\"T_87c2c_row12_col3\" class=\"data row12 col3\" >12</td>\n",
       "      <td id=\"T_87c2c_row12_col4\" class=\"data row12 col4\" >2023-02-01</td>\n",
       "      <td id=\"T_87c2c_row12_col5\" class=\"data row12 col5\" >13063</td>\n",
       "      <td id=\"T_87c2c_row12_col6\" class=\"data row12 col6\" >1273545211</td>\n",
       "      <td id=\"T_87c2c_row12_col7\" class=\"data row12 col7\" >enterprise</td>\n",
       "      <td id=\"T_87c2c_row12_col8\" class=\"data row12 col8\" >banking</td>\n",
       "      <td id=\"T_87c2c_row12_col9\" class=\"data row12 col9\" >45217</td>\n",
       "      <td id=\"T_87c2c_row12_col10\" class=\"data row12 col10\" >Cincinnati</td>\n",
       "      <td id=\"T_87c2c_row12_col11\" class=\"data row12 col11\" >OH</td>\n",
       "      <td id=\"T_87c2c_row12_col12\" class=\"data row12 col12\" >39.101454</td>\n",
       "      <td id=\"T_87c2c_row12_col13\" class=\"data row12 col13\" >-84.512460</td>\n",
       "      <td id=\"T_87c2c_row12_col14\" class=\"data row12 col14\" >enterprise</td>\n",
       "      <td id=\"T_87c2c_row12_col15\" class=\"data row12 col15\" >4.000000</td>\n",
       "    </tr>\n",
       "    <tr>\n",
       "      <th id=\"T_87c2c_level0_row13\" class=\"row_heading level0 row13\" >13</th>\n",
       "      <td id=\"T_87c2c_row13_col0\" class=\"data row13 col0\" >Architecture Virtual Max</td>\n",
       "      <td id=\"T_87c2c_row13_col1\" class=\"data row13 col1\" >2011-11-01</td>\n",
       "      <td id=\"T_87c2c_row13_col2\" class=\"data row13 col2\" >54613</td>\n",
       "      <td id=\"T_87c2c_row13_col3\" class=\"data row13 col3\" >36</td>\n",
       "      <td id=\"T_87c2c_row13_col4\" class=\"data row13 col4\" >2022-11-01</td>\n",
       "      <td id=\"T_87c2c_row13_col5\" class=\"data row13 col5\" >69515</td>\n",
       "      <td id=\"T_87c2c_row13_col6\" class=\"data row13 col6\" >6171408713</td>\n",
       "      <td id=\"T_87c2c_row13_col7\" class=\"data row13 col7\" >business_critical</td>\n",
       "      <td id=\"T_87c2c_row13_col8\" class=\"data row13 col8\" >retail</td>\n",
       "      <td id=\"T_87c2c_row13_col9\" class=\"data row13 col9\" >93558</td>\n",
       "      <td id=\"T_87c2c_row13_col10\" class=\"data row13 col10\" >Red Mountain</td>\n",
       "      <td id=\"T_87c2c_row13_col11\" class=\"data row13 col11\" >CA</td>\n",
       "      <td id=\"T_87c2c_row13_col12\" class=\"data row13 col12\" >35.358297</td>\n",
       "      <td id=\"T_87c2c_row13_col13\" class=\"data row13 col13\" >-117.616726</td>\n",
       "      <td id=\"T_87c2c_row13_col14\" class=\"data row13 col14\" >business_critical</td>\n",
       "      <td id=\"T_87c2c_row13_col15\" class=\"data row13 col15\" >6.000000</td>\n",
       "    </tr>\n",
       "    <tr>\n",
       "      <th id=\"T_87c2c_level0_row14\" class=\"row_heading level0 row14\" >14</th>\n",
       "      <td id=\"T_87c2c_row14_col0\" class=\"data row14 col0\" >Atlantic Alpha Construction</td>\n",
       "      <td id=\"T_87c2c_row14_col1\" class=\"data row14 col1\" >2018-02-01</td>\n",
       "      <td id=\"T_87c2c_row14_col2\" class=\"data row14 col2\" >380224</td>\n",
       "      <td id=\"T_87c2c_row14_col3\" class=\"data row14 col3\" >12</td>\n",
       "      <td id=\"T_87c2c_row14_col4\" class=\"data row14 col4\" >2023-02-01</td>\n",
       "      <td id=\"T_87c2c_row14_col5\" class=\"data row14 col5\" >77225</td>\n",
       "      <td id=\"T_87c2c_row14_col6\" class=\"data row14 col6\" >6827585259</td>\n",
       "      <td id=\"T_87c2c_row14_col7\" class=\"data row14 col7\" >business_critical</td>\n",
       "      <td id=\"T_87c2c_row14_col8\" class=\"data row14 col8\" >manufacturing</td>\n",
       "      <td id=\"T_87c2c_row14_col9\" class=\"data row14 col9\" >17959</td>\n",
       "      <td id=\"T_87c2c_row14_col10\" class=\"data row14 col10\" >New Philadelphia</td>\n",
       "      <td id=\"T_87c2c_row14_col11\" class=\"data row14 col11\" >PA</td>\n",
       "      <td id=\"T_87c2c_row14_col12\" class=\"data row14 col12\" >40.719534</td>\n",
       "      <td id=\"T_87c2c_row14_col13\" class=\"data row14 col13\" >-76.115771</td>\n",
       "      <td id=\"T_87c2c_row14_col14\" class=\"data row14 col14\" >business_critical</td>\n",
       "      <td id=\"T_87c2c_row14_col15\" class=\"data row14 col15\" >3.000000</td>\n",
       "    </tr>\n",
       "    <tr>\n",
       "      <th id=\"T_87c2c_level0_row15\" class=\"row_heading level0 row15\" >15</th>\n",
       "      <td id=\"T_87c2c_row15_col0\" class=\"data row15 col0\" >Bell Galaxy General</td>\n",
       "      <td id=\"T_87c2c_row15_col1\" class=\"data row15 col1\" >2017-07-01</td>\n",
       "      <td id=\"T_87c2c_row15_col2\" class=\"data row15 col2\" >233283</td>\n",
       "      <td id=\"T_87c2c_row15_col3\" class=\"data row15 col3\" >24</td>\n",
       "      <td id=\"T_87c2c_row15_col4\" class=\"data row15 col4\" >2022-07-01</td>\n",
       "      <td id=\"T_87c2c_row15_col5\" class=\"data row15 col5\" >85195</td>\n",
       "      <td id=\"T_87c2c_row15_col6\" class=\"data row15 col6\" >10030304795</td>\n",
       "      <td id=\"T_87c2c_row15_col7\" class=\"data row15 col7\" >enterprise</td>\n",
       "      <td id=\"T_87c2c_row15_col8\" class=\"data row15 col8\" >financial services</td>\n",
       "      <td id=\"T_87c2c_row15_col9\" class=\"data row15 col9\" >80814</td>\n",
       "      <td id=\"T_87c2c_row15_col10\" class=\"data row15 col10\" >Divide</td>\n",
       "      <td id=\"T_87c2c_row15_col11\" class=\"data row15 col11\" >CO</td>\n",
       "      <td id=\"T_87c2c_row15_col12\" class=\"data row15 col12\" >38.941936</td>\n",
       "      <td id=\"T_87c2c_row15_col13\" class=\"data row15 col13\" >-105.157209</td>\n",
       "      <td id=\"T_87c2c_row15_col14\" class=\"data row15 col14\" >enterprise</td>\n",
       "      <td id=\"T_87c2c_row15_col15\" class=\"data row15 col15\" >7.000000</td>\n",
       "    </tr>\n",
       "    <tr>\n",
       "      <th id=\"T_87c2c_level0_row16\" class=\"row_heading level0 row16\" >16</th>\n",
       "      <td id=\"T_87c2c_row16_col0\" class=\"data row16 col0\" >Bell Hill Solutions</td>\n",
       "      <td id=\"T_87c2c_row16_col1\" class=\"data row16 col1\" >2019-08-01</td>\n",
       "      <td id=\"T_87c2c_row16_col2\" class=\"data row16 col2\" >335198</td>\n",
       "      <td id=\"T_87c2c_row16_col3\" class=\"data row16 col3\" >12</td>\n",
       "      <td id=\"T_87c2c_row16_col4\" class=\"data row16 col4\" >2022-08-01</td>\n",
       "      <td id=\"T_87c2c_row16_col5\" class=\"data row16 col5\" >12720</td>\n",
       "      <td id=\"T_87c2c_row16_col6\" class=\"data row16 col6\" >1182992443</td>\n",
       "      <td id=\"T_87c2c_row16_col7\" class=\"data row16 col7\" >enterprise</td>\n",
       "      <td id=\"T_87c2c_row16_col8\" class=\"data row16 col8\" >telecom</td>\n",
       "      <td id=\"T_87c2c_row16_col9\" class=\"data row16 col9\" >8757</td>\n",
       "      <td id=\"T_87c2c_row16_col10\" class=\"data row16 col10\" >Toms River</td>\n",
       "      <td id=\"T_87c2c_row16_col11\" class=\"data row16 col11\" >NJ</td>\n",
       "      <td id=\"T_87c2c_row16_col12\" class=\"data row16 col12\" >39.952679</td>\n",
       "      <td id=\"T_87c2c_row16_col13\" class=\"data row16 col13\" >-74.196826</td>\n",
       "      <td id=\"T_87c2c_row16_col14\" class=\"data row16 col14\" >enterprise</td>\n",
       "      <td id=\"T_87c2c_row16_col15\" class=\"data row16 col15\" >8.000000</td>\n",
       "    </tr>\n",
       "    <tr>\n",
       "      <th id=\"T_87c2c_level0_row17\" class=\"row_heading level0 row17\" >17</th>\n",
       "      <td id=\"T_87c2c_row17_col0\" class=\"data row17 col0\" >Building Adventure</td>\n",
       "      <td id=\"T_87c2c_row17_col1\" class=\"data row17 col1\" >2017-11-01</td>\n",
       "      <td id=\"T_87c2c_row17_col2\" class=\"data row17 col2\" >174192</td>\n",
       "      <td id=\"T_87c2c_row17_col3\" class=\"data row17 col3\" >36</td>\n",
       "      <td id=\"T_87c2c_row17_col4\" class=\"data row17 col4\" >2022-11-01</td>\n",
       "      <td id=\"T_87c2c_row17_col5\" class=\"data row17 col5\" >49485</td>\n",
       "      <td id=\"T_87c2c_row17_col6\" class=\"data row17 col6\" >4748068641</td>\n",
       "      <td id=\"T_87c2c_row17_col7\" class=\"data row17 col7\" >premium_plus</td>\n",
       "      <td id=\"T_87c2c_row17_col8\" class=\"data row17 col8\" >banking</td>\n",
       "      <td id=\"T_87c2c_row17_col9\" class=\"data row17 col9\" >83316</td>\n",
       "      <td id=\"T_87c2c_row17_col10\" class=\"data row17 col10\" >Buhl</td>\n",
       "      <td id=\"T_87c2c_row17_col11\" class=\"data row17 col11\" >ID</td>\n",
       "      <td id=\"T_87c2c_row17_col12\" class=\"data row17 col12\" >42.599071</td>\n",
       "      <td id=\"T_87c2c_row17_col13\" class=\"data row17 col13\" >-114.759495</td>\n",
       "      <td id=\"T_87c2c_row17_col14\" class=\"data row17 col14\" >premium_plus</td>\n",
       "      <td id=\"T_87c2c_row17_col15\" class=\"data row17 col15\" >4.000000</td>\n",
       "    </tr>\n",
       "    <tr>\n",
       "      <th id=\"T_87c2c_level0_row18\" class=\"row_heading level0 row18\" >18</th>\n",
       "      <td id=\"T_87c2c_row18_col0\" class=\"data row18 col0\" >Construction Bell Systems</td>\n",
       "      <td id=\"T_87c2c_row18_col1\" class=\"data row18 col1\" >2018-08-01</td>\n",
       "      <td id=\"T_87c2c_row18_col2\" class=\"data row18 col2\" >127023</td>\n",
       "      <td id=\"T_87c2c_row18_col3\" class=\"data row18 col3\" >12</td>\n",
       "      <td id=\"T_87c2c_row18_col4\" class=\"data row18 col4\" >2022-08-01</td>\n",
       "      <td id=\"T_87c2c_row18_col5\" class=\"data row18 col5\" >13560</td>\n",
       "      <td id=\"T_87c2c_row18_col6\" class=\"data row18 col6\" >1548449545</td>\n",
       "      <td id=\"T_87c2c_row18_col7\" class=\"data row18 col7\" >business_critical</td>\n",
       "      <td id=\"T_87c2c_row18_col8\" class=\"data row18 col8\" >telecom</td>\n",
       "      <td id=\"T_87c2c_row18_col9\" class=\"data row18 col9\" >52625</td>\n",
       "      <td id=\"T_87c2c_row18_col10\" class=\"data row18 col10\" >Donnellson</td>\n",
       "      <td id=\"T_87c2c_row18_col11\" class=\"data row18 col11\" >IA</td>\n",
       "      <td id=\"T_87c2c_row18_col12\" class=\"data row18 col12\" >40.642815</td>\n",
       "      <td id=\"T_87c2c_row18_col13\" class=\"data row18 col13\" >-91.564603</td>\n",
       "      <td id=\"T_87c2c_row18_col14\" class=\"data row18 col14\" >business_critical</td>\n",
       "      <td id=\"T_87c2c_row18_col15\" class=\"data row18 col15\" >7.000000</td>\n",
       "    </tr>\n",
       "    <tr>\n",
       "      <th id=\"T_87c2c_level0_row19\" class=\"row_heading level0 row19\" >19</th>\n",
       "      <td id=\"T_87c2c_row19_col0\" class=\"data row19 col0\" >Consulting Analysis Consulting</td>\n",
       "      <td id=\"T_87c2c_row19_col1\" class=\"data row19 col1\" >2019-11-01</td>\n",
       "      <td id=\"T_87c2c_row19_col2\" class=\"data row19 col2\" >94708</td>\n",
       "      <td id=\"T_87c2c_row19_col3\" class=\"data row19 col3\" >36</td>\n",
       "      <td id=\"T_87c2c_row19_col4\" class=\"data row19 col4\" >2022-11-01</td>\n",
       "      <td id=\"T_87c2c_row19_col5\" class=\"data row19 col5\" >73297</td>\n",
       "      <td id=\"T_87c2c_row19_col6\" class=\"data row19 col6\" >6743079229</td>\n",
       "      <td id=\"T_87c2c_row19_col7\" class=\"data row19 col7\" >premium_plus</td>\n",
       "      <td id=\"T_87c2c_row19_col8\" class=\"data row19 col8\" >manufacturing</td>\n",
       "      <td id=\"T_87c2c_row19_col9\" class=\"data row19 col9\" >11717</td>\n",
       "      <td id=\"T_87c2c_row19_col10\" class=\"data row19 col10\" >Brentwood</td>\n",
       "      <td id=\"T_87c2c_row19_col11\" class=\"data row19 col11\" >NY</td>\n",
       "      <td id=\"T_87c2c_row19_col12\" class=\"data row19 col12\" >40.781209</td>\n",
       "      <td id=\"T_87c2c_row19_col13\" class=\"data row19 col13\" >-73.246227</td>\n",
       "      <td id=\"T_87c2c_row19_col14\" class=\"data row19 col14\" >nan</td>\n",
       "      <td id=\"T_87c2c_row19_col15\" class=\"data row19 col15\" >6.000000</td>\n",
       "    </tr>\n",
       "    <tr>\n",
       "      <th id=\"T_87c2c_level0_row20\" class=\"row_heading level0 row20\" >20</th>\n",
       "      <td id=\"T_87c2c_row20_col0\" class=\"data row20 col0\" >Consulting Future</td>\n",
       "      <td id=\"T_87c2c_row20_col1\" class=\"data row20 col1\" >2020-08-01</td>\n",
       "      <td id=\"T_87c2c_row20_col2\" class=\"data row20 col2\" >42823</td>\n",
       "      <td id=\"T_87c2c_row20_col3\" class=\"data row20 col3\" >24</td>\n",
       "      <td id=\"T_87c2c_row20_col4\" class=\"data row20 col4\" >2022-08-01</td>\n",
       "      <td id=\"T_87c2c_row20_col5\" class=\"data row20 col5\" >48676</td>\n",
       "      <td id=\"T_87c2c_row20_col6\" class=\"data row20 col6\" >6225293968</td>\n",
       "      <td id=\"T_87c2c_row20_col7\" class=\"data row20 col7\" >premium_plus</td>\n",
       "      <td id=\"T_87c2c_row20_col8\" class=\"data row20 col8\" >healthcare</td>\n",
       "      <td id=\"T_87c2c_row20_col9\" class=\"data row20 col9\" >39335</td>\n",
       "      <td id=\"T_87c2c_row20_col10\" class=\"data row20 col10\" >Lauderdale</td>\n",
       "      <td id=\"T_87c2c_row20_col11\" class=\"data row20 col11\" >MS</td>\n",
       "      <td id=\"T_87c2c_row20_col12\" class=\"data row20 col12\" >32.390521</td>\n",
       "      <td id=\"T_87c2c_row20_col13\" class=\"data row20 col13\" >-88.689636</td>\n",
       "      <td id=\"T_87c2c_row20_col14\" class=\"data row20 col14\" >nan</td>\n",
       "      <td id=\"T_87c2c_row20_col15\" class=\"data row20 col15\" >10.000000</td>\n",
       "    </tr>\n",
       "    <tr>\n",
       "      <th id=\"T_87c2c_level0_row21\" class=\"row_heading level0 row21\" >21</th>\n",
       "      <td id=\"T_87c2c_row21_col0\" class=\"data row21 col0\" >Consulting Research</td>\n",
       "      <td id=\"T_87c2c_row21_col1\" class=\"data row21 col1\" >2019-07-01</td>\n",
       "      <td id=\"T_87c2c_row21_col2\" class=\"data row21 col2\" >204896</td>\n",
       "      <td id=\"T_87c2c_row21_col3\" class=\"data row21 col3\" >36</td>\n",
       "      <td id=\"T_87c2c_row21_col4\" class=\"data row21 col4\" >2022-07-01</td>\n",
       "      <td id=\"T_87c2c_row21_col5\" class=\"data row21 col5\" >84234</td>\n",
       "      <td id=\"T_87c2c_row21_col6\" class=\"data row21 col6\" >9277175845</td>\n",
       "      <td id=\"T_87c2c_row21_col7\" class=\"data row21 col7\" >enterprise</td>\n",
       "      <td id=\"T_87c2c_row21_col8\" class=\"data row21 col8\" >insurance</td>\n",
       "      <td id=\"T_87c2c_row21_col9\" class=\"data row21 col9\" >26884</td>\n",
       "      <td id=\"T_87c2c_row21_col10\" class=\"data row21 col10\" >Seneca Rocks</td>\n",
       "      <td id=\"T_87c2c_row21_col11\" class=\"data row21 col11\" >WV</td>\n",
       "      <td id=\"T_87c2c_row21_col12\" class=\"data row21 col12\" >38.835784</td>\n",
       "      <td id=\"T_87c2c_row21_col13\" class=\"data row21 col13\" >-79.365631</td>\n",
       "      <td id=\"T_87c2c_row21_col14\" class=\"data row21 col14\" >nan</td>\n",
       "      <td id=\"T_87c2c_row21_col15\" class=\"data row21 col15\" >5.000000</td>\n",
       "    </tr>\n",
       "    <tr>\n",
       "      <th id=\"T_87c2c_level0_row22\" class=\"row_heading level0 row22\" >22</th>\n",
       "      <td id=\"T_87c2c_row22_col0\" class=\"data row22 col0\" >Consulting Solutions Medicine</td>\n",
       "      <td id=\"T_87c2c_row22_col1\" class=\"data row22 col1\" >2019-02-01</td>\n",
       "      <td id=\"T_87c2c_row22_col2\" class=\"data row22 col2\" >99152</td>\n",
       "      <td id=\"T_87c2c_row22_col3\" class=\"data row22 col3\" >24</td>\n",
       "      <td id=\"T_87c2c_row22_col4\" class=\"data row22 col4\" >2023-02-01</td>\n",
       "      <td id=\"T_87c2c_row22_col5\" class=\"data row22 col5\" >35849</td>\n",
       "      <td id=\"T_87c2c_row22_col6\" class=\"data row22 col6\" >3820381418</td>\n",
       "      <td id=\"T_87c2c_row22_col7\" class=\"data row22 col7\" >business_critical</td>\n",
       "      <td id=\"T_87c2c_row22_col8\" class=\"data row22 col8\" >banking</td>\n",
       "      <td id=\"T_87c2c_row22_col9\" class=\"data row22 col9\" >33777</td>\n",
       "      <td id=\"T_87c2c_row22_col10\" class=\"data row22 col10\" >Seminole</td>\n",
       "      <td id=\"T_87c2c_row22_col11\" class=\"data row22 col11\" >FL</td>\n",
       "      <td id=\"T_87c2c_row22_col12\" class=\"data row22 col12\" >28.722583</td>\n",
       "      <td id=\"T_87c2c_row22_col13\" class=\"data row22 col13\" >-81.235368</td>\n",
       "      <td id=\"T_87c2c_row22_col14\" class=\"data row22 col14\" >business_critical</td>\n",
       "      <td id=\"T_87c2c_row22_col15\" class=\"data row22 col15\" >8.000000</td>\n",
       "    </tr>\n",
       "    <tr>\n",
       "      <th id=\"T_87c2c_level0_row23\" class=\"row_heading level0 row23\" >23</th>\n",
       "      <td id=\"T_87c2c_row23_col0\" class=\"data row23 col0\" >Contract Direct Power</td>\n",
       "      <td id=\"T_87c2c_row23_col1\" class=\"data row23 col1\" >2020-08-01</td>\n",
       "      <td id=\"T_87c2c_row23_col2\" class=\"data row23 col2\" >149662</td>\n",
       "      <td id=\"T_87c2c_row23_col3\" class=\"data row23 col3\" >24</td>\n",
       "      <td id=\"T_87c2c_row23_col4\" class=\"data row23 col4\" >2022-08-01</td>\n",
       "      <td id=\"T_87c2c_row23_col5\" class=\"data row23 col5\" >90011</td>\n",
       "      <td id=\"T_87c2c_row23_col6\" class=\"data row23 col6\" >10526376650</td>\n",
       "      <td id=\"T_87c2c_row23_col7\" class=\"data row23 col7\" >premium_plus</td>\n",
       "      <td id=\"T_87c2c_row23_col8\" class=\"data row23 col8\" >energy</td>\n",
       "      <td id=\"T_87c2c_row23_col9\" class=\"data row23 col9\" >71401</td>\n",
       "      <td id=\"T_87c2c_row23_col10\" class=\"data row23 col10\" >Aimwell</td>\n",
       "      <td id=\"T_87c2c_row23_col11\" class=\"data row23 col11\" >LA</td>\n",
       "      <td id=\"T_87c2c_row23_col12\" class=\"data row23 col12\" >31.783501</td>\n",
       "      <td id=\"T_87c2c_row23_col13\" class=\"data row23 col13\" >-91.993466</td>\n",
       "      <td id=\"T_87c2c_row23_col14\" class=\"data row23 col14\" >nan</td>\n",
       "      <td id=\"T_87c2c_row23_col15\" class=\"data row23 col15\" >3.000000</td>\n",
       "    </tr>\n",
       "    <tr>\n",
       "      <th id=\"T_87c2c_level0_row24\" class=\"row_heading level0 row24\" >24</th>\n",
       "      <td id=\"T_87c2c_row24_col0\" class=\"data row24 col0\" >Contract Electronics</td>\n",
       "      <td id=\"T_87c2c_row24_col1\" class=\"data row24 col1\" >2017-08-01</td>\n",
       "      <td id=\"T_87c2c_row24_col2\" class=\"data row24 col2\" >95172</td>\n",
       "      <td id=\"T_87c2c_row24_col3\" class=\"data row24 col3\" >12</td>\n",
       "      <td id=\"T_87c2c_row24_col4\" class=\"data row24 col4\" >2022-08-01</td>\n",
       "      <td id=\"T_87c2c_row24_col5\" class=\"data row24 col5\" >84570</td>\n",
       "      <td id=\"T_87c2c_row24_col6\" class=\"data row24 col6\" >6858473082</td>\n",
       "      <td id=\"T_87c2c_row24_col7\" class=\"data row24 col7\" >premium_plus</td>\n",
       "      <td id=\"T_87c2c_row24_col8\" class=\"data row24 col8\" >energy</td>\n",
       "      <td id=\"T_87c2c_row24_col9\" class=\"data row24 col9\" >62074</td>\n",
       "      <td id=\"T_87c2c_row24_col10\" class=\"data row24 col10\" >New Douglas</td>\n",
       "      <td id=\"T_87c2c_row24_col11\" class=\"data row24 col11\" >IL</td>\n",
       "      <td id=\"T_87c2c_row24_col12\" class=\"data row24 col12\" >38.970046</td>\n",
       "      <td id=\"T_87c2c_row24_col13\" class=\"data row24 col13\" >-89.666479</td>\n",
       "      <td id=\"T_87c2c_row24_col14\" class=\"data row24 col14\" >premium_plus</td>\n",
       "      <td id=\"T_87c2c_row24_col15\" class=\"data row24 col15\" >2.000000</td>\n",
       "    </tr>\n",
       "  </tbody>\n",
       "</table>\n"
      ],
      "text/plain": [
       "<pandas.io.formats.style.Styler at 0x1344c0f10>"
      ]
     },
     "execution_count": 172,
     "metadata": {},
     "output_type": "execute_result"
    }
   ],
   "source": [
    "melted_sample = melted.loc[:, melted.columns.isin(cols_to_keep)]\n",
    "plot_overlaid_prediction_explanations(melted_sample, sample=25)"
   ]
  }
 ],
 "metadata": {
  "kernelspec": {
   "display_name": "medium_env",
   "language": "python",
   "name": "medium_env"
  },
  "language_info": {
   "codemirror_mode": {
    "name": "ipython",
    "version": 3
   },
   "file_extension": ".py",
   "mimetype": "text/x-python",
   "name": "python",
   "nbconvert_exporter": "python",
   "pygments_lexer": "ipython3",
   "version": "3.10.10"
  }
 },
 "nbformat": 4,
 "nbformat_minor": 5
}
